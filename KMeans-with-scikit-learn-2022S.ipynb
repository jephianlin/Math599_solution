{
 "cells": [
  {
   "cell_type": "markdown",
   "metadata": {},
   "source": [
    "# KMeans with scikit learn"
   ]
  },
  {
   "cell_type": "markdown",
   "metadata": {},
   "source": [
    "![Creative Commons License](https://i.creativecommons.org/l/by/4.0/88x31.png)  \n",
    "This work by Jephian Lin is licensed under a [Creative Commons Attribution 4.0 International License](http://creativecommons.org/licenses/by/4.0/)."
   ]
  },
  {
   "cell_type": "code",
   "execution_count": null,
   "metadata": {},
   "outputs": [],
   "source": [
    "import os\n",
    "os.environ[\"MKL_NUM_THREADS\"] = \"1\" \n",
    "os.environ[\"NUMEXPR_NUM_THREADS\"] = \"1\" \n",
    "os.environ[\"OMP_NUM_THREADS\"] = \"1\" \n",
    "\n",
    "import numpy as np\n",
    "import matplotlib.pyplot as plt"
   ]
  },
  {
   "cell_type": "markdown",
   "metadata": {},
   "source": [
    "## Code\n",
    "```python\n",
    "from sklearn.cluster import KMeans\n",
    "model = KMeans(<parameters>)\n",
    "y_new = model.fit_predict(X)\n",
    "```\n",
    "\n",
    "[Official Reference](https://scikit-learn.org/stable/modules/generated/sklearn.cluster.KMeans.html)"
   ]
  },
  {
   "cell_type": "markdown",
   "metadata": {},
   "source": [
    "## Parameters\n",
    "- `n_clusters`: number of clusters\n",
    "- `init`: `\"k-means++\"`, `\"random\"`, or an array of shape `(n_clusters, n_features)`\n",
    "- `n_init`: the function will run the $k$-means algorithm `n_init` times to get a best performance"
   ]
  },
  {
   "cell_type": "markdown",
   "metadata": {},
   "source": [
    "## Attributes\n",
    "- `cluster_centers_`: an array of shape `(n_clusters, n_features)` whose rows are the cluster centers\n",
    "- `labels_`: labels of each point, the predict of the original data\n",
    "- `inertia_`: $\\sum_{i,j} \\|{\\bf x}_i - \\mu_j\\|^2$ where the summation runs through all pairs $(i,j)$ such that ${\\bf x}_i$ is in the $j$-th cluster with center $\\mu_j$."
   ]
  },
  {
   "cell_type": "markdown",
   "metadata": {},
   "source": [
    "## Sample data"
   ]
  },
  {
   "cell_type": "markdown",
   "metadata": {},
   "source": [
    "##### Exercise 1\n",
    "Let  \n",
    "```python\n",
    "mu1 = np.array([2.5,0])\n",
    "cov1 = np.array([[1.1,-1],\n",
    "                [-1,1.1]])\n",
    "mu2 = np.array([-2.5,0])\n",
    "cov2 = np.array([[1.1,1],\n",
    "                [1,1.1]])\n",
    "X = np.vstack([np.random.multivariate_normal(mu1, cov1, 100), \n",
    "               np.random.multivariate_normal(mu2, cov2, 100)])\n",
    "```"
   ]
  },
  {
   "cell_type": "markdown",
   "metadata": {},
   "source": [
    "###### 1(a)\n",
    "Apply the $k$-means algorithm to `X` with $k=2$ and get the prediction `y_new` .  \n",
    "Plot the points (rows) in `X` with `c=y_new` .  \n",
    "Print `model.inertia_` ."
   ]
  },
  {
   "cell_type": "code",
   "execution_count": null,
   "metadata": {},
   "outputs": [],
   "source": [
    "### your answer here\n",
    "mu1 = np.array([2.5,0]) ### mu#: mean, 1-D array_like, of length N\n",
    "cov1 = np.array([[1.1,-1], ### cov#: covariance, 2-D array_like, of shape (N, N)\n",
    "                [-1,1.1]])\n",
    "mu2 = np.array([-2.5,0])\n",
    "cov2 = np.array([[1.1,1],\n",
    "                [1,1.1]])\n",
    "X = np.vstack([np.random.multivariate_normal(mu1, cov1, 100), \n",
    "               np.random.multivariate_normal(mu2, cov2, 100)]) ### random.multivariate_normal(mean, cov, size=None, check_valid='warn', tol=1e-8)\n",
    "\n",
    "# print(X)\n",
    "print(\"Shape of X: \", X.shape)\n",
    "\n",
    "from sklearn.cluster import KMeans\n",
    "# model = KMeans(n_clusters=2, verbose=1)\n",
    "model = KMeans(n_clusters=2)\n",
    "y_new = model.fit_predict(X) ### Compute cluster centers and predict cluster index for each sample. Simply the label.\n",
    "\n",
    "print(y_new)\n",
    "\n",
    "%matplotlib inline\n",
    "plt.axis('equal')\n",
    "plt.scatter(*X.T, c=y_new)\n",
    "print(\"inertia: \", model.inertia_) # Sum of squared distances of samples to their closest cluster center."
   ]
  },
  {
   "cell_type": "markdown",
   "metadata": {},
   "source": [
    "###### 1(b)\n",
    "Apply the $k$-means algorithm to `X` with $k=3$ and get the prediction `y_new` .  \n",
    "Plot the points (rows) in `X` with `c=y_new` .  \n",
    "Print `model.inertia_` ."
   ]
  },
  {
   "cell_type": "code",
   "execution_count": null,
   "metadata": {},
   "outputs": [],
   "source": [
    "### your answer here\n",
    "from sklearn.cluster import KMeans\n",
    "# model = KMeans(n_clusters=3, verbose=1)\n",
    "model = KMeans(n_clusters=3)\n",
    "y_new = model.fit_predict(X) ### Compute cluster centers and predict cluster index for each sample. Simply the label.\n",
    "\n",
    "print(y_new)\n",
    "\n",
    "%matplotlib inline\n",
    "plt.axis('equal')\n",
    "plt.scatter(*X.T , c=y_new)\n",
    "print(\"inertia: \", model.inertia_) # Sum of squared distances of samples to their closest cluster center."
   ]
  },
  {
   "cell_type": "markdown",
   "metadata": {},
   "source": [
    "###### 1(c)\n",
    "Run  \n",
    "```python\n",
    "ins = [KMeans(k).fit(X).inertia_ for k in range(1,6)]\n",
    "plt.plot(np.arange(1,6), ins)\n",
    "```\n",
    "What does it means?  \n",
    "What is a good guess of the number of clusters?"
   ]
  },
  {
   "cell_type": "code",
   "execution_count": null,
   "metadata": {},
   "outputs": [],
   "source": [
    "### your answer here\n",
    "ins = [KMeans(k).fit(X).inertia_ for k in range(1,6)]\n",
    "plt.plot(np.arange(1,6), ins)\n",
    "\n",
    "print(\"The plot looks like a convergence test to find the optimized number of clusters (k) in a given dataset (X).\")\n",
    "print(\"Here, k=2 seems to be the best option since it plateaued after it.\")\n",
    "print('It is also known as the \"Elbow Method\"')"
   ]
  },
  {
   "cell_type": "markdown",
   "metadata": {},
   "source": [
    "##### Exercise 2\n",
    "Let  \n",
    "```python\n",
    "from sklearn.datasets import load_iris\n",
    "iris = load_iris()\n",
    "X = iris.data\n",
    "y = iris.target\n",
    "```"
   ]
  },
  {
   "cell_type": "markdown",
   "metadata": {},
   "source": [
    "###### 2(a)\n",
    "Apply the $k$-means algorithm to `X` with $k=2$ and get the prediction `y_new` .  \n",
    "Plot the points (rows) in `X` with `c=y_new` .  \n",
    "(Each row is in $\\mathbb{R}^4$.  \n",
    "Just pick arbitrary two coordinates to plot the points.)  \n",
    "Print `model.inertia_` ."
   ]
  },
  {
   "cell_type": "code",
   "execution_count": null,
   "metadata": {},
   "outputs": [],
   "source": [
    "### your answer here\n",
    "np.random.seed(0)\n",
    "\n",
    "from sklearn.datasets import load_iris\n",
    "iris = load_iris()\n",
    "X = iris.data\n",
    "y = iris.target\n",
    "print(\"Shape of X: \", X.shape)\n",
    "\n",
    "from sklearn.cluster import KMeans\n",
    "model = KMeans(n_clusters=2)\n",
    "y_new = model.fit_predict(X)\n",
    "\n",
    "%matplotlib inline\n",
    "plt.axis('equal')\n",
    "plt.scatter(X[:,np.random.randint(0,2)].T, X[:,np.random.randint(2,4)].T, c=y_new)\n",
    "print(\"inertia: \", model.inertia_) # Sum of squared distances of samples to their closest cluster center."
   ]
  },
  {
   "cell_type": "markdown",
   "metadata": {},
   "source": [
    "###### 2(b)\n",
    "Apply the $k$-means algorithm to `X` with $k=3$ and get the prediction `y_new` .  \n",
    "Plot the points (rows) in `X` with `c=y_new` .  \n",
    "(Each row is in $\\mathbb{R}^4$.  \n",
    "Just pick arbitrary two coordinates to plot the points.)  \n",
    "Print `model.inertia_` ."
   ]
  },
  {
   "cell_type": "code",
   "execution_count": null,
   "metadata": {},
   "outputs": [],
   "source": [
    "### your answer here\n",
    "\n",
    "from sklearn.cluster import KMeans\n",
    "model = KMeans(n_clusters=3)\n",
    "y_new = model.fit_predict(X)\n",
    "\n",
    "%matplotlib inline\n",
    "plt.axis('equal')\n",
    "plt.scatter(X[:,np.random.randint(0,2)].T, X[:,np.random.randint(2,4)].T, c=y_new) # randomize number of columns\n",
    "print(\"inertia: \", model.inertia_) # Sum of squared distances of samples to their closest cluster center."
   ]
  },
  {
   "cell_type": "markdown",
   "metadata": {},
   "source": [
    "###### 2(c)\n",
    "Run  \n",
    "```python\n",
    "ins = [KMeans(k).fit(X).inertia_ for k in range(1,6)]\n",
    "plt.plot(np.arange(1,6), ins)\n",
    "```\n",
    "What does it means?  \n",
    "What is a good guess of the number of clusters?"
   ]
  },
  {
   "cell_type": "code",
   "execution_count": null,
   "metadata": {},
   "outputs": [],
   "source": [
    "### your answer here\n",
    "ins = [KMeans(k).fit(X).inertia_ for k in range(1,6)]\n",
    "plt.plot(np.arange(1,6), ins)\n",
    "\n",
    "print(\"Similar to Exercise 1(c), the plot looks like a convergence test to find the optimized number of clusters (k) in a given dataset (X).\")\n",
    "print(\"Although k=2 looks good, the data actually has three categories. Therefore, choosing k=3 may be a better option.\")"
   ]
  },
  {
   "cell_type": "markdown",
   "metadata": {},
   "source": [
    "##### Exercise 3\n",
    "Let  \n",
    "```python\n",
    "arr = plt.imread('incrediville-side.jpg')\n",
    "m,n,c = arr.shape\n",
    "X = arr.reshape(-1,3)\n",
    "```"
   ]
  },
  {
   "cell_type": "markdown",
   "metadata": {},
   "source": [
    "###### 3(a)\n",
    "Print `X.shape` .  \n",
    "What are the rows in `X` ."
   ]
  },
  {
   "cell_type": "code",
   "execution_count": null,
   "metadata": {},
   "outputs": [],
   "source": [
    "### your answer here\n",
    "arr = plt.imread('incrediville-side.jpg')\n",
    "print(arr.shape)\n",
    "m,n,c = arr.shape  \n",
    "X = arr.reshape(-1,3)\n",
    "print(\"Shape of X: \", X.shape)\n",
    "print(X)\n",
    "\n",
    "print(\"Reshaping the data from 3D to 2D is a must for k-means to work.\")\n",
    "print(\"\\n Recall LA 1. Here, the rows of X are the pixels RGB values.\")"
   ]
  },
  {
   "cell_type": "markdown",
   "metadata": {},
   "source": [
    "###### 3(b)\n",
    "Apply the $k$-means algorighm to `X` and obtain `y_new` .  \n",
    "Let  \n",
    "```python\n",
    "img = (y_new == 0).reshape(m, n)\n",
    "plt.imshow(img, cmap='Greys')\n",
    "```\n",
    "Change `0` to `1` or `2` .  \n",
    "What do these pictures mean?  \n",
    "Is the black region always connected?"
   ]
  },
  {
   "cell_type": "code",
   "execution_count": null,
   "metadata": {
    "scrolled": true
   },
   "outputs": [],
   "source": [
    "### your answer here\n",
    "arr = plt.imread('incrediville-side.jpg')\n",
    "m,n,c = arr.shape\n",
    "X = arr.reshape(-1,3)\n",
    "\n",
    "print(m, n, c)\n",
    "print(X.shape)\n",
    "\n",
    "from sklearn.cluster import KMeans\n",
    "model = KMeans(n_clusters=3)\n",
    "y_new = model.fit_predict(X)\n",
    "print(y_new.shape)\n",
    "\n",
    "# y_new == 0\n",
    "img = (y_new == 0).reshape(m, n) ### check y_new == 0 then reshape to m,n which in this case is 3120,4160 \n",
    "plt.imshow(img, cmap='Greys')\n",
    "\n",
    "print(img.shape)\n",
    "print(img) ### Boolean array"
   ]
  },
  {
   "cell_type": "code",
   "execution_count": null,
   "metadata": {
    "scrolled": true
   },
   "outputs": [],
   "source": [
    "# y_new == 1\n",
    "img = (y_new == 1).reshape(m, n) ### check y_new == 1 then reshape to m,n which in this case is 3120,4160 \n",
    "plt.imshow(img, cmap='Greys')\n",
    "\n",
    "print(img.shape)\n",
    "print(img) ### Boolean array"
   ]
  },
  {
   "cell_type": "code",
   "execution_count": null,
   "metadata": {
    "scrolled": true
   },
   "outputs": [],
   "source": [
    "# y_new == 2\n",
    "img = (y_new == 2).reshape(m, n) ### check y_new == 2 then reshape to m,n which in this case is 3120,4160. \n",
    "plt.imshow(img, cmap='Greys')\n",
    "\n",
    "print(img.shape)\n",
    "print(img) ### Boolean array"
   ]
  },
  {
   "cell_type": "code",
   "execution_count": null,
   "metadata": {
    "scrolled": true
   },
   "outputs": [],
   "source": [
    "### n_clusters=2 test\n",
    "arr = plt.imread('incrediville-side.jpg')\n",
    "m,n,c = arr.shape\n",
    "X = arr.reshape(-1,3)\n",
    "\n",
    "print(m, n, c)\n",
    "print(X.shape)\n",
    "\n",
    "from sklearn.cluster import KMeans\n",
    "model = KMeans(n_clusters=2)\n",
    "y_new = model.fit_predict(X)\n",
    "\n",
    "# y_new == 2\n",
    "img = (y_new == 2).reshape(m, n) ### check y_new == 2 then reshape to m,n which in this case is 3120,4160 \n",
    "plt.imshow(img, cmap='Greys')"
   ]
  },
  {
   "cell_type": "code",
   "execution_count": null,
   "metadata": {},
   "outputs": [],
   "source": [
    "# What do these pictures mean?\n",
    "# Is the black region always connected?\n",
    "print(\"If n_clusters is set to <=2, (y_new == 2) would plot nothing since no data would be labeled as 2.\")\n",
    "print(\"No, the black region is not always connected.\")"
   ]
  },
  {
   "cell_type": "markdown",
   "metadata": {},
   "source": [
    "## Experiments"
   ]
  },
  {
   "cell_type": "markdown",
   "metadata": {},
   "source": [
    "##### Exercise 4\n",
    "Let  \n",
    "```python\n",
    "mu1 = np.array([2.5,0])\n",
    "cov1 = np.array([[1.1,-1],\n",
    "                [-1,1.1]])\n",
    "mu2 = np.array([-2.5,0])\n",
    "cov2 = np.array([[1.1,1],\n",
    "                [1,1.1]])\n",
    "X = np.vstack([np.random.multivariate_normal(mu1, cov1, 100), \n",
    "               np.random.multivariate_normal(mu2, cov2, 100)])\n",
    "```"
   ]
  },
  {
   "cell_type": "markdown",
   "metadata": {},
   "source": [
    "###### 4(a)\n",
    "Apply the $k$-means algorithm to `X` and obtain the prediction `y_new` .  \n",
    "Plot the points (rows) in `X` with `c=y_new` .  \n",
    "Plot the points (rows) in `model.cluster_centers_` with `c='r'` ."
   ]
  },
  {
   "cell_type": "code",
   "execution_count": null,
   "metadata": {},
   "outputs": [],
   "source": [
    "### your answer here\n",
    "mu1 = np.array([2.5,0])\n",
    "cov1 = np.array([[1.1,-1],\n",
    "                [-1,1.1]])\n",
    "mu2 = np.array([-2.5,0])\n",
    "cov2 = np.array([[1.1,1],\n",
    "                [1,1.1]])\n",
    "X = np.vstack([np.random.multivariate_normal(mu1, cov1, 100), \n",
    "               np.random.multivariate_normal(mu2, cov2, 100)])\n",
    "\n",
    "from sklearn.cluster import KMeans\n",
    "model = KMeans(n_clusters=2)\n",
    "y_new = model.fit_predict(X)\n",
    "print(y_new)\n",
    "\n",
    "%matplotlib inline\n",
    "plt.axis('equal')\n",
    "plt.scatter(*X.T, c=y_new)\n",
    "plt.scatter(*model.cluster_centers_.T, c='r')"
   ]
  },
  {
   "cell_type": "markdown",
   "metadata": {},
   "source": [
    "###### 4(b)\n",
    "Check if `y_new` and `model.labels_` are the same."
   ]
  },
  {
   "cell_type": "code",
   "execution_count": null,
   "metadata": {},
   "outputs": [],
   "source": [
    "### your answer here\n",
    "print(\"y_new: \\n\", y_new)\n",
    "print(\"model.labels_: \\n\", model.labels_)\n",
    "print(\"By observation, y_new and model.labels_ are the same. \\n\")\n",
    "\n",
    "print(\"By Boolean operation:\", np.all(y_new == model.labels_))\n",
    "print(\"Since Boolean operation returns True, \\u2234 they are indeed the same.\")"
   ]
  },
  {
   "cell_type": "markdown",
   "metadata": {},
   "source": [
    "###### 4(c)\n",
    "Compute the inertia and compare your answer with `model.inertia_` .  \n",
    "Recall that the inertia of a clustered data is  \n",
    "$$\\sum_{i,j} \\|{\\bf x}_i - \\mu_j\\|^2,$$ \n",
    "where the summation runs through all pairs $(i,j)$ such that ${\\bf x}_i$ is in the $j$-th cluster with center $\\mu_j$."
   ]
  },
  {
   "cell_type": "code",
   "execution_count": null,
   "metadata": {},
   "outputs": [],
   "source": [
    "### your answer here\n",
    "inertia = np.sum((X - model.cluster_centers_[y_new])**2)\n",
    "inertia"
   ]
  },
  {
   "cell_type": "code",
   "execution_count": null,
   "metadata": {},
   "outputs": [],
   "source": [
    "print(model.inertia_)\n",
    "print(np.isclose(inertia, model.inertia_))"
   ]
  },
  {
   "cell_type": "markdown",
   "metadata": {},
   "source": [
    "##### Exercise 5\n",
    "Let  \n",
    "```python\n",
    "X = 5 * np.random.randn(1000,2)\n",
    "lengths = np.linalg.norm(X, axis=1)\n",
    "band1 = (lengths > 1) & (lengths <2)  \n",
    "band2 = (lengths > 3) & (lengths <4)  \n",
    "X = X[band1 | band2, :]\n",
    "```\n",
    "Apply the $k$-means algorithm to `X` with $k=2$  \n",
    "(or other $k$ if you wish)  \n",
    "and get the prediction `y_new` .  \n",
    "Plot the points (rows) in `X` with `c=y_new` .  \n",
    "Plot the cluster centers in red.  \n",
    "Is it a good clustering?  \n",
    "Why it is good?  Or why it does not work well?"
   ]
  },
  {
   "cell_type": "code",
   "execution_count": null,
   "metadata": {},
   "outputs": [],
   "source": [
    "### your answer here\n",
    "np.random.seed(0)\n",
    "X = 5 * np.random.randn(1000,2)\n",
    "lengths = np.linalg.norm(X, axis=1)\n",
    "band1 = (lengths > 1) & (lengths <2)  \n",
    "band2 = (lengths > 3) & (lengths <4)  \n",
    "X = X[band1 | band2, :]\n",
    "\n",
    "print(X.shape)\n",
    "\n",
    "from sklearn.cluster import KMeans\n",
    "model = KMeans(n_clusters=2)\n",
    "y_new = model.fit_predict(X)\n",
    "\n",
    "%matplotlib inline\n",
    "plt.axis('equal')\n",
    "plt.scatter(*X.T, c=y_new)\n",
    "plt.scatter(model.cluster_centers_[:,0].T,model.cluster_centers_[:,1].T, c='red')\n",
    "\n",
    "print(\"Although it is hard to generalize, it seems that the KMeans clustering algo for this dataset is not good to be implemented.\")\n",
    "print(\"Since it can not handle noisy data and outliers.\")\n",
    "print(\"And it is not suitable to identify clusters with non-convex shapes since it always has a straight boundary.\")\n",
    "print(\"Here, two rings can be observed and it should be clustered in terms of the small ring and larger ring.\")\n",
    "print(\"A better clustering algorithm would be DBSCAN.\")"
   ]
  },
  {
   "cell_type": "code",
   "execution_count": null,
   "metadata": {},
   "outputs": [],
   "source": []
  }
 ],
 "metadata": {
  "kernelspec": {
   "display_name": "Python 3 (ipykernel)",
   "language": "python",
   "name": "python3"
  },
  "language_info": {
   "codemirror_mode": {
    "name": "ipython",
    "version": 3
   },
   "file_extension": ".py",
   "mimetype": "text/x-python",
   "name": "python",
   "nbconvert_exporter": "python",
   "pygments_lexer": "ipython3",
   "version": "3.10.2"
  }
 },
 "nbformat": 4,
 "nbformat_minor": 4
}
