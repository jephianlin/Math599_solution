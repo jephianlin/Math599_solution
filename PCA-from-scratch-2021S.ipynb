{
 "cells": [
  {
   "cell_type": "markdown",
   "metadata": {},
   "source": [
    "# PCA from scratch"
   ]
  },
  {
   "cell_type": "markdown",
   "metadata": {},
   "source": [
    "![Creative Commons License](https://i.creativecommons.org/l/by/4.0/88x31.png)  \n",
    "This work by Jephian Lin is licensed under a [Creative Commons Attribution 4.0 International License](http://creativecommons.org/licenses/by/4.0/)."
   ]
  },
  {
   "cell_type": "code",
   "execution_count": null,
   "metadata": {},
   "outputs": [],
   "source": [
    "import numpy as np\n",
    "import matplotlib.pyplot as plt"
   ]
  },
  {
   "cell_type": "markdown",
   "metadata": {},
   "source": [
    "## Algorithm\n",
    "**Input:**  \n",
    "- `X`: an array of shape `(N,d)` whose rows are samples and columns are features\n",
    "- `r`: target dimension\n",
    "\n",
    "**Output:**\n",
    "- an array of shape `(N, r)`  \n",
    "\n",
    "**Steps:**\n",
    "1. Shift $X$ so that the rows of $X$ are centered at the origin.  \n",
    "2. Let $C = \\frac{1}{N}X^\\top X$.  \n",
    "3. Suppose ${\\bf u}_1,\\ldots, {\\bf u}_d$ form an orthonormal eigenbasis of $C$ corresponding to the eigenvalues $\\lambda_1\\geq\\cdots\\geq\\lambda_d$.  Let $U$ be the matrix whose columns are ${\\bf u}_1,\\ldots, {\\bf u}_r$.  \n",
    "4. Return $XU$."
   ]
  },
  {
   "cell_type": "markdown",
   "metadata": {},
   "source": [
    "## Pseudocode\n",
    "Translate the algorithm into the pseudocode.  \n",
    "This helps you to identify the parts that you don't know how to do it.  "
   ]
  },
  {
   "cell_type": "markdown",
   "metadata": {},
   "source": [
    "    1. X=X-X.mean\n",
    "    2. C = (X.T.dot(X))/N\n",
    "    3. vals,vecs = np.linalg.eigh(C)\n",
    "    4. vecs = vecs[:,::-1]\n",
    "    5. U = vecs[:,:r]\n",
    "    6. return X@U"
   ]
  },
  {
   "cell_type": "markdown",
   "metadata": {},
   "source": [
    "## Code"
   ]
  },
  {
   "cell_type": "code",
   "execution_count": null,
   "metadata": {},
   "outputs": [],
   "source": [
    "def my_pca(X,r=2):\n",
    "    X = X - np.mean(X,axis=0)\n",
    "    N = X.shape[0]\n",
    "    C = (X.T.dot(X))/N\n",
    "    vals,vecs = np.linalg.eigh(C)\n",
    "    vals = vals[::-1]  \n",
    "    vecs = vecs[:,::-1] \n",
    "    U = vecs[:,:r]  \n",
    "    return X@U #XU\n",
    "X = np.genfromtxt('hidden_text.csv', delimiter=',')\n",
    "plt.scatter(my_pca(X)[:,0],my_pca(X)[:,1])\n",
    "plt.axis('equal')"
   ]
  },
  {
   "cell_type": "markdown",
   "metadata": {},
   "source": [
    "##### Jephian:\n",
    "Only put the definition of the function here.  \n",
    "You may test your function later.  \n",
    "\n",
    "Also, it is inefficient to do `my_pca` twice in \n",
    "```python\n",
    "plt.scatter(my_pca(X)[:,0],my_pca(X)[:,1])\n",
    "```"
   ]
  },
  {
   "cell_type": "markdown",
   "metadata": {},
   "source": [
    "## Test\n",
    "Take some sample data from [PCA-with-scikit-learn](PCA-with-scikit-learn.ipynb) and check if your code generates similar outputs with the existing packages."
   ]
  },
  {
   "cell_type": "markdown",
   "metadata": {},
   "source": [
    "##### Name of the data\n",
    "Description of the data."
   ]
  },
  {
   "cell_type": "markdown",
   "metadata": {},
   "source": [
    "##### Jephian:\n",
    "Put your data and its description here.  \n",
    "Here is an example:  \n",
    "\n",
    "We will load the data from `hiddent_text.csv`.  \n",
    "It contains 1261 points in $\\mathbb{R}^{100}$;  \n",
    "however, these points lives in a two-dimensional space in $\\mathbb{R}^{100}$.\n",
    "\n",
    "```python\n",
    "X = np.genfromtxt('hidden_text.csv', delimiter=',')\n",
    "```"
   ]
  },
  {
   "cell_type": "code",
   "execution_count": null,
   "metadata": {},
   "outputs": [],
   "source": [
    "### results with your code\n",
    "r = 2\n",
    "X = X - X.mean(axis=0)\n",
    "N = X.shape[0]\n",
    "C = (1/N)*(X.T)@X\n",
    "vals,vecs = np.linalg.eigh(C)\n",
    "vals = vals[::-1]\n",
    "vecs = vecs[:,::-1]\n",
    "U = vecs[:,:r]\n",
    "##此筆data的components會差一個負號\n",
    "U[:,1]=-U[:,1]\n",
    "\n",
    "plt.scatter(X@U[:,0],X@U[:,1])\n",
    "plt.axis('equal')"
   ]
  },
  {
   "cell_type": "markdown",
   "metadata": {},
   "source": [
    "##### Jephian:\n",
    "Since you have the function already, use it!  \n",
    "\n",
    "For example,  \n",
    "```python\n",
    "X_new = my_pca(X)\n",
    "plt.axis('equal')\n",
    "plt.scatter(*X_new.T)\n",
    "```\n",
    "\n",
    "No need to manually do `U[:,1]=-U[:,1]` ."
   ]
  },
  {
   "cell_type": "code",
   "execution_count": null,
   "metadata": {},
   "outputs": [],
   "source": [
    "### results with existing packages\n",
    "from sklearn.decomposition import PCA\n",
    "model = PCA(n_components=2)\n",
    "X_new = model.fit_transform(X)\n",
    "plt.scatter(X_new[:,0],X_new[:,1])\n",
    "plt.axis('equal')"
   ]
  },
  {
   "cell_type": "markdown",
   "metadata": {},
   "source": [
    "## Comparison"
   ]
  },
  {
   "cell_type": "markdown",
   "metadata": {},
   "source": [
    "##### Exercise 1\n",
    "The center of rows of $X$ (before shift) is supposed to be `model.mean_` .  \n",
    "Check if this is true."
   ]
  },
  {
   "cell_type": "code",
   "execution_count": null,
   "metadata": {},
   "outputs": [],
   "source": [
    "### your answer here\n",
    "print((model.mean_==X.mean(axis=0)).all())\n",
    "#true"
   ]
  },
  {
   "cell_type": "markdown",
   "metadata": {},
   "source": [
    "##### Jephian:\n",
    "Make this cell independent from the other cell.  \n",
    "\n",
    "```python\n",
    "X = np.genfromtxt('hidden_text.csv', delimiter=',')\n",
    "\n",
    "from sklearn.decomposition import PCA\n",
    "model = PCA(n_components=2)\n",
    "X_new = model.fit_transform(X)\n",
    "\n",
    "print((model.mean_==X.mean(axis=0)).all())\n",
    "```"
   ]
  },
  {
   "cell_type": "markdown",
   "metadata": {},
   "source": [
    "##### Exercise 2\n",
    "The matrix $U^\\top$ is supposed to be `model.components_` .  \n",
    "(Up to some negations.)  \n",
    "Check if this is true."
   ]
  },
  {
   "cell_type": "code",
   "execution_count": null,
   "metadata": {
    "scrolled": true
   },
   "outputs": [],
   "source": [
    "### your answer here\n",
    "print(U.T.shape)\n",
    "print(model.components_.shape)\n",
    "print(np.allclose(U.T,model.components_))\n",
    "#true"
   ]
  },
  {
   "cell_type": "markdown",
   "metadata": {},
   "source": [
    "##### Jephian:\n",
    "Again, make this cell independent.  \n",
    "\n",
    "```python\n",
    "X = np.genfromtxt('hidden_text.csv', delimiter=',')\n",
    "\n",
    "r = 2\n",
    "N = X.shape[0]\n",
    "X_shift = X - X.mean(axis=0)\n",
    "C = (1/N)*(X_shift.T)@X_shift\n",
    "vals,vecs = np.linalg.eigh(C)\n",
    "vals = vals[::-1]\n",
    "vecs = vecs[:,::-1]\n",
    "U = vecs[:,:r]\n",
    "\n",
    "from sklearn.decomposition import PCA\n",
    "model = PCA(n_components=2)\n",
    "X_new = model.fit_transform(X)\n",
    "\n",
    "np.set_printoptions(precision=2, suppress=True)\n",
    "for i in range(model.components_.shape[0]):\n",
    "    u,c = U.T[i],model.components_[i]\n",
    "    if np.isclose(u,c).all() or np.isclose(u,-c).all():\n",
    "        print(True)\n",
    "```"
   ]
  },
  {
   "cell_type": "markdown",
   "metadata": {},
   "source": [
    "##### Exercise 3\n",
    "The sequence $\\lambda_1,\\ldots,\\lambda_r$ are suppose to be the values in `explained_variance_` .  \n",
    "Check if this is true."
   ]
  },
  {
   "cell_type": "code",
   "execution_count": null,
   "metadata": {},
   "outputs": [],
   "source": [
    "### your answer here\n",
    "print([vals[0],vals[1]])\n",
    "print(model.explained_variance_)\n",
    "print(np.allclose([vals[0],vals[1]],model.explained_variance_))\n",
    "#false\n",
    "print(np.allclose([vals[0],vals[1]],model.explained_variance_,atol=20))\n",
    "#true"
   ]
  },
  {
   "cell_type": "markdown",
   "metadata": {},
   "source": [
    "##### Jephian:\n",
    "\n",
    "```python\n",
    "X = np.genfromtxt('hidden_text.csv', delimiter=',')\n",
    "\n",
    "r = 2\n",
    "N = X.shape[0]\n",
    "X_shift = X - X.mean(axis=0)\n",
    "C = (1/N)*(X_shift.T)@X_shift\n",
    "vals,vecs = np.linalg.eigh(C)\n",
    "vals = vals[::-1]\n",
    "vecs = vecs[:,::-1]\n",
    "U = vecs[:,:r]\n",
    "\n",
    "from sklearn.decomposition import PCA\n",
    "model = PCA(n_components=2)\n",
    "X_new = model.fit_transform(X)\n",
    "\n",
    "print(np.isclose(vals[:2],model.explained_variance_,atol=20).all())\n",
    "```"
   ]
  },
  {
   "cell_type": "markdown",
   "metadata": {},
   "source": [
    "##### Exercise 4\n",
    "Let $t = \\operatorname{tr}(C)$.  \n",
    "The sequence $\\lambda_1/t,\\ldots,\\lambda_r/t$ are suppose to be the values in `explained_variance_ratio_` .  \n",
    "Check if this is true."
   ]
  },
  {
   "cell_type": "code",
   "execution_count": null,
   "metadata": {},
   "outputs": [],
   "source": [
    "### your answer here\n",
    "t = np.trace(C)\n",
    "print([vals[0]/t,vals[1]/t])\n",
    "print(model.explained_variance_ratio_)\n",
    "print(np.allclose([vals[0]/t,vals[1]/t],model.explained_variance_ratio_))\n",
    "#true"
   ]
  },
  {
   "cell_type": "markdown",
   "metadata": {},
   "source": [
    "##### Jephian:\n",
    "\n",
    "```python\n",
    "X = np.genfromtxt('hidden_text.csv', delimiter=',')\n",
    "\n",
    "r = 2\n",
    "N = X.shape[0]\n",
    "X_shift = X - X.mean(axis=0)\n",
    "C = (1/N)*(X_shift.T)@X_shift\n",
    "vals,vecs = np.linalg.eigh(C)\n",
    "vals = vals[::-1]\n",
    "vecs = vecs[:,::-1]\n",
    "U = vecs[:,:r]\n",
    "\n",
    "from sklearn.decomposition import PCA\n",
    "model = PCA(n_components=2)\n",
    "X_new = model.fit_transform(X)\n",
    "\n",
    "t = np.trace(C)\n",
    "print(np.isclose(vals[:2] / t, model.explained_variance_ratio_).all())\n",
    "```"
   ]
  },
  {
   "cell_type": "markdown",
   "metadata": {},
   "source": [
    "##### Exercise 5\n",
    "The singular values of the shifted `X` are supposed to be `model.singular_values_` .  \n",
    "Check if this is true."
   ]
  },
  {
   "cell_type": "code",
   "execution_count": null,
   "metadata": {},
   "outputs": [],
   "source": [
    "### your answer here\n",
    "from scipy.linalg import svd\n",
    "u, s, VT = svd(X)\n",
    "print(s[:2])\n",
    "print(model.singular_values_)\n",
    "print(np.allclose(s[:2],model.singular_values_))"
   ]
  },
  {
   "cell_type": "markdown",
   "metadata": {},
   "source": [
    "##### Jephian:\n",
    "\n",
    "```python\n",
    "X = np.genfromtxt('hidden_text.csv', delimiter=',')\n",
    "\n",
    "r = 2\n",
    "N = X.shape[0]\n",
    "X_shift = X - X.mean(axis=0)\n",
    "u, s, vh = np.linalg.svd(X_shift)\n",
    "\n",
    "from sklearn.decomposition import PCA\n",
    "model = PCA(n_components=2)\n",
    "X_new = model.fit_transform(X)\n",
    "\n",
    "print(np.allclose(s[:2],model.singular_values_))\n",
    "```"
   ]
  }
 ],
 "metadata": {
  "kernelspec": {
   "display_name": "Python 3",
   "language": "python",
   "name": "python3"
  },
  "language_info": {
   "codemirror_mode": {
    "name": "ipython",
    "version": 3
   },
   "file_extension": ".py",
   "mimetype": "text/x-python",
   "name": "python",
   "nbconvert_exporter": "python",
   "pygments_lexer": "ipython3",
   "version": "3.9.3"
  }
 },
 "nbformat": 4,
 "nbformat_minor": 4
}
