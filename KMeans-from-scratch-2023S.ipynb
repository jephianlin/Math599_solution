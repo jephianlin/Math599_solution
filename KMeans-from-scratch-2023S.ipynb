{
 "cells": [
  {
   "cell_type": "markdown",
   "metadata": {
    "id": "73rm0phlp7ZN"
   },
   "source": [
    "# KMeans from scratch"
   ]
  },
  {
   "cell_type": "markdown",
   "metadata": {
    "id": "L-Pu68SSp7ZQ"
   },
   "source": [
    "![Creative Commons License](https://i.creativecommons.org/l/by/4.0/88x31.png)  \n",
    "This work by Jephian Lin is licensed under a [Creative Commons Attribution 4.0 International License](http://creativecommons.org/licenses/by/4.0/)."
   ]
  },
  {
   "cell_type": "code",
   "execution_count": null,
   "metadata": {
    "id": "eSJWUW7dp7ZR"
   },
   "outputs": [],
   "source": [
    "import numpy as np\n",
    "import matplotlib.pyplot as plt\n",
    "from sklearn.cluster import KMeans\n",
    "import time\n",
    "import pylab as pl\n",
    "from IPython import display\n",
    "from warnings import simplefilter \n",
    "simplefilter(action='ignore', category=DeprecationWarning)"
   ]
  },
  {
   "cell_type": "markdown",
   "metadata": {
    "id": "xoY0ATZz4KAN"
   },
   "source": []
  },
  {
   "cell_type": "markdown",
   "metadata": {
    "id": "SrxxplpUp7ZS"
   },
   "source": [
    "## Algorithm\n",
    "**Input:**  \n",
    "- `X`: an array of shape `(N,d)` whose rows are samples and columns are features\n",
    "- `k`: number of clusters\n",
    "- `init`: \"random\" or an array of shape (k,d)  \n",
    "if \"random\", `k` points are chosen randomly from X as the initial cluster centers  \n",
    "if an array, the array is used as the initial cluster centers\n",
    "\n",
    "**Output:**  \n",
    "A tuple `(y_new, centers)`.  \n",
    "- `y_new`: an array of shape `(N,)` that records the labels in `(0, ..., k-1)` of each sample \n",
    "- `centers`: an array of shape `(k,d)` that records the cluster centers\n",
    "\n",
    "**Steps:**\n",
    "1. Initialize a collection of centers $\\mu_0,\\ldots,\\mu_{k-1}$:  \n",
    "    - if `init` is an array, the centers are the rows of `init` . \n",
    "    - if `init==\"random\"`, the centers are chosen as `k` random rows of `X` .  \n",
    "2. Label each sample ${\\bf x}_i$ by $j$ if $\\mu_j$ is the closed center to ${\\bf x}_i$.\n",
    "3. Call the points with label $j$ as group $j$.  Update $\\mu_j$ as the center of points in group $j$.  \n",
    "4. Repeat Steps 2 and 3 until `y_new` do not change anymore."
   ]
  },
  {
   "cell_type": "markdown",
   "metadata": {
    "id": "SfcKWYAop7ZT"
   },
   "source": [
    "## Pseudocode\n",
    "Translate the algorithm into the pseudocode.  \n",
    "This helps you to identify the parts that you don't know how to do it.  "
   ]
  },
  {
   "cell_type": "markdown",
   "metadata": {
    "id": "Xknl05nNp7ZU"
   },
   "source": [
    "    1. let X be an array.\n",
    "    2. Create an distance function\n",
    "    3. Function KMeans_scratch(X, k, init = \"random\"):\n",
    "       (N, d) = (the rows of X, the columns of X) \n",
    "       If init == \"random\":\n",
    "         Choose k random rows from X and set them as the initial centers\n",
    "       Else:\n",
    "         Use the provided array as the initial centers\n",
    "    \n",
    "       Calculate the distance matrix between X and the initial centers\n",
    "       Assign each sample to the closest center and record the labels in y\n",
    "    \n",
    "       For i in range(k):\n",
    "         Find all samples in X that have label i and store them in group_i\n",
    "         Update centers[i] as the mean of group_i\n",
    "    \n",
    "       Calculate the distance matrix between X and the updated centers\n",
    "       Assign each sample to the closest center and record the labels in y_new\n",
    "    \n",
    "       If y_new is not equal to y:\n",
    "         Call KMeans_scratch recursively with the updated centers as the new init\n",
    "        \n",
    "      Return y_new and centers\n",
    "    \n",
    "\n",
    "      \n",
    "\n",
    "    "
   ]
  },
  {
   "cell_type": "markdown",
   "metadata": {
    "id": "CiOTTcoJp7ZU"
   },
   "source": [
    "## Code"
   ]
  },
  {
   "cell_type": "code",
   "execution_count": null,
   "metadata": {
    "id": "xeNFARlUp7ZU"
   },
   "outputs": [],
   "source": [
    "### your answer here\n",
    "\n",
    "import random\n",
    "\n",
    "def dist_mtx(X, Y):\n",
    "    X_col = X[:, np.newaxis, :]\n",
    "    Y_row = Y[np.newaxis, :, :]\n",
    "    dist = np.linalg.norm(X_col - Y_row, axis=-1)\n",
    "    return dist\n",
    "\n",
    "def KMeans_scratch(X, k, init = \"random\"):\n",
    "    N,d = X.shape\n",
    "    if init == \"random\":     \n",
    "        centers = np.array( random.choices(X, k=k) )\n",
    "    else: \n",
    "        centers = np.array( init )\n",
    "\n",
    "    dist = dist_mtx(X, centers)\n",
    "    y = dist.argmin(axis=1)\n",
    "\n",
    "    for i in range(len(centers)):\n",
    "      group = X[y==i]\n",
    "      centers[i] = group.mean(axis=0)\n",
    "    \n",
    "    dist = dist_mtx(X, centers)\n",
    "    y_new = dist.argmin(axis=1)\n",
    "      \n",
    "    if not np.array_equal(y_new, y) :\n",
    "      y_new, centers = KMeans_scratch(X, k, centers)\n",
    "         \n",
    "    return (y_new, centers)\n",
    "\n"
   ]
  },
  {
   "cell_type": "markdown",
   "metadata": {
    "id": "wNZs2jyRp7ZV"
   },
   "source": [
    "## Test\n",
    "Take some sample data from [KMeans-with-scikit-learn](KMeans-with-scikit-learn.ipynb) and check if your code generates similar outputs with the existing packages."
   ]
  },
  {
   "cell_type": "markdown",
   "metadata": {
    "id": "lDMrVVyUp7ZV"
   },
   "source": [
    "##### Name of the data\n",
    "Description of the data."
   ]
  },
  {
   "cell_type": "code",
   "execution_count": null,
   "metadata": {
    "colab": {
     "base_uri": "https://localhost:8080/",
     "height": 502
    },
    "id": "obP3xCwJp7ZW",
    "outputId": "186000ca-cade-4d94-823b-1bce89aafa3a"
   },
   "outputs": [
    {
     "name": "stderr",
     "output_type": "stream",
     "text": [
      "<ipython-input-2-06d9e4d45174>:13: FutureWarning: elementwise comparison failed; returning scalar instead, but in the future will perform elementwise comparison\n",
      "  if init == \"random\":\n"
     ]
    },
    {
     "data": {
      "text/plain": [
       "<matplotlib.collections.PathCollection at 0x7ff9e5d08610>"
      ]
     },
     "execution_count": 3,
     "metadata": {},
     "output_type": "execute_result"
    },
    {
     "data": {
      "image/png": "[encoded data removed]",
      "text/plain": [
       "<Figure size 640x480 with 1 Axes>"
      ]
     },
     "metadata": {},
     "output_type": "display_data"
    }
   ],
   "source": [
    "\n",
    "mu1 = np.array([2.5,0])\n",
    "cov1 = np.array([[1.1,-1],\n",
    "                [-1,1.1]])\n",
    "mu2 = np.array([-2.5,0])\n",
    "cov2 = np.array([[1.1,1],\n",
    "                [1,1.1]])\n",
    "X = np.vstack([np.random.multivariate_normal(mu1, cov1, 100), \n",
    "               np.random.multivariate_normal(mu2, cov2, 100)])\n",
    "\n",
    "### results with your code\n",
    "y, centers = KMeans_scratch(X, 2)\n",
    "plt.axis('equal')\n",
    "plt.scatter(X[:,0], X[:,1], c=y)\n",
    "plt.scatter(centers[:,0], centers[:,1], c='red', linewidths=3, marker = 'x')\n"
   ]
  },
  {
   "cell_type": "code",
   "execution_count": null,
   "metadata": {
    "colab": {
     "base_uri": "https://localhost:8080/",
     "height": 502
    },
    "id": "-Ot3yRDap7ZW",
    "outputId": "9c27629d-7aa5-4ef5-ff86-4978fa455fbe"
   },
   "outputs": [
    {
     "name": "stderr",
     "output_type": "stream",
     "text": [
      "/usr/local/lib/python3.10/dist-packages/sklearn/cluster/_kmeans.py:870: FutureWarning: The default value of `n_init` will change from 10 to 'auto' in 1.4. Set the value of `n_init` explicitly to suppress the warning\n",
      "  warnings.warn(\n"
     ]
    },
    {
     "data": {
      "text/plain": [
       "<matplotlib.collections.PathCollection at 0x7ff9cfc55030>"
      ]
     },
     "execution_count": 4,
     "metadata": {},
     "output_type": "execute_result"
    },
    {
     "data": {
      "image/png": "[encoded data removed]",
      "text/plain": [
       "<Figure size 640x480 with 1 Axes>"
      ]
     },
     "metadata": {},
     "output_type": "display_data"
    }
   ],
   "source": [
    "### results with existing packages\n",
    "\n",
    "from sklearn.cluster import KMeans\n",
    "model = KMeans(2)\n",
    "y_new = model.fit_predict(X)\n",
    "\n",
    "plt.axis('equal')\n",
    "\n",
    "plt.scatter(*X.T, c=y_new)\n",
    "plt.scatter(*model.cluster_centers_.T, c='r')"
   ]
  },
  {
   "cell_type": "markdown",
   "metadata": {
    "id": "t1mPrKA6p7ZX"
   },
   "source": [
    "## Comparison"
   ]
  },
  {
   "cell_type": "markdown",
   "metadata": {
    "id": "b1Y5bw2Gp7ZX"
   },
   "source": [
    "##### Exercise 1\n",
    "Modify your code so that it prints the inertia at each iteration.  \n",
    "Is it decreasing?"
   ]
  },
  {
   "cell_type": "code",
   "execution_count": null,
   "metadata": {
    "id": "LabzXwDbtwmu"
   },
   "outputs": [],
   "source": [
    "def distance_mtx(X, Y):\n",
    "    X_col = X[:, np.newaxis, :]\n",
    "    Y_row = Y[np.newaxis, :, :]\n",
    "    diff = X_col - Y_row\n",
    "    return np.linalg.norm(diff, axis=2)"
   ]
  },
  {
   "cell_type": "code",
   "execution_count": null,
   "metadata": {
    "id": "Uap_gAw3p7ZY"
   },
   "outputs": [],
   "source": [
    "### your answer here\n",
    "# X: an array of shape (N,d)\n",
    "# k: number of clusters\n",
    "# init: \"random\" or an array of shape (k,d), which means the initial points \n",
    "def MyKmeans(X, k, init = \"random\"):\n",
    "    n = X.shape[0] #n is the number of points\n",
    "    center = 0 #store the center of each group\n",
    "    inertia = 0 #store the inertia\n",
    "    if(init == \"random\"):\n",
    "        center = X[np.random.choice(range(n), k, replace=False)]\n",
    "    else:\n",
    "        center = init\n",
    "    label = np.array([0. for i in range(n)])\n",
    "    \n",
    "    #label every point first\n",
    "    dist_mtx = distance_mtx(X, center)\n",
    "    label = np.argmin(dist_mtx, axis=1) #lable the point with the index of minimun in array dist_to_centers\n",
    "    #compute the inertia of first result\n",
    "    inertia = np.sum( np.min(dist_mtx, axis=1)**2 )\n",
    "    \n",
    "    times = 0 #record the times that label updates\n",
    "    #repeat to label all the points until the label result is same as before\n",
    "    pre_label = np.array([-1. for i in range(n)])\n",
    "    \n",
    "    while(not np.array_equal(label, pre_label)):\n",
    "        #\n",
    "        times += 1\n",
    "        #print the inertia\n",
    "        print(\"inertia =\", inertia)\n",
    "        inertia = 0\n",
    "        \n",
    "        pre_label = np.copy(label)        \n",
    "        #count the mean to find the new center\n",
    "        for i in range(k):\n",
    "            group = X[np.where(label == i)]\n",
    "            center[i] = np.mean(group, axis = 0)\n",
    "        #label every point\n",
    "        dist_mtx = distance_mtx(X, center)\n",
    "        label = np.argmin(dist_mtx, axis=1) #lable the point with the index of minimun in array dist_to_centers\n",
    "        #compute the inertia of first result\n",
    "        inertia = np.sum( np.min(dist_mtx, axis=1)**2 )\n",
    "        \n",
    "    print(\"update times :\", times)\n",
    "    return label, center"
   ]
  },
  {
   "cell_type": "code",
   "execution_count": null,
   "metadata": {
    "colab": {
     "base_uri": "https://localhost:8080/"
    },
    "id": "SU4K-a3tsyjz",
    "outputId": "7e7bdd30-a8e6-4745-99b0-6ce5f1092fe3"
   },
   "outputs": [
    {
     "name": "stdout",
     "output_type": "stream",
     "text": [
      "inertia = 63.099999999999994\n",
      "inertia = 36.55886968817974\n",
      "inertia = 32.0979919448447\n",
      "inertia = 31.51797457738766\n",
      "inertia = 31.17115601761606\n",
      "inertia = 31.115474161735698\n",
      "inertia = 31.097111944903578\n",
      "inertia = 31.05574305555555\n",
      "inertia = 31.00478079496261\n",
      "inertia = 30.961861904761903\n",
      "inertia = 30.89146331681711\n",
      "update times : 11\n"
     ]
    }
   ],
   "source": [
    "my_lable, my_center = MyKmeans(X, 9)"
   ]
  },
  {
   "cell_type": "code",
   "execution_count": null,
   "metadata": {
    "id": "bm_klcBaszRr"
   },
   "outputs": [],
   "source": [
    "### it is a function that plot the result of labeling at each iteration\n",
    "# X: an array of shape (N,d)\n",
    "# k: number of clusters\n",
    "# init: \"random\" or an array of shape (k,d), which means the initial points \n",
    "def AnimatedMyKmeans(X, k, init = \"random\", frame_time = 1.1):\n",
    "    n = X.shape[0] #n is the number of points\n",
    "    center = 0 #store the center of each group\n",
    "    if(init == \"random\"):\n",
    "        center = X[np.random.choice(range(n), k, replace=False)]\n",
    "    else:\n",
    "        center = init\n",
    "    label = np.array([0. for i in range(n)])\n",
    "    \n",
    "    #label every point first\n",
    "    dist_mtx = distance_mtx(X, center)\n",
    "    label = np.argmin(dist_mtx, axis=1) #lable the point with the index of minimun in array dist_to_centers\n",
    "    \n",
    "    times = 0 #record the label update times\n",
    "    #repeat to label all the points until the label result is same as before\n",
    "    pre_label = np.array([-1. for i in range(n)])\n",
    "    while(not np.array_equal(label, pre_label)):\n",
    "        #\n",
    "        times += 1\n",
    "        #update a frame of the animation\n",
    "        plt.scatter(X[:,0], X[:,1], c = label)\n",
    "        display.clear_output(wait=True)\n",
    "        display.display(plt.show())\n",
    "        time.sleep(frame_time)\n",
    "        \n",
    "        pre_label = np.copy(label)\n",
    "        #count the mean to find the new center\n",
    "        for i in range(k):\n",
    "            group = X[np.where(label == i)]\n",
    "            center[i] = np.mean(group, axis = 0)\n",
    "        #label every point\n",
    "        dist_mtx = distance_mtx(X, center)\n",
    "        label = np.argmin(dist_mtx, axis=1) #lable the point with the index of minimun in array dist_to_centers\n",
    "    \n",
    "    print(\"update times :\", times)\n",
    "    return label, center"
   ]
  },
  {
   "cell_type": "code",
   "execution_count": null,
   "metadata": {
    "colab": {
     "base_uri": "https://localhost:8080/",
     "height": 465
    },
    "id": "vGT9szUws5ud",
    "outputId": "ba29a0d0-6c2a-42bc-940b-a35da5bd233f"
   },
   "outputs": [
    {
     "data": {
      "image/png": "[encoded data removed]",
      "text/plain": [
       "<Figure size 640x480 with 1 Axes>"
      ]
     },
     "metadata": {},
     "output_type": "display_data"
    },
    {
     "data": {
      "text/plain": [
       "None"
      ]
     },
     "metadata": {},
     "output_type": "display_data"
    },
    {
     "name": "stdout",
     "output_type": "stream",
     "text": [
      "update times : 5\n"
     ]
    }
   ],
   "source": [
    "#re run this cell, and you will see the process of kmeans\n",
    "my_lable, my_center = AnimatedMyKmeans(X, 4)"
   ]
  },
  {
   "cell_type": "markdown",
   "metadata": {
    "id": "QV7W9Gjep7ZY"
   },
   "source": [
    "##### Exercise 2\n",
    "Let  \n",
    "```python\n",
    "from sklearn.datasets import load_iris\n",
    "iris = load_iris()\n",
    "X = iris.data\n",
    "y_iris = iris.target\n",
    "```"
   ]
  },
  {
   "cell_type": "markdown",
   "metadata": {
    "id": "76NB32WPp7ZY"
   },
   "source": [
    "###### 2(a)\n",
    "Use your function to apply the $k$-means algorithm with $k=3$.  \n",
    "What is the inertia?  \n",
    "Run it several times to see if the results are always the same.  "
   ]
  },
  {
   "cell_type": "code",
   "execution_count": null,
   "metadata": {
    "colab": {
     "base_uri": "https://localhost:8080/"
    },
    "id": "5mxt3CMNp7ZZ",
    "outputId": "c35324d0-bf62-43fe-e6dc-85a4e21a902b"
   },
   "outputs": [
    {
     "name": "stdout",
     "output_type": "stream",
     "text": [
      "inertia = 220.61000000000007\n",
      "inertia = 85.97871700680274\n",
      "inertia = 84.26527300347223\n",
      "inertia = 83.39023263888893\n",
      "inertia = 82.00418738904196\n",
      "inertia = 81.08093414092332\n",
      "inertia = 79.87357983461305\n",
      "inertia = 79.34436414532675\n",
      "inertia = 78.92130972222222\n",
      "update times : 9\n",
      "inertia = 78.85566582597731\n",
      "inertia = 1471.4400000000003\n",
      "inertia = 150.76709108963664\n",
      "inertia = 145.09721363471084\n",
      "inertia = 144.17125349400817\n",
      "inertia = 143.74764944714195\n",
      "inertia = 143.56290177914732\n",
      "inertia = 143.51378065600676\n",
      "inertia = 143.3103517573068\n",
      "inertia = 142.91289812522643\n",
      "inertia = 142.8049513888889\n",
      "inertia = 142.77336161700458\n",
      "update times : 11\n",
      "inertia = 142.75406249999997\n",
      "inertia = 128.58999999999997\n",
      "inertia = 79.114603515625\n",
      "update times : 2\n",
      "inertia = 78.85144142614601\n",
      "inertia = 1026.91\n",
      "inertia = 264.62463812329077\n",
      "inertia = 141.54482721282906\n",
      "inertia = 97.22009506784627\n",
      "inertia = 86.79831757154352\n",
      "inertia = 80.14155669793828\n",
      "inertia = 79.19714263977781\n",
      "update times : 7\n",
      "inertia = 78.85144142614601\n",
      "inertia = 112.10000000000002\n",
      "inertia = 84.49193138509844\n",
      "inertia = 83.57911394574323\n",
      "inertia = 82.72701093072985\n",
      "inertia = 81.5436027847179\n",
      "inertia = 80.80637600000001\n",
      "inertia = 79.87357983461305\n",
      "inertia = 79.34436414532675\n",
      "inertia = 78.92130972222222\n",
      "update times : 9\n",
      "inertia = 78.8556658259773\n"
     ]
    }
   ],
   "source": [
    "### your answer here\n",
    "\n",
    "from sklearn.datasets import load_iris  # load iris dataset\n",
    "iris = load_iris()\n",
    "X = iris.data\n",
    "y_iris = iris.target\n",
    "\n",
    "\n",
    "#we try 5 times, and the inertia may not be same every time\n",
    "for i in range(5):\n",
    "    inertia = 0\n",
    "    my_lable, my_center = MyKmeans(X, 3)\n",
    "    \n",
    "    for k in range(3):\n",
    "        X_pick = X[np.where(my_lable == k)]\n",
    "        inertia += np.sum((X_pick - my_center[k])**2)\n",
    "\n",
    "    print(\"inertia =\", inertia)"
   ]
  },
  {
   "cell_type": "markdown",
   "metadata": {
    "id": "QTVqKS7Tp7ZZ"
   },
   "source": [
    "###### 2(b)\n",
    "Use `sklearn.cluster.KMeans` to apply the $k$-means algorithm with $k=3$.  \n",
    "What is the inertia?  \n",
    "Run it several times to see if the results are always the same.  "
   ]
  },
  {
   "cell_type": "code",
   "execution_count": null,
   "metadata": {
    "colab": {
     "base_uri": "https://localhost:8080/"
    },
    "id": "fM-hqUzLp7Za",
    "outputId": "2a823daf-c021-4f9a-a67c-aef30cad4c4c"
   },
   "outputs": [
    {
     "name": "stdout",
     "output_type": "stream",
     "text": [
      "inertia = 78.851441426146\n",
      "inertia = 78.851441426146\n",
      "inertia = 78.851441426146\n",
      "inertia = 78.851441426146\n",
      "inertia = 78.851441426146\n"
     ]
    },
    {
     "name": "stderr",
     "output_type": "stream",
     "text": [
      "/usr/local/lib/python3.10/dist-packages/sklearn/cluster/_kmeans.py:870: FutureWarning: The default value of `n_init` will change from 10 to 'auto' in 1.4. Set the value of `n_init` explicitly to suppress the warning\n",
      "  warnings.warn(\n",
      "/usr/local/lib/python3.10/dist-packages/sklearn/cluster/_kmeans.py:870: FutureWarning: The default value of `n_init` will change from 10 to 'auto' in 1.4. Set the value of `n_init` explicitly to suppress the warning\n",
      "  warnings.warn(\n",
      "/usr/local/lib/python3.10/dist-packages/sklearn/cluster/_kmeans.py:870: FutureWarning: The default value of `n_init` will change from 10 to 'auto' in 1.4. Set the value of `n_init` explicitly to suppress the warning\n",
      "  warnings.warn(\n",
      "/usr/local/lib/python3.10/dist-packages/sklearn/cluster/_kmeans.py:870: FutureWarning: The default value of `n_init` will change from 10 to 'auto' in 1.4. Set the value of `n_init` explicitly to suppress the warning\n",
      "  warnings.warn(\n",
      "/usr/local/lib/python3.10/dist-packages/sklearn/cluster/_kmeans.py:870: FutureWarning: The default value of `n_init` will change from 10 to 'auto' in 1.4. Set the value of `n_init` explicitly to suppress the warning\n",
      "  warnings.warn(\n"
     ]
    }
   ],
   "source": [
    "### your answer here\n",
    "#we try 5 times, and the inertia are all same\n",
    "for i in range(5):\n",
    "    model = KMeans(n_clusters = 3)\n",
    "    model.fit(X)\n",
    "    print(\"inertia =\", model.inertia_)\n",
    "#the result shows all the five number=78.851441426146"
   ]
  },
  {
   "cell_type": "markdown",
   "metadata": {
    "id": "P-xgB9Nlp7Za"
   },
   "source": [
    "###### 2(c)\n",
    "Pick a label `labels` that you like.  \n",
    "Compute the cluster centers of `X` corresponding to `labels` .  \n",
    "Is this inertia bigger or smaller than the previous two answers?"
   ]
  },
  {
   "cell_type": "code",
   "execution_count": null,
   "metadata": {
    "colab": {
     "base_uri": "https://localhost:8080/"
    },
    "id": "1HRI2Mvlp7Za",
    "outputId": "f3d90ce2-376c-489f-dd02-c7427234f847"
   },
   "outputs": [
    {
     "name": "stdout",
     "output_type": "stream",
     "text": [
      "inertia in random = 662.8289381270904\n"
     ]
    }
   ],
   "source": [
    "### your answer here\n",
    "#we choose the labels y_rand which were randomly choosed\n",
    "y_rand = np.random.randint(3, size=X.shape[0])\n",
    "rand_inertia = 0\n",
    "\n",
    "for i in range(3):\n",
    "    X_pick = X[np.where(y_rand == i)]\n",
    "    clus_center = np.mean(X_pick, axis = 0)\n",
    "    rand_inertia += np.sum((X_pick - clus_center)**2)\n",
    "\n",
    "print(\"inertia in random =\", rand_inertia)\n",
    "#this is much greater than the previous ans, \n",
    "#since it doesn`t consider the clusters of each points, \n",
    "#which makes the points in the same group may be so \"far\""
   ]
  },
  {
   "cell_type": "markdown",
   "metadata": {
    "id": "DYVbmOigp7Zb"
   },
   "source": [
    "###### 2(d)\n",
    "The label `y_iris` is the \"correct\" real-world answer.  \n",
    "Compute the cluster centers and the inertia.  \n",
    "Is this inertia bigger or smaller than the answers in 2(a) and 2(b)?"
   ]
  },
  {
   "cell_type": "code",
   "execution_count": null,
   "metadata": {
    "colab": {
     "base_uri": "https://localhost:8080/"
    },
    "id": "HKRtFSgop7Zb",
    "outputId": "c1951e0f-acc1-4912-8f6f-50db96f7de28"
   },
   "outputs": [
    {
     "name": "stdout",
     "output_type": "stream",
     "text": [
      "real inertia = 89.29740000000001\n"
     ]
    }
   ],
   "source": [
    "### your answer here\n",
    "real_inertia = 0\n",
    "\n",
    "for i in range(3):\n",
    "    X_pick = X[np.where(y_iris == i)]\n",
    "    center = np.mean(X_pick, axis = 0)    \n",
    "    real_inertia += np.sum((X_pick - center)**2)\n",
    "    \n",
    "\n",
    "print(\"real inertia =\", real_inertia)\n",
    "#and it is bigger than the result in 2(b), and sometimes bigger than the result in 2(a)"
   ]
  },
  {
   "cell_type": "markdown",
   "metadata": {},
   "source": [
    "#### Veronica:\n",
    "\n",
    "Comparing to 2(a), it is either bigger or smaller.\n",
    "Comparing to 2(b), it is slightly bigger."
   ]
  },
  {
   "cell_type": "markdown",
   "metadata": {
    "id": "58O9TjXrp7Zc"
   },
   "source": [
    "##### Exercise 3\n",
    "The $k$-means algorithm is a deterministic algorithm once the initial cluster centers have been determined.  \n",
    "Therefore, your function and `sklearn.cluster.KMeans` should obtain the same result when `init` is given.  \n",
    "Check if this is true.  \n",
    "\n",
    "Note:  There are still many subtle differences, for example, `sklearn` uses the location of centers to test the convergence but our algorithm uses the label to test the convergence."
   ]
  },
  {
   "cell_type": "code",
   "execution_count": null,
   "metadata": {
    "colab": {
     "base_uri": "https://localhost:8080/"
    },
    "id": "UFdGJsLtp7Zc",
    "outputId": "4071cc63-2bbb-4264-c04b-69030a933bef"
   },
   "outputs": [
    {
     "name": "stdout",
     "output_type": "stream",
     "text": [
      "result label by model :\n",
      " [0 0 0 0 0 0 0 0 0 0 0 0 0 0 0 0 0 0 0 0 0 0 0 0 0 0 0 0 0 0 0 0 0 0 0 0 0\n",
      " 0 0 0 0 0 0 0 0 0 0 0 0 0 1 2 1 2 2 2 2 2 2 2 2 2 2 2 2 2 2 2 2 2 2 2 2 2\n",
      " 2 2 2 1 2 2 2 2 2 2 2 2 2 2 2 2 2 2 2 2 2 2 2 2 2 2 1 2 1 1 1 1 2 1 1 1 1\n",
      " 1 1 2 2 1 1 1 1 2 1 2 1 2 1 1 2 2 1 1 1 1 1 2 1 1 1 1 2 1 1 1 2 1 1 1 2 1\n",
      " 1 2]\n",
      "result label by model :\n",
      " [0 0 0 0 0 0 0 0 0 0 0 0 0 0 0 0 0 0 0 0 0 0 0 0 0 0 0 0 0 0 0 0 0 0 0 0 0\n",
      " 0 0 0 0 0 0 0 0 0 0 0 0 0 1 2 1 2 2 2 2 2 2 2 2 2 2 2 2 2 2 2 2 2 2 2 2 2\n",
      " 2 2 2 1 2 2 2 2 2 2 2 2 2 2 2 2 2 2 2 2 2 2 2 2 2 2 1 2 1 1 1 1 2 1 1 1 1\n",
      " 1 1 2 2 1 1 1 1 2 1 2 1 2 1 1 2 2 1 1 1 1 1 2 1 1 1 1 2 1 1 1 2 1 1 1 2 1\n",
      " 1 2]\n",
      "result label by model :\n",
      " [0 0 0 0 0 0 0 0 0 0 0 0 0 0 0 0 0 0 0 0 0 0 0 0 0 0 0 0 0 0 0 0 0 0 0 0 0\n",
      " 0 0 0 0 0 0 0 0 0 0 0 0 0 1 2 1 2 2 2 2 2 2 2 2 2 2 2 2 2 2 2 2 2 2 2 2 2\n",
      " 2 2 2 1 2 2 2 2 2 2 2 2 2 2 2 2 2 2 2 2 2 2 2 2 2 2 1 2 1 1 1 1 2 1 1 1 1\n",
      " 1 1 2 2 1 1 1 1 2 1 2 1 2 1 1 2 2 1 1 1 1 1 2 1 1 1 1 2 1 1 1 2 1 1 1 2 1\n",
      " 1 2]\n",
      "result label by model :\n",
      " [0 0 0 0 0 0 0 0 0 0 0 0 0 0 0 0 0 0 0 0 0 0 0 0 0 0 0 0 0 0 0 0 0 0 0 0 0\n",
      " 0 0 0 0 0 0 0 0 0 0 0 0 0 1 2 1 2 2 2 2 2 2 2 2 2 2 2 2 2 2 2 2 2 2 2 2 2\n",
      " 2 2 2 1 2 2 2 2 2 2 2 2 2 2 2 2 2 2 2 2 2 2 2 2 2 2 1 2 1 1 1 1 2 1 1 1 1\n",
      " 1 1 2 2 1 1 1 1 2 1 2 1 2 1 1 2 2 1 1 1 1 1 2 1 1 1 1 2 1 1 1 2 1 1 1 2 1\n",
      " 1 2]\n",
      "result label by model :\n",
      " [0 0 0 0 0 0 0 0 0 0 0 0 0 0 0 0 0 0 0 0 0 0 0 0 0 0 0 0 0 0 0 0 0 0 0 0 0\n",
      " 0 0 0 0 0 0 0 0 0 0 0 0 0 1 2 1 2 2 2 2 2 2 2 2 2 2 2 2 2 2 2 2 2 2 2 2 2\n",
      " 2 2 2 1 2 2 2 2 2 2 2 2 2 2 2 2 2 2 2 2 2 2 2 2 2 2 1 2 1 1 1 1 2 1 1 1 1\n",
      " 1 1 2 2 1 1 1 1 2 1 2 1 2 1 1 2 2 1 1 1 1 1 2 1 1 1 1 2 1 1 1 2 1 1 1 2 1\n",
      " 1 2]\n"
     ]
    },
    {
     "name": "stderr",
     "output_type": "stream",
     "text": [
      "/usr/local/lib/python3.10/dist-packages/sklearn/cluster/_kmeans.py:870: FutureWarning: The default value of `n_init` will change from 10 to 'auto' in 1.4. Set the value of `n_init` explicitly to suppress the warning\n",
      "  warnings.warn(\n",
      "/usr/local/lib/python3.10/dist-packages/sklearn/cluster/_kmeans.py:1362: RuntimeWarning: Explicit initial center position passed: performing only one init in KMeans instead of n_init=10.\n",
      "  super()._check_params_vs_input(X, default_n_init=10)\n",
      "/usr/local/lib/python3.10/dist-packages/sklearn/cluster/_kmeans.py:870: FutureWarning: The default value of `n_init` will change from 10 to 'auto' in 1.4. Set the value of `n_init` explicitly to suppress the warning\n",
      "  warnings.warn(\n",
      "/usr/local/lib/python3.10/dist-packages/sklearn/cluster/_kmeans.py:1362: RuntimeWarning: Explicit initial center position passed: performing only one init in KMeans instead of n_init=10.\n",
      "  super()._check_params_vs_input(X, default_n_init=10)\n",
      "/usr/local/lib/python3.10/dist-packages/sklearn/cluster/_kmeans.py:870: FutureWarning: The default value of `n_init` will change from 10 to 'auto' in 1.4. Set the value of `n_init` explicitly to suppress the warning\n",
      "  warnings.warn(\n",
      "/usr/local/lib/python3.10/dist-packages/sklearn/cluster/_kmeans.py:1362: RuntimeWarning: Explicit initial center position passed: performing only one init in KMeans instead of n_init=10.\n",
      "  super()._check_params_vs_input(X, default_n_init=10)\n",
      "/usr/local/lib/python3.10/dist-packages/sklearn/cluster/_kmeans.py:870: FutureWarning: The default value of `n_init` will change from 10 to 'auto' in 1.4. Set the value of `n_init` explicitly to suppress the warning\n",
      "  warnings.warn(\n",
      "/usr/local/lib/python3.10/dist-packages/sklearn/cluster/_kmeans.py:1362: RuntimeWarning: Explicit initial center position passed: performing only one init in KMeans instead of n_init=10.\n",
      "  super()._check_params_vs_input(X, default_n_init=10)\n",
      "/usr/local/lib/python3.10/dist-packages/sklearn/cluster/_kmeans.py:870: FutureWarning: The default value of `n_init` will change from 10 to 'auto' in 1.4. Set the value of `n_init` explicitly to suppress the warning\n",
      "  warnings.warn(\n",
      "/usr/local/lib/python3.10/dist-packages/sklearn/cluster/_kmeans.py:1362: RuntimeWarning: Explicit initial center position passed: performing only one init in KMeans instead of n_init=10.\n",
      "  super()._check_params_vs_input(X, default_n_init=10)\n"
     ]
    }
   ],
   "source": [
    "### your answer here\n",
    "#we print the result of sklearn.cluster.KMeans 5 times\n",
    "#with initial center point is fixed (X[2], X[4], X[6])\n",
    "init = np.array([X[2], X[4], X[6]])\n",
    "\n",
    "for i in range(5):\n",
    "    model = KMeans(n_clusters = 3, init = init)\n",
    "    model.fit(X)\n",
    "    print(\"result label by model :\\n\", model.labels_)\n",
    "    \n",
    "#and the results are all same"
   ]
  },
  {
   "cell_type": "code",
   "execution_count": null,
   "metadata": {
    "colab": {
     "base_uri": "https://localhost:8080/"
    },
    "id": "blfjBI-owLG9",
    "outputId": "9f18ccc9-d7b3-46fc-cecd-224aa94c3926"
   },
   "outputs": [
    {
     "name": "stdout",
     "output_type": "stream",
     "text": [
      "inertia = 1806.19\n",
      "inertia = 229.00343648589669\n",
      "inertia = 104.29224667355439\n",
      "inertia = 88.83095772737767\n",
      "inertia = 84.95217943238866\n",
      "inertia = 84.0127788886515\n",
      "inertia = 83.04698186876976\n",
      "inertia = 81.74960206772622\n",
      "inertia = 80.80637600000001\n",
      "inertia = 79.87357983461305\n",
      "inertia = 79.34436414532675\n",
      "inertia = 78.92130972222222\n",
      "update times : 12\n",
      "result label by MyKmeans:\n",
      " [0 0 0 0 0 0 0 0 0 0 0 0 0 0 0 0 0 0 0 0 0 0 0 0 0 0 0 0 0 0 0 0 0 0 0 0 0\n",
      " 0 0 0 0 0 0 0 0 0 0 0 0 0 1 2 1 2 2 2 2 2 2 2 2 2 2 2 2 2 2 2 2 2 2 2 2 2\n",
      " 2 2 2 1 2 2 2 2 2 2 2 2 2 2 2 2 2 2 2 2 2 2 2 2 2 2 1 2 1 1 1 1 2 1 1 1 1\n",
      " 1 1 2 2 1 1 1 1 2 1 2 1 2 1 1 2 2 1 1 1 1 1 2 1 1 1 1 2 1 1 1 2 1 1 1 2 1\n",
      " 1 2]\n",
      "inertia = 78.8556658259773\n",
      "update times : 1\n",
      "result label by MyKmeans:\n",
      " [0 0 0 0 0 0 0 0 0 0 0 0 0 0 0 0 0 0 0 0 0 0 0 0 0 0 0 0 0 0 0 0 0 0 0 0 0\n",
      " 0 0 0 0 0 0 0 0 0 0 0 0 0 1 2 1 2 2 2 2 2 2 2 2 2 2 2 2 2 2 2 2 2 2 2 2 2\n",
      " 2 2 2 1 2 2 2 2 2 2 2 2 2 2 2 2 2 2 2 2 2 2 2 2 2 2 1 2 1 1 1 1 2 1 1 1 1\n",
      " 1 1 2 2 1 1 1 1 2 1 2 1 2 1 1 2 2 1 1 1 1 1 2 1 1 1 1 2 1 1 1 2 1 1 1 2 1\n",
      " 1 2]\n",
      "inertia = 78.8556658259773\n",
      "update times : 1\n",
      "result label by MyKmeans:\n",
      " [0 0 0 0 0 0 0 0 0 0 0 0 0 0 0 0 0 0 0 0 0 0 0 0 0 0 0 0 0 0 0 0 0 0 0 0 0\n",
      " 0 0 0 0 0 0 0 0 0 0 0 0 0 1 2 1 2 2 2 2 2 2 2 2 2 2 2 2 2 2 2 2 2 2 2 2 2\n",
      " 2 2 2 1 2 2 2 2 2 2 2 2 2 2 2 2 2 2 2 2 2 2 2 2 2 2 1 2 1 1 1 1 2 1 1 1 1\n",
      " 1 1 2 2 1 1 1 1 2 1 2 1 2 1 1 2 2 1 1 1 1 1 2 1 1 1 1 2 1 1 1 2 1 1 1 2 1\n",
      " 1 2]\n",
      "inertia = 78.8556658259773\n",
      "update times : 1\n",
      "result label by MyKmeans:\n",
      " [0 0 0 0 0 0 0 0 0 0 0 0 0 0 0 0 0 0 0 0 0 0 0 0 0 0 0 0 0 0 0 0 0 0 0 0 0\n",
      " 0 0 0 0 0 0 0 0 0 0 0 0 0 1 2 1 2 2 2 2 2 2 2 2 2 2 2 2 2 2 2 2 2 2 2 2 2\n",
      " 2 2 2 1 2 2 2 2 2 2 2 2 2 2 2 2 2 2 2 2 2 2 2 2 2 2 1 2 1 1 1 1 2 1 1 1 1\n",
      " 1 1 2 2 1 1 1 1 2 1 2 1 2 1 1 2 2 1 1 1 1 1 2 1 1 1 1 2 1 1 1 2 1 1 1 2 1\n",
      " 1 2]\n",
      "inertia = 78.8556658259773\n",
      "update times : 1\n",
      "result label by MyKmeans:\n",
      " [0 0 0 0 0 0 0 0 0 0 0 0 0 0 0 0 0 0 0 0 0 0 0 0 0 0 0 0 0 0 0 0 0 0 0 0 0\n",
      " 0 0 0 0 0 0 0 0 0 0 0 0 0 1 2 1 2 2 2 2 2 2 2 2 2 2 2 2 2 2 2 2 2 2 2 2 2\n",
      " 2 2 2 1 2 2 2 2 2 2 2 2 2 2 2 2 2 2 2 2 2 2 2 2 2 2 1 2 1 1 1 1 2 1 1 1 1\n",
      " 1 1 2 2 1 1 1 1 2 1 2 1 2 1 1 2 2 1 1 1 1 1 2 1 1 1 1 2 1 1 1 2 1 1 1 2 1\n",
      " 1 2]\n"
     ]
    },
    {
     "name": "stderr",
     "output_type": "stream",
     "text": [
      "<ipython-input-26-0c9236b15179>:9: FutureWarning: elementwise comparison failed; returning scalar instead, but in the future will perform elementwise comparison\n",
      "  if(init == \"random\"):\n"
     ]
    }
   ],
   "source": [
    "#we print the result of MyKmeans 5 times\n",
    "#with initial center point is fixed (X[2], X[4], X[6])\n",
    "init = np.array([X[2], X[4], X[6]])\n",
    "\n",
    "for i in range(5):\n",
    "    my_lable, my_center = MyKmeans(X, 3, init = init)\n",
    "    print(\"result label by MyKmeans:\\n\", my_lable)\n",
    "    \n",
    "#as we can see , the results are all same between our function and sklearn.cluster.KMeans"
   ]
  }
 ],
 "metadata": {
  "colab": {
   "provenance": []
  },
  "kernelspec": {
   "display_name": "Python 3 (ipykernel)",
   "language": "python",
   "name": "python3"
  },
  "language_info": {
   "codemirror_mode": {
    "name": "ipython",
    "version": 3
   },
   "file_extension": ".py",
   "mimetype": "text/x-python",
   "name": "python",
   "nbconvert_exporter": "python",
   "pygments_lexer": "ipython3",
   "version": "3.9.13"
  }
 },
 "nbformat": 4,
 "nbformat_minor": 1
}
