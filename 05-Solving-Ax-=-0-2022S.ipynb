{
 "cells": [
  {
   "cell_type": "markdown",
   "metadata": {},
   "source": [
    "# Solving Ax = 0"
   ]
  },
  {
   "cell_type": "markdown",
   "metadata": {},
   "source": [
    "![Creative Commons License](https://i.creativecommons.org/l/by/4.0/88x31.png)  \n",
    "This work by Jephian Lin is licensed under a [Creative Commons Attribution 4.0 International License](http://creativecommons.org/licenses/by/4.0/)."
   ]
  },
  {
   "cell_type": "code",
   "execution_count": null,
   "metadata": {},
   "outputs": [],
   "source": [
    "import numpy as np\n",
    "import matplotlib.pyplot as plt\n",
    "from mpl_toolkits import mplot3d\n",
    "import sympy"
   ]
  },
  {
   "cell_type": "markdown",
   "metadata": {},
   "source": [
    "## Main idea"
   ]
  },
  {
   "cell_type": "markdown",
   "metadata": {},
   "source": [
    "Let $A$ be an $m\\times n$ matrix.  The solution set of $A{\\bf x} = {\\bf 0}$ is the intersection of the hyperplanes $\\langle {\\bf r}_i, {\\bf x}\\rangle = 0$ for all $i=1,\\ldots,m$, where ${\\bf r}_i$ is the $i$-th row of $A$.  \n",
    "Therefore, the solution set of $A$ is a space and we call it the **kernel** $\\operatorname{ker}(A)$ of $A$.\n",
    "\n",
    "Every matrix lead to its **reduced echelon form** after some **row operations**.  If $R$ is the reduced echelon form of $A$, then $A{\\bf x} = {\\bf 0} \\iff R{\\bf x} = {\\bf 0}$."
   ]
  },
  {
   "cell_type": "markdown",
   "metadata": {},
   "source": [
    "## Side stories"
   ]
  },
  {
   "cell_type": "markdown",
   "metadata": {},
   "source": [
    "- row operations, reduced echelon form\n",
    "- SymPy\n",
    "- trivial or infinite solutions\n",
    "- kernel (null space)\n",
    "- row space\n",
    "- rank + nullity = number of columns"
   ]
  },
  {
   "cell_type": "markdown",
   "metadata": {},
   "source": [
    "## Experiments"
   ]
  },
  {
   "cell_type": "markdown",
   "metadata": {},
   "source": [
    "###### Exercise 1\n",
    "This exercise shows you that the kernel and the row space of a matrix are orthogonal to each other.  \n",
    "Let  \n",
    "```python\n",
    "A = np.array([[1,1,1], \n",
    "              [1,1,1]])\n",
    "```\n",
    "The **nullity** of $A$ is the dimension of its kernel.  \n",
    "The **rank** of $A$ is the dimension of its row space.  "
   ]
  },
  {
   "cell_type": "markdown",
   "metadata": {},
   "source": [
    "###### 1(a)\n",
    "Use the techniques you learned in Lesson 2 to draw some random points in the kernel of $A$.  \n",
    "What is the nullity of $A$?"
   ]
  },
  {
   "cell_type": "code",
   "execution_count": null,
   "metadata": {},
   "outputs": [],
   "source": [
    "A = np.array([[1,1,1], \n",
    "              [1,1,1]])\n",
    "v = np.random.randn(3,10000)\n",
    "Av = A.dot(v)\n",
    "mask = (np.abs(Av)<0.01).all(axis = 0)\n",
    "new_v = v[:,mask]\n",
    "%matplotlib notebook\n",
    "ax = plt.axes(projection='3d')\n",
    "ax.scatter(new_v[0],new_v[1],new_v[2])\n"
   ]
  },
  {
   "cell_type": "markdown",
   "metadata": {},
   "source": [
    "###### 1(b)\n",
    "Use the techniques you learned in Lesson 3 to draw a grid using the rows of $A$.  \n",
    "What is the rank of $A$?"
   ]
  },
  {
   "cell_type": "code",
   "execution_count": null,
   "metadata": {},
   "outputs": [],
   "source": [
    "A = np.array([[1,1,1], \n",
    "              [1,1,1]])\n",
    "\n",
    "A = A.T\n",
    "\n",
    "grid = np.meshgrid(np.arange(5), np.arange(5))##製造步長為一範圍是0~5的網格矩陣\n",
    "xs = grid[0].ravel()\n",
    "ys = grid[1].ravel()\n",
    "\n",
    "vs = np.vstack([xs,ys]) ##把xs放在上ys放在下的新矩陣\n",
    "Avs = A.dot(vs) ##對轉置後矩陣A的u1,u2做線性組合\n",
    "%matplotlib notebook\n",
    "ax = plt.axes(projection='3d')\n",
    "ax.scatter(Avs[0], Avs[1], Avs[2])"
   ]
  },
  {
   "cell_type": "markdown",
   "metadata": {},
   "source": [
    "###### 1(c)\n",
    "Do the same for  \n",
    "```python\n",
    "B = np.array([[1,-1,0], \n",
    "              [1,0,-1]])\n",
    "```\n",
    "What is the nullity and the rank of $B$?"
   ]
  },
  {
   "cell_type": "code",
   "execution_count": null,
   "metadata": {},
   "outputs": [],
   "source": [
    "B = np.array([[1,-1,0], \n",
    "              [1,0,-1]])\n",
    "v = np.random.randn(3,10000)\n",
    "Bv = B.dot(v)\n",
    "mask = (np.abs(Bv)<0.1).all(axis = 0)\n",
    "new_v = v[:,mask]\n",
    "\n",
    "B = B.T\n",
    "grid = np.meshgrid(np.arange(5),np.arange(5))\n",
    "x = grid[0].ravel()\n",
    "y = grid[1].ravel()\n",
    "vs = np.vstack([x,y])\n",
    "Bvs = B.dot(vs)\n",
    "\n",
    "%matplotlib notebook\n",
    "ax = plt.axes(projection='3d')\n",
    "ax.scatter(new_v[0],new_v[1],new_v[2])\n",
    "ax.scatter(Bvs[0],Bvs[1],Bvs[2])"
   ]
  },
  {
   "cell_type": "markdown",
   "metadata": {},
   "source": [
    "## Exercises"
   ]
  },
  {
   "cell_type": "markdown",
   "metadata": {},
   "source": [
    "##### Exercise 2\n",
    "We need to rely on SymPy to do the row operations.  \n",
    "You may use `sympy.Matrix(arr)` and `np.array(mtx, dtype=float)` to switch between two data types.  \n",
    "Let\n",
    "```python\n",
    "A = sympy.Matrix([[1,1,1,1], \n",
    "                  [1,2,2,2], \n",
    "                  [1,2,2,3]])\n",
    "R,pvts = A.rref()\n",
    "```\n",
    "Convince your self that $A$ and $R$ have the same kernel."
   ]
  },
  {
   "cell_type": "code",
   "execution_count": null,
   "metadata": {},
   "outputs": [],
   "source": [
    "A = sympy.Matrix([[1,1,1,1], \n",
    "                  [1,2,2,2], \n",
    "                  [1,2,2,3]])\n",
    "R,pvts = A.rref()##把A矩陣運算成階梯形式會回傳兩個數值第一個是精簡行梯形形式，第二個是樞軸列索引元組。\n",
    "print(R,pvts)##輸出階梯形式R以及輸出pvts會告訴我們領導變數為0,1,3\n",
    "print(A.nullspace())\n",
    "print(R.nullspace())\n"
   ]
  },
  {
   "cell_type": "markdown",
   "metadata": {},
   "source": [
    "##### Exercise 3\n",
    "The function `A.rref()` returns the reduced echelon form of $A$ and the indices of the **pivots** --- they are the indices of the first one in each row.  \n",
    "Find a $3\\times 5$ matrix whose pivots are `(1,2,4)` ."
   ]
  },
  {
   "cell_type": "code",
   "execution_count": null,
   "metadata": {},
   "outputs": [],
   "source": [
    "A = sympy.Matrix([[0,1,1,1,1], \n",
    "                  [0,1,2,2,2], \n",
    "                  [0,1,2,2,3]])\n",
    "R,pvts = A.rref()\n",
    "print(R,pvts)"
   ]
  },
  {
   "cell_type": "markdown",
   "metadata": {},
   "source": [
    "##### Exercise 4\n",
    "Let  \n",
    "```python\n",
    "A = sympy.Matrix([[1,0,2,0,4], \n",
    "                  [0,1,3,0,5], \n",
    "                  [0,0,0,1,6]])\n",
    "```\n",
    "Then $A{\\bf x} = {\\bf 0}$ is equivalent to \n",
    "$$\\begin{array}{rrrrrl}\n",
    "x_0 & ~ & +2x_2 & ~ & +4x_4 & = 0 \\\\\n",
    "~ & x_1 & +3x_2 & ~ & +5x_4 & = 0 \\\\\n",
    "~ & ~ & ~ & x_3 & +6x_4 & = 0.\n",
    "\\end{array}$$"
   ]
  },
  {
   "cell_type": "markdown",
   "metadata": {},
   "source": [
    "###### 4(a)\n",
    "Suppose $x_2 = 1$ and $x_4 = 0$.  Solve the equation by hand.    \n",
    "Use  \n",
    "```python\n",
    "x = sympy.Matrix([x0, x1, x2, x3, x4])\n",
    "A * x\n",
    "```\n",
    "to check your answer."
   ]
  },
  {
   "cell_type": "code",
   "execution_count": null,
   "metadata": {},
   "outputs": [],
   "source": [
    "## By hand: X0=-2, X1=-3, X3=0\n",
    "A = sympy.Matrix([[1,0,2,0,4], \n",
    "                  [0,1,3,0,5], \n",
    "                  [0,0,0,1,6]])\n",
    "x = sympy.Matrix([-2, -3, 1, 0, 0])\n",
    "Ax = A.dot(x)\n",
    "print(Ax)"
   ]
  },
  {
   "cell_type": "markdown",
   "metadata": {},
   "source": [
    "###### 4(b)\n",
    "Find more solutions by setting $x_2 = s$ and $x_4 = t$.  \n",
    "Let  \n",
    "```python\n",
    "h1,h2 = A.nullspace()\n",
    "```\n",
    "Is your answer the same as $s{\\bf h}_1 + t{\\bf h}_2$?  "
   ]
  },
  {
   "cell_type": "code",
   "execution_count": null,
   "metadata": {},
   "outputs": [],
   "source": [
    "### By hand: x0=-2s-4t, x1=-3s-5t, x3=-6t\n",
    "### 故可推算出[x0,x1,x2,x3,x4] = sh1 + sh2 = s[--2,-3,1,0,0] + t[-4,-5,0,-6,1]\n",
    "import sympy\n",
    "A = sympy.Matrix([[1,0,2,0,4], [0,1,3,0,5], [0,0,0,1,6]])\n",
    "h1,h2 = A.nullspace()\n",
    "print(h1)\n",
    "print(h2)"
   ]
  },
  {
   "cell_type": "markdown",
   "metadata": {},
   "source": [
    "###### 4(c)\n",
    "Here is the code for generating ${\\bf h}$'s.  \n",
    "Play with the code and understand the fancy indexing feature in NumPy.\n",
    "```python\n",
    "R,pvts = A.rref()\n",
    "\n",
    "num_cols = A.shape[1]\n",
    "rank = len(pvts)\n",
    "\n",
    "R = np.array(R)\n",
    "pvts = np.array(pvts)\n",
    "frees = np.array([j for j in range(num_cols) if j not in pvts])\n",
    "\n",
    "for j in frees:\n",
    "    h = np.zeros((num_cols,))\n",
    "    h[j] = 1\n",
    "    h[pvts] = -R[:rank, j]\n",
    "    print(h)\n",
    "```"
   ]
  },
  {
   "cell_type": "code",
   "execution_count": null,
   "metadata": {},
   "outputs": [],
   "source": [
    "import numpy as np\n",
    "R,pvts = A.rref()\n",
    "\n",
    "num_cols = A.shape[1]\n",
    "rank = len(pvts)\n",
    "\n",
    "R = np.array(R)\n",
    "pvts = np.array(pvts)\n",
    "frees = np.array([j for j in range(num_cols) if j not in pvts])\n",
    "\n",
    "for j in frees:\n",
    "    h = np.zeros((num_cols,))\n",
    "    h[j] = 1\n",
    "    h[pvts] = -R[:rank, j]\n",
    "    print(h)"
   ]
  },
  {
   "cell_type": "markdown",
   "metadata": {},
   "source": [
    "##### 4(d)\n",
    "Alternatively, you may generate a \"null matrix\" at once.  \n",
    "Play with the code and understand the slicing feature in NumPy.\n",
    "```python\n",
    "R,pvts = A.rref()\n",
    "\n",
    "num_cols = A.shape[1]\n",
    "rank = len(pvts)\n",
    "\n",
    "R = np.array(R)\n",
    "pvts = np.array(pvts)\n",
    "frees = np.array([j for j in range(num_cols) if j not in pvts])\n",
    "\n",
    "num_frees = frees.shape[0]\n",
    "hs = np.zeros((num_frees, num_cols))\n",
    "hs[:, frees] = np.eye(num_frees)\n",
    "hs[:, pvts] = -R[:rank, frees].T\n",
    "```"
   ]
  },
  {
   "cell_type": "code",
   "execution_count": null,
   "metadata": {},
   "outputs": [],
   "source": [
    "R,pvts = A.rref()\n",
    "\n",
    "num_cols = A.shape[1]\n",
    "rank = len(pvts)\n",
    "\n",
    "R = np.array(R)\n",
    "pvts = np.array(pvts)\n",
    "frees = np.array([j for j in range(num_cols) if j not in pvts])\n",
    "\n",
    "num_frees = frees.shape[0]\n",
    "hs = np.zeros((num_frees, num_cols))\n",
    "hs[:, frees] = np.eye(num_frees)\n",
    "hs[:, pvts] = -R[:rank, frees].T"
   ]
  },
  {
   "cell_type": "markdown",
   "metadata": {},
   "source": [
    "#### Remark\n",
    "Let $R$ is a reduced echelon form.  \n",
    "(Think of Exercise 4.)\n",
    "The first one in each row = first variable in each equation = a leading variable. (e.g., `(0,1,3)` )  \n",
    "Other variables = free variables.  (e.g., `(2,4)` )  \n",
    "By assigning arbitrary numbers to free variables, one may solve the leading variables.  \n",
    "\n",
    "rank = number of leading variables = number of nonzero rows in $R$  \n",
    "nullity = number of free variables  \n",
    "\n",
    "nullity = 0 $\\iff$ $\\operatorname{ker}(A)$ contains only one trivial ${\\bf 0}$  \n",
    "nullity > 0 $iff$ $\\operatorname{ker}(A)$ has infinit solution\n",
    "\n",
    "#### Dimension theorem\n",
    "For any $m\\times n$ matrix $A$,  \n",
    "$$\\operatorname{rank}(A) + \\operatorname{nullity}(A) = n.$$"
   ]
  },
  {
   "cell_type": "markdown",
   "metadata": {},
   "source": [
    "##### Exercise 5\n",
    "Let  \n",
    "```python\n",
    "A = sympy.Matrix([[1,3,3,18], \n",
    "                  [5,15,16,95], \n",
    "                  [-5,-15,-15,-90]])\n",
    "R,pvts = A.rref()\n",
    "```\n",
    "Use the same technique as Exercise 4 to solve the kernel of $A$.  \n",
    "Then verify your answer by `A.nullspace()`."
   ]
  },
  {
   "cell_type": "code",
   "execution_count": null,
   "metadata": {},
   "outputs": [],
   "source": [
    "%matplotlib notebook\n",
    "#ax = plt.axes(projection='3d')\n",
    "###找出reduced echelon form(階梯形矩陣) 找nullspace\n",
    "A = sympy.Matrix([[1,3,3,18], \n",
    "                  [5,15,16,95], \n",
    "                  [-5,-15,-15,-90]])\n",
    "\n",
    "R,pvts = A.rref()\n",
    "\n",
    "k= R.nullspace()\n",
    "\n",
    "\n",
    "ka = np.array(k)\n",
    "\n",
    "ka"
   ]
  },
  {
   "cell_type": "markdown",
   "metadata": {},
   "source": [
    "##### Exercise 6\n",
    "Let  \n",
    "```python\n",
    "A = np.array([[1,1,1], \n",
    "              [1,1,1]])\n",
    "A_sym = sympy.Matrix(A)\n",
    "```\n",
    "Use the vectors in `A_sym.nullspace()` to draw the grid.  \n",
    "Check if the space is the same as what you did in Exercise 1."
   ]
  },
  {
   "cell_type": "code",
   "execution_count": null,
   "metadata": {},
   "outputs": [],
   "source": [
    "###找出A的reduced echelon form\n",
    "### 生成隨機數列跟A的null space內積\n",
    "###出現的點即為A的null space張出的平面\n",
    "%matplotlib notebook\n",
    "ax = plt.axes(projection='3d')\n",
    "\n",
    "A = np.array([[1,1,1], \n",
    "              [1,1,1]])\n",
    "\n",
    "A_sym = sympy.Matrix(A)\n",
    "\n",
    "B = A_sym.nullspace()\n",
    "\n",
    "C = np.array(B)\n",
    "\n",
    "C = C.reshape(3,2)\n",
    "\n",
    "r = np.random.randn(2,100)\n",
    "\n",
    "\n",
    "vs = np.dot(C,r)\n",
    "\n",
    "ax.scatter(vs[0],vs[1],vs[2])"
   ]
  },
  {
   "cell_type": "markdown",
   "metadata": {},
   "source": [
    "##### Exercise 7\n",
    "Let  \n",
    "```python\n",
    "A = sympy.Matrix([[1,-1,0], \n",
    "                 [1,0,-1]])\n",
    "R,pvts = A.rref()\n",
    "```\n",
    "Draw the grid in red using the rows of $A$ and draw the grid in blue using the rows of $R$.  \n",
    "Are they the same space?\n"
   ]
  },
  {
   "cell_type": "code",
   "execution_count": null,
   "metadata": {},
   "outputs": [],
   "source": [
    "#ax = plt.axes(projection='3d')\n",
    "\n",
    "#A = np.array([[1,-1,0], \n",
    "              [1,0,-1]])\n",
    "#C = np.array(B)\n",
    "#C = C.reshape(3,1)\n",
    "#r = 5*np.random.randn(1,10)\n",
    "#vs = np.dot(C,r)\n",
    "#A = sympy.Matrix([[1,-1,0], \n",
    "                 [1,0,-1]])\n",
    "#R,pvts = A.rref()\n",
    "#vs[1]\n",
    "#ax.scatter(vs[0],vs[1],vs[2],c='red')\n",
    "\n",
    "\n",
    "%matplotlib notebook\n",
    "ax = plt.axes(projection='3d')\n",
    "A = sympy.Matrix([[1,-1,0], \n",
    "                 [1,0,-1]])\n",
    "A = A.T\n",
    "R,pvts = A.rref()\n",
    "grid = np.meshgrid(np.arange(5), np.arange(5))\n",
    "xs = grid[0].ravel()\n",
    "ys = grid[1].ravel()\n",
    "vs = sympy.Matrix([xs,ys]) ### 2 x 25 np.vstack\n",
    "Avs = np.dot(A,vs) ### 3 x 2 times 2 x 25\n",
    "ax = plt.axes(projection='3d')\n",
    "ax.set_xlim(-5,5)\n",
    "ax.set_ylim(-5,5)\n",
    "ax.set_zlim(-5,5)\n",
    "ax.scatter(Avs[0], Avs[1], Avs[2], c='red')"
   ]
  },
  {
   "cell_type": "code",
   "execution_count": null,
   "metadata": {},
   "outputs": [],
   "source": [
    "%matplotlib notebook\n",
    "ax = plt.axes(projection='3d')\n",
    "A = sympy.Matrix([[1,-1,0], \n",
    "                 [1,0,-1]])\n",
    "A = A.T\n",
    "R,pvts = A.rref()\n",
    "grid = np.meshgrid(np.arange(5), np.arange(5))\n",
    "xs = grid[0].ravel()\n",
    "ys = grid[1].ravel()\n",
    "vs = sympy.Matrix([xs,ys]) ### 2 x 25 np.vstack\n",
    "Avs = np.dot(A,vs) ### 3 x 2 times 2 x 25\n",
    "ax = plt.axes(projection='3d')\n",
    "ax.set_xlim(-5,5)\n",
    "ax.set_ylim(-5,5)\n",
    "ax.set_zlim(-5,5)\n",
    "ax.scatter(Avs[0], Avs[1], Avs[2], c='pink')\n",
    "%matplotlib notebook\n",
    "ax = plt.axes(projection='3d')\n",
    "\n",
    "Rvs = np.dot(R,vs) ### 3 x 2 times 2 x 25\n",
    "\n",
    "ax = plt.axes(projection='3d')\n",
    "ax.set_xlim(-5,5)\n",
    "ax.set_ylim(-5,5)\n",
    "ax.set_zlim(-5,5)\n",
    "ax.scatter(Rvs[0], Rvs[1], Rvs[2], c='blue')"
   ]
  },
  {
   "cell_type": "code",
   "execution_count": null,
   "metadata": {},
   "outputs": [],
   "source": []
  }
 ],
 "metadata": {
  "kernelspec": {
   "display_name": "Python 3 (ipykernel)",
   "language": "python",
   "name": "python3"
  },
  "language_info": {
   "codemirror_mode": {
    "name": "ipython",
    "version": 3
   },
   "file_extension": ".py",
   "mimetype": "text/x-python",
   "name": "python",
   "nbconvert_exporter": "python",
   "pygments_lexer": "ipython3",
   "version": "3.10.2"
  }
 },
 "nbformat": 4,
 "nbformat_minor": 4
}
