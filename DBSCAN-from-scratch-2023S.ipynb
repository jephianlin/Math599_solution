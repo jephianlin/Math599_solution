{
 "cells": [
  {
   "cell_type": "markdown",
   "metadata": {
    "id": "YfEmU4xwxexU"
   },
   "source": [
    "# DBSCAN from scratch"
   ]
  },
  {
   "cell_type": "markdown",
   "metadata": {
    "id": "40-jbFwcxexa"
   },
   "source": [
    "![Creative Commons License](https://i.creativecommons.org/l/by/4.0/88x31.png)  \n",
    "This work by Jephian Lin is licensed under a [Creative Commons Attribution 4.0 International License](http://creativecommons.org/licenses/by/4.0/)."
   ]
  },
  {
   "cell_type": "code",
   "execution_count": null,
   "metadata": {
    "id": "1AQ-1xm2xexb"
   },
   "outputs": [],
   "source": [
    "import numpy as np\n",
    "import matplotlib.pyplot as plt"
   ]
  },
  {
   "cell_type": "markdown",
   "metadata": {
    "id": "nwMsikPHxexc"
   },
   "source": [
    "## Algorithm\n",
    "**Input:**  \n",
    "- `X`: an array of shape `(N,d)` whose rows are samples and columns are features\n",
    "- `eps`: the $\\epsilon$ used for finding neighborhood\n",
    "- `min_samples`: a sample is considered as a core sample if its $\\epsilon$-ball contains at least `min_sample` samples (including itself)\n",
    "- `draw`: boolean, return a illustrative figure or not\n",
    "\n",
    "**Output:**  \n",
    "A tuple `(y_new, core_indices, fig)`  or `(y_new, core_indices)` depending on `draw` or not.    \n",
    "- `y_new`: an array of shape `(N,)` that records the labels in of each sample, where `-1` stands for a noise \n",
    "- `core_indices`: an array of shape `(n_core_samples,)` that stores the indices of the core samples\n",
    "- `fig`: an illustrative figure showing the data points, DFS tree, core samples, and noises\n",
    "\n",
    "**Steps:**\n",
    "1. Build a list `nbrhoods` whose `i`-th element is the array of the indices of its neighbors.  \n",
    "Here two points are neighbors if the distance between them is less than or equal to `eps` .  \n",
    "A point is considered as its neighbor.\n",
    "2. If sample `i` has at least `min_samples` neighbors, then it is called a core sample.  \n",
    "Store the indices of core samples in the array `core_indices` .\n",
    "3. Set `label_num = 0`.  Label every sample as with `-1`.  For each sample `i`, do the following [DFS](https://en.wikipedia.org/wiki/Depth-first_search):\n",
    "    1. if sample `i` is a core labeled by `-1`, label it with `label_num`; otherwise, skip the following steps and move on the the next sample.\n",
    "    2. let `stack = [i]`\n",
    "    3. take (and remove) the last element `j` in `stack`\n",
    "    4. if `j` is labeled by `-1`, label it with `label_num`; moreover, if `j` is a core, insert the neighbors of `j` at the end of `stack`  \n",
    "    5. repeat Steps C, D, E until `stack` is empty\n",
    "    6. `label_num += 1`"
   ]
  },
  {
   "cell_type": "markdown",
   "metadata": {
    "id": "a7CzMxMDxexe"
   },
   "source": [
    "## Pseudocode\n",
    "Translate the algorithm into the pseudocode.  \n",
    "This helps you to identify the parts that you don't know how to do it.  "
   ]
  },
  {
   "cell_type": "markdown",
   "metadata": {
    "id": "nBBQzLJRxexe"
   },
   "source": [
    "    1. \n",
    "    2. \n",
    "    3. ..."
   ]
  },
  {
   "cell_type": "markdown",
   "metadata": {
    "id": "bkHiImQ4xexf"
   },
   "source": [
    "## Code"
   ]
  },
  {
   "cell_type": "code",
   "execution_count": null,
   "metadata": {
    "id": "7z30oUgTxexg"
   },
   "outputs": [],
   "source": [
    "def dist_mtx(X,Y):\n",
    "  X = X[:,np.newaxis,:]\n",
    "  Y = Y[np.newaxis,:,:]\n",
    "  difference = X-Y #回傳列跟列之間的差\n",
    "  dist = np.linalg.norm(difference,axis=2) #算每列的範數 => 形成列與列的距離矩陣\n",
    "  return dist"
   ]
  },
  {
   "cell_type": "code",
   "execution_count": null,
   "metadata": {
    "id": "re28qGfkkK3M"
   },
   "outputs": [],
   "source": [
    "#以這個程式碼為主\n",
    "def DBSCAN_fucntion(X,eps=0.5,min_samples=10):\n",
    "  dist = dist_mtx(X,X) #X列與列間的距離矩陣\n",
    "  verify_friend_mtx = (dist<eps)#bool矩陣,若dist對應元素<eps,則為TRUE,否則為FALSE\n",
    "  core_list = (verify_friend_mtx.sum(axis=1)>=min_samples) #bool矩陣,若adj矩陣之列和>=min_samp為TRUE,否則為FALSE , 意義是檢驗哪一個是core\n",
    "                                #(adj.sum(axis=1))累加ADJ的每一列,結果顯示每列有幾個元素是TRUE的\n",
    "\n",
    "  core_indices_list = []\n",
    "  for j in range(X.shape[0]): \n",
    "   if(core_list[j]==True):\n",
    "    core_indices_list.append(j)\n",
    "  core_indices = np.array(core_indices_list)  \n",
    "\n",
    "\n",
    "  nbrhoods = []\n",
    "  for i in range(X.shape[0]):\n",
    "       row_vec = verify_friend_mtx[i]\n",
    "       select_friend = np.where(row_vec)[0]\n",
    "       nbrhoods.append(select_friend)\n",
    "  \n",
    "  y_new = -np.ones((X.shape[0],),dtype=int) \n",
    "  label_num = 0\n",
    "\n",
    "  for ind in range(X.shape[0]):\n",
    "     if(core_list[ind]==True and y_new[ind]==-1):\n",
    "       stack = [ind]\n",
    "       while(stack!=[]):\n",
    "         j = stack.pop()\n",
    "         if(y_new[j]==-1):\n",
    "          y_new[j] = label_num\n",
    "          if(core_list[j]==True):\n",
    "            stack.extend(nbrhoods[j])\n",
    "\n",
    "       label_num = label_num +1\n",
    "    \n",
    "            \n",
    "  return y_new,core_indices      \n"
   ]
  },
  {
   "cell_type": "code",
   "execution_count": null,
   "metadata": {
    "id": "okszHUJOvOvX"
   },
   "outputs": [],
   "source": [
    "mu1 = np.array([2.5,0])\n",
    "cov1 = np.array([[1.1,-1],\n",
    "                [-1,1.1]])\n",
    "mu2 = np.array([-2.5,0])\n",
    "cov2 = np.array([[1.1,1],\n",
    "                [1,1.1]])\n",
    "X = np.vstack([np.random.multivariate_normal(mu1, cov1, 100), \n",
    "               np.random.multivariate_normal(mu2, cov2, 100)])"
   ]
  },
  {
   "cell_type": "code",
   "execution_count": null,
   "metadata": {
    "id": "21kuMhVQtcBs"
   },
   "outputs": [],
   "source": [
    "def DBSCAN(X,eps=5,min_samples=10,draw=2):\n",
    "  y_new,core_indices = DBSCAN_fucntion(X,eps,min_samples)\n",
    "  #畫圖\n",
    "  if(X.shape[1]==draw and draw==2):\n",
    "   plt.scatter(*X[:,:draw].T,c=y_new)\n",
    "   plt.scatter(*X[core_indices,:draw].T,c=\"r\",s=10) #core\n",
    "   plt.scatter(*X[y_new==-1,:draw].T,c=\"k\",s=100,marker=\"+\") #noise\n",
    "\n",
    "  else:\n",
    "    print(\"只支援二維點坐標模擬\")"
   ]
  },
  {
   "cell_type": "code",
   "execution_count": null,
   "metadata": {
    "colab": {
     "base_uri": "https://localhost:8080/",
     "height": 430
    },
    "id": "obh37kRZtwdC",
    "outputId": "0b6c70c8-5bfc-49ba-aea8-454bf4463670"
   },
   "outputs": [
    {
     "data": {
      "image/png": "[encoded data removed]",
      "text/plain": [
       "<Figure size 640x480 with 1 Axes>"
      ]
     },
     "metadata": {},
     "output_type": "display_data"
    }
   ],
   "source": [
    "DBSCAN(X,eps=0.75,min_samples=10,draw=2)"
   ]
  },
  {
   "cell_type": "code",
   "execution_count": null,
   "metadata": {
    "id": "G9vHzcVN3J1B"
   },
   "outputs": [],
   "source": [
    "def DBSCAN_fucntion(X,eps=0.5,min_samples=10):\n",
    "    dist = dist_mtx(X,X) #X列與列間的距離矩陣\n",
    "    adjacent = (dist<eps) #bool矩陣,若dist對應元素<eps,則為TRUE,否則為FALSE\n",
    "    core_mask = (adjacent.sum(axis=1)>=min_samples) #bool矩陣,若adj矩陣之列和>=min_samp為TRUE,否則為FALSE , 意義是檢驗哪一個是core\n",
    "                              #(adj.sum(axis=1))累加ADJ的每一列,結果顯示每列有幾個元素是TRUE的\n",
    "    core_indices = np.where(core_mask)[0]      #回傳core的指標(用列去看,假設是0,那代表第一列是core)\n",
    "    \n",
    "    nbrhoods = []                   #蒐集與第1,...,X.shape[0]列的friend列,然後把對應的friend指標列 列印出來\n",
    "    for i in range(X.shape[0]):\n",
    "       row_vec = adjacent[i]\n",
    "       select_friend = np.where(row_vec)[0]\n",
    "       nbrhoods.append(select_friend)\n",
    "\n",
    "    label_num = 0\n",
    "    y_new = -np.ones((X.shape[0],),dtype=int)\n",
    "    \n",
    "    for ind in range(X.shape[0]):\n",
    "     if(core_mask[ind]==True and y_new[ind]==-1):\n",
    "       stack = [ind]\n",
    "       while(stack!=[]):\n",
    "         j = stack.pop()\n",
    "         if(y_new[j]==-1):\n",
    "          y_new[j] = label_num\n",
    "          if(core_mask[j]==True):\n",
    "            stack.extend(nbrhoods[j])\n",
    "\n",
    "       label_num = label_num +1\n",
    "    \n",
    "            \n",
    "    return y_new,core_indices\n",
    "\n",
    "\n",
    "\n"
   ]
  },
  {
   "cell_type": "code",
   "execution_count": null,
   "metadata": {
    "colab": {
     "base_uri": "https://localhost:8080/"
    },
    "id": "F-HriJ0Y31mi",
    "outputId": "4cbf7481-c165-42e1-be06-4a4bba44ced3"
   },
   "outputs": [
    {
     "data": {
      "text/plain": [
       "[0, 1]"
      ]
     },
     "execution_count": 74,
     "metadata": {},
     "output_type": "execute_result"
    }
   ],
   "source": [
    "ind = 0\n",
    "stack=[ind]\n",
    "j= stack.pop()\n",
    "stack\n",
    "j\n",
    "nbrhoods = [np.array([0, 1]), np.array([0, 1, 4]), np.array([2]), np.array([3, 4]), np.array([1, 3, 4])] \n",
    "stack.extend(nbrhoods[j])\n",
    "stack"
   ]
  },
  {
   "cell_type": "code",
   "execution_count": null,
   "metadata": {
    "colab": {
     "base_uri": "https://localhost:8080/"
    },
    "id": "McaMArctj3AA",
    "outputId": "8f71ef2d-6ac1-4cc5-f4ff-f571f2467fd2"
   },
   "outputs": [
    {
     "data": {
      "text/plain": [
       "(array([ 0,  0, -1,  0,  0]), array([0, 1, 3, 4]))"
      ]
     },
     "execution_count": 69,
     "metadata": {},
     "output_type": "execute_result"
    }
   ],
   "source": [
    "DBSCAN_fucntion(X,4,2)"
   ]
  },
  {
   "cell_type": "code",
   "execution_count": null,
   "metadata": {
    "colab": {
     "base_uri": "https://localhost:8080/"
    },
    "id": "lJZqBYJ4YaXr",
    "outputId": "c5abe8bf-ec68-4a97-c004-46a2f22fac7f"
   },
   "outputs": [
    {
     "data": {
      "text/plain": [
       "array([-1, -1, -1, -1, -1])"
      ]
     },
     "execution_count": 23,
     "metadata": {},
     "output_type": "execute_result"
    }
   ],
   "source": [
    "stack = -np.ones((X.shape[0],),dtype=int) \n",
    "stack\n"
   ]
  },
  {
   "cell_type": "code",
   "execution_count": null,
   "metadata": {
    "colab": {
     "base_uri": "https://localhost:8080/"
    },
    "id": "GLlilWbeRxBL",
    "outputId": "386f7fab-41a5-4a45-a1f3-838196395bc8"
   },
   "outputs": [
    {
     "name": "stdout",
     "output_type": "stream",
     "text": [
      "[[0.         1.73205081 4.58257569 6.40312424 5.38516481]\n",
      " [1.73205081 0.         5.47722558 4.69041576 3.74165739]\n",
      " [4.58257569 5.47722558 0.         9.48683298 7.87400787]\n",
      " [6.40312424 4.69041576 9.48683298 0.         2.44948974]\n",
      " [5.38516481 3.74165739 7.87400787 2.44948974 0.        ]] \n",
      "\n",
      "[[ True  True False False False]\n",
      " [ True  True False False  True]\n",
      " [False False  True False False]\n",
      " [False False False  True  True]\n",
      " [False  True False  True  True]] \n",
      "\n",
      "[2 3 1 2 3] \n",
      "\n",
      "[ True  True False  True  True] \n",
      "\n",
      "[0 1 3 4] \n",
      "\n",
      "[0 1 3 4] \n",
      "\n",
      "[array([0, 1]), array([0, 1, 4]), array([2]), array([3, 4]), array([1, 3, 4])] \n",
      "\n",
      "[] \n",
      "\n"
     ]
    },
    {
     "data": {
      "text/plain": [
       "array([0, 0, 1, 1, 1, 2, 3, 3, 4, 4, 4])"
      ]
     },
     "execution_count": 25,
     "metadata": {},
     "output_type": "execute_result"
    }
   ],
   "source": [
    "eps = 4\n",
    "sample = 2\n",
    "X = np.array([[1,3,5],[2,4,6],[3,2,1],[4,7,9],[5,5,8]])\n",
    "dist = dist_mtx(X,X)\n",
    "\n",
    "print(dist,\"\\n\")\n",
    "adj = (dist<eps)\n",
    "print(adj,\"\\n\")\n",
    "core_mask = (adj.sum(axis=1))\n",
    "core_mask1 = (adj.sum(axis=1)>=sample)\n",
    "print(core_mask,\"\\n\")\n",
    "print(core_mask1,\"\\n\")\n",
    "core_indices = np.where(core_mask1)[0]\n",
    "print(core_indices,\"\\n\")\n",
    "print(core_indices,\"\\n\")\n",
    "#nbrhoods = [np.where(adj[i])[0] for i in range(X.shape[0])]\n",
    "\n",
    "nbrhoods = []                   #蒐集與第1,...,X.shape[0]列的friend列,然後把對應的friend指標列 列印出來\n",
    "for i in range(X.shape[0]):\n",
    "       row_vec = adj[i]\n",
    "       select_friend = np.where(row_vec)[0]\n",
    "       nbrhoods.append(select_friend)\n",
    "print(nbrhoods,\"\\n\")\n",
    "\n",
    "nbrhoods1 = []\n",
    "for j in range(X.shape[0]):\n",
    "    row_sel = np.where(adj[j]==True)\n",
    "    nbrhoods.append(row_sel)\n",
    "print(nbrhoods1,\"\\n\") \n",
    "np.where(adj)[0]   "
   ]
  },
  {
   "cell_type": "code",
   "execution_count": null,
   "metadata": {
    "colab": {
     "base_uri": "https://localhost:8080/"
    },
    "id": "ydMnNqYdqFUw",
    "outputId": "d00f9fe0-819d-4dd7-eb7b-11acc1a420a9"
   },
   "outputs": [
    {
     "data": {
      "text/plain": [
       "array([ True,  True, False, False,  True])"
      ]
     },
     "execution_count": 23,
     "metadata": {},
     "output_type": "execute_result"
    }
   ],
   "source": [
    "adj[1]"
   ]
  },
  {
   "cell_type": "code",
   "execution_count": null,
   "metadata": {
    "colab": {
     "base_uri": "https://localhost:8080/"
    },
    "id": "p5XzRgRyASB2",
    "outputId": "aeb699f9-9ec8-489a-d3fb-60da56737f8f"
   },
   "outputs": [
    {
     "data": {
      "text/plain": [
       "numpy.ndarray"
      ]
     },
     "execution_count": 77,
     "metadata": {},
     "output_type": "execute_result"
    }
   ],
   "source": [
    "type(core_indices)"
   ]
  },
  {
   "cell_type": "code",
   "execution_count": null,
   "metadata": {
    "colab": {
     "base_uri": "https://localhost:8080/"
    },
    "id": "OHqyBP_3jTW-",
    "outputId": "92fadbed-400f-41fe-a74b-ae7b07add206"
   },
   "outputs": [
    {
     "data": {
      "text/plain": [
       "True"
      ]
     },
     "execution_count": 39,
     "metadata": {},
     "output_type": "execute_result"
    }
   ],
   "source": [
    "core_mask1[0]==True"
   ]
  },
  {
   "cell_type": "code",
   "execution_count": null,
   "metadata": {
    "colab": {
     "base_uri": "https://localhost:8080/"
    },
    "id": "AsfIuGg9ih9B",
    "outputId": "aa6711d0-42f2-4732-eff5-e90fbfa4bce1"
   },
   "outputs": [
    {
     "data": {
      "text/plain": [
       "(array([ 0,  0, -1,  0,  0]), array([0, 1, 3, 4]))"
      ]
     },
     "execution_count": 55,
     "metadata": {},
     "output_type": "execute_result"
    }
   ],
   "source": [
    "DBSCAN(X,eps=4,min_samples=2)"
   ]
  },
  {
   "cell_type": "code",
   "execution_count": null,
   "metadata": {
    "colab": {
     "base_uri": "https://localhost:8080/"
    },
    "id": "k6akKvXGhY0x",
    "outputId": "3aeca02b-7d5d-4f88-eb8d-81b11a19b07a"
   },
   "outputs": [
    {
     "data": {
      "text/plain": [
       "(array([ 0,  0, -1,  0,  0]), array([0, 1, 3, 4]))"
      ]
     },
     "execution_count": 35,
     "metadata": {},
     "output_type": "execute_result"
    }
   ],
   "source": [
    "DBSCAN_(X,eps=4,min_samples=2)"
   ]
  },
  {
   "cell_type": "code",
   "execution_count": null,
   "metadata": {
    "colab": {
     "base_uri": "https://localhost:8080/"
    },
    "id": "vNfFYZp_dbvK",
    "outputId": "387aeb50-f017-420d-e31a-3f8b30ab5463"
   },
   "outputs": [
    {
     "data": {
      "text/plain": [
       "True"
      ]
     },
     "execution_count": 24,
     "metadata": {},
     "output_type": "execute_result"
    }
   ],
   "source": [
    "core_mask1[0]"
   ]
  },
  {
   "cell_type": "code",
   "execution_count": null,
   "metadata": {
    "colab": {
     "base_uri": "https://localhost:8080/"
    },
    "id": "28--MW6CWVUQ",
    "outputId": "6132883c-2468-4caa-d8d1-6cba1cd3fb35"
   },
   "outputs": [
    {
     "data": {
      "text/plain": [
       "[array([0, 1]), array([0, 1, 4]), array([2]), array([3, 4]), array([1, 3, 4])]"
      ]
     },
     "execution_count": 20,
     "metadata": {},
     "output_type": "execute_result"
    }
   ],
   "source": [
    "nbrhoods = []\n",
    "for i in range(X.shape[0]):\n",
    "   row_vec = adj[i]\n",
    "   select_friend = np.where(row_vec)[0]\n",
    "   nbrhoods.append(select_friend)\n",
    "\n",
    "nbrhoods   "
   ]
  },
  {
   "cell_type": "markdown",
   "metadata": {
    "id": "vT00Khfsxexh"
   },
   "source": [
    "## Test\n",
    "Take some sample data from [DBSCAN-with-scikit-learn](DBSCAN-with-scikit-learn.ipynb) and check if your code generates similar outputs with the existing packages."
   ]
  },
  {
   "cell_type": "markdown",
   "metadata": {
    "id": "Jd6EZknAxexh"
   },
   "source": [
    "##### Name of the data\n",
    "Description of the data."
   ]
  },
  {
   "cell_type": "code",
   "execution_count": null,
   "metadata": {
    "id": "QzYVoo8Hxexi"
   },
   "outputs": [],
   "source": [
    "### results with your code"
   ]
  },
  {
   "cell_type": "code",
   "execution_count": null,
   "metadata": {
    "id": "vaVEHwkzxexi"
   },
   "outputs": [],
   "source": [
    "### results with existing packages"
   ]
  },
  {
   "cell_type": "markdown",
   "metadata": {
    "id": "tMrGECbBxexj"
   },
   "source": [
    "## Comparison"
   ]
  },
  {
   "cell_type": "code",
   "execution_count": null,
   "metadata": {
    "id": "3IUhuIiSdKPp"
   },
   "outputs": [],
   "source": [
    "mu1 = np.array([2.5,0])\n",
    "cov1 = np.array([[1.1,-1],\n",
    "                [-1,1.1]])\n",
    "mu2 = np.array([-2.5,0])\n",
    "cov2 = np.array([[1.1,1],\n",
    "                [1,1.1]])\n",
    "X = np.vstack([np.random.multivariate_normal(mu1, cov1, 100), \n",
    "               np.random.multivariate_normal(mu2, cov2, 100)]) #(200,2)"
   ]
  },
  {
   "cell_type": "code",
   "execution_count": null,
   "metadata": {
    "id": "rehjKHI-dwi3"
   },
   "outputs": [],
   "source": [
    "#algorithm function\n",
    "y_my,core_indices = DBSCAN_fucntion(X,eps=0.5,min_samples=10)\n"
   ]
  },
  {
   "cell_type": "code",
   "execution_count": null,
   "metadata": {
    "id": "oIKw0xHyeA25"
   },
   "outputs": [],
   "source": [
    "#package\n",
    "from sklearn.cluster import DBSCAN\n",
    "model = DBSCAN(eps = 0.5,min_samples = 10)\n",
    "y_new = model.fit_predict(X)"
   ]
  },
  {
   "cell_type": "markdown",
   "metadata": {
    "id": "-l7EhC_jxexj"
   },
   "source": [
    "##### Exercise 1\n",
    "With the same `eps` and `min_samples`, the array `core_indices` generated by your function is supposed to be the same as `model.core_sample_indices_` .  \n",
    "Check if this is true."
   ]
  },
  {
   "cell_type": "code",
   "execution_count": null,
   "metadata": {
    "colab": {
     "base_uri": "https://localhost:8080/"
    },
    "id": "vdr1ciV5xexk",
    "outputId": "53cfec6c-7eb1-49ac-a185-49c445db56f9"
   },
   "outputs": [
    {
     "data": {
      "text/plain": [
       "True"
      ]
     },
     "execution_count": 82,
     "metadata": {},
     "output_type": "execute_result"
    }
   ],
   "source": [
    "np.all(core_indices==model.core_sample_indices_) #對"
   ]
  },
  {
   "cell_type": "markdown",
   "metadata": {
    "id": "nq8xnGyzxexk"
   },
   "source": [
    "##### Exercise 2\n",
    "Let `core_indices` be the array generated by your function.  \n",
    "Then `X[core_indices]` is supposed to be the same as `model.components_` .  \n",
    "Check if this is true."
   ]
  },
  {
   "cell_type": "code",
   "execution_count": null,
   "metadata": {
    "colab": {
     "base_uri": "https://localhost:8080/"
    },
    "id": "YRArpDb2xexl",
    "outputId": "25514bec-708a-48d3-8981-ffe512ac31a4"
   },
   "outputs": [
    {
     "data": {
      "text/plain": [
       "True"
      ]
     },
     "execution_count": 72,
     "metadata": {},
     "output_type": "execute_result"
    }
   ],
   "source": [
    "np.all(X[core_indices]==model.components_) #對"
   ]
  },
  {
   "cell_type": "markdown",
   "metadata": {
    "id": "06eFPAoJxexl"
   },
   "source": [
    "##### Exercise 3\n",
    "Let `y_my` be the output label of your function.  \n",
    "Let `y_new` be the label given by `sklearn.cluster.DBSCAN` ."
   ]
  },
  {
   "cell_type": "markdown",
   "metadata": {
    "id": "k6R7hJhfxexl"
   },
   "source": [
    "###### 3(a)\n",
    "The noices `y_my == -1` and `y_new == -1` are supposed to be the same.  \n",
    "Check if this is true."
   ]
  },
  {
   "cell_type": "code",
   "execution_count": null,
   "metadata": {
    "colab": {
     "base_uri": "https://localhost:8080/"
    },
    "id": "CHLPyY50xexm",
    "outputId": "4cb51e53-c783-47c0-9f37-470fa18b422e"
   },
   "outputs": [
    {
     "data": {
      "text/plain": [
       "True"
      ]
     },
     "execution_count": 13,
     "metadata": {},
     "output_type": "execute_result"
    }
   ],
   "source": [
    "np.all((y_new == -1)==(y_my == -1)) #對"
   ]
  },
  {
   "cell_type": "markdown",
   "metadata": {
    "id": "sEv603M2xexm"
   },
   "source": [
    "###### 3(b)\n",
    "Although `y_my` and `y_new` might be different, they indicate the same clustering.  \n",
    "That is, the partitions are the same, but a group my have different labels in `y_my` and `y_new` .  \n",
    "Check if this is true."
   ]
  },
  {
   "cell_type": "code",
   "execution_count": null,
   "metadata": {
    "colab": {
     "base_uri": "https://localhost:8080/",
     "height": 407
    },
    "id": "CrAcAcrnxexm",
    "outputId": "28bd8d32-1ca8-4b6c-edda-40c7dbc3fafc"
   },
   "outputs": [
    {
     "data": {
      "text/plain": [
       "<matplotlib.collections.PathCollection at 0x7f755a1a3af0>"
      ]
     },
     "execution_count": 21,
     "metadata": {},
     "output_type": "execute_result"
    },
    {
     "data": {
      "image/png": "[encoded data removed]",
      "text/plain": [
       "<Figure size 800x400 with 2 Axes>"
      ]
     },
     "metadata": {},
     "output_type": "display_data"
    }
   ],
   "source": [
    "fig,axs = plt.subplots(1,2,figsize=(8,4))\n",
    "axs[0].set_title(\"y_my---DBSCAN\")\n",
    "axs[0].scatter(X[:,0],X[:,1],c=y_my)\n",
    "axs[0].scatter(X[core_indices,0],X[core_indices,1],c=\"r\",s=10)\n",
    "axs[0].scatter(X[y_my==-1,0],X[y_my==-1,1],c=\"k\",s=100,marker=\"x\")\n",
    "axs[1].set_title(\"y_new---DBSCAN\")\n",
    "axs[1].scatter(X[:,0],X[:,1],c=y_new)\n",
    "axs[1].scatter(X[model.core_sample_indices_,0],X[model.core_sample_indices_,1],c=\"r\",s=10)\n",
    "axs[1].scatter(X[y_new==-1,0],X[y_new==-1,1],c=\"k\",s=100,marker=\"x\")"
   ]
  }
 ],
 "metadata": {
  "colab": {
   "provenance": []
  },
  "kernelspec": {
   "display_name": "Python 3 (ipykernel)",
   "language": "python",
   "name": "python3"
  },
  "language_info": {
   "codemirror_mode": {
    "name": "ipython",
    "version": 3
   },
   "file_extension": ".py",
   "mimetype": "text/x-python",
   "name": "python",
   "nbconvert_exporter": "python",
   "pygments_lexer": "ipython3",
   "version": "3.9.13"
  }
 },
 "nbformat": 4,
 "nbformat_minor": 1
}
