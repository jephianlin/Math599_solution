{
 "cells": [
  {
   "cell_type": "markdown",
   "metadata": {},
   "source": [
    "# Change of basis for vectors"
   ]
  },
  {
   "cell_type": "markdown",
   "metadata": {},
   "source": [
    "![Creative Commons License](https://i.creativecommons.org/l/by/4.0/88x31.png)  \n",
    "This work by Jephian Lin is licensed under a [Creative Commons Attribution 4.0 International License](http://creativecommons.org/licenses/by/4.0/)."
   ]
  },
  {
   "cell_type": "code",
   "execution_count": null,
   "metadata": {},
   "outputs": [],
   "source": [
    "import numpy as np\n",
    "import matplotlib.pyplot as plt\n",
    "from mpl_toolkits import mplot3d\n",
    "from PIL import Image"
   ]
  },
  {
   "cell_type": "markdown",
   "metadata": {},
   "source": [
    "## Main idea"
   ]
  },
  {
   "cell_type": "markdown",
   "metadata": {},
   "source": [
    "Suppose $\\beta = \\{{\\bf u}_1, \\ldots, {\\bf u}_n\\}$ is an orthonormal basis of $\\mathbb{R}^n$.  \n",
    "Then every vector ${\\bf v}\\in\\mathbb{R}^n$ can be written as  \n",
    "\n",
    "$${\\bf v} = c_1{\\bf u}_1 + \\cdots + c_n{\\bf u}_n,$$  \n",
    "where $c_i = \\langle {\\bf v}, {\\bf u}_i \\rangle$.  \n",
    "We call  \n",
    "$$[{\\bf v}]_\\beta = \\begin{bmatrix} c_1 \\\\ \\vdots \\\\ c_n \\end{bmatrix}$$\n",
    "the **representation** of ${\\bf v}$ with respect to the basis $\\beta$.  "
   ]
  },
  {
   "cell_type": "markdown",
   "metadata": {},
   "source": [
    "Let $${\\bf c} = [{\\bf v}]_\\beta \\text{ and }  \n",
    "Q = \\begin{bmatrix}\n",
    " | & ~ & | \\\\\n",
    " {\\bf u}_1 & \\cdots & {\\bf u}_n \\\\\n",
    " | & ~ & | \\\\\n",
    "\\end{bmatrix}.$$  \n",
    "Then $Q^\\top {\\bf u} = {\\bf c}$ and $Q{\\bf c} = {\\bf u}$."
   ]
  },
  {
   "cell_type": "markdown",
   "metadata": {},
   "source": [
    "## Side stories"
   ]
  },
  {
   "cell_type": "markdown",
   "metadata": {},
   "source": [
    "- new basis = new coordinates\n",
    "- change of basis (general basis)"
   ]
  },
  {
   "cell_type": "markdown",
   "metadata": {},
   "source": [
    "## Experiments"
   ]
  },
  {
   "cell_type": "markdown",
   "metadata": {},
   "source": [
    "###### Exercise 1\n",
    "This exercise asks you to draw a new coordinates $\\mathbb{R}^2$ by the following steps.  \n",
    "Let  \n",
    "```python\n",
    "u0 = np.array([1,1])  / np.sqrt(2)\n",
    "u1 = np.array([-1,1]) / np.sqrt(2)\n",
    "```\n",
    "and $\\beta = \\{{\\bf u}_0, {\\bf u}_1\\}$."
   ]
  },
  {
   "cell_type": "markdown",
   "metadata": {},
   "source": [
    "###### 1(a)\n",
    "Draw the grid using ${\\bf u}_0$ and ${\\bf u}_1$.  \n",
    "Draw a red vector for $3{\\bf u}_0$.  \n",
    "Draw a blue vector for $3{\\bf u}_1$.  "
   ]
  },
  {
   "cell_type": "code",
   "execution_count": null,
   "metadata": {},
   "outputs": [],
   "source": [
    "### your answer here\n",
    "u0 = np.array([1,1])  / np.sqrt(2)\n",
    "u1 = np.array([-1,1]) / np.sqrt(2)\n",
    "B = np.vstack([u0,u1])\n",
    "grid = np.meshgrid(np.arange(5),np.arange(5))\n",
    "xs = grid[0].ravel()\n",
    "ys = grid[1].ravel()\n",
    "vs = np.vstack((xs,ys))\n",
    "new_vs = B.T.dot(vs)\n",
    "plt.axis('equal')\n",
    "plt.scatter(new_vs[0],new_vs[1])\n",
    "\n",
    "plt.arrow(0,0,3*u0[0],3*u0[1], head_width = 0.1, color = 'red')\n",
    "plt.arrow(0,0,3*u1[0],3*u1[1], head_width = 0.1, color = 'blue')\n",
    "plt.xlim((-3,3))\n",
    "plt.ylim((0,6))"
   ]
  },
  {
   "cell_type": "markdown",
   "metadata": {},
   "source": [
    "###### 1(b)\n",
    "Draw a green vector for  \n",
    "```python\n",
    "v = np.array([1,3]) / np.sqrt(2)\n",
    "```\n",
    "According to the graph, can you tell what is $[{\\bf v}]_\\beta$?"
   ]
  },
  {
   "cell_type": "code",
   "execution_count": null,
   "metadata": {},
   "outputs": [],
   "source": [
    "### your answer here\n",
    "u0 = np.array([1,1])  / np.sqrt(2)\n",
    "u1 = np.array([-1,1]) / np.sqrt(2)\n",
    "B = np.vstack([u0,u1])\n",
    "grid = np.meshgrid(np.arange(5),np.arange(5))\n",
    "xs = grid[0].ravel()\n",
    "ys = grid[1].ravel()\n",
    "vs = np.vstack((xs,ys))\n",
    "new_vs = B.T.dot(vs)\n",
    "plt.axis('equal')\n",
    "plt.scatter(new_vs[0],new_vs[1])\n",
    "\n",
    "plt.arrow(0,0,3*u0[0],3*u0[1], head_width = 0.1, color = 'red')\n",
    "plt.arrow(0,0,3*u1[0],3*u1[1], head_width = 0.1, color = 'blue')\n",
    "plt.xlim((-3,3))\n",
    "plt.ylim((0,6))\n",
    "\n",
    "v = np.array([1,3]) / np.sqrt(2)\n",
    "plt.arrow(0,0,v[0],v[1], head_width = 0.1, color = 'green')\n",
    "#The representation of  𝐯  with respect to the basis  𝛽  is 2u0+u1\n",
    "#[𝐯]𝛽  = (2,1)T"
   ]
  },
  {
   "cell_type": "markdown",
   "metadata": {},
   "source": [
    "###### 1(c)\n",
    "Find $[{\\bf v}]_\\beta$ by matrix multiplication."
   ]
  },
  {
   "cell_type": "code",
   "execution_count": null,
   "metadata": {},
   "outputs": [],
   "source": [
    "### your answer here\n",
    "B = np.vstack((u0,u1)).T\n",
    "trans_v = B.T.dot(v)\n",
    "print(trans_v)"
   ]
  },
  {
   "cell_type": "markdown",
   "metadata": {},
   "source": [
    "###### 1(d)\n",
    "Draw a vector for  \n",
    "```python\n",
    "w = np.array([2,-1])\n",
    "```\n",
    "and find $[{\\bf w}]_\\beta$."
   ]
  },
  {
   "cell_type": "code",
   "execution_count": null,
   "metadata": {
    "scrolled": true
   },
   "outputs": [],
   "source": [
    "u0 = np.array([1,1])  / np.sqrt(2)\n",
    "u1 = np.array([-1,1]) / np.sqrt(2)\n",
    "\n",
    "plt.arrow(0,0,3*u0[0],3*u0[1], head_width = 0.1, color = 'red')\n",
    "plt.arrow(0,0,3*u1[0],3*u1[1], head_width = 0.1, color = 'blue')\n",
    "plt.xlim((-3,3))\n",
    "plt.ylim((-2,3))\n",
    "\n",
    "w = np.array([2,-1])\n",
    "plt.arrow(0,0,w[0],w[1], head_width = 0.1)\n",
    "\n",
    "B = np.vstack((u0,u1))\n",
    "trans_w = B.T.dot(w)\n",
    "print(trans_w)\n",
    "#The representation of  𝐰  with respect to the basis  𝛽  is around 2.12u0+0.71u1\n",
    "#[𝐯]𝛽  = (2.12,0.71)T"
   ]
  },
  {
   "cell_type": "markdown",
   "metadata": {},
   "source": [
    "##### Jephian:\n",
    "I would suggest adding \n",
    "```python\n",
    "plt.axis('equal')\n",
    "```  \n",
    "and commenting out \n",
    "```python\n",
    "plt.xlim((-3,3))\n",
    "plt.ylim((-2,3))\n",
    "```"
   ]
  },
  {
   "cell_type": "markdown",
   "metadata": {},
   "source": [
    "###### Exercise 2\n",
    "Let  \n",
    "```python\n",
    "theta = np.pi / 4\n",
    "Q = np.array([[np.cos(theta), -np.sin(theta)],\n",
    "              [np.sin(theta), np.cos(theta)]])\n",
    "mu = np.array([0,0])\n",
    "cov = np.array([[4.1,2],\n",
    "                [2,1.1]])\n",
    "vs = np.random.multivariate_normal(mu, cov, (100,))\n",
    "```\n",
    "Plot the data points (rows) of `vs` .  \n",
    "Draw the coordinates using the columns of $Q$.  \n",
    "Try and find an appropriate `theta` such that the data looks simple on the coordinates."
   ]
  },
  {
   "cell_type": "code",
   "execution_count": null,
   "metadata": {},
   "outputs": [],
   "source": [
    "### your answer here\n",
    "u0 = np.array([1,1])  / np.sqrt(2)\n",
    "u1 = np.array([-1,1]) / np.sqrt(2)\n",
    "\n",
    "plt.arrow(0,0,3*u0[0],3*u0[1], head_width = 0.1, color = 'red')\n",
    "plt.arrow(0,0,3*u1[0],3*u1[1], head_width = 0.1, color = 'blue')\n",
    "plt.xlim((-3,3))\n",
    "plt.ylim((-3,6))\n",
    "\n",
    "theta = 3*np.pi /8\n",
    "Q = np.array([[np.cos(theta), -np.sin(theta)],\n",
    "              [np.sin(theta), np.cos(theta)]])\n",
    "\n",
    "mu = np.array([0,0])\n",
    "cov = np.array([[4.1,2],\n",
    "                [2,1.1]])\n",
    "vs = np.random.multivariate_normal(mu, cov, (100,))\n",
    "vs = vs.dot(Q)\n",
    "plt.scatter(vs[:,0],vs[:,1], color = 'black')\n",
    "plt.scatter(Q[0,:],Q[1,:])"
   ]
  },
  {
   "cell_type": "markdown",
   "metadata": {},
   "source": [
    "##### Jephian:\n",
    "The goal is to plot `vs` first,  \n",
    "plot the coordinates (grid) generated by the columns of `Q` ,  \n",
    "and choose an appropriate `theta` .  \n",
    "\n",
    "See the sample answer below.\n",
    "\n",
    "```python\n",
    "%matplotlib inline\n",
    "theta = 1.3*np.pi / 8\n",
    "Q = np.array([[np.cos(theta), -np.sin(theta)],\n",
    "              [np.sin(theta), np.cos(theta)]])\n",
    "mu = np.array([0,0])\n",
    "cov = np.array([[4.1,2],\n",
    "                [2,1.1]])\n",
    "vs = np.random.multivariate_normal(mu, cov, (100,))\n",
    "\n",
    "grid = np.meshgrid(np.arange(5),np.arange(5))\n",
    "xs = grid[0].ravel()\n",
    "ys = grid[1].ravel()\n",
    "coords = np.vstack([xs,ys])\n",
    "new_coords = Q.dot(coords)\n",
    "\n",
    "plt.axis('equal')\n",
    "plt.scatter(*vs.T)\n",
    "plt.scatter(*new_coords)\n",
    "```"
   ]
  },
  {
   "cell_type": "markdown",
   "metadata": {},
   "source": [
    "## Exercises"
   ]
  },
  {
   "cell_type": "markdown",
   "metadata": {},
   "source": [
    "###### Exercise 3\n",
    "Let  \n",
    "```python\n",
    "x = np.linspace(0, np.pi, 20)\n",
    "y = x**2 * np.sin(x)\n",
    "z = np.zeros_like(x)\n",
    "\n",
    "Q = np.array([[1,1,1],\n",
    "              [-1,1,1],\n",
    "              [0,-2,1]])\n",
    "Q = Q / np.sqrt((Q**2).sum(axis=0))\n",
    "```\n",
    "Use the columns of $Q$ as the coordinates to plot `x`, `y`, `z` ."
   ]
  },
  {
   "cell_type": "code",
   "execution_count": null,
   "metadata": {},
   "outputs": [],
   "source": [
    "### your answer here\n",
    "x = np.linspace(0, np.pi, 20)\n",
    "y = x**2 * np.sin(x)\n",
    "z = np.zeros_like(x)\n",
    "\n",
    "point = np.array([x,y,z])\n",
    "\n",
    "Q = np.array([[1,1,1],\n",
    "              [-1,1,1],\n",
    "              [0,-2,1]])\n",
    "Q = Q / np.sqrt((Q**2).sum(axis=0))\n",
    "point_trans = Q.T.dot(point)\n",
    "\n",
    "ax = plt.axes(projection='3d')\n",
    "ax.set_xlim(-5,5)\n",
    "ax.set_ylim(-5,5)\n",
    "ax.set_zlim(-5,5)\n",
    "ax.scatter(point_trans[0,:], point_trans[1,:], point_trans[2,:])"
   ]
  },
  {
   "cell_type": "markdown",
   "metadata": {},
   "source": [
    "##### Jephian:\n",
    "Replace  \n",
    "```python\n",
    "point_trans = Q.T.dot(point)\n",
    "```\n",
    "with\n",
    "```python\n",
    "point_trans = Q.dot(point)\n",
    "```"
   ]
  },
  {
   "cell_type": "markdown",
   "metadata": {},
   "source": [
    "###### Exercise 4\n",
    "This exercise is similar to Exercise 1 but the basis is no more orthonormal.\n",
    "Let  \n",
    "```python\n",
    "u0 = np.array([2,1])\n",
    "u1 = np.array([1,2])\n",
    "```\n",
    "and $\\beta = \\{{\\bf u}_0, {\\bf u}_1\\}$."
   ]
  },
  {
   "cell_type": "markdown",
   "metadata": {},
   "source": [
    "###### 4(a)\n",
    "Draw the grid using ${\\bf u}_0$ and ${\\bf u}_1$.  \n",
    "Draw a red vector for $3{\\bf u}_0$.  \n",
    "Draw a blue vector for $3{\\bf u}_1$.  "
   ]
  },
  {
   "cell_type": "code",
   "execution_count": null,
   "metadata": {},
   "outputs": [],
   "source": [
    "u0 = np.array([2,1])\n",
    "u1 = np.array([1,2])\n",
    "B = np.vstack((u0,u1))\n",
    "grid = np.meshgrid(np.arange(5), np.arange(5))\n",
    "xs = grid[0].ravel()\n",
    "ys = grid[1].ravel()\n",
    "vs = np.vstack((xs,ys))\n",
    "new_vs = B.T.dot(vs)\n",
    "plt.axis('equal')\n",
    "plt.scatter(new_vs[0],new_vs[1])\n",
    "plt.arrow(0,0,*(3*u0), head_width=0.3, color='red')\n",
    "plt.arrow(0,0,*(3*u1), head_width=0.3, color='blue')"
   ]
  },
  {
   "cell_type": "markdown",
   "metadata": {},
   "source": [
    "###### 4(b)\n",
    "Draw a green vector for  \n",
    "```python\n",
    "v = np.array([7,5])\n",
    "```\n",
    "According to the graph, can you tell what is $[{\\bf v}]_\\beta$?"
   ]
  },
  {
   "cell_type": "code",
   "execution_count": null,
   "metadata": {},
   "outputs": [],
   "source": [
    "v = np.array([7,5])\n",
    "u0 = np.array([2,1])\n",
    "u1 = np.array([1,2])\n",
    "B = np.vstack((u0,u1))\n",
    "grid = np.meshgrid(np.arange(5), np.arange(5))\n",
    "xs = grid[0].ravel()\n",
    "ys = grid[1].ravel()\n",
    "vs = np.vstack((xs,ys))\n",
    "new_vs = B.T.dot(vs)\n",
    "plt.axis('equal')\n",
    "plt.scatter(new_vs[0],new_vs[1])\n",
    "plt.arrow(0,0,*(3*u0), head_width=0.3, color='red')\n",
    "plt.arrow(0,0,*(3*u1), head_width=0.3, color='blue')\n",
    "plt.arrow(0,0,*v, head_width=0.3, color='green')\n",
    "#The representation of  𝐯  with respect to the basis  𝛽 is 3u0+u1\n",
    "#[𝐯]𝛽  = (3,1)T"
   ]
  },
  {
   "cell_type": "markdown",
   "metadata": {},
   "source": [
    "###### 4(c)\n",
    "Suppose your previous answer is $[{\\bf v}]_\\beta = (c_0, c_1)^\\top$.  \n",
    "Let $Q$ be the matrix whose columns are vectors in $\\beta$.  \n",
    "Then $Q[{\\bf v}]_\\beta = c_0{\\bf u}_0 + c_1{\\bf u}_1 = {\\bf v}$.  \n",
    "Plot $Q[{\\bf v}]_\\beta$ and double check if your answer is correct.  "
   ]
  },
  {
   "cell_type": "code",
   "execution_count": null,
   "metadata": {},
   "outputs": [],
   "source": [
    "u0 = np.array([2,1])\n",
    "u1 = np.array([1,2])\n",
    "B = np.vstack([u0, u1])\n",
    "c = np.array([3,1])\n",
    "Bc = B.dot(c.T)\n",
    "grid = np.meshgrid(np.arange(5), np.arange(5))\n",
    "xs = grid[0].ravel()\n",
    "ys = grid[1].ravel()\n",
    "vs = np.vstack((xs,ys))\n",
    "new_vs = B.T.dot(vs)\n",
    "plt.axis('equal')\n",
    "plt.scatter(new_vs[0],new_vs[1])\n",
    "plt.arrow(0,0,*Bc, head_width=0.3, color='green')"
   ]
  },
  {
   "cell_type": "markdown",
   "metadata": {},
   "source": [
    "###### 4(d)\n",
    "If $\\beta$ is orthogonal, then $Q^{-1} =  Q^\\top$ and $Q^\\top{\\bf v} = Q^{-1}{\\bf v} = [{\\bf v}]_\\beta$, but not it is not the case.  \n",
    "However, the formula $Q^{-1}{\\bf v} = [{\\bf v}]_\\beta$ is still valid.  \n",
    "Use this formula to find $[{\\bf v}]_\\beta$ and compare your answer with 4(b)."
   ]
  },
  {
   "cell_type": "code",
   "execution_count": null,
   "metadata": {},
   "outputs": [],
   "source": [
    "### your answer here\n",
    "u0 = np.array([2,1])\n",
    "u1 = np.array([1,2])\n",
    "B = np.vstack([u0, u1])\n",
    "v = np.array([7,5])\n",
    "invBv = np.linalg.inv(B).dot(v)\n",
    "invBv\n",
    "#The representation of  𝐯  with respect to the basis  𝛽 is 3u0+u1\n",
    "#[𝐯]𝛽  = (3,1)T"
   ]
  },
  {
   "cell_type": "markdown",
   "metadata": {},
   "source": [
    "##### Jephian:\n",
    "It should be \n",
    "```python\n",
    "B = np.vstack([u0, u1]).T\n",
    "```"
   ]
  },
  {
   "cell_type": "markdown",
   "metadata": {},
   "source": [
    "###### 4(e)\n",
    "Draw a vector for  \n",
    "```python\n",
    "w = np.array([2,-1])\n",
    "```\n",
    "and find $[{\\bf w}]_\\beta$."
   ]
  },
  {
   "cell_type": "code",
   "execution_count": null,
   "metadata": {
    "scrolled": true
   },
   "outputs": [],
   "source": [
    "### your answer here\n",
    "w = np.array([2,-1])\n",
    "u0 = np.array([2,1])\n",
    "u1 = np.array([1,2])\n",
    "B = np.vstack([u0, u1])\n",
    "grid = np.meshgrid(np.arange(5), np.arange(5))\n",
    "xs = grid[0].ravel()\n",
    "ys = grid[1].ravel()\n",
    "vs = np.vstack((xs,ys))\n",
    "new_vs = B.T.dot(vs)\n",
    "plt.axis('equal')\n",
    "plt.scatter(new_vs[0],new_vs[1])\n",
    "plt.arrow(0,0,*u0, head_width=0.3, color='red')\n",
    "plt.arrow(0,0,*u1, head_width=0.3, color='blue')\n",
    "plt.arrow(0,0,*w, head_width=0.3, color='green')\n",
    "\n",
    "invBw = np.linalg.inv(B).dot(w)\n",
    "print(invBw)\n",
    "#The representation of  𝐰  with respect to the basis  𝛽  is around 1.67u0+-1.33u1\n",
    "#[𝐰]𝛽  = (1.67,-1.33)T\n",
    "w2 = B.dot(invBw.T)\n",
    "plt.arrow(0,0,*invBw, head_width=0.3, color='orange')"
   ]
  },
  {
   "cell_type": "markdown",
   "metadata": {},
   "source": [
    "##### Jephian:\n",
    "Although it is the same, I would suggest \n",
    "```python \n",
    "B = np.vstack([u0, u1]).T\n",
    "...\n",
    "new_vs = B.dot(vs)\n",
    "```\n",
    "rather than \n",
    "```python\n",
    "B = np.vstack([u0, u1])\n",
    "...\n",
    "new_vs = B.T.dot(vs)\n",
    "```\n",
    "to avoid confusion.  \n",
    "This change will also make `w2 = B.dot(invBw.T)` correctly defined.\n",
    "\n",
    "The variable `invBw` is the representation $[{\\bf w}]_\\beta$,  \n",
    "so there is no point to draw it on the plane.  \n",
    "Instead, you could try to draw `w2`, which should be the same as `w` .\n",
    "\n",
    "Therefore, comment out \n",
    "```python\n",
    "plt.arrow(0,0,*invBw, head_width=0.3, color='orange')\n",
    "```\n",
    "and add \n",
    "```python\n",
    "plt.arrow(0,0,*w2, head_width=0.3, color='orange')\n",
    "```"
   ]
  },
  {
   "cell_type": "markdown",
   "metadata": {},
   "source": [
    "##### Exercise 5\n",
    "This exercise ask you to put an image on the plane using the given coordinates.  \n",
    "Let  \n",
    "```python\n",
    "img = Image.open('incrediville-side.jpg')\n",
    "\n",
    "width,height = 200,150\n",
    "img = img.resize((width,height)).convert('L')\n",
    "arr = np.array(img)\n",
    "```"
   ]
  },
  {
   "cell_type": "markdown",
   "metadata": {},
   "source": [
    "###### 5(a)\n",
    "Let  \n",
    "```python\n",
    "unit = 0.1  \n",
    "xx,yy = np.meshgrid(unit*np.arange(width), unit*np.arange(height)) \n",
    "xx = xx.ravel()\n",
    "yy = -yy.ravel()\n",
    "```\n",
    "Make a scatter plot of `xx` and `yy` using the colors `arr.ravel()` .  \n",
    "Hint:  You need to set `cmap='Greys_r` to make it looks good."
   ]
  },
  {
   "cell_type": "code",
   "execution_count": null,
   "metadata": {},
   "outputs": [],
   "source": [
    "### your answer here\n",
    "img = Image.open('incrediville-side.jpg')\n",
    "\n",
    "width,height = 200,150\n",
    "img = img.resize((width,height)).convert('L')\n",
    "arr = np.array(img)\n",
    "\n",
    "unit = 0.1  \n",
    "xx,yy = np.meshgrid(unit*np.arange(width), unit*np.arange(height)) \n",
    "xx = xx.ravel()\n",
    "yy = -yy.ravel()\n",
    "plt.scatter(xx,yy,c=arr.ravel(),cmap='Greys_r')"
   ]
  },
  {
   "cell_type": "markdown",
   "metadata": {},
   "source": [
    "###### 5(b)\n",
    "Let  \n",
    "```python\n",
    "Q = np.array([[1,1],\n",
    "              [-1,1],\n",
    "              [0,-2]])\n",
    "Q = Q / np.sqrt((Q**2).sum(axis=0))\n",
    "vs = np.vstack([xx,yy])\n",
    "new_vs = Q.dot(vs)\n",
    "```\n",
    "Make a scatter plot of points (columns) of `new_vs` using the same color setting."
   ]
  },
  {
   "cell_type": "code",
   "execution_count": null,
   "metadata": {},
   "outputs": [],
   "source": [
    "### your answer here\n",
    "Q = np.array([[1,1],\n",
    "              [-1,1],\n",
    "              [0,-2]])\n",
    "Q = Q / np.sqrt((Q**2).sum(axis=0))\n",
    "vs = np.vstack([xx,yy])\n",
    "new_vs = Q.dot(vs)\n",
    "plt.scatter(new_vs[0],new_vs[1],c=arr.ravel(),cmap='Greys_r')"
   ]
  },
  {
   "cell_type": "markdown",
   "metadata": {},
   "source": [
    "##### Jephian:\n",
    "The points are in 3-dimensional space.  \n",
    "So the drawing should be in a 3-dimensional axes.  \n",
    "\n",
    "```python\n",
    "%matplotlib notebook\n",
    "ax = plt.axes(projection='3d')\n",
    "ax.set_xlim(-5,5)\n",
    "ax.set_ylim(-5,5)\n",
    "ax.set_zlim(-5,5)\n",
    "ax.scatter(*new_vs, c=arr.ravel(),cmap='Greys_r')\n",
    "```"
   ]
  }
 ],
 "metadata": {
  "kernelspec": {
   "display_name": "Python 3",
   "language": "python",
   "name": "python3"
  },
  "language_info": {
   "codemirror_mode": {
    "name": "ipython",
    "version": 3
   },
   "file_extension": ".py",
   "mimetype": "text/x-python",
   "name": "python",
   "nbconvert_exporter": "python",
   "pygments_lexer": "ipython3",
   "version": "3.9.2"
  }
 },
 "nbformat": 4,
 "nbformat_minor": 4
}
