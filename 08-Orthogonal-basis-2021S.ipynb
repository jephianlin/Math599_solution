{
 "cells": [
  {
   "cell_type": "markdown",
   "metadata": {},
   "source": [
    "# Orthogonal basis"
   ]
  },
  {
   "cell_type": "markdown",
   "metadata": {},
   "source": [
    "![Creative Commons License](https://i.creativecommons.org/l/by/4.0/88x31.png)  \n",
    "This work by Jephian Lin is licensed under a [Creative Commons Attribution 4.0 International License](http://creativecommons.org/licenses/by/4.0/)."
   ]
  },
  {
   "cell_type": "code",
   "execution_count": 2,
   "metadata": {},
   "outputs": [],
   "source": [
    "import numpy as np\n",
    "import matplotlib.pyplot as plt"
   ]
  },
  {
   "cell_type": "markdown",
   "metadata": {},
   "source": [
    "## Main idea"
   ]
  },
  {
   "cell_type": "markdown",
   "metadata": {},
   "source": [
    "If $\\|{\\bf u}\\| = 1$, then the projection of ${\\bf v}$ onto ${\\bf u}$ is \n",
    "$$\\operatorname{proj}_{\\bf u}({\\bf v}) = \\langle{\\bf v}, {\\bf u}\\rangle{\\bf u}.$$\n",
    "\n",
    "If $S = \\{{\\bf u}_1,\\ldots, {\\bf u}_d\\}$ is a collection of mutually orthogonal vectors of length one, then the projection of ${\\bf v}$ onto $V = \\operatorname{span}(S)$ is \n",
    "$$\\operatorname{proj}_V({\\bf v}) = \\langle{\\bf v}, {\\bf u}_1\\rangle{\\bf u}_1 + \\cdots + \\langle{\\bf v}, {\\bf u}_d\\rangle{\\bf u}_d.$$\n",
    "We say such $S$ is an **orthonormal basis** of $V$.\n",
    "\n",
    "Suppose  \n",
    "$${\\bf v} = c_1{\\bf u}_1 + \\cdots + c_d{\\bf u}_d.$$\n",
    "Then $A^\\top {\\bf u} = {\\bf c}$ and $A{\\bf c} = {\\bf u}$,  \n",
    "where  \n",
    "$${\\bf c} = \\begin{bmatrix} c_1 \\\\ \\vdots \\\\ c_d \\end{bmatrix} \\text{ and }  \n",
    "A = \\begin{bmatrix}\n",
    " | & ~ & | \\\\\n",
    " {\\bf u}_1 & \\cdots & {\\bf u}_n \\\\\n",
    " | & ~ & | \\\\\n",
    "\\end{bmatrix}.$$  \n",
    "Thus, the projection is  \n",
    "$$\\operatorname{proj}_V({\\bf v}) = AA^\\top{\\bf v}.$$\n",
    "\n",
    "Every space has an orthonormal basis."
   ]
  },
  {
   "cell_type": "markdown",
   "metadata": {},
   "source": [
    "## Side stories"
   ]
  },
  {
   "cell_type": "markdown",
   "metadata": {},
   "source": [
    "- projection\n",
    "- Gram--Schmidt process"
   ]
  },
  {
   "cell_type": "markdown",
   "metadata": {},
   "source": [
    "## Experiments"
   ]
  },
  {
   "cell_type": "markdown",
   "metadata": {},
   "source": [
    "###### Exercise 1\n",
    "Let  \n",
    "```python\n",
    "u = np.array([1,1])\n",
    "u = u / np.linalg.norm(u)\n",
    "v = np.array([3,4])\n",
    "```"
   ]
  },
  {
   "cell_type": "markdown",
   "metadata": {},
   "source": [
    "###### 1(a)\n",
    "Print $\\langle {\\bf v}, {\\bf u}\\rangle$."
   ]
  },
  {
   "cell_type": "code",
   "execution_count": 2,
   "metadata": {},
   "outputs": [
    {
     "data": {
      "text/plain": [
       "4.949747468305832"
      ]
     },
     "execution_count": 2,
     "metadata": {},
     "output_type": "execute_result"
    }
   ],
   "source": [
    "### your answer here\n",
    "\n",
    "u = np.array([1, 1])\n",
    "u = u / np.linalg.norm(u)\n",
    "v = np.array([3, 4])\n",
    "\n",
    "v.dot(u)"
   ]
  },
  {
   "cell_type": "markdown",
   "metadata": {},
   "source": [
    "###### 1(b)\n",
    "Draw a vector in black for ${\\bf u}$.  \n",
    "Draw a vector in blue for ${\\bf v}$.  \n",
    "Draw a vector in red with dashed line for its projection.  "
   ]
  },
  {
   "cell_type": "code",
   "execution_count": 3,
   "metadata": {},
   "outputs": [
    {
     "data": {
      "text/plain": [
       "<matplotlib.patches.FancyArrow at 0x22a2aa45520>"
      ]
     },
     "execution_count": 3,
     "metadata": {},
     "output_type": "execute_result"
    },
    {
     "data": {
      "image/png": "[encoded data removed]",
      "text/plain": [
       "<Figure size 432x288 with 1 Axes>"
      ]
     },
     "metadata": {
      "needs_background": "light"
     },
     "output_type": "display_data"
    }
   ],
   "source": [
    "### your answer here\n",
    "\n",
    "plt.axis('equal')\n",
    "plt.xlim([-8, 8])\n",
    "plt.ylim([-8, 8])\n",
    "\n",
    "plt.arrow(0, 0, *(v.dot(u) * u), color='red', width=0.05, linestyle='dashed')\n",
    "\n",
    "plt.arrow(0, 0, *u, color='black', width=0.05)\n",
    "plt.arrow(0, 0, *v, color='blue', width=0.05)"
   ]
  },
  {
   "cell_type": "markdown",
   "metadata": {},
   "source": [
    "###### Exercise 2\n",
    "Let  \n",
    "```python\n",
    "u0 = np.array([1,-1,0])\n",
    "u0 = u0 / np.linalg.norm(u0)\n",
    "u1 = np.array([1,1,-2])\n",
    "u1 = u1 / np.linalg.norm(u1)\n",
    "v = np.array([1,0,0])\n",
    "```\n",
    "Let $V$ be the space spanned by $\\{{\\bf u}_0,{\\bf u}_1\\}$."
   ]
  },
  {
   "cell_type": "markdown",
   "metadata": {},
   "source": [
    "###### 2(a)\n",
    "Use the technique you learned in the previous lesson to find the projection of ${\\bf v}$ onto $V$."
   ]
  },
  {
   "cell_type": "code",
   "execution_count": 4,
   "metadata": {},
   "outputs": [
    {
     "name": "stdout",
     "output_type": "stream",
     "text": [
      "[ 0.66666667 -0.33333333 -0.33333333]\n"
     ]
    }
   ],
   "source": [
    "### your answer here\n",
    "\n",
    "u0 = np.array([1,-1,0])\n",
    "u0 = u0 / np.linalg.norm(u0)\n",
    "u1 = np.array([1,1,-2])\n",
    "u1 = u1 / np.linalg.norm(u1)\n",
    "v = np.array([1,0,0])\n",
    "\n",
    "A = np.vstack([u0, u1]).T\n",
    "\n",
    "print( A.dot(np.linalg.inv(A.T.dot(A))).dot(A.T).dot(v) )"
   ]
  },
  {
   "cell_type": "markdown",
   "metadata": {},
   "source": [
    "###### 2(b)\n",
    "Compute $c_0 = \\langle {\\bf v},{\\bf u}_0\\rangle$ and $c_1 = \\langle {\\bf v},{\\bf u}_1\\rangle$.  \n",
    "Check if $c_0{\\bf u}_0 + c_1{\\bf u}_1$ is the same as your answer in 2(a)."
   ]
  },
  {
   "cell_type": "code",
   "execution_count": 5,
   "metadata": {},
   "outputs": [
    {
     "name": "stdout",
     "output_type": "stream",
     "text": [
      "c0 =  0.7071067811865475\n",
      "c1 =  0.4082482904638631\n",
      "[ 0.66666667 -0.33333333 -0.33333333]\n"
     ]
    }
   ],
   "source": [
    "### your answer here\n",
    "\n",
    "c0 = v.dot(u0)\n",
    "c1 = v.dot(u1)\n",
    "print( 'c0 = ',c0 )\n",
    "print( 'c1 = ',c1 )\n",
    "print( c0 * u0 + c1 * u1 )"
   ]
  },
  {
   "cell_type": "markdown",
   "metadata": {},
   "source": [
    "###### 2(c)\n",
    "Compute $A^\\top{\\bf v}$ and check if the output is the same as $c_0$ and $c_1$ you computed in 2(b)."
   ]
  },
  {
   "cell_type": "code",
   "execution_count": 6,
   "metadata": {},
   "outputs": [
    {
     "name": "stdout",
     "output_type": "stream",
     "text": [
      "[0.70710678 0.40824829]\n"
     ]
    }
   ],
   "source": [
    "### your answer here\n",
    "\n",
    "print( (A.T).dot(v) )"
   ]
  },
  {
   "cell_type": "markdown",
   "metadata": {},
   "source": [
    "###### 2(d)\n",
    "Check if $AA^\\top{\\bf v}$ is again the same as the answer you computed in 2(b)."
   ]
  },
  {
   "cell_type": "code",
   "execution_count": 7,
   "metadata": {},
   "outputs": [
    {
     "name": "stdout",
     "output_type": "stream",
     "text": [
      "[ 0.66666667 -0.33333333 -0.33333333]\n"
     ]
    }
   ],
   "source": [
    "### your answer here\n",
    "\n",
    "print( A.dot(A.T.dot(v)) )"
   ]
  },
  {
   "cell_type": "markdown",
   "metadata": {},
   "source": [
    "## Exercises"
   ]
  },
  {
   "cell_type": "markdown",
   "metadata": {},
   "source": [
    "###### Exercise 3\n",
    "Let  \n",
    "```python\n",
    "u0 = np.array([1,-1,0])\n",
    "u1 = np.array([1,1,-2])\n",
    "u2 = np.array([1,1,1])\n",
    "u0 = u0 / np.linalg.norm(u0)\n",
    "u1 = u1 / np.linalg.norm(u1)\n",
    "u2 = u2 / np.linalg.norm(u2)\n",
    "```\n",
    "and $S = \\{{\\bf u}_0, {\\bf u}_1, {\\bf u}_2\\}$.  "
   ]
  },
  {
   "cell_type": "markdown",
   "metadata": {},
   "source": [
    "###### 3(a)\n",
    "Check if the vectors in $S$ are mutually orthogonal and al have length one.  \n",
    "Can you check it by $A^\\top A$ for some appropriate $A$?"
   ]
  },
  {
   "cell_type": "code",
   "execution_count": 8,
   "metadata": {},
   "outputs": [
    {
     "name": "stdout",
     "output_type": "stream",
     "text": [
      "[[1. 0. 0.]\n",
      " [0. 1. 0.]\n",
      " [0. 0. 1.]]\n"
     ]
    }
   ],
   "source": [
    "### your answer here\n",
    "\n",
    "u0 = np.array([1,-1,0])\n",
    "u1 = np.array([1,1,-2])\n",
    "u2 = np.array([1,1,1])\n",
    "u0 = u0 / np.linalg.norm(u0)\n",
    "u1 = u1 / np.linalg.norm(u1)\n",
    "u2 = u2 / np.linalg.norm(u2)\n",
    "\n",
    "A = np.vstack([u0,u1,u2]).T\n",
    "print((A.T).dot(A))"
   ]
  },
  {
   "cell_type": "markdown",
   "metadata": {},
   "source": [
    "###### 3(b)\n",
    "Let  \n",
    "```python\n",
    "v = np.array([1,0,0])\n",
    "```\n",
    "Find $c_0,c_1,c_2$ such that ${\\bf v} = c_0{\\bf u}_0 + c_1{\\bf u}_1 + c_2{\\bf u}_2$."
   ]
  },
  {
   "cell_type": "code",
   "execution_count": 9,
   "metadata": {},
   "outputs": [
    {
     "name": "stdout",
     "output_type": "stream",
     "text": [
      "[0.70710678 0.40824829 0.57735027]\n"
     ]
    }
   ],
   "source": [
    "### your answer here\n",
    "\n",
    "v = np.array([1,0,0])\n",
    "\n",
    "print(A.T.dot(v))"
   ]
  },
  {
   "cell_type": "markdown",
   "metadata": {},
   "source": [
    "###### 3(c)\n",
    "Draw the vectors ${\\bf v}$, ${\\bf u}_0$, ${\\bf u}_1$, and ${\\bf u}_2$."
   ]
  },
  {
   "cell_type": "code",
   "execution_count": 10,
   "metadata": {},
   "outputs": [
    {
     "data": {
      "application/javascript": [
       "/* Put everything inside the global mpl namespace */\n",
       "window.mpl = {};\n",
       "\n",
       "\n",
       "mpl.get_websocket_type = function() {\n",
       "    if (typeof(WebSocket) !== 'undefined') {\n",
       "        return WebSocket;\n",
       "    } else if (typeof(MozWebSocket) !== 'undefined') {\n",
       "        return MozWebSocket;\n",
       "    } else {\n",
       "        alert('Your browser does not have WebSocket support. ' +\n",
       "              'Please try Chrome, Safari or Firefox ≥ 6. ' +\n",
       "              'Firefox 4 and 5 are also supported but you ' +\n",
       "              'have to enable WebSockets in about:config.');\n",
       "    };\n",
       "}\n",
       "\n",
       "mpl.figure = function(figure_id, websocket, ondownload, parent_element) {\n",
       "    this.id = figure_id;\n",
       "\n",
       "    this.ws = websocket;\n",
       "\n",
       "    this.supports_binary = (this.ws.binaryType != undefined);\n",
       "\n",
       "    if (!this.supports_binary) {\n",
       "        var warnings = document.getElementById(\"mpl-warnings\");\n",
       "        if (warnings) {\n",
       "            warnings.style.display = 'block';\n",
       "            warnings.textContent = (\n",
       "                \"This browser does not support binary websocket messages. \" +\n",
       "                    \"Performance may be slow.\");\n",
       "        }\n",
       "    }\n",
       "\n",
       "    this.imageObj = new Image();\n",
       "\n",
       "    this.context = undefined;\n",
       "    this.message = undefined;\n",
       "    this.canvas = undefined;\n",
       "    this.rubberband_canvas = undefined;\n",
       "    this.rubberband_context = undefined;\n",
       "    this.format_dropdown = undefined;\n",
       "\n",
       "    this.image_mode = 'full';\n",
       "\n",
       "    this.root = $('<div/>');\n",
       "    this._root_extra_style(this.root)\n",
       "    this.root.attr('style', 'display: inline-block');\n",
       "\n",
       "    $(parent_element).append(this.root);\n",
       "\n",
       "    this._init_header(this);\n",
       "    this._init_canvas(this);\n",
       "    this._init_toolbar(this);\n",
       "\n",
       "    var fig = this;\n",
       "\n",
       "    this.waiting = false;\n",
       "\n",
       "    this.ws.onopen =  function () {\n",
       "            fig.send_message(\"supports_binary\", {value: fig.supports_binary});\n",
       "            fig.send_message(\"send_image_mode\", {});\n",
       "            if (mpl.ratio != 1) {\n",
       "                fig.send_message(\"set_dpi_ratio\", {'dpi_ratio': mpl.ratio});\n",
       "            }\n",
       "            fig.send_message(\"refresh\", {});\n",
       "        }\n",
       "\n",
       "    this.imageObj.onload = function() {\n",
       "            if (fig.image_mode == 'full') {\n",
       "                // Full images could contain transparency (where diff images\n",
       "                // almost always do), so we need to clear the canvas so that\n",
       "                // there is no ghosting.\n",
       "                fig.context.clearRect(0, 0, fig.canvas.width, fig.canvas.height);\n",
       "            }\n",
       "            fig.context.drawImage(fig.imageObj, 0, 0);\n",
       "        };\n",
       "\n",
       "    this.imageObj.onunload = function() {\n",
       "        fig.ws.close();\n",
       "    }\n",
       "\n",
       "    this.ws.onmessage = this._make_on_message_function(this);\n",
       "\n",
       "    this.ondownload = ondownload;\n",
       "}\n",
       "\n",
       "mpl.figure.prototype._init_header = function() {\n",
       "    var titlebar = $(\n",
       "        '<div class=\"ui-dialog-titlebar ui-widget-header ui-corner-all ' +\n",
       "        'ui-helper-clearfix\"/>');\n",
       "    var titletext = $(\n",
       "        '<div class=\"ui-dialog-title\" style=\"width: 100%; ' +\n",
       "        'text-align: center; padding: 3px;\"/>');\n",
       "    titlebar.append(titletext)\n",
       "    this.root.append(titlebar);\n",
       "    this.header = titletext[0];\n",
       "}\n",
       "\n",
       "\n",
       "\n",
       "mpl.figure.prototype._canvas_extra_style = function(canvas_div) {\n",
       "\n",
       "}\n",
       "\n",
       "\n",
       "mpl.figure.prototype._root_extra_style = function(canvas_div) {\n",
       "\n",
       "}\n",
       "\n",
       "mpl.figure.prototype._init_canvas = function() {\n",
       "    var fig = this;\n",
       "\n",
       "    var canvas_div = $('<div/>');\n",
       "\n",
       "    canvas_div.attr('style', 'position: relative; clear: both; outline: 0');\n",
       "\n",
       "    function canvas_keyboard_event(event) {\n",
       "        return fig.key_event(event, event['data']);\n",
       "    }\n",
       "\n",
       "    canvas_div.keydown('key_press', canvas_keyboard_event);\n",
       "    canvas_div.keyup('key_release', canvas_keyboard_event);\n",
       "    this.canvas_div = canvas_div\n",
       "    this._canvas_extra_style(canvas_div)\n",
       "    this.root.append(canvas_div);\n",
       "\n",
       "    var canvas = $('<canvas/>');\n",
       "    canvas.addClass('mpl-canvas');\n",
       "    canvas.attr('style', \"left: 0; top: 0; z-index: 0; outline: 0\")\n",
       "\n",
       "    this.canvas = canvas[0];\n",
       "    this.context = canvas[0].getContext(\"2d\");\n",
       "\n",
       "    var backingStore = this.context.backingStorePixelRatio ||\n",
       "\tthis.context.webkitBackingStorePixelRatio ||\n",
       "\tthis.context.mozBackingStorePixelRatio ||\n",
       "\tthis.context.msBackingStorePixelRatio ||\n",
       "\tthis.context.oBackingStorePixelRatio ||\n",
       "\tthis.context.backingStorePixelRatio || 1;\n",
       "\n",
       "    mpl.ratio = (window.devicePixelRatio || 1) / backingStore;\n",
       "\n",
       "    var rubberband = $('<canvas/>');\n",
       "    rubberband.attr('style', \"position: absolute; left: 0; top: 0; z-index: 1;\")\n",
       "\n",
       "    var pass_mouse_events = true;\n",
       "\n",
       "    canvas_div.resizable({\n",
       "        start: function(event, ui) {\n",
       "            pass_mouse_events = false;\n",
       "        },\n",
       "        resize: function(event, ui) {\n",
       "            fig.request_resize(ui.size.width, ui.size.height);\n",
       "        },\n",
       "        stop: function(event, ui) {\n",
       "            pass_mouse_events = true;\n",
       "            fig.request_resize(ui.size.width, ui.size.height);\n",
       "        },\n",
       "    });\n",
       "\n",
       "    function mouse_event_fn(event) {\n",
       "        if (pass_mouse_events)\n",
       "            return fig.mouse_event(event, event['data']);\n",
       "    }\n",
       "\n",
       "    rubberband.mousedown('button_press', mouse_event_fn);\n",
       "    rubberband.mouseup('button_release', mouse_event_fn);\n",
       "    // Throttle sequential mouse events to 1 every 20ms.\n",
       "    rubberband.mousemove('motion_notify', mouse_event_fn);\n",
       "\n",
       "    rubberband.mouseenter('figure_enter', mouse_event_fn);\n",
       "    rubberband.mouseleave('figure_leave', mouse_event_fn);\n",
       "\n",
       "    canvas_div.on(\"wheel\", function (event) {\n",
       "        event = event.originalEvent;\n",
       "        event['data'] = 'scroll'\n",
       "        if (event.deltaY < 0) {\n",
       "            event.step = 1;\n",
       "        } else {\n",
       "            event.step = -1;\n",
       "        }\n",
       "        mouse_event_fn(event);\n",
       "    });\n",
       "\n",
       "    canvas_div.append(canvas);\n",
       "    canvas_div.append(rubberband);\n",
       "\n",
       "    this.rubberband = rubberband;\n",
       "    this.rubberband_canvas = rubberband[0];\n",
       "    this.rubberband_context = rubberband[0].getContext(\"2d\");\n",
       "    this.rubberband_context.strokeStyle = \"#000000\";\n",
       "\n",
       "    this._resize_canvas = function(width, height) {\n",
       "        // Keep the size of the canvas, canvas container, and rubber band\n",
       "        // canvas in synch.\n",
       "        canvas_div.css('width', width)\n",
       "        canvas_div.css('height', height)\n",
       "\n",
       "        canvas.attr('width', width * mpl.ratio);\n",
       "        canvas.attr('height', height * mpl.ratio);\n",
       "        canvas.attr('style', 'width: ' + width + 'px; height: ' + height + 'px;');\n",
       "\n",
       "        rubberband.attr('width', width);\n",
       "        rubberband.attr('height', height);\n",
       "    }\n",
       "\n",
       "    // Set the figure to an initial 600x600px, this will subsequently be updated\n",
       "    // upon first draw.\n",
       "    this._resize_canvas(600, 600);\n",
       "\n",
       "    // Disable right mouse context menu.\n",
       "    $(this.rubberband_canvas).bind(\"contextmenu\",function(e){\n",
       "        return false;\n",
       "    });\n",
       "\n",
       "    function set_focus () {\n",
       "        canvas.focus();\n",
       "        canvas_div.focus();\n",
       "    }\n",
       "\n",
       "    window.setTimeout(set_focus, 100);\n",
       "}\n",
       "\n",
       "mpl.figure.prototype._init_toolbar = function() {\n",
       "    var fig = this;\n",
       "\n",
       "    var nav_element = $('<div/>');\n",
       "    nav_element.attr('style', 'width: 100%');\n",
       "    this.root.append(nav_element);\n",
       "\n",
       "    // Define a callback function for later on.\n",
       "    function toolbar_event(event) {\n",
       "        return fig.toolbar_button_onclick(event['data']);\n",
       "    }\n",
       "    function toolbar_mouse_event(event) {\n",
       "        return fig.toolbar_button_onmouseover(event['data']);\n",
       "    }\n",
       "\n",
       "    for(var toolbar_ind in mpl.toolbar_items) {\n",
       "        var name = mpl.toolbar_items[toolbar_ind][0];\n",
       "        var tooltip = mpl.toolbar_items[toolbar_ind][1];\n",
       "        var image = mpl.toolbar_items[toolbar_ind][2];\n",
       "        var method_name = mpl.toolbar_items[toolbar_ind][3];\n",
       "\n",
       "        if (!name) {\n",
       "            // put a spacer in here.\n",
       "            continue;\n",
       "        }\n",
       "        var button = $('<button/>');\n",
       "        button.addClass('ui-button ui-widget ui-state-default ui-corner-all ' +\n",
       "                        'ui-button-icon-only');\n",
       "        button.attr('role', 'button');\n",
       "        button.attr('aria-disabled', 'false');\n",
       "        button.click(method_name, toolbar_event);\n",
       "        button.mouseover(tooltip, toolbar_mouse_event);\n",
       "\n",
       "        var icon_img = $('<span/>');\n",
       "        icon_img.addClass('ui-button-icon-primary ui-icon');\n",
       "        icon_img.addClass(image);\n",
       "        icon_img.addClass('ui-corner-all');\n",
       "\n",
       "        var tooltip_span = $('<span/>');\n",
       "        tooltip_span.addClass('ui-button-text');\n",
       "        tooltip_span.html(tooltip);\n",
       "\n",
       "        button.append(icon_img);\n",
       "        button.append(tooltip_span);\n",
       "\n",
       "        nav_element.append(button);\n",
       "    }\n",
       "\n",
       "    var fmt_picker_span = $('<span/>');\n",
       "\n",
       "    var fmt_picker = $('<select/>');\n",
       "    fmt_picker.addClass('mpl-toolbar-option ui-widget ui-widget-content');\n",
       "    fmt_picker_span.append(fmt_picker);\n",
       "    nav_element.append(fmt_picker_span);\n",
       "    this.format_dropdown = fmt_picker[0];\n",
       "\n",
       "    for (var ind in mpl.extensions) {\n",
       "        var fmt = mpl.extensions[ind];\n",
       "        var option = $(\n",
       "            '<option/>', {selected: fmt === mpl.default_extension}).html(fmt);\n",
       "        fmt_picker.append(option);\n",
       "    }\n",
       "\n",
       "    // Add hover states to the ui-buttons\n",
       "    $( \".ui-button\" ).hover(\n",
       "        function() { $(this).addClass(\"ui-state-hover\");},\n",
       "        function() { $(this).removeClass(\"ui-state-hover\");}\n",
       "    );\n",
       "\n",
       "    var status_bar = $('<span class=\"mpl-message\"/>');\n",
       "    nav_element.append(status_bar);\n",
       "    this.message = status_bar[0];\n",
       "}\n",
       "\n",
       "mpl.figure.prototype.request_resize = function(x_pixels, y_pixels) {\n",
       "    // Request matplotlib to resize the figure. Matplotlib will then trigger a resize in the client,\n",
       "    // which will in turn request a refresh of the image.\n",
       "    this.send_message('resize', {'width': x_pixels, 'height': y_pixels});\n",
       "}\n",
       "\n",
       "mpl.figure.prototype.send_message = function(type, properties) {\n",
       "    properties['type'] = type;\n",
       "    properties['figure_id'] = this.id;\n",
       "    this.ws.send(JSON.stringify(properties));\n",
       "}\n",
       "\n",
       "mpl.figure.prototype.send_draw_message = function() {\n",
       "    if (!this.waiting) {\n",
       "        this.waiting = true;\n",
       "        this.ws.send(JSON.stringify({type: \"draw\", figure_id: this.id}));\n",
       "    }\n",
       "}\n",
       "\n",
       "\n",
       "mpl.figure.prototype.handle_save = function(fig, msg) {\n",
       "    var format_dropdown = fig.format_dropdown;\n",
       "    var format = format_dropdown.options[format_dropdown.selectedIndex].value;\n",
       "    fig.ondownload(fig, format);\n",
       "}\n",
       "\n",
       "\n",
       "mpl.figure.prototype.handle_resize = function(fig, msg) {\n",
       "    var size = msg['size'];\n",
       "    if (size[0] != fig.canvas.width || size[1] != fig.canvas.height) {\n",
       "        fig._resize_canvas(size[0], size[1]);\n",
       "        fig.send_message(\"refresh\", {});\n",
       "    };\n",
       "}\n",
       "\n",
       "mpl.figure.prototype.handle_rubberband = function(fig, msg) {\n",
       "    var x0 = msg['x0'] / mpl.ratio;\n",
       "    var y0 = (fig.canvas.height - msg['y0']) / mpl.ratio;\n",
       "    var x1 = msg['x1'] / mpl.ratio;\n",
       "    var y1 = (fig.canvas.height - msg['y1']) / mpl.ratio;\n",
       "    x0 = Math.floor(x0) + 0.5;\n",
       "    y0 = Math.floor(y0) + 0.5;\n",
       "    x1 = Math.floor(x1) + 0.5;\n",
       "    y1 = Math.floor(y1) + 0.5;\n",
       "    var min_x = Math.min(x0, x1);\n",
       "    var min_y = Math.min(y0, y1);\n",
       "    var width = Math.abs(x1 - x0);\n",
       "    var height = Math.abs(y1 - y0);\n",
       "\n",
       "    fig.rubberband_context.clearRect(\n",
       "        0, 0, fig.canvas.width / mpl.ratio, fig.canvas.height / mpl.ratio);\n",
       "\n",
       "    fig.rubberband_context.strokeRect(min_x, min_y, width, height);\n",
       "}\n",
       "\n",
       "mpl.figure.prototype.handle_figure_label = function(fig, msg) {\n",
       "    // Updates the figure title.\n",
       "    fig.header.textContent = msg['label'];\n",
       "}\n",
       "\n",
       "mpl.figure.prototype.handle_cursor = function(fig, msg) {\n",
       "    var cursor = msg['cursor'];\n",
       "    switch(cursor)\n",
       "    {\n",
       "    case 0:\n",
       "        cursor = 'pointer';\n",
       "        break;\n",
       "    case 1:\n",
       "        cursor = 'default';\n",
       "        break;\n",
       "    case 2:\n",
       "        cursor = 'crosshair';\n",
       "        break;\n",
       "    case 3:\n",
       "        cursor = 'move';\n",
       "        break;\n",
       "    }\n",
       "    fig.rubberband_canvas.style.cursor = cursor;\n",
       "}\n",
       "\n",
       "mpl.figure.prototype.handle_message = function(fig, msg) {\n",
       "    fig.message.textContent = msg['message'];\n",
       "}\n",
       "\n",
       "mpl.figure.prototype.handle_draw = function(fig, msg) {\n",
       "    // Request the server to send over a new figure.\n",
       "    fig.send_draw_message();\n",
       "}\n",
       "\n",
       "mpl.figure.prototype.handle_image_mode = function(fig, msg) {\n",
       "    fig.image_mode = msg['mode'];\n",
       "}\n",
       "\n",
       "mpl.figure.prototype.updated_canvas_event = function() {\n",
       "    // Called whenever the canvas gets updated.\n",
       "    this.send_message(\"ack\", {});\n",
       "}\n",
       "\n",
       "// A function to construct a web socket function for onmessage handling.\n",
       "// Called in the figure constructor.\n",
       "mpl.figure.prototype._make_on_message_function = function(fig) {\n",
       "    return function socket_on_message(evt) {\n",
       "        if (evt.data instanceof Blob) {\n",
       "            /* FIXME: We get \"Resource interpreted as Image but\n",
       "             * transferred with MIME type text/plain:\" errors on\n",
       "             * Chrome.  But how to set the MIME type?  It doesn't seem\n",
       "             * to be part of the websocket stream */\n",
       "            evt.data.type = \"image/png\";\n",
       "\n",
       "            /* Free the memory for the previous frames */\n",
       "            if (fig.imageObj.src) {\n",
       "                (window.URL || window.webkitURL).revokeObjectURL(\n",
       "                    fig.imageObj.src);\n",
       "            }\n",
       "\n",
       "            fig.imageObj.src = (window.URL || window.webkitURL).createObjectURL(\n",
       "                evt.data);\n",
       "            fig.updated_canvas_event();\n",
       "            fig.waiting = false;\n",
       "            return;\n",
       "        }\n",
       "        else if (typeof evt.data === 'string' && evt.data.slice(0, 21) == \"data:image/png;base64\") {\n",
       "            fig.imageObj.src = evt.data;\n",
       "            fig.updated_canvas_event();\n",
       "            fig.waiting = false;\n",
       "            return;\n",
       "        }\n",
       "\n",
       "        var msg = JSON.parse(evt.data);\n",
       "        var msg_type = msg['type'];\n",
       "\n",
       "        // Call the  \"handle_{type}\" callback, which takes\n",
       "        // the figure and JSON message as its only arguments.\n",
       "        try {\n",
       "            var callback = fig[\"handle_\" + msg_type];\n",
       "        } catch (e) {\n",
       "            console.log(\"No handler for the '\" + msg_type + \"' message type: \", msg);\n",
       "            return;\n",
       "        }\n",
       "\n",
       "        if (callback) {\n",
       "            try {\n",
       "                // console.log(\"Handling '\" + msg_type + \"' message: \", msg);\n",
       "                callback(fig, msg);\n",
       "            } catch (e) {\n",
       "                console.log(\"Exception inside the 'handler_\" + msg_type + \"' callback:\", e, e.stack, msg);\n",
       "            }\n",
       "        }\n",
       "    };\n",
       "}\n",
       "\n",
       "// from http://stackoverflow.com/questions/1114465/getting-mouse-location-in-canvas\n",
       "mpl.findpos = function(e) {\n",
       "    //this section is from http://www.quirksmode.org/js/events_properties.html\n",
       "    var targ;\n",
       "    if (!e)\n",
       "        e = window.event;\n",
       "    if (e.target)\n",
       "        targ = e.target;\n",
       "    else if (e.srcElement)\n",
       "        targ = e.srcElement;\n",
       "    if (targ.nodeType == 3) // defeat Safari bug\n",
       "        targ = targ.parentNode;\n",
       "\n",
       "    // jQuery normalizes the pageX and pageY\n",
       "    // pageX,Y are the mouse positions relative to the document\n",
       "    // offset() returns the position of the element relative to the document\n",
       "    var x = e.pageX - $(targ).offset().left;\n",
       "    var y = e.pageY - $(targ).offset().top;\n",
       "\n",
       "    return {\"x\": x, \"y\": y};\n",
       "};\n",
       "\n",
       "/*\n",
       " * return a copy of an object with only non-object keys\n",
       " * we need this to avoid circular references\n",
       " * http://stackoverflow.com/a/24161582/3208463\n",
       " */\n",
       "function simpleKeys (original) {\n",
       "  return Object.keys(original).reduce(function (obj, key) {\n",
       "    if (typeof original[key] !== 'object')\n",
       "        obj[key] = original[key]\n",
       "    return obj;\n",
       "  }, {});\n",
       "}\n",
       "\n",
       "mpl.figure.prototype.mouse_event = function(event, name) {\n",
       "    var canvas_pos = mpl.findpos(event)\n",
       "\n",
       "    if (name === 'button_press')\n",
       "    {\n",
       "        this.canvas.focus();\n",
       "        this.canvas_div.focus();\n",
       "    }\n",
       "\n",
       "    var x = canvas_pos.x * mpl.ratio;\n",
       "    var y = canvas_pos.y * mpl.ratio;\n",
       "\n",
       "    this.send_message(name, {x: x, y: y, button: event.button,\n",
       "                             step: event.step,\n",
       "                             guiEvent: simpleKeys(event)});\n",
       "\n",
       "    /* This prevents the web browser from automatically changing to\n",
       "     * the text insertion cursor when the button is pressed.  We want\n",
       "     * to control all of the cursor setting manually through the\n",
       "     * 'cursor' event from matplotlib */\n",
       "    event.preventDefault();\n",
       "    return false;\n",
       "}\n",
       "\n",
       "mpl.figure.prototype._key_event_extra = function(event, name) {\n",
       "    // Handle any extra behaviour associated with a key event\n",
       "}\n",
       "\n",
       "mpl.figure.prototype.key_event = function(event, name) {\n",
       "\n",
       "    // Prevent repeat events\n",
       "    if (name == 'key_press')\n",
       "    {\n",
       "        if (event.which === this._key)\n",
       "            return;\n",
       "        else\n",
       "            this._key = event.which;\n",
       "    }\n",
       "    if (name == 'key_release')\n",
       "        this._key = null;\n",
       "\n",
       "    var value = '';\n",
       "    if (event.ctrlKey && event.which != 17)\n",
       "        value += \"ctrl+\";\n",
       "    if (event.altKey && event.which != 18)\n",
       "        value += \"alt+\";\n",
       "    if (event.shiftKey && event.which != 16)\n",
       "        value += \"shift+\";\n",
       "\n",
       "    value += 'k';\n",
       "    value += event.which.toString();\n",
       "\n",
       "    this._key_event_extra(event, name);\n",
       "\n",
       "    this.send_message(name, {key: value,\n",
       "                             guiEvent: simpleKeys(event)});\n",
       "    return false;\n",
       "}\n",
       "\n",
       "mpl.figure.prototype.toolbar_button_onclick = function(name) {\n",
       "    if (name == 'download') {\n",
       "        this.handle_save(this, null);\n",
       "    } else {\n",
       "        this.send_message(\"toolbar_button\", {name: name});\n",
       "    }\n",
       "};\n",
       "\n",
       "mpl.figure.prototype.toolbar_button_onmouseover = function(tooltip) {\n",
       "    this.message.textContent = tooltip;\n",
       "};\n",
       "mpl.toolbar_items = [[\"Home\", \"Reset original view\", \"fa fa-home icon-home\", \"home\"], [\"Back\", \"Back to previous view\", \"fa fa-arrow-left icon-arrow-left\", \"back\"], [\"Forward\", \"Forward to next view\", \"fa fa-arrow-right icon-arrow-right\", \"forward\"], [\"\", \"\", \"\", \"\"], [\"Pan\", \"Pan axes with left mouse, zoom with right\", \"fa fa-arrows icon-move\", \"pan\"], [\"Zoom\", \"Zoom to rectangle\", \"fa fa-square-o icon-check-empty\", \"zoom\"], [\"\", \"\", \"\", \"\"], [\"Download\", \"Download plot\", \"fa fa-floppy-o icon-save\", \"download\"]];\n",
       "\n",
       "mpl.extensions = [\"eps\", \"jpeg\", \"pdf\", \"png\", \"ps\", \"raw\", \"svg\", \"tif\"];\n",
       "\n",
       "mpl.default_extension = \"png\";var comm_websocket_adapter = function(comm) {\n",
       "    // Create a \"websocket\"-like object which calls the given IPython comm\n",
       "    // object with the appropriate methods. Currently this is a non binary\n",
       "    // socket, so there is still some room for performance tuning.\n",
       "    var ws = {};\n",
       "\n",
       "    ws.close = function() {\n",
       "        comm.close()\n",
       "    };\n",
       "    ws.send = function(m) {\n",
       "        //console.log('sending', m);\n",
       "        comm.send(m);\n",
       "    };\n",
       "    // Register the callback with on_msg.\n",
       "    comm.on_msg(function(msg) {\n",
       "        //console.log('receiving', msg['content']['data'], msg);\n",
       "        // Pass the mpl event to the overridden (by mpl) onmessage function.\n",
       "        ws.onmessage(msg['content']['data'])\n",
       "    });\n",
       "    return ws;\n",
       "}\n",
       "\n",
       "mpl.mpl_figure_comm = function(comm, msg) {\n",
       "    // This is the function which gets called when the mpl process\n",
       "    // starts-up an IPython Comm through the \"matplotlib\" channel.\n",
       "\n",
       "    var id = msg.content.data.id;\n",
       "    // Get hold of the div created by the display call when the Comm\n",
       "    // socket was opened in Python.\n",
       "    var element = $(\"#\" + id);\n",
       "    var ws_proxy = comm_websocket_adapter(comm)\n",
       "\n",
       "    function ondownload(figure, format) {\n",
       "        window.open(figure.imageObj.src);\n",
       "    }\n",
       "\n",
       "    var fig = new mpl.figure(id, ws_proxy,\n",
       "                           ondownload,\n",
       "                           element.get(0));\n",
       "\n",
       "    // Call onopen now - mpl needs it, as it is assuming we've passed it a real\n",
       "    // web socket which is closed, not our websocket->open comm proxy.\n",
       "    ws_proxy.onopen();\n",
       "\n",
       "    fig.parent_element = element.get(0);\n",
       "    fig.cell_info = mpl.find_output_cell(\"<div id='\" + id + \"'></div>\");\n",
       "    if (!fig.cell_info) {\n",
       "        console.error(\"Failed to find cell for figure\", id, fig);\n",
       "        return;\n",
       "    }\n",
       "\n",
       "    var output_index = fig.cell_info[2]\n",
       "    var cell = fig.cell_info[0];\n",
       "\n",
       "};\n",
       "\n",
       "mpl.figure.prototype.handle_close = function(fig, msg) {\n",
       "    var width = fig.canvas.width/mpl.ratio\n",
       "    fig.root.unbind('remove')\n",
       "\n",
       "    // Update the output cell to use the data from the current canvas.\n",
       "    fig.push_to_output();\n",
       "    var dataURL = fig.canvas.toDataURL();\n",
       "    // Re-enable the keyboard manager in IPython - without this line, in FF,\n",
       "    // the notebook keyboard shortcuts fail.\n",
       "    IPython.keyboard_manager.enable()\n",
       "    $(fig.parent_element).html('<img src=\"' + dataURL + '\" width=\"' + width + '\">');\n",
       "    fig.close_ws(fig, msg);\n",
       "}\n",
       "\n",
       "mpl.figure.prototype.close_ws = function(fig, msg){\n",
       "    fig.send_message('closing', msg);\n",
       "    // fig.ws.close()\n",
       "}\n",
       "\n",
       "mpl.figure.prototype.push_to_output = function(remove_interactive) {\n",
       "    // Turn the data on the canvas into data in the output cell.\n",
       "    var width = this.canvas.width/mpl.ratio\n",
       "    var dataURL = this.canvas.toDataURL();\n",
       "    this.cell_info[1]['text/html'] = '<img src=\"' + dataURL + '\" width=\"' + width + '\">';\n",
       "}\n",
       "\n",
       "mpl.figure.prototype.updated_canvas_event = function() {\n",
       "    // Tell IPython that the notebook contents must change.\n",
       "    IPython.notebook.set_dirty(true);\n",
       "    this.send_message(\"ack\", {});\n",
       "    var fig = this;\n",
       "    // Wait a second, then push the new image to the DOM so\n",
       "    // that it is saved nicely (might be nice to debounce this).\n",
       "    setTimeout(function () { fig.push_to_output() }, 1000);\n",
       "}\n",
       "\n",
       "mpl.figure.prototype._init_toolbar = function() {\n",
       "    var fig = this;\n",
       "\n",
       "    var nav_element = $('<div/>');\n",
       "    nav_element.attr('style', 'width: 100%');\n",
       "    this.root.append(nav_element);\n",
       "\n",
       "    // Define a callback function for later on.\n",
       "    function toolbar_event(event) {\n",
       "        return fig.toolbar_button_onclick(event['data']);\n",
       "    }\n",
       "    function toolbar_mouse_event(event) {\n",
       "        return fig.toolbar_button_onmouseover(event['data']);\n",
       "    }\n",
       "\n",
       "    for(var toolbar_ind in mpl.toolbar_items){\n",
       "        var name = mpl.toolbar_items[toolbar_ind][0];\n",
       "        var tooltip = mpl.toolbar_items[toolbar_ind][1];\n",
       "        var image = mpl.toolbar_items[toolbar_ind][2];\n",
       "        var method_name = mpl.toolbar_items[toolbar_ind][3];\n",
       "\n",
       "        if (!name) { continue; };\n",
       "\n",
       "        var button = $('<button class=\"btn btn-default\" href=\"#\" title=\"' + name + '\"><i class=\"fa ' + image + ' fa-lg\"></i></button>');\n",
       "        button.click(method_name, toolbar_event);\n",
       "        button.mouseover(tooltip, toolbar_mouse_event);\n",
       "        nav_element.append(button);\n",
       "    }\n",
       "\n",
       "    // Add the status bar.\n",
       "    var status_bar = $('<span class=\"mpl-message\" style=\"text-align:right; float: right;\"/>');\n",
       "    nav_element.append(status_bar);\n",
       "    this.message = status_bar[0];\n",
       "\n",
       "    // Add the close button to the window.\n",
       "    var buttongrp = $('<div class=\"btn-group inline pull-right\"></div>');\n",
       "    var button = $('<button class=\"btn btn-mini btn-primary\" href=\"#\" title=\"Stop Interaction\"><i class=\"fa fa-power-off icon-remove icon-large\"></i></button>');\n",
       "    button.click(function (evt) { fig.handle_close(fig, {}); } );\n",
       "    button.mouseover('Stop Interaction', toolbar_mouse_event);\n",
       "    buttongrp.append(button);\n",
       "    var titlebar = this.root.find($('.ui-dialog-titlebar'));\n",
       "    titlebar.prepend(buttongrp);\n",
       "}\n",
       "\n",
       "mpl.figure.prototype._root_extra_style = function(el){\n",
       "    var fig = this\n",
       "    el.on(\"remove\", function(){\n",
       "\tfig.close_ws(fig, {});\n",
       "    });\n",
       "}\n",
       "\n",
       "mpl.figure.prototype._canvas_extra_style = function(el){\n",
       "    // this is important to make the div 'focusable\n",
       "    el.attr('tabindex', 0)\n",
       "    // reach out to IPython and tell the keyboard manager to turn it's self\n",
       "    // off when our div gets focus\n",
       "\n",
       "    // location in version 3\n",
       "    if (IPython.notebook.keyboard_manager) {\n",
       "        IPython.notebook.keyboard_manager.register_events(el);\n",
       "    }\n",
       "    else {\n",
       "        // location in version 2\n",
       "        IPython.keyboard_manager.register_events(el);\n",
       "    }\n",
       "\n",
       "}\n",
       "\n",
       "mpl.figure.prototype._key_event_extra = function(event, name) {\n",
       "    var manager = IPython.notebook.keyboard_manager;\n",
       "    if (!manager)\n",
       "        manager = IPython.keyboard_manager;\n",
       "\n",
       "    // Check for shift+enter\n",
       "    if (event.shiftKey && event.which == 13) {\n",
       "        this.canvas_div.blur();\n",
       "        // select the cell after this one\n",
       "        var index = IPython.notebook.find_cell_index(this.cell_info[0]);\n",
       "        IPython.notebook.select(index + 1);\n",
       "    }\n",
       "}\n",
       "\n",
       "mpl.figure.prototype.handle_save = function(fig, msg) {\n",
       "    fig.ondownload(fig, null);\n",
       "}\n",
       "\n",
       "\n",
       "mpl.find_output_cell = function(html_output) {\n",
       "    // Return the cell and output element which can be found *uniquely* in the notebook.\n",
       "    // Note - this is a bit hacky, but it is done because the \"notebook_saving.Notebook\"\n",
       "    // IPython event is triggered only after the cells have been serialised, which for\n",
       "    // our purposes (turning an active figure into a static one), is too late.\n",
       "    var cells = IPython.notebook.get_cells();\n",
       "    var ncells = cells.length;\n",
       "    for (var i=0; i<ncells; i++) {\n",
       "        var cell = cells[i];\n",
       "        if (cell.cell_type === 'code'){\n",
       "            for (var j=0; j<cell.output_area.outputs.length; j++) {\n",
       "                var data = cell.output_area.outputs[j];\n",
       "                if (data.data) {\n",
       "                    // IPython >= 3 moved mimebundle to data attribute of output\n",
       "                    data = data.data;\n",
       "                }\n",
       "                if (data['text/html'] == html_output) {\n",
       "                    return [cell, data, j];\n",
       "                }\n",
       "            }\n",
       "        }\n",
       "    }\n",
       "}\n",
       "\n",
       "// Register the function which deals with the matplotlib target/channel.\n",
       "// The kernel may be null if the page has been refreshed.\n",
       "if (IPython.notebook.kernel != null) {\n",
       "    IPython.notebook.kernel.comm_manager.register_target('matplotlib', mpl.mpl_figure_comm);\n",
       "}\n"
      ],
      "text/plain": [
       "<IPython.core.display.Javascript object>"
      ]
     },
     "metadata": {},
     "output_type": "display_data"
    },
    {
     "data": {
      "text/html": [
       "<img src=\"data:image/png;base64,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\" width=\"640\">"
      ],
      "text/plain": [
       "<IPython.core.display.HTML object>"
      ]
     },
     "metadata": {},
     "output_type": "display_data"
    },
    {
     "data": {
      "text/plain": [
       "<mpl_toolkits.mplot3d.art3d.Line3DCollection at 0x22a2b15e1c0>"
      ]
     },
     "execution_count": 10,
     "metadata": {},
     "output_type": "execute_result"
    }
   ],
   "source": [
    "### your answer here\n",
    "\n",
    "%matplotlib notebook\n",
    "ax = plt.axes(projection='3d')\n",
    "ax.set_xlim(-2, 2)\n",
    "ax.set_ylim(-2, 2)\n",
    "ax.set_zlim(-2, 2)\n",
    "\n",
    "ax.quiver(0, 0, 0, *v, color='yellow')    # 𝐯\n",
    "ax.quiver(0, 0, 0, *u0, color='red')      # 𝐮0\n",
    "ax.quiver(0, 0, 0, *u1, color='green')    # 𝐮1\n",
    "ax.quiver(0, 0, 0, *u2, color='blue')     # 𝐮2"
   ]
  },
  {
   "cell_type": "markdown",
   "metadata": {},
   "source": [
    "##### Exercise 4\n",
    "Let  \n",
    "```python\n",
    "A = np.array([[1,1,1],\n",
    "              [-1,0,0], \n",
    "              [0,-1,0], \n",
    "              [0,0,-1]])\n",
    "```\n",
    "and ${\\bf u}_0, {\\bf u}_1, {\\bf u}_2$ the columns of $A$.  \n",
    "The following exercises lead you through the process of finding an orthnormal basis of $\\operatorname{Col}(A)$."
   ]
  },
  {
   "cell_type": "markdown",
   "metadata": {},
   "source": [
    "###### 4(a)\n",
    "Compute $\\hat{\\bf u}_0 = {\\bf u}_0 / \\|{\\bf u}_0\\|$. "
   ]
  },
  {
   "cell_type": "code",
   "execution_count": 3,
   "metadata": {},
   "outputs": [
    {
     "name": "stdout",
     "output_type": "stream",
     "text": [
      "[ 0.70710678 -0.70710678  0.          0.        ]\n"
     ]
    }
   ],
   "source": [
    "### your answer here\n",
    "\n",
    "A = np.array([[1,1,1],\n",
    "              [-1,0,0], \n",
    "              [0,-1,0], \n",
    "              [0,0,-1]])\n",
    "u0 = A[:,0]\n",
    "\n",
    "# compute 𝐮̂0 =𝐮0/‖𝐮0‖\n",
    "u0_hat = u0 / np.abs(np.linalg.norm(u0))\n",
    "print( u0_hat )"
   ]
  },
  {
   "cell_type": "markdown",
   "metadata": {},
   "source": [
    "###### 4(b)\n",
    "Let $V_0$ be the space spanned by $\\{\\hat{\\bf u}_0\\}$.  \n",
    "Compute ${\\bf u}'_1 = {\\bf u}_1 - \\operatorname{proj}_{V_0}({\\bf u}_1)$ and $\\hat{\\bf u}_1 = {\\bf u}'_1 / \\|{\\bf u}'_1\\|$."
   ]
  },
  {
   "cell_type": "code",
   "execution_count": 9,
   "metadata": {},
   "outputs": [
    {
     "data": {
      "text/plain": [
       "array([[ 0.70710678],\n",
       "       [-0.70710678],\n",
       "       [ 0.        ],\n",
       "       [ 0.        ]])"
      ]
     },
     "execution_count": 9,
     "metadata": {},
     "output_type": "execute_result"
    }
   ],
   "source": [
    "V0"
   ]
  },
  {
   "cell_type": "code",
   "execution_count": 8,
   "metadata": {},
   "outputs": [
    {
     "name": "stdout",
     "output_type": "stream",
     "text": [
      "[ 0.40824829  0.40824829 -0.81649658  0.        ]\n"
     ]
    }
   ],
   "source": [
    "### your answer here\n",
    "\n",
    "V0 = np.vstack([u0_hat]).T\n",
    "u1 = A[:,1]\n",
    "\n",
    "# compute proj𝑉0(𝐮1)\n",
    "proj_V0_u1 = V0.dot(V0.T.dot(u1))\n",
    "    \n",
    "# compute 𝐮′1=𝐮1−proj𝑉0(𝐮1)\n",
    "u1_p = u1 - proj_V0_u1\n",
    "\n",
    "# compute 𝐮̂ 1=𝐮′1/‖𝐮′1‖\n",
    "u1_hat = u1_p / np.abs(np.linalg.norm(u1_p))\n",
    "print( u1_hat )"
   ]
  },
  {
   "cell_type": "markdown",
   "metadata": {},
   "source": [
    "###### 4(c)\n",
    "Let $V_1$ be the space spanned by $\\{\\hat{\\bf u}_0,\\hat{\\bf u}_1\\}$.  \n",
    "Compute ${\\bf u}'_2 = {\\bf u}_2 - \\operatorname{proj}_{V_1}({\\bf u}_2)$ and $\\hat{\\bf u}_2 = {\\bf u}'_2 / \\|{\\bf u}'_2\\|$."
   ]
  },
  {
   "cell_type": "code",
   "execution_count": 13,
   "metadata": {},
   "outputs": [
    {
     "name": "stdout",
     "output_type": "stream",
     "text": [
      "[ 0.28867513  0.28867513  0.28867513 -0.8660254 ]\n"
     ]
    }
   ],
   "source": [
    "### your answer here\n",
    "\n",
    "V1 = np.vstack([u0_hat, u1_hat]).T\n",
    "u2 = A[:,2]\n",
    "\n",
    "# compute proj𝑉1(𝐮2)\n",
    "proj_V1_u2 = V1.dot(V1.T.dot(u2))\n",
    "    \n",
    "# compute 𝐮′2=𝐮2−proj𝑉1(𝐮2)\n",
    "u2_p = u2 - proj_V1_u2\n",
    "\n",
    "# compute 𝐮̂ 2=𝐮′2/‖𝐮′2‖\n",
    "u2_hat = u2_p / np.abs(np.linalg.norm(u2_p))\n",
    "print( u2_hat )"
   ]
  },
  {
   "cell_type": "markdown",
   "metadata": {},
   "source": [
    "###### 4(d)\n",
    "Check if $\\hat{S} = \\{\\hat{\\bf u}_0, \\hat{\\bf u}_1, \\hat{\\bf u}_2\\}$ is an orthogonal basis of $\\operatorname{Col}(A)$."
   ]
  },
  {
   "cell_type": "code",
   "execution_count": 14,
   "metadata": {},
   "outputs": [
    {
     "name": "stdout",
     "output_type": "stream",
     "text": [
      "[[ 1.00000000e+00  1.11022302e-16  8.32667268e-17]\n",
      " [ 1.11022302e-16  1.00000000e+00 -1.66533454e-16]\n",
      " [ 8.32667268e-17 -1.66533454e-16  1.00000000e+00]]\n",
      "\n",
      "close to:\n",
      "[[1 0 0]\n",
      " [0 1 0]\n",
      " [0 0 1]]\n"
     ]
    }
   ],
   "source": [
    "### your answer here\n",
    "\n",
    "OA = np.vstack([u0_hat, u1_hat, u2_hat]).T\n",
    "check = OA.T.dot(OA)\n",
    "\n",
    "print( check )\n",
    "\n",
    "print( '\\nclose to:')\n",
    "print( (check > 0.1) + 0 )"
   ]
  },
  {
   "cell_type": "markdown",
   "metadata": {},
   "source": [
    "#### Remark\n",
    "This process is called the **Gram--Schmidt process**.  \n",
    "It takes a basis $S = \\{{\\bf u}_0, \\ldots, {\\bf u}_{d-1}\\}$ and returns an orthogonal basis $\\hat{S} = \\{\\hat{\\bf u}_0, \\ldots, \\hat{\\bf u}_{d-1}\\}$ such that $\\operatorname{span}(S) = \\operatorname{span}(\\hat{S})$ by the following steps.\n",
    "1. $\\hat{\\bf u}_0 = {\\bf u}_0$\n",
    "2. Let $V_{k-1}$ be the space spanned by $\\{\\hat{\\bf u}_0,\\ldots, \\hat{\\bf u}_{k-1}\\}$.  Then $\\hat{\\bf u}_{k} = {\\bf u}_{k} - \\operatorname{proj}_{V_k}({\\bf u}_{k})$.  Repeat this step for $k = 1,\\ldots, d-1$.\n",
    "3. Normalize each vector of $\\{\\hat{\\bf u}_0, \\ldots, \\hat{\\bf u}_{d-1}\\}$ to length one."
   ]
  },
  {
   "cell_type": "markdown",
   "metadata": {},
   "source": [
    "##### Exercise 5\n",
    "Write a function that takes a basis (stored as the columns of $A$) and returns an orthogonal basis (stored as the columns of $B$)."
   ]
  },
  {
   "cell_type": "code",
   "execution_count": 15,
   "metadata": {},
   "outputs": [],
   "source": [
    "### your answer here\n",
    "\n",
    "### this method follows Remark in Exercise 5\n",
    "def GramSchmidt(S):\n",
    "    ### step 1: initial S_hat = { 𝐮̂ 0 }\n",
    "    # S_hat is a list, stores 𝐮̂ 0 ~ 𝐮̂ 𝑑−1\n",
    "    S_hat = [S[:,0]]       # S[:,0] is the first column of matrix S\n",
    "    ### step 2:\n",
    "    for u in S[:,1:].T:    # S[:,1:].T is the array of all columns of S except first\n",
    "        # calculate proj𝑉𝑘(𝐮𝑘)\n",
    "        projvu = np.zeros(len(u))\n",
    "        for v in S_hat:\n",
    "            projvu += u.dot(v) * v / np.linalg.norm(v)**2\n",
    "        uk_hat = u - projvu\n",
    "        S_hat.append(uk_hat)    # add 𝐮̂ 𝑘 to S_hat\n",
    "    ### step 3: Normalize each vectors in S_hat\n",
    "    for i in range(len(S_hat)):\n",
    "        S_hat[i] /= np.linalg.norm(S_hat[i])\n",
    "    return np.vstack(S_hat).T"
   ]
  },
  {
   "cell_type": "code",
   "execution_count": 16,
   "metadata": {},
   "outputs": [],
   "source": [
    "### your answer here\n",
    "\n",
    "# this method follows Exercise 4\n",
    "def GramSchmidt(S):\n",
    "    u0 = S[:,0]\n",
    "    u0_hat = u0 / np.linalg.norm(u0)\n",
    "    S_hat = np.vstack([u0_hat]).T\n",
    "    for u in S[:,1:].T:\n",
    "        u_p = u - S_hat.dot(S_hat.T.dot(u))\n",
    "        u_p /= np.linalg.norm(u_p)\n",
    "        S_hat = np.vstack([S_hat.T, u_p]).T\n",
    "    return S_hat"
   ]
  },
  {
   "cell_type": "code",
   "execution_count": 17,
   "metadata": {},
   "outputs": [
    {
     "name": "stdout",
     "output_type": "stream",
     "text": [
      "[[ 1.00000000e+00 -6.24500451e-17  6.10622664e-16]\n",
      " [-6.24500451e-17  1.00000000e+00 -4.83987850e-16]\n",
      " [ 6.10622664e-16 -4.83987850e-16  1.00000000e+00]]\n",
      "\n",
      "close to:\n",
      "[[1 0 0]\n",
      " [0 1 0]\n",
      " [0 0 1]]\n"
     ]
    }
   ],
   "source": [
    "# check GramSchmidt\n",
    "\n",
    "A = np.random.randn(3,3)    # random 3x3 matrix\n",
    "GA = GramSchmidt(A)         # get an orthonormal basis from the columns of A\n",
    "\n",
    "check = GA.T.dot(GA)\n",
    "\n",
    "print( check )\n",
    "\n",
    "print( '\\nclose to:')\n",
    "print( (check > 0.1) + 0 )"
   ]
  },
  {
   "cell_type": "code",
   "execution_count": null,
   "metadata": {},
   "outputs": [],
   "source": []
  }
 ],
 "metadata": {
  "kernelspec": {
   "display_name": "Python 3",
   "language": "python",
   "name": "python3"
  },
  "language_info": {
   "codemirror_mode": {
    "name": "ipython",
    "version": 3
   },
   "file_extension": ".py",
   "mimetype": "text/x-python",
   "name": "python",
   "nbconvert_exporter": "python",
   "pygments_lexer": "ipython3",
   "version": "3.8.3"
  }
 },
 "nbformat": 4,
 "nbformat_minor": 4
}
