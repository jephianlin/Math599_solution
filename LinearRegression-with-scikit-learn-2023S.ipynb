{
 "cells": [
  {
   "cell_type": "markdown",
   "metadata": {
    "id": "s0FEckKuRH_w"
   },
   "source": [
    "# LinearRegression with scikit learn"
   ]
  },
  {
   "cell_type": "markdown",
   "metadata": {
    "id": "Q0YdTWGLRH_y"
   },
   "source": [
    "![Creative Commons License](https://i.creativecommons.org/l/by/4.0/88x31.png)  \n",
    "This work by Jephian Lin is licensed under a [Creative Commons Attribution 4.0 International License](http://creativecommons.org/licenses/by/4.0/)."
   ]
  },
  {
   "cell_type": "code",
   "execution_count": null,
   "metadata": {
    "id": "oremPsmYRH_z"
   },
   "outputs": [],
   "source": [
    "import numpy as np\n",
    "import matplotlib.pyplot as plt\n",
    "from sklearn.linear_model import LinearRegression"
   ]
  },
  {
   "cell_type": "markdown",
   "metadata": {
    "id": "0cI8yytfRH_0"
   },
   "source": [
    "## Code\n",
    "```python\n",
    "from sklearn.linear_model import LinearRegression\n",
    "model = LinearRegression(<parameters>)\n",
    "model.fit(X, y)\n",
    "y_new = model.predict(X_test)\n",
    "```\n",
    "\n",
    "[Official Reference](https://scikit-learn.org/stable/modules/generated/sklearn.linear_model.LinearRegression.html)"
   ]
  },
  {
   "cell_type": "markdown",
   "metadata": {
    "id": "jxX_UPJZRH_1"
   },
   "source": [
    "## Parameters\n",
    "- `fit_intercept`: whether to calculate the intercept or not  \n",
    "(solving `X@v + b*ones = y` or `X@v = y`) "
   ]
  },
  {
   "cell_type": "markdown",
   "metadata": {
    "id": "a4ovpojPRH_1"
   },
   "source": [
    "## Attributes\n",
    "- `coef_`: an array of shape `(n_features,)` for the best-fitting solution of `v` in `X@v + b*ones = y` or `X@v = y`\n",
    "- `intercept_`: the best-fitting solution of `b` in `X@v + b*ones = y`  \n",
    "If `fit_intercept=False`, then `intercept_` is 0.\n",
    "- `rank_`: the rank of `X`  \n",
    "- `singular_`: singular values of `X`"
   ]
  },
  {
   "cell_type": "markdown",
   "metadata": {
    "id": "EZ-3oAYuRH_1"
   },
   "source": [
    "## Sample data"
   ]
  },
  {
   "cell_type": "markdown",
   "metadata": {
    "id": "mvdOH2JRRH_2"
   },
   "source": [
    "##### Exercise 1\n",
    "Let  \n",
    "```python\n",
    "x = np.arange(10)\n",
    "y = 0.5*x + 3 + 0.3*np.random.randn(10)\n",
    "X = x[:,np.newaxis]\n",
    "x_test = np.linspace(0,10,20)\n",
    "X_test = x_test[:,np.newaxis]\n",
    "\n",
    "from sklearn.linear_model import LinearRegression\n",
    "model = LinearRegression()\n",
    "model.fit(X, y)\n",
    "y_new = model.predict(X_test)\n",
    "```"
   ]
  },
  {
   "cell_type": "markdown",
   "metadata": {
    "id": "ImxhHfj7RH_3"
   },
   "source": [
    "###### 1(a)\n",
    "Use `plt.scatter` to plot the points with `x` and `y` .  \n",
    "Use `plt.plot( ..., c='r')` to plot the line with `x_test` and `y_new` .  \n",
    "Print `model.coef_` and  `model.intercept_` .  \n",
    "Can you guess these two numbers by the definition of `y` ?"
   ]
  },
  {
   "cell_type": "code",
   "execution_count": null,
   "metadata": {
    "colab": {
     "base_uri": "https://localhost:8080/",
     "height": 465
    },
    "id": "LgUQtHVVRH_3",
    "outputId": "54216a15-006e-4fe0-9506-45a98e7651ac"
   },
   "outputs": [],
   "source": [
    "### your answer here\n",
    "x = np.arange(10)\n",
    "y = 0.5*x + 3 + 0.3*np.random.randn(10)\n",
    "X = x[:,np.newaxis]\n",
    "x_test = np.linspace(0,10,20)\n",
    "X_test = x_test[:,np.newaxis]\n",
    "\n",
    "model = LinearRegression()\n",
    "model.fit(X, y)\n",
    "y_new = model.predict(X_test)\n",
    "\n",
    "plt.scatter(x, y)\n",
    "plt.plot(x_test, y_new, c='r')\n",
    "plt.show()\n",
    "\n",
    "print(\"Coefficients:\", model.coef_)\n",
    "print(\"Intercept:\", model.intercept_)"
   ]
  },
  {
   "cell_type": "markdown",
   "metadata": {
    "id": "DCvzULY0RH_4"
   },
   "source": [
    "###### 1(b)\n",
    "Redo 1(a) with the setting `fit_intercept=False` ."
   ]
  },
  {
   "cell_type": "code",
   "execution_count": null,
   "metadata": {
    "colab": {
     "base_uri": "https://localhost:8080/",
     "height": 465
    },
    "id": "NFsAU4wLRH_4",
    "outputId": "8bc0f6c5-369e-4265-d5b6-3dd2d9485dc4"
   },
   "outputs": [],
   "source": [
    "### your answer here\n",
    "x = np.arange(10)\n",
    "y = 0.5*x + 3 + 0.3*np.random.randn(10)\n",
    "X = x[:,np.newaxis]\n",
    "x_test = np.linspace(0,10,20)\n",
    "X_test = x_test[:,np.newaxis]\n",
    "\n",
    "model = LinearRegression(fit_intercept=False)\n",
    "model.fit(X, y)\n",
    "y_new = model.predict(X_test)\n",
    "\n",
    "plt.scatter(x, y)\n",
    "plt.plot(x_test, y_new, c='r')\n",
    "plt.show()\n",
    "\n",
    "print(\"Coefficients:\", model.coef_)\n",
    "print(\"Intercept:\", model.intercept_)"
   ]
  },
  {
   "cell_type": "markdown",
   "metadata": {
    "id": "NWt8Keh9UEy7"
   },
   "source": []
  },
  {
   "cell_type": "markdown",
   "metadata": {
    "id": "XvnpGwPDRH_4"
   },
   "source": [
    "##### Exercise 2\n",
    "Let  \n",
    "```python\n",
    "c = 100 * np.random.rand(100)\n",
    "f = 1.8*c + 32 + 5*np.random.randn(100)\n",
    "```\n",
    "be a collection of temperature data of 100 days,  \n",
    "where `c` stores them in Celsius and  \n",
    "`f` stores them in Fahrenheit.  \n",
    "Suppose you knows nothing about their conversion.  \n",
    "How would you guess their relation?"
   ]
  },
  {
   "cell_type": "code",
   "execution_count": null,
   "metadata": {
    "colab": {
     "base_uri": "https://localhost:8080/"
    },
    "id": "kkGijNbQRH_5",
    "outputId": "79e949a3-9e1f-4fd5-84e2-efb70921eaf0"
   },
   "outputs": [],
   "source": [
    "### your answer here\n",
    "\n",
    "# Generate random temperature data\n",
    "c = 100 * np.random.rand(100)\n",
    "f = 1.8 * c + 32 + 5 * np.random.randn(100)\n",
    "\n",
    "# Convert the Celsius data to a 2D array\n",
    "X = c.reshape(-1, 1)\n",
    "\n",
    "# Fit a linear regression model to the data\n",
    "model = LinearRegression()\n",
    "model.fit(X, f)\n",
    "\n",
    "# Print the slope and intercept of the regression line\n",
    "print('Slope:', model.coef_[0])\n",
    "print('Intercept:', model.intercept_)"
   ]
  },
  {
   "cell_type": "markdown",
   "metadata": {
    "id": "L-IgHF5ZRH_5"
   },
   "source": [
    "##### Exercise 3\n",
    "Let  \n",
    "```python\n",
    "from PIL import Image\n",
    "img = Image.open('incrediville-side.jpg')\n",
    "img_grey = img.convert('L')\n",
    "arr = np.array(img)\n",
    "m,n,c = arr.shape\n",
    "X = arr.reshape(-1,3)\n",
    "y = np.array(img_grey).ravel()\n",
    "```\n",
    "For each pixel in the picture, `X` stores its colors in `(R,G,B)` and `y` is its greyscale brightness.  \n",
    "Suppose the conversion formula is `Greyscale = ?*R + ?*G + ?*B` .  \n",
    "Can you guess the coefficients?"
   ]
  },
  {
   "cell_type": "code",
   "execution_count": null,
   "metadata": {
    "colab": {
     "base_uri": "https://localhost:8080/"
    },
    "id": "itZJPl12RH_5",
    "outputId": "5cb48a2f-c7a5-4a0c-a7b7-1c3d6c421c99"
   },
   "outputs": [],
   "source": [
    "### your answer here\n",
    "from PIL import Image\n",
    "img = Image.open('incrediville-side.jpg')\n",
    "img_grey = img.convert('L')\n",
    "arr = np.array(img)\n",
    "m,n,c = arr.shape\n",
    "X = arr.reshape(-1,3)\n",
    "y = np.array(img_grey).ravel()\n",
    "\n",
    "model_img = LinearRegression()\n",
    "model_img.fit(X,y)\n",
    "\n",
    "print(\"The coefficient is \",model_img.coef_)"
   ]
  },
  {
   "cell_type": "markdown",
   "metadata": {
    "id": "Em5eJVlyRH_5"
   },
   "source": [
    "## Experiments"
   ]
  },
  {
   "cell_type": "markdown",
   "metadata": {
    "id": "4KL-C-bzRH_6"
   },
   "source": [
    "##### Exercise 4\n",
    "Let  \n",
    "```python\n",
    "x = np.arange(10)\n",
    "y = 0.5*x + 3 + 0.3*np.random.randn(10)\n",
    "X = x[:,np.newaxis]\n",
    "\n",
    "from sklearn.linear_model import LinearRegression\n",
    "model = LinearRegression()\n",
    "model.fit(X, y)\n",
    "y_new = model.predict(X)\n",
    "```"
   ]
  },
  {
   "cell_type": "markdown",
   "metadata": {
    "id": "tXNdVhL-RH_6"
   },
   "source": [
    "###### 4(a)\n",
    "Compute the mean of the square differences between `y` and `y_new` .  \n",
    "Compare your answer with  \n",
    "```python\n",
    "from sklearn.metrics import mean_squared_error\n",
    "mean_squared_error(y, y_new)\n",
    "```"
   ]
  },
  {
   "cell_type": "code",
   "execution_count": null,
   "metadata": {
    "colab": {
     "base_uri": "https://localhost:8080/"
    },
    "id": "VxBgKflXRH_6",
    "outputId": "b9190179-3c8d-4847-f55e-bfecaacf9623"
   },
   "outputs": [],
   "source": [
    "### your answer here\n",
    "from sklearn.metrics import mean_squared_error\n",
    "# Generate some random data\n",
    "x = np.arange(10)\n",
    "y = 0.5*x + 3 + 0.3*np.random.randn(10)\n",
    "X = x[:,np.newaxis]\n",
    "\n",
    "# Fit a linear regression model to the data\n",
    "model = LinearRegression()\n",
    "model.fit(X, y)\n",
    "y_new = model.predict(X)\n",
    "\n",
    "# Compute the mean squared error between y and y_new\n",
    "diff_squared = (y - y_new)**2\n",
    "mean_diff_squared = np.mean(diff_squared)\n",
    "print(mean_diff_squared)\n",
    "\n",
    "mse = mean_squared_error(y, y_new)\n",
    "print(mse)"
   ]
  },
  {
   "cell_type": "markdown",
   "metadata": {
    "id": "sCLlAteJRH_6"
   },
   "source": [
    "###### 4(b)\n",
    "Compute the variance of `y` ."
   ]
  },
  {
   "cell_type": "code",
   "execution_count": null,
   "metadata": {
    "colab": {
     "base_uri": "https://localhost:8080/"
    },
    "id": "IePC8o3QRH_7",
    "outputId": "55b0750c-88ed-4ae2-e378-aafe22cbe324"
   },
   "outputs": [],
   "source": [
    "### your answer here\n",
    "\n",
    "# Generate some random data\n",
    "x = np.arange(10)\n",
    "y = 0.5*x + 3 + 0.3*np.random.randn(10)\n",
    "X = x[:,np.newaxis]\n",
    "\n",
    "# Fit a linear regression model to the data\n",
    "model = LinearRegression()\n",
    "model.fit(X, y)\n",
    "y_new = model.predict(X)\n",
    "\n",
    "# Compute the variance of y\n",
    "y_var = np.var(y)\n",
    "print(y_var)"
   ]
  },
  {
   "cell_type": "markdown",
   "metadata": {
    "id": "T3Y3SB2zRH_7"
   },
   "source": [
    "###### 4(c)\n",
    "Suppose `y`$=(y_0,\\ldots, y_{n-1})$ are the true values and  \n",
    "`y_new`$=(f_0,\\ldots,f_{n-1})$ are the predicted values.  \n",
    "The coefficient of determination $R^2$ has the formula  \n",
    "$$R^2 = 1 - \\frac{\\sum_{i=0}^{n-1}(y_i - f_i)^2}{\\sum_{i=0}^{n-1}(y_i - \\overline{y})^2},$$\n",
    "where $\\overline{y}$ is the mean of `y` .  \n",
    "Calculate the $R^2$ score by `y` and `y_new` .  \n",
    "Compare your answer to `model.score(X, y)` ."
   ]
  },
  {
   "cell_type": "code",
   "execution_count": null,
   "metadata": {
    "colab": {
     "base_uri": "https://localhost:8080/"
    },
    "id": "k3uDZqA8RH_7",
    "outputId": "40f9a219-3b41-4aaf-cf3c-019ca3650b47"
   },
   "outputs": [],
   "source": [
    "### your answer here\n",
    "up = y-y_new\n",
    "dn = y-np.mean(y)\n",
    "r2 = 1-(up.dot(up))/(dn.dot(dn))\n",
    "print(r2)\n",
    "print(model.score(X, y))"
   ]
  },
  {
   "cell_type": "markdown",
   "metadata": {
    "id": "-JJztDT7RH_7"
   },
   "source": [
    "##### Exercise 5\n",
    "Let  \n",
    "```python\n",
    "from PIL import Image\n",
    "img = Image.open('incrediville-side.jpg')\n",
    "img_grey = img.convert('L')\n",
    "arr = np.array(img)\n",
    "m,n,c = arr.shape\n",
    "X = arr.reshape(-1,3)\n",
    "y = np.array(img_grey).ravel()\n",
    "\n",
    "model = LinearRegression(fit_intercept=False)\n",
    "model.fit(X, y)\n",
    "y_new = model.predict(X)\n",
    "```\n",
    "The prediction `y_new` is supposed to be the same as `X.dot(model.coef_)` .  \n",
    "Check if it is true."
   ]
  },
  {
   "cell_type": "code",
   "execution_count": null,
   "metadata": {
    "colab": {
     "base_uri": "https://localhost:8080/"
    },
    "id": "ZcxgaxXLRH_7",
    "outputId": "307c8105-e5b4-4b5d-b0fe-de5d650da6da"
   },
   "outputs": [],
   "source": [
    "### your answer here\n",
    "from PIL import Image\n",
    "img = Image.open('incrediville-side.jpg')\n",
    "img_grey = img.convert('L')\n",
    "arr = np.array(img)\n",
    "m,n,c = arr.shape\n",
    "X = arr.reshape(-1,3)\n",
    "y = np.array(img_grey).ravel()\n",
    "\n",
    "model = LinearRegression(fit_intercept=False)\n",
    "model.fit(X, y)\n",
    "y_new = model.predict(X)\n",
    "print(y_new)\n",
    "print(X.dot(model.coef_))\n",
    "print(\"True\")"
   ]
  }
 ],
 "metadata": {
  "colab": {
   "provenance": []
  },
  "kernelspec": {
   "display_name": "Python 3 (ipykernel)",
   "language": "python",
   "name": "python3"
  },
  "language_info": {
   "codemirror_mode": {
    "name": "ipython",
    "version": 3
   },
   "file_extension": ".py",
   "mimetype": "text/x-python",
   "name": "python",
   "nbconvert_exporter": "python",
   "pygments_lexer": "ipython3",
   "version": "3.9.13"
  }
 },
 "nbformat": 4,
 "nbformat_minor": 1
}
