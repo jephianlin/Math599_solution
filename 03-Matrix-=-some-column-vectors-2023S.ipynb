{
 "cells": [
  {
   "cell_type": "markdown",
   "metadata": {},
   "source": [
    "# Matrix = some column vectors"
   ]
  },
  {
   "cell_type": "markdown",
   "metadata": {},
   "source": [
    "![Creative Commons License](https://i.creativecommons.org/l/by/4.0/88x31.png)  \n",
    "This work by Jephian Lin is licensed under a [Creative Commons Attribution 4.0 International License](http://creativecommons.org/licenses/by/4.0/)."
   ]
  },
  {
   "cell_type": "code",
   "execution_count": null,
   "metadata": {},
   "outputs": [],
   "source": [
    "import numpy as np\n",
    "import matplotlib.pyplot as plt\n",
    "from mpl_toolkits import mplot3d"
   ]
  },
  {
   "cell_type": "code",
   "execution_count": null,
   "metadata": {},
   "outputs": [],
   "source": [
    "def make_blobs(N=150, k=3, d=2, seed=None):\n",
    "    \"\"\"\n",
    "    Input:\n",
    "        N: an integer, number of samples\n",
    "        k: an integer, number of blobs\n",
    "        d: an integer, dimension of the space\n",
    "    Output:\n",
    "        a dataset X of shape (N, d)\n",
    "    \"\"\"\n",
    "    np.random.seed(seed)\n",
    "    X = np.random.randn(N,d)\n",
    "    blob_size = N // k\n",
    "    centers = np.random.randn(k, d) * 3\n",
    "    for i in range(k):\n",
    "        left = blob_size * i\n",
    "        right = blob_size * (i+1) if i != k-1 else N\n",
    "        X[left:right] += centers[i]\n",
    "    return X"
   ]
  },
  {
   "cell_type": "markdown",
   "metadata": {},
   "source": [
    "## Main idea"
   ]
  },
  {
   "cell_type": "markdown",
   "metadata": {},
   "source": [
    "Let $S = \\{{\\bf u}_1, \\ldots, {\\bf u}_n\\}$ be a collection of vectors.  \n",
    "A **linear combination** of $S$ is a vector of the form  \n",
    "$${\\bf v} = c_1{\\bf u}_1 + \\cdots + c_n{\\bf u}_n$$\n",
    "where $c_1,\\ldots,c_n$ are real numbers.  \n",
    "The **span** of $S$, denoted by $\\operatorname{span}(S)$, is the set of all linear combinations of $S$."
   ]
  },
  {
   "cell_type": "markdown",
   "metadata": {},
   "source": [
    "Let  \n",
    "$$A = \\begin{bmatrix} \n",
    " | & ~ & | \\\\\n",
    " {\\bf u}_1 & \\cdots & {\\bf u}_n \\\\\n",
    " | & ~ & | \\\\\n",
    "\\end{bmatrix}$$\n",
    "be an $m\\times n$ matrix.  Let \n",
    "$${\\bf v} = \\begin{bmatrix} c_1 \\\\ \\vdots \\\\ c_n \\end{bmatrix}$$\n",
    "a vector in $\\mathbb{R}^n$.  \n",
    "\n",
    "Then  \n",
    "$$A{\\bf v} = c_1{\\bf u}_1 + \\cdots + c_n{\\bf u}_n$$  \n",
    "and  \n",
    "$$\\{A{\\bf v}: {\\bf v}\\in\\mathbb{R}^n\\} = \\operatorname{span}(\\{{\\bf u}_1, \\ldots, {\\bf u}_n\\}),$$\n",
    "which is called the **column space** $\\operatorname{Col}(A)$ of $A$."
   ]
  },
  {
   "cell_type": "markdown",
   "metadata": {},
   "source": [
    "## Side stories"
   ]
  },
  {
   "cell_type": "markdown",
   "metadata": {},
   "source": [
    "- space, column space\n",
    "- `np.meshgrid`\n",
    "- center of mass\n",
    "- shift the data\n",
    "- NumPy broadcasting"
   ]
  },
  {
   "cell_type": "markdown",
   "metadata": {},
   "source": [
    "## Experiments"
   ]
  },
  {
   "cell_type": "markdown",
   "metadata": {},
   "source": [
    "##### Exercise 1\n",
    "Let \n",
    "```python\n",
    "A = np.array([[1,-1], \n",
    "              [1,1]])\n",
    "grid = np.meshgrid(np.arange(5), np.arange(5))\n",
    "xs = grid[0].ravel()\n",
    "ys = grid[1].ravel()\n",
    "```"
   ]
  },
  {
   "cell_type": "markdown",
   "metadata": {},
   "source": [
    "###### 1(a)\n",
    "Plot the points ${\\bf v}$ where the x,y-coordinates are stored in `xs` and `ys`, respectively."
   ]
  },
  {
   "cell_type": "code",
   "execution_count": null,
   "metadata": {},
   "outputs": [],
   "source": [
    "### your answer here\n",
    "A = np.array([[1,-1], \n",
    "              [1,1]])\n",
    "grid = np.meshgrid(np.arange(5), np.arange(5))\n",
    "xs = grid[0].ravel()\n",
    "ys = grid[1].ravel()\n",
    "\n",
    "plt.scatter(xs,ys)"
   ]
  },
  {
   "cell_type": "markdown",
   "metadata": {},
   "source": [
    "###### 1(b)\n",
    "Plot the points $A{\\bf v}$ where the x,y-coordinates are stored in `xs` and `ys`, respectively.  \n",
    "Hint:  You might need the function `np.vstack` ."
   ]
  },
  {
   "cell_type": "code",
   "execution_count": null,
   "metadata": {},
   "outputs": [],
   "source": [
    "### your answer here\n",
    "A = np.array([[1,-1], \n",
    "              [1,1]])\n",
    "grid = np.meshgrid(np.arange(5), np.arange(5))\n",
    "xs = grid[0].ravel()\n",
    "ys = grid[1].ravel()\n",
    "\n",
    "v = np.vstack([xs,ys])\n",
    "Av = A.dot(v)\n",
    "plt.axis('equal')\n",
    "plt.scatter(Av[0],Av[1])"
   ]
  },
  {
   "cell_type": "markdown",
   "metadata": {},
   "source": [
    "###### 1(c)\n",
    "Draw the column vectors of $A$ on the figure that you drew earlier."
   ]
  },
  {
   "cell_type": "code",
   "execution_count": null,
   "metadata": {},
   "outputs": [],
   "source": [
    "### your answer here\n",
    "A = np.array([[1,-1], \n",
    "              [1,1]])\n",
    "grid = np.meshgrid(np.arange(5), np.arange(5))\n",
    "xs = grid[0].ravel()\n",
    "ys = grid[1].ravel()\n",
    "\n",
    "v = np.vstack([xs, ys])\n",
    "Av = A.dot(v)\n",
    "\n",
    "plt.scatter(Av[0], Av[1])\n",
    "plt.axis('equal')\n",
    "plt.arrow(0, 0, A[0,0], A[1,0], color='red', \n",
    "          head_width=0.3, length_includes_head=True)\n",
    "plt.arrow(0, 0, A[0,1], A[1,1], color='green', \n",
    "          head_width=0.3, length_includes_head=True)"
   ]
  },
  {
   "cell_type": "markdown",
   "metadata": {},
   "source": [
    "##### Exercise 2\n",
    "Let \n",
    "```python\n",
    "A = np.array([[1,1,1],\n",
    "              [-1,0,0],\n",
    "              [0,-1,0]])\n",
    "B = np.array([[1,1,0],\n",
    "              [-1,0,1],\n",
    "              [0,-1,-1]])\n",
    "grid = np.meshgrid(np.arange(5), np.arange(5), np.arange(5))\n",
    "xs = grid[0].ravel()\n",
    "ys = grid[1].ravel()\n",
    "zs = grid[2].ravel()\n",
    "```"
   ]
  },
  {
   "cell_type": "markdown",
   "metadata": {},
   "source": [
    "###### 2(a)\n",
    "Draw the grid using the columns of $A$ on the three dimensional space.  \n",
    "Remeber you need the following to setup a 3d-axes.  \n",
    "```python\n",
    "%matplotlib notebook\n",
    "ax = plt.axes(projection='3d')\n",
    "ax.set_xlim(-5,5)\n",
    "ax.set_ylim(-5,5)\n",
    "ax.set_zlim(-5,5)\n",
    "```"
   ]
  },
  {
   "cell_type": "code",
   "execution_count": null,
   "metadata": {},
   "outputs": [],
   "source": [
    "### your answer here\n",
    "\n",
    "ax = plt.axes(projection='3d')\n",
    "ax.set_xlim(-5,5)\n",
    "ax.set_ylim(-5,5)\n",
    "ax.set_zlim(-5,5)\n",
    "\n",
    "A = np.array([[1,1,1],\n",
    "              [-1,0,0],\n",
    "              [0,-1,0]])\n",
    "grid = np.meshgrid(np.arange(5), np.arange(5), np.arange(5))\n",
    "xs = grid[0].ravel()\n",
    "ys = grid[1].ravel()\n",
    "zs = grid[2].ravel()\n",
    "\n",
    "v = np.vstack([xs, ys, zs])\n",
    "Av = A.dot(v)\n",
    "ax.scatter(Av[0], Av[1], Av[2])\n",
    "#why ax.scatter not plt.scatter"
   ]
  },
  {
   "cell_type": "markdown",
   "metadata": {},
   "source": [
    "###### 2(b)\n",
    "Draw the grid using the columns of $B$ on the three dimensional space.  \n",
    "What's the main difference between (a) and (b)?"
   ]
  },
  {
   "cell_type": "code",
   "execution_count": null,
   "metadata": {},
   "outputs": [],
   "source": [
    "### your answer here\n",
    "\n",
    "ax = plt.axes(projection='3d')\n",
    "ax.set_xlim(-5,5)\n",
    "ax.set_ylim(-5,5)\n",
    "ax.set_zlim(-5,5)\n",
    "\n",
    "B = np.array([[1,1,0],\n",
    "              [-1,0,1],\n",
    "              [0,-1,-1]])\n",
    "\n",
    "grid = np.meshgrid(np.arange(5), np.arange(5), np.arange(5))\n",
    "xs = grid[0].ravel()\n",
    "ys = grid[1].ravel()\n",
    "zs = grid[2].ravel()\n",
    "\n",
    "v = np.vstack([xs, ys, zs])\n",
    "Bv = B.dot(v)\n",
    "ax.scatter(Bv[0], Bv[1], Bv[2])\n",
    "#Grid in (a) is three dimensional but two dimensional in (b)"
   ]
  },
  {
   "cell_type": "markdown",
   "metadata": {},
   "source": [
    "###### 2(c)\n",
    "Let ${\\bf u}_1, {\\bf u}_2, {\\bf u}_3$ be the column vectors of $A$.  \n",
    "Draw the grid using $S = \\{{\\bf u}_1, {\\bf u}_2\\}$ and draw an arrow for ${\\bf u}_3$.  \n",
    "Is ${\\bf u}_3$ in $\\operatorname{span}(S)$?  \n",
    "Hint:  You might need `np.quiver`."
   ]
  },
  {
   "cell_type": "code",
   "execution_count": null,
   "metadata": {},
   "outputs": [],
   "source": [
    "### your answer here\n",
    "\n",
    "ax = plt.axes(projection='3d')\n",
    "ax.set_xlim(-5,5)\n",
    "ax.set_ylim(-5,5)\n",
    "ax.set_zlim(-5,5)\n",
    "\n",
    "A = np.array([[1,1,1],\n",
    "              [-1,0,0],\n",
    "              [0,-1,0]])\n",
    "\n",
    "grid = np.meshgrid(np.arange(5), np.arange(5), np.arange(5))\n",
    "xs = grid[0].ravel()\n",
    "ys = grid[1].ravel()\n",
    "zs = grid[2].ravel()\n",
    "\n",
    "S = np.array([[1,1],\n",
    "              [-1,0],\n",
    "              [0,-1]])\n",
    "\n",
    "u3 = np.array([1,0,0])\n",
    "v = np.vstack([xs, ys])\n",
    "Sv = S.dot(v)\n",
    "\n",
    "ax.scatter(Sv[0], Sv[1], Sv[2])\n",
    "ax.quiver(0,0,0,1,0,0)\n",
    "\n",
    "# 𝐮3 isn't in span(𝑆)"
   ]
  },
  {
   "cell_type": "markdown",
   "metadata": {},
   "source": [
    "## Exercises"
   ]
  },
  {
   "cell_type": "markdown",
   "metadata": {},
   "source": [
    "##### Exercise 3\n",
    "Let  \n",
    "```python\n",
    "x = np.array([0,1,2])\n",
    "y = np.array([3,4,5])\n",
    "```"
   ]
  },
  {
   "cell_type": "markdown",
   "metadata": {},
   "source": [
    "###### 3(a)\n",
    "Guess and understand the meaning of `x - y` ."
   ]
  },
  {
   "cell_type": "code",
   "execution_count": null,
   "metadata": {},
   "outputs": [],
   "source": [
    "### your answer here\n",
    "#Guess: [0,1,2] - [3,4,5] = [-3,-3,-3]\n",
    "x = np.array([0,1,2])\n",
    "y = np.array([3,4,5])\n",
    "x - y"
   ]
  },
  {
   "cell_type": "markdown",
   "metadata": {},
   "source": [
    "###### 3(b)\n",
    "Guess and understand the meaning of `x[:,np.newaxis] - y` ."
   ]
  },
  {
   "cell_type": "code",
   "execution_count": null,
   "metadata": {},
   "outputs": [],
   "source": [
    "### your answer here\n",
    "#Guess:no idea\n",
    "x = np.array([0,1,2])\n",
    "y = np.array([3,4,5])\n",
    "x[:,np.newaxis] - y"
   ]
  },
  {
   "cell_type": "markdown",
   "metadata": {},
   "source": [
    "###### 3(c)\n",
    "Guess and understand the meaning of `x[:,np.newaxis] - y[np.newaxis,:]` ."
   ]
  },
  {
   "cell_type": "code",
   "execution_count": null,
   "metadata": {},
   "outputs": [],
   "source": [
    "### your answer here\n",
    "#Guess:no idea\n",
    "x = np.array([0,1,2])\n",
    "y = np.array([3,4,5])\n",
    "x[:,np.newaxis] - y[np.newaxis,:]"
   ]
  },
  {
   "cell_type": "markdown",
   "metadata": {},
   "source": [
    "###### 3(d)\n",
    "Let  \n",
    "```python\n",
    "ys = np.arange(15).reshape(3,5)\n",
    "```\n",
    "Guess and understand the meaning of `x[:,np.newaxis] - ys` ."
   ]
  },
  {
   "cell_type": "code",
   "execution_count": null,
   "metadata": {},
   "outputs": [],
   "source": [
    "### your answer here\n",
    "#Guess:no idea\n",
    "ys = np.arange(15).reshape(3,5)\n",
    "x = np.array([0,1,2])\n",
    "y = np.array([3,4,5])\n",
    "x[:,np.newaxis] - ys"
   ]
  },
  {
   "cell_type": "markdown",
   "metadata": {},
   "source": [
    "##### Exercise 4\n",
    "Let  \n",
    "```python\n",
    "A = np.array([[1,1],\n",
    "              [-1,0],\n",
    "              [0,-1]])\n",
    "p = np.array([1,1,1])\n",
    "grid = np.meshgrid(np.arange(5), np.arange(5))\n",
    "xs = grid[0].ravel()\n",
    "ys = grid[1].ravel()\n",
    "\n",
    "vs = np.vstack([xs,ys])\n",
    "new_vs = A.dot(vs)\n",
    "```"
   ]
  },
  {
   "cell_type": "markdown",
   "metadata": {},
   "source": [
    "###### 4(a)\n",
    "Draw a red point at the origin and an arrow for `p` ."
   ]
  },
  {
   "cell_type": "code",
   "execution_count": null,
   "metadata": {},
   "outputs": [],
   "source": [
    "### your answer here\n",
    "\n",
    "ax = plt.axes(projection='3d')\n",
    "ax.set_xlim(-5,5)\n",
    "ax.set_ylim(-5,5)\n",
    "ax.set_zlim(-5,5)\n",
    "\n",
    "A = np.array([[1,1],\n",
    "              [-1,0],\n",
    "              [0,-1]])\n",
    "p = np.array([1,1,1])\n",
    "grid = np.meshgrid(np.arange(5), np.arange(5))\n",
    "xs = grid[0].ravel()\n",
    "ys = grid[1].ravel()\n",
    "\n",
    "vs = np.vstack([xs,ys])\n",
    "new_vs = A.dot(vs)\n",
    "ax.scatter(0,0,0, color = 'r')\n",
    "ax.quiver(0,0,0,1,1,1)"
   ]
  },
  {
   "cell_type": "markdown",
   "metadata": {},
   "source": [
    "###### 4(b)\n",
    "Let `shifted_vs = p[:,np.newaxis] + new_vs` .  \n",
    "What is the meaning of `shifted_vs` ?  \n",
    "Draw the points (columns) in `shifted_vs` along with a red point at the oirign and an arrow for `p` .  "
   ]
  },
  {
   "cell_type": "code",
   "execution_count": null,
   "metadata": {},
   "outputs": [],
   "source": [
    "### your answer here\n",
    "\n",
    "ax = plt.axes(projection='3d')\n",
    "ax.set_xlim(-5,5)\n",
    "ax.set_ylim(-5,5)\n",
    "ax.set_zlim(-5,5)\n",
    "\n",
    "A = np.array([[1,1],\n",
    "              [-1,0],\n",
    "              [0,-1]])\n",
    "p = np.array([1,1,1])\n",
    "grid = np.meshgrid(np.arange(5), np.arange(5))\n",
    "xs = grid[0].ravel()\n",
    "ys = grid[1].ravel()\n",
    "\n",
    "vs = np.vstack([xs,ys])\n",
    "new_vs = A.dot(vs)\n",
    "ax.scatter(0,0,0, color = 'r')\n",
    "ax.quiver(0,0,0,1,1,1)\n",
    "\n",
    "shifted_vs = p[:,np.newaxis] + new_vs\n",
    "ax.scatter(shifted_vs[0], shifted_vs[1], shifted_vs[2])"
   ]
  },
  {
   "cell_type": "markdown",
   "metadata": {},
   "source": [
    "##### Exercise 5\n",
    "Let  \n",
    "```python\n",
    "A = np.array([[1,1],\n",
    "              [-1,0],\n",
    "              [0,-1]])\n",
    "p = np.array([1,0,0])\n",
    "grid = np.meshgrid(np.linspace(-10,10,100), np.linspace(-10,10,100))\n",
    "xs = grid[0].ravel()\n",
    "ys = grid[1].ravel()\n",
    "\n",
    "vs = np.vstack([xs,ys])\n",
    "new_vs = A.dot(vs)\n",
    "```"
   ]
  },
  {
   "cell_type": "markdown",
   "metadata": {},
   "source": [
    "###### 5(a)\n",
    "Calculate \n",
    "```python\n",
    "diff = p[:,np.newaxis] - new_vs\n",
    "dist = np.sqrt(np.sum(diff**2, axis=0))\n",
    "```\n",
    "and guess the meaning of dist."
   ]
  },
  {
   "cell_type": "code",
   "execution_count": null,
   "metadata": {},
   "outputs": [],
   "source": [
    "### your answer here\n",
    "A = np.array([[1,1],\n",
    "              [-1,0],\n",
    "              [0,-1]])\n",
    "p = np.array([1,0,0])\n",
    "grid = np.meshgrid(np.linspace(-10,10,100), np.linspace(-10,10,100))\n",
    "xs = grid[0].ravel()\n",
    "ys = grid[1].ravel()\n",
    "\n",
    "vs = np.vstack([xs,ys])\n",
    "new_vs = A.dot(vs)\n",
    "\n",
    "diff = p[:,np.newaxis] - new_vs\n",
    "dist = np.sqrt(np.sum(diff**2, axis=0))\n",
    "\n",
    "print(diff,dist)\n",
    "\n",
    "#The dist is the distance from the points in new_vs to p."
   ]
  },
  {
   "cell_type": "markdown",
   "metadata": {},
   "source": [
    "###### 5(b)\n",
    "Use `np.min` to find the shortest distance beteen `p` and a point in `new_vs` .  \n",
    "Use `np.argmin` to find this point in `new_vs` .  \n",
    "(This point is the projection of `p` onto the column space of `A` .)"
   ]
  },
  {
   "cell_type": "code",
   "execution_count": null,
   "metadata": {},
   "outputs": [],
   "source": [
    "### your answer here\n",
    "A = np.array([[1,1],\n",
    "              [-1,0],\n",
    "              [0,-1]])\n",
    "p = np.array([1,0,0])\n",
    "grid = np.meshgrid(np.linspace(-10,10,100), np.linspace(-10,10,100))\n",
    "xs = grid[0].ravel()\n",
    "ys = grid[1].ravel()\n",
    "\n",
    "vs = np.vstack([xs,ys])\n",
    "new_vs = A.dot(vs)\n",
    "\n",
    "diff = p[:,np.newaxis] - new_vs\n",
    "dist = np.sqrt(np.sum(diff**2, axis=0))\n",
    "\n",
    "print(np.min(dist))\n",
    "new_vs[:,np.argmin(dist)]"
   ]
  },
  {
   "cell_type": "markdown",
   "metadata": {},
   "source": [
    "##### Exercise 6\n",
    "Let `X = make_blobs(k=1)` .  "
   ]
  },
  {
   "cell_type": "markdown",
   "metadata": {},
   "source": [
    "###### 6(a)\n",
    "Draw a red point at the origin and the points (rows) in `X` ."
   ]
  },
  {
   "cell_type": "code",
   "execution_count": null,
   "metadata": {},
   "outputs": [],
   "source": [
    "### your answer here\n",
    "\n",
    "X = make_blobs(k=1)\n",
    "\n",
    "plt.scatter(0,0,color='r')\n",
    "for i in range(100):\n",
    "     plt.scatter(X[i,0],X[i,1],color='b')"
   ]
  },
  {
   "cell_type": "markdown",
   "metadata": {},
   "source": [
    "###### 6(b)\n",
    "Suppose $\\{{\\bf x}_i\\}_{i=1}^n$ are some points.  \n",
    "Then the **center of mass** is at $\\frac{1}{n}\\sum_{i=1}^n {\\bf x}_i$.  \n",
    "Let $\\{{\\bf x}_i\\}_i$ be the rows of `X` .  \n",
    "Use `mu = X.mean( ... )` to find the center of mass."
   ]
  },
  {
   "cell_type": "code",
   "execution_count": null,
   "metadata": {},
   "outputs": [],
   "source": [
    "### your answer here\n",
    "X = make_blobs(k=1)\n",
    "\n",
    "mu = X.mean(axis=0)\n",
    "print(mu)"
   ]
  },
  {
   "cell_type": "markdown",
   "metadata": {},
   "source": [
    "###### 6(c)\n",
    "Let `new_X = X - mu`.  \n",
    "(Guess its meaning.)  \n",
    "Draw a red point at the origin and the points (rows) in `new_X` ."
   ]
  },
  {
   "cell_type": "code",
   "execution_count": null,
   "metadata": {},
   "outputs": [],
   "source": [
    "### your answer here\n",
    "#deviation from average?\n",
    "\n",
    "new_X = X - mu\n",
    "\n",
    "plt.scatter(0,0,c='red')\n",
    "for i in range(100):\n",
    " plt.scatter(new_X[i,0],new_X[i,1],color='b')"
   ]
  },
  {
   "cell_type": "markdown",
   "metadata": {},
   "source": [
    "##### Exercise 7\n",
    "For the following equality, pick some random matrices or vectors and check if the equality is true."
   ]
  },
  {
   "cell_type": "markdown",
   "metadata": {},
   "source": [
    "###### 7(a)\n",
    "The **trace** of an $n\\times n$ matrix $A=\\begin{bmatrix}a_{ij}\\end{bmatrix}$ is  \n",
    "$$\\operatorname{tr}(A) = a_{11} + a_{22} + \\cdots + a_{nn}.$$  \n",
    "For any $n\\times n$ matrix $A=\\begin{bmatrix}a_{ij}\\end{bmatrix}$,  \n",
    "$$\\operatorname{tr}(A^\\top A) = \\sum_{i=1}^n\\sum_{j=1}^n a_{ij}^2.$$"
   ]
  },
  {
   "cell_type": "code",
   "execution_count": null,
   "metadata": {},
   "outputs": [],
   "source": [
    "### your answer here\n",
    "n = 5\n",
    "x = np.random.randn(n,n)\n",
    "\n",
    "ATA = np.trace(x.dot(x.T))\n",
    "S = sum(x ** 2)\n",
    "\n",
    "print(\"A:\",x)\n",
    "print(\"trace of ATA:\", ATA)\n",
    "print(\"square sum:\", S)"
   ]
  },
  {
   "cell_type": "markdown",
   "metadata": {},
   "source": [
    "##### Veronica  \n",
    "\n",
    "If you want to calculate the value of  $$\\operatorname{tr}(A^\\top A) = \\sum_{i=1}^n\\sum_{j=1}^n a_{ij}^2 ,$$ you need to use the following code.\n",
    "\n",
    "```python\n",
    "print((x**2).sum())\n",
    "```\n"
   ]
  },
  {
   "cell_type": "markdown",
   "metadata": {},
   "source": [
    "## 7(b)\n",
    "Let $A$ be an $m\\times n$ matrix and $B$ an $n\\times \\ell$ matrix.  \n",
    "Then $(AB)^\\top = B^\\top A^\\top$.  "
   ]
  },
  {
   "cell_type": "code",
   "execution_count": null,
   "metadata": {},
   "outputs": [],
   "source": [
    "m = 6\n",
    "n = 5\n",
    "l = 7\n",
    "A = np.random.randn(m,n)\n",
    "B = np.random.randn(n,l)\n",
    "\n",
    "a = (np.dot(A,B)).T\n",
    "b = np.dot(B.T,A.T)\n",
    "print(a,'\\n\\n',b)\n",
    "print()\n",
    "print(a.round(4) == b.round(4))"
   ]
  },
  {
   "cell_type": "markdown",
   "metadata": {},
   "source": [
    "###### 7(c)\n",
    "Let $A$ be an $m\\times n$ matrix, ${\\bf x}\\in\\mathbb{R}^n$, ${\\bf y}\\in\\mathbb{R}^m$.  \n",
    "Then $\\langle A{\\bf x}, {\\bf y}\\rangle = {\\bf y}^\\top A{\\bf x} = \\langle {\\bf x}, A^\\top{\\bf y}\\rangle$.  "
   ]
  },
  {
   "cell_type": "code",
   "execution_count": null,
   "metadata": {},
   "outputs": [],
   "source": [
    "m = 6\n",
    "n = 5\n",
    "A = np.random.randn(m,n)\n",
    "x = np.random.randn(n)\n",
    "y = np.random.randn(m)\n",
    "\n",
    "a = np.dot(np.dot(A,x),y)\n",
    "b = y.T.dot(np.dot(A,x))\n",
    "c = np.dot(x,np.dot(A.T,y))\n",
    "print(a.round(4)==b.round(4))\n",
    "print(a.round(4)==c.round(4))\n",
    "print(b.round(4)==c.round(4))"
   ]
  },
  {
   "cell_type": "code",
   "execution_count": null,
   "metadata": {},
   "outputs": [],
   "source": []
  }
 ],
 "metadata": {
  "kernelspec": {
   "display_name": "Python 3 (ipykernel)",
   "language": "python",
   "name": "python3"
  },
  "language_info": {
   "codemirror_mode": {
    "name": "ipython",
    "version": 3
   },
   "file_extension": ".py",
   "mimetype": "text/x-python",
   "name": "python",
   "nbconvert_exporter": "python",
   "pygments_lexer": "ipython3",
   "version": "3.9.13"
  }
 },
 "nbformat": 4,
 "nbformat_minor": 4
}
