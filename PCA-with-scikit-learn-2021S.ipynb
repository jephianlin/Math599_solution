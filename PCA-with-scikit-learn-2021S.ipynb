{
 "cells": [
  {
   "cell_type": "markdown",
   "metadata": {},
   "source": [
    "# PCA with scikit learn"
   ]
  },
  {
   "cell_type": "markdown",
   "metadata": {},
   "source": [
    "![Creative Commons License](https://i.creativecommons.org/l/by/4.0/88x31.png)  \n",
    "This work by Jephian Lin is licensed under a [Creative Commons Attribution 4.0 International License](http://creativecommons.org/licenses/by/4.0/)."
   ]
  },
  {
   "cell_type": "code",
   "execution_count": null,
   "metadata": {},
   "outputs": [],
   "source": [
    "import numpy as np\n",
    "import matplotlib.pyplot as plt\n",
    "from sklearn.decomposition import PCA\n",
    "from mpl_toolkits import mplot3d"
   ]
  },
  {
   "cell_type": "markdown",
   "metadata": {},
   "source": [
    "## Code\n",
    "```python\n",
    "from sklearn.decomposition import PCA\n",
    "model = PCA(<parameters>)\n",
    "X_new = model.fit_transform(X)\n",
    "```\n",
    "\n",
    "[Official Reference](https://scikit-learn.org/stable/modules/generated/sklearn.decomposition.PCA.html)"
   ]
  },
  {
   "cell_type": "markdown",
   "metadata": {},
   "source": [
    "## Parameters\n",
    "- `n_components`: target dimension"
   ]
  },
  {
   "cell_type": "markdown",
   "metadata": {},
   "source": [
    "## Attributes\n",
    "- `n_samples`: height of `X`\n",
    "- `n_features`: width of `X`\n",
    "- `n_components_`: target dimension\n",
    "- `components_`: `n_components` rows of principal components\n",
    "- `mean_`: `X.mean(axis=0)`\n",
    "- `explained_variance_`: importance of each component\n",
    "- `explained_variance_ratio_`: importance of each component in ratio\n",
    "- `singular_values_`: singular values of shifted `X`  \n",
    "(`singular_values_**2 / n_samples_ == explained_variance_`)  "
   ]
  },
  {
   "cell_type": "markdown",
   "metadata": {},
   "source": [
    "## Sample data"
   ]
  },
  {
   "cell_type": "markdown",
   "metadata": {},
   "source": [
    "##### Exercise 1\n",
    "Let  \n",
    "```python\n",
    "mu = np.array([3,4])\n",
    "cov = np.array([[1.1,1],\n",
    "                [1,1.1]])\n",
    "X = np.random.multivariate_normal(mu, cov, 100)\n",
    "```\n",
    "Let `X_new` be the result of PCA on `X` ."
   ]
  },
  {
   "cell_type": "code",
   "execution_count": null,
   "metadata": {},
   "outputs": [],
   "source": [
    "mu = np.array([3,4])\n",
    "cov = np.array([[1.1,1],\n",
    "                [1,1.1]])\n",
    "X = np.random.multivariate_normal(mu, cov, 100)\n",
    "\n",
    "model = PCA(2)\n",
    "X_new = model.fit_transform(X)"
   ]
  },
  {
   "cell_type": "markdown",
   "metadata": {},
   "source": [
    "###### 1(a)\n",
    "Plot points (rows) in `X` .  \n",
    "Plot points (rows) in `X_new` ."
   ]
  },
  {
   "cell_type": "code",
   "execution_count": null,
   "metadata": {},
   "outputs": [],
   "source": [
    "### your answer here\n",
    "fig, ax = plt.subplots()\n",
    "ax.scatter(X[:,0], X[:,1], c = 'r')\n",
    "ax.scatter(X_new[:,0], X_new[:,1], c = 'b')\n",
    "#the red points is before \n",
    "#the blue points is after"
   ]
  },
  {
   "cell_type": "markdown",
   "metadata": {},
   "source": [
    "##### 1(b)\n",
    "Adding on top of the previous figure, draw vectors for the rows in `model.components_` with the tails at `model.mean_` ."
   ]
  },
  {
   "cell_type": "code",
   "execution_count": null,
   "metadata": {
    "scrolled": true
   },
   "outputs": [],
   "source": [
    "### your answer here\n",
    "ax.arrow(*model.mean_, *(model.components_[0]), width = 0.05, length_includes_head = True)\n",
    "ax.arrow(*model.mean_, *(model.components_[1]), width = 0.05, length_includes_head = True)\n",
    "fig"
   ]
  },
  {
   "cell_type": "markdown",
   "metadata": {},
   "source": [
    "##### Jephian:\n",
    "Adding `plt.axis('equal')` is recommended so that you can see the principal components are mutually orthogonal."
   ]
  },
  {
   "cell_type": "markdown",
   "metadata": {},
   "source": [
    "###### 1(c)\n",
    "Print `model.explained_variance_ratio_` .  \n",
    "How important is the first component in percentage?"
   ]
  },
  {
   "cell_type": "code",
   "execution_count": null,
   "metadata": {},
   "outputs": [],
   "source": [
    "### your answer here\n",
    "print(\"importance of first component : %.4f%%\" % (model.explained_variance_ratio_[0]*100))"
   ]
  },
  {
   "cell_type": "markdown",
   "metadata": {},
   "source": [
    "##### Exercise 2\n",
    "Let  \n",
    "```python\n",
    "X = np.genfromtxt('hidden_text.csv', delimiter=',')\n",
    "```\n",
    "This data has all its points lie in a two-dimensional plane embedded in a much higher dimension.  "
   ]
  },
  {
   "cell_type": "markdown",
   "metadata": {},
   "source": [
    "###### 2(a)\n",
    "Can you find out what does this data say?"
   ]
  },
  {
   "cell_type": "code",
   "execution_count": null,
   "metadata": {},
   "outputs": [],
   "source": [
    "### your answer here\n",
    "X = np.genfromtxt('hidden_text.csv', delimiter=',')\n",
    "\n",
    "model = PCA(n_components=2)\n",
    "X_new = model.fit_transform(X)\n",
    "\n",
    "\n",
    "plt.axis(\"equal\")\n",
    "plt.scatter(X_new[:, 0], X_new[:, 1])"
   ]
  },
  {
   "cell_type": "code",
   "execution_count": null,
   "metadata": {},
   "outputs": [],
   "source": [
    "'NSYSU'"
   ]
  },
  {
   "cell_type": "markdown",
   "metadata": {},
   "source": [
    "###### 2(b)\n",
    "How much does the first two components have explained in ratio?"
   ]
  },
  {
   "cell_type": "code",
   "execution_count": null,
   "metadata": {},
   "outputs": [],
   "source": [
    "### your answer here\n",
    "print(\"Ans :\\nimportance of component1 %.4f%%\\nimportance of component2 %.4f%%\" % (model.explained_variance_ratio_[0]*100, model.explained_variance_ratio_[1]*100))"
   ]
  },
  {
   "cell_type": "markdown",
   "metadata": {},
   "source": [
    "##### Jephian:\n",
    "To make the code readable, you may do  \n",
    "```python\n",
    "print(\"\"\"Ans :\n",
    "importance of component1 %.4f\n",
    "importance of component2 %.4f\"\"\"\n",
    "      %(model.explained_variance_ratio_[0]*100, \n",
    "        model.explained_variance_ratio_[1]*100))\n",
    "```"
   ]
  },
  {
   "cell_type": "markdown",
   "metadata": {},
   "source": [
    "##### Exercise 3\n",
    "Let  \n",
    "```python\n",
    "from sklearn.datasets import load_digits\n",
    "digits = load_digits()\n",
    "X = digits.data\n",
    "y = digits.target\n",
    "```"
   ]
  },
  {
   "cell_type": "code",
   "execution_count": null,
   "metadata": {},
   "outputs": [],
   "source": [
    "from sklearn.datasets import load_digits\n",
    "digits = load_digits()\n",
    "X = digits.data\n",
    "y = digits.target"
   ]
  },
  {
   "cell_type": "markdown",
   "metadata": {},
   "source": [
    "###### 3(a)\n",
    "Let `X_new` be the result of applying PCA to `X` with 30 components.  \n",
    "Use the first two columns as the $x$,$y$-coordinates and plot the points with `c=y` ."
   ]
  },
  {
   "cell_type": "code",
   "execution_count": null,
   "metadata": {},
   "outputs": [],
   "source": [
    "### your answer here\n",
    "model = PCA(n_components=30)\n",
    "X_new = model.fit_transform(X)\n",
    "plt.scatter(X_new[:,0], X_new[:,1], c = y)"
   ]
  },
  {
   "cell_type": "markdown",
   "metadata": {},
   "source": [
    "###### 3(b)\n",
    "Use the first three columns as the $x$,$y$,$z$-coordinates and plot the points with `c=y` ."
   ]
  },
  {
   "cell_type": "code",
   "execution_count": null,
   "metadata": {},
   "outputs": [],
   "source": [
    "### your answer here\n",
    "%matplotlib notebook\n",
    "ax = plt.axes(projection='3d')\n",
    "ax.scatter(X_new[:,0], X_new[:,1], X_new[:,2], c = y)"
   ]
  },
  {
   "cell_type": "markdown",
   "metadata": {},
   "source": [
    "###### 3(c)\n",
    "Use `plt.plot` to plot `model.explained_variance_` .  \n",
    "What is an appropriate choice of the target dimension?"
   ]
  },
  {
   "cell_type": "code",
   "execution_count": null,
   "metadata": {},
   "outputs": [],
   "source": [
    "### your answer here\n",
    "%matplotlib inline\n",
    "n = len(model.explained_variance_)\n",
    "plt.plot([i for i in range(n)], model.explained_variance_)\n",
    "#we plot the explained_variance_ \n",
    "#by point (0, explained_variance_[0]), (1, explained_variance_[1]), ..., (29, explained_variance_[29])"
   ]
  },
  {
   "cell_type": "markdown",
   "metadata": {},
   "source": [
    "##### Jephian:\n",
    "In fact, the following two lines have the same result.\n",
    "```python\n",
    "plt.plot([i for i in range(n)], model.explained_variance_)\n",
    "plt.plot(model.explained_variance_)\n",
    "```"
   ]
  },
  {
   "cell_type": "code",
   "execution_count": null,
   "metadata": {
    "scrolled": true
   },
   "outputs": [],
   "source": [
    "#and we plot the cumulative percentage of each explained_variance_\n",
    "cumu = model.explained_variance_\n",
    "cumu = np.cumsum(cumu)/np.sum(cumu)\n",
    "plt.plot([i for i in range(n)], cumu)\n",
    "#we can see that in the tail of the plot, it doesn`t improve much\n",
    "#suppose we only need 80% of the information, we only need to pick dimention = 10"
   ]
  },
  {
   "cell_type": "markdown",
   "metadata": {},
   "source": [
    "##### Jephian:\n",
    "Nice!"
   ]
  },
  {
   "cell_type": "markdown",
   "metadata": {},
   "source": [
    "## Experiments"
   ]
  },
  {
   "cell_type": "markdown",
   "metadata": {},
   "source": [
    "##### Exercise 4\n",
    "Let  \n",
    "```python\n",
    "mu = np.array([3,4])\n",
    "cov = np.array([[1.1,1],\n",
    "                [1,1.1]])\n",
    "X = np.random.multivariate_normal(mu, cov, 100)\n",
    "\n",
    "model = PCA(2)\n",
    "X_new = model.fit_transform(X)\n",
    "```"
   ]
  },
  {
   "cell_type": "code",
   "execution_count": null,
   "metadata": {},
   "outputs": [],
   "source": [
    "mu = np.array([3,4])\n",
    "cov = np.array([[1.1,1],\n",
    "                [1,1.1]])\n",
    "X = np.random.multivariate_normal(mu, cov, 100)\n",
    "\n",
    "model = PCA(2)\n",
    "X_new = model.fit_transform(X)"
   ]
  },
  {
   "cell_type": "markdown",
   "metadata": {},
   "source": [
    "###### 4(a)\n",
    "Let  \n",
    "```python\n",
    "X_shifted = X - model.mean_\n",
    "```\n",
    "Plot the points (rows) of `X` .  \n",
    "Plot the points (rows) of `X_shifted` ."
   ]
  },
  {
   "cell_type": "code",
   "execution_count": null,
   "metadata": {},
   "outputs": [],
   "source": [
    "### your answer here\n",
    "%matplotlib inline\n",
    "X_shifted = X - model.mean_\n",
    "\n",
    "plt.scatter(X[:,0], X[:,1], c = 'r')\n",
    "plt.scatter(X_shifted[:,0], X_shifted[:,1], c = 'b')"
   ]
  },
  {
   "cell_type": "markdown",
   "metadata": {},
   "source": [
    "###### 4(b)\n",
    "Check the rows of `model.components_` are mutually orthogonal and of length 1."
   ]
  },
  {
   "cell_type": "code",
   "execution_count": null,
   "metadata": {},
   "outputs": [],
   "source": [
    "### your answer here\n",
    "leng = np.linalg.norm(model.components_, axis = 1)\n",
    "print(\"length of row1 :\", leng[0])\n",
    "print(\"length of row2 :\", leng[1])\n",
    "\n",
    "print(\"\\n<row1, row2> =\", np.dot(model.components_[0], model.components_[1]))\n",
    "#The inner product of row1 and row2 is 0, that is they are orthogonal"
   ]
  },
  {
   "cell_type": "markdown",
   "metadata": {},
   "source": [
    "###### 4(c)\n",
    "Let  \n",
    "```python\n",
    "X_proj = X_shifted.dot(model.components_.T)\n",
    "```\n",
    "Plot the points (rows) of `X_shifted` .\n",
    "Plot the points (rows) of `X_proj` ."
   ]
  },
  {
   "cell_type": "code",
   "execution_count": null,
   "metadata": {},
   "outputs": [],
   "source": [
    "### your answer here\n",
    "X_proj = X_shifted.dot(model.components_.T)\n",
    "\n",
    "plt.subplot(121)\n",
    "plt.scatter(X_shifted[:,0], X_shifted[:,1], c = 'r')\n",
    "plt.scatter(X_proj[:,0], X_proj[:,1], c = 'b')\n",
    "plt.title(\"shifted & proj\")\n",
    "plt.subplot(122)\n",
    "plt.scatter(X_shifted[:,0], X_shifted[:,1], c = 'r')\n",
    "plt.scatter(X_new[:,0], X_new[:,1], c = 'g')\n",
    "plt.title(\"shifted & new\")\n",
    "\n",
    "#the red points are X_shifted\n",
    "#the blue points are X_proj, ans it is the points after PCA(dim=2)  (i.e. X_new)\n",
    "#the green points are X_new"
   ]
  },
  {
   "cell_type": "markdown",
   "metadata": {},
   "source": [
    "##### Jephian:\n",
    "Nice.  \n",
    "You may consider doing `plt.figure(figsize=(6,3))` if necessary."
   ]
  },
  {
   "cell_type": "markdown",
   "metadata": {},
   "source": [
    "###### 4(d)\n",
    "Suppose `model.mean_` and `model.components_` are given.  \n",
    "Can you find a way to obtained `X` from `X_new` ?"
   ]
  },
  {
   "cell_type": "code",
   "execution_count": null,
   "metadata": {
    "scrolled": true
   },
   "outputs": [],
   "source": [
    "### your answer here\n",
    "#let U is the matrix model.components_\n",
    "#since X_new = (X - mean)⋅U\n",
    "#so X = X_new⋅U^-1 + mean\n",
    "inv = np.linalg.inv(model.components_.T)\n",
    "recover_X = X_new.dot(inv)+ model.mean_\n",
    "\n",
    "plt.subplot(121)\n",
    "plt.scatter(X[:,0], X[:,1], c = 'r')\n",
    "plt.title(\"original X\")\n",
    "plt.subplot(122)\n",
    "plt.scatter(recover_X[:,0], recover_X[:,1], c = 'b')\n",
    "plt.title(\"recover_X\")"
   ]
  },
  {
   "cell_type": "markdown",
   "metadata": {},
   "source": [
    "##### Jephian:\n",
    "The second line  \n",
    "\n",
    "    #let U is the matrix model.components_\n",
    "\n",
    "should be \n",
    "\n",
    "    #let U is the matrix model.components_.T"
   ]
  },
  {
   "cell_type": "markdown",
   "metadata": {},
   "source": [
    "##### Jephian:\n",
    "Well done!"
   ]
  },
  {
   "cell_type": "code",
   "execution_count": null,
   "metadata": {},
   "outputs": [],
   "source": []
  }
 ],
 "metadata": {
  "kernelspec": {
   "display_name": "Python 3",
   "language": "python",
   "name": "python3"
  },
  "language_info": {
   "codemirror_mode": {
    "name": "ipython",
    "version": 3
   },
   "file_extension": ".py",
   "mimetype": "text/x-python",
   "name": "python",
   "nbconvert_exporter": "python",
   "pygments_lexer": "ipython3",
   "version": "3.9.5"
  }
 },
 "nbformat": 4,
 "nbformat_minor": 4
}
