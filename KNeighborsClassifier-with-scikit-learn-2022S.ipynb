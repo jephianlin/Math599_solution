{
 "cells": [
  {
   "cell_type": "markdown",
   "metadata": {
    "id": "bQkV8xspcwCr"
   },
   "source": [
    "# KNeighborsClassifier with scikit learn"
   ]
  },
  {
   "cell_type": "markdown",
   "metadata": {
    "id": "Gc4B-CLRcwCw"
   },
   "source": [
    "![Creative Commons License](https://i.creativecommons.org/l/by/4.0/88x31.png)  \n",
    "This work by Jephian Lin is licensed under a [Creative Commons Attribution 4.0 International License](http://creativecommons.org/licenses/by/4.0/)."
   ]
  },
  {
   "cell_type": "code",
   "execution_count": null,
   "metadata": {
    "id": "V5XggU05cwCx"
   },
   "outputs": [],
   "source": [
    "import numpy as np\n",
    "import matplotlib.pyplot as plt"
   ]
  },
  {
   "cell_type": "markdown",
   "metadata": {
    "id": "3JrmN0Z0cwCy"
   },
   "source": [
    "## Code\n",
    "```python\n",
    "from sklearn.neighbors import KNeighborsClassifier\n",
    "model = KNeighborsClassifier(<parameters>)\n",
    "model.fit(X, y)\n",
    "y_new = model.predict(X_test)\n",
    "```\n",
    "\n",
    "[Official Reference](https://scikit-learn.org/stable/modules/generated/sklearn.neighbors.KNeighborsClassifier.html)"
   ]
  },
  {
   "cell_type": "markdown",
   "metadata": {
    "id": "wdQrj3z-cwCy"
   },
   "source": [
    "## Parameters\n",
    "- `n_neighbors`: Numbers of neighbors (including self) to vote\n",
    "- `algorithm`: `'auto'`, `'ball_tree'`, `'kd_tree'`, or `'brute'`  \n",
    "it only affect the speed but not the outcome. "
   ]
  },
  {
   "cell_type": "markdown",
   "metadata": {
    "id": "AtOzes5gcwCz"
   },
   "source": [
    "## Attributes\n",
    "- `classes_`: an array of shape `(n_classes,)`  \n",
    "(Usually `0, ..., n_classes-1`)"
   ]
  },
  {
   "cell_type": "markdown",
   "metadata": {
    "id": "1qpmhysMcwCz"
   },
   "source": [
    "## Sample data"
   ]
  },
  {
   "cell_type": "markdown",
   "metadata": {
    "id": "FI_-LolzcwCz"
   },
   "source": [
    "##### Exercise 1\n",
    "Let  \n",
    "```python\n",
    "mu1 = np.array([2.5,0])\n",
    "cov1 = np.array([[1.1,-1],\n",
    "                [-1,1.1]])\n",
    "mu2 = np.array([-2.5,0])\n",
    "cov2 = np.array([[1.1,1],\n",
    "                [1,1.1]])\n",
    "X = np.vstack([np.random.multivariate_normal(mu1, cov1, 100), \n",
    "               np.random.multivariate_normal(mu2, cov2, 100)])\n",
    "y = np.array([0]*100 + [1]*100)\n",
    "```"
   ]
  },
  {
   "cell_type": "markdown",
   "metadata": {
    "id": "zbsim9O7cwC0"
   },
   "source": [
    "###### 1(a)\n",
    "Plot the points (rows) in `X` with `c=y` .  "
   ]
  },
  {
   "cell_type": "code",
   "execution_count": null,
   "metadata": {
    "colab": {
     "base_uri": "https://localhost:8080/",
     "height": 287
    },
    "id": "ztGj0nRgcwC0",
    "outputId": "5f4cdcc7-db75-4415-94de-a63d39924c5c"
   },
   "outputs": [],
   "source": [
    "mu1 = np.array([2.5,0])\n",
    "cov1 = np.array([[1.1,-1],\n",
    "                [-1,1.1]])\n",
    "mu2 = np.array([-2.5,0])\n",
    "cov2 = np.array([[1.1,1],\n",
    "                [1,1.1]])\n",
    "X = np.vstack([np.random.multivariate_normal(mu1, cov1, 100), \n",
    "               np.random.multivariate_normal(mu2, cov2, 100)])\n",
    "y = np.array([0]*100 + [1]*100)\n",
    "\n",
    "plt.scatter(*X.T,c=y) "
   ]
  },
  {
   "cell_type": "markdown",
   "metadata": {
    "id": "ZKebRpZucwDB"
   },
   "source": [
    "###### 1(b)\n",
    "Use `np.random.rand` to make 1000 random points in the region $-5\\leq x\\leq 5$, $-5\\leq y\\leq 5$.  \n",
    "Make a prediction of them and plot them upon your previous figure."
   ]
  },
  {
   "cell_type": "code",
   "execution_count": null,
   "metadata": {
    "colab": {
     "base_uri": "https://localhost:8080/",
     "height": 283
    },
    "id": "f7IeOXlNcwDB",
    "outputId": "20278d01-8d31-4791-9c35-d0f77f2460a0"
   },
   "outputs": [],
   "source": [
    "X_test = np.random.rand(1000,2)*10-5 ##製造1000個點介於5~-5 \n",
    "#np.random.rand(1000,2)：1000個0~1的點 \n",
    "\n",
    "from sklearn.neighbors import KNeighborsClassifier\n",
    "model = KNeighborsClassifier()\n",
    "model.fit(X, y)\n",
    "y_new = model.predict(X_test)\n",
    "\n",
    "\n",
    "plt.scatter(*X.T,c=y)\n",
    "plt.scatter(*X_test.T,c=y_new,s=10,alpha=0.3) "
   ]
  },
  {
   "cell_type": "markdown",
   "metadata": {
    "id": "ZZFLxNh6cwDC"
   },
   "source": [
    "##### Exercise 2\n",
    "Let  \n",
    "```python\n",
    "from sklearn.datasets import load_iris\n",
    "iris = load_iris()\n",
    "X = iris.data\n",
    "y = iris.target\n",
    "```"
   ]
  },
  {
   "cell_type": "markdown",
   "metadata": {
    "id": "8tZnX1RUcwDC"
   },
   "source": [
    "###### 2(a)\n",
    "Use `X` and `y` to train a $k$-nearest neighbors classification model with `n_neighbors=5` .  \n",
    "Let `y_new` be the prediction.  \n",
    "Calculate the accuracy score between `y` and `y_new` ,  \n",
    "that is, the number of correct answers divided by the number of samples."
   ]
  },
  {
   "cell_type": "code",
   "execution_count": null,
   "metadata": {
    "id": "Djd9kBpKcwDC"
   },
   "outputs": [],
   "source": [
    "from sklearn.datasets import load_iris\n",
    "iris = load_iris()\n",
    "X = iris.data\n",
    "y = iris.target\n",
    "\n",
    "model = KNeighborsClassifier(n_neighbors=5)   #用KNeighbors以周圍5個點的值對點進行分類\n",
    "model.fit(X, y)\n",
    "y_new = model.predict(X)"
   ]
  },
  {
   "cell_type": "code",
   "execution_count": null,
   "metadata": {
    "colab": {
     "base_uri": "https://localhost:8080/"
    },
    "id": "rWdOjzc6cwDC",
    "outputId": "a1f3d049-ba8a-442d-d54a-d8a74839b7a2"
   },
   "outputs": [],
   "source": [
    "score = np.sum(y==y_new)/y.shape[0]   #查看預測值與實際值的準確率有多少 \n",
    "print('score =',score)"
   ]
  },
  {
   "cell_type": "markdown",
   "metadata": {
    "id": "KbY5vOffcwDD"
   },
   "source": [
    "###### 2(b)\n",
    "Let  \n",
    "```python\n",
    "from sklearn.metrics import accuracy_score\n",
    "accuracy_score(y_new, y)\n",
    "```\n",
    "Check if the output is the same as your previous answer."
   ]
  },
  {
   "cell_type": "code",
   "execution_count": null,
   "metadata": {
    "colab": {
     "base_uri": "https://localhost:8080/"
    },
    "id": "OyNu7ynOcwDH",
    "outputId": "8cd6a1b3-2b1c-4e02-f15b-65d4922e5ed5"
   },
   "outputs": [],
   "source": [
    "from sklearn.metrics import accuracy_score\n",
    "accuracy_score(y_new, y) \n",
    "#跟上面得到的答案相同 Same solutions as above"
   ]
  },
  {
   "cell_type": "markdown",
   "metadata": {
    "id": "3lZA7ACTcwDH"
   },
   "source": [
    "###### 2(c)\n",
    "Change the model to the setting `n_neighbors=1` .  \n",
    "Does the accuracy increase or decrease?  Why?"
   ]
  },
  {
   "cell_type": "code",
   "execution_count": null,
   "metadata": {
    "colab": {
     "base_uri": "https://localhost:8080/"
    },
    "id": "O39N_6IIcwDH",
    "outputId": "c5ed3b86-eb13-4b25-e6e8-e0fb4b5b776a"
   },
   "outputs": [],
   "source": [
    "model = KNeighborsClassifier(n_neighbors=1)   #用KNeighbors以周圍1個點的值對點進行分類 \n",
    "model.fit(X, y)\n",
    "y_new = model.predict(X)\n",
    "\n",
    "print(accuracy_score(y_new, y))\n",
    "print('準確率增加至百分之一百,因為只觀察一個點,又是查看原資料,找最近距離一定會查看到自己,所以所有點都一定對!')\n",
    "print('accuracy is 100%! Since we set n_neighbors=1(only see one point around us), it will find itself! Therefore, all points will all be correct!')"
   ]
  },
  {
   "cell_type": "markdown",
   "metadata": {
    "id": "KCrVJklDcwDH"
   },
   "source": [
    "##### Exercise 3\n",
    "Let  \n",
    "```python\n",
    "from sklearn.datasets import load_digits\n",
    "digits = load_digits()\n",
    "mask = (digits.target == 0) | (digits.target == 1)\n",
    "X = digits.data[mask]\n",
    "y = digits.target[mask]\n",
    "```"
   ]
  },
  {
   "cell_type": "markdown",
   "metadata": {
    "id": "Jx_moOiocwDH"
   },
   "source": [
    "###### 3(a)\n",
    "Train a $k$-nearest neighbors classification model.  \n",
    "How is its accuracy score?"
   ]
  },
  {
   "cell_type": "code",
   "execution_count": null,
   "metadata": {
    "colab": {
     "base_uri": "https://localhost:8080/"
    },
    "id": "-G5jYJK6cwDH",
    "outputId": "d3b5cc0c-e0e2-4303-bb32-628e1fb4cc03"
   },
   "outputs": [],
   "source": [
    "from sklearn.datasets import load_digits\n",
    "digits = load_digits()\n",
    "mask = (digits.target == 0) | (digits.target == 1)\n",
    "X = digits.data[mask]\n",
    "y = digits.target[mask]\n",
    "\n",
    "model = KNeighborsClassifier(n_neighbors=5)\n",
    "model.fit(X, y)\n",
    "y_new = model.predict(X)\n",
    "\n",
    "accuracy_score(y_new, y)"
   ]
  },
  {
   "cell_type": "markdown",
   "metadata": {
    "id": "ZmWvyfwFcwDI"
   },
   "source": [
    "###### 3(b)\n",
    "Use any software or online app to draw a picture of 0 or 1.  \n",
    "Save it as a file, e.g., `my_digit.png` .  \n",
    "Use the following code to load it.  \n",
    "```python\n",
    "from PIL import Image\n",
    "img = Image.open(\"my_digit.png\").resize(8,8).convert('L')\n",
    "arr = 255 - np.array(img) / 16\n",
    "```\n",
    "Does the model give you the right answer?  \n",
    "Each of you can do 5 pictures.  \n",
    "Let's see what is the accuracy score."
   ]
  },
  {
   "cell_type": "code",
   "execution_count": null,
   "metadata": {
    "id": "33fNMhBKcwDI"
   },
   "outputs": [],
   "source": [
    "import os ### added by Jephian\n",
    "path = \"KNeighborsClassifier-with-scikit-learn-2022S-data\" ### added by Jephian\n",
    "\n",
    "from PIL import Image\n",
    "img = []\n",
    "for i in range(1,6):\n",
    "    filename = os.path.join(path, \"my_digit\"+str(i)+\".png\") ### added by Jephian\n",
    "#     filename = \"my_digit\"+str(i)+\".png\" #先設定圖片檔案名稱\n",
    "    img.append(Image.open(filename).resize((8,8)).convert('L'))  #再將圖片檔案讀進來，並做一些轉換\n",
    "\n",
    "X_test = (255-np.vstack([np.array(image).ravel() for image in img]))/16 #設定測試集\n",
    "ans = np.array([1,0,0,1,0]) #並給與答案"
   ]
  },
  {
   "cell_type": "code",
   "execution_count": null,
   "metadata": {
    "colab": {
     "base_uri": "https://localhost:8080/",
     "height": 281
    },
    "id": "tKJNyB_Rl1t_",
    "outputId": "f7fbe1b6-c388-48f2-c73f-7bb2df5d59c4"
   },
   "outputs": [],
   "source": [
    "for i in range(5): #將這些圖片印出來，並給與名稱\n",
    "    plt.subplot(2,3,i+1) \n",
    "    plt.title('image'+str(i+1))\n",
    "    plt.imshow(X_test[i].reshape(8,8))\n",
    "plt.show()"
   ]
  },
  {
   "cell_type": "code",
   "execution_count": null,
   "metadata": {
    "colab": {
     "base_uri": "https://localhost:8080/"
    },
    "id": "7pC5kjYjoAs3",
    "outputId": "13750dc4-ec63-4d4c-dec6-f3acaec58247"
   },
   "outputs": [],
   "source": [
    "y_new = model.predict(X_test) #再做預測\n",
    "score = np.sum(ans==y_new)/5\n",
    "print('score =',score) #算預測分數\n",
    "print(y_new) #並查看預測結果"
   ]
  },
  {
   "cell_type": "markdown",
   "metadata": {
    "id": "AJjhF7FMcwDL"
   },
   "source": [
    "## Experiments"
   ]
  },
  {
   "cell_type": "markdown",
   "metadata": {
    "id": "LCD4NJZTcwDL"
   },
   "source": [
    "##### Exercise 4\n",
    "For a supervised learning model, you have to partition your data into a training set and a testing set.  \n",
    "You may do it easily by  \n",
    "```python\n",
    "from sklearn.model_selection import train_test_split\n",
    "X_train, X_test, y_train, y_test = train_test_split(X, y)\n",
    "```"
   ]
  },
  {
   "cell_type": "markdown",
   "metadata": {
    "id": "kcLHgh9CcwDL"
   },
   "source": [
    "###### 4(a)\n",
    "Split the data in Exercise 2.  \n",
    "Use the training set to train the model.  \n",
    "Apply the trained model to the testing set.  \n",
    "How is the accuracy?  \n",
    "Run it several time and get an average."
   ]
  },
  {
   "cell_type": "code",
   "execution_count": null,
   "metadata": {
    "colab": {
     "base_uri": "https://localhost:8080/"
    },
    "id": "pp7fHDBncwDL",
    "outputId": "0ea57d03-2280-47ca-a511-46e6994164fb"
   },
   "outputs": [],
   "source": [
    "from sklearn.datasets import load_iris\n",
    "iris = load_iris()\n",
    "X = iris.data\n",
    "y = iris.target\n",
    "\n",
    "from sklearn.model_selection import train_test_split\n",
    "score = np.array([])\n",
    "for i in range(10):    \n",
    "   #train_test_split(X, y)會將數據拆分為子集以方便我們使用同一組數據進行訓練以最大限度地減少評估和驗證過程中出現偏差的可能性\n",
    "   #以此方式用for迴圈來進行10次訓練\n",
    "    X_train, X_test, y_train, y_test = train_test_split(X, y)  #將X和y分別分成訓練集及測試集\n",
    "    model = KNeighborsClassifier(n_neighbors=5)\n",
    "    model.fit(X_train, y_train) #將訓練集丟進去model內訓練\n",
    "    y_new = model.predict(X_test) #再將訓練好的model丟入X的測試集，預測看看得到的y，並將預測得到的答案稱為y_new\n",
    "    \n",
    "    scr = np.sum(y_new==y_test)/y_test.shape[0] #如果y_new（預測）及y_test（正解）兩者相同，就代表預測正確\n",
    "    score = np.append(score,scr) #將得到的預測分數資料，放入預先建好的score內\n",
    "    \n",
    "for i in range(10):\n",
    "    print(\"test\",i+1,\": score =\",score[i]) #將每一次做的分數印出來\n",
    "print(\"average score =\",np.mean(score)) #算出這10次訓練結果的平均分數"
   ]
  },
  {
   "cell_type": "markdown",
   "metadata": {
    "id": "ubNawm4McwDM"
   },
   "source": [
    "###### 4(b)\n",
    "Split the data in Exercise 3.  \n",
    "Use the training set to train the model.  \n",
    "Apply the trained model to the testing set.  \n",
    "How is the accuracy?  \n",
    "Run it several time and get an average."
   ]
  },
  {
   "cell_type": "code",
   "execution_count": null,
   "metadata": {
    "colab": {
     "base_uri": "https://localhost:8080/"
    },
    "id": "JCTI1SescwDM",
    "outputId": "45bb81fa-f617-40d0-c05d-ac36fff76ce0"
   },
   "outputs": [],
   "source": [
    "digits = load_digits()\n",
    "mask = (digits.target == 0) | (digits.target == 1)\n",
    "X = digits.data[mask]\n",
    "y = digits.target[mask]\n",
    "\n",
    "#方法同上，只是數據換成是第三題的數據\n",
    "\n",
    "score = np.array([])\n",
    "for i in range(10):     \n",
    "  #train_test_split(X, y)會將數據拆分為子集以方便我們使用同一組數據進行訓練以最大限度地減少評估和驗證過程中出現偏差的可能性\n",
    "  #以此方式用for迴圈來進行10次訓練\n",
    "    X_train, X_test, y_train, y_test = train_test_split(X, y)  \n",
    "    model = KNeighborsClassifier(n_neighbors=5)\n",
    "    model.fit(X_train, y_train)\n",
    "    y_new = model.predict(X_test)\n",
    "    \n",
    "    scr = np.sum(y_new==y_test)/y_test.shape[0]\n",
    "    score = np.append(score,scr)\n",
    "    \n",
    "for i in range(10):\n",
    "    print(\"test\",i+1,\": score =\",score[i])\n",
    "print(\"average score =\",np.mean(score))"
   ]
  },
  {
   "cell_type": "markdown",
   "metadata": {
    "id": "o73wewtGcwDM"
   },
   "source": [
    "##### Exercise 5\n",
    "Let  \n",
    "```python \n",
    "X = 5 * np.random.randn(1000,2)\n",
    "lengths = np.linalg.norm(X, axis=1)\n",
    "band1 = (lengths > 1) & (lengths <2)  \n",
    "band2 = (lengths > 3) & (lengths <4)\n",
    "X = np.vstack([X[band1], X[band2]])\n",
    "y = np.array([0]*band1.sum() + [1]*band2.sum())\n",
    "```"
   ]
  },
  {
   "cell_type": "markdown",
   "metadata": {
    "id": "kDKDl14LcwDM"
   },
   "source": [
    "###### 5(a)\n",
    "Go through the split-train-test process.  \n",
    "What is the accuracy score?"
   ]
  },
  {
   "cell_type": "code",
   "execution_count": null,
   "metadata": {
    "colab": {
     "base_uri": "https://localhost:8080/"
    },
    "id": "wOFkvmz3cwDM",
    "outputId": "0ace3856-6881-43f7-85c9-c2a5d0135d15"
   },
   "outputs": [],
   "source": [
    "X = 5 * np.random.randn(1000,2)\n",
    "lengths = np.linalg.norm(X, axis=1)\n",
    "band1 = (lengths > 1) & (lengths <2)  \n",
    "band2 = (lengths > 3) & (lengths <4)\n",
    "X = np.vstack([X[band1], X[band2]])\n",
    "y = np.array([0]*band1.sum() + [1]*band2.sum())\n",
    "\n",
    "score = np.array([])\n",
    "for i in range(10):     \n",
    "  #train_test_split(X, y)會將數據拆分為子集以方便我們使用同一組數據進行訓練以最大限度地減少評估和驗證過程中出現偏差的可能性\n",
    "  #以此方式用for迴圈來進行10次訓練\n",
    "    X_train, X_test, y_train, y_test = train_test_split(X, y)  \n",
    "    model = KNeighborsClassifier(n_neighbors=5)\n",
    "    model.fit(X_train, y_train)\n",
    "    y_new = model.predict(X_test)\n",
    "    \n",
    "    scr = np.sum(y_new==y_test)/y_test.shape[0]\n",
    "    score = np.append(score,scr)\n",
    "    \n",
    "for i in range(10):\n",
    "    print(\"test\",i+1,\": score =\",score[i])\n",
    "print(\"average score =\",np.mean(score))"
   ]
  },
  {
   "cell_type": "markdown",
   "metadata": {
    "id": "lyO3IidKcwDN"
   },
   "source": [
    "###### 5(b)\n",
    "Use some random points to plot the regions for each class.  \n",
    "(Just as what we did in Exercise 1.)"
   ]
  },
  {
   "cell_type": "code",
   "execution_count": null,
   "metadata": {
    "colab": {
     "base_uri": "https://localhost:8080/",
     "height": 283
    },
    "id": "Q1y5l-63cwDN",
    "outputId": "165d9ea4-99a2-4871-a2eb-fc2f41b5a863"
   },
   "outputs": [],
   "source": [
    "X_test = np.random.rand(1000,2)*10-5 ##製造1000個點介於5~-5\n",
    "\n",
    "model = KNeighborsClassifier(n_neighbors=5)\n",
    "model.fit(X_train, y_train)\n",
    "y_new = model.predict(X_test)\n",
    "\n",
    "plt.scatter(*X.T,c=y)\n",
    "plt.scatter(*X_test.T,c=y_new,s=10,alpha=0.3)"
   ]
  },
  {
   "cell_type": "markdown",
   "metadata": {
    "id": "DkqBU6cecwDN"
   },
   "source": [
    "#### TA:\n",
    "Well done!"
   ]
  },
  {
   "cell_type": "code",
   "execution_count": null,
   "metadata": {
    "id": "JgNZKwNRlR2a"
   },
   "outputs": [],
   "source": []
  }
 ],
 "metadata": {
  "colab": {
   "name": "ML7 KNeighborsClassifier-with-scikit-learn.ipynb",
   "provenance": []
  },
  "kernelspec": {
   "display_name": "Python 3 (ipykernel)",
   "language": "python",
   "name": "python3"
  },
  "language_info": {
   "codemirror_mode": {
    "name": "ipython",
    "version": 3
   },
   "file_extension": ".py",
   "mimetype": "text/x-python",
   "name": "python",
   "nbconvert_exporter": "python",
   "pygments_lexer": "ipython3",
   "version": "3.10.4"
  }
 },
 "nbformat": 4,
 "nbformat_minor": 1
}
