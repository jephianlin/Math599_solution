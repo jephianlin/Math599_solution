{
 "cells": [
  {
   "cell_type": "markdown",
   "metadata": {},
   "source": [
    "# Orthogonal basis"
   ]
  },
  {
   "cell_type": "markdown",
   "metadata": {},
   "source": [
    "![Creative Commons License](https://i.creativecommons.org/l/by/4.0/88x31.png)  \n",
    "This work by Jephian Lin is licensed under a [Creative Commons Attribution 4.0 International License](http://creativecommons.org/licenses/by/4.0/)."
   ]
  },
  {
   "cell_type": "code",
   "execution_count": null,
   "metadata": {},
   "outputs": [],
   "source": [
    "import numpy as np\n",
    "import matplotlib.pyplot as plt"
   ]
  },
  {
   "cell_type": "markdown",
   "metadata": {},
   "source": [
    "## Main idea"
   ]
  },
  {
   "cell_type": "markdown",
   "metadata": {},
   "source": [
    "If $\\|{\\bf u}\\| = 1$, then the projection of ${\\bf v}$ onto ${\\bf u}$ is \n",
    "$$\\operatorname{proj}_{\\bf u}({\\bf v}) = \\langle{\\bf v}, {\\bf u}\\rangle{\\bf u}.$$\n",
    "\n",
    "If $S = \\{{\\bf u}_1,\\ldots, {\\bf u}_d\\}$ is a collection of mutually orthogonal vectors of length one, then the projection of ${\\bf v}$ onto $V = \\operatorname{span}(S)$ is \n",
    "$$\\operatorname{proj}_V({\\bf v}) = \\langle{\\bf v}, {\\bf u}_1\\rangle{\\bf u}_1 + \\cdots + \\langle{\\bf v}, {\\bf u}_d\\rangle{\\bf u}_d.$$\n",
    "We say such $S$ is an **orthonormal basis** of $V$."
   ]
  },
  {
   "cell_type": "markdown",
   "metadata": {},
   "source": [
    "Suppose $S = \\{{\\bf u}_1,\\ldots, {\\bf u}_d\\}$ is an orthonormal basis of $V = \\operatorname{span}(S)$.  \n",
    "Let \n",
    "\n",
    "$$\n",
    "    A = \\begin{bmatrix}\n",
    "     | & ~ & | \\\\\n",
    "     {\\bf u}_1 & \\cdots & {\\bf u}_d \\\\\n",
    "     | & ~ & | \\\\\n",
    "    \\end{bmatrix}.\n",
    "$$  \n",
    "\n",
    "Then $A^\\top A = I$ and the projection is  \n",
    "$$\\operatorname{proj}_V({\\bf v}) = AA^\\top{\\bf v}.$$"
   ]
  },
  {
   "cell_type": "markdown",
   "metadata": {},
   "source": [
    "Suppose  \n",
    "$${\\bf v} = c_1{\\bf u}_1 + \\cdots + c_d{\\bf u}_d$$\n",
    "is a vector in $\\operatorname{span}(S)$.  \n",
    "Then $A^\\top {\\bf v} = {\\bf c}$ and $A{\\bf c} = {\\bf v}$,  \n",
    "where  \n",
    "$${\\bf c} = \\begin{bmatrix} c_1 \\\\ \\vdots \\\\ c_d \\end{bmatrix} \\text{ and }  \n",
    "A = \\begin{bmatrix}\n",
    " | & ~ & | \\\\\n",
    " {\\bf u}_1 & \\cdots & {\\bf u}_d \\\\\n",
    " | & ~ & | \\\\\n",
    "\\end{bmatrix}.$$  \n",
    "\n",
    "\n",
    "Every space has an orthonormal basis."
   ]
  },
  {
   "cell_type": "markdown",
   "metadata": {},
   "source": [
    "## Side stories"
   ]
  },
  {
   "cell_type": "markdown",
   "metadata": {},
   "source": [
    "- projection\n",
    "- Gram--Schmidt process"
   ]
  },
  {
   "cell_type": "markdown",
   "metadata": {},
   "source": [
    "## Experiments"
   ]
  },
  {
   "cell_type": "markdown",
   "metadata": {},
   "source": [
    "###### Exercise 1\n",
    "Let  \n",
    "```python\n",
    "u = np.array([1,1])\n",
    "u = u / np.linalg.norm(u)\n",
    "v = np.array([3,4])\n",
    "```"
   ]
  },
  {
   "cell_type": "markdown",
   "metadata": {},
   "source": [
    "###### 1(a)\n",
    "Print $\\langle {\\bf v}, {\\bf u}\\rangle$."
   ]
  },
  {
   "cell_type": "code",
   "execution_count": null,
   "metadata": {},
   "outputs": [],
   "source": [
    "### your answer here\n",
    "\n",
    "#1(a) print<u,v>\n",
    "u = np.array([1,1])\n",
    "u = u / np.linalg.norm(u)\n",
    "v = np.array([3,4])\n",
    "v.dot(u)"
   ]
  },
  {
   "cell_type": "markdown",
   "metadata": {},
   "source": [
    "###### 1(b)\n",
    "Draw a vector in black for ${\\bf u}$.  \n",
    "Draw a vector in blue for ${\\bf v}$.  \n",
    "Draw a vector in red with dashed line for its projection.  "
   ]
  },
  {
   "cell_type": "code",
   "execution_count": null,
   "metadata": {},
   "outputs": [],
   "source": [
    "### your answer here\n",
    "\n",
    "#1(b) Draw a vector in black for u\n",
    "#   Draw a vector in blue for v\n",
    "#   Draw a vector in red with dashed line for its projection.\n",
    "u = np.array([1, 1])\n",
    "u = u / np.linalg.norm(u)\n",
    "v = np.array([3, 4])\n",
    "plt.axis('equal')\n",
    "plt.xlim([-4, 8])\n",
    "plt.ylim([-4, 8])\n",
    "\n",
    "plt.arrow(0, 0, *(v.dot(u) * u), color='red', linestyle=':')\n",
    "\n",
    "plt.arrow(0, 0, 1,1, color='black')\n",
    "plt.arrow(0, 0, *v, color='blue')"
   ]
  },
  {
   "cell_type": "markdown",
   "metadata": {},
   "source": [
    "###### Exercise 2\n",
    "Let  \n",
    "```python\n",
    "u0 = np.array([1,-1,0])\n",
    "u0 = u0 / np.linalg.norm(u0)\n",
    "u1 = np.array([1,1,-2])\n",
    "u1 = u1 / np.linalg.norm(u1)\n",
    "v = np.array([1,0,0])\n",
    "```\n",
    "Let $V$ be the space spanned by $\\{{\\bf u}_0,{\\bf u}_1\\}$."
   ]
  },
  {
   "cell_type": "markdown",
   "metadata": {},
   "source": [
    "###### 2(a)\n",
    "Use the technique you learned in the previous lesson to find the projection of ${\\bf v}$ onto $V$."
   ]
  },
  {
   "cell_type": "code",
   "execution_count": null,
   "metadata": {},
   "outputs": [],
   "source": [
    "### your answer here\n",
    "\n",
    "#2(a) Use the technique you learned in the previous lesson to find the projection of v onto V.\n",
    "u0 = np.array([1,-1,0])\n",
    "u0 = u0 / np.linalg.norm(u0)\n",
    "u1 = np.array([1,1,-2])\n",
    "u1 = u1 / np.linalg.norm(u1)\n",
    "v = np.array([1,0,0])\n",
    "A = np.vstack([u0, u1]).T\n",
    "AT = A.T\n",
    "ATAinv = np.linalg.inv(AT.dot(A))\n",
    "v2a = A.dot(ATAinv).dot(AT).dot(v)\n",
    "v2a"
   ]
  },
  {
   "cell_type": "markdown",
   "metadata": {},
   "source": [
    "###### 2(b)\n",
    "Compute $c_0 = \\langle {\\bf v},{\\bf u}_0\\rangle$ and $c_1 = \\langle {\\bf v},{\\bf u}_1\\rangle$.  \n",
    "Check if $c_0{\\bf u}_0 + c_1{\\bf u}_1$ is the same as your answer in 2(a)."
   ]
  },
  {
   "cell_type": "code",
   "execution_count": null,
   "metadata": {},
   "outputs": [],
   "source": [
    "### your answer here\n",
    "\n",
    "#2(b) Compute c0=<v,uo> and c1=<v,u1> Check if c0*u0+c1*u1 is the same as your answer in 2(a).\n",
    "c0 = v.dot(u0)\n",
    "c1 = v.dot(u1)\n",
    "print( 'c0 = ',c0 )\n",
    "print( 'c1 = ',c1 )\n",
    "v2b = c0 * u0 + c1 * u1 \n",
    "v2b\n",
    "#v2b=c0*u0+c1*u1=v2a"
   ]
  },
  {
   "cell_type": "markdown",
   "metadata": {},
   "source": [
    "###### 2(c)\n",
    "Compute $A^\\top{\\bf v}$ and check if the output is the same as $c_0$ and $c_1$ you computed in 2(b)."
   ]
  },
  {
   "cell_type": "code",
   "execution_count": null,
   "metadata": {},
   "outputs": [],
   "source": [
    "### your answer here\n",
    "\n",
    "#2(c) Compute ATv= and check if the output is the same as c0 and c1 you computed in 2(b).\n",
    "v3c = A.T.dot(v)\n",
    "v3c\n",
    "#v3c=[c0,c1]"
   ]
  },
  {
   "cell_type": "markdown",
   "metadata": {},
   "source": [
    "###### 2(d)\n",
    "Check if $AA^\\top{\\bf v}$ is again the same as the answer you computed in 2(b)."
   ]
  },
  {
   "cell_type": "code",
   "execution_count": null,
   "metadata": {},
   "outputs": [],
   "source": [
    "### your answer here\n",
    "\n",
    "#2(d) Check if ATAv is again the same as the answer you computed in 2(b).\n",
    "v2d = A.dot(A.T.dot(v))\n",
    "v2d\n",
    "#v2d=ATAv=v2b"
   ]
  },
  {
   "cell_type": "markdown",
   "metadata": {},
   "source": [
    "## Exercises"
   ]
  },
  {
   "cell_type": "markdown",
   "metadata": {},
   "source": [
    "###### Exercise 3\n",
    "Let  \n",
    "```python\n",
    "u0 = np.array([1,-1,0])\n",
    "u1 = np.array([1,1,-2])\n",
    "u2 = np.array([1,1,1])\n",
    "u0 = u0 / np.linalg.norm(u0)\n",
    "u1 = u1 / np.linalg.norm(u1)\n",
    "u2 = u2 / np.linalg.norm(u2)\n",
    "```\n",
    "and $S = \\{{\\bf u}_0, {\\bf u}_1, {\\bf u}_2\\}$.  "
   ]
  },
  {
   "cell_type": "markdown",
   "metadata": {},
   "source": [
    "###### 3(a)\n",
    "Check if the vectors in $S$ are mutually orthogonal and al have length one.  \n",
    "Can you check it by $A^\\top A$ for some appropriate $A$?"
   ]
  },
  {
   "cell_type": "code",
   "execution_count": null,
   "metadata": {},
   "outputs": [],
   "source": [
    "### your answer here\n",
    "\n",
    "#3(a) Check if the vectors in S are mutually orthogonal and al have length one.\n",
    "#   Can you check it by ATA for some appropriate A?\n",
    "u0 = np.array([1,-1,0])\n",
    "u1 = np.array([1,1,-2])\n",
    "u2 = np.array([1,1,1])\n",
    "u0 = u0 / np.linalg.norm(u0)\n",
    "u1 = u1 / np.linalg.norm(u1)\n",
    "u2 = u2 / np.linalg.norm(u2)\n",
    "A = np.vstack([u0,u1,u2]).T\n",
    "ATA = A.T.dot(A)\n",
    "ATA\n",
    "#ATA的結果相當接近單位矩陣,可知S are mutually orthogonal."
   ]
  },
  {
   "cell_type": "markdown",
   "metadata": {},
   "source": [
    "###### 3(b)\n",
    "Let  \n",
    "```python\n",
    "v = np.array([1,0,0])\n",
    "```\n",
    "Find $c_0,c_1,c_2$ such that ${\\bf v} = c_0{\\bf u}_0 + c_1{\\bf u}_1 + c_2{\\bf u}_2$."
   ]
  },
  {
   "cell_type": "code",
   "execution_count": null,
   "metadata": {},
   "outputs": [],
   "source": [
    "### your answer here\n",
    "\n",
    "#3(b) Let v = np.array([1,0,0]) Find c0,c1,c2 such that v=c0*u0+c1*u1+c2*u2.\n",
    "v = np.array([1,0,0])\n",
    "c3b = np.linalg.inv(A).dot(v)\n",
    "c3b"
   ]
  },
  {
   "cell_type": "markdown",
   "metadata": {},
   "source": [
    "###### 3(c)\n",
    "Draw the vectors ${\\bf v}$, ${\\bf u}_0$, ${\\bf u}_1$, and ${\\bf u}_2$."
   ]
  },
  {
   "cell_type": "code",
   "execution_count": null,
   "metadata": {},
   "outputs": [],
   "source": [
    "### your answer here\n",
    "\n",
    "#3(c) Draw the vectors v,u0,u1,u2.\n",
    "ax = plt.axes(projection='3d')\n",
    "ax.set_xlim(-1, 1)\n",
    "ax.set_ylim(-1, 1)\n",
    "ax.set_zlim(-1, 1)\n",
    "ax.quiver(0, 0, 0, *v, color='yellow')\n",
    "ax.quiver(0, 0, 0, *u0, color='red')\n",
    "ax.quiver(0, 0, 0, *u1, color='green')\n",
    "ax.quiver(0, 0, 0, *u2, color='blue')"
   ]
  },
  {
   "cell_type": "markdown",
   "metadata": {},
   "source": [
    "##### Exercise 4\n",
    "Let  \n",
    "```python\n",
    "A = np.array([[1,1,1],\n",
    "              [-1,0,0], \n",
    "              [0,-1,0], \n",
    "              [0,0,-1]])\n",
    "```\n",
    "and ${\\bf u}_0, {\\bf u}_1, {\\bf u}_2$ the columns of $A$.  \n",
    "The following exercises lead you through the process of finding an orthnormal basis of $\\operatorname{Col}(A)$."
   ]
  },
  {
   "cell_type": "markdown",
   "metadata": {},
   "source": [
    "###### 4(a)\n",
    "Compute $\\hat{\\bf u}_0 = {\\bf u}_0 / \\|{\\bf u}_0\\|$. "
   ]
  },
  {
   "cell_type": "code",
   "execution_count": null,
   "metadata": {},
   "outputs": [],
   "source": [
    "### your answer here\n",
    "\n",
    "#4(a)\n",
    "A = np.array([[1,1,1],\n",
    "        [-1,0,0], \n",
    "        [0,-1,0], \n",
    "        [0,0,-1]])\n",
    "u0 = A[:,0]\n",
    "u0len = np.abs(np.linalg.norm(u0))\n",
    "u0hat = u0 / u0len\n",
    "u0hat"
   ]
  },
  {
   "cell_type": "markdown",
   "metadata": {},
   "source": [
    "##### Jephian\n",
    "\n",
    "The `np.abs` in `np.abs(np.linalg.norm(u0))` is redundant."
   ]
  },
  {
   "cell_type": "markdown",
   "metadata": {},
   "source": [
    "###### 4(b)\n",
    "Let $V_0$ be the space spanned by $\\{\\hat{\\bf u}_0\\}$.  \n",
    "Compute ${\\bf u}'_1 = {\\bf u}_1 - \\operatorname{proj}_{V_0}({\\bf u}_1)$ and $\\hat{\\bf u}_1 = {\\bf u}'_1 / \\|{\\bf u}'_1\\|$."
   ]
  },
  {
   "cell_type": "code",
   "execution_count": null,
   "metadata": {},
   "outputs": [],
   "source": [
    "### your answer here\n",
    "\n",
    "#4(b)\n",
    "v0 = np.vstack([u0hat]).T\n",
    "u1 = A[:,1]\n",
    "proj_v0_u1 = v0.dot(v0.T.dot(u1))\n",
    "u1pron = u1 - proj_v0_u1\n",
    "u1pronlen = np.abs(np.linalg.norm(u1pron))\n",
    "u1hat = u1pron / u1pronlen\n",
    "print(u1pron , u1hat)"
   ]
  },
  {
   "cell_type": "markdown",
   "metadata": {},
   "source": [
    "##### Jephian\n",
    "\n",
    "The notation $x'$ is pronounced as x-prime."
   ]
  },
  {
   "cell_type": "markdown",
   "metadata": {},
   "source": [
    "###### 4(c)\n",
    "Let $V_1$ be the space spanned by $\\{\\hat{\\bf u}_0,\\hat{\\bf u}_1\\}$.  \n",
    "Compute ${\\bf u}'_2 = {\\bf u}_2 - \\operatorname{proj}_{V_1}({\\bf u}_2)$ and $\\hat{\\bf u}_2 = {\\bf u}'_2 / \\|{\\bf u}'_2\\|$."
   ]
  },
  {
   "cell_type": "code",
   "execution_count": null,
   "metadata": {},
   "outputs": [],
   "source": [
    "### your answer here\n",
    "\n",
    "#4(c)\n",
    "v1 = np.vstack([u0hat,u1hat]).T\n",
    "u2 = A[:,2]\n",
    "proj_v1_u2 = v1.dot(v1.T.dot(u2))\n",
    "u2pron = u2 - proj_v1_u2\n",
    "u2pronlen = np.abs(np.linalg.norm(u2pron))\n",
    "u2hat = u2pron / u2pronlen\n",
    "print(u2pron , u2hat)"
   ]
  },
  {
   "cell_type": "markdown",
   "metadata": {},
   "source": [
    "###### 4(d)\n",
    "Check if $\\hat{S} = \\{\\hat{\\bf u}_0, \\hat{\\bf u}_1, \\hat{\\bf u}_2\\}$ is an orthogonal basis of $\\operatorname{Col}(A)$."
   ]
  },
  {
   "cell_type": "code",
   "execution_count": null,
   "metadata": {},
   "outputs": [],
   "source": [
    "### your answer here\n",
    "\n",
    "#4(d)\n",
    "S = np.vstack([u0hat,u1hat,u2hat]).T\n",
    "STS = S.T.dot(S)  #S is orthogonal.\n",
    "print(S,'\\n',STS)\n",
    "#1/0.70710678 * u0hat + 0 * u1hat + 0 * u2hat = the first column of A\n",
    "#1/0.70710678/2 * u0hat + 1/0.40824829/2 * u1hat + 0 * u2hat = the second column of A \n",
    "#1/0.70710678/2 * u0hat + 1/0.40824829/6 * u1hat + 1/0.28867513/3 * u2hat = the third column of A\n",
    "#S is basis of Col(A)."
   ]
  },
  {
   "cell_type": "markdown",
   "metadata": {},
   "source": [
    "##### Jephian\n",
    "\n",
    "If necessary, you may use  \n",
    "\n",
    "```python\n",
    "np.set_printoptions(precision=2, suppress=True)\n",
    "```\n",
    "\n",
    "to change the print setting so that it only print up to certain digits."
   ]
  },
  {
   "cell_type": "markdown",
   "metadata": {},
   "source": [
    "#### Remark\n",
    "This process is called the **Gram--Schmidt process**.  \n",
    "It takes a basis $S = \\{{\\bf u}_0, \\ldots, {\\bf u}_{d-1}\\}$ and returns an orthogonal basis $\\hat{S} = \\{\\hat{\\bf u}_0, \\ldots, \\hat{\\bf u}_{d-1}\\}$ such that $\\operatorname{span}(S) = \\operatorname{span}(\\hat{S})$ by the following steps.\n",
    "1. $\\hat{\\bf u}_0 = {\\bf u}_0$\n",
    "2. Let $V_{k-1}$ be the space spanned by $\\{\\hat{\\bf u}_0,\\ldots, \\hat{\\bf u}_{k-1}\\}$.  Then $\\hat{\\bf u}_{k} = {\\bf u}_{k} - \\operatorname{proj}_{V_k}({\\bf u}_{k})$.  Repeat this step for $k = 1,\\ldots, d-1$.\n",
    "3. Normalize each vector of $\\{\\hat{\\bf u}_0, \\ldots, \\hat{\\bf u}_{d-1}\\}$ to length one."
   ]
  },
  {
   "cell_type": "markdown",
   "metadata": {},
   "source": [
    "##### Exercise 5\n",
    "Write a function that takes a basis (stored as the columns of $A$) and returns an orthogonal basis (stored as the columns of $B$)."
   ]
  },
  {
   "cell_type": "code",
   "execution_count": null,
   "metadata": {},
   "outputs": [],
   "source": [
    "### your answer here"
   ]
  }
 ],
 "metadata": {
  "kernelspec": {
   "display_name": "Python 3 (ipykernel)",
   "language": "python",
   "name": "python3"
  },
  "language_info": {
   "codemirror_mode": {
    "name": "ipython",
    "version": 3
   },
   "file_extension": ".py",
   "mimetype": "text/x-python",
   "name": "python",
   "nbconvert_exporter": "python",
   "pygments_lexer": "ipython3",
   "version": "3.10.2"
  }
 },
 "nbformat": 4,
 "nbformat_minor": 4
}
