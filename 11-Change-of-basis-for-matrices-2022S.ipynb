{
 "cells": [
  {
   "cell_type": "markdown",
   "metadata": {},
   "source": [
    "# Change of basis for matrices"
   ]
  },
  {
   "cell_type": "markdown",
   "metadata": {},
   "source": [
    "![Creative Commons License](https://i.creativecommons.org/l/by/4.0/88x31.png)  \n",
    "This work by Jephian Lin is licensed under a [Creative Commons Attribution 4.0 International License](http://creativecommons.org/licenses/by/4.0/)."
   ]
  },
  {
   "cell_type": "code",
   "execution_count": null,
   "metadata": {
    "scrolled": false
   },
   "outputs": [],
   "source": [
    "import numpy as np\n",
    "import matplotlib.pyplot as plt\n",
    "from mpl_toolkits import mplot3d"
   ]
  },
  {
   "cell_type": "markdown",
   "metadata": {},
   "source": [
    "## Main idea"
   ]
  },
  {
   "cell_type": "markdown",
   "metadata": {},
   "source": [
    "An $n\\times n$ matrix $A$ can be viewed as an operator  \n",
    "$$A{\\bf v}\\xleftarrow{A}{\\bf v}$$\n",
    "that sends ${\\bf v}$ to $A{\\bf v}$.  \n",
    "\n",
    "Suppose $\\beta$ is an orthonormal basis of $\\mathbb{R}^n$ and $Q$ the matrix whose columns are vectors in $\\beta$.  \n",
    "The action given by $A$ can be \"observed\" in the coordinates of $\\beta$.  \n",
    "That is, \n",
    "$$[A{\\bf v}]_\\beta\\xleftarrow{D}[{\\bf v}]_\\beta$$  \n",
    "or, equivalently,  \n",
    "$$Q^\\top A{\\bf v}\\xleftarrow{D} Q^\\top{\\bf v}.$$  \n",
    "\n",
    "In conclusion, $Q^\\top A{\\bf v} = DQ^\\top{\\bf v}$, $A = QDQ^\\top$, and $D = Q^\\top AQ$.  \n",
    "We call $[A]_\\beta = D$ the **representation** of $A$ with respect to the basis $\\beta$."
   ]
  },
  {
   "cell_type": "markdown",
   "metadata": {},
   "source": [
    "## Side stories"
   ]
  },
  {
   "cell_type": "markdown",
   "metadata": {},
   "source": [
    "- actions on new basis\n",
    "- change of basis (general basis)"
   ]
  },
  {
   "cell_type": "markdown",
   "metadata": {},
   "source": [
    "## Experiments"
   ]
  },
  {
   "cell_type": "markdown",
   "metadata": {},
   "source": [
    "###### Exercise 1\n",
    "Let  \n",
    "```python\n",
    "A = np.eye(3) - np.ones((3,3)) / 3\n",
    "Q = np.array([[1,1,1],\n",
    "              [-1,1,1],\n",
    "              [0,-2,1]])\n",
    "Q = Q / np.sqrt((Q**2).sum(axis=0))\n",
    "```\n",
    "and $\\beta$ the columns of $Q$.  \n",
    "Obverve $A$ from the point of view of $\\beta$.  \n",
    "That is, find $[A]_\\beta$.  \n",
    "What does the action $A$ do on a vector ${\\bf v}$?  "
   ]
  },
  {
   "cell_type": "code",
   "execution_count": null,
   "metadata": {
    "scrolled": false
   },
   "outputs": [],
   "source": [
    "A = np.eye(3) - np.ones((3,3)) / 3\n",
    "\n",
    "Q = np.array([[1,1,1],\n",
    "              [-1,1,1],\n",
    "              [0,-2,1]])\n",
    "\n",
    "Q = Q / np.sqrt((Q**2).sum(axis=0))\n",
    "D = Q.T.dot(A).dot(Q)  # A_beta = D the representation of A with respect to the basis beta.\n",
    "\n",
    "np.set_printoptions(precision=1, suppress=True)\n",
    "# print(A)\n",
    "print('D=', D)"
   ]
  },
  {
   "cell_type": "markdown",
   "metadata": {},
   "source": [
    "###### Exercise 2\n",
    "Let  \n",
    "```python\n",
    "A = np.eye(3) - 2*np.ones((3,3)) / 3\n",
    "Q = np.array([[1,1,1],\n",
    "              [-1,1,1],\n",
    "              [0,-2,1]])\n",
    "Q = Q / np.sqrt((Q**2).sum(axis=0))\n",
    "```\n",
    "and $\\beta$ the columns of $Q$.  \n",
    "Obverve $A$ from the point of view of $\\beta$.  \n",
    "That is, find $[A]_\\beta$.  \n",
    "What does the action $A$ do on a vector ${\\bf v}$?  "
   ]
  },
  {
   "cell_type": "code",
   "execution_count": null,
   "metadata": {
    "scrolled": false
   },
   "outputs": [],
   "source": [
    "A = np.eye(3) - 2*np.ones((3,3)) / 3\n",
    "Q = np.array([[1,1,1],\n",
    "              [-1,1,1],\n",
    "              [0,-2,1]])\n",
    "Q = Q / np.sqrt((Q**2).sum(axis=0))\n",
    "D = Q.T.dot(A).dot(Q)\n",
    "np.set_printoptions(precision=1, suppress=True)\n",
    "print(D) # A對V做鏡射"
   ]
  },
  {
   "cell_type": "markdown",
   "metadata": {},
   "source": [
    "###### Exercise 3\n",
    "Let  \n",
    "```python\n",
    "A = np.array([[ 0.33333333, -0.24401694,  0.9106836 ],\n",
    "              [ 0.9106836 ,  0.33333333, -0.24401694],\n",
    "              [-0.24401694,  0.9106836 ,  0.33333333]])\n",
    "Q = np.array([[1,1,1],\n",
    "              [-1,1,1],\n",
    "              [0,-2,1]])\n",
    "Q = Q / np.sqrt((Q**2).sum(axis=0))\n",
    "```\n",
    "and $\\beta$ the columns of $Q$.  \n",
    "Obverve $A$ from the point of view of $\\beta$.  \n",
    "That is, find $[A]_\\beta$.  \n",
    "What does the action $A$ do on a vector ${\\bf v}$?  "
   ]
  },
  {
   "cell_type": "code",
   "execution_count": null,
   "metadata": {
    "scrolled": false
   },
   "outputs": [],
   "source": [
    "A = np.array([[ 0.33333333, -0.24401694,  0.9106836 ],\n",
    "              [ 0.9106836 ,  0.33333333, -0.24401694],\n",
    "              [-0.24401694,  0.9106836 ,  0.33333333]])\n",
    "Q = np.array([[1,1,1],\n",
    "              [-1,1,1],\n",
    "              [0,-2,1]])\n",
    "Q = Q / np.sqrt((Q**2).sum(axis=0))\n",
    "\n",
    "Qinv = np.linalg.inv(Q)\n",
    "\n",
    "v = Qinv.dot(A).dot(Q)\n",
    "\n",
    "v #A對B做旋轉"
   ]
  },
  {
   "cell_type": "markdown",
   "metadata": {},
   "source": [
    "## Exercises"
   ]
  },
  {
   "cell_type": "markdown",
   "metadata": {},
   "source": [
    "###### Exercise 4\n",
    "Let  \n",
    "```python\n",
    "Q = np.array([[1,1,1],\n",
    "              [-1,1,1],\n",
    "              [0,-2,1]])\n",
    "Q = Q / np.sqrt((Q**2).sum(axis=0))\n",
    "```\n",
    "and $\\beta = \\{{\\bf u}_0,{\\bf u}_1,{\\bf u}_2\\}$ the columns of $Q$.  "
   ]
  },
  {
   "cell_type": "markdown",
   "metadata": {},
   "source": [
    "###### 4(a)\n",
    "Find a matrix $A$ such that  \n",
    "$A{\\bf u}_0 = {\\bf u}_0$  \n",
    "$A{\\bf u}_1 = {\\bf u}_1$  \n",
    "$A{\\bf u}_2 = {\\bf 0}$.  \n",
    "Thus, $A$ is the projection matrix for the ${\\bf u}_0,{\\bf u}_1$-plane."
   ]
  },
  {
   "cell_type": "code",
   "execution_count": null,
   "metadata": {
    "scrolled": false
   },
   "outputs": [],
   "source": [
    "Q = np.array([[1,1,1],\n",
    "              [-1,1,1],\n",
    "              [0,-2,1]])\n",
    "Q = Q / np.sqrt((Q**2).sum(axis=0))\n",
    "\n",
    "D = np.array([[1,0,0],[0,1,0],[0,0,0]])\n",
    "\n",
    "A = Q.dot(D).dot(Q.T)\n",
    "\n",
    "np.set_printoptions(precision=1, suppress=True)\n",
    "print('A=',A) \n",
    "\n",
    "#u_0 = A.dot(Q[:,0])\n",
    "#u_1 = A.dot(Q[:,1])\n",
    "#u_2 = A.dot(Q[:,2])\n",
    "#print(u_0, u_1, u_2)\n",
    "#print(Q)"
   ]
  },
  {
   "cell_type": "markdown",
   "metadata": {},
   "source": [
    "###### 4(b)\n",
    "Find a matrix $A$ such that  \n",
    "$A{\\bf u}_0 = {\\bf u}_0$  \n",
    "$A{\\bf u}_1 = {\\bf u}_1$  \n",
    "$A{\\bf u}_2 = -{\\bf u}_2$.  \n",
    "Thus, $A$ is the reflection matrix for the ${\\bf u}_0,{\\bf u}_1$-plane."
   ]
  },
  {
   "cell_type": "code",
   "execution_count": null,
   "metadata": {
    "scrolled": false
   },
   "outputs": [],
   "source": [
    " Q = np.array([[1,1,1],\n",
    "               [-1,1,1],\n",
    "               [0,-2,1]])\n",
    "    \n",
    "Q = Q / np.sqrt((Q**2).sum(axis=0))\n",
    "\n",
    "D = np.array([[1,0,0],[0,1,0],[0,0,-1]])\n",
    "\n",
    "A = Q.dot(D).dot(Q.T)\n",
    "\n",
    "np.set_printoptions(precision=1, suppress=True)\n",
    "print('A=', A)\n",
    "\n",
    "#u_0 = A.dot(Q[:,0])\n",
    "#u_1 = A.dot(Q[:,1])\n",
    "#u_2 = A.dot(Q[:,2])\n",
    "#print(u_0, u_1, u_2)\n",
    "#print(Q)"
   ]
  },
  {
   "cell_type": "markdown",
   "metadata": {},
   "source": [
    "###### 4(c)\n",
    "Let $\\theta = \\frac{\\pi}{2}$.  \n",
    "Find a matrix $A$ such that  \n",
    "$A{\\bf u}_0 = \\cos(\\theta){\\bf u}_0 + \\sin(\\theta){\\bf u}_1$  \n",
    "$A{\\bf u}_1 = -\\sin(\\theta){\\bf u}_0 + \\cos(\\theta){\\bf u}_1$  \n",
    "$A{\\bf u}_2 = {\\bf u}_2$.  \n",
    "Thus, $A$ is the rotation matrix from the direction of ${\\bf u}_0$ to the direction of ${\\bf u}_1$."
   ]
  },
  {
   "cell_type": "code",
   "execution_count": null,
   "metadata": {
    "scrolled": false
   },
   "outputs": [],
   "source": [
    "Q = np.array([[1,1,1],\n",
    "               [-1,1,1],\n",
    "               [0,-2,1]])\n",
    "Q = Q / np.sqrt((Q**2).sum(axis=0))\n",
    "\n",
    "D = np.array([[0,-1,0],\n",
    "              [1,0,0],\n",
    "              [0,0,1]])\n",
    "\n",
    "A = Q.dot(D).dot(Q.T)\n",
    "\n",
    "print('A=',A)\n",
    "np.set_printoptions(precision=8, suppress=True)"
   ]
  },
  {
   "cell_type": "markdown",
   "metadata": {},
   "source": [
    "###### 4(d)\n",
    "Find a matrix $A$ such that  \n",
    "$A{\\bf u}_0 = 2{\\bf u}_0$  \n",
    "$A{\\bf u}_1 = 3{\\bf u}_1$  \n",
    "$A{\\bf u}_2 = 4{\\bf u}_2$.   "
   ]
  },
  {
   "cell_type": "code",
   "execution_count": null,
   "metadata": {
    "scrolled": false
   },
   "outputs": [],
   "source": [
    "Q = np.array([[1,1,1],\n",
    "               [-1,1,1],\n",
    "               [0,-2,1]])\n",
    "Q = Q / np.sqrt((Q**2).sum(axis=0))\n",
    "\n",
    "D = np.diag([2,3,4])\n",
    "\n",
    "A = Q.dot(D).dot(Q.T)\n",
    "\n",
    "print('A=',A)\n",
    "np.set_printoptions(precision=1, suppress=True)\n",
    "\n",
    "#u_0 = A.dot(Q[:,0])/2\n",
    "#u_1 = A.dot(Q[:,1])/3\n",
    "#u_2 = A.dot(Q[:,2])/4\n",
    "#print(u_0, u_1, u_2)\n",
    "#print(Q)"
   ]
  },
  {
   "cell_type": "markdown",
   "metadata": {},
   "source": [
    "##### Exercise 5\n",
    "Let  \n",
    "```python\n",
    "t = np.linspace(0, 2*np.pi, 36)\n",
    "vs = np.zeros((3,46))\n",
    "vs[0,:36] = 3 * np.cos(t)\n",
    "vs[1,:36] = np.sin(t)\n",
    "vs[2,36:] = np.linspace(0,2,10)\n",
    "c = np.hstack([t, -np.ones((10,))])\n",
    "\n",
    "Q = np.array([[1,1,1],\n",
    "              [-1,1,1],\n",
    "              [0,-2,1]])\n",
    "Q = Q / np.sqrt((Q**2).sum(axis=0))\n",
    "new_vs = Q.dot(vs)\n",
    "```"
   ]
  },
  {
   "cell_type": "markdown",
   "metadata": {},
   "source": [
    "###### 5(a)\n",
    "Plot the points (columns) of `new_vs` using the color `c` ."
   ]
  },
  {
   "cell_type": "code",
   "execution_count": null,
   "metadata": {
    "scrolled": false
   },
   "outputs": [],
   "source": [
    "t = np.linspace(0, 2*np.pi, 36)\n",
    "vs = np.zeros((3,46))\n",
    "vs[0,:36] = 3 * np.cos(t)\n",
    "vs[1,:36] = np.sin(t)\n",
    "vs[2,36:] = np.linspace(0,2,10)\n",
    "c = np.hstack([t, -np.ones((10,))])\n",
    "\n",
    "Q = np.array([[1,1,1],\n",
    "              [-1,1,1],\n",
    "              [0,-2,1]])\n",
    "Q = Q / np.sqrt((Q**2).sum(axis=0))\n",
    "new_vs = Q.dot(vs)\n",
    "np.set_printoptions(precision=1, suppress=True)\n",
    "%matplotlib notebook\n",
    "ax = plt.axes(projection=\"3d\")# 製作3d圖\n",
    "ax.scatter(new_vs[0,:36], new_vs[1,:36], new_vs[2,:36], c=t)# 繪製3D座標點及顏色\n",
    "plt.show()"
   ]
  },
  {
   "cell_type": "markdown",
   "metadata": {},
   "source": [
    "###### 5(b)\n",
    "Let `A` be the matrix you found in 4(a).  \n",
    "Let `moved_vs = A.dot(new_vs)` .  \n",
    "Plot the points (columns) of `moved_vs` using the color `c` ."
   ]
  },
  {
   "cell_type": "code",
   "execution_count": null,
   "metadata": {
    "scrolled": false
   },
   "outputs": [],
   "source": [
    "t = np.linspace(0, 2*np.pi, 36)\n",
    "vs = np.zeros((3,46))\n",
    "vs[0,:36] = 3 * np.cos(t)\n",
    "vs[1,:36] = np.sin(t)\n",
    "vs[2,36:] = np.linspace(0,2,10)\n",
    "c = np.hstack([t, -np.ones((10,))])\n",
    "\n",
    "Q = np.array([[1,1,1],\n",
    "              [-1,1,1],\n",
    "              [0,-2,1]])\n",
    "Q = Q / np.sqrt((Q**2).sum(axis=0))\n",
    "new_vs = Q.dot(vs)\n",
    "np.set_printoptions(precision=1, suppress=True)\n",
    "A = np.array([[ 0.7, -0.3, -0.3],\n",
    "              [-0.3,  0.7, -0.3],\n",
    "              [-0.3, -0.3,  0.7]])\n",
    "moved_vs = A.dot(new_vs)\n",
    "%matplotlib notebook\n",
    "ax = plt.axes(projection=\"3d\")# 製作3d圖\n",
    "ax.scatter(moved_vs[0,:36], moved_vs[1,:36], moved_vs[2,:36], c=t)# 繪製3D座標點及顏色\n",
    "plt.show()"
   ]
  },
  {
   "cell_type": "markdown",
   "metadata": {},
   "source": [
    "###### 5(c)\n",
    "Let `A` be the matrix you found in 4(b).  \n",
    "Let `moved_vs = A.dot(new_vs)` .  \n",
    "Plot the points (columns) of `moved_vs` using the color `c` ."
   ]
  },
  {
   "cell_type": "code",
   "execution_count": null,
   "metadata": {
    "scrolled": false
   },
   "outputs": [],
   "source": [
    "t = np.linspace(0, 2*np.pi, 36)\n",
    "vs = np.zeros((3,46))\n",
    "vs[0,:36] = 3 * np.cos(t)\n",
    "vs[1,:36] = np.sin(t)\n",
    "vs[2,36:] = np.linspace(0,2,10)\n",
    "c = np.hstack([t, -np.ones((10,))])\n",
    "\n",
    "Q = np.array([[1,1,1],\n",
    "              [-1,1,1],\n",
    "              [0,-2,1]])\n",
    "Q = Q / np.sqrt((Q**2).sum(axis=0))\n",
    "new_vs = Q.dot(vs)\n",
    "np.set_printoptions(precision=1, suppress=True)\n",
    "A = np.array([[ 0.3, -0.7, -0.7],\n",
    "              [-0.7,  0.3, -0.7],\n",
    "              [-0.7, -0.7,  0.3]])\n",
    "moved_vs = A.dot(new_vs)\n",
    "%matplotlib notebook\n",
    "ax = plt.axes(projection=\"3d\")# 製作3d圖\n",
    "ax.scatter(moved_vs[0,:36], moved_vs[1,:36], moved_vs[2,:36], c=t)# 繪製3D座標點及顏色\n",
    "plt.show()"
   ]
  },
  {
   "cell_type": "markdown",
   "metadata": {},
   "source": [
    "###### 5(d)\n",
    "Let `A` be the matrix you found in 4(c).  \n",
    "Let `moved_vs = A.dot(new_vs)` .  \n",
    "Plot the points (columns) of `moved_vs` using the color `c` ."
   ]
  },
  {
   "cell_type": "code",
   "execution_count": null,
   "metadata": {
    "scrolled": false
   },
   "outputs": [],
   "source": [
    "t = np.linspace(0, 2*np.pi, 36)\n",
    "vs = np.zeros((3,46))\n",
    "vs[0,:36] = 3 * np.cos(t)\n",
    "vs[1,:36] = np.sin(t)\n",
    "vs[2,36:] = np.linspace(0,2,10)\n",
    "c = np.hstack([t, -np.ones((10,))])\n",
    "\n",
    "Q = np.array([[1,1,1],\n",
    "              [-1,1,1],\n",
    "              [0,-2,1]])\n",
    "Q = Q / np.sqrt((Q**2).sum(axis=0))\n",
    "new_vs = Q.dot(vs)\n",
    "np.set_printoptions(precision=1, suppress=True)\n",
    "A = np.array([[ 0.3, -0.2,  0.9],\n",
    "              [ 0.9,  0.3, -0.2],\n",
    "              [-0.2,  0.9,  0.3]])\n",
    "moved_vs = A.dot(new_vs)\n",
    "%matplotlib notebook\n",
    "ax = plt.axes(projection=\"3d\")# 製作3d圖\n",
    "ax.scatter(moved_vs[0,:36], moved_vs[1,:36], moved_vs[2,:36], c=t)# 繪製3D座標點及顏色\n",
    "plt.show()"
   ]
  },
  {
   "cell_type": "markdown",
   "metadata": {},
   "source": [
    "###### 5(e)\n",
    "Let `A` be the matrix you found in 4(d).  \n",
    "Let `moved_vs = A.dot(new_vs)` .  \n",
    "Plot the points (columns) of `moved_vs` using the color `c` ."
   ]
  },
  {
   "cell_type": "code",
   "execution_count": null,
   "metadata": {
    "scrolled": false
   },
   "outputs": [],
   "source": [
    "t = np.linspace(0, 2*np.pi, 36)\n",
    "vs = np.zeros((3,46))\n",
    "vs[0,:36] = 3 * np.cos(t)\n",
    "vs[1,:36] = np.sin(t)\n",
    "vs[2,36:] = np.linspace(0,2,10)\n",
    "c = np.hstack([t, -np.ones((10,))])\n",
    "\n",
    "Q = np.array([[1,1,1],\n",
    "              [-1,1,1],\n",
    "              [0,-2,1]])\n",
    "Q = Q / np.sqrt((Q**2).sum(axis=0))\n",
    "new_vs = Q.dot(vs)\n",
    "np.set_printoptions(precision=1, suppress=True)\n",
    "A = np.array([[ 2.8,  0.8,  0.3],\n",
    "              [ 0.8,  2.8,  0.3],\n",
    "              [ 0.3,  0.3,  3.3]])\n",
    "moved_vs = A.dot(new_vs)\n",
    "%matplotlib notebook\n",
    "ax = plt.axes(projection=\"3d\")# 製作3d圖\n",
    "ax.scatter(moved_vs[0,:36], moved_vs[1,:36], moved_vs[2,:36], c=t)# 繪製3D座標點及顏色\n",
    "plt.show()"
   ]
  },
  {
   "cell_type": "markdown",
   "metadata": {},
   "source": [
    "##### Exercise 6\n",
    "In general, if $\\beta$ is a basis and $Q$ is the matrix whose columns are vectors in $\\beta$, then  \n",
    "$$Q[{\\bf v}]_\\beta = {\\bf v}\\text{ and }Q^{-1}{\\bf v} = [{\\bf v}]_\\beta.$$\n",
    "\n",
    "Therefore, the relations between $A$ and its representation with respect to the basis $\\beta$ are \n",
    "$$A = QDQ^{-1}\\text{ and }D = Q^{-1} AQ.$$\n",
    "\n",
    "Let  \n",
    "```python\n",
    "Q = np.array([[2,1],\n",
    "              [1,2]])\n",
    "```\n",
    "and $\\beta = \\{{\\bf u}_0,{\\bf u}_1\\}$ the columns of $Q$."
   ]
  },
  {
   "cell_type": "markdown",
   "metadata": {},
   "source": [
    "###### 6(a)\n",
    "Find a matrix $A$ such that  \n",
    "$A{\\bf u}_0 = 3{\\bf u}_0$  \n",
    "$A{\\bf u}_1 = {\\bf u}_1$."
   ]
  },
  {
   "cell_type": "code",
   "execution_count": null,
   "metadata": {
    "scrolled": false
   },
   "outputs": [],
   "source": [
    "v = np.array([\n",
    "    [3, 0],\n",
    "    [0, 1]\n",
    "])\n",
    "\n",
    "Q = np.array([[2,1],\n",
    "              [1,2]])\n",
    "\n",
    "Qinv = np.linalg.inv(Q)\n",
    "\n",
    "A = Q.dot(v).dot(Qinv)\n",
    "\n",
    "A"
   ]
  },
  {
   "cell_type": "markdown",
   "metadata": {},
   "source": [
    "###### 6(b)\n",
    "Let  \n",
    "```python\n",
    "t = np.linspace(0, 2*np.pi, 36)\n",
    "xs = np.cos(t)\n",
    "ys = np.sin(t)\n",
    "vs = np.vstack([xs,ys])\n",
    "Avs = A.dot(vs)\n",
    "```\n",
    "Draw the points (volumns) in `vs` .  \n",
    "Draw the points (volumns) in `Avs` ."
   ]
  },
  {
   "cell_type": "code",
   "execution_count": null,
   "metadata": {
    "scrolled": false
   },
   "outputs": [],
   "source": [
    "t = np.linspace(0, 2*np.pi, 36)\n",
    "xs = np.cos(t)\n",
    "ys = np.sin(t)\n",
    "vs = np.vstack([xs,ys])\n",
    "Avs = A.dot(vs)\n",
    "\n",
    "%matplotlib inline\n",
    "plt.scatter(xs, ys, c=t)\n",
    "plt.scatter(Avs[0], Avs[1], c=t)"
   ]
  },
  {
   "cell_type": "code",
   "execution_count": null,
   "metadata": {
    "scrolled": false
   },
   "outputs": [],
   "source": []
  }
 ],
 "metadata": {
  "kernelspec": {
   "display_name": "Python 3 (ipykernel)",
   "language": "python",
   "name": "python3"
  },
  "language_info": {
   "codemirror_mode": {
    "name": "ipython",
    "version": 3
   },
   "file_extension": ".py",
   "mimetype": "text/x-python",
   "name": "python",
   "nbconvert_exporter": "python",
   "pygments_lexer": "ipython3",
   "version": "3.10.2"
  }
 },
 "nbformat": 4,
 "nbformat_minor": 4
}
