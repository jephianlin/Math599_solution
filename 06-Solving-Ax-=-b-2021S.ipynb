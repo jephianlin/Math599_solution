{
 "cells": [
  {
   "cell_type": "markdown",
   "metadata": {},
   "source": [
    "# Solving Ax = b"
   ]
  },
  {
   "cell_type": "markdown",
   "metadata": {},
   "source": [
    "![Creative Commons License](https://i.creativecommons.org/l/by/4.0/88x31.png)  \n",
    "This work by Jephian Lin is licensed under a [Creative Commons Attribution 4.0 International License](http://creativecommons.org/licenses/by/4.0/)."
   ]
  },
  {
   "cell_type": "code",
   "execution_count": null,
   "metadata": {},
   "outputs": [],
   "source": [
    "import numpy as np\n",
    "import matplotlib.pyplot as plt\n",
    "from mpl_toolkits import mplot3d\n",
    "import sympy"
   ]
  },
  {
   "cell_type": "markdown",
   "metadata": {},
   "source": [
    "## Main idea"
   ]
  },
  {
   "cell_type": "markdown",
   "metadata": {},
   "source": [
    "Let $A$ be an $m\\times n$ matrix.  The solution set of $A{\\bf x} = {\\bf b}$ is the intersection of the affine planes $\\langle {\\bf r}_i, {\\bf x}\\rangle = b_i$ for all $i=1,\\ldots,m$, where ${\\bf r}_i$ is the $i$-th row of $A$ and $b_i$ is the $i$-th entry of ${\\bf b}$.  \n",
    "Therefore, the solution set of $A$ is an affine space (shifted space).\n",
    "\n",
    "The solutions set of $A{\\bf x} = {\\bf b}$ is of the form:\n",
    "\n",
    "    general solutions = particular solution + homogeneous solutions\n",
    "    (a shifted space)      (a vector)              (a space)\n",
    "   \n",
    "Here \"general solution\" stands for all solutions of $A{\\bf x} = {\\bf b}$,  \n",
    "\"particular solution\" stands for one arbitrary solution of $A{\\bf x} = {\\bf b}$, and  \n",
    "\"homogeneous solutions\" stands for all solutions of $A{\\bf x} = {\\bf 0}$.\n",
    "\n",
    "Every matrix lead to its **reduced echelon form** after some **row operations**.  If $\\left[\\begin{array}{cc}R | {\\bf r}\\end{array}\\right]$ is the reduced echelon form of $\\left[\\begin{array}{cc}A | {\\bf b}\\end{array}\\right]$, then $A{\\bf x} = {\\bf b} = R{\\bf x} = {\\bf r}$."
   ]
  },
  {
   "cell_type": "markdown",
   "metadata": {},
   "source": [
    "## Side stories"
   ]
  },
  {
   "cell_type": "markdown",
   "metadata": {},
   "source": [
    "- $A{\\bf x} = {\\bf b} \\iff {\\bf b}\\in\\operatorname{Col}(A)$\n",
    "- matrix inverse"
   ]
  },
  {
   "cell_type": "markdown",
   "metadata": {},
   "source": [
    "## Experiments"
   ]
  },
  {
   "cell_type": "markdown",
   "metadata": {},
   "source": [
    "###### Exercise 1\n",
    "This exercise helps you to visualize the affine space $A{\\bf x} = {\\bf b}$.  \n",
    "Let  \n",
    "```python\n",
    "A = np.array([[1,1,1], \n",
    "              [1,1,1]])\n",
    "b = np.array([5,5])\n",
    "```"
   ]
  },
  {
   "cell_type": "markdown",
   "metadata": {},
   "source": [
    "###### 1(a)\n",
    "Use the techniques you learned in Lesson 2 to draw some random solutions of $A{\\bf x} = {\\bf b}$.  \n",
    "What is the nullity of $A$?  What is the \"dimension\" of the affine space?  \n",
    "Hint:  \n",
    "```python\n",
    "xs = 5*np.random.randn(3,10000)\n",
    "mask = (np.abs(b[:,np.newaxis] - A.dot(xs)) < 0.1).all(axis = 0)\n",
    "```"
   ]
  },
  {
   "cell_type": "code",
   "execution_count": null,
   "metadata": {},
   "outputs": [],
   "source": [
    "### your answer here\n",
    "A = np.array([[1,1,1], \n",
    "              [1,1,1]])\n",
    "b = np.array([5,5])\n",
    "\n",
    "np.random.seed(1)\n",
    "xs = 5*np.random.randn(3,10000)\n",
    "mask = (np.abs(b[:,np.newaxis] - A.dot(xs)) < 0.1).all(axis = 0)\n",
    "\n",
    "%matplotlib notebook\n",
    "ax = plt.axes(projection='3d')\n",
    "ax.set_xlim(-5,5)\n",
    "ax.set_ylim(-5,5)\n",
    "ax.set_zlim(-5,5)\n",
    "ax.scatter(*xs[:,mask])"
   ]
  },
  {
   "cell_type": "markdown",
   "metadata": {},
   "source": [
    "###### 1(b)\n",
    "It is known that  \n",
    "```python\n",
    "p = np.array([5,0,0])\n",
    "```\n",
    "is a particular solution of $A{\\bf x} = {\\bf b}$.  \n",
    "Add a vector of `p` upon your previous drawing."
   ]
  },
  {
   "cell_type": "code",
   "execution_count": null,
   "metadata": {},
   "outputs": [],
   "source": [
    "### your answer here\n",
    "p = np.array([5,0,0])\n",
    "\n",
    "%matplotlib notebook\n",
    "ax = plt.axes(projection='3d')\n",
    "ax.set_xlim(-5,5)\n",
    "ax.set_ylim(-5,5)\n",
    "ax.set_zlim(-5,5)\n",
    "ax.scatter(*xs[:,mask])\n",
    "ax.scatter(*p)\n",
    "ax.quiver(0,0,0,*p, color = 'red')"
   ]
  },
  {
   "cell_type": "markdown",
   "metadata": {},
   "source": [
    "###### 1(c)\n",
    "Do the same for  \n",
    "```python\n",
    "b = np.array([5,6])\n",
    "```\n",
    "How many solutions are there?"
   ]
  },
  {
   "cell_type": "code",
   "execution_count": null,
   "metadata": {},
   "outputs": [],
   "source": [
    "### your answer here\n",
    "b = np.array([5,6])\n",
    "\n",
    "mask = (np.abs(b[:,np.newaxis] - A.dot(xs)) < 0.1).all(axis = 0)\n",
    "ax = plt.axes(projection='3d')\n",
    "ax.set_xlim(-5,5)\n",
    "ax.set_ylim(-5,5)\n",
    "ax.set_zlim(-5,5)\n",
    "ax.scatter(*xs[:, mask])\n",
    "print(sum(mask))\n",
    "print('There is no solution here.')"
   ]
  },
  {
   "cell_type": "markdown",
   "metadata": {},
   "source": [
    "###### Exercise 2\n",
    "This exercise helps you to visualize the affine space $A{\\bf x} = {\\bf b}$.  \n",
    "Let  \n",
    "```python\n",
    "A = np.array([[1,1,1], \n",
    "              [1,1,1]])\n",
    "b = np.array([5,5])\n",
    "```"
   ]
  },
  {
   "cell_type": "markdown",
   "metadata": {},
   "source": [
    "###### 2(a)\n",
    "Draw the grid using the columns of $A$ and draw a vector for $b$.  \n",
    "Is $b$ in the column space of $A$?"
   ]
  },
  {
   "cell_type": "code",
   "execution_count": null,
   "metadata": {},
   "outputs": [],
   "source": [
    "### your answer here\n",
    "A = np.array([[1,1,1], \n",
    "              [1,1,1]])\n",
    "b = np.array([5,5])\n",
    "\n",
    "grid = np.meshgrid(np.arange(5), np.arange(5), np.arange(5))\n",
    "xs = grid[0].ravel()\n",
    "ys = grid[1].ravel()\n",
    "zs = grid[2].ravel()\n",
    "\n",
    "vs = np.vstack([xs,ys,zs]) ### 3 x 25\n",
    "Avs = A.dot(vs) ### 2 x 3 products 3 x 25\n",
    "\n",
    "plt.figure('Draw')\n",
    "plt.axis('equal')\n",
    "plt.scatter(Avs[0], Avs[1])\n",
    "plt.scatter(*b)"
   ]
  },
  {
   "cell_type": "markdown",
   "metadata": {},
   "source": [
    "##### Jephian:\n",
    "When it fall back to 2-dimensional drawing,  \n",
    "I would usually put `%matplolib inline` .  \n",
    "I would use an arrow to draw the vector ${\\bf b}$,  \n",
    "but this is only my personal preference.\n",
    "\n",
    "Also, so the answer is yes;  \n",
    "${\\bf b}$ falls on the column space of $A$."
   ]
  },
  {
   "cell_type": "markdown",
   "metadata": {},
   "source": [
    "###### 2(b)\n",
    "Do the same for \n",
    "```python\n",
    "b = np.array([5,6])\n",
    "```\n",
    "Is $b$ in the column space of $A$?"
   ]
  },
  {
   "cell_type": "code",
   "execution_count": null,
   "metadata": {},
   "outputs": [],
   "source": [
    "### your answer here\n",
    "b = np.array([5,6])\n",
    "plt.axis('equal')\n",
    "plt.scatter(*Avs)\n",
    "plt.scatter(*b)"
   ]
  },
  {
   "cell_type": "markdown",
   "metadata": {},
   "source": [
    "##### Jephian:\n",
    "So ${\\bf b}$ does not fall on the column space of $A$."
   ]
  },
  {
   "cell_type": "markdown",
   "metadata": {},
   "source": [
    "#### Remark  \n",
    "Whether a particular solution exists depends only on whether ${\\bf b}$ is in the column space of $A$ or not.  \n",
    "We say a equation $A{\\bf x} = {\\bf b}$ is **consistent** if it has at least a particular solution.  \n",
    "\n",
    "Whether the homogeneous solutions contains only the trivial solution ${\\bf 0}$ depends only on $A$.  \n",
    "\n",
    "This table summarize the number of solutions of $A{\\bf x} = {\\bf b}$.\n",
    "\n",
    " hom \\ par | consistent | inconsistent \n",
    " --------- | ---------- | ------------ \n",
    " trivial | one | none \n",
    " nontrivial | infinite | none\n"
   ]
  },
  {
   "cell_type": "markdown",
   "metadata": {},
   "source": [
    "## Exercises"
   ]
  },
  {
   "cell_type": "markdown",
   "metadata": {},
   "source": [
    "##### Exercise 3\n",
    "Let  \n",
    "```python\n",
    "A = sympy.Matrix([[1,1], \n",
    "                  [-1,0],\n",
    "                  [0,-1]])\n",
    "b = sympy.Matrix([3,-2,-1])\n",
    "Ab = A.col_insert(2,b)\n",
    "```"
   ]
  },
  {
   "cell_type": "markdown",
   "metadata": {},
   "source": [
    "###### 3(a)\n",
    "Calculate the reduced echelon form of `Ab` .  \n",
    "Can you tell if  `b` is in the column space of `A` ?"
   ]
  },
  {
   "cell_type": "code",
   "execution_count": null,
   "metadata": {},
   "outputs": [],
   "source": [
    "### your answer here\n",
    "A = sympy.Matrix([[1,1], \n",
    "                  [-1,0],\n",
    "                  [0,-1]])\n",
    "b = sympy.Matrix([3,-2,-1])\n",
    "Ab = A.col_insert(2,b)\n",
    "\n",
    "Ab.rref()[0]\n",
    "print('Yes, b is in the column space of A')"
   ]
  },
  {
   "cell_type": "markdown",
   "metadata": {},
   "source": [
    "##### Jephian:\n",
    "The answer is yes because  \n",
    "by the reduced echelon form of `Ab`  \n",
    "the equation $A{\\bf x} = {\\bf b}$ has a solution."
   ]
  },
  {
   "cell_type": "markdown",
   "metadata": {},
   "source": [
    "###### 3(b)\n",
    "Let  \n",
    "```python\n",
    "b = sympy.Matrix([1,2,3])\n",
    "```\n",
    "and update `Ab` .  \n",
    "Can you tell if `b` is in the column space of `A` ?"
   ]
  },
  {
   "cell_type": "code",
   "execution_count": null,
   "metadata": {},
   "outputs": [],
   "source": [
    "### your answer here\n",
    "b = sympy.Matrix([1,2,3])\n",
    "\n",
    "Ab = A.col_insert(2,b)\n",
    "Ab.rref()[0]\n",
    "print('Yes, b is not in the column space of A, they are linear independent')"
   ]
  },
  {
   "cell_type": "markdown",
   "metadata": {},
   "source": [
    "##### Jephian:\n",
    "Similarly, the answer is now  \n",
    "since by the reduced echelon form of `Ab`  \n",
    "the equation $A{\\bf x} = {\\bf b}$ has no solution."
   ]
  },
  {
   "cell_type": "markdown",
   "metadata": {},
   "source": [
    "##### Exercise 4\n",
    "Let  \n",
    "```python\n",
    "A = sympy.Matrix([[1,1,1], \n",
    "                  [1,2,4], \n",
    "                  [1,3,9]])\n",
    "b1 = sympy.Matrix([1,0,0])\n",
    "```"
   ]
  },
  {
   "cell_type": "markdown",
   "metadata": {},
   "source": [
    "###### 4(a)\n",
    "If a matrix has no free variable, then the homogeneous solution is trivial.  \n",
    "Find the unique solution of $A{\\bf x} = {\\bf b}_1$."
   ]
  },
  {
   "cell_type": "code",
   "execution_count": null,
   "metadata": {},
   "outputs": [],
   "source": [
    "### your answer here\n",
    "A = sympy.Matrix([[1,1,1], \n",
    "                  [1,2,4], \n",
    "                  [1,3,9]])\n",
    "b1 = sympy.Matrix([1,0,0])\n",
    "\n",
    "Ab1 = A.col_insert(3, b1)\n",
    "x = Ab1.rref()[0][:,3]\n",
    "print(x)"
   ]
  },
  {
   "cell_type": "markdown",
   "metadata": {},
   "source": [
    "##### Jephian:\n",
    "Indeed, if $\\left[\\begin{array}{c|c}A & {\\bf b}\\end{array}\\right]$ has reduced echelon form $\\left[\\begin{array}{c|c}I & {\\bf r}\\end{array}\\right]$  \n",
    "then ${\\bf r}$ is the unique solution to $A{\\bf x} = {\\bf b}$."
   ]
  },
  {
   "cell_type": "markdown",
   "metadata": {},
   "source": [
    "###### 4(b)\n",
    "Let  \n",
    "```python\n",
    "b2 = sympy.Matrix([0,1,0])\n",
    "Ab = A.col_insert(3,b1)\n",
    "Abb = Ab.col_insert(4,b2)\n",
    "```\n",
    "Can you use `Abb` to solve the solutions of $A{\\bf x} = {\\bf b}_1$ and $A{\\bf x} = {\\bf b}_2$ at once?"
   ]
  },
  {
   "cell_type": "code",
   "execution_count": null,
   "metadata": {},
   "outputs": [],
   "source": [
    "### your answer here\n",
    "b2 = sympy.Matrix([0,1,0])\n",
    "Ab = A.col_insert(3,b1)\n",
    "Abb = Ab.col_insert(4,b2)\n",
    "\n",
    "b1b2 = Abb.rref()[0][:,3:]\n",
    "b1b2"
   ]
  },
  {
   "cell_type": "markdown",
   "metadata": {},
   "source": [
    "##### Jephian:\n",
    "Nice.  \n",
    "If $\\left[\\begin{array}{c|cc}A & {\\bf b}_1 & {\\bf b}_2 \\end{array}\\right]$ has reduced echelon form $\\left[\\begin{array}{c|cc}I & {\\bf r}_1 & {\\bf r}_2 \\end{array}\\right]$  \n",
    "then $A{\\bf r}_1 = {\\bf b}_1$ and $A{\\bf r}_2 = {\\bf b}_2$."
   ]
  },
  {
   "cell_type": "markdown",
   "metadata": {},
   "source": [
    "###### 4(c)\n",
    "Let  \n",
    "```python\n",
    "b3 = sympy.Matrix([0,0,1])\n",
    "```  \n",
    "Solve the solutions of $A{\\bf x} = {\\bf b}_1$,  $A{\\bf x} = {\\bf b}_2$, and $A{\\bf x} = {\\bf b}_3$ at once."
   ]
  },
  {
   "cell_type": "code",
   "execution_count": null,
   "metadata": {},
   "outputs": [],
   "source": [
    "### your answer here\n",
    "b3 = sympy.Matrix([0,0,1])\n",
    "\n",
    "Abbb = Abb.col_insert(5,b3)\n",
    "b1b2b3 = Abbb.rref()[0][:,3:]\n",
    "b1b2b3"
   ]
  },
  {
   "cell_type": "markdown",
   "metadata": {},
   "source": [
    "###### 4(d)\n",
    "Let  \n",
    "$$ B = \\begin{bmatrix} \n",
    " | & ~ & | \\\\\n",
    " {\\bf b}_1 & \\cdots & {\\bf b}_3 \\\\\n",
    " | & ~ & | \n",
    " \\end{bmatrix}.$$\n",
    " Find a matrix $X$ such that $AX = B$.  \n",
    " When $B$ is the identity matrix  \n",
    "$$ I_n = \\begin{bmatrix} \n",
    " 1 & ~ & ~ \\\\\n",
    " ~ & \\ddots & ~ \\\\\n",
    " ~ & ~ & 1 \n",
    " \\end{bmatrix},$$\n",
    " the matrix $X$ with $AX = I_n$ is called the **inverse** of $A$, denoted by $A^{-1}$."
   ]
  },
  {
   "cell_type": "code",
   "execution_count": null,
   "metadata": {},
   "outputs": [],
   "source": [
    "### your answer here\n",
    "X = b1b2b3\n",
    "print('X = ', X, '\\n&', 'AX = ', A*X)"
   ]
  },
  {
   "cell_type": "markdown",
   "metadata": {},
   "source": [
    "##### Jephian:\n",
    "Now you know if $\\left[\\begin{array}{c|c} A & I \\end{array}\\right]$ has reduced echelon form $\\left[\\begin{array}{c|c} I & B \\end{array}\\right]$  \n",
    "then $AB = BA = I$ and $B = A^{-1}$."
   ]
  },
  {
   "cell_type": "markdown",
   "metadata": {},
   "source": [
    "###### 4(e)\n",
    "Compare your answer in 4(d) with the output of `np.linalg.inv(A)` ."
   ]
  },
  {
   "cell_type": "code",
   "execution_count": null,
   "metadata": {},
   "outputs": [],
   "source": [
    "### your answer here\n",
    "A_0 = np.array([[1,1,1], \n",
    "                  [1,2,4], \n",
    "                  [1,3,9]])\n",
    "X_0 = np.linalg.inv(A_0)\n",
    "print('X  = ', X, '\\nX_0 = ', X_0)\n",
    "print('They are the same!')"
   ]
  },
  {
   "cell_type": "markdown",
   "metadata": {},
   "source": [
    "##### Exercise 5\n",
    "Let  \n",
    "```python\n",
    "A = sympy.Matrix([[1,3,3,18], \n",
    "                  [5,15,16,95], \n",
    "                   [-5,-15,-15,-90]])\n",
    "R,pvts = A.rref()\n",
    "```"
   ]
  },
  {
   "cell_type": "markdown",
   "metadata": {},
   "source": [
    "###### 5(a)\n",
    "Let $B$ be the matrix whose columns are the columns of $A$ the corresponding to leading variables.  \n",
    "Pick a column of $A$ corresponding a free variable.  \n",
    "Check that the column is in the column space of $B$.  \n",
    "(If yes, this means this column is redundant for generating the column space of $A$.)"
   ]
  },
  {
   "cell_type": "code",
   "execution_count": null,
   "metadata": {},
   "outputs": [],
   "source": [
    "### your answer here\n",
    "A = sympy.Matrix([[1,3,3,18], \n",
    "                  [5,15,16,95], \n",
    "                   [-5,-15,-15,-90]])\n",
    "R,pvts = A.rref()\n",
    "print(pvts)\n",
    "\n",
    "AF = A[:, [1,3]] # a column of  𝐴  corresponding a free variable.\n",
    "B = A[:,pvts]\n",
    "BjAF = B.col_insert(2, AF)\n",
    "print(BjAF)\n",
    "print(BjAF.rref())\n",
    "print('AF[0] could be represented by 3*B[0] &\\nAF[1] could be represented by 3*B[0] + 5*B[1]')"
   ]
  },
  {
   "cell_type": "markdown",
   "metadata": {},
   "source": [
    "###### 5(b)\n",
    "Check if $B$ itself has any redundant column."
   ]
  },
  {
   "cell_type": "code",
   "execution_count": null,
   "metadata": {},
   "outputs": [],
   "source": [
    "### your answer here\n",
    "print(B.rref())\n",
    "print('No, they are all linearly independent!')"
   ]
  },
  {
   "cell_type": "markdown",
   "metadata": {},
   "source": [
    "#### Remark\n",
    "Let $S = \\{{\\bf u}_1, \\ldots, {\\bf u}_n\\}$ be a collection of vectors and $A$ the matrix whose columns are $S$.  \n",
    "We say $S$ is **linearly independent** if one of the following equivalent condition holds:\n",
    "- $c_1{\\bf u}_1 + \\cdots + c_n{\\bf u}_n = {\\bf 0}$ only have trivial solution $c_1 = \\cdots = c_n = 0$.\n",
    "- $A{\\bf x} = {\\bf 0}$ only have trivial solution ${\\bf x} = 0$.\n",
    "- $A$ has no free variable.\n",
    "\n",
    "Moreover, if a space $V$ is equal to $\\operatorname{span}(S)$ and $S$ is linearly independent, then we say $S$ is a **basis** of the the space $V$."
   ]
  },
  {
   "cell_type": "markdown",
   "metadata": {},
   "source": [
    "##### Exercise 6\n",
    "Let  \n",
    "```python\n",
    "A = sympy.Matrix([[1,1,1], \n",
    "                  [-1,0,0],\n",
    "                  [0,-1,0],\n",
    "                  [0,0,-1]])\n",
    "```\n",
    "Check if the columns of $A$ form a linearly independent set."
   ]
  },
  {
   "cell_type": "code",
   "execution_count": null,
   "metadata": {},
   "outputs": [],
   "source": [
    "### your answer here\n",
    "A = sympy.Matrix([[1,1,1], \n",
    "                  [-1,0,0],\n",
    "                  [0,-1,0],\n",
    "                  [0,0,-1]])\n",
    "\n",
    "A.rref()[0] # A.nullspace() # A.columnspace()\n",
    "print('Yes, they are linear independent with reduced row echelon form which could find that their column vectoers are clearly indepedent.')"
   ]
  },
  {
   "cell_type": "markdown",
   "metadata": {},
   "source": [
    "##### Jephian:\n",
    "To be more precise,  \n",
    "the columns of $A$ form a linearly independent set  \n",
    "since the reduced echelon form has no free variable."
   ]
  },
  {
   "cell_type": "markdown",
   "metadata": {},
   "source": [
    "##### Exercise 7\n",
    "```python\n",
    "A = sympy.Matrix([[1,3,3,18], \n",
    "                  [5,15,16,95], \n",
    "                  [-5,-15,-15,-90]])\n",
    "R,pvts = A.rref()\n",
    "```\n",
    "Check what is `A.nullspace()`, `A.rowspace()`, and `A.columnspace()` and think about their meaning.  "
   ]
  },
  {
   "cell_type": "code",
   "execution_count": null,
   "metadata": {},
   "outputs": [],
   "source": [
    "### your answer here\n",
    "A = sympy.Matrix([[1,3,3,18], \n",
    "                  [5,15,16,95], \n",
    "                  [-5,-15,-15,-90]])\n",
    "R,pvts = A.rref()\n",
    "\n",
    "A.nullspace()\n",
    "A.rowspace()\n",
    "A.columnspace()\n",
    "\n",
    "vn1,vn2 = A.nullspace()\n",
    "A*(vn1+vn2)\n",
    "print('vn1, vn2 are the basis of null space of A')\n",
    "\n",
    "vr1,vr2 = A.rowspace()\n",
    "vr1,vr2\n",
    "print('Similarly, vr1, vr2 are the basis of row space of A')\n",
    "\n",
    "vc1,vc2 = A.columnspace()\n",
    "vc1,vc2\n",
    "print('Similarly, vc1, vc2 are the basis of column space of A')"
   ]
  },
  {
   "cell_type": "markdown",
   "metadata": {},
   "source": [
    "#### Remark\n",
    "Since it is impossible to output a space, the three commands in Exercise 7 in fact outputs the basis of the space only, which is enough.\n",
    "\n",
    "**Nullspace**: its basis consists of ${\\bf h}$'s in the previous lesson.  \n",
    "**Rowspace**: its basis consists of the rows of $R$ corresponding to the pivots.  \n",
    "**Columnspace**: its basis consists of the columns of $A$ corresponding to the pivots."
   ]
  }
 ],
 "metadata": {
  "kernelspec": {
   "display_name": "Python 3",
   "language": "python",
   "name": "python3"
  },
  "language_info": {
   "codemirror_mode": {
    "name": "ipython",
    "version": 3
   },
   "file_extension": ".py",
   "mimetype": "text/x-python",
   "name": "python",
   "nbconvert_exporter": "python",
   "pygments_lexer": "ipython3",
   "version": "3.9.2"
  }
 },
 "nbformat": 4,
 "nbformat_minor": 4
}
