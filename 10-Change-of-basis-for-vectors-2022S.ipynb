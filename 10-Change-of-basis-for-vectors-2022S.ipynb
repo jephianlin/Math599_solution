{
 "cells": [
  {
   "cell_type": "markdown",
   "metadata": {
    "id": "Vzq2uSHoaoft"
   },
   "source": [
    "# Change of basis for vectors"
   ]
  },
  {
   "cell_type": "markdown",
   "metadata": {
    "id": "fGSGkGVVaogD"
   },
   "source": [
    "![Creative Commons License](https://i.creativecommons.org/l/by/4.0/88x31.png)  \n",
    "This work by Jephian Lin is licensed under a [Creative Commons Attribution 4.0 International License](http://creativecommons.org/licenses/by/4.0/)."
   ]
  },
  {
   "cell_type": "code",
   "execution_count": null,
   "metadata": {
    "id": "LWkcZk7haogG"
   },
   "outputs": [],
   "source": [
    "import numpy as np\n",
    "import matplotlib.pyplot as plt\n",
    "from mpl_toolkits import mplot3d\n",
    "from PIL import Image"
   ]
  },
  {
   "cell_type": "markdown",
   "metadata": {
    "id": "hak5wZaIaogM"
   },
   "source": [
    "## Main idea"
   ]
  },
  {
   "cell_type": "markdown",
   "metadata": {
    "id": "Xsm2AVH6aogN"
   },
   "source": [
    "Suppose $\\beta = \\{{\\bf u}_1, \\ldots, {\\bf u}_n\\}$ is an orthonormal basis of $\\mathbb{R}^n$.  \n",
    "Then every vector ${\\bf v}\\in\\mathbb{R}^n$ can be written as  \n",
    "\n",
    "$${\\bf v} = c_1{\\bf u}_1 + \\cdots + c_n{\\bf u}_n,$$  \n",
    "where $c_i = \\langle {\\bf v}, {\\bf u}_i \\rangle$.  \n",
    "We call  \n",
    "$$[{\\bf v}]_\\beta = \\begin{bmatrix} c_1 \\\\ \\vdots \\\\ c_n \\end{bmatrix}$$\n",
    "the **representation** of ${\\bf v}$ with respect to the basis $\\beta$.  "
   ]
  },
  {
   "cell_type": "markdown",
   "metadata": {
    "id": "i1MNdeNoaogQ"
   },
   "source": [
    "Let $${\\bf c} = [{\\bf v}]_\\beta \\text{ and }  \n",
    "Q = \\begin{bmatrix}\n",
    " | & ~ & | \\\\\n",
    " {\\bf u}_1 & \\cdots & {\\bf u}_n \\\\\n",
    " | & ~ & | \\\\\n",
    "\\end{bmatrix}.$$  \n",
    "Then $Q^\\top {\\bf v} = {\\bf c}$ and $Q{\\bf c} = {\\bf v}$."
   ]
  },
  {
   "cell_type": "markdown",
   "metadata": {
    "id": "-gprD8CzaogS"
   },
   "source": [
    "## Side stories"
   ]
  },
  {
   "cell_type": "markdown",
   "metadata": {
    "id": "mT1_kxjKaogV"
   },
   "source": [
    "- new basis = new coordinates\n",
    "- change of basis (general basis)"
   ]
  },
  {
   "cell_type": "markdown",
   "metadata": {
    "id": "8FmXbyYCaogY"
   },
   "source": [
    "## Experiments"
   ]
  },
  {
   "cell_type": "markdown",
   "metadata": {
    "id": "o4t5kTwuaogb"
   },
   "source": [
    "###### Exercise 1\n",
    "This exercise asks you to draw a new coordinates $\\mathbb{R}^2$ by the following steps.  \n",
    "Let  \n",
    "```python\n",
    "u0 = np.array([1,1])  / np.sqrt(2)\n",
    "u1 = np.array([-1,1]) / np.sqrt(2)\n",
    "```\n",
    "and $\\beta = \\{{\\bf u}_0, {\\bf u}_1\\}$."
   ]
  },
  {
   "cell_type": "markdown",
   "metadata": {
    "id": "6ZNwjy9daogd"
   },
   "source": [
    "###### 1(a)\n",
    "Draw the grid using ${\\bf u}_0$ and ${\\bf u}_1$.  \n",
    "Draw a red vector for $3{\\bf u}_0$.  \n",
    "Draw a blue vector for $3{\\bf u}_1$.  "
   ]
  },
  {
   "cell_type": "code",
   "execution_count": null,
   "metadata": {
    "colab": {
     "base_uri": "https://localhost:8080/",
     "height": 317
    },
    "executionInfo": {
     "elapsed": 567,
     "status": "ok",
     "timestamp": 1647934484308,
     "user": {
      "displayName": "Lifang Lu",
      "photoUrl": "https://lh3.googleusercontent.com/a-/AOh14GhPLLG90nK8JtFUJoPACOzOwsh-V8vM9oc1DTUpBg=s64",
      "userId": "06542904879365216248"
     },
     "user_tz": -480
    },
    "id": "J39QKXwKaogf",
    "outputId": "8eae2101-fb8a-4738-dfe8-7680911fbf74"
   },
   "outputs": [],
   "source": [
    "### your answer here\n",
    "import numpy as np\n",
    "import matplotlib.pyplot as plt\n",
    "from mpl_toolkits import mplot3d\n",
    "from PIL import Image\n",
    "\n",
    "### your answer here\n",
    "u0 = np.array([1,1])  / np.sqrt(2)\n",
    "u1 = np.array([-1,1]) / np.sqrt(2)\n",
    "\n",
    "### Draw the grid of u0, u1\n",
    "Q = np.vstack([u0, u1]).T\n",
    "grid = np.meshgrid(np.arange(10), np.arange(6))\n",
    "xs, ys = grid[0].ravel(), grid[1].ravel()\n",
    "vs = np.vstack([xs, ys])\n",
    "Qvs = Q.dot(vs)\n",
    "plt.axis('equal')\n",
    "plt.scatter(*Qvs)\n",
    "\n",
    "### Draw 3u0 in red\n",
    "plt.arrow(0, 0, *(3*u0), head_width=0.3, width=0.05, color='red')\n",
    "### Draw 3u1 in blue\n",
    "plt.arrow(0, 0, *(3*u1), head_width=0.3, width=0.05, color='blue')\n"
   ]
  },
  {
   "cell_type": "markdown",
   "metadata": {
    "id": "HFXF6Wxgaogh"
   },
   "source": [
    "###### 1(b)\n",
    "Draw a green vector for  \n",
    "```python\n",
    "v = np.array([1,3]) / np.sqrt(2)\n",
    "```\n",
    "According to the graph, can you tell what is $[{\\bf v}]_\\beta$?"
   ]
  },
  {
   "cell_type": "code",
   "execution_count": null,
   "metadata": {
    "colab": {
     "base_uri": "https://localhost:8080/",
     "height": 317
    },
    "executionInfo": {
     "elapsed": 39,
     "status": "ok",
     "timestamp": 1647934791512,
     "user": {
      "displayName": "Lifang Lu",
      "photoUrl": "https://lh3.googleusercontent.com/a-/AOh14GhPLLG90nK8JtFUJoPACOzOwsh-V8vM9oc1DTUpBg=s64",
      "userId": "06542904879365216248"
     },
     "user_tz": -480
    },
    "id": "4u6OLKL4aogj",
    "outputId": "406da96f-639a-4354-d72b-98bacd0481ab"
   },
   "outputs": [],
   "source": [
    "### your answer here\n",
    "v = np.array([1,3]) / np.sqrt(2)\n",
    "\n",
    "### Draw the grid of u0, u1\n",
    "Q = np.vstack([u0, u1]).T\n",
    "grid = np.meshgrid(np.arange(5), np.arange(5))\n",
    "xs, ys = grid[0].ravel(), grid[1].ravel()\n",
    "vs = np.vstack([xs, ys])\n",
    "Qvs = Q.dot(vs)\n",
    "plt.axis('equal')\n",
    "plt.scatter(*Qvs)\n",
    "\n",
    "print(vs)\n",
    "\n",
    "### Draw v in green\n",
    "plt.arrow(0, 0, *(v), head_width=0.3, width=0.05, color='green')\n",
    "#[𝐯]𝛽  = (2,1).T"
   ]
  },
  {
   "cell_type": "markdown",
   "metadata": {
    "id": "6h_FAO-1aogl"
   },
   "source": [
    "###### 1(c)\n",
    "Find $[{\\bf v}]_\\beta$ by matrix multiplication."
   ]
  },
  {
   "cell_type": "code",
   "execution_count": null,
   "metadata": {
    "colab": {
     "base_uri": "https://localhost:8080/"
    },
    "executionInfo": {
     "elapsed": 569,
     "status": "ok",
     "timestamp": 1646481700577,
     "user": {
      "displayName": "Lifang Lu",
      "photoUrl": "https://lh3.googleusercontent.com/a-/AOh14GhPLLG90nK8JtFUJoPACOzOwsh-V8vM9oc1DTUpBg=s64",
      "userId": "06542904879365216248"
     },
     "user_tz": -480
    },
    "id": "CvgfeFRYaogm",
    "outputId": "3ccab3dd-677c-4220-b2f6-f729a2d7133f"
   },
   "outputs": [],
   "source": [
    "### your answer here\n",
    "np.linalg.inv(Q).dot(v)"
   ]
  },
  {
   "cell_type": "markdown",
   "metadata": {
    "id": "dedicjN_aogn"
   },
   "source": [
    "###### 1(d)\n",
    "Draw a vector for  \n",
    "```python\n",
    "w = np.array([2,-1])\n",
    "```\n",
    "and find $[{\\bf w}]_\\beta$."
   ]
  },
  {
   "cell_type": "code",
   "execution_count": null,
   "metadata": {
    "colab": {
     "base_uri": "https://localhost:8080/",
     "height": 282
    },
    "executionInfo": {
     "elapsed": 722,
     "status": "ok",
     "timestamp": 1647935266077,
     "user": {
      "displayName": "Lifang Lu",
      "photoUrl": "https://lh3.googleusercontent.com/a-/AOh14GhPLLG90nK8JtFUJoPACOzOwsh-V8vM9oc1DTUpBg=s64",
      "userId": "06542904879365216248"
     },
     "user_tz": -480
    },
    "id": "T1bMtJ0m9VR0",
    "outputId": "d18dc4e1-c595-4842-ba07-f8e8eec328bb"
   },
   "outputs": [],
   "source": [
    "### your answer here\n",
    "w = np.array([2,-1])\n",
    "\n",
    "### Draw the grid of u0, u1\n",
    "u0 = np.array([1,1])  / np.sqrt(2)\n",
    "u1 = np.array([-1,1]) / np.sqrt(2)\n",
    "Q = np.vstack([u0, u1]).T\n",
    "grid = np.meshgrid(np.arange(5), np.arange(-5,2))\n",
    "xs, ys = grid[0].ravel(), grid[1].ravel()\n",
    "vs = np.vstack([xs, ys])\n",
    "Qvs = Q.dot(vs)\n",
    "plt.axis('equal')\n",
    "plt.scatter(*Qvs)\n",
    "\n",
    "### Draw v in green\n",
    "plt.arrow(0, 0, *(w), head_width=0.3, width=0.05)\n",
    "np.linalg.inv(Q).dot(w)"
   ]
  },
  {
   "cell_type": "markdown",
   "metadata": {
    "id": "vQdJOHp8aogo"
   },
   "source": [
    "###### Exercise 2\n",
    "Let  \n",
    "```python\n",
    "theta = np.pi / 4\n",
    "Q = np.array([[np.cos(theta), -np.sin(theta)],\n",
    "              [np.sin(theta), np.cos(theta)]])\n",
    "mu = np.array([0,0])\n",
    "cov = np.array([[4.1,2],\n",
    "                [2,1.1]])\n",
    "vs = np.random.multivariate_normal(mu, cov, (100,))\n",
    "```\n",
    "Plot the data points (rows) of `vs` .  \n",
    "Draw the coordinates using the columns of $Q$.  \n",
    "Try and find an appropriate `theta` such that the data looks simple on the coordinates."
   ]
  },
  {
   "cell_type": "code",
   "execution_count": null,
   "metadata": {
    "colab": {
     "base_uri": "https://localhost:8080/",
     "height": 282
    },
    "executionInfo": {
     "elapsed": 750,
     "status": "ok",
     "timestamp": 1647940562840,
     "user": {
      "displayName": "Lifang Lu",
      "photoUrl": "https://lh3.googleusercontent.com/a-/AOh14GhPLLG90nK8JtFUJoPACOzOwsh-V8vM9oc1DTUpBg=s64",
      "userId": "06542904879365216248"
     },
     "user_tz": -480
    },
    "id": "3VNU-h5faogq",
    "outputId": "50d9738f-0acd-4eaf-ca19-16de58d717a3"
   },
   "outputs": [],
   "source": [
    "### your answer here\n",
    "### set the number\n",
    "theta = 1.3*np.pi / 8\n",
    "Q = np.array([[np.cos(theta), -np.sin(theta)],\n",
    "        [np.sin(theta), np.cos(theta)]])\n",
    "mu = np.array([0,0])\n",
    "cov = np.array([[4.1,2], [2,1.1]])\n",
    "vs = np.random.multivariate_normal(mu, cov, (100,))\n",
    "\n",
    "### Draw the grid \n",
    "grid = np.meshgrid(np.arange(-3,4),np.arange(-3,4))\n",
    "xs = grid[0].ravel()\n",
    "ys = grid[1].ravel()\n",
    "coords = np.vstack([xs,ys])\n",
    "new_coords = Q.dot(coords)\n",
    "\n",
    "plt.axis('equal')\n",
    "plt.scatter(*new_coords)\n",
    "plt.scatter(*vs.T)"
   ]
  },
  {
   "cell_type": "markdown",
   "metadata": {
    "id": "vKDSwlbQaogr"
   },
   "source": [
    "## Exercises"
   ]
  },
  {
   "cell_type": "markdown",
   "metadata": {
    "id": "2DqcM6aDaogs"
   },
   "source": [
    "###### Exercise 3\n",
    "Let  \n",
    "```python\n",
    "x = np.linspace(0, np.pi, 20)\n",
    "y = x**2 * np.sin(x)\n",
    "z = np.zeros_like(x)\n",
    "\n",
    "Q = np.array([[1,1,1],\n",
    "              [-1,1,1],\n",
    "              [0,-2,1]])\n",
    "Q = Q / np.sqrt((Q**2).sum(axis=0))\n",
    "```\n",
    "Use the columns of $Q$ as the coordinates to plot `x`, `y`, `z` ."
   ]
  },
  {
   "cell_type": "code",
   "execution_count": null,
   "metadata": {
    "colab": {
     "base_uri": "https://localhost:8080/",
     "height": 233
    },
    "executionInfo": {
     "elapsed": 23,
     "status": "error",
     "timestamp": 1647948092658,
     "user": {
      "displayName": "Lifang Lu",
      "photoUrl": "https://lh3.googleusercontent.com/a-/AOh14GhPLLG90nK8JtFUJoPACOzOwsh-V8vM9oc1DTUpBg=s64",
      "userId": "06542904879365216248"
     },
     "user_tz": -480
    },
    "id": "BP9nxSt1aogu",
    "outputId": "0e49228f-f6e7-460c-b8a4-c962741883c3"
   },
   "outputs": [],
   "source": [
    "### your answer here\n",
    "### set the number\n",
    "x = np.linspace(0, np.pi, 20)\n",
    "y = x**2 * np.sin(x)\n",
    "z = np.zeros_like(x)\n",
    "pts = np.array([x,y,z])\n",
    "Q = np.array([[1,1,1],\n",
    "        [-1,1,1],\n",
    "        [0,-2,1]])\n",
    "Q = Q / np.sqrt((Q**2).sum(axis=0))  ##單位向量\n",
    "\n",
    "grid = np.meshgrid(np.arange(3), np.arange(3), np.arange(3))\n",
    "xs, ys, zs = grid[0].ravel(), grid[1].ravel(), grid[2].ravel()\n",
    "vs = np.vstack([xs, ys, zs])\n",
    "\n",
    "ptss = Q.dot(vs)\n",
    "\n",
    "%matplotlib notebook\n",
    "ax = plt.axes(projection='3d')\n",
    "ax.scatter(*ptss)\n",
    "ax.scatter(*pts)\n",
    "\n"
   ]
  },
  {
   "cell_type": "markdown",
   "metadata": {},
   "source": [
    "##### Jephian\n",
    "\n",
    "The intention of the problem is asking you to do:  \n",
    "\n",
    "```python\n",
    "Qpts = Q.dot(pts)\n",
    "ax.scatter(*Qpts)\n",
    "```"
   ]
  },
  {
   "cell_type": "markdown",
   "metadata": {
    "id": "D9vABlv8aogv"
   },
   "source": [
    "###### Exercise 4\n",
    "This exercise is similar to Exercise 1 but the basis is no more orthonormal.\n",
    "Let  \n",
    "```python\n",
    "u0 = np.array([2,1])\n",
    "u1 = np.array([1,2])\n",
    "```\n",
    "and $\\beta = \\{{\\bf u}_0, {\\bf u}_1\\}$."
   ]
  },
  {
   "cell_type": "markdown",
   "metadata": {
    "id": "jVFBwtoYaogx"
   },
   "source": [
    "###### 4(a)\n",
    "Draw the grid using ${\\bf u}_0$ and ${\\bf u}_1$.  \n",
    "Draw a red vector for $3{\\bf u}_0$.  \n",
    "Draw a blue vector for $3{\\bf u}_1$.  "
   ]
  },
  {
   "cell_type": "code",
   "execution_count": null,
   "metadata": {
    "id": "xqSsySKraogz"
   },
   "outputs": [],
   "source": [
    "### your answer here\n",
    "u0 = np.array([2,1])\n",
    "u1 = np.array([1,2])\n",
    "grid=np.meshgrid(np.arange(5),np.arange(5))\n",
    "xs=grid[0].ravel()\n",
    "ys=grid[1].ravel()\n",
    "vs=np.vstack([xs,ys])\n",
    "Q=np.vstack([u0,u1]).T\n",
    "c=Q.dot(vs)\n",
    "plt.axis('equal')\n",
    "plt.scatter(*c)\n",
    "\n",
    "# plt 3u0\n",
    "a=plt.arrow(0,0,*(3*u0),head_width=0.2,color='r')\n",
    "\n",
    "# plt 3u1\n",
    "b=plt.arrow(0,0,*(3*u1),head_width=0.2,color='b')\n",
    "plt.legend((a, b), ('3u0', '3u1')) \n"
   ]
  },
  {
   "cell_type": "markdown",
   "metadata": {
    "id": "sK5NyBAYaog0"
   },
   "source": [
    "###### 4(b)\n",
    "Draw a green vector for  \n",
    "```python\n",
    "v = np.array([7,5])\n",
    "```\n",
    "According to the graph, can you tell what is $[{\\bf v}]_\\beta$?"
   ]
  },
  {
   "cell_type": "code",
   "execution_count": null,
   "metadata": {
    "id": "PVkrV_MAaog0"
   },
   "outputs": [],
   "source": [
    "### your answer here\n",
    "v = np.array([7,5])\n",
    "\n",
    "plt.axis('equal')\n",
    "plt.scatter(*c)\n",
    "\n",
    "#plt v\n",
    "d=plt.arrow(0,0,*(v),head_width=0.2,color='g')\n",
    "\n",
    "a=plt.arrow(0,0,*(u0),head_width=0.2,color='r')\n",
    "b=plt.arrow(0,0,*(u1),head_width=0.2,color='b')\n",
    "plt.axis('equal')\n",
    "plt.legend((a, b, d), ('u0', 'u1','v')) \n",
    "## vb = [3,1]"
   ]
  },
  {
   "cell_type": "markdown",
   "metadata": {
    "id": "sttSZdEeaog2"
   },
   "source": [
    "###### 4(c)\n",
    "Suppose your previous answer is $[{\\bf v}]_\\beta = (c_0, c_1)^\\top$.  \n",
    "Let $Q$ be the matrix whose columns are vectors in $\\beta$.  \n",
    "Then $Q[{\\bf v}]_\\beta = c_0{\\bf u}_0 + c_1{\\bf u}_1 = {\\bf v}$.  \n",
    "Plot $Q[{\\bf v}]_\\beta$ and double check if your answer is correct.  "
   ]
  },
  {
   "cell_type": "code",
   "execution_count": null,
   "metadata": {
    "id": "T3X0O0uAaog3"
   },
   "outputs": [],
   "source": [
    "### your answer here\n",
    "u0 = np.array([2,1])\n",
    "u1 = np.array([1,2])\n",
    "grid=np.meshgrid(np.arange(5),np.arange(5))\n",
    "xs=grid[0].ravel()\n",
    "ys=grid[1].ravel()\n",
    "vs=np.vstack([xs,ys])\n",
    "Q=np.vstack([u0,u1]).T\n",
    "c=Q.dot(vs)\n",
    "\n",
    "vb = np.array([3,1])\n",
    "Qvb = Q.dot(vb)\n",
    "plt.axis('equal')\n",
    "plt.scatter(*c)\n",
    "plt.arrow(0,0,*Qvb, head_width=0.3, color='green')\n",
    "\n",
    "np.isclose(Qvb,v)"
   ]
  },
  {
   "cell_type": "markdown",
   "metadata": {
    "id": "KRJ2fL5Aaog4"
   },
   "source": [
    "###### 4(d)\n",
    "If $\\beta$ is orthogonal, then $Q^{-1} =  Q^\\top$ and $Q^\\top{\\bf v} = Q^{-1}{\\bf v} = [{\\bf v}]_\\beta$, but not it is not the case.  \n",
    "However, the formula $Q^{-1}{\\bf v} = [{\\bf v}]_\\beta$ is still valid.  \n",
    "Use this formula to find $[{\\bf v}]_\\beta$ and compare your answer with 4(b)."
   ]
  },
  {
   "cell_type": "code",
   "execution_count": null,
   "metadata": {
    "id": "9ayPmRSuaog5"
   },
   "outputs": [],
   "source": [
    "### your answer here\n",
    "u0 = np.array([2,1])\n",
    "u1 = np.array([1,2])\n",
    "grid=np.meshgrid(np.arange(5),np.arange(5))\n",
    "xs=grid[0].ravel()\n",
    "ys=grid[1].ravel()\n",
    "vs=np.vstack([xs,ys])\n",
    "Q=np.vstack([u0,u1])\n",
    "\n",
    "v = np.array([7,5])\n",
    "\n",
    "vb=np.linalg.inv(Q).dot(v)\n",
    "print(vb)\n",
    "np.isclose(vb,[3,1])"
   ]
  },
  {
   "cell_type": "markdown",
   "metadata": {
    "id": "l9Vq3V-Taog6"
   },
   "source": [
    "###### 4(e)\n",
    "Draw a vector for  \n",
    "```python\n",
    "w = np.array([2,-1])\n",
    "```\n",
    "and find $[{\\bf w}]_\\beta$."
   ]
  },
  {
   "cell_type": "code",
   "execution_count": null,
   "metadata": {
    "id": "ra7-nDkraog7"
   },
   "outputs": [],
   "source": [
    "### your answer here\n",
    "\n",
    "w = np.array([2,-1])\n",
    "grid=np.meshgrid(np.arange(-2,3),np.arange(-2,3))\n",
    "xs=grid[0].ravel()\n",
    "ys=grid[1].ravel()\n",
    "vs=np.vstack([xs,ys])\n",
    "Q=np.vstack([u0,u1]).T\n",
    "c=Q.dot(vs)\n",
    "\n",
    "plt.axis('equal')\n",
    "plt.scatter(*c)\n",
    "d=plt.arrow(0,0,*w, head_width=0.3, color='green')\n",
    "a=plt.arrow(0,0,*(u0),head_width=0.2,color='r')\n",
    "b=plt.arrow(0,0,*(u1),head_width=0.2,color='b')\n",
    "plt.legend((a, b, d), ('u0', 'u1','w')) \n",
    "\n",
    "#calculate wb\n",
    "wb=np.linalg.inv(Q).dot(w)\n",
    "print(wb)"
   ]
  },
  {
   "cell_type": "markdown",
   "metadata": {
    "id": "dDFo9wSYaog7"
   },
   "source": [
    "##### Exercise 5\n",
    "This exercise ask you to put an image on the plane using the given coordinates.  \n",
    "Let  \n",
    "```python\n",
    "img = Image.open('incrediville-side.jpg')\n",
    "\n",
    "width,height = 200,150\n",
    "img = img.resize((width,height)).convert('L')\n",
    "arr = np.array(img)\n",
    "```"
   ]
  },
  {
   "cell_type": "markdown",
   "metadata": {
    "id": "PLstb_hNaog8"
   },
   "source": [
    "###### 5(a)\n",
    "Let  \n",
    "```python\n",
    "unit = 0.1  \n",
    "xx,yy = np.meshgrid(unit*np.arange(width), unit*np.arange(height)) \n",
    "xx = xx.ravel()\n",
    "yy = -yy.ravel()\n",
    "```\n",
    "Make a scatter plot of `xx` and `yy` using the colors `arr.ravel()` .  \n",
    "Hint:  You need to set `cmap='Greys_r` to make it looks good."
   ]
  },
  {
   "cell_type": "code",
   "execution_count": null,
   "metadata": {
    "id": "L81H1i7haog9"
   },
   "outputs": [],
   "source": [
    "### your answer here\n",
    "img = Image.open('incrediville-side.jpg')\n",
    "\n",
    "width,height = 200,150\n",
    "img = img.resize((width,height)).convert('L')\n",
    "arr = np.array(img)\n",
    "\n",
    "unit = 0.1  \n",
    "xx,yy = np.meshgrid(unit*np.arange(width), unit*np.arange(height)) \n",
    "xx = xx.ravel()\n",
    "yy = -yy.ravel()\n",
    "\n",
    "plt.scatter(xx,yy,c=arr.ravel(),cmap='Greys_r')"
   ]
  },
  {
   "cell_type": "markdown",
   "metadata": {
    "id": "pw7LzOwjaog_"
   },
   "source": [
    "###### 5(b)\n",
    "Let  \n",
    "```python\n",
    "Q = np.array([[1,1],\n",
    "              [-1,1],\n",
    "              [0,-2]])\n",
    "Q = Q / np.sqrt((Q**2).sum(axis=0))\n",
    "vs = np.vstack([xx,yy])\n",
    "new_vs = Q.dot(vs)\n",
    "```\n",
    "Make a scatter plot of points (columns) of `new_vs` using the same color setting."
   ]
  },
  {
   "cell_type": "code",
   "execution_count": null,
   "metadata": {
    "id": "Bb9jipWuaohA"
   },
   "outputs": [],
   "source": [
    "### your answer here\n",
    "Q = np.array([[1,1],\n",
    "              [-1,1],\n",
    "              [0,-2]])\n",
    "Q = Q / np.sqrt((Q**2).sum(axis=0))\n",
    "vs = np.vstack([xx,yy])\n",
    "new_vs = Q.dot(vs)\n",
    "\n",
    "%matplotlib notebook\n",
    "ax = plt.axes(projection='3d')\n",
    "ax.set_xlim(-5,5)\n",
    "ax.set_ylim(-5,5)\n",
    "ax.set_zlim(-5,5)\n",
    "ax.scatter(*new_vs, c=arr.ravel(),cmap='Greys_r')"
   ]
  },
  {
   "cell_type": "code",
   "execution_count": null,
   "metadata": {},
   "outputs": [],
   "source": []
  }
 ],
 "metadata": {
  "colab": {
   "name": "10-Change-of-basis-for-vectors.ipynb",
   "provenance": []
  },
  "kernelspec": {
   "display_name": "Python 3 (ipykernel)",
   "language": "python",
   "name": "python3"
  },
  "language_info": {
   "codemirror_mode": {
    "name": "ipython",
    "version": 3
   },
   "file_extension": ".py",
   "mimetype": "text/x-python",
   "name": "python",
   "nbconvert_exporter": "python",
   "pygments_lexer": "ipython3",
   "version": "3.10.2"
  }
 },
 "nbformat": 4,
 "nbformat_minor": 1
}
