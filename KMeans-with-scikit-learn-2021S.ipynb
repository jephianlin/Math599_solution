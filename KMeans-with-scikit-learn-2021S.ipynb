{
 "cells": [
  {
   "cell_type": "markdown",
   "metadata": {},
   "source": [
    "# KMeans with scikit learn"
   ]
  },
  {
   "cell_type": "markdown",
   "metadata": {},
   "source": [
    "![Creative Commons License](https://i.creativecommons.org/l/by/4.0/88x31.png)  \n",
    "This work by Jephian Lin is licensed under a [Creative Commons Attribution 4.0 International License](http://creativecommons.org/licenses/by/4.0/)."
   ]
  },
  {
   "cell_type": "code",
   "execution_count": null,
   "metadata": {},
   "outputs": [],
   "source": [
    "import numpy as np\n",
    "import matplotlib.pyplot as plt"
   ]
  },
  {
   "cell_type": "markdown",
   "metadata": {},
   "source": [
    "## Code\n",
    "```python\n",
    "from sklearn.cluster import KMeans\n",
    "model = KMeans(<parameters>)\n",
    "y_new = model.fit_predict(X)\n",
    "```\n",
    "\n",
    "[Official Reference](https://scikit-learn.org/stable/modules/generated/sklearn.cluster.KMeans.html)"
   ]
  },
  {
   "cell_type": "markdown",
   "metadata": {},
   "source": [
    "## Parameters\n",
    "- `n_clusters`: number of clusters\n",
    "- `init`: `\"k-means++\"`, `\"random\"`, or an array of shape `(n_clusters, n_features)`\n",
    "- `n_init`: the function will run the $k$-means algorithm `n_init` times to get a best performance"
   ]
  },
  {
   "cell_type": "markdown",
   "metadata": {},
   "source": [
    "## Attributes\n",
    "- `cluster_centers_`: an array of shape `(n_clusters, n_features)` whose rows are the cluster centers\n",
    "- `labels_`: labels of each point, the predict of the original data\n",
    "- `inertia_`: $\\sum_{i,j} \\|{\\bf x}_i - \\mu_j\\|^2$ where the summation runs through all pairs $(i,j)$ such that ${\\bf x}_i$ is in the $j$-th cluster with center $\\mu_j$."
   ]
  },
  {
   "cell_type": "markdown",
   "metadata": {},
   "source": [
    "## Sample data"
   ]
  },
  {
   "cell_type": "markdown",
   "metadata": {},
   "source": [
    "##### Exercise 1\n",
    "Let  \n",
    "```python\n",
    "mu1 = np.array([2.5,0])\n",
    "cov1 = np.array([[1.1,-1],\n",
    "                [-1,1.1]])\n",
    "mu2 = np.array([-2.5,0])\n",
    "cov2 = np.array([[1.1,1],\n",
    "                [1,1.1]])\n",
    "X = np.vstack([np.random.multivariate_normal(mu1, cov1, 100), \n",
    "               np.random.multivariate_normal(mu2, cov2, 100)])\n",
    "```"
   ]
  },
  {
   "cell_type": "markdown",
   "metadata": {},
   "source": [
    "###### 1(a)\n",
    "Apply the $k$-means algorithm to `X` with $k=2$ and get the prediction `y_new` .  \n",
    "Plot the points (rows) in `X` with `c=y_new` .  \n",
    "Print `model.inertia_` ."
   ]
  },
  {
   "cell_type": "code",
   "execution_count": null,
   "metadata": {},
   "outputs": [],
   "source": [
    "### your answer here\n",
    "mu1 = np.array([2.5,0])\n",
    "cov1 = np.array([[1.1,-1],\n",
    "                [-1,1.1]])\n",
    "mu2 = np.array([-2.5,0])\n",
    "cov2 = np.array([[1.1,1],\n",
    "                [1,1.1]])\n",
    "X = np.vstack([np.random.multivariate_normal(mu1, cov1, 100), \n",
    "               np.random.multivariate_normal(mu2, cov2, 100)])\n",
    "\n",
    "from sklearn.cluster import KMeans\n",
    "model = KMeans(2)\n",
    "y_new = model.fit_predict(X)\n",
    "\n",
    "%matplotlib inline\n",
    "\n",
    "plt.axis('equal')\n",
    "plt.scatter(*X.T ,c = y_new)\n",
    "print(model.inertia_)"
   ]
  },
  {
   "cell_type": "markdown",
   "metadata": {},
   "source": [
    "###### 1(b)\n",
    "Apply the $k$-means algorithm to `X` with $k=3$ and get the prediction `y_new` .  \n",
    "Plot the points (rows) in `X` with `c=y_new` .  \n",
    "Print `model.inertia_` ."
   ]
  },
  {
   "cell_type": "code",
   "execution_count": null,
   "metadata": {},
   "outputs": [],
   "source": [
    "### your answer here\n",
    "from sklearn.cluster import KMeans\n",
    "model = KMeans(3)\n",
    "y_new = model.fit_predict(X)\n",
    "\n",
    "%matplotlib inline\n",
    "\n",
    "plt.axis('equal')\n",
    "plt.scatter(*X.T ,c = y_new)\n",
    "print(model.inertia_)"
   ]
  },
  {
   "cell_type": "markdown",
   "metadata": {},
   "source": [
    "###### 1(c)\n",
    "Run  \n",
    "```python\n",
    "ins = [KMeans(k).fit(X).inertia_ for k in range(1,6)]\n",
    "plt.plot(np.arange(1,6), ins)\n",
    "```\n",
    "What does it means?  \n",
    "What is a good guess of the number of clusters?"
   ]
  },
  {
   "cell_type": "code",
   "execution_count": null,
   "metadata": {},
   "outputs": [],
   "source": [
    "### your answer here\n",
    "ins = [KMeans(k).fit(X).inertia_ for k in range(1,6)]\n",
    "plt.plot(np.arange(1,6), ins)\n",
    "\n",
    "# It means the number of clusters and also the number of elements in each cluster.\n",
    "# If the number of clusters is 2, it will be good."
   ]
  },
  {
   "cell_type": "markdown",
   "metadata": {},
   "source": [
    "##### Exercise 2\n",
    "Let  \n",
    "```python\n",
    "from sklearn.datasets import load_iris\n",
    "iris = load_iris()\n",
    "X = iris.data\n",
    "y = iris.target\n",
    "```"
   ]
  },
  {
   "cell_type": "markdown",
   "metadata": {},
   "source": [
    "###### 2(a)\n",
    "Apply the $k$-means algorithm to `X` with $k=2$ and get the prediction `y_new` .  \n",
    "Plot the points (rows) in `X` with `c=y_new` .  \n",
    "(Each row is in $\\mathbb{R}^4$.  \n",
    "Just pick arbitrary two coordinates to plot the points.)  \n",
    "Print `model.inertia_` ."
   ]
  },
  {
   "cell_type": "code",
   "execution_count": null,
   "metadata": {},
   "outputs": [],
   "source": [
    "### your answer here\n",
    "from sklearn.datasets import load_iris\n",
    "iris = load_iris()\n",
    "X = iris.data\n",
    "y = iris.target\n",
    "\n",
    "from sklearn.cluster import KMeans\n",
    "model = KMeans(2)\n",
    "y_new = model.fit_predict(X)\n",
    "\n",
    "%matplotlib inline\n",
    "\n",
    "plt.axis('equal')\n",
    "plt.scatter(X[:,0].T, X[:,1].T, c= y_new)\n",
    "print(model.inertia_)"
   ]
  },
  {
   "cell_type": "markdown",
   "metadata": {},
   "source": [
    "###### 2(b)\n",
    "Apply the $k$-means algorithm to `X` with $k=3$ and get the prediction `y_new` .  \n",
    "Plot the points (rows) in `X` with `c=y_new` .  \n",
    "(Each row is in $\\mathbb{R}^4$.  \n",
    "Just pick arbitrary two coordinates to plot the points.)  \n",
    "Print `model.inertia_` ."
   ]
  },
  {
   "cell_type": "code",
   "execution_count": null,
   "metadata": {},
   "outputs": [],
   "source": [
    "### your answer here\n",
    "from sklearn.cluster import KMeans\n",
    "model = KMeans(3)\n",
    "y_new = model.fit_predict(X)\n",
    "\n",
    "%matplotlib inline\n",
    "\n",
    "plt.axis('equal')\n",
    "plt.scatter(X[:,0].T, X[:,1].T, c= y_new)\n",
    "print(model.inertia_)"
   ]
  },
  {
   "cell_type": "markdown",
   "metadata": {},
   "source": [
    "###### 2(c)\n",
    "Run  \n",
    "```python\n",
    "ins = [KMeans(k).fit(X).inertia_ for k in range(1,6)]\n",
    "plt.plot(np.arange(1,6), ins)\n",
    "```\n",
    "What does it means?  \n",
    "What is a good guess of the number of clusters?"
   ]
  },
  {
   "cell_type": "code",
   "execution_count": null,
   "metadata": {},
   "outputs": [],
   "source": [
    "### your answer here\n",
    "ins = [KMeans(k).fit(X).inertia_ for k in range(1,6)]\n",
    "plt.plot(np.arange(1,6), ins)\n",
    "\n",
    "# It means the number of clusters and also the number of elements in each cluster.\n",
    "# If the number of clusters is 2, it will be good."
   ]
  },
  {
   "cell_type": "markdown",
   "metadata": {},
   "source": [
    "##### Exercise 3\n",
    "Let  \n",
    "```python\n",
    "arr = plt.imread('incrediville-side.jpg')\n",
    "m,n,c = arr.shape\n",
    "X = arr.reshape(-1,3)\n",
    "```"
   ]
  },
  {
   "cell_type": "markdown",
   "metadata": {},
   "source": [
    "###### 3(a)\n",
    "Print `X.shape` .  \n",
    "What are the rows in `X` ."
   ]
  },
  {
   "cell_type": "code",
   "execution_count": null,
   "metadata": {},
   "outputs": [],
   "source": [
    "### your answer here\n",
    "arr = plt.imread('incrediville-side.jpg')\n",
    "m,n,c = arr.shape  \n",
    "X = arr.reshape(-1,3)\n",
    "\n",
    "print(m,n,c)\n",
    "print(X.shape)\n",
    "print(X[0])\n",
    "print(X[1])\n",
    "print(X[2])\n",
    "print(X[3])\n",
    "print(X[4])\n",
    "# The rows in X mean the combination of R,G,B"
   ]
  },
  {
   "cell_type": "markdown",
   "metadata": {},
   "source": [
    "###### 3(b)\n",
    "Apply the $k$-means algorighm to `X` and obtain `y_new` .  \n",
    "Let  \n",
    "```python\n",
    "img = (y_new == 0).reshape(m, n)\n",
    "plt.imshow(img, cmap='Greys')\n",
    "```\n",
    "Change `0` to `1` or `2` .  \n",
    "What do these pictures mean?  \n",
    "Is the black region always connected?"
   ]
  },
  {
   "cell_type": "code",
   "execution_count": null,
   "metadata": {},
   "outputs": [],
   "source": [
    "arr = plt.imread('incrediville-side.jpg')\n",
    "m,n,c = arr.shape\n",
    "X = arr.reshape(-1,3)\n",
    "from sklearn.cluster import KMeans\n",
    "model = KMeans(3)\n",
    "y_new = model.fit_predict(X)\n",
    "\n",
    "img = (y_new == 0).reshape(m, n)\n",
    "plt.imshow(img, cmap='Greys')"
   ]
  },
  {
   "cell_type": "code",
   "execution_count": null,
   "metadata": {},
   "outputs": [],
   "source": [
    "### your answer here\n",
    "img = (y_new == 1).reshape(m, n)\n",
    "plt.imshow(img, cmap='Greys')"
   ]
  },
  {
   "cell_type": "code",
   "execution_count": null,
   "metadata": {},
   "outputs": [],
   "source": [
    "img = (y_new == 2).reshape(m, n)\n",
    "plt.imshow(img, cmap='Greys')"
   ]
  },
  {
   "cell_type": "markdown",
   "metadata": {},
   "source": [
    "The black region is not always connected.\n",
    "\n",
    "0,1,2 : partition of the pixels"
   ]
  },
  {
   "cell_type": "markdown",
   "metadata": {},
   "source": [
    "## Experiments"
   ]
  },
  {
   "cell_type": "markdown",
   "metadata": {},
   "source": [
    "##### Exercise 4\n",
    "Let  \n",
    "```python\n",
    "mu1 = np.array([2.5,0])\n",
    "cov1 = np.array([[1.1,-1],\n",
    "                [-1,1.1]])\n",
    "mu2 = np.array([-2.5,0])\n",
    "cov2 = np.array([[1.1,1],\n",
    "                [1,1.1]])\n",
    "X = np.vstack([np.random.multivariate_normal(mu1, cov1, 100), \n",
    "               np.random.multivariate_normal(mu2, cov2, 100)])\n",
    "```"
   ]
  },
  {
   "cell_type": "markdown",
   "metadata": {},
   "source": [
    "###### 4(a)\n",
    "Apply the $k$-means algorithm to `X` and obtain the prediction `y_new` .  \n",
    "Plot the points (rows) in `X` with `c=y_new` .  \n",
    "Plot the points (rows) in `model.cluster_centers_` with `c='r'` ."
   ]
  },
  {
   "cell_type": "code",
   "execution_count": null,
   "metadata": {},
   "outputs": [],
   "source": [
    "### your answer here\n",
    "mu1 = np.array([2.5,0])\n",
    "cov1 = np.array([[1.1,-1],\n",
    "                [-1,1.1]])\n",
    "mu2 = np.array([-2.5,0])\n",
    "cov2 = np.array([[1.1,1],\n",
    "                [1,1.1]])\n",
    "X = np.vstack([np.random.multivariate_normal(mu1, cov1, 100), \n",
    "               np.random.multivariate_normal(mu2, cov2, 100)])\n",
    "from sklearn.cluster import KMeans\n",
    "model = KMeans(2)\n",
    "y_new = model.fit_predict(X)\n",
    "\n",
    "print(y_new)\n",
    "%matplotlib inline\n",
    "\n",
    "plt.axis('equal')\n",
    "plt.scatter(*X.T, c=y_new)\n",
    "plt.scatter(*model.cluster_centers_.T, c ='r')"
   ]
  },
  {
   "cell_type": "markdown",
   "metadata": {},
   "source": [
    "###### 4(b)\n",
    "Check if `y_new` and `model.labels_` are the same."
   ]
  },
  {
   "cell_type": "code",
   "execution_count": null,
   "metadata": {},
   "outputs": [],
   "source": [
    "### your answer here\n",
    "np.sum(y_new - model.labels_)"
   ]
  },
  {
   "cell_type": "markdown",
   "metadata": {},
   "source": [
    "They are the same."
   ]
  },
  {
   "cell_type": "markdown",
   "metadata": {},
   "source": [
    "###### 4(c)\n",
    "Compute the inertia and compare your answer with `model.inertia_` .  \n",
    "Recall that the inertia of a clustered data is  \n",
    "$$\\sum_{i,j} \\|{\\bf x}_i - \\mu_j\\|^2,$$ \n",
    "where the summation runs through all pairs $(i,j)$ such that ${\\bf x}_i$ is in the $j$-th cluster with center $\\mu_j$."
   ]
  },
  {
   "cell_type": "code",
   "execution_count": null,
   "metadata": {},
   "outputs": [],
   "source": [
    "### your answer here\n",
    "a = 0\n",
    "b = 0\n",
    "for i in range(X.shape[0]):\n",
    "    if y_new[i] == 0:\n",
    "        p = X[i,:] - model.cluster_centers_[0,:]\n",
    "        a += p.dot(p)\n",
    "    else:\n",
    "        q = X[i,:] - model.cluster_centers_[1,:]\n",
    "        b += q.dot(q)\n",
    "print(a+b)"
   ]
  },
  {
   "cell_type": "code",
   "execution_count": null,
   "metadata": {},
   "outputs": [],
   "source": [
    "model.inertia_"
   ]
  },
  {
   "cell_type": "markdown",
   "metadata": {},
   "source": [
    "##### Exercise 5\n",
    "Let  \n",
    "```python\n",
    "X = 5 * np.random.randn(1000,2)\n",
    "lengths = np.linalg.norm(X, axis=1)\n",
    "band1 = (lengths > 1) & (lengths <2)  \n",
    "band2 = (lengths > 3) & (lengths <4)  \n",
    "X = X[band1 | band2, :]\n",
    "```\n",
    "Apply the $k$-means algorithm to `X` with $k=2$  \n",
    "(or other $k$ if you wish)  \n",
    "and get the prediction `y_new` .  \n",
    "Plot the points (rows) in `X` with `c=y_new` .  \n",
    "Plot the cluster centers in red.  \n",
    "Is it a good clustering?  \n",
    "Why it is good?  Or why it does not work well?"
   ]
  },
  {
   "cell_type": "code",
   "execution_count": null,
   "metadata": {},
   "outputs": [],
   "source": [
    "### your answer here\n",
    "X = 5 * np.random.randn(1000,2)\n",
    "lengths = np.linalg.norm(X, axis=1)\n",
    "band1 = (lengths > 1) & (lengths <2)  \n",
    "band2 = (lengths > 3) & (lengths <4)  \n",
    "X = X[band1 | band2, :]\n",
    "\n",
    "from sklearn.cluster import KMeans\n",
    "model = KMeans(2)\n",
    "y_new = model.fit_predict(X)\n",
    "\n",
    "%matplotlib inline\n",
    "plt.axis('equal')\n",
    "plt.scatter(*X.T, c = y_new)\n",
    "plt.scatter(model.cluster_centers_[:,0].T,model.cluster_centers_[:,1].T,c = 'red')"
   ]
  },
  {
   "cell_type": "markdown",
   "metadata": {},
   "source": [
    "It is obvious that the graph is circles.\n",
    "It is good to seperate them into two clusters. \n",
    "\n",
    "One of them is band1 and the other is band2.\n",
    "If we do so, the center will be (0,0).\n",
    "\n",
    "But, the output is not the same as what we guess. \n",
    "\n",
    "Since KMeans needs the center is closed to its own cluster, (0,0) is far from the band2."
   ]
  },
  {
   "cell_type": "code",
   "execution_count": null,
   "metadata": {},
   "outputs": [],
   "source": []
  }
 ],
 "metadata": {
  "kernelspec": {
   "display_name": "Python 3",
   "language": "python",
   "name": "python3"
  },
  "language_info": {
   "codemirror_mode": {
    "name": "ipython",
    "version": 3
   },
   "file_extension": ".py",
   "mimetype": "text/x-python",
   "name": "python",
   "nbconvert_exporter": "python",
   "pygments_lexer": "ipython3",
   "version": "3.9.4"
  }
 },
 "nbformat": 4,
 "nbformat_minor": 4
}
