{
 "cells": [
  {
   "cell_type": "markdown",
   "metadata": {},
   "source": [
    "# PCA from scratch"
   ]
  },
  {
   "cell_type": "markdown",
   "metadata": {},
   "source": [
    "![Creative Commons License](https://i.creativecommons.org/l/by/4.0/88x31.png)  \n",
    "This work by Jephian Lin is licensed under a [Creative Commons Attribution 4.0 International License](http://creativecommons.org/licenses/by/4.0/)."
   ]
  },
  {
   "cell_type": "code",
   "execution_count": null,
   "metadata": {},
   "outputs": [],
   "source": [
    "import numpy as np\n",
    "import matplotlib.pyplot as plt"
   ]
  },
  {
   "cell_type": "markdown",
   "metadata": {},
   "source": [
    "## Algorithm\n",
    "**Input:**  \n",
    "- `X`: an array of shape `(N,d)` whose rows are samples and columns are features `## data`\n",
    "- `r`: target dimension \n",
    "\n",
    "**Output:**\n",
    "- an array of shape `(N, r)`  \n",
    "\n",
    "**Steps:**\n",
    "1. Shift $X$ so that the rows of $X$ are centered at the origin.  \n",
    "2. Let $C = \\frac{1}{N}X^\\top X$.  \n",
    "3. Suppose ${\\bf u}_1,\\ldots, {\\bf u}_d$ form an orthonormal eigenbasis of $C$ corresponding to the eigenvalues $\\lambda_1\\geq\\cdots\\geq\\lambda_d$.  Let $U$ be the matrix whose columns are ${\\bf u}_1,\\ldots, {\\bf u}_r$.  \n",
    "4. Return $XU$."
   ]
  },
  {
   "cell_type": "markdown",
   "metadata": {},
   "source": [
    "## Pseudocode\n",
    "Translate the algorithm into the pseudocode.  \n",
    "This helps you to identify the parts that you don't know how to do it.  "
   ]
  },
  {
   "cell_type": "markdown",
   "metadata": {},
   "source": [
    "    1. Shift X to make it centered at origin \n",
    "       mu = X.mean(axis=0)\n",
    "       X = X - mu\n",
    "       Or to write in one line \"X = X - X.mean(axis=0)\"\n",
    "    2. C = 1/N * X.T * X (covariance mtx)\n",
    "    3. Diagonalize --> vals,vecs (from large to small)\n",
    "       U = vecs[:,:r]\n",
    "    4. Return X.dot(U)"
   ]
  },
  {
   "cell_type": "markdown",
   "metadata": {},
   "source": [
    "## Code"
   ]
  },
  {
   "cell_type": "code",
   "execution_count": null,
   "metadata": {},
   "outputs": [],
   "source": [
    "def PCAincode(X,r): ## given data, target dim\n",
    "    X = X - X.mean(axis=0) ## make it centered at origin\n",
    "    N = X.shape[0] ## N components\n",
    "    C = (X.T.dot(X))/N # convariance mtx\n",
    "    vals,vecs = np.linalg.eigh(C)\n",
    "    vals = vals[::-1]\n",
    "    vecs = vecs[:,::-1] ## make it from large to small\n",
    "    U = vecs[:,:r]\n",
    "    return X.dot(U)"
   ]
  },
  {
   "cell_type": "markdown",
   "metadata": {},
   "source": [
    "## Test\n",
    "Take some sample data from [PCA-with-scikit-learn](PCA-with-scikit-learn.ipynb) and check if your code generates similar outputs with the existing packages."
   ]
  },
  {
   "cell_type": "markdown",
   "metadata": {},
   "source": [
    "##### ML1_Exercise 2\n",
    "Let  \n",
    "```python\n",
    "X = np.genfromtxt('hidden_text.csv', delimiter=',')\n",
    "```\n",
    "This data has all its points lie in a two-dimensional plane embedded in a much higher dimension.  "
   ]
  },
  {
   "cell_type": "code",
   "execution_count": null,
   "metadata": {},
   "outputs": [],
   "source": [
    "X = np.genfromtxt('hidden_text.csv', delimiter=',')"
   ]
  },
  {
   "cell_type": "code",
   "execution_count": null,
   "metadata": {},
   "outputs": [],
   "source": [
    "### results with your code\n",
    "%matplotlib inline\n",
    "plt.axis('equal')\n",
    "print(PCAincode(X,2).shape)\n",
    "plt.scatter(*PCAincode(X,2).T,color='blue')\n",
    "## may be upside down, because principal component may have 4 choice in 2-dim "
   ]
  },
  {
   "cell_type": "code",
   "execution_count": null,
   "metadata": {},
   "outputs": [],
   "source": [
    "## with scikit learn\n",
    "from sklearn.decomposition import PCA\n",
    "model = PCA(2)\n",
    "X_new = model.fit_transform(X)\n",
    "%matplotlib inline\n",
    "plt.axis('equal')\n",
    "plt.scatter(*X_new.T,color='blue')"
   ]
  },
  {
   "cell_type": "markdown",
   "metadata": {},
   "source": [
    "## Comparison"
   ]
  },
  {
   "cell_type": "markdown",
   "metadata": {},
   "source": [
    "##### Exercise 1\n",
    "The center of rows of $X$ (before shift) is supposed to be `model.mean_` .  \n",
    "Check if this is true."
   ]
  },
  {
   "cell_type": "code",
   "execution_count": null,
   "metadata": {},
   "outputs": [],
   "source": [
    "X = np.genfromtxt('hidden_text.csv', delimiter=',')\n",
    "\n",
    "from sklearn.decomposition import PCA\n",
    "model = PCA(2)\n",
    "X_new = model.fit_transform(X)"
   ]
  },
  {
   "cell_type": "code",
   "execution_count": null,
   "metadata": {},
   "outputs": [],
   "source": [
    "print((model.mean_==X.mean(axis=0)).all())\n",
    "## The center of rows of X (before shift) is supposed to be model.mean_."
   ]
  },
  {
   "cell_type": "markdown",
   "metadata": {},
   "source": [
    "##### Alex:\n",
    "It is better to use `np.isclose` instead of `==`."
   ]
  },
  {
   "cell_type": "markdown",
   "metadata": {},
   "source": [
    "##### Exercise 2\n",
    "The matrix $U^\\top$ is supposed to be `model.components_` .  \n",
    "(Up to some negations.)   \n",
    "Check if this is true."
   ]
  },
  {
   "cell_type": "code",
   "execution_count": null,
   "metadata": {},
   "outputs": [],
   "source": [
    "X = np.genfromtxt('hidden_text.csv', delimiter=',')\n",
    "\n",
    "r = 2\n",
    "X = X - X.mean(axis=0) ## make it centered at origin\n",
    "N = X.shape[0] ## N components\n",
    "C = (X.T.dot(X))/N # convariance mtx\n",
    "vals,vecs = np.linalg.eigh(C)\n",
    "vals = vals[::-1]\n",
    "vecs = vecs[:,::-1] ## make it from large to small\n",
    "U = vecs[:,:r]\n",
    "\n",
    "from sklearn.decomposition import PCA\n",
    "model = PCA(2)\n",
    "X_new = model.fit_transform(X)"
   ]
  },
  {
   "cell_type": "code",
   "execution_count": null,
   "metadata": {},
   "outputs": [],
   "source": [
    "for i in range(model.components_.shape[0]): ## 2*100\n",
    "    u , c = U.T[i] , model.components_[i]\n",
    "    if np.isclose(u,c).all() or np.isclose(u,-c).all(): ## may be upside down, like example above\n",
    "        print(True)"
   ]
  },
  {
   "cell_type": "markdown",
   "metadata": {},
   "source": [
    "##### Alex:\n",
    "You have to count the number of `True` in the output and check whether it is equal to the target dimension.\n",
    "Instead, you may use the following code. It will output a `False` if `U.T` is not equal to `model.components_`.\n",
    "```Python\n",
    "for u,c in zip(U.T,model.components_):\n",
    "    print(np.isclose(u,c).all() or np.isclose(u,-c).all())\n",
    "```"
   ]
  },
  {
   "cell_type": "markdown",
   "metadata": {},
   "source": [
    "##### Exercise 3\n",
    "The sequence $\\lambda_1,\\ldots,\\lambda_r$ are suppose to be the values in `explained_variance_` .  \n",
    "Check if this is true."
   ]
  },
  {
   "cell_type": "code",
   "execution_count": null,
   "metadata": {},
   "outputs": [],
   "source": [
    "X = np.genfromtxt('hidden_text.csv', delimiter=',')\n",
    "\n",
    "r = 2\n",
    "X = X - X.mean(axis=0) ## make it centered at origin\n",
    "N = X.shape[0] ## N components\n",
    "C = (X.T.dot(X))/N # convariance mtx\n",
    "vals,vecs = np.linalg.eigh(C)\n",
    "vals = vals[::-1]\n",
    "vecs = vecs[:,::-1] ## make it from large to small\n",
    "U = vecs[:,:r]\n",
    "\n",
    "from sklearn.decomposition import PCA\n",
    "model = PCA(2)\n",
    "X_new = model.fit_transform(X)"
   ]
  },
  {
   "cell_type": "code",
   "execution_count": null,
   "metadata": {},
   "outputs": [],
   "source": [
    "print(np.isclose(vals[:r],model.explained_variance_).all())\n",
    "## numpy.isclose(a, b, rtol=1e-05, atol=1e-08, equal_nan=False)\n",
    "## for this the error is large than built-in, so adjust the atol like below"
   ]
  },
  {
   "cell_type": "code",
   "execution_count": null,
   "metadata": {},
   "outputs": [],
   "source": [
    "print(np.isclose(vals[:r],model.explained_variance_,atol=20).all())"
   ]
  },
  {
   "cell_type": "markdown",
   "metadata": {},
   "source": [
    "##### Exercise 4\n",
    "Let $t = \\operatorname{tr}(C)$.  \n",
    "The sequence $\\lambda_1/t,\\ldots,\\lambda_r/t$ are suppose to be the values in `explained_variance_ratio_` .  \n",
    "Check if this is true."
   ]
  },
  {
   "cell_type": "code",
   "execution_count": null,
   "metadata": {},
   "outputs": [],
   "source": [
    "X = np.genfromtxt('hidden_text.csv', delimiter=',')\n",
    "\n",
    "r = 2\n",
    "X = X - X.mean(axis=0) ## make it centered at origin\n",
    "N = X.shape[0] ## N components\n",
    "C = (X.T.dot(X))/N # convariance mtx\n",
    "vals,vecs = np.linalg.eigh(C)\n",
    "vals = vals[::-1]\n",
    "vecs = vecs[:,::-1] ## make it from large to small\n",
    "U = vecs[:,:r]\n",
    "\n",
    "from sklearn.decomposition import PCA\n",
    "model = PCA(2)\n",
    "X_new = model.fit_transform(X)"
   ]
  },
  {
   "cell_type": "code",
   "execution_count": null,
   "metadata": {},
   "outputs": [],
   "source": [
    "t = np.trace(C)\n",
    "print(np.isclose(vals[:r]/t,model.explained_variance_ratio_).all())"
   ]
  },
  {
   "cell_type": "markdown",
   "metadata": {},
   "source": [
    "##### Exercise 5\n",
    "The singular values of the shifted `X` are supposed to be `model.singular_values_` .  \n",
    "Check if this is true."
   ]
  },
  {
   "cell_type": "code",
   "execution_count": null,
   "metadata": {},
   "outputs": [],
   "source": [
    "X = np.genfromtxt('hidden_text.csv', delimiter=',')\n",
    "\n",
    "r = 2\n",
    "X = X - X.mean(axis=0) ## make it centered at origin\n",
    "N = X.shape[0] ## N components\n",
    "C = (X.T.dot(X))/N # convariance mtx\n",
    "vals,vecs = np.linalg.eigh(C)\n",
    "vals = vals[::-1]\n",
    "vecs = vecs[:,::-1] ## make it from large to small\n",
    "U = vecs[:,:r]\n",
    "\n",
    "from sklearn.decomposition import PCA\n",
    "model = PCA(2)\n",
    "X_new = model.fit_transform(X)"
   ]
  },
  {
   "cell_type": "code",
   "execution_count": null,
   "metadata": {},
   "outputs": [],
   "source": [
    "U,s,VT = np.linalg.svd(X)\n",
    "print(np.isclose(s[:r],model.singular_values_).all())\n",
    "## print(np.allclose(s[:2],model.singular_values_))"
   ]
  },
  {
   "cell_type": "code",
   "execution_count": null,
   "metadata": {},
   "outputs": [],
   "source": []
  }
 ],
 "metadata": {
  "kernelspec": {
   "display_name": "Python 3 (ipykernel)",
   "language": "python",
   "name": "python3"
  },
  "language_info": {
   "codemirror_mode": {
    "name": "ipython",
    "version": 3
   },
   "file_extension": ".py",
   "mimetype": "text/x-python",
   "name": "python",
   "nbconvert_exporter": "python",
   "pygments_lexer": "ipython3",
   "version": "3.10.2"
  }
 },
 "nbformat": 4,
 "nbformat_minor": 4
}
