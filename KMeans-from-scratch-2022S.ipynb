{
 "cells": [
  {
   "cell_type": "markdown",
   "metadata": {},
   "source": [
    "# KMeans from scratch"
   ]
  },
  {
   "cell_type": "markdown",
   "metadata": {},
   "source": [
    "![Creative Commons License](https://i.creativecommons.org/l/by/4.0/88x31.png)  \n",
    "This work by Jephian Lin is licensed under a [Creative Commons Attribution 4.0 International License](http://creativecommons.org/licenses/by/4.0/)."
   ]
  },
  {
   "cell_type": "code",
   "execution_count": null,
   "metadata": {},
   "outputs": [],
   "source": [
    "import numpy as np\n",
    "import matplotlib.pyplot as plt"
   ]
  },
  {
   "cell_type": "markdown",
   "metadata": {},
   "source": [
    "## Algorithm\n",
    "**Input:**  \n",
    "- `X`: an array of shape `(N,d)` whose rows are samples and columns are features\n",
    "- `k`: number of clusters\n",
    "- `init`: \"random\" or an array of shape (k,d)  \n",
    "if \"random\", `k` points are chosen randomly from X as the initial cluster centers  \n",
    "if an array, the array is used as the initial cluster centers\n",
    "\n",
    "**Output:**  \n",
    "A tuple `(y_new, centers)`.  \n",
    "- `y_new`: an array of shape `(N,)` that records the labels in `(0, ..., k-1)` of each sample \n",
    "- `centers`: an array of shape `(k,d)` that records the cluster centers\n",
    "\n",
    "**Steps:**\n",
    "1. Initialize a collection of centers $\\mu_0,\\ldots,\\mu_{k-1}$:  \n",
    "    - if `init` is an array, the centers are the rows of `init` . \n",
    "    - if `init==\"random\"`, the centers are chosen as `k` random rows of `X` .  \n",
    "2. Label each sample ${\\bf x}_i$ by $j$ if $\\mu_j$ is the closed center to ${\\bf x}_i$.\n",
    "3. Call the points with label $j$ as group $j$.  Update $\\mu_j$ as the center of points in group $j$.  \n",
    "4. Repeat Steps 2 and 3 until `y_new` do not change anymore."
   ]
  },
  {
   "cell_type": "markdown",
   "metadata": {},
   "source": [
    "## Pseudocode\n",
    "Translate the algorithm into the pseudocode.  \n",
    "This helps you to identify the parts that you don't know how to do it.  "
   ]
  },
  {
   "cell_type": "markdown",
   "metadata": {},
   "source": [
    "    1. \n",
    "    2. \n",
    "    3. ..."
   ]
  },
  {
   "cell_type": "markdown",
   "metadata": {},
   "source": [
    "## Code"
   ]
  },
  {
   "cell_type": "markdown",
   "metadata": {},
   "source": [
    "- `X`: an array of shape `(N,d)` whose rows are samples and columns are features\n",
    "- `k`: number of clusters\n",
    "- `init`: \"random\" or an array of shape (k,d)  "
   ]
  },
  {
   "cell_type": "code",
   "execution_count": null,
   "metadata": {},
   "outputs": [],
   "source": [
    "def distance_matrix(X, Y=None):\n",
    "    \"\"\"Return the distance matrix between rows of X and rows of Y\n",
    "    \n",
    "    Input:  \n",
    "        X: an array of shape (N,d)\n",
    "        Y: an array of shape (M,d)\n",
    "            if None, Y = X\n",
    "           \n",
    "    Output:\n",
    "        the matrix [d_ij] where d_ij is the distance between  \n",
    "        the i-th row of X and the j-th row of Y\n",
    "    \"\"\"\n",
    "    if isinstance(Y, np.ndarray):\n",
    "        pass\n",
    "    elif Y == None:\n",
    "        Y = X.copy()\n",
    "    else:\n",
    "        raise TypeError(\"Y should be a NumPy array or None\") \n",
    "    X_col = X[:, np.newaxis, :]\n",
    "    Y_row = Y[np.newaxis, :, :]\n",
    "    diff = X_col - Y_row\n",
    "    dist = np.sqrt(np.sum(diff**2, axis=-1))\n",
    "    \n",
    "    return dist"
   ]
  },
  {
   "cell_type": "code",
   "execution_count": null,
   "metadata": {},
   "outputs": [],
   "source": [
    "# Function to implement the four Steps in the KMeans Algo\n",
    "def KMeans_from_scratch(X, k, init = \"random\"):\n",
    "    # Step 1: Choosing centers randomly\n",
    "    N = len(X) ; inds = 0\n",
    "    if init == \"random\": # the centers are chosen as k random rows of X\n",
    "        inds = np.random.choice(range(N), k, replace=False)    \n",
    "        centers = X[inds, :]\n",
    "    else: # if init is an array, the centers are the rows of init\n",
    "        centers = init\n",
    "    y_new = np.zeros(N) # label y_new with 0\n",
    "    \n",
    "    # Step 2: Finding the distance bet. centers and data points\n",
    "    dist = distance_matrix(X, centers)\n",
    "    \n",
    "    # Step 3: Center w/the min. distance\n",
    "    y_new = np.argmin(dist, axis = 1) # Returns the indices of the minimum values along an axis,\n",
    "                                      # axis 1 is the axis that runs horizontally across the columns, \n",
    "                                      # in this case col of dist\n",
    "    label = np.array([-1 for i in range(N)]) # label all the points until the label result is same as before\n",
    "     \n",
    "    # Step 4: Repeat Steps 2 and 3 until y_new do not change anymore\n",
    "    while not np.array_equal(y_new, label):\n",
    "        label = np.copy(y_new) ; centers = []\n",
    "        for inds in range(k):\n",
    "            # Updating centers by the ave. of cluster it belongs to\n",
    "            temp_cent = X[y_new==inds].mean(axis=0) \n",
    "            centers.append(temp_cent)\n",
    " \n",
    "        centers = np.vstack(centers) # updated centers\n",
    "         \n",
    "        dist = distance_matrix(X, centers)\n",
    "        y_new = np.argmin(dist, axis = 1)\n",
    "         \n",
    "    return y_new, centers"
   ]
  },
  {
   "cell_type": "markdown",
   "metadata": {},
   "source": [
    "## Test\n",
    "Take some sample data from [KMeans-with-scikit-learn](KMeans-with-scikit-learn.ipynb) and check if your code generates similar outputs with the existing packages."
   ]
  },
  {
   "cell_type": "markdown",
   "metadata": {},
   "source": [
    "##### Name of the data\n",
    "***Description of the data:***  \n",
    "X dataset is a 2D array with a shape of (200, 2).  \n",
    "Two sets of random samples were obtained from a multivariate normal distribution,  \n",
    "in which the distribution is specified by its mean and covariance matrix.  \n",
    "These two sets of random samples are vertically stacked together.  "
   ]
  },
  {
   "cell_type": "code",
   "execution_count": null,
   "metadata": {},
   "outputs": [],
   "source": [
    "### Similar data from KMeans-with-scikit-learn.ipynb\n",
    "np.random.seed(0)\n",
    "mu1 = np.array([2.5,0])\n",
    "cov1 = np.array([[1.1,-1],\n",
    "                [-1,1.1]])\n",
    "mu2 = np.array([-2.5,0])\n",
    "cov2 = np.array([[1.1,1],\n",
    "                [1,1.1]])\n",
    "X = np.vstack([np.random.multivariate_normal(mu1, cov1, 100), \n",
    "               np.random.multivariate_normal(mu2, cov2, 100)])\n",
    "plt.scatter(X[:,0], X[:,1])"
   ]
  },
  {
   "cell_type": "code",
   "execution_count": null,
   "metadata": {},
   "outputs": [],
   "source": [
    "### results with your code\n",
    "label, center = KMeans_from_scratch(X, 2)\n",
    "plt.scatter(X[:,0], X[:,1], c=label)"
   ]
  },
  {
   "cell_type": "code",
   "execution_count": null,
   "metadata": {},
   "outputs": [],
   "source": [
    "### results with existing packages\n",
    "from sklearn.cluster import KMeans\n",
    "model = KMeans(n_clusters=2)\n",
    "y_new = model.fit_predict(X)\n",
    "\n",
    "%matplotlib inline\n",
    "plt.axis('equal')\n",
    "plt.scatter(*X.T, c=y_new)\n",
    "print(model.inertia_) # Sum of squared distances of samples to their closest cluster center."
   ]
  },
  {
   "cell_type": "markdown",
   "metadata": {},
   "source": [
    "## Comparison"
   ]
  },
  {
   "cell_type": "markdown",
   "metadata": {},
   "source": [
    "##### Exercise 1\n",
    "Modify your code so that it prints the inertia at each iteration.  \n",
    "Is it decreasing?"
   ]
  },
  {
   "cell_type": "code",
   "execution_count": null,
   "metadata": {},
   "outputs": [],
   "source": [
    "# Function to implement the four Steps in the KMeans Algo\n",
    "def KMeans_with_inertia(X, k, init = \"random\", verbose = None):\n",
    "    # Step 1: Choosing centers randomly\n",
    "    N = len(X) ; inds = 0\n",
    "    if init == \"random\": # the centers are chosen as k random rows of X\n",
    "        inds = np.random.choice(range(N), k, replace=False)    \n",
    "        centers = X[inds, :]\n",
    "    else: # if init is an array, the centers are the rows of init\n",
    "        centers = init\n",
    "    y_new = np.zeros(N) # label y_new with 0\n",
    "    \n",
    "    # Step 2: Finding the distance bet. centers and data points\n",
    "    dist = distance_matrix(X, centers)\n",
    "    \n",
    "    # Step 3: Center w/the min. distance\n",
    "    y_new = np.argmin(dist, axis = 1) # Returns the indices of the minimum values along an axis,\n",
    "                                      # axis 1 is the axis that runs horizontally across the columns, \n",
    "                                      # in this case col of dist\n",
    "    label = np.array([-1 for i in range(N)]) # label all the points until the label result is same as before\n",
    "    \n",
    "    inertia_list = [] # list to store inertia\n",
    "    # Step 4: Repeat Steps 2 and 3 until y_new do not change anymore\n",
    "    while not np.array_equal(y_new, label):\n",
    "        label = np.copy(y_new) ; centers = []\n",
    "        for inds in range(k):\n",
    "            # Updating centers by the ave. of cluster it belongs to\n",
    "            temp_cent = X[y_new==inds].mean(axis=0) \n",
    "            centers.append(temp_cent)\n",
    " \n",
    "        centers = np.vstack(centers) # updated centers\n",
    "         \n",
    "        dist = distance_matrix(X, centers)\n",
    "        y_new = np.argmin(dist, axis = 1)\n",
    "\n",
    "        # Inertia iteration\n",
    "        inertia = np.sum(np.min(dist, axis=1)**2)\n",
    "        if verbose == True: # detailed iteration of inertia, kind of similar to verbose parameter in KMeans()\n",
    "            inertia_list.append(inertia)\n",
    "            \n",
    "    for idx, item in enumerate(inertia_list): # iterate and prints the index-value pair of inertia_list\n",
    "        print(\"Iteration\", idx, \"inertia\", item) # kind of similar to verbose parameter in KMeans()\n",
    "        \n",
    "    if verbose == False: # will only print the last iteration of inertia\n",
    "        print(\"inertia is\", inertia) # kind of similar to KMeans.inertia_\n",
    "\n",
    "    return y_new, centers"
   ]
  },
  {
   "cell_type": "code",
   "execution_count": null,
   "metadata": {
    "scrolled": true
   },
   "outputs": [],
   "source": [
    "### results with your code\n",
    "label, center = KMeans_with_inertia(X, 3, verbose = True)\n",
    "plt.scatter(X[:,0], X[:,1], c=label )\n",
    "print(\"\\n The inertia is decreasing\")"
   ]
  },
  {
   "cell_type": "code",
   "execution_count": null,
   "metadata": {},
   "outputs": [],
   "source": [
    "### results with your code, test verbose = False\n",
    "print(\"verbose = False\")\n",
    "label, center = KMeans_with_inertia(X, 3, verbose = False)\n",
    "plt.scatter(X[:,0], X[:,1], c=label )"
   ]
  },
  {
   "cell_type": "markdown",
   "metadata": {},
   "source": [
    "##### Exercise 2\n",
    "Let  \n",
    "```python\n",
    "from sklearn.datasets import load_iris\n",
    "iris = load_iris()\n",
    "X = iris.data\n",
    "y_iris = iris.target\n",
    "```"
   ]
  },
  {
   "cell_type": "markdown",
   "metadata": {},
   "source": [
    "###### 2(a)\n",
    "Use your function to apply the $k$-means algorithm with $k=3$.  \n",
    "What is the inertia?  \n",
    "Run it several times to see if the results are always the same.  "
   ]
  },
  {
   "cell_type": "code",
   "execution_count": null,
   "metadata": {},
   "outputs": [],
   "source": [
    "### your answer here\n",
    "from sklearn.datasets import load_iris\n",
    "iris = load_iris()\n",
    "X = iris.data\n",
    "y_iris = iris.target\n",
    "\n",
    "print(\"Inertia by KMeans_with_inertia: \\n\")\n",
    "\n",
    "for i in range(10):\n",
    "    print(\"Run number:\", i+1)\n",
    "    label, center = KMeans_with_inertia(X, 3, verbose = False)\n",
    "    \n",
    "print(\"\\nUsing KMeans_with_inertia, the resulting inertia is not always the same.\")\n",
    "print(\"This is because of the randomized initialized centers.\")"
   ]
  },
  {
   "cell_type": "markdown",
   "metadata": {},
   "source": [
    "###### 2(b)\n",
    "Use `sklearn.cluster.KMeans` to apply the $k$-means algorithm with $k=3$.  \n",
    "What is the inertia?  \n",
    "Run it several times to see if the results are always the same.  "
   ]
  },
  {
   "cell_type": "code",
   "execution_count": null,
   "metadata": {
    "scrolled": true
   },
   "outputs": [],
   "source": [
    "### your answer here\n",
    "print(\"Inertia by model.inertia_: \\n\")\n",
    "\n",
    "for i in range(10):\n",
    "    model = KMeans(n_clusters=3)\n",
    "    model.fit(X)\n",
    "    print(\"Run number:\", i+1)\n",
    "    print(\"inertia is\", model.inertia_)\n",
    "    \n",
    "print(\"\\nUsing sklearn.cluster.KMeans, the obtained inertia values are always the same.\")\n",
    "print(\"This happens because the function will run the 𝑘-means algo n_init times to get the best performance.\")\n",
    "print(\"In which the final results will be the best output of n_init consecutive runs in terms of inertia.\")"
   ]
  },
  {
   "cell_type": "code",
   "execution_count": null,
   "metadata": {},
   "outputs": [],
   "source": [
    "### n_init test\n",
    "### your answer here\n",
    "n_init_var = 1\n",
    "print(\"Inertia by model.inertia_:\")\n",
    "print(\"n_init:\", n_init_var, \"\\n\")\n",
    "\n",
    "for i in range(10):\n",
    "    model = KMeans(n_clusters=3, n_init=n_init_var)\n",
    "    model.fit(X)\n",
    "    print(\"Run number:\", i+1)\n",
    "    print(\"inertia is\", model.inertia_)\n",
    "    \n",
    "print(\"\\nVarying the n_init parameter in sklearn.cluster.KMeans, such as reducing its value,\")\n",
    "print(\"would also reduce the probability of getting the best output.\")\n",
    "print(\"Therefore, the results for each iteration would somehow be slightly different.\")"
   ]
  },
  {
   "cell_type": "markdown",
   "metadata": {},
   "source": [
    "###### 2(c)\n",
    "Pick a label `labels` that you like.  \n",
    "Compute the cluster centers of `X` corresponding to `labels` .  \n",
    "Is this inertia bigger or smaller than the previous two answers?"
   ]
  },
  {
   "cell_type": "code",
   "execution_count": null,
   "metadata": {},
   "outputs": [],
   "source": [
    "### your answer here\n",
    "labels = np.random.randint(3, size=len(X))\n",
    "random_inertia = 0\n",
    "\n",
    "for i in range(3):\n",
    "    mask = np.where(labels == i)\n",
    "    X_labels = X[mask]\n",
    "    centers = np.mean(X_labels, axis = 0)\n",
    "    random_inertia += np.sum((X_labels-centers)**2)\n",
    "\n",
    "print(\"random inertia: \", random_inertia)\n",
    "print(\"The random inertia is way bigger than the previous two answers.\")"
   ]
  },
  {
   "cell_type": "markdown",
   "metadata": {},
   "source": [
    "###### 2(d)\n",
    "The label `y_iris` is the \"correct\" real-world answer.  \n",
    "Compute the cluster centers and the inertia.  \n",
    "Is this inertia bigger or smaller than the answers in 2(a) and 2(b)?"
   ]
  },
  {
   "cell_type": "code",
   "execution_count": null,
   "metadata": {},
   "outputs": [],
   "source": [
    "### your answer here\n",
    "correct_inertia = 0\n",
    "\n",
    "for i in range(3):\n",
    "    mask_iris = np.where(y_iris == i)\n",
    "    X_labels = X[mask_iris]\n",
    "    centers = np.mean(X_labels, axis = 0)    \n",
    "    correct_inertia += np.sum((X_labels-centers)**2)    \n",
    "\n",
    "print(\"correct inertia: \", correct_inertia)\n",
    "print(\"Comparing to 2(a), it is either bigger or smaller.\")\n",
    "print(\"Comparing to 2(b), it is slightly bigger.\")"
   ]
  },
  {
   "cell_type": "markdown",
   "metadata": {},
   "source": [
    "##### Exercise 3\n",
    "The $k$-means algorithm is a deterministic algorithm once the initial cluster centers have been determined.  \n",
    "Therefore, your function and `sklearn.cluster.KMeans` should obtain the same result when `init` is given.  \n",
    "Check if this is true.  \n",
    "\n",
    "Note:  There are still many subtle differences, for example, `sklearn` uses the location of centers to test the convergence but our algorithm uses the label to test the convergence."
   ]
  },
  {
   "cell_type": "code",
   "execution_count": null,
   "metadata": {},
   "outputs": [],
   "source": [
    "### your answer here\n",
    "import warnings # for Exer 3 only\n",
    "# warnings.filterwarnings(\"ignore\") # ignores all error, not advisable\n",
    "warnings.filterwarnings(\"ignore\", category=RuntimeWarning)\n",
    "warnings.filterwarnings(\"ignore\", category=FutureWarning)\n",
    "\n",
    "row = X.shape[0]\n",
    "\n",
    "for i in range(3):\n",
    "    init = np.array([X[np.random.randint(row)], X[np.random.randint(row)], X[np.random.randint(row)]])\n",
    "    print(\"Run number:\", i+1)\n",
    "    ### by sklearn KMeans\n",
    "    model = KMeans(n_clusters=3, init = init)\n",
    "    model.fit(X)\n",
    "    print(\"labels by sklearn KMeans: \\n\", model.labels_)\n",
    "    ### by KMeans from scratch\n",
    "    label, center = KMeans_from_scratch(X, 3, init = init)\n",
    "    print(\"labels by KMeans from scratch: \\n\", label)\n",
    "    ### Boolean operation to check if the same\n",
    "    print(\"sklearn KMeans vs KMeans from scratch:\", np.allclose(model.labels_, label))\n",
    "    \n",
    "print(\"\\nAs expected, when init is given, KMeans_from_scratch and sklearn.cluster.KMeans obtained the same results.\")\n",
    "print(\"Which is also supported by Boolean checking.\")"
   ]
  },
  {
   "cell_type": "code",
   "execution_count": null,
   "metadata": {},
   "outputs": [],
   "source": []
  }
 ],
 "metadata": {
  "kernelspec": {
   "display_name": "Python 3 (ipykernel)",
   "language": "python",
   "name": "python3"
  },
  "language_info": {
   "codemirror_mode": {
    "name": "ipython",
    "version": 3
   },
   "file_extension": ".py",
   "mimetype": "text/x-python",
   "name": "python",
   "nbconvert_exporter": "python",
   "pygments_lexer": "ipython3",
   "version": "3.10.2"
  }
 },
 "nbformat": 4,
 "nbformat_minor": 4
}
