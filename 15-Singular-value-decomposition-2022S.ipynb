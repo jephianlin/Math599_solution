{
 "cells": [
  {
   "cell_type": "markdown",
   "metadata": {},
   "source": [
    "# Singular value decomposition"
   ]
  },
  {
   "cell_type": "markdown",
   "metadata": {},
   "source": [
    "![Creative Commons License](https://i.creativecommons.org/l/by/4.0/88x31.png)  \n",
    "This work by Jephian Lin is licensed under a [Creative Commons Attribution 4.0 International License](http://creativecommons.org/licenses/by/4.0/)."
   ]
  },
  {
   "cell_type": "code",
   "execution_count": null,
   "metadata": {},
   "outputs": [],
   "source": [
    "import numpy as np\n",
    "import matplotlib.pyplot as plt\n",
    "from scipy import linalg as LA"
   ]
  },
  {
   "cell_type": "markdown",
   "metadata": {},
   "source": [
    "## Main idea"
   ]
  },
  {
   "cell_type": "markdown",
   "metadata": {},
   "source": [
    "Every $m\\times n$ matrix $A$ can be written as \n",
    "$$ A = U\\Sigma V^\\top,$$\n",
    "where $U$ and $V$ are orthogonal matrices  \n",
    "($UU^\\top = U^\\top U = I$ and $VV^\\top = V^\\top V = I$)  \n",
    "and \n",
    "$$\\Sigma = \\begin{bmatrix}  \n",
    " \\operatorname{diag}(\\sigma_1,\\ldots,\\sigma_r) & O_{r,n-r} \\\\ \n",
    " O_{m-r, r} & O_{m-r,n-r} \n",
    "\\end{bmatrix}.$$\n",
    "Here $r$ is the rank of $A$ and  \n",
    "$$\\sigma_1\\geq\\cdots\\geq\\sigma_r>0$$  \n",
    "are called the **singular values** of $A$."
   ]
  },
  {
   "cell_type": "markdown",
   "metadata": {},
   "source": [
    "Equivalently, the action  \n",
    "$$A{\\bf x}\\xleftarrow{A} {\\bf x}$$  \n",
    "can be partitioned into three steps  \n",
    "$$A{\\bf x}\\xleftarrow{U}[A{\\bf x}]_\\alpha\\xleftarrow{\\Sigma}[{\\bf x}]_\\beta\\xleftarrow{U^\\top}{\\bf x}.$$  \n",
    "Here $\\alpha$ is the columns of $U$ and $\\beta$ is the columns of $V$."
   ]
  },
  {
   "cell_type": "markdown",
   "metadata": {},
   "source": [
    "## Side stories"
   ]
  },
  {
   "cell_type": "markdown",
   "metadata": {},
   "source": [
    "- image compression"
   ]
  },
  {
   "cell_type": "markdown",
   "metadata": {},
   "source": [
    "## Experiments"
   ]
  },
  {
   "cell_type": "markdown",
   "metadata": {},
   "source": [
    "###### Exercise 1\n",
    "Let  \n",
    "```python\n",
    "A = np.ones((3,4))\n",
    "U,s,Vh = LA.svd(A)\n",
    "Sigma = np.zeros_like(A)\n",
    "Sigma[np.arange(3), np.arange(3)] = s\n",
    "```"
   ]
  },
  {
   "cell_type": "markdown",
   "metadata": {},
   "source": [
    "###### 1(a)\n",
    "Check if $A = U\\Sigma V^\\top$.  \n",
    "(Note that `Vh` is $V^\\top$ but not $V$.)"
   ]
  },
  {
   "cell_type": "code",
   "execution_count": null,
   "metadata": {},
   "outputs": [],
   "source": [
    "### your answer here\n",
    "A = np.ones((3,4))\n",
    "U,s,Vh = LA.svd(A)\n",
    "Sigma = np.zeros_like(A)\n",
    "Sigma[np.arange(3), np.arange(3)] = s\n",
    "\n",
    "print(\"𝐴 = 𝑈Σ𝑉⊤? \", np.isclose(A, U.dot(Sigma).dot(Vh)).all())"
   ]
  },
  {
   "cell_type": "markdown",
   "metadata": {},
   "source": [
    "###### 1(b)\n",
    "Check if $UU^\\top = U^\\top U = I$ and $VV^\\top = V^\\top V = I$."
   ]
  },
  {
   "cell_type": "code",
   "execution_count": null,
   "metadata": {},
   "outputs": [],
   "source": [
    "### your answer here\n",
    "Iu = np.eye(A.shape[0])\n",
    "Iv = np.eye(A.shape[1])\n",
    "\n",
    "print( \"𝑈𝑈⊤ = 𝑈⊤𝑈? \", np.isclose(U.T.dot(U), U.dot(U.T)).all() )\n",
    "print( \"𝑈𝑈⊤ = 𝐼? \", np.isclose(U.T.dot(U), Iu).all()) \n",
    "print( \"𝑉𝑉⊤ = 𝑉⊤𝑉? \", np.isclose(Vh.T.dot(Vh), Vh.dot(Vh.T)).all() )\n",
    "print( \"𝑉𝑉⊤ = 𝐼? \", np.isclose(Vh.T.dot(Vh), Iv).all() )"
   ]
  },
  {
   "cell_type": "markdown",
   "metadata": {},
   "source": [
    "###### Exercise 2\n",
    "Let  \n",
    "```python\n",
    "U = np.array([[1,1,1],\n",
    "              [-1,0,1],\n",
    "              [0,-1,1]])\n",
    "V = np.array([[1,1,0,0],\n",
    "              [-1,1,0,0],\n",
    "              [0,0,1,1],\n",
    "              [0,0,-1,1]])\n",
    "U = U / np.linalg.norm(U, axis=0)\n",
    "V = V / np.linalg.norm(V, axis=0)\n",
    "```\n",
    "Let $\\alpha=\\{{\\bf u}_0,\\ldots, {\\bf u}_2\\}$ be the columns of $U$ and $\\beta=\\{{\\bf v}_0,\\ldots, {\\bf v}_3\\}$ the columns of $V$."
   ]
  },
  {
   "cell_type": "markdown",
   "metadata": {},
   "source": [
    "###### 2(a)\n",
    "Find a matrix such that  \n",
    "$A{\\bf v}_0 = 3{\\bf u}_0$  \n",
    "$A{\\bf v}_1 = 2{\\bf u}_1$  \n",
    "$A{\\bf v}_2 = 1{\\bf u}_2$  \n",
    "$A{\\bf v}_3 = {\\bf 0}$.  "
   ]
  },
  {
   "cell_type": "code",
   "execution_count": null,
   "metadata": {},
   "outputs": [],
   "source": [
    "### your answer here\n",
    "U = np.array([[1,1,1],\n",
    "              [-1,0,1],\n",
    "              [0,-1,1]])\n",
    "V = np.array([[1,1,0,0],\n",
    "              [-1,1,0,0],\n",
    "              [0,0,1,1],\n",
    "              [0,0,-1,1]])\n",
    "U = U / np.linalg.norm(U, axis=0)\n",
    "V = V / np.linalg.norm(V, axis=0)\n",
    "\n",
    "s = np.array([3, 2, 1])\n",
    "Sigma = np.zeros((3, 4))\n",
    "Sigma[np.arange(3), np.arange(3)] = s\n",
    "A = U.dot(Sigma).dot(V.T) # A.shape = (3, 4)\n",
    "\n",
    "np.set_printoptions(precision=2, suppress=True)\n",
    "print(\"A:\\n\", A)\n",
    "print(\"AV:\\n\", A.dot(V))\n",
    "print(\"U:\\n\", U)"
   ]
  },
  {
   "cell_type": "markdown",
   "metadata": {},
   "source": [
    "###### 2(b)\n",
    "Find a matrix such that  \n",
    "$A{\\bf v}_0 = 1{\\bf u}_0$  \n",
    "$A{\\bf v}_1 = {\\bf 0}$  \n",
    "$A{\\bf v}_2 = {\\bf 0}$  \n",
    "$A{\\bf v}_3 = {\\bf 0}$.  \n",
    "Compare it with ${\\bf u}_0{\\bf v}_0^\\top$."
   ]
  },
  {
   "cell_type": "code",
   "execution_count": null,
   "metadata": {},
   "outputs": [],
   "source": [
    "### your answer here\n",
    "U = np.array([[1,1,1],\n",
    "              [-1,0,1],\n",
    "              [0,-1,1]])\n",
    "V = np.array([[1,1,0,0],\n",
    "              [-1,1,0,0],\n",
    "              [0,0,1,1],\n",
    "              [0,0,-1,1]])\n",
    "U = U / np.linalg.norm(U, axis=0)\n",
    "V = V / np.linalg.norm(V, axis=0)\n",
    "\n",
    "s = np.array([1, 0, 0])\n",
    "Sigma = np.zeros((3, 4))\n",
    "Sigma[np.arange(3), np.arange(3)] = s\n",
    "A = U.dot(Sigma).dot(V.T) # A.shape = (3, 4)\n",
    "\n",
    "np.set_printoptions(precision=2, suppress=True)\n",
    "print(\"A:\\n\", A)\n",
    "print(\"AV:\\n\", A.dot(V))\n",
    "print(\"U:\\n\", U)"
   ]
  },
  {
   "cell_type": "markdown",
   "metadata": {},
   "source": [
    "## Exercises"
   ]
  },
  {
   "cell_type": "markdown",
   "metadata": {},
   "source": [
    "###### Exercise 3\n",
    "Pick a random $3\\times 4$ matrix $A$.  \n",
    "Let $A = U\\Sigma V^\\top$ be its singular value decomposition."
   ]
  },
  {
   "cell_type": "markdown",
   "metadata": {},
   "source": [
    "###### 3(a)\n",
    "Compare the following:\n",
    "1. the square of singular values of $A$.\n",
    "2. the eigenvalues of $AA^\\top$.  \n",
    "3. the eigenvalues of $A^\\top A$."
   ]
  },
  {
   "cell_type": "code",
   "execution_count": null,
   "metadata": {},
   "outputs": [],
   "source": [
    "### your answer here\n",
    "# Pick a random 3×4 matrix A\n",
    "A = np.random.randn(3, 4)\n",
    "U,s,Vh = LA.svd(A)\n",
    "Sigma = np.zeros_like(A)\n",
    "Sigma[np.arange(3), np.arange(3)] = s\n",
    "\n",
    "# Compare\n",
    "np.set_printoptions(precision=2, suppress=True)\n",
    "print(\"The square of singular values of A: \",s**2, \" -- (1)\")\n",
    "AATvals, AATvecs = LA.eigh(A.dot(A.T))\n",
    "print(\"The eigenvalues of ATA:             \", AATvals, \" -- (2)\")\n",
    "ATAvals, ATAvecs = LA.eigh(A.T.dot(A))\n",
    "print(\"The eigenvalues of AAT:             \", ATAvals, \" -- (3)\")\n",
    "\n",
    "print(\"\\nThe order of (1) and (2) are reverse.\")\n",
    "print(\"(2) and (3) are similar.\")"
   ]
  },
  {
   "cell_type": "markdown",
   "metadata": {},
   "source": [
    "##### Jephian\n",
    "\n",
    "Nice observation!  \n",
    "Indeed, the singular values are usually in non-increasing order.  \n",
    "On the other hand, the eigenvalues is sometimes non-increasing sometimes non-decreasing,  \n",
    "while `np.linalg.eigh` uses the non-decreasing order."
   ]
  },
  {
   "cell_type": "markdown",
   "metadata": {},
   "source": [
    "###### 3(b)\n",
    "Compare the following:\n",
    "1. the columns of $U$.  \n",
    "2. the eigenvectors of $AA^\\top$."
   ]
  },
  {
   "cell_type": "code",
   "execution_count": null,
   "metadata": {},
   "outputs": [],
   "source": [
    "### your answer here\n",
    "print(\"U:\\n\", U)\n",
    "print(\"The eigenvectors of AAT:\\n\", AATvecs)\n",
    "\n",
    "print(\"\\nThe columns of U and the eigenvectors of AAT:\")\n",
    "print(\"(1) The columns are reverse.\")\n",
    "print(\"(2) All columns of values change sign.\")"
   ]
  },
  {
   "cell_type": "markdown",
   "metadata": {},
   "source": [
    "###### 3(b)\n",
    "Compare the following:\n",
    "1. the columns of $V$.  \n",
    "2. the eigenvectors of $A^\\top A$."
   ]
  },
  {
   "cell_type": "code",
   "execution_count": null,
   "metadata": {},
   "outputs": [],
   "source": [
    "### your answer here\n",
    "print(\"V:\\n\", Vh.T)\n",
    "print(\"The eigenvectors of ATA:\\n\", ATAvecs)\n",
    "\n",
    "print(\"\\nThe columns of V and the eigenvectors of ATA:\")\n",
    "print(\"(1) The columns are reverse.\")\n",
    "print(\"(2) Some columns of values change sign, eg. col1 and col2 change sign\")"
   ]
  },
  {
   "cell_type": "markdown",
   "metadata": {},
   "source": [
    "##### Jephian\n",
    "\n",
    "Nice work."
   ]
  },
  {
   "cell_type": "markdown",
   "metadata": {},
   "source": [
    "###### 3(c)\n",
    "Pick an eigenvector ${\\bf v}$ of $A^\\top A$ such that $A^\\top A{\\bf v} = \\lambda{\\bf v}$ with $\\lambda\\neq 0$.  \n",
    "Check if $A{\\bf v}$ is an eigenvector of $AA^\\top$.  \n",
    "Can you verify this property by algebra?"
   ]
  },
  {
   "cell_type": "code",
   "execution_count": null,
   "metadata": {},
   "outputs": [],
   "source": [
    "### your answer here\n",
    "np.set_printoptions(precision=2, suppress=True)\n",
    "\n",
    "print(\"The eigenvalues: \", ATAvals)\n",
    "print(\"The eigenvectors:\\n\", ATAvecs)\n",
    "AV = A.dot(ATAvecs)\n",
    "print(\"AV:\\n\", AV)\n",
    "print(\"The eigenvector of AAT:\\n\", AATvecs)\n",
    "\n",
    "print(\"\\nAV are eigenvectors of AAT:\")\n",
    "for i in range(3):\n",
    "    print(AV[:, i + 1] / AATvecs[:, i])"
   ]
  },
  {
   "cell_type": "markdown",
   "metadata": {},
   "source": [
    "##### Jephian\n",
    "\n",
    "Good.  \n",
    "The algebraic approach is  \n",
    "\n",
    "$$\n",
    "    AA^\\top(A{\\bf v}) = A(A^\\top A){\\bf v} = \\lambda A{\\bf v}.\n",
    "$$"
   ]
  },
  {
   "cell_type": "markdown",
   "metadata": {},
   "source": [
    "###### 3(d)\n",
    "Pick any two eigenvectors ${\\bf v}$ and ${\\bf v}'$ of $A^\\top A$ such that they are orthogonal to each other.  \n",
    "Check if $A{\\bf v}$ and $A{\\bf v}'$ are orthogonal to each other.  \n",
    "Can you verify this property by algebra?"
   ]
  },
  {
   "cell_type": "code",
   "execution_count": null,
   "metadata": {},
   "outputs": [],
   "source": [
    "### your answer here\n",
    "v0 = ATAvecs[:, 0]\n",
    "v1 = ATAvecs[:, 1]\n",
    "print(\"Is v0 orthogonal to v1? \",np.isclose(v0.dot(v1) , 0))\n",
    "\n",
    "Av0 = A.dot(v0)\n",
    "Av1 = A.dot(v1)\n",
    "print(\"Is Av0 orthogonal to Av1? \", np.isclose(Av0.dot(Av1) , 0))"
   ]
  },
  {
   "cell_type": "markdown",
   "metadata": {},
   "source": [
    "##### Jephian\n",
    "\n",
    "If $\\langle{\\bf v}, {\\bf v}'\\rangle = 0$, then  \n",
    "\n",
    "$$\n",
    "    \\langle A{\\bf v}, A{\\bf v}'\\rangle = ({\\bf v}')^\\top A^\\top A{\\bf v} = \\lambda ({\\bf v}')^\\top {\\bf v} = \\lambda\\langle {\\bf v}, {\\bf v}'\\rangle = 0.\n",
    "$$"
   ]
  },
  {
   "cell_type": "markdown",
   "metadata": {},
   "source": [
    "#### Remark\n",
    "Here are the steps for finding a singular value decomposition of an $m\\times n$ matrix $A$ with rank $r$.  \n",
    "1. Find an orthonormal eigenbasis $\\{{\\bf v}_1,\\ldots,{\\bf v}_n\\}$ of $A^\\top A$ with respect to eigenvalues $\\lambda_1\\geq\\cdots\\geq\\lambda_r>0=\\lambda_{r+1}=\\cdots\\lambda_n$.  \n",
    "2. Find an orthonormal eigenbasis $\\{{\\bf u}_1,\\ldots,{\\bf u}_m\\}$ of $AA^\\top$ with respect to eigenvalues $\\lambda_1\\geq\\cdots\\geq\\lambda_r>0=\\lambda_{r+1}=\\cdots\\lambda_n$.  \n",
    "3. Let $V$ be the matrix whose columns are $\\{{\\bf v}_1,\\ldots,{\\bf v}_n\\}$.  \n",
    "4. Let $U$ be the matrix whose columns are $\\{A{\\bf v}_1,\\ldots,A{\\bf v}_r,{\\bf u}_{r+1},\\ldots,{\\bf u}_n\\}$.  \n",
    "5. Let $\\sigma_1 = \\sqrt{\\lambda_1},\\ldots, \\sigma_r = \\sqrt{\\lambda_r}$."
   ]
  },
  {
   "cell_type": "markdown",
   "metadata": {},
   "source": [
    "###### Exercise 4\n",
    "Suppose $A$ is an $m\\times n$ matrix of rank $r$ and $A = U\\Sigma V^\\top$ is its singular decomposition.  \n",
    "Let ${\\bf u}_0,\\ldots,{\\bf u}_{m-1}$ be the columns of $U$ and ${\\bf v}_0, \\ldots, {\\bf v}_{n-1}$ the columns of $V$.  \n",
    "\n",
    "Similar to the spectral decomposition, the singular value decomposition can also be written as  \n",
    "$$A = \\sum_{i=0}^{r-1} \\sigma_i{\\bf u}_i{\\bf v}_i^\\top.$$  \n",
    "Therefore, $\\sum_{i=0}^{k-1} \\sigma_i{\\bf u}_i{\\bf v}_i^\\top$, where $k\\leq r$, is an approximation of $A$."
   ]
  },
  {
   "cell_type": "markdown",
   "metadata": {},
   "source": [
    "###### 4(a)\n",
    "Let  \n",
    "```python\n",
    "arr = plt.imread('incrediville-side.jpg').mean(axis=-1)\n",
    "arr.shape\n",
    "```\n",
    "Show the image `arr` by `plt.imshow` with proper `vmin`, `vmax`, and `cmap` ."
   ]
  },
  {
   "cell_type": "code",
   "execution_count": null,
   "metadata": {},
   "outputs": [],
   "source": [
    "### your answer here\n",
    "arr = plt.imread('incrediville-side.jpg').mean(axis=-1)\n",
    "print(arr.shape) # (3120, 4160)\n",
    "\n",
    "plt.imshow(arr, cmap = 'Greys_r')"
   ]
  },
  {
   "cell_type": "markdown",
   "metadata": {},
   "source": [
    "###### 4(b)\n",
    "Let  \n",
    "```python\n",
    "U,s,Vh = LA.svd(arr)\n",
    "```\n",
    "Let ${\\bf u}_0,\\ldots,{\\bf u}_m$ the columns of $U$,  \n",
    "${\\bf v}_0,\\ldots,{\\bf v}_n$ the columns of $V$ (`Vh`),  \n",
    "$\\sigma_0,\\ldots,\\sigma_m$ the values in `s` .  \n",
    "\n",
    "Pick $k = 10$.  \n",
    "Calculate `approx =` $\\sum_{i=0}^{k-1} \\sigma_i{\\bf u}_i{\\bf v}_i^\\top$ and show the image.  \n",
    "Adjust $k$ to get a better quality if you wish.  "
   ]
  },
  {
   "cell_type": "code",
   "execution_count": null,
   "metadata": {},
   "outputs": [],
   "source": [
    "### your answer here\n",
    "U,s,Vh = LA.svd(arr)"
   ]
  },
  {
   "cell_type": "code",
   "execution_count": null,
   "metadata": {},
   "outputs": [],
   "source": [
    "k = 10\n",
    "Sigma = np.diag(s[:k])\n",
    "\n",
    "approx = U[:, :k].dot(Sigma).dot(Vh[:k])\n",
    "plt.imshow(approx, cmap = 'Greys_r')"
   ]
  },
  {
   "cell_type": "markdown",
   "metadata": {},
   "source": [
    "###### 4(c)\n",
    "Run  \n",
    "```python\n",
    "plt.plot(s)\n",
    "```\n",
    "and pick a reasonable $k$."
   ]
  },
  {
   "cell_type": "code",
   "execution_count": null,
   "metadata": {},
   "outputs": [],
   "source": [
    "### your answer here\n",
    "#plt.xscale(\"log\")\n",
    "plt.plot(s)"
   ]
  },
  {
   "cell_type": "code",
   "execution_count": null,
   "metadata": {},
   "outputs": [],
   "source": [
    "k = 50\n",
    "Sigma = np.diag(s[:k])\n",
    "\n",
    "approx = U[:, :k].dot(Sigma).dot(Vh[:k])\n",
    "plt.imshow(approx, cmap = 'Greys_r')"
   ]
  },
  {
   "cell_type": "markdown",
   "metadata": {},
   "source": [
    "##### Jephian\n",
    "\n",
    "Well done!"
   ]
  },
  {
   "cell_type": "markdown",
   "metadata": {},
   "source": [
    "#### Remark\n",
    "The array `arr` occupies $m\\times n$ units memory.  \n",
    "In contrast,  \n",
    "$\\lambda_0,\\ldots,\\lambda_{k-1}$ occupies $k$ units of memory,  \n",
    "${\\bf u}_0, \\ldots, {\\bf u}_{k-1}$ occupies $m\\times k$ units of memory, and   \n",
    "${\\bf v}_0, \\ldots, {\\bf v}_{k-1}$ occupies $n\\times k$ units of memory.  \n",
    "In total, `approx` can be stored with $(m+n+1)\\times k$ units of memory,  \n",
    "which is relatively small if $k$ is small."
   ]
  }
 ],
 "metadata": {
  "kernelspec": {
   "display_name": "Python 3 (ipykernel)",
   "language": "python",
   "name": "python3"
  },
  "language_info": {
   "codemirror_mode": {
    "name": "ipython",
    "version": 3
   },
   "file_extension": ".py",
   "mimetype": "text/x-python",
   "name": "python",
   "nbconvert_exporter": "python",
   "pygments_lexer": "ipython3",
   "version": "3.10.2"
  }
 },
 "nbformat": 4,
 "nbformat_minor": 4
}
