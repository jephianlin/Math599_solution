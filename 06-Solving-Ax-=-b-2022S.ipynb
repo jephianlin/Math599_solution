{
 "cells": [
  {
   "cell_type": "markdown",
   "metadata": {},
   "source": [
    "# Solving Ax = b"
   ]
  },
  {
   "cell_type": "markdown",
   "metadata": {},
   "source": [
    "![Creative Commons License](https://i.creativecommons.org/l/by/4.0/88x31.png)  \n",
    "This work by Jephian Lin is licensed under a [Creative Commons Attribution 4.0 International License](http://creativecommons.org/licenses/by/4.0/)."
   ]
  },
  {
   "cell_type": "code",
   "execution_count": null,
   "metadata": {},
   "outputs": [],
   "source": [
    "import numpy as np\n",
    "import matplotlib.pyplot as plt\n",
    "from mpl_toolkits import mplot3d\n",
    "import sympy"
   ]
  },
  {
   "cell_type": "markdown",
   "metadata": {},
   "source": [
    "## Main idea"
   ]
  },
  {
   "cell_type": "markdown",
   "metadata": {},
   "source": [
    "Let $A$ be an $m\\times n$ matrix.  The solution set of $A{\\bf x} = {\\bf b}$ is the intersection of the affine planes $\\langle {\\bf r}_i, {\\bf x}\\rangle = b_i$ for all $i=1,\\ldots,m$, where ${\\bf r}_i$ is the $i$-th row of $A$ and $b_i$ is the $i$-th entry of ${\\bf b}$.  \n",
    "Therefore, the solution set of $A$ is an affine space (shifted space).\n",
    "\n",
    "The solutions set of $A{\\bf x} = {\\bf b}$ is of the form:\n",
    "\n",
    "    general solutions = particular solution + homogeneous solutions\n",
    "    (a shifted space)      (a vector)              (a space)\n",
    "   \n",
    "Here \"general solution\" stands for all solutions of $A{\\bf x} = {\\bf b}$,  \n",
    "\"particular solution\" stands for one arbitrary solution of $A{\\bf x} = {\\bf b}$, and  \n",
    "\"homogeneous solutions\" stands for all solutions of $A{\\bf x} = {\\bf 0}$.\n",
    "\n",
    "Every matrix lead to its **reduced echelon form** after some **row operations**.  If $\\left[\\begin{array}{cc}R | {\\bf r}\\end{array}\\right]$ is the reduced echelon form of $\\left[\\begin{array}{cc}A | {\\bf b}\\end{array}\\right]$, then $A{\\bf x} = {\\bf b} = R{\\bf x} = {\\bf r}$."
   ]
  },
  {
   "cell_type": "markdown",
   "metadata": {},
   "source": [
    "## Side stories"
   ]
  },
  {
   "cell_type": "markdown",
   "metadata": {},
   "source": [
    "- $A{\\bf x} = {\\bf b} \\iff {\\bf b}\\in\\operatorname{Col}(A)$\n",
    "- matrix inverse"
   ]
  },
  {
   "cell_type": "markdown",
   "metadata": {},
   "source": [
    "## Experiments"
   ]
  },
  {
   "cell_type": "markdown",
   "metadata": {},
   "source": [
    "###### Exercise 1\n",
    "This exercise helps you to visualize the affine space $A{\\bf x} = {\\bf b}$.  \n",
    "Let  \n",
    "```python\n",
    "A = np.array([[1,1,1], \n",
    "              [1,1,1]])\n",
    "b = np.array([5,5])\n",
    "```"
   ]
  },
  {
   "cell_type": "markdown",
   "metadata": {},
   "source": [
    "###### 1(a)\n",
    "Use the techniques you learned in Lesson 2 to draw some random solutions of $A{\\bf x} = {\\bf b}$.  \n",
    "What is the nullity of $A$?  What is the \"dimension\" of the affine space?  \n",
    "Hint:  \n",
    "```python\n",
    "xs = 5*np.random.randn(3,10000)\n",
    "mask = (np.abs(b[:,np.newaxis] - A.dot(xs)) < 0.1).all(axis = 0)\n",
    "```"
   ]
  },
  {
   "cell_type": "code",
   "execution_count": null,
   "metadata": {
    "scrolled": false
   },
   "outputs": [],
   "source": [
    "### your answer here\n",
    "A = np.array([[1,1,1],\n",
    "              [1,1,1]])\n",
    "b = np.array([5,5])\n",
    "xs = 5*np.random.randn(3,10000)\n",
    "mask = (np.abs(b[:,np.newaxis] - A.dot(xs)) < 0.1).all(axis = 0)\n",
    "%matplotlib notebook\n",
    "ax = plt.axes(projection='3d')\n",
    "ax.scatter(xs[0,mask],xs[1,mask],xs[2,mask])"
   ]
  },
  {
   "cell_type": "markdown",
   "metadata": {},
   "source": [
    "##### Jephian\n",
    "\n",
    "You may use a new Markdown cell to answer the following questions.\n",
    "\n",
    "- What is the nullity of $A$? \n",
    "- What is the \"dimension\" of the affine space?"
   ]
  },
  {
   "cell_type": "markdown",
   "metadata": {},
   "source": [
    "###### 1(b)\n",
    "It is known that  \n",
    "```python\n",
    "p = np.array([5,0,0])\n",
    "```\n",
    "is a particular solution of $A{\\bf x} = {\\bf b}$.  \n",
    "Add a vector of `p` upon your previous drawing."
   ]
  },
  {
   "cell_type": "code",
   "execution_count": null,
   "metadata": {},
   "outputs": [],
   "source": [
    "### your answer here\n",
    "p = np.array([5,0,0])\n",
    "ax.quiver(0,0,0,5,0,0,color='orange')"
   ]
  },
  {
   "cell_type": "markdown",
   "metadata": {},
   "source": [
    "###### 1(c)\n",
    "Do the same for  \n",
    "```python\n",
    "b = np.array([5,6])\n",
    "```\n",
    "How many solutions are there?"
   ]
  },
  {
   "cell_type": "code",
   "execution_count": null,
   "metadata": {},
   "outputs": [],
   "source": [
    "### your answer here\n",
    "A = np.array([[1,1,1],\n",
    "              [1,1,1]])\n",
    "b = np.array([5,6])\n",
    "xs = 5*np.random.randn(3,10000)\n",
    "mask = (np.abs(b[:,np.newaxis] - A.dot(xs)) < 0.1).all(axis = 0)\n",
    "# %matplotlib notebook\n",
    "# ax = plt.axes(projection='3d')\n",
    "# ax.scatter(xs[0,mask],xs[1,mask],xs[2,mask])\n",
    "sum(mask)"
   ]
  },
  {
   "cell_type": "markdown",
   "metadata": {},
   "source": [
    "###### Exercise 2\n",
    "This exercise helps you to visualize the affine space $A{\\bf x} = {\\bf b}$.  \n",
    "Let  \n",
    "```python\n",
    "A = np.array([[1,1,1], \n",
    "              [1,1,1]])\n",
    "b = np.array([5,5])\n",
    "```"
   ]
  },
  {
   "cell_type": "markdown",
   "metadata": {},
   "source": [
    "###### 2(a)\n",
    "Draw the grid using the columns of $A$ and draw a vector for $b$.  \n",
    "Is $b$ in the column space of $A$?"
   ]
  },
  {
   "cell_type": "code",
   "execution_count": null,
   "metadata": {
    "scrolled": false
   },
   "outputs": [],
   "source": [
    "### your answer here\n",
    "A = np.array([[1,1,1], \n",
    "              [1,1,1]])\n",
    "b = np.array([5,5])\n",
    "a = np.array([[1],[1]])\n",
    "B = np.array([np.arange(-2,7)])\n",
    "c = a@B\n",
    "plt.scatter(c[0],c[1])\n",
    "plt.scatter(b[0],b[1],color='green')"
   ]
  },
  {
   "cell_type": "markdown",
   "metadata": {},
   "source": [
    "##### Jephian\n",
    "\n",
    "Add `%matplotlib inline` in front of your code so that it falls back to the inline mode.  \n",
    "For `b` , you are recommended to draw an arrow, which is the same case for 2(b)."
   ]
  },
  {
   "cell_type": "markdown",
   "metadata": {},
   "source": [
    "###### 2(b)\n",
    "Do the same for \n",
    "```python\n",
    "b = np.array([5,6])\n",
    "```\n",
    "Is $b$ in the column space of $A$?"
   ]
  },
  {
   "cell_type": "code",
   "execution_count": null,
   "metadata": {},
   "outputs": [],
   "source": [
    "### your answer here\n",
    "A = np.array([[1,1,1], \n",
    "              [1,1,1]])\n",
    "b = np.array([5,6])\n",
    "a = np.array([[1],[1]])\n",
    "B = np.array([np.arange(-2,7)])\n",
    "c = a@B\n",
    "plt.scatter(c[0],c[1])\n",
    "plt.scatter(b[0],b[1],color='green')"
   ]
  },
  {
   "cell_type": "markdown",
   "metadata": {},
   "source": [
    "#### Remark  \n",
    "Whether a particular solution exists depends only on whether ${\\bf b}$ is in the column space of $A$ or not.  \n",
    "We say a equation $A{\\bf x} = {\\bf b}$ is **consistent** if it has at least a particular solution.  \n",
    "\n",
    "Whether the homogeneous solutions contains only the trivial solution ${\\bf 0}$ depends only on $A$.  \n",
    "\n",
    "This table summarize the number of solutions of $A{\\bf x} = {\\bf b}$.\n",
    "\n",
    " hom \\ par | consistent | inconsistent \n",
    " --------- | ---------- | ------------ \n",
    " trivial | one | none \n",
    " nontrivial | infinite | none\n"
   ]
  },
  {
   "cell_type": "markdown",
   "metadata": {},
   "source": [
    "## Exercises"
   ]
  },
  {
   "cell_type": "markdown",
   "metadata": {},
   "source": [
    "##### Exercise 3\n",
    "Let  \n",
    "```python\n",
    "A = sympy.Matrix([[1,1], \n",
    "                  [-1,0],\n",
    "                  [0,-1]])\n",
    "b = sympy.Matrix([3,-2,-1])\n",
    "Ab = A.col_insert(2,b)\n",
    "```"
   ]
  },
  {
   "cell_type": "markdown",
   "metadata": {},
   "source": [
    "###### 3(a)\n",
    "Calculate the reduced echelon form of `Ab` .  \n",
    "Can you tell if  `b` is in the column space of `A` ?"
   ]
  },
  {
   "cell_type": "code",
   "execution_count": null,
   "metadata": {},
   "outputs": [],
   "source": [
    "### your answer here\n",
    "A = sympy.Matrix([[1,1], \n",
    "                  [-1,0],\n",
    "                  [0,-1]])\n",
    "b = sympy.Matrix([3,-2,-1])\n",
    "Ab = A.col_insert(2,b)\n",
    "Ab.rref()[0]\n",
    "# yes"
   ]
  },
  {
   "cell_type": "markdown",
   "metadata": {},
   "source": [
    "###### 3(b)\n",
    "Let  \n",
    "```python\n",
    "b = sympy.Matrix([1,2,3])\n",
    "```\n",
    "and update `Ab` .  \n",
    "Can you tell if `b` is in the column space of `A` ?"
   ]
  },
  {
   "cell_type": "code",
   "execution_count": null,
   "metadata": {},
   "outputs": [],
   "source": [
    "### your answer here\n",
    "A = sympy.Matrix([[1,1], \n",
    "                  [-1,0],\n",
    "                  [0,-1]])\n",
    "b = sympy.Matrix([1,2,3])\n",
    "Ab = A.col_insert(2,b)\n",
    "Ab.rref()[0]\n",
    "# no"
   ]
  },
  {
   "cell_type": "markdown",
   "metadata": {},
   "source": [
    "##### Jephian\n",
    "\n",
    "Beyond yes and no, you have to give some reason for your answers.  "
   ]
  },
  {
   "cell_type": "markdown",
   "metadata": {},
   "source": [
    "##### Exercise 4\n",
    "Let  \n",
    "```python\n",
    "A = sympy.Matrix([[1,1,1], \n",
    "                  [1,2,4], \n",
    "                  [1,3,9]])\n",
    "b1 = sympy.Matrix([1,0,0])\n",
    "```"
   ]
  },
  {
   "cell_type": "markdown",
   "metadata": {},
   "source": [
    "###### 4(a)\n",
    "If a matrix has no free variable, then the homogeneous solution is trivial.  \n",
    "Find the unique solution of $A{\\bf x} = {\\bf b}_1$."
   ]
  },
  {
   "cell_type": "code",
   "execution_count": null,
   "metadata": {},
   "outputs": [],
   "source": [
    "### your answer here\n",
    "A = np.array([[1,1,1], \n",
    "                  [1,2,4], \n",
    "                  [1,3,9]])\n",
    "b1 = np.array([1,0,0])\n",
    "B=np.linalg.inv(A)\n",
    "B@b1"
   ]
  },
  {
   "cell_type": "markdown",
   "metadata": {},
   "source": [
    "##### Jephian\n",
    "\n",
    "Alternatively, you may do the algebraic computation as follows.\n",
    "\n",
    "```python\n",
    "A = sympy.Matrix([[1,1,1], \n",
    "                  [1,2,4], \n",
    "                  [1,3,9]])\n",
    "b1 = sympy.Matrix([1,0,0])\n",
    "Ab1 = A.col_insert(3, b1)\n",
    "Rr = Ab1.rref()[0]\n",
    "sol = Rr[:,3] \n",
    "sol\n",
    "```"
   ]
  },
  {
   "cell_type": "markdown",
   "metadata": {},
   "source": [
    "###### 4(b)\n",
    "Let  \n",
    "```python\n",
    "b2 = sympy.Matrix([0,1,0])\n",
    "Ab = A.col_insert(3,b1)\n",
    "Abb = Ab.col_insert(4,b2)\n",
    "```\n",
    "Can you use `Abb` to solve the solutions of $A{\\bf x} = {\\bf b}_1$ and $A{\\bf x} = {\\bf b}_2$ at once?"
   ]
  },
  {
   "cell_type": "code",
   "execution_count": null,
   "metadata": {},
   "outputs": [],
   "source": [
    "### your answer here\n",
    "A = sympy.Matrix([[1,1,1], \n",
    "                  [1,2,4], \n",
    "                  [1,3,9]])\n",
    "b1 = sympy.Matrix([1,0,0])\n",
    "b2 = sympy.Matrix([0,1,0])\n",
    "Ab = A.col_insert(4,b1)\n",
    "Abb = Ab.col_insert(5,b2)\n",
    "Abb.rref()[0]\n",
    "#yes"
   ]
  },
  {
   "cell_type": "markdown",
   "metadata": {},
   "source": [
    "##### Jephian\n",
    "\n",
    "Beyond yes, what are the solutions?  \n",
    "Do  \n",
    "```python\n",
    "Rr = Abb.rref()[0]\n",
    "x1 = Rr[:,3]\n",
    "x2 = Rr[:,4]\n",
    "```"
   ]
  },
  {
   "cell_type": "markdown",
   "metadata": {},
   "source": [
    "###### 4(c)\n",
    "Let  \n",
    "```python\n",
    "b3 = sympy.Matrix([0,0,1])\n",
    "```  \n",
    "Solve the solutions of $A{\\bf x} = {\\bf b}_1$,  $A{\\bf x} = {\\bf b}_2$, and $A{\\bf x} = {\\bf b}_3$ at once."
   ]
  },
  {
   "cell_type": "code",
   "execution_count": null,
   "metadata": {},
   "outputs": [],
   "source": [
    "### your answer here\n",
    "A = sympy.Matrix([[1,1,1], \n",
    "                  [1,2,4], \n",
    "                  [1,3,9]])\n",
    "b1 = sympy.Matrix([1,0,0])\n",
    "b2 = sympy.Matrix([0,1,0])\n",
    "b3 = sympy.Matrix([0,0,1])\n",
    "Ab = A.col_insert(4,b1)\n",
    "Abb = Ab.col_insert(5,b2)\n",
    "Abbb = Abb.col_insert(6,b3)\n",
    "Abbb.rref()[0]"
   ]
  },
  {
   "cell_type": "markdown",
   "metadata": {},
   "source": [
    "##### Jephian\n",
    "\n",
    "Again, you have to tell what are your solutions."
   ]
  },
  {
   "cell_type": "markdown",
   "metadata": {},
   "source": [
    "###### 4(d)\n",
    "Let  \n",
    "$$ B = \\begin{bmatrix} \n",
    " | & ~ & | \\\\\n",
    " {\\bf b}_1 & \\cdots & {\\bf b}_3 \\\\\n",
    " | & ~ & | \n",
    " \\end{bmatrix}.$$\n",
    " Find a matrix $X$ such that $AX = B$.  \n",
    " When $B$ is the identity matrix  \n",
    "$$ I_n = \\begin{bmatrix} \n",
    " 1 & ~ & ~ \\\\\n",
    " ~ & \\ddots & ~ \\\\\n",
    " ~ & ~ & 1 \n",
    " \\end{bmatrix},$$\n",
    " the matrix $X$ with $AX = I_n$ is called the **inverse** of $A$, denoted by $A^{-1}$."
   ]
  },
  {
   "cell_type": "code",
   "execution_count": null,
   "metadata": {},
   "outputs": [],
   "source": [
    "### your answer here\n",
    "A = sympy.Matrix([[1,1,1], \n",
    "                  [1,2,4], \n",
    "                  [1,3,9]])\n",
    "B =sympy.eye(3)\n",
    "Ab = A.col_insert(4,B)\n",
    "Ab.rref()[0]"
   ]
  },
  {
   "cell_type": "markdown",
   "metadata": {},
   "source": [
    "##### Jephian\n",
    "\n",
    "Again, you have to tell what are your solutions."
   ]
  },
  {
   "cell_type": "markdown",
   "metadata": {},
   "source": [
    "###### 4(e)\n",
    "Compare your answer in 4(d) with the output of `np.linalg.inv(A)` ."
   ]
  },
  {
   "cell_type": "code",
   "execution_count": null,
   "metadata": {},
   "outputs": [],
   "source": [
    "### your answer here\n",
    "A = np.array([[1,1,1], \n",
    "                  [1,2,4], \n",
    "                  [1,3,9]])\n",
    "B = np.linalg.inv(A)\n",
    "print(B)"
   ]
  },
  {
   "cell_type": "markdown",
   "metadata": {},
   "source": [
    "##### Exercise 5\n",
    "Let  \n",
    "```python\n",
    "A = sympy.Matrix([[1,3,3,18], \n",
    "                  [5,15,16,95], \n",
    "                   [-5,-15,-15,-90]])\n",
    "R,pvts = A.rref()\n",
    "```"
   ]
  },
  {
   "cell_type": "markdown",
   "metadata": {},
   "source": [
    "###### 5(a)\n",
    "Let $B$ be the matrix whose columns are the columns of $A$ the corresponding to leading variables.  \n",
    "Pick a column of $A$ corresponding a free variable.  \n",
    "Check that the column is in the column space of $B$.  \n",
    "(If yes, this means this column is redundant for generating the column space of $A$.)"
   ]
  },
  {
   "cell_type": "code",
   "execution_count": null,
   "metadata": {},
   "outputs": [],
   "source": [
    "A = sympy.Matrix([[1,3,3,18], \n",
    "                  [5,15,16,95], \n",
    "                   [-5,-15,-15,-90]])\n",
    "R,pvts = A.rref()"
   ]
  },
  {
   "cell_type": "code",
   "execution_count": null,
   "metadata": {},
   "outputs": [],
   "source": [
    "### your answer here\n",
    "A = sympy.Matrix([[1,3,3,18], \n",
    "                  [5,15,16,95], \n",
    "                   [-5,-15,-15,-90]])\n",
    "A1 = A.rref()[0]\n",
    "B = A1[:,pvts]\n",
    "print(A1)\n",
    "print(B)\n",
    "# R,pvts = A.rref()\n",
    "# freeA = A[:,[1,3]]\n",
    "# B = A[:,pvts] #pvts=(0,2)\n",
    "# B1 = B.col_insert(2,freeA)\n",
    "# B1.rref()[0]\n",
    "# freeA[0] = 3*B[0],freeA[1] = 3*B[0]+5*B[1]"
   ]
  },
  {
   "cell_type": "markdown",
   "metadata": {},
   "source": [
    "##### Jephian\n",
    "\n",
    "I do not see your answer.\n",
    "\n",
    "Also, include  \n",
    "```python\n",
    "A = sympy.Matrix([[1,3,3,18], \n",
    "                  [5,15,16,95], \n",
    "                   [-5,-15,-15,-90]])\n",
    "R,pvts = A.rref()\n",
    "```\n",
    "in your code.  "
   ]
  },
  {
   "cell_type": "markdown",
   "metadata": {},
   "source": [
    "###### 5(b)\n",
    "Check if $B$ itself has any redundant column."
   ]
  },
  {
   "cell_type": "code",
   "execution_count": null,
   "metadata": {},
   "outputs": [],
   "source": [
    "### your answer here\n",
    "B.rref()[0]\n",
    "# no"
   ]
  },
  {
   "cell_type": "markdown",
   "metadata": {},
   "source": [
    "##### Jephian\n",
    "\n",
    "Add some explanations."
   ]
  },
  {
   "cell_type": "markdown",
   "metadata": {},
   "source": [
    "#### Remark\n",
    "Let $S = \\{{\\bf u}_1, \\ldots, {\\bf u}_n\\}$ be a collection of vectors and $A$ the matrix whose columns are $S$.  \n",
    "We say $S$ is **linearly independent** if one of the following equivalent condition holds:\n",
    "- $c_1{\\bf u}_1 + \\cdots + c_n{\\bf u}_n = {\\bf 0}$ only have trivial solution $c_1 = \\cdots = c_n = 0$.\n",
    "- $A{\\bf x} = {\\bf 0}$ only have trivial solution ${\\bf x} = 0$.\n",
    "- $A$ has no free variable.\n",
    "\n",
    "Moreover, if a space $V$ is equal to$\\operatorname{span}(S)$ and $S$ is linearly independent, then we say $S$ is a **basis** of the the space $V$."
   ]
  },
  {
   "cell_type": "markdown",
   "metadata": {},
   "source": [
    "##### Exercise 6\n",
    "Let  \n",
    "```python\n",
    "A = sympy.Matrix([[1,1,1], \n",
    "                  [-1,0,0],\n",
    "                  [0,-1,0],\n",
    "                  [0,0,-1]])\n",
    "```\n",
    "Check if the columns of $A$ form a linearly independent set."
   ]
  },
  {
   "cell_type": "code",
   "execution_count": null,
   "metadata": {},
   "outputs": [],
   "source": [
    "### your answer here\n",
    "A = sympy.Matrix([[1,1,1], \n",
    "                  [-1,0,0],\n",
    "                  [0,-1,0],\n",
    "                  [0,0,-1]])\n",
    "A.rref()[0]\n",
    "# no"
   ]
  },
  {
   "cell_type": "markdown",
   "metadata": {},
   "source": [
    "##### Exercise 7\n",
    "```python\n",
    "A = sympy.Matrix([[1,3,3,18], \n",
    "                  [5,15,16,95], \n",
    "                  [-5,-15,-15,-90]])\n",
    "R,pvts = A.rref()\n",
    "```\n",
    "Check what is `A.nullspace()`, `A.rowspace()`, and `A.columnspace()` and think about their meaning.  "
   ]
  },
  {
   "cell_type": "code",
   "execution_count": null,
   "metadata": {},
   "outputs": [],
   "source": [
    "### your answer here\n",
    "A = sympy.Matrix([[1,3,3,18], \n",
    "                  [5,15,16,95], \n",
    "                  [-5,-15,-15,-90]])\n",
    "R,pvts = A.rref()\n",
    "print(A.nullspace())\n",
    "print(A.rowspace())\n",
    "print(A.columnspace())\n",
    "R"
   ]
  },
  {
   "cell_type": "markdown",
   "metadata": {},
   "source": [
    "##### Jephian\n",
    "\n",
    "What are your answers?"
   ]
  },
  {
   "cell_type": "markdown",
   "metadata": {},
   "source": [
    "#### Remark\n",
    "Since it is impossible to output a space, the three commands in Exercise 7 in fact outputs the basis of the space only, which is enough.\n",
    "\n",
    "**Nullspace**: its basis consists of ${\\bf h}$'s in the previous lesson.  \n",
    "**Rowspace**: its basis consists of the rows of $R$ corresponding to the pivots.  \n",
    "**Columnspace**: its basis consists of the columns of $A$ corresponding to the pivots."
   ]
  }
 ],
 "metadata": {
  "kernelspec": {
   "display_name": "Python 3 (ipykernel)",
   "language": "python",
   "name": "python3"
  },
  "language_info": {
   "codemirror_mode": {
    "name": "ipython",
    "version": 3
   },
   "file_extension": ".py",
   "mimetype": "text/x-python",
   "name": "python",
   "nbconvert_exporter": "python",
   "pygments_lexer": "ipython3",
   "version": "3.10.2"
  }
 },
 "nbformat": 4,
 "nbformat_minor": 4
}
