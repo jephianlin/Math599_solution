{
 "cells": [
  {
   "cell_type": "markdown",
   "metadata": {},
   "source": [
    "# DBSCAN from scratch"
   ]
  },
  {
   "cell_type": "markdown",
   "metadata": {},
   "source": [
    "![Creative Commons License](https://i.creativecommons.org/l/by/4.0/88x31.png)  \n",
    "This work by Jephian Lin is licensed under a [Creative Commons Attribution 4.0 International License](http://creativecommons.org/licenses/by/4.0/)."
   ]
  },
  {
   "cell_type": "code",
   "execution_count": null,
   "metadata": {},
   "outputs": [],
   "source": [
    "import numpy as np\n",
    "import matplotlib.pyplot as plt"
   ]
  },
  {
   "cell_type": "markdown",
   "metadata": {},
   "source": [
    "## Algorithm\n",
    "**Input:**  \n",
    "- `X`: an array of shape `(N,d)` whose rows are samples and columns are features\n",
    "- `eps`: the $\\epsilon$ used for finding neighborhood\n",
    "- `min_samples`: a sample is considered as a core sample if its $\\epsilon$-ball contains at least `min_sample` samples (including itself)\n",
    "- `draw`: boolean, return a illustrative figure or not\n",
    "\n",
    "**Output:**  \n",
    "A tuple `(y_new, core_indices, fig)`  or `(y_new, core_indices)` depending on `draw` or not.    \n",
    "- `y_new`: an array of shape `(N,)` that records the labels in of each sample, where `-1` stands for a noise \n",
    "- `core_indices`: an array of shape `(n_core_samples,)` that stores the indices of the core samples\n",
    "- `fig`: an illustrative figure showing the data points, DFS tree, core samples, and noises\n",
    "\n",
    "**Steps:**\n",
    "1. Build a list `nbrhoods` whose `i`-th element is the array of the indices of its neighbors.  \n",
    "Here two points are neighbors if the distance between them is less than or equal to `eps` .  \n",
    "A point is considered as its neighbor.\n",
    "2. If sample `i` has at least `min_samples` neighbors, then it is called a core sample.  \n",
    "Store the indices of core samples in the array `core_indices` .\n",
    "3. Set `label_num = 0`.  Label every sample as with `-1`.  For each sample `i`, do the following [DFS](https://en.wikipedia.org/wiki/Depth-first_search):\n",
    "    1. if sample `i` is a core labeled by `-1`, label it with `label_num`; otherwise, skip the following steps and move on the the next sample.\n",
    "    2. let `stack = [i]`\n",
    "    3. take (and remove) the last element `j` in `stack`\n",
    "    4. if `j` is labeled by `-1`, label it with `label_num`; moreover, if `j` is a core, insert the neighbors of `j` at the end of `stack`  \n",
    "    5. repeat Steps C, D, E until `stack` is empty\n",
    "    6. `label_num += 1`"
   ]
  },
  {
   "cell_type": "markdown",
   "metadata": {},
   "source": [
    "## Pseudocode\n",
    "Translate the algorithm into the pseudocode.  \n",
    "This helps you to identify the parts that you don't know how to do it.  "
   ]
  },
  {
   "cell_type": "markdown",
   "metadata": {},
   "source": [
    "    1. \n",
    "    2. \n",
    "    3. ..."
   ]
  },
  {
   "cell_type": "markdown",
   "metadata": {},
   "source": [
    "## Code"
   ]
  },
  {
   "cell_type": "code",
   "execution_count": null,
   "metadata": {},
   "outputs": [],
   "source": [
    "from sklearn.cluster import DBSCAN\n",
    "dbs = DBSCAN\n",
    "del DBSCAN"
   ]
  },
  {
   "cell_type": "code",
   "execution_count": null,
   "metadata": {},
   "outputs": [],
   "source": [
    "### your answer here\n",
    "import matplotlib.animation as animation\n",
    "import matplotlib.cm as cm\n",
    "\n",
    "def DBSCAN_animation(X, y_new, animation_array, interval=10, **kwargs):\n",
    "    fig, ax = plt.subplots()\n",
    "    ax.scatter(*X.T, c='k')\n",
    "    colors = cm.rainbow(np.linspace(0, 1, (max(y_new) + 1) * 2))\n",
    "    def animate(step):\n",
    "        if step[0] == 'arrow':\n",
    "            ax.arrow(*step[1][0], *(step[1][1] - step[1][0]), color='k', head_width=0.07, length_includes_head=True, **kwargs)\n",
    "        elif step[0] == 'core':\n",
    "            ax.scatter(*step[1], c=colors[step[2]], **kwargs)\n",
    "        elif step[0] == 'not core':\n",
    "            ax.scatter(*step[1], c=colors[-(step[2] + 1)], **kwargs)\n",
    "        elif step[0] == 'outlier':\n",
    "            ax.scatter(*step[1], c='k', s=100, marker='x', **kwargs)\n",
    "    return animation.FuncAnimation(fig, animate, animation_array, interval=interval, repeat=False)\n",
    "\n",
    "def DBSCAN(X, eps, min_samples, animation=False, **kwargs):\n",
    "    nbrhoods = [[] for i in range(X.shape[0])]\n",
    "    for i in range(X.shape[0] - 1):\n",
    "        for j in range(i + 1, X.shape[0]):\n",
    "            if np.linalg.norm(X[i] - X[j]) < eps:\n",
    "                nbrhoods[i].append(j)\n",
    "                nbrhoods[j].append(i)\n",
    "    is_core = [l >= min_samples - 1 for l in map(len, nbrhoods)]\n",
    "    label_num = 0\n",
    "    y_new = [-1] * X.shape[0]\n",
    "    animation_array = []\n",
    "    for i in range(X.shape[0]):\n",
    "        if not is_core[i] or y_new[i] != -1:\n",
    "            continue\n",
    "        stack = [i]\n",
    "        y_new[i] = label_num\n",
    "        if animation:\n",
    "            animation_array.append(('core', X[i], label_num))\n",
    "        while stack:\n",
    "            current_node = stack[-1]\n",
    "            if not nbrhoods[current_node]:\n",
    "                stack.pop()\n",
    "                continue\n",
    "            next_node = nbrhoods[current_node].pop()\n",
    "            if y_new[next_node] != -1:\n",
    "                continue\n",
    "            y_new[next_node] = label_num\n",
    "            if animation:\n",
    "                animation_array.append(('arrow', (X[current_node], X[next_node]), label_num))\n",
    "            if not is_core[next_node]:\n",
    "                if animation:\n",
    "                    animation_array.append(('not core', X[next_node], label_num))\n",
    "                continue\n",
    "            stack.append(next_node)\n",
    "            if animation:\n",
    "                animation_array.append(('core', X[next_node], label_num))\n",
    "        label_num += 1\n",
    "    if animation:\n",
    "        for i, y in enumerate(y_new):\n",
    "            if y == -1:\n",
    "                animation_array.append(('outlier', X[i], -1))\n",
    "    if animation:\n",
    "        return DBSCAN_animation(X, y_new, animation_array, **kwargs)\n",
    "    return y_new, [i for i, core in enumerate(is_core) if core]"
   ]
  },
  {
   "cell_type": "markdown",
   "metadata": {},
   "source": [
    "## Test\n",
    "Take some sample data from [DBSCAN-with-scikit-learn](DBSCAN-with-scikit-learn.ipynb) and check if your code generates similar outputs with the existing packages."
   ]
  },
  {
   "cell_type": "markdown",
   "metadata": {},
   "source": [
    "##### Name of the data\n",
    "Description of the data."
   ]
  },
  {
   "cell_type": "markdown",
   "metadata": {},
   "source": [
    "##### Jephian:\n",
    "You are supposed to add some description of the data here."
   ]
  },
  {
   "cell_type": "code",
   "execution_count": null,
   "metadata": {},
   "outputs": [],
   "source": [
    "# test data\n",
    "mu1 = np.array([2.5,0])\n",
    "cov1 = np.array([[1.1,-1],\n",
    "                [-1,1.1]])\n",
    "mu2 = np.array([-2.5,0])\n",
    "cov2 = np.array([[1.1,1],\n",
    "                [1,1.1]])\n",
    "X = np.vstack([np.random.multivariate_normal(mu1, cov1, 100), \n",
    "               np.random.multivariate_normal(mu2, cov2, 100)])"
   ]
  },
  {
   "cell_type": "code",
   "execution_count": null,
   "metadata": {
    "scrolled": false
   },
   "outputs": [],
   "source": [
    "# animation\n",
    "%matplotlib notebook\n",
    "DBSCAN(X, eps = 0.5, min_samples = 5, animation = True, interval = 5)"
   ]
  },
  {
   "cell_type": "code",
   "execution_count": null,
   "metadata": {},
   "outputs": [],
   "source": [
    "### results with your code\n",
    "y_my, core = DBSCAN(X, eps = 0.5, min_samples = 5)"
   ]
  },
  {
   "cell_type": "code",
   "execution_count": null,
   "metadata": {},
   "outputs": [],
   "source": [
    "### results with existing packages\n",
    "model = dbs(eps = 0.5, min_samples = 5)\n",
    "y_new = model.fit_predict(X)"
   ]
  },
  {
   "cell_type": "markdown",
   "metadata": {},
   "source": [
    "## Comparison"
   ]
  },
  {
   "cell_type": "markdown",
   "metadata": {},
   "source": [
    "##### Exercise 1\n",
    "With the same `eps` and `min_samples`, the array `core_indices` generated by your function is supposed to be the same as `model.core_sample_indices_` .  \n",
    "Check if this is true."
   ]
  },
  {
   "cell_type": "code",
   "execution_count": null,
   "metadata": {
    "scrolled": false
   },
   "outputs": [],
   "source": [
    "### your answer here\n",
    "print((core == model.core_sample_indices_).all())"
   ]
  },
  {
   "cell_type": "markdown",
   "metadata": {},
   "source": [
    "##### Exercise 2\n",
    "Let `core_indices` be the array generated by your function.  \n",
    "Then `X[core_indices]` is supposed to be the same as `model.components_` .  \n",
    "Check if this is true."
   ]
  },
  {
   "cell_type": "code",
   "execution_count": null,
   "metadata": {},
   "outputs": [],
   "source": [
    "### your answer here\n",
    "print((X[core] == model.components_).all())"
   ]
  },
  {
   "cell_type": "markdown",
   "metadata": {},
   "source": [
    "##### Exercise 3\n",
    "Let `y_my` be the output label of your function.  \n",
    "Let `y_new` be the label given by `sklearn.cluster.DBSCAN` ."
   ]
  },
  {
   "cell_type": "markdown",
   "metadata": {},
   "source": [
    "###### 3(a)\n",
    "The noices `y_my == -1` and `y_new == -1` are supposed to be the same.  \n",
    "Check if this is true."
   ]
  },
  {
   "cell_type": "code",
   "execution_count": null,
   "metadata": {
    "scrolled": true
   },
   "outputs": [],
   "source": [
    "### your answer here\n",
    "y_my = np.array(y_my)\n",
    "print(((y_new == -1) == (y_my == -1)).all()) "
   ]
  },
  {
   "cell_type": "markdown",
   "metadata": {},
   "source": [
    "###### 3(b)\n",
    "Although `y_my` and `y_new` might be different, they indicate the same clustering.  \n",
    "That is, the partitions are the same, but a group my have different labels in `y_my` and `y_new` .  \n",
    "Check if this is true."
   ]
  },
  {
   "cell_type": "code",
   "execution_count": null,
   "metadata": {
    "scrolled": false
   },
   "outputs": [],
   "source": [
    "### your answer here\n",
    "%matplotlib inline\n",
    "\n",
    "fig1 = plt.figure()\n",
    "ax1 = fig1.add_subplot(1,1,1)\n",
    "fig2 = plt.figure()\n",
    "ax2 = fig2.add_subplot(1,1,1)\n",
    "\n",
    "fig1.suptitle(\"My DBSCAN\")\n",
    "ax1.scatter(*X.T, c=y_my)\n",
    "ax1.scatter(*X[y_my == -1].T, c='k', s=100, marker='x')\n",
    "\n",
    "fig2.suptitle(\"sklearn DBSCAN\")\n",
    "ax2.scatter(*X.T, c=y_new)\n",
    "ax2.scatter(*X[y_my == -1].T, c='k', s=100, marker='x')"
   ]
  },
  {
   "cell_type": "markdown",
   "metadata": {},
   "source": [
    "##### Jephian:\n",
    "Well done."
   ]
  },
  {
   "cell_type": "code",
   "execution_count": null,
   "metadata": {},
   "outputs": [],
   "source": []
  }
 ],
 "metadata": {
  "kernelspec": {
   "display_name": "Python 3",
   "language": "python",
   "name": "python3"
  },
  "language_info": {
   "codemirror_mode": {
    "name": "ipython",
    "version": 3
   },
   "file_extension": ".py",
   "mimetype": "text/x-python",
   "name": "python",
   "nbconvert_exporter": "python",
   "pygments_lexer": "ipython3",
   "version": "3.9.4"
  }
 },
 "nbformat": 4,
 "nbformat_minor": 4
}
