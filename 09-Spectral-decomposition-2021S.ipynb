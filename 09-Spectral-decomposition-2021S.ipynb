{
 "cells": [
  {
   "cell_type": "markdown",
   "metadata": {},
   "source": [
    "# Spectral decomposition"
   ]
  },
  {
   "cell_type": "markdown",
   "metadata": {},
   "source": [
    "![Creative Commons License](https://i.creativecommons.org/l/by/4.0/88x31.png)  \n",
    "This work by Jephian Lin is licensed under a [Creative Commons Attribution 4.0 International License](http://creativecommons.org/licenses/by/4.0/)."
   ]
  },
  {
   "cell_type": "code",
   "execution_count": null,
   "metadata": {},
   "outputs": [],
   "source": [
    "import numpy as np\n",
    "import matplotlib.pyplot as plt\n",
    "from mpl_toolkits import mplot3d\n",
    "from scipy import linalg as LA\n",
    "import sympy"
   ]
  },
  {
   "cell_type": "code",
   "execution_count": null,
   "metadata": {},
   "outputs": [],
   "source": [
    "def spec_decom(A, tol=0.0001):                            ### A:symmeetric matrix\n",
    "    n = A.shape[0]\n",
    "    vals,vecs = LA.eigh(A)                                ### eigenvalues and corresponding eigenvectors of A\n",
    "\n",
    "    inds = np.where((vals[1:] - vals[:-1]) > tol)[0]      ### the index that the eigenvalue are different from next \n",
    "    starts = np.hstack([np.array([0]), inds+1])           ### the start index of each distinct eigenvalue \n",
    "    ends = np.hstack([inds+1, np.array([n])])             ### the end index of each distinct eigenvalue+1\n",
    "    \n",
    "    dist_vals = vals[starts]                              ### the set of distinct eigenvalues\n",
    "    projs = np.zeros((len(dist_vals), n, n))              ### construct (number of distinct eigenvalues) n*n matrix\n",
    "    i = 0\n",
    "    for s,e in zip(starts,ends):\n",
    "        space = vecs[:,s:e]                               ### the matrix whose columns are the eigenvectors for the corresponding eigenvalues\n",
    "        projs[i] = space.dot(space.T)                     ### the projection matrix for the eigenspace\n",
    "        i += 1\n",
    "    \n",
    "    return dist_vals, projs                               ### return the distinct eigenvalues and each projection matrix"
   ]
  },
  {
   "cell_type": "markdown",
   "metadata": {},
   "source": [
    "## Main idea"
   ]
  },
  {
   "cell_type": "markdown",
   "metadata": {},
   "source": [
    "A matrix $A$ is **symmetric** if $A^\\top = A$.  \n",
    "\n",
    "Every symmetric matrix $A$ can be written as  \n",
    "$$ A = \\sum_{i=1}^q \\lambda_i P_i$$\n",
    "such that $\\sum_{i=1}^q P_i = I$, $P_iP_j = O$ if $i\\neq j$, and $P_i^2 = P_i$.  \n",
    "This is called the **spectral decomposition** of $A$.  \n",
    "\n",
    "Each $P_i$ is in fact a projection matrix onto a space $E_i$.  \n",
    "For any vector ${\\bf v}$ in $E_i$, $A{\\bf v} = \\lambda_i{\\bf v}$.  \n",
    "We call $\\lambda_i$ an **eigenvalue** ,  \n",
    "call ${\\bf v}$ an **eigenvector** ,  \n",
    "and $E_i$ an **eigenspace** of $A$."
   ]
  },
  {
   "cell_type": "markdown",
   "metadata": {},
   "source": [
    "### Note\n",
    "$$ A = \\sum_{i=1}^q \\lambda_i V_i {V_i}^\\top $$ where $V_i$ is the matrix whose columns are the eigenvectors corresponding to $\\lambda_i$"
   ]
  },
  {
   "cell_type": "markdown",
   "metadata": {},
   "source": [
    "## Side stories"
   ]
  },
  {
   "cell_type": "markdown",
   "metadata": {},
   "source": [
    "- eigenvalue, eigenvector, eigenspace\n",
    "- spectral decomposition = projection then scale"
   ]
  },
  {
   "cell_type": "markdown",
   "metadata": {},
   "source": [
    "## Experiments"
   ]
  },
  {
   "cell_type": "markdown",
   "metadata": {},
   "source": [
    "###### Exercise 1\n",
    "Let  \n",
    "```python\n",
    "A = np.ones((5,5), dtype=float) - np.eye(5, dtype=float)\n",
    "v1 = np.ones((5,), dtype=float)\n",
    "v2 = np.array([1,-1,0,0,0], dtype=float)\n",
    "```"
   ]
  },
  {
   "cell_type": "markdown",
   "metadata": {},
   "source": [
    "###### 1(a)\n",
    "Check if ${\\bf v}_1$ is an eigenvector of $A$.  \n",
    "If yes, what is the eigenvalue?"
   ]
  },
  {
   "cell_type": "code",
   "execution_count": null,
   "metadata": {},
   "outputs": [],
   "source": [
    "A = np.ones((5,5), dtype=float) - np.eye(5, dtype=float)\n",
    "v1 = np.ones((5,), dtype=float)\n",
    "v2 = np.array([1,-1,0,0,0], dtype=float)\n",
    "Av1 = np.dot(A,v1)\n",
    "v1,Av1"
   ]
  },
  {
   "cell_type": "code",
   "execution_count": null,
   "metadata": {},
   "outputs": [],
   "source": [
    "Av1==4*v1"
   ]
  },
  {
   "cell_type": "markdown",
   "metadata": {},
   "source": [
    "yes, eigenvalue = 4"
   ]
  },
  {
   "cell_type": "markdown",
   "metadata": {},
   "source": [
    "###### 1(b)\n",
    "Check if the $i$-th entry of ${\\bf v}_2$ is zero then the $i$-th entry of $A{\\bf v}_2$ is also zero.  "
   ]
  },
  {
   "cell_type": "code",
   "execution_count": null,
   "metadata": {},
   "outputs": [],
   "source": [
    "Av2 = np.dot(A,v2)\n",
    "v2,Av2"
   ]
  },
  {
   "cell_type": "markdown",
   "metadata": {},
   "source": [
    "yes"
   ]
  },
  {
   "cell_type": "markdown",
   "metadata": {},
   "source": [
    "###### 1(c)\n",
    "Check if ${\\bf v}_2$ is an eigenvector of $A$.  \n",
    "If yes, what is the eigenvalue?"
   ]
  },
  {
   "cell_type": "code",
   "execution_count": null,
   "metadata": {},
   "outputs": [],
   "source": [
    "Av2==-1*v2"
   ]
  },
  {
   "cell_type": "markdown",
   "metadata": {},
   "source": [
    "yes, eigenvalue = -1"
   ]
  },
  {
   "cell_type": "markdown",
   "metadata": {},
   "source": [
    "###### Exercise 2\n",
    "Let  \n",
    "```python\n",
    "A = np.array([[2,-1,-1],\n",
    "              [-1,2,-1],\n",
    "              [-1,-1,2]]) / 3\n",
    "v1 = np.array([1,1,1])\n",
    "v2 = np.array([1,-1,0])\n",
    "```\n",
    "Since checking the zero is tiring, we will use a different approach to test whether a vector is an eigenvector.  \n",
    "The following are equivalent:  \n",
    "- $A{\\bf v} = \\lambda{\\bf v}$ for some $\\lambda$\n",
    "- $A{\\bf v}$ is a multiple of ${\\bf v}$\n",
    "- $A{\\bf v}$ and ${\\bf v}$ are parallel (zero vectors are considered to be parallel to any vector)\n",
    "- $|\\langle A{\\bf v}, {\\bf v}\\rangle| = \\|A{\\bf v}\\|\\|{\\bf v}\\|$"
   ]
  },
  {
   "cell_type": "markdown",
   "metadata": {},
   "source": [
    "###### 2(a)\n",
    "Compute $|\\langle A{\\bf v}_1, {\\bf v}_1\\rangle|$ and $\\|A{\\bf v}_1\\|\\|{\\bf v}_1\\|$.  \n",
    "Then see if they are close."
   ]
  },
  {
   "cell_type": "code",
   "execution_count": null,
   "metadata": {},
   "outputs": [],
   "source": [
    "A = np.array([[2,-1,-1],\n",
    "              [-1,2,-1],\n",
    "              [-1,-1,2]]) / 3\n",
    "v1 = np.array([1,1,1])\n",
    "v2 = np.array([1,-1,0])\n",
    "Av1 = A.dot(v1)"
   ]
  },
  {
   "cell_type": "code",
   "execution_count": null,
   "metadata": {},
   "outputs": [],
   "source": [
    "dot = np.abs(np.dot(Av1,v1))\n",
    "norm = np.linalg.norm(Av1)*np.linalg.norm(v1)\n",
    "dot,norm"
   ]
  },
  {
   "cell_type": "markdown",
   "metadata": {},
   "source": [
    "yes, they are close"
   ]
  },
  {
   "cell_type": "markdown",
   "metadata": {},
   "source": [
    "###### 2(b)\n",
    "Do the same for ${\\bf v}_2$."
   ]
  },
  {
   "cell_type": "code",
   "execution_count": null,
   "metadata": {},
   "outputs": [],
   "source": [
    "Av2 = A.dot(v2)\n",
    "dot = np.abs(np.dot(Av2,v2))\n",
    "norm = np.linalg.norm(Av2)*np.linalg.norm(v2)\n",
    "dot,norm"
   ]
  },
  {
   "cell_type": "markdown",
   "metadata": {},
   "source": [
    "yes, they are close"
   ]
  },
  {
   "cell_type": "markdown",
   "metadata": {},
   "source": [
    "###### 2(c)\n",
    "Run and understand the code below.  \n",
    "\n",
    "```python\n",
    "%matplotlib notebook\n",
    "\n",
    "tol = 0.1\n",
    "vs = 5*np.random.randn(3,10000)\n",
    "Avs = A.dot(vs)\n",
    "dots = np.abs(np.sum(vs * Avs, axis = 0)) ### |<Avi, vi>|'s\n",
    "Avs_length = np.linalg.norm(Avs, axis=0) ### ||Avi||'s\n",
    "vs_length = np.linalg.norm(vs, axis=0) ### ||vi||'s\n",
    "diff = np.abs( dots - Avs_length*vs_length)\n",
    "mask = (diff < tol) ### mask for potential eigenvectors\n",
    "eigvecs = vs[:,mask]\n",
    "\n",
    "ax = plt.axes(projection='3d')\n",
    "ax.set_xlim(-5,5)\n",
    "ax.set_ylim(-5,5)\n",
    "ax.set_zlim(-5,5)\n",
    "ax.scatter(eigvecs[0], eigvecs[1], eigvecs[2])\n",
    "```\n",
    "What is the plane in the output?  \n",
    "Change `tol` to 1 or 2.  Then you will see a vague straight line appears.  Why?"
   ]
  },
  {
   "cell_type": "code",
   "execution_count": null,
   "metadata": {},
   "outputs": [],
   "source": [
    "%matplotlib notebook\n",
    "\n",
    "tol = 0.1\n",
    "vs = 5*np.random.randn(3,10000)\n",
    "Avs = A.dot(vs)\n",
    "dots = np.abs(np.sum(vs * Avs, axis = 0)) ### |<Avi, vi>|'s\n",
    "Avs_length = np.linalg.norm(Avs, axis=0) ### ||Avi||'s\n",
    "vs_length = np.linalg.norm(vs, axis=0) ### ||vi||'s\n",
    "diff = np.abs( dots - Avs_length*vs_length)\n",
    "mask = (diff < tol) ### mask for potential eigenvectors\n",
    "eigvecs = vs[:,mask]\n",
    "\n",
    "ax = plt.axes(projection='3d')\n",
    "ax.set_xlim(-5,5)\n",
    "ax.set_ylim(-5,5)\n",
    "ax.set_zlim(-5,5)\n",
    "ax.scatter(eigvecs[0], eigvecs[1], eigvecs[2])"
   ]
  },
  {
   "cell_type": "markdown",
   "metadata": {},
   "source": [
    "The plane is the eigenspace corresponding to $\\lambda =1$"
   ]
  },
  {
   "cell_type": "code",
   "execution_count": null,
   "metadata": {},
   "outputs": [],
   "source": [
    "%matplotlib notebook\n",
    "\n",
    "tol = 2\n",
    "vs = 5*np.random.randn(3,10000)\n",
    "Avs = A.dot(vs)\n",
    "dots = np.abs(np.sum(vs * Avs, axis = 0)) ### |<Avi, vi>|'s\n",
    "Avs_length = np.linalg.norm(Avs, axis=0) ### ||Avi||'s\n",
    "vs_length = np.linalg.norm(vs, axis=0) ### ||vi||'s\n",
    "diff = np.abs( dots - Avs_length*vs_length)\n",
    "mask = (diff < tol) ### mask for potential eigenvectors\n",
    "eigvecs = vs[:,mask]\n",
    "\n",
    "ax = plt.axes(projection='3d')\n",
    "ax.set_xlim(-5,5)\n",
    "ax.set_ylim(-5,5)\n",
    "ax.set_zlim(-5,5)\n",
    "ax.scatter(eigvecs[0], eigvecs[1], eigvecs[2])"
   ]
  },
  {
   "cell_type": "markdown",
   "metadata": {},
   "source": [
    "The vague straight line is the eigenspace corresponding to $\\lambda =0$.\n",
    "\n",
    "The number of dots are infected by 2 reasons. Firstly, if the multiplicity an eigenvalue is larger, then the dimension of the corresponding eigenspace is also larger; therefore, there will be more dots appear. Secondly, if the eigenvalue is 0, then the dots appear on the eigenspace will be less. The reason is that $A{\\bf v}\\approx {\\bf 0}$ for ${\\bf v}$ near the eigenspace, so the angle $\\theta$ between $A{\\bf v}$ and $\\bf v$ may be large. Then $$|\\langle A{\\bf v},{\\bf v}\\rangle |-\\|A{\\bf v}\\|\\|{\\bf v}\\|=\\|A{\\bf v}\\|\\|{\\bf v}\\|(1-\\cos\\theta)$$ may be larger. \n",
    "\n",
    "By the 2 reasons above, there are only few dots appear on the line and it need a larger \"tol\"."
   ]
  },
  {
   "cell_type": "markdown",
   "metadata": {},
   "source": [
    "## Exercises"
   ]
  },
  {
   "cell_type": "markdown",
   "metadata": {},
   "source": [
    "###### Exercise 3\n",
    "Let  \n",
    "```python\n",
    "A = np.array([[0,1,0,0,0,1], \n",
    "              [1,0,1,0,0,0], \n",
    "              [0,1,0,1,0,0], \n",
    "              [0,0,1,0,1,0], \n",
    "              [0,0,0,1,0,1], \n",
    "              [1,0,0,0,1,0]])\n",
    "vals,projs = spec_decom(A)\n",
    "```\n",
    "Here `vals` are all the $\\lambda_i$'s and `projs` are all the $P_i$'s.  "
   ]
  },
  {
   "cell_type": "markdown",
   "metadata": {},
   "source": [
    "###### 3(a)\n",
    "Check if $A = \\sum_{i=0}^3\\lambda_iP_i$.  \n",
    "Can you do it without any for loop?  \n",
    "Note:  You might need `np.set_printoptions(precision=1, suppress=True)`."
   ]
  },
  {
   "cell_type": "code",
   "execution_count": null,
   "metadata": {},
   "outputs": [],
   "source": [
    "A = np.array([[0,1,0,0,0,1], \n",
    "              [1,0,1,0,0,0], \n",
    "              [0,1,0,1,0,0], \n",
    "              [0,0,1,0,1,0], \n",
    "              [0,0,0,1,0,1], \n",
    "              [1,0,0,0,1,0]])\n",
    "vals,projs = spec_decom(A)\n",
    "projst = projs.transpose([1,2,0])\n",
    "B = projst.dot(vals)\n",
    "np.set_printoptions(precision=1, suppress=True)\n",
    "print(B)"
   ]
  },
  {
   "cell_type": "code",
   "execution_count": null,
   "metadata": {
    "scrolled": true
   },
   "outputs": [],
   "source": [
    "np.isclose(A,B)"
   ]
  },
  {
   "cell_type": "markdown",
   "metadata": {},
   "source": [
    "yes, $A = \\sum_{i=0}^3\\lambda_iP_i$"
   ]
  },
  {
   "cell_type": "markdown",
   "metadata": {},
   "source": [
    "###### 3(b)\n",
    "Let  \n",
    "```python\n",
    "v = np.ones((6,))\n",
    "```\n",
    "Check if $A{\\bf v} = \\sum_{i=0}^3 \\lambda_i P_i{\\bf v}$."
   ]
  },
  {
   "cell_type": "code",
   "execution_count": null,
   "metadata": {},
   "outputs": [],
   "source": [
    "v = np.ones((6,))\n",
    "Av = A.dot(v)\n",
    "B = np.zeros_like(Av)\n",
    "for i in range(len(vals)):\n",
    "    lpv = (vals[i]*projs[i]).dot(v)\n",
    "    B = B+lpv\n",
    "print(Av,B)"
   ]
  },
  {
   "cell_type": "markdown",
   "metadata": {},
   "source": [
    "yes, $A{\\bf v} = \\sum_{i=0}^3 \\lambda_i P_i{\\bf v}$"
   ]
  },
  {
   "cell_type": "markdown",
   "metadata": {},
   "source": [
    "###### 3(c)\n",
    "Pick any $0\\leq i,j\\leq 3$.  \n",
    "Check if $P_iP_j = O$."
   ]
  },
  {
   "cell_type": "code",
   "execution_count": null,
   "metadata": {
    "scrolled": false
   },
   "outputs": [],
   "source": [
    "for i in range(4):\n",
    "    for j in range(i+1,4):\n",
    "        print(np.dot(projs[i],projs[j]))"
   ]
  },
  {
   "cell_type": "markdown",
   "metadata": {},
   "source": [
    "yes, $P_iP_j = O$ for any $i\\neq j$"
   ]
  },
  {
   "cell_type": "markdown",
   "metadata": {},
   "source": [
    "###### 3(d)\n",
    "Pick any $0\\leq i\\leq 3$.  \n",
    "Check if $P_i^2 = P_i$."
   ]
  },
  {
   "cell_type": "code",
   "execution_count": null,
   "metadata": {
    "scrolled": true
   },
   "outputs": [],
   "source": [
    "for i in range(4):\n",
    "    pi2 = np.dot(projs[i],projs[i])\n",
    "    print(np.isclose(pi2,projs[i]).all())"
   ]
  },
  {
   "cell_type": "markdown",
   "metadata": {},
   "source": [
    "yes, $P_i^2 = P_i$ for all $i$"
   ]
  },
  {
   "cell_type": "markdown",
   "metadata": {},
   "source": [
    "##### Exercise 4\n",
    "Let  \n",
    "```python\n",
    "%matplotlib inline\n",
    "plt.axis('equal')\n",
    "A = np.array([[2,1],\n",
    "              [1,2]])\n",
    "t = np.linspace(0, 2*np.pi, 36)\n",
    "xs = np.cos(t)\n",
    "ys = np.sin(t)\n",
    "vs = np.vstack([xs, ys])\n",
    "Avs = A.dot(vs)\n",
    "```"
   ]
  },
  {
   "cell_type": "markdown",
   "metadata": {},
   "source": [
    "###### 4(a)\n",
    "Plot a red point at the origin.  \n",
    "Plot the points (columns) in `vs` using `c=t` .  \n",
    "Then plot the points (columns) in `Avs` using `c=t` .  \n",
    "Interpret the output using the spectral decomposition."
   ]
  },
  {
   "cell_type": "code",
   "execution_count": null,
   "metadata": {},
   "outputs": [],
   "source": [
    "%matplotlib inline\n",
    "plt.axis('equal')\n",
    "A = np.array([[2,1],\n",
    "              [1,2]])\n",
    "t = np.linspace(0, 2*np.pi, 36)\n",
    "xs = np.cos(t)\n",
    "ys = np.sin(t)\n",
    "vs = np.vstack([xs, ys])\n",
    "Avs = A.dot(vs)\n",
    "plt.scatter(0,0,c='r')\n",
    "plt.scatter(vs[0],vs[1],c=t)\n",
    "plt.scatter(Avs[0],Avs[1],c=t)"
   ]
  },
  {
   "cell_type": "markdown",
   "metadata": {},
   "source": [
    "For each ${\\bf v}$ in vs, ${\\bf v}$ can be written as $c_1{\\bf v}_1+c_2{\\bf v}_2$ where ${\\bf v}_1 = \\begin{bmatrix}1 \\\\ 1 \\end{bmatrix}$ and ${\\bf v}_2 = \\begin{bmatrix}-1 \\\\ 1 \\end{bmatrix}$, the eigenvectors of $A$. Since $A{\\bf v}_1 = 3{\\bf v}_1 \\text{ and } A{\\bf v}_2 = {\\bf v}_2$, the direction of ${\\bf v}_1$ would be stretched 3 times and the direction of ${\\bf v}_2$ would remain the same."
   ]
  },
  {
   "cell_type": "markdown",
   "metadata": {},
   "source": [
    "###### 4(b)\n",
    "Do the same with  \n",
    "```python\n",
    "A = np.array([[1,1],\n",
    "              [1,1]])\n",
    "```"
   ]
  },
  {
   "cell_type": "code",
   "execution_count": null,
   "metadata": {},
   "outputs": [],
   "source": [
    "plt.axis('equal')\n",
    "A = np.array([[1,1],\n",
    "              [1,1]])\n",
    "t = np.linspace(0, 2*np.pi, 36)\n",
    "xs = np.cos(t)\n",
    "ys = np.sin(t)\n",
    "vs = np.vstack([xs, ys])\n",
    "Avs = A.dot(vs)\n",
    "plt.scatter(0,0,c='r')\n",
    "plt.scatter(vs[0],vs[1],c=t)\n",
    "plt.scatter(Avs[0],Avs[1],c=t)"
   ]
  },
  {
   "cell_type": "markdown",
   "metadata": {},
   "source": [
    "Similarly, the eigenvectors are ${\\bf v}_1 = \\begin{bmatrix}1 \\\\ 1 \\end{bmatrix}$ and ${\\bf v}_2 = \\begin{bmatrix}-1 \\\\ 1 \\end{bmatrix}$ with $\\lambda_1 = 2 \\text{ and }\\lambda_2 = 0$, so the the direction of ${\\bf v}_1$ would be stretch 2 times and the direction of ${\\bf v}_2$ would be compressed to 0."
   ]
  },
  {
   "cell_type": "markdown",
   "metadata": {},
   "source": [
    "##### Exercise 5\n",
    "Let  \n",
    "```python\n",
    "A = np.array([[0,1,0,0,0,1], \n",
    "              [1,0,1,0,0,0], \n",
    "              [0,1,0,1,0,0], \n",
    "              [0,0,1,0,1,0], \n",
    "              [0,0,0,1,0,1], \n",
    "              [1,0,0,0,1,0]])\n",
    "vals,projs = spec_decom(A)\n",
    "\n",
    "k = 3\n",
    "```"
   ]
  },
  {
   "cell_type": "markdown",
   "metadata": {},
   "source": [
    "###### 5(a)\n",
    "Let  \n",
    "```python\n",
    "B = k*A\n",
    "vals_B,projs_B = spec_decom(B)\n",
    "```\n",
    "Find a relation between `vals` and `vals_B` using `k` .  \n",
    "Find a relation between `projs` and `projs_B` ."
   ]
  },
  {
   "cell_type": "code",
   "execution_count": null,
   "metadata": {},
   "outputs": [],
   "source": [
    "np.set_printoptions(precision=8, suppress=False)\n",
    "A = np.array([[0,1,0,0,0,1], \n",
    "              [1,0,1,0,0,0], \n",
    "              [0,1,0,1,0,0], \n",
    "              [0,0,1,0,1,0], \n",
    "              [0,0,0,1,0,1], \n",
    "              [1,0,0,0,1,0]])\n",
    "vals,projs = spec_decom(A)\n",
    "k = 3\n",
    "B = k*A\n",
    "vals_B,projs_B = spec_decom(B)"
   ]
  },
  {
   "cell_type": "code",
   "execution_count": null,
   "metadata": {},
   "outputs": [],
   "source": [
    "vals,vals_B"
   ]
  },
  {
   "cell_type": "markdown",
   "metadata": {},
   "source": [
    "vals_B = 3vals"
   ]
  },
  {
   "cell_type": "code",
   "execution_count": null,
   "metadata": {},
   "outputs": [],
   "source": [
    "np.isclose(projs,projs_B)"
   ]
  },
  {
   "cell_type": "markdown",
   "metadata": {},
   "source": [
    "projs = projs_B"
   ]
  },
  {
   "cell_type": "markdown",
   "metadata": {},
   "source": [
    "###### 5(b)\n",
    "Let  \n",
    "```python\n",
    "B = A + k*np.eye(6)\n",
    "vals_B,projs_B = spec_decom(B)\n",
    "```\n",
    "Find a relation between `vals` and `vals_B` using `k` .  \n",
    "Find a relation between `projs` and `projs_B` ."
   ]
  },
  {
   "cell_type": "code",
   "execution_count": null,
   "metadata": {},
   "outputs": [],
   "source": [
    "B = A + k*np.eye(6)\n",
    "vals_B,projs_B = spec_decom(B)"
   ]
  },
  {
   "cell_type": "code",
   "execution_count": null,
   "metadata": {},
   "outputs": [],
   "source": [
    "vals,vals_B"
   ]
  },
  {
   "cell_type": "markdown",
   "metadata": {},
   "source": [
    "vals_B = vals+3"
   ]
  },
  {
   "cell_type": "code",
   "execution_count": null,
   "metadata": {},
   "outputs": [],
   "source": [
    "np.isclose(projs,projs_B)"
   ]
  },
  {
   "cell_type": "markdown",
   "metadata": {},
   "source": [
    "projs = projs_B"
   ]
  },
  {
   "cell_type": "markdown",
   "metadata": {},
   "source": [
    "###### 5(c)\n",
    "It looks like $\\lambda=1$ is an eigenvalue of $A$.  \n",
    "Use `sympy.Matrix` to find the null space of $A - \\lambda I$.  \n",
    "Find a projection matrix of it, and compare it with the corresponding projection matrix in `projs` ."
   ]
  },
  {
   "cell_type": "code",
   "execution_count": null,
   "metadata": {},
   "outputs": [],
   "source": [
    "A = sympy.Matrix(A)\n",
    "A1 = A-sympy.Matrix.eye(A.shape[0])\n",
    "A1.nullspace()"
   ]
  },
  {
   "cell_type": "code",
   "execution_count": null,
   "metadata": {},
   "outputs": [],
   "source": [
    "v1 = A1.nullspace()[0]\n",
    "v2 = A1.nullspace()[1]\n",
    "V = v1.col_insert(1,v2)\n",
    "VtV_inv = (V.T*V).inv()\n",
    "proj = V*VtV_inv*(V.T)"
   ]
  },
  {
   "cell_type": "code",
   "execution_count": null,
   "metadata": {
    "scrolled": true
   },
   "outputs": [],
   "source": [
    "proj"
   ]
  },
  {
   "cell_type": "code",
   "execution_count": null,
   "metadata": {},
   "outputs": [],
   "source": [
    "projs[2]"
   ]
  },
  {
   "cell_type": "markdown",
   "metadata": {},
   "source": [
    "The two matrices are the same"
   ]
  }
 ],
 "metadata": {
  "kernelspec": {
   "display_name": "Python 3",
   "language": "python",
   "name": "python3"
  },
  "language_info": {
   "codemirror_mode": {
    "name": "ipython",
    "version": 3
   },
   "file_extension": ".py",
   "mimetype": "text/x-python",
   "name": "python",
   "nbconvert_exporter": "python",
   "pygments_lexer": "ipython3",
   "version": "3.9.2"
  }
 },
 "nbformat": 4,
 "nbformat_minor": 4
}
