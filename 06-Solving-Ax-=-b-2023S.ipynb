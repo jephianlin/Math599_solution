{
 "cells": [
  {
   "cell_type": "markdown",
   "metadata": {
    "id": "HJc0etWAQsX9"
   },
   "source": [
    "# Solving Ax = b"
   ]
  },
  {
   "cell_type": "markdown",
   "metadata": {
    "id": "a-U68-WnQsYB"
   },
   "source": [
    "![Creative Commons License](https://i.creativecommons.org/l/by/4.0/88x31.png)  \n",
    "This work by Jephian Lin is licensed under a [Creative Commons Attribution 4.0 International License](http://creativecommons.org/licenses/by/4.0/)."
   ]
  },
  {
   "cell_type": "code",
   "execution_count": null,
   "metadata": {
    "id": "bORwN8G-QsYC"
   },
   "outputs": [],
   "source": [
    "import numpy as np\n",
    "import matplotlib.pyplot as plt\n",
    "from mpl_toolkits import mplot3d\n",
    "import sympy"
   ]
  },
  {
   "cell_type": "markdown",
   "metadata": {
    "id": "Lzuf2larQsYD"
   },
   "source": [
    "## Main idea"
   ]
  },
  {
   "cell_type": "markdown",
   "metadata": {
    "id": "CIwPrqegQsYD"
   },
   "source": [
    "Let $A$ be an $m\\times n$ matrix.  The solution set of $A{\\bf x} = {\\bf b}$ is the intersection of the affine planes $\\langle {\\bf r}_i, {\\bf x}\\rangle = b_i$ for all $i=1,\\ldots,m$, where ${\\bf r}_i$ is the $i$-th row of $A$ and $b_i$ is the $i$-th entry of ${\\bf b}$.  \n",
    "Therefore, the solution set of $A$ is an affine space (shifted space).\n",
    "\n",
    "The solutions set of $A{\\bf x} = {\\bf b}$ is of the form:\n",
    "\n",
    "    general solutions = particular solution + homogeneous solutions\n",
    "    (a shifted space)      (a vector)              (a space)\n",
    "   \n",
    "Here \"general solution\" stands for all solutions of $A{\\bf x} = {\\bf b}$,  \n",
    "\"particular solution\" stands for one arbitrary solution of $A{\\bf x} = {\\bf b}$, and  \n",
    "\"homogeneous solutions\" stands for all solutions of $A{\\bf x} = {\\bf 0}$.\n",
    "\n",
    "Every matrix lead to its **reduced echelon form** after some **row operations**.  If $\\left[\\begin{array}{cc}R | {\\bf r}\\end{array}\\right]$ is the reduced echelon form of $\\left[\\begin{array}{cc}A | {\\bf b}\\end{array}\\right]$, then $A{\\bf x} = {\\bf b} = R{\\bf x} = {\\bf r}$."
   ]
  },
  {
   "cell_type": "markdown",
   "metadata": {
    "id": "atauUR8dQsYE"
   },
   "source": [
    "## Side stories"
   ]
  },
  {
   "cell_type": "markdown",
   "metadata": {
    "id": "75q3KtSVQsYE"
   },
   "source": [
    "- $A{\\bf x} = {\\bf b} \\iff {\\bf b}\\in\\operatorname{Col}(A)$\n",
    "- matrix inverse"
   ]
  },
  {
   "cell_type": "markdown",
   "metadata": {
    "id": "CYzq8KHFQsYE"
   },
   "source": [
    "## Experiments"
   ]
  },
  {
   "cell_type": "markdown",
   "metadata": {
    "id": "GMBF6_UtQsYF"
   },
   "source": [
    "###### Exercise 1\n",
    "This exercise helps you to visualize the affine space $A{\\bf x} = {\\bf b}$.  \n",
    "Let  \n",
    "```python\n",
    "A = np.array([[1,1,1], \n",
    "              [1,1,1]])\n",
    "b = np.array([5,5])\n",
    "```"
   ]
  },
  {
   "cell_type": "markdown",
   "metadata": {
    "id": "p-Lcvi0iQsYF"
   },
   "source": [
    "###### 1(a)\n",
    "Use the techniques you learned in Lesson 2 to draw some random solutions of $A{\\bf x} = {\\bf b}$.  \n",
    "What is the nullity of $A$?  What is the \"dimension\" of the affine space?  \n",
    "Hint:  \n",
    "```python\n",
    "xs = 5*np.random.randn(3,10000)\n",
    "mask = (np.abs(b[:,np.newaxis] - A.dot(xs)) < 0.1).all(axis = 0)\n",
    "```"
   ]
  },
  {
   "cell_type": "code",
   "execution_count": null,
   "metadata": {
    "colab": {
     "base_uri": "https://localhost:8080/",
     "height": 312
    },
    "id": "M6BYqC2vQsYG",
    "outputId": "3ecc4da4-c771-4cc9-9260-7835a864b92b"
   },
   "outputs": [],
   "source": [
    "#random solution of Ax=b\n",
    "import random\n",
    "ax = plt.axes(projection=\"3d\")\n",
    "ax.set_xlim(-5,9)\n",
    "ax.set_ylim(-5,9)\n",
    "ax.set_zlim(-5,9)\n",
    "A = np.array([[1,1,1], \n",
    "        [1,1,1]])\n",
    "b = np.array([5,5])\n",
    "xs = 5*np.random.randn(3,10000)#生成3*10000標準常態的矩陣 然後把所有數值*5->目的是為了測量A*xs跟b[:,np.new..]相減的差\n",
    "mask = (np.abs(b[:,np.newaxis]-A.dot(xs))<0.1).all(axis=0)\n",
    "#(np.abs(b[:,np.newaxis]-A.dot(xs))<0.1) 生成2*10000的矩陣 然後如果行向量兩個都滿足小於0,1 回傳true\n",
    "randomsol = xs[:,mask] #顯示滿足條件的行向量數\n",
    "plt.scatter(*randomsol)\n",
    "\n",
    "\n",
    "#plot the kernel of A\n",
    "xs_1 = np.random.randn(3,10000)\n",
    "mask1 = np.linalg.norm(A.dot(xs_1),axis=0)<0.1\n",
    "kernel = xs_1[:,mask1]\n",
    "plt.scatter(*kernel,color=\"red\")\n",
    "\n",
    "#nullity of A:span([[1],[1]])\n",
    "#dimension of affine space:"
   ]
  },
  {
   "cell_type": "markdown",
   "metadata": {
    "id": "5Ug2f1eYW664"
   },
   "source": [
    "A basic affine transform is $T(x)=Ax+b$.\n",
    "\n",
    "A easy observation is $T(0)=b$\n",
    "\n",
    "So x is what we find to satisfy $Ax=b$."
   ]
  },
  {
   "cell_type": "markdown",
   "metadata": {
    "id": "lWELS7AyQsYG"
   },
   "source": [
    "###### 1(b)\n",
    "It is known that  \n",
    "```python\n",
    "p = np.array([2,2,1])\n",
    "```\n",
    "is a particular solution of $A{\\bf x} = {\\bf b}$.  \n",
    "Add a vector of `p` upon your previous drawing."
   ]
  },
  {
   "cell_type": "code",
   "execution_count": null,
   "metadata": {
    "colab": {
     "base_uri": "https://localhost:8080/",
     "height": 276
    },
    "id": "t_MyVBglQsYG",
    "outputId": "30779318-7d03-4223-abb3-2f75bf68ed13"
   },
   "outputs": [],
   "source": [
    "import random\n",
    "ax = plt.axes(projection=\"3d\")\n",
    "ax.set_xlim(-5,9)\n",
    "ax.set_ylim(-5,9)\n",
    "ax.set_zlim(-5,9)\n",
    "A = np.array([[1,1,1], \n",
    "        [1,1,1]])\n",
    "b = np.array([5,5])\n",
    "xs = 5*np.random.randn(3,10000)#生成3*10000標準常態的矩陣 然後把所有數值*5->目的是為了測量A*xs跟b[:,np.new..]相減的差\n",
    "mask = (np.abs(b[:,np.newaxis]-A.dot(xs))<0.1).all(axis=0)\n",
    "#(np.abs(b[:,np.newaxis]-A.dot(xs))<0.1) 生成2*10000的矩陣 然後如果行向量兩個都滿足小於0,1 回傳true\n",
    "randomsol = xs[:,mask] #顯示滿足條件的行向量數\n",
    "plt.scatter(*randomsol)\n",
    "\n",
    "xs_1 = np.random.randn(3,100000)\n",
    "mask1 = np.linalg.norm(A.dot(xs_1),axis=0)<0.1\n",
    "kernel = xs_1[:,mask1]\n",
    "plt.scatter(*kernel,color=\"red\")\n",
    "\n",
    "p = np.array([2,2,1]) \n",
    "ax.quiver(0,0,0,p[0],p[1],p[2],color='purple')\n"
   ]
  },
  {
   "cell_type": "markdown",
   "metadata": {
    "id": "uEOZUPNOQsYH"
   },
   "source": [
    "###### 1(c)\n",
    "Do the same for  \n",
    "```python\n",
    "b = np.array([5,6])\n",
    "```\n",
    "How many solutions are there?"
   ]
  },
  {
   "cell_type": "code",
   "execution_count": null,
   "metadata": {
    "colab": {
     "base_uri": "https://localhost:8080/",
     "height": 277
    },
    "id": "qydHFzzJQsYH",
    "outputId": "b9e3e9f9-530d-46d9-d8fc-1f755f168a1a"
   },
   "outputs": [],
   "source": [
    "ax = plt.axes(projection='3d')\n",
    "A = np.array([[1,1,1], \n",
    "              [1,1,1]])\n",
    "b = np.array([5,6])\n",
    "x_normal = 5*np.random.randn(3,10000)\n",
    "new_b = b[:,np.newaxis]\n",
    "mask_2 = (np.abs(new_b-A.dot(x_normal))<0.1).all(axis=0)\n",
    "sol = x_normal[:,mask_2]\n",
    "plt.scatter(*sol)  #畫出來無解"
   ]
  },
  {
   "cell_type": "markdown",
   "metadata": {
    "id": "2ToDxRt1QsYH"
   },
   "source": [
    "###### Exercise 2\n",
    "This exercise helps you to visualize the affine space $A{\\bf x} = {\\bf b}$.  \n",
    "Let  \n",
    "```python\n",
    "A = np.array([[1,1,1], \n",
    "              [1,1,1]])\n",
    "b = np.array([5,5])\n",
    "```"
   ]
  },
  {
   "cell_type": "markdown",
   "metadata": {
    "id": "Bmd_n8nJQsYH"
   },
   "source": [
    "###### 2(a)\n",
    "Draw the grid using the columns of $A$ and draw a vector for $b$.  \n",
    "Is $b$ in the column space of $A$?"
   ]
  },
  {
   "cell_type": "code",
   "execution_count": null,
   "metadata": {
    "id": "QXCFaZMxW9IO"
   },
   "outputs": [],
   "source": [
    "# 創建矩陣A和向量b\n",
    "A = np.array([[1,1,1], [1,1,1]])\n",
    "b = np.array([5,5])"
   ]
  },
  {
   "cell_type": "code",
   "execution_count": null,
   "metadata": {
    "colab": {
     "base_uri": "https://localhost:8080/",
     "height": 276
    },
    "id": "DC0WdjaBQsYH",
    "outputId": "42efeeb8-1729-4b89-bfb0-c3d0639ee8c8"
   },
   "outputs": [],
   "source": [
    "import numpy as np\n",
    "import matplotlib.pyplot as plt\n",
    "\n",
    "# 創建矩陣A和向量b\n",
    "A = np.array([[1,1,1], [1,1,1]])\n",
    "b = np.array([5,5])\n",
    "\n",
    "# 繪製矩陣A的列向量\n",
    "fig = plt.figure()\n",
    "ax = fig.add_subplot(projection='3d')\n",
    "origin = [0], [0], [0] # 起點\n",
    "ax.quiver(*origin, 1, 1, 0 , color=['r','b','g'], length=1)\n",
    "ax.set_xlim([0, 6])\n",
    "ax.set_ylim([0, 6])\n",
    "ax.set_zlim([0, 6])\n",
    "ax.set_xlabel('X')\n",
    "ax.set_ylabel('Y')\n",
    "ax.set_zlabel('Z')\n",
    "ax.set_title('Grid using the columns of A')\n",
    "\n",
    "# 繪製向量b\n",
    "p = np.append(b, 0) # 將b轉換為齊次座標\n",
    "ax.quiver(*origin, p[0], p[1], p[2], color='m')\n",
    "plt.show()\n"
   ]
  },
  {
   "cell_type": "markdown",
   "metadata": {
    "id": "fNvULl9IZhkJ"
   },
   "source": [
    "$b$ is in the column space of $A$"
   ]
  },
  {
   "cell_type": "markdown",
   "metadata": {
    "id": "zaNNiryFQsYI"
   },
   "source": [
    "###### 2(b)\n",
    "Do the same for \n",
    "```python\n",
    "b = np.array([5,6])\n",
    "```\n",
    "Is $b$ in the column space of $A$?"
   ]
  },
  {
   "cell_type": "code",
   "execution_count": null,
   "metadata": {
    "colab": {
     "base_uri": "https://localhost:8080/",
     "height": 276
    },
    "id": "wHZbLnRnQsYI",
    "outputId": "3185f7a8-1922-4216-a164-0f882b1c214d"
   },
   "outputs": [],
   "source": [
    "import numpy as np\n",
    "import matplotlib.pyplot as plt\n",
    "\n",
    "# 創建矩陣A和向量b\n",
    "A = np.array([[1,1,1], [1,1,1]])\n",
    "b = np.array([5,6])\n",
    "\n",
    "# 繪製矩陣A的列向量\n",
    "fig = plt.figure()\n",
    "ax = fig.add_subplot(projection='3d')\n",
    "origin = [0], [0], [0] # 起點\n",
    "ax.quiver(*origin, 1, 1, 0 , color=['r','b','g'], length=1)\n",
    "ax.set_xlim([0, 6])\n",
    "ax.set_ylim([0, 6])\n",
    "ax.set_zlim([0, 6])\n",
    "ax.set_xlabel('X')\n",
    "ax.set_ylabel('Y')\n",
    "ax.set_zlabel('Z')\n",
    "ax.set_title('Grid using the columns of A')\n",
    "\n",
    "# 繪製向量b\n",
    "p = np.append(b, 0) # 將b轉換為齊次座標\n",
    "ax.quiver(*origin, p[0], p[1], p[2], color='m')\n",
    "plt.show()"
   ]
  },
  {
   "cell_type": "markdown",
   "metadata": {
    "id": "lE6GheZEZWkA"
   },
   "source": [
    "$b$ isn't in the column space of $A$"
   ]
  },
  {
   "cell_type": "markdown",
   "metadata": {
    "id": "Ez-sYIWtQsYI"
   },
   "source": [
    "#### Remark  \n",
    "Whether a particular solution exists depends only on whether ${\\bf b}$ is in the column space of $A$ or not.  \n",
    "We say a equation $A{\\bf x} = {\\bf b}$ is **consistent** if it has at least a particular solution.  \n",
    "\n",
    "Whether the homogeneous solutions contains only the trivial solution ${\\bf 0}$ depends only on $A$.  \n",
    "\n",
    "This table summarize the number of solutions of $A{\\bf x} = {\\bf b}$.\n",
    "\n",
    " hom \\ par | consistent | inconsistent \n",
    " --------- | ---------- | ------------ \n",
    " trivial | one | none \n",
    " nontrivial | infinite | none\n"
   ]
  },
  {
   "cell_type": "markdown",
   "metadata": {
    "id": "tlyRJeXBQsYI"
   },
   "source": [
    "## Exercises"
   ]
  },
  {
   "cell_type": "markdown",
   "metadata": {
    "id": "hzbcvD1gQsYI"
   },
   "source": [
    "Exercise 3\n",
    "Let  \n",
    "```python\n",
    "A = sympy.Matrix([[1,1], \n",
    "                  [-1,0],\n",
    "                  [0,-1]])\n",
    "b = sympy.Matrix([3,-2,-1])\n",
    "Ab = A.col_insert(2,b)\n",
    "```"
   ]
  },
  {
   "cell_type": "markdown",
   "metadata": {
    "id": "sMZm4LdcQsYJ"
   },
   "source": [
    "###### 3(a)\n",
    "Calculate the reduced echelon form of `Ab` .  \n",
    "Can you tell if  `b` is in the column space of `A` ?"
   ]
  },
  {
   "cell_type": "code",
   "execution_count": null,
   "metadata": {
    "colab": {
     "base_uri": "https://localhost:8080/",
     "height": 78
    },
    "id": "yBcKDg9dQsYJ",
    "outputId": "8cf3a23b-e19d-49d5-b511-fcb1620cde6e"
   },
   "outputs": [],
   "source": [
    "A = sympy.Matrix([[1,1], \n",
    "                  [-1,0],\n",
    "                  [0,-1]])\n",
    "b = sympy.Matrix([3,-2,-1])\n",
    "Ab = A.col_insert(2,b)\n",
    "reduced_echelon,leader_pos = Ab.rref()\n",
    "reduced_echelon\n"
   ]
  },
  {
   "cell_type": "code",
   "execution_count": null,
   "metadata": {
    "colab": {
     "base_uri": "https://localhost:8080/"
    },
    "id": "9Oa0oEoeZtQI",
    "outputId": "e1d28554-4e3e-482a-d936-e1efe6be4657"
   },
   "outputs": [],
   "source": [
    "#b is in the column space of A,the following is the verification\n",
    "b==2*A[:,0]+1*A[:,1]"
   ]
  },
  {
   "cell_type": "markdown",
   "metadata": {
    "id": "4qCIsZsEQsYJ"
   },
   "source": [
    "###### 3(b)\n",
    "Let  \n",
    "```python\n",
    "b = sympy.Matrix([1,2,3])\n",
    "```\n",
    "and update `Ab` .  \n",
    "Can you tell if `b` is in the column space of `A` ?"
   ]
  },
  {
   "cell_type": "code",
   "execution_count": null,
   "metadata": {
    "colab": {
     "base_uri": "https://localhost:8080/",
     "height": 78
    },
    "id": "5Ox1qYMZQsYJ",
    "outputId": "ea717411-6b43-46e9-9e69-349c00507817"
   },
   "outputs": [],
   "source": [
    "A = sympy.Matrix([[1,1], \n",
    "                  [-1,0],\n",
    "                  [0,-1]])\n",
    "b = sympy.Matrix([1,2,3])\n",
    "Ab = A.col_insert(2,b)\n",
    "Ab"
   ]
  },
  {
   "cell_type": "code",
   "execution_count": null,
   "metadata": {
    "colab": {
     "base_uri": "https://localhost:8080/"
    },
    "id": "P-X-kOD7asMZ",
    "outputId": "55d04098-e6f0-4188-90af-dfbb5f88aedb"
   },
   "outputs": [],
   "source": [
    "reduced_echelon1,leader_pos1 = Ab.rref()\n",
    "reduced_echelon1\n",
    "\n",
    "argu_mtx_rank = reduced_echelon1.rank()\n",
    "coef_mtx_rank = A.rank()\n",
    "print(argu_mtx_rank,coef_mtx_rank,argu_mtx_rank==coef_mtx_rank)\n",
    "#因為增廣矩陣的rank=3(每一列為R^3的基底向量)\n",
    "#但是係數矩陣的rank=2\n",
    "#所以此方程無解\n"
   ]
  },
  {
   "cell_type": "markdown",
   "metadata": {
    "id": "b5UJVkl0QsYJ"
   },
   "source": [
    "##### Exercise 4\n",
    "Let  \n",
    "```python\n",
    "A = sympy.Matrix([[1,1,1], \n",
    "                  [1,2,4], \n",
    "                  [1,3,9]])\n",
    "b1 = sympy.Matrix([1,0,0])\n",
    "```"
   ]
  },
  {
   "cell_type": "markdown",
   "metadata": {
    "id": "AdESrLeWQsYJ"
   },
   "source": [
    "###### 4(a)\n",
    "If a matrix has no free variable, then the homogeneous solution is trivial.  \n",
    "Find the unique solution of $A{\\bf x} = {\\bf b}_1$."
   ]
  },
  {
   "cell_type": "code",
   "execution_count": null,
   "metadata": {
    "colab": {
     "base_uri": "https://localhost:8080/",
     "height": 78
    },
    "id": "7N4IeFVBQsYK",
    "outputId": "9e0916b8-ed66-48c3-e7c3-3a60de64f7e5"
   },
   "outputs": [],
   "source": [
    "\n",
    "A = sympy.Matrix([[1,1,1], \n",
    "                  [1,2,4], \n",
    "                  [1,3,9]])\n",
    "b1 = sympy.Matrix([1,0,0])\n",
    "A_inv = A**(-1)\n",
    "x = A_inv*b1\n",
    "x"
   ]
  },
  {
   "cell_type": "code",
   "execution_count": null,
   "metadata": {
    "colab": {
     "base_uri": "https://localhost:8080/"
    },
    "id": "o_oPFwh7fyRk",
    "outputId": "12c121ad-ddf1-49e6-c426-8c1580b33f91"
   },
   "outputs": [],
   "source": [
    "#用np方法的另解(前提是A要是方陣)\n",
    "A=np.array([[1,1,1],[1,2,4],[1,3,9]])\n",
    "b1=np.array([1,0,0])\n",
    "x = np.linalg.solve(A,b1)\n",
    "x"
   ]
  },
  {
   "cell_type": "markdown",
   "metadata": {
    "id": "Ghgn6nk1QsYK"
   },
   "source": [
    "###### 4(b)\n",
    "Let  \n",
    "```python\n",
    "b2 = sympy.Matrix([0,1,0])\n",
    "Ab = A.col_insert(3,b1)\n",
    "Abb = Ab.col_insert(4,b2)\n",
    "```\n",
    "Can you use `Abb` to solve the solutions of $A{\\bf x} = {\\bf b}_1$ and $A{\\bf x} = {\\bf b}_2$ at once?"
   ]
  },
  {
   "cell_type": "code",
   "execution_count": null,
   "metadata": {
    "colab": {
     "base_uri": "https://localhost:8080/",
     "height": 167
    },
    "id": "lEIU7esuQsYK",
    "outputId": "9bb10049-70f3-4e5a-a890-7c0423a32309"
   },
   "outputs": [],
   "source": [
    "import sympy\n",
    "A = sympy.Matrix([[1,1,1], \n",
    "                  [1,2,4], \n",
    "                  [1,3,9]])\n",
    "b1 = sympy.Matrix([1,0,0])\n",
    "b2 = sympy.Matrix([0,1,0])\n",
    "Ab = A.col_insert(3,b1)\n",
    "Abb = Ab.col_insert(4,b2)\n",
    "u=Abb.rref()\n",
    "mtx = u[0]\n",
    "print(u[0] , Abb.rref())\n",
    "desire_x_ofsol_Ax_b1 = mtx[:,3:4]\n",
    "desire_x_ofsol_Ax_b2 = mtx[:,4:5]\n",
    "print(\"sol of Ax=b1 = \",'\\t');desire_x_ofsol_Ax_b1"
   ]
  },
  {
   "cell_type": "code",
   "execution_count": null,
   "metadata": {
    "colab": {
     "base_uri": "https://localhost:8080/",
     "height": 96
    },
    "id": "7YHkLolhvhv3",
    "outputId": "768af280-838d-4faf-b241-9945615700f3"
   },
   "outputs": [],
   "source": [
    "print(\"sol of Ax=b2 = \",'\\t');desire_x_ofsol_Ax_b2"
   ]
  },
  {
   "cell_type": "markdown",
   "metadata": {},
   "source": [
    "##### Jephian\n",
    "\n",
    "Nice.\n",
    "\n",
    "If $\\left[\\begin{array}{c|cc}A & {\\bf b}_1 & {\\bf b}_2 \\end{array}\\right]$ has reduced echelon form \n",
    "$\\left[\\begin{array}{c|cc}I & {\\bf r}_1 & {\\bf r}_2 \\end{array}\\right]$ ,\n",
    "\n",
    "then $A{\\bf r}_1 = {\\bf b}_1$ and $A{\\bf r}_2 = {\\bf b}_2$."
   ]
  },
  {
   "cell_type": "markdown",
   "metadata": {
    "id": "Odj9j_2uQsYK"
   },
   "source": [
    "###### 4(c)\n",
    "Let  \n",
    "```python\n",
    "b3 = sympy.Matrix([0,0,1])\n",
    "```  \n",
    "Solve the solutions of $A{\\bf x} = {\\bf b}_1$,  $A{\\bf x} = {\\bf b}_2$, and $A{\\bf x} = {\\bf b}_3$ at once."
   ]
  },
  {
   "cell_type": "code",
   "execution_count": null,
   "metadata": {
    "colab": {
     "base_uri": "https://localhost:8080/",
     "height": 113
    },
    "id": "5Jd-FyFmQsYK",
    "outputId": "7f682b10-c20a-4777-f2a0-8e68381bdfd6"
   },
   "outputs": [],
   "source": [
    "A = sympy.Matrix([[1,1,1], \n",
    "                  [1,2,4], \n",
    "                  [1,3,9]])\n",
    "b1 = sympy.Matrix([1,0,0])\n",
    "b2 = sympy.Matrix([0,1,0])\n",
    "b3 = sympy.Matrix([0,0,1])\n",
    "Ab = A.col_insert(3,b1)\n",
    "Abb = Ab.col_insert(4,b2)\n",
    "Abbb = Abb.col_insert(5,b3) \n",
    "u=Abbb.rref()\n",
    "mtx = u[0]\n",
    "print(mtx)\n",
    "desire_x_ofsol_Ax_b1 = mtx[:,3]\n",
    "desire_x_ofsol_Ax_b2 = mtx[:,4:5]\n",
    "desire_x_ofsol_Ax_b3 = mtx[:,5:6]\n",
    "print(\"sol of Ax=b1 = \",'\\t');desire_x_ofsol_Ax_b1"
   ]
  },
  {
   "cell_type": "code",
   "execution_count": null,
   "metadata": {
    "colab": {
     "base_uri": "https://localhost:8080/",
     "height": 96
    },
    "id": "Yc4LntaWv-kI",
    "outputId": "2341029e-c3f2-4f01-99a9-c882551ea3fc"
   },
   "outputs": [],
   "source": [
    "print(\"sol of Ax=b2 = \",'\\t');desire_x_ofsol_Ax_b2"
   ]
  },
  {
   "cell_type": "code",
   "execution_count": null,
   "metadata": {
    "colab": {
     "base_uri": "https://localhost:8080/",
     "height": 96
    },
    "id": "-cfrXl0nwDqE",
    "outputId": "77a8f952-61f5-4c7c-ecb1-704b76271278"
   },
   "outputs": [],
   "source": [
    "print(\"sol of Ax=b3 = \",'\\t');desire_x_ofsol_Ax_b3"
   ]
  },
  {
   "cell_type": "markdown",
   "metadata": {
    "id": "fNXnrvmFQsYK"
   },
   "source": [
    "###### 4(d)\n",
    "Let  \n",
    "$$ B = \\begin{bmatrix} \n",
    " | & ~ & | \\\\\n",
    " {\\bf b}_1 & \\cdots & {\\bf b}_3 \\\\\n",
    " | & ~ & | \n",
    " \\end{bmatrix}.$$\n",
    " Find a matrix $X$ such that $AX = B$.  \n",
    " When $B$ is the identity matrix  \n",
    "$$ I_n = \\begin{bmatrix} \n",
    " 1 & ~ & ~ \\\\\n",
    " ~ & \\ddots & ~ \\\\\n",
    " ~ & ~ & 1 \n",
    " \\end{bmatrix},$$\n",
    " the matrix $X$ with $AX = I_n$ is called the **inverse** of $A$, denoted by $A^{-1}$."
   ]
  },
  {
   "cell_type": "code",
   "execution_count": null,
   "metadata": {
    "colab": {
     "base_uri": "https://localhost:8080/",
     "height": 78
    },
    "id": "XpaLl6EaQsYL",
    "outputId": "8c320dd6-e93d-416b-abf0-17d6adeac880"
   },
   "outputs": [],
   "source": [
    "A = sympy.Matrix([[1,1,1], \n",
    "                  [1,2,4], \n",
    "                  [1,3,9]])\n",
    "\n",
    "b1 = sympy.Matrix([1,0,0])\n",
    "b2 = sympy.Matrix([0,1,0])\n",
    "b3 = sympy.Matrix([0,0,1])\n",
    "\n",
    "B = sympy.Matrix([[b1,b2,b3]]).T\n",
    "X = (A**(-1))*B\n",
    "X"
   ]
  },
  {
   "cell_type": "markdown",
   "metadata": {
    "id": "f1KFfGg7QsYL"
   },
   "source": [
    "###### 4(e)\n",
    "Compare your answer in 4(d) with the output of `np.linalg.inv(A)` ."
   ]
  },
  {
   "cell_type": "code",
   "execution_count": null,
   "metadata": {
    "colab": {
     "base_uri": "https://localhost:8080/"
    },
    "id": "NmvXHUQDQsYL",
    "outputId": "e6908f53-1f56-4a5a-9508-aeef9f47189e"
   },
   "outputs": [],
   "source": [
    "A = np.array([[1,1,1], \n",
    "                  [1,2,4], \n",
    "                  [1,3,9]])\n",
    "b1 = np.array([1,0,0])\n",
    "b2 = np.array([0,1,0])\n",
    "b3 = np.array([0,0,1])\n",
    "B = np.array([b1,b2,b3]).T\n",
    "inv_1 = np.linalg.inv(A)\n",
    "desired_mtx_1 = inv_1.dot(B)\n",
    "desired_mtx_1"
   ]
  },
  {
   "cell_type": "markdown",
   "metadata": {
    "id": "0mhXAS4hQsYL"
   },
   "source": [
    "##### Exercise 5\n",
    "Let  \n",
    "```python\n",
    "A = sympy.Matrix([[1,3,3,18], \n",
    "                  [5,15,16,95], \n",
    "                   [-5,-15,-15,-90]])\n",
    "R,pvts = A.rref()\n",
    "```"
   ]
  },
  {
   "cell_type": "markdown",
   "metadata": {
    "id": "Mp2sykY5QsYL"
   },
   "source": [
    "###### 5(a)\n",
    "Let $B$ be the matrix whose columns are the columns of $A$ the corresponding to leading variables.  \n",
    "Pick a column of $A$ corresponding a free variable.  \n",
    "Check that the column is in the column space of $B$.  \n",
    "(If yes, this means this column is redundant for generating the column space of $A$.)"
   ]
  },
  {
   "cell_type": "code",
   "execution_count": null,
   "metadata": {
    "colab": {
     "base_uri": "https://localhost:8080/"
    },
    "id": "pJly9CQ6QsYL",
    "outputId": "cda00d89-1931-48ed-abef-6619ef697708"
   },
   "outputs": [],
   "source": [
    "A = sympy.Matrix([[1,3,3,18], \n",
    "                  [5,15,16,95], \n",
    "                   [-5,-15,-15,-90]])\n",
    "R,pvts = A.rref()\n",
    "R,pvts  #pvts代表檢驗哪幾行有領導係數\n",
    "\n",
    "B = R[:,(0,2)]\n",
    "free_var_1 = R[:,1]\n",
    "free_var_2 = R[:,3]\n",
    "print(\"verify free_var_1 is in the column space of B : \",3*B[:,0]+0*B[:,1]==free_var_1)\n",
    "print(\"verify free_var_2 is in the column space of B : \",3*B[:,0]+5*B[:,1]==free_var_2)"
   ]
  },
  {
   "cell_type": "code",
   "execution_count": null,
   "metadata": {
    "colab": {
     "base_uri": "https://localhost:8080/",
     "height": 78
    },
    "id": "oXnUi-EbsLaY",
    "outputId": "b0420426-84c0-45db-c9f3-f1f941af390e"
   },
   "outputs": [],
   "source": [
    "#或直接用增廣矩陣的方法看\n",
    "A = sympy.Matrix([[1,3,3,18], \n",
    "                  [5,15,16,95], \n",
    "                   [-5,-15,-15,-90]])\n",
    "R,pvts = A.rref()\n",
    "R,pvts\n",
    "B = R[:,(0,2)]\n",
    "free_var_1 = R[:,1]\n",
    "free_var_2 = R[:,3]\n",
    "new_1 = B.col_insert(2,free_var_1)\n",
    "new_2 = new_1.col_insert(3,free_var_2)\n",
    "coeff,pvt2 = new_2.rref()\n",
    "coeff\n",
    "\n",
    "#取後面兩行的結果就可以知道是幾倍的線性組合\n"
   ]
  },
  {
   "cell_type": "markdown",
   "metadata": {
    "id": "OATf7esJQsYM"
   },
   "source": [
    "###### 5(b)\n",
    "Check if $B$ itself has any redundant column."
   ]
  },
  {
   "cell_type": "code",
   "execution_count": null,
   "metadata": {
    "colab": {
     "base_uri": "https://localhost:8080/"
    },
    "id": "nFJnLcWptPgp",
    "outputId": "7b2cfff4-928a-4b24-db63-17e9acd56d50"
   },
   "outputs": [],
   "source": [
    "B = R[:,(0,2)]\n",
    "rnk = B.rank()\n",
    "if(B.shape[1]==rnk):\n",
    "  print(\"has no redundant column\")\n",
    "else:\n",
    "  print(\"has some redundant column\")"
   ]
  },
  {
   "cell_type": "markdown",
   "metadata": {
    "id": "rEX0yZ9tQsYM"
   },
   "source": [
    "#### Remark\n",
    "Let $S = \\{{\\bf u}_1, \\ldots, {\\bf u}_n\\}$ be a collection of vectors and $A$ the matrix whose columns are $S$.  \n",
    "We say $S$ is **linearly independent** if one of the following equivalent condition holds:\n",
    "- $c_1{\\bf u}_1 + \\cdots + c_n{\\bf u}_n = {\\bf 0}$ only have trivial solution $c_1 = \\cdots = c_n = 0$.\n",
    "- $A{\\bf x} = {\\bf 0}$ only have trivial solution ${\\bf x} = 0$.\n",
    "- $A$ has no free variable.\n",
    "\n",
    "Moreover, if a space $V$ is equal to$\\operatorname{span}(S)$ and $S$ is linearly independent, then we say $S$ is a **basis** of the the space $V$."
   ]
  },
  {
   "cell_type": "markdown",
   "metadata": {
    "id": "4RVMzxgGQsYM"
   },
   "source": [
    "##### Exercise 6\n",
    "Let  \n",
    "```python\n",
    "A = sympy.Matrix([[1,1,1], \n",
    "                  [-1,0,0],\n",
    "                  [0,-1,0],\n",
    "                  [0,0,-1]])\n",
    "```\n",
    "Check if the columns of $A$ form a linearly independent set."
   ]
  },
  {
   "cell_type": "code",
   "execution_count": null,
   "metadata": {
    "colab": {
     "base_uri": "https://localhost:8080/"
    },
    "id": "poLioazNQsYM",
    "outputId": "755b5c06-e639-444e-bbeb-c45cfce2f1b4"
   },
   "outputs": [],
   "source": [
    "#第一步先算rank\n",
    "A = sympy.Matrix([[1,1,1], \n",
    "                  [-1,0,0],\n",
    "                  [0,-1,0],\n",
    "                  [0,0,-1]])\n",
    "rank_A = A.rank()\n",
    "#第二步找出行數 \n",
    "column_A = A.shape[1]\n",
    "#第三步是,若行數=rank,代表那三個向量的確是線性獨立\n",
    "if(rank_A==column_A):\n",
    "  print(\"the columns of A form a linearly independent set \")\n",
    "else:\n",
    "  print(\"the columns of A form a linearly dependent set \")"
   ]
  },
  {
   "cell_type": "markdown",
   "metadata": {},
   "source": [
    "##### Jephian\n",
    "To be more precise,\n",
    "\n",
    "the columns of form a linearly independent set\n",
    "\n",
    "since the reduced echelon form has no free variable."
   ]
  },
  {
   "cell_type": "markdown",
   "metadata": {
    "id": "Y7usuEvEQsYM"
   },
   "source": [
    "##### Exercise 7\n",
    "```python\n",
    "A = sympy.Matrix([[1,3,3,18], \n",
    "                  [5,15,16,95], \n",
    "                  [-5,-15,-15,-90]])\n",
    "R,pvts = A.rref()\n",
    "```\n",
    "Check what is `A.nullspace()`, `A.rowspace()`, and `A.columnspace()` and think about their meaning.  "
   ]
  },
  {
   "cell_type": "code",
   "execution_count": null,
   "metadata": {
    "colab": {
     "base_uri": "https://localhost:8080/"
    },
    "id": "0kP02TztQsYM",
    "outputId": "97df0800-5e1f-470a-f835-7170ff76866f"
   },
   "outputs": [],
   "source": [
    "A = sympy.Matrix([[1,3,3,18], \n",
    "                  [5,15,16,95], \n",
    "                  [-5,-15,-15,-90]])\n",
    "R,pvts = A.rref()\n",
    "q = A.nullspace()  #A的零空間之生成行向量,令u1 = ([[-3], [1], [0], [0]]), u2 = ([[-3], [0], [-5], [1]]),則span(u1,u2)=A的零空間\n",
    "print(q[0],q[1])"
   ]
  },
  {
   "cell_type": "code",
   "execution_count": null,
   "metadata": {
    "colab": {
     "base_uri": "https://localhost:8080/"
    },
    "id": "zLdNCPL6kI-m",
    "outputId": "84034502-2447-4a5a-ef3f-4e48dcf501fe"
   },
   "outputs": [],
   "source": [
    "r = A.rowspace() #A的列空間之生成列向量,令u1 = ([[1, 3, 3, 18]]), u2 = ([[0, 0, 1, 5]]),則span(u1,u2)=A的列空間\n",
    "r"
   ]
  },
  {
   "cell_type": "code",
   "execution_count": null,
   "metadata": {
    "colab": {
     "base_uri": "https://localhost:8080/"
    },
    "id": "l8obV1_ekh9q",
    "outputId": "39a81024-0282-4697-b316-964baacedbce"
   },
   "outputs": [],
   "source": [
    "c = A.columnspace() #A的行空間之生成行向量,令u1 = ([[1], [5], [-5]]), u2 = ([[3], [16], [-15]]),則span(u1,u2)=A的行空間\n",
    "print(c[0],c[1])"
   ]
  },
  {
   "cell_type": "markdown",
   "metadata": {
    "id": "R-Z9MnVkQsYN"
   },
   "source": [
    "#### Remark\n",
    "Since it is impossible to output a space, the three commands in Exercise 7 in fact outputs the basis of the space only, which is enough.\n",
    "\n",
    "**Nullspace**: its basis consists of ${\\bf h}$'s in the previous lesson.  \n",
    "**Rowspace**: its basis consists of the rows of $R$ corresponding to the pivots.  \n",
    "**Columnspace**: its basis consists of the columns of $A$ corresponding to the pivots."
   ]
  }
 ],
 "metadata": {
  "colab": {
   "provenance": []
  },
  "kernelspec": {
   "display_name": "Python 3 (ipykernel)",
   "language": "python",
   "name": "python3"
  },
  "language_info": {
   "codemirror_mode": {
    "name": "ipython",
    "version": 3
   },
   "file_extension": ".py",
   "mimetype": "text/x-python",
   "name": "python",
   "nbconvert_exporter": "python",
   "pygments_lexer": "ipython3",
   "version": "3.9.13"
  }
 },
 "nbformat": 4,
 "nbformat_minor": 1
}
