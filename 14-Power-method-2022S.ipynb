{
 "cells": [
  {
   "cell_type": "markdown",
   "metadata": {},
   "source": [
    "# Power method"
   ]
  },
  {
   "cell_type": "markdown",
   "metadata": {},
   "source": [
    "![Creative Commons License](https://i.creativecommons.org/l/by/4.0/88x31.png)  \n",
    "This work by Jephian Lin is licensed under a [Creative Commons Attribution 4.0 International License](http://creativecommons.org/licenses/by/4.0/)."
   ]
  },
  {
   "cell_type": "code",
   "execution_count": null,
   "metadata": {},
   "outputs": [],
   "source": [
    "import numpy as np\n",
    "import matplotlib.pyplot as plt\n",
    "from scipy import linalg as LA"
   ]
  },
  {
   "cell_type": "markdown",
   "metadata": {},
   "source": [
    "## Main idea"
   ]
  },
  {
   "cell_type": "markdown",
   "metadata": {},
   "source": [
    "Let $A$ be a symmetric matrix with eigenvalues $\\lambda_0\\leq\\cdots\\leq\\lambda_{n-1}$ such that $\\lambda_{n-1}$ has the largest magnitude comparing to other distinct eigenvalues.  \n",
    "Then the following algorithm will approximate an eigenvector of $A$ with respect to $\\lambda_{n-1}$.\n",
    "1. Start with a random vector ${\\bf x}_0$ in $\\mathbb{R}^n$.\n",
    "2. Let ${\\bf x}_{k+1} = \\frac{A{\\bf x}_k}{\\|A{\\bf x}_k\\|}$.  \n",
    "\n",
    "When $k$ is large, ${\\bf x}_k$ is close to an eigenvector of $A$ with respect to $\\lambda_{n-1}$."
   ]
  },
  {
   "cell_type": "markdown",
   "metadata": {},
   "source": [
    "## Side stories"
   ]
  },
  {
   "cell_type": "markdown",
   "metadata": {},
   "source": [
    "- finding all eigenvalues\n",
    "- PageRank"
   ]
  },
  {
   "cell_type": "markdown",
   "metadata": {},
   "source": [
    "## Experiments"
   ]
  },
  {
   "cell_type": "markdown",
   "metadata": {},
   "source": [
    "###### Exercise 1\n",
    "Let  \n",
    "```python\n",
    "A = np.array([[0,1,0,0,1],\n",
    "              [1,0,1,0,0],\n",
    "              [0,1,0,1,0],\n",
    "              [0,0,1,0,1],\n",
    "              [1,0,0,1,0]])\n",
    "```"
   ]
  },
  {
   "cell_type": "markdown",
   "metadata": {},
   "source": [
    "###### 1(a)\n",
    "Pick a random vector ${\\bf x}_0$ in $\\mathbb{R}^5$.  "
   ]
  },
  {
   "cell_type": "code",
   "execution_count": null,
   "metadata": {},
   "outputs": [],
   "source": [
    "x0 = np.random.randn(5)\n",
    "print(x0)"
   ]
  },
  {
   "cell_type": "markdown",
   "metadata": {},
   "source": [
    "###### 1(b)\n",
    "Apply the power method:\n",
    "- Let ${\\bf x}_{k+1} = \\frac{A{\\bf x}_k}{\\|A{\\bf x}_k\\|}$. \n",
    "\n",
    "Find ${\\bf x}_{1000}$."
   ]
  },
  {
   "cell_type": "code",
   "execution_count": null,
   "metadata": {},
   "outputs": [],
   "source": [
    "A = np.array([[0,1,0,0,1],\n",
    "              [1,0,1,0,0],\n",
    "              [0,1,0,1,0],\n",
    "              [0,0,1,0,1],\n",
    "              [1,0,0,1,0]])\n",
    "\n",
    "xk = x0 #使xk是第一題跑出來的隨機矩陣\n",
    "\n",
    "for i in range(1,1001):\n",
    "    Axk = A.dot(xk)\n",
    "    xk = Axk / np.linalg.norm(Axk) #Xk的範數\n",
    "\n",
    "print(xk)"
   ]
  },
  {
   "cell_type": "markdown",
   "metadata": {},
   "source": [
    "###### 1(c)\n",
    "Check if your ${\\bf x}_{1000}$ looks like an eigenvector or not."
   ]
  },
  {
   "cell_type": "code",
   "execution_count": null,
   "metadata": {},
   "outputs": [],
   "source": [
    "eigv = np.linalg.eig(A)\n",
    "print('eigenvectors = \\n', eigv[1]) #列出A的特徵向量\n",
    "print('xk = ',xk)\n",
    "print('Yes') #確認xk是不是A的特徵值之一"
   ]
  },
  {
   "cell_type": "markdown",
   "metadata": {},
   "source": [
    "##### Jephian\n",
    "\n",
    "1. If it is a symmetric matrix, then you should use `np.linalg.eigh` .  \n",
    "2. It is much easier to check whether $A{\\bf v} = \\lambda{\\bf v}$, or to check whether $|\\langle A{\\bf v},{\\bf v}\\rangle| = \\|A{\\bf v}\\|\\|{\\bf v}\\|$.  "
   ]
  },
  {
   "cell_type": "markdown",
   "metadata": {},
   "source": [
    "###### Exercise 2\n",
    "Let  \n",
    "```python\n",
    "A = np.array([[0,0,1,1,1],\n",
    "              [0,0,1,1,1],\n",
    "              [1,1,0,0,0],\n",
    "              [1,1,0,0,0],\n",
    "              [1,1,0,0,0]])\n",
    "```"
   ]
  },
  {
   "cell_type": "markdown",
   "metadata": {},
   "source": [
    "###### 2(a)\n",
    "Use the power method to find ${\\bf x}_{1000}$ and check if it is an eigenvector.  \n",
    "If no, what might go wrong?"
   ]
  },
  {
   "cell_type": "code",
   "execution_count": null,
   "metadata": {},
   "outputs": [],
   "source": [
    "A = np.array([[0,0,1,1,1],\n",
    "              [0,0,1,1,1],\n",
    "              [1,1,0,0,0],\n",
    "              [1,1,0,0,0],\n",
    "              [1,1,0,0,0]])\n",
    "\n",
    "for i in range(1,1001):\n",
    "    Axk = A.dot(xk)\n",
    "    xk = Axk / np.linalg.norm(Axk) #Xk的範數\n",
    "    \n",
    "print('xk = ', xk)\n",
    "\n",
    "eigv = np.linalg.eig(A)\n",
    "print('eigenvectors = \\n', eigv[1]) #列出A的特徵向量\n",
    "print('No, because there are the same absolute value of eigenvalue')"
   ]
  },
  {
   "cell_type": "markdown",
   "metadata": {},
   "source": [
    "##### Jephian\n",
    "\n",
    "Make it more precies:  Becuase the largest eigenvalue ($\\sqrt{6}$) and the smallest eigenvalue ($-\\sqrt{6}$) have the same absolute value."
   ]
  },
  {
   "cell_type": "markdown",
   "metadata": {},
   "source": [
    "###### 2(b)\n",
    "Let  \n",
    "```python\n",
    "s = 10\n",
    "As = A + s*np.eye(5)\n",
    "```\n",
    "and apply the power method on $A_s$ to find ${\\bf x}_{1000}$.  \n",
    "Is it an eigenvector of $A_s$?  \n",
    "Is it an eigenvector of $A$?  \n",
    "What is the relation between the two eigenvalues?  \n",
    "\n",
    "(This workaround works whenever $s$ is large enough.  \n",
    "But how large?  \n",
    "In general, you may pick `s = np.abs(A).sum() + 1` .)"
   ]
  },
  {
   "cell_type": "code",
   "execution_count": null,
   "metadata": {},
   "outputs": [],
   "source": [
    "s = 10\n",
    "As = A + s*np.eye(5)\n",
    "\n",
    "xk = np.random.randn(5)\n",
    "\n",
    "for i in range(1,1001):\n",
    "    Asxk = As.dot(xk)\n",
    "    xk = Asxk / np.linalg.norm(Asxk) #Xk的範數\n",
    "    \n",
    "print('xk = ', xk)\n",
    "\n",
    "eigv = np.linalg.eig(A)\n",
    "eigvs = np.linalg.eig(As)\n",
    "print('eigenvectors of A = \\n', eigv[1]) #列出A的特徵向量\n",
    "print('eigenvectors of As = \\n', eigvs[1]) #列出As的特徵向量\n",
    "print('xk是As跟A的特徵向量')"
   ]
  },
  {
   "cell_type": "markdown",
   "metadata": {},
   "source": [
    "##### Jephian\n",
    "\n",
    "You did not answer \"What is the relation between the two eigenvalues?\"  \n",
    "Indeed, the eigenvalues of $A_s$ is the eigenvalues of $A$ plus $s$.  "
   ]
  },
  {
   "cell_type": "markdown",
   "metadata": {},
   "source": [
    "## Exercises"
   ]
  },
  {
   "cell_type": "markdown",
   "metadata": {},
   "source": [
    "###### Exercise 3\n",
    "Write a function  \n",
    "```python\n",
    "def power_method(A, iter=1000):\n",
    "    do something\n",
    "```\n",
    "that generate the largest eigenvalue of a symmetric matrix $A$."
   ]
  },
  {
   "cell_type": "code",
   "execution_count": null,
   "metadata": {},
   "outputs": [],
   "source": [
    "A = np.array([[0,0,1,1,1],\n",
    "              [0,0,1,1,1],\n",
    "              [1,1,0,0,0],\n",
    "              [1,1,0,0,0],\n",
    "              [1,1,0,0,0]])\n",
    "\n",
    "#定義power method函式\n",
    "def power_method(A, iter=1000):\n",
    "    s = np.abs(A).sum() + 1\n",
    "    As = A + s*np.eye(5)\n",
    "    xk = np.random.randn(5)\n",
    "    for i in range(iter):\n",
    "        Asxk = As.dot(xk)\n",
    "        xk = Asxk / np.linalg.norm(Asxk)\n",
    "    return xk.dot(As).dot(xk)-s\n",
    "\n",
    "print(power_method(A))\n",
    "eigv = np.linalg.eig(A)\n",
    "print('power_method = the largest eigenvalue of A ? ', np.isclose(power_method(A),max(eigv[0])))"
   ]
  },
  {
   "cell_type": "markdown",
   "metadata": {},
   "source": [
    "##### Jephian\n",
    "\n",
    "Do the following instead.  \n",
    "\n",
    "```python\n",
    "def power_method(A, iter=1000):\n",
    "    n = A.shape[0]\n",
    "    s = np.abs(A).sum() + 1\n",
    "    As = A + s*np.eye(n) ### your input matrix is not always 5x5\n",
    "    xk = np.random.randn(n)\n",
    "    for i in range(iter):\n",
    "        Asxk = As.dot(xk)\n",
    "        xk = Asxk / np.linalg.norm(Asxk)\n",
    "    return xk.dot(As).dot(xk)-s\n",
    "```"
   ]
  },
  {
   "cell_type": "markdown",
   "metadata": {},
   "source": [
    "###### Exercise 4\n",
    "After you have found the largest few eigenvalues and their eigenvectors, you may apply the the enhanced version of the power method:\n",
    "1. Let $U$ be a matrix whose columns are the eigenvectors of length 1 for the largest few eigenvalues.\n",
    "2. Let $P = I -UU^\\top$ be the projection matrix onto the space orthogonal to $\\operatorname{Col}(U)$.\n",
    "2. Choose $s$ large enough and let $A_s = A+sI$.\n",
    "3. Pick a random vector ${\\bf x}_0$ and set ${\\bf x}\\leftarrow P{\\bf x}_0$.\n",
    "4. Let ${\\bf x}_{k+1} = \\frac{PA{\\bf x}_k}{\\|PA{\\bf x}_k\\|}$."
   ]
  },
  {
   "cell_type": "markdown",
   "metadata": {},
   "source": [
    "###### 4(a)\n",
    "Let  \n",
    "```python\n",
    "A = np.array([[0,1,0,0,1],\n",
    "              [1,0,1,0,0],\n",
    "              [0,1,0,1,0],\n",
    "              [0,0,1,0,1],\n",
    "              [1,0,0,1,0]])\n",
    "```\n",
    "Find all eigenvalues and eigenvectors of $A$."
   ]
  },
  {
   "cell_type": "code",
   "execution_count": null,
   "metadata": {},
   "outputs": [],
   "source": [
    "A = np.array([[0,1,0,0,1],\n",
    "              [1,0,1,0,0],\n",
    "              [0,1,0,1,0],\n",
    "              [0,0,1,0,1],\n",
    "              [1,0,0,1,0]])\n",
    "eigv = np.linalg.eig(A)\n",
    "print('eigenvalue = ', eigv[0]) #列出A的特徵值\n",
    "print('eigenvactor = \\n',eigv[1]) #列出A的特徵向量"
   ]
  },
  {
   "cell_type": "markdown",
   "metadata": {},
   "source": [
    "##### Jephian\n",
    "\n",
    "You are supposed to use the enhanced power method to find all eigenvalues/eigenvectors."
   ]
  },
  {
   "cell_type": "markdown",
   "metadata": {},
   "source": [
    "###### 4(b)\n",
    "Let  \n",
    "```python\n",
    "A = np.array([[0,0,1,1,1],\n",
    "              [0,0,1,1,1],\n",
    "              [1,1,0,0,0],\n",
    "              [1,1,0,0,0],\n",
    "              [1,1,0,0,0]])\n",
    "```\n",
    "Find all eigenvalues and eigenvectors of $A$."
   ]
  },
  {
   "cell_type": "code",
   "execution_count": null,
   "metadata": {},
   "outputs": [],
   "source": [
    "A = np.array([[0,0,1,1,1],\n",
    "              [0,0,1,1,1],\n",
    "              [1,1,0,0,0],\n",
    "              [1,1,0,0,0],\n",
    "              [1,1,0,0,0]])\n",
    "eigv = np.linalg.eig(A)\n",
    "print('eigenvalue = ', eigv[0]) #列出A的特徵值\n",
    "print('eigenvactor = \\n',eigv[1]) #列出A的特徵向量"
   ]
  },
  {
   "cell_type": "markdown",
   "metadata": {},
   "source": [
    "###### 4(c)\n",
    "Upgrade your previous function\n",
    "```python\n",
    "def power_method(A, iter=1000, U=None):\n",
    "    do something\n",
    "```\n",
    "to implement this enhanced power method."
   ]
  },
  {
   "cell_type": "code",
   "execution_count": null,
   "metadata": {},
   "outputs": [],
   "source": [
    "np.set_printoptions(precision=3, suppress=True)"
   ]
  },
  {
   "cell_type": "code",
   "execution_count": null,
   "metadata": {},
   "outputs": [],
   "source": [
    "def power_method(A, iter=1000, U=None):          \n",
    "    \n",
    "    if(type(U) == type(None)):\n",
    "        P = np.eye(5)\n",
    "    else:\n",
    "        P = np.eye(5) - U.dot(U.T)\n",
    "    s = np.abs(A).sum() + 1\n",
    "    As = A + s*np.eye(5)\n",
    "    \n",
    "    xk = np.random.randn(5)\n",
    "    xk = P.dot(xk)\n",
    "    \n",
    "    for i in range(iter):\n",
    "        xk = P.dot(As.dot(xk)) / np.linalg.norm(P.dot(As.dot(xk)))\n",
    "    \n",
    "    eigVec = xk\n",
    "    eigVal = (A.dot(xk) / xk)[0] \n",
    "    \n",
    "    return eigVal, eigVec\n",
    "\n",
    "A = np.array([[0,0,1,1,1],\n",
    "              [0,0,1,1,1],\n",
    "              [1,1,0,0,0],\n",
    "              [1,1,0,0,0],\n",
    "              [1,1,0,0,0]])\n",
    "vals, vecs = LA.eigh(A)\n",
    "print('eigenvalues = ' , vals)\n",
    "print('eigenvectors = \\n', vecs)\n",
    "\n",
    "U = vecs[:, [4]] #A的第五行\n",
    "print('U =', U)\n",
    "vals_P, vecs_P = power_method(A, U = U)\n",
    "print('eigenvalues of power_method = ', vals_P)\n",
    "print('eigenvectors of power_method = ', vecs_P)\n",
    "print('eigenvalues of power_method_2.0 = ', A.dot(vecs_P.T)/vecs_P.T)\n",
    "print('eigenvectors of power_method_2.0 = ', vecs_P.T)\n",
    "print('They are the same.')"
   ]
  },
  {
   "cell_type": "markdown",
   "metadata": {},
   "source": [
    "##### Jephian\n",
    "\n",
    "Again, you cannot assume the input matrix is $5\\times 5$.  \n",
    "I don't understand what do you mean by power method 2.0."
   ]
  },
  {
   "cell_type": "markdown",
   "metadata": {},
   "source": [
    "##### Exercise 5\n",
    "Write a function  \n",
    "```python\n",
    "def my_eigh(A):\n",
    "    do something\n",
    "```\n",
    "that takes a symmetric matrix and returns its eigenvalues and eigenvectors."
   ]
  },
  {
   "cell_type": "code",
   "execution_count": null,
   "metadata": {},
   "outputs": [],
   "source": [
    "def my_eigh(A):\n",
    "    eigVec = np.zeros((5, 5))\n",
    "    eigVal = np.zeros(5)\n",
    "    U = None\n",
    "    \n",
    "    for k in range(5):\n",
    "        Val, Vec = power_method(A, U = U)\n",
    "        eigVec[k, :] = Vec\n",
    "        U = eigVec[0:k+1, :].T\n",
    "        eigVal[k] = Val\n",
    "        \n",
    "    return eigVal, eigVec\n",
    "\n",
    "vals_P, vecs_P = my_eigh(A)\n",
    "print('eigenvalues of power_method = ', vals_P)\n",
    "print('eigenvectors of power_method = \\n', vecs_P)\n",
    "print('eigenvalues of power_method_2.0 = \\n', A.dot(vecs_P.T)/vecs_P.T)\n",
    "print('eigenvectors of power_method_2.0 = \\n', vecs_P.T)\n",
    "print('They are the same.')"
   ]
  },
  {
   "cell_type": "markdown",
   "metadata": {},
   "source": [
    "##### Jephian\n",
    "\n",
    "The input matrix is not always $5\\times 5$.  \n",
    "The variable `eigVec` should record the eigenvector as a column vector, just as what `np.linalg.eigh` does.  "
   ]
  },
  {
   "cell_type": "markdown",
   "metadata": {},
   "source": [
    "##### Exercise 6\n",
    "Let   \n",
    "```python\n",
    "A = np.array([[0,1,0,0,1],\n",
    "              [1,0,1,0,0],\n",
    "              [0,1,0,1,0],\n",
    "              [0,0,1,0,1],\n",
    "              [1,0,0,1,0]])\n",
    "vals,vecs = LA.eigh(A)\n",
    "Q = vecs\n",
    "```\n",
    "Let ${\\bf x}_0,\\ldots,{\\bf x}_{10}$ be the vectors generated by the power method.  \n",
    "Print the following for $k = 0,\\ldots, 9$.  \n",
    "1. $Q^\\top {\\bf x}_k$\n",
    "2. $Q^\\top A{\\bf x}_k$  \n",
    "3. The entrywise ratio of the vector in 2 over the vector in 1.\n",
    "4. `vals`\n",
    "5. `\"-----\" to separate different $k$."
   ]
  },
  {
   "cell_type": "code",
   "execution_count": null,
   "metadata": {},
   "outputs": [],
   "source": [
    "A = np.array([[0,1,0,0,1],\n",
    "              [1,0,1,0,0],\n",
    "              [0,1,0,1,0],\n",
    "              [0,0,1,0,1],\n",
    "              [1,0,0,1,0]])\n",
    "\n",
    "vals,vecs = LA.eigh(A)\n",
    "Q = vecs\n",
    "\n",
    "xk = np.random.randn(5)\n",
    "x = []\n",
    "x.append(xk) #將一個新的項目加到list的尾端\n",
    "for i in range(1,11):\n",
    "    xk = xk / np.linalg.norm(xk)\n",
    "    x.append(xk)\n",
    "\n",
    "for i in range(1,11):\n",
    "    print(\"k = \", i)\n",
    "    print('1. ', Q.T.dot(x[i]))\n",
    "    print('2.', Q.T.dot(A).dot(x[i]))\n",
    "    print('3. ', Q.T.dot(A).dot(x[i]) / Q.T.dot(x[i]))\n",
    "    print('4. ', vals)\n",
    "    if(i != 10):\n",
    "        print(\"-----\")"
   ]
  },
  {
   "cell_type": "markdown",
   "metadata": {},
   "source": [
    "##### Exercise 7\n",
    "Let  \n",
    "```python\n",
    "A = np.array([[1,1,1,1,1],\n",
    "              [1,1,1,1,1],\n",
    "              [1,1,0,0,0],\n",
    "              [1,1,0,0,0],\n",
    "              [1,1,0,0,0]])\n",
    "M = A / A.sum(axis=0)\n",
    "```\n",
    "Here $M$ is called a **transition matrix** since all of its entries are nonnegative and the each column sum is one.  \n",
    "There are five nodes $0,\\ldots, 4$.  \n",
    "A vector ${\\bf x}_0 = (x_0, x_1, x_2, x_3, x_4)^\\top$ with $x_i\\geq 0$ and $\\sum_{i}x_i = 1$ can be viewed as a **state** that describes the probability of a person staying at each node.  \n",
    "\n",
    "The transition matrix $M = \\begin{bmatrix}m_{ij}\\end{bmatrix}$ describes the probability of a person starts from $j$ and walk to $i$ in the next step.  \n",
    "Therefore, ${\\bf x}_{k+1} = M{\\bf x}_k$ is the state of the next step.  \n",
    "\n",
    "Find ${\\bf x}_{1000}$.  \n",
    "(Note that you don't have to normalized the length now since the sum is always equal to one.)  \n",
    "\n",
    "You will find out $M{\\bf x}_{1000}$ is very close to ${\\bf x}_{1000}$.  \n",
    "We call such probability state a **stationary state** of this Markov chain."
   ]
  },
  {
   "cell_type": "code",
   "execution_count": null,
   "metadata": {},
   "outputs": [],
   "source": [
    "A = np.array([[1,1,1,1,1],\n",
    "              [1,1,1,1,1],\n",
    "              [1,1,0,0,0],\n",
    "              [1,1,0,0,0],\n",
    "              [1,1,0,0,0]])\n",
    "M = A / A.sum(axis=0) #axis=0表示按列相加\n",
    "\n",
    "x0 = np.array([1/8,1/8,1/4,1/4,1/4])\n",
    "\n",
    "for i in range(1,1001):\n",
    "    x0 = M.dot(x0)\n",
    "    \n",
    "print(\"x1000: \", x0)\n",
    "print(\"Mx1000: \", M.dot(x0))"
   ]
  },
  {
   "cell_type": "code",
   "execution_count": null,
   "metadata": {},
   "outputs": [],
   "source": []
  }
 ],
 "metadata": {
  "kernelspec": {
   "display_name": "Python 3 (ipykernel)",
   "language": "python",
   "name": "python3"
  },
  "language_info": {
   "codemirror_mode": {
    "name": "ipython",
    "version": 3
   },
   "file_extension": ".py",
   "mimetype": "text/x-python",
   "name": "python",
   "nbconvert_exporter": "python",
   "pygments_lexer": "ipython3",
   "version": "3.10.2"
  }
 },
 "nbformat": 4,
 "nbformat_minor": 4
}
