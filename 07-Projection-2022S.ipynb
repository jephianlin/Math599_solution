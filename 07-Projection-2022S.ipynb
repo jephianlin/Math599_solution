{
 "cells": [
  {
   "cell_type": "markdown",
   "metadata": {},
   "source": [
    "# Projection"
   ]
  },
  {
   "cell_type": "markdown",
   "metadata": {},
   "source": [
    "![Creative Commons License](https://i.creativecommons.org/l/by/4.0/88x31.png)  \n",
    "This work by Jephian Lin is licensed under a [Creative Commons Attribution 4.0 International License](http://creativecommons.org/licenses/by/4.0/)."
   ]
  },
  {
   "cell_type": "code",
   "execution_count": null,
   "metadata": {},
   "outputs": [],
   "source": [
    "import numpy as np\n",
    "import matplotlib.pyplot as plt\n",
    "from mpl_toolkits import mplot3d"
   ]
  },
  {
   "cell_type": "markdown",
   "metadata": {},
   "source": [
    "## Main idea"
   ]
  },
  {
   "cell_type": "markdown",
   "metadata": {},
   "source": [
    "The **projection** of a vector ${\\bf b}$ onto the column space of $A$ is  \n",
    "$$A(A^\\top A)^{-1}A^\\top {\\bf b}.$$"
   ]
  },
  {
   "cell_type": "markdown",
   "metadata": {},
   "source": [
    "## Side stories"
   ]
  },
  {
   "cell_type": "markdown",
   "metadata": {},
   "source": [
    "- nearest solution\n",
    "- shortest solution\n",
    "- regression"
   ]
  },
  {
   "cell_type": "markdown",
   "metadata": {},
   "source": [
    "## Experiments"
   ]
  },
  {
   "cell_type": "markdown",
   "metadata": {},
   "source": [
    "###### Exercise 1\n",
    "Let  \n",
    "```python\n",
    "A = np.array([[1,1], \n",
    "              [-1,0], \n",
    "              [0,-1]])\n",
    "b = np.array([1,0,0])\n",
    "```"
   ]
  },
  {
   "cell_type": "markdown",
   "metadata": {},
   "source": [
    "###### 1(a)\n",
    "Find the projection of ${\\bf b}$ onto the column space of $A$.  \n",
    "Compare your answer to L3Q5."
   ]
  },
  {
   "cell_type": "code",
   "execution_count": null,
   "metadata": {
    "jupyter": {
     "source_hidden": true
    },
    "tags": []
   },
   "outputs": [],
   "source": [
    "A = np.array([[1,1], \n",
    "              [-1,0], \n",
    "              [0,-1]])\n",
    "b = np.array([1,0,0])\n",
    "ATA=A.T.dot(A)\n",
    "ATAinv=np.linalg.inv(ATA)\n",
    "proj=A.dot(ATAinv).dot(A.T).dot(b)\n",
    "print(proj)"
   ]
  },
  {
   "cell_type": "markdown",
   "metadata": {},
   "source": [
    "##### Jephian\n",
    "\n",
    "Adding spaces beside the equal sign will make the code more readable."
   ]
  },
  {
   "cell_type": "markdown",
   "metadata": {},
   "source": [
    "###### 1(b)\n",
    "Draw the grid using the columns of $A$.  \n",
    "Draw a vector in blue for ${\\bf b}$.  \n",
    "Draw a vector in red for its projection.  \n",
    "Does the red vector lies on the grid?  \n",
    "Draw a vector in green from the head of the red vector to the head of the blue vector.  \n",
    "Is the green vector orthogonal to the grid?  "
   ]
  },
  {
   "cell_type": "code",
   "execution_count": null,
   "metadata": {},
   "outputs": [],
   "source": [
    "A = np.array([[1,1], \n",
    "              [-1,0], \n",
    "              [0,-1]])\n",
    "b = np.array([1,0,0])\n",
    "\n",
    "### draw the grid using the columns of 𝐴\n",
    "grid = np.meshgrid(np.arange(5),np.arange(5))\n",
    "xs,ys = grid[0].ravel(),grid[1].ravel()\n",
    "\n",
    "vs = np.vstack([xs,ys])\n",
    "Avs = A.dot(vs)\n",
    "\n",
    "%matplotlib notebook\n",
    "ax = plt.axes(projection='3d')\n",
    "ax.scatter(*Avs)\n",
    "\n",
    "### draw the vector b in blue\n",
    "ax.quiver(0,0,0,b[0],b[1],b[2],color=\"blue\")\n",
    "\n",
    "### calculate & draw the projection\n",
    "ATA = A.T.dot(A)\n",
    "ATAinv = np.linalg.inv(ATA)\n",
    "proj = A.dot(ATAinv).dot(A.T).dot(b)\n",
    "ax.quiver(0,0,0,*proj,color='red')\n",
    "\n",
    "### the red vector lies on the grid\n",
    "### draw from red head to blue head\n",
    "ax.quiver(*proj,*(b-proj),color='green')\n",
    "\n",
    "### the green vector is orthogonal to the grid\n",
    "\n",
    "ax.set_xlim(-5,5)\n",
    "ax.set_ylim(-5,5)\n",
    "ax.set_zlim(-5,5)\n",
    "\n",
    "print('vs =',vs)\n",
    "print('Avs =',Avs)\n",
    "print('proj =',proj)\n",
    "print('b-proj =',b-proj)"
   ]
  },
  {
   "cell_type": "markdown",
   "metadata": {},
   "source": [
    "###### 1(c)\n",
    "It looks like the equation $A{\\bf x} = {\\bf b}$ is inconsistent (and has no solution).  \n",
    "Find ${\\bf x}$ such that $\\|A{\\bf x} - {\\bf b}\\|$ is minimized."
   ]
  },
  {
   "cell_type": "code",
   "execution_count": null,
   "metadata": {
    "scrolled": true
   },
   "outputs": [],
   "source": [
    "A = np.array([[1,1], \n",
    "              [-1,0], \n",
    "              [0,-1]])\n",
    "b = np.array([1,0,0])\n",
    "x = np.linalg.inv(A.T.dot(A)).dot(A.T).dot(b)\n",
    "\n",
    "### x is the projection of the vector b onto the column space of 𝐴  \n",
    "print('x =',x)"
   ]
  },
  {
   "cell_type": "markdown",
   "metadata": {},
   "source": [
    "##### Jephian\n",
    "\n",
    "Your answer is correct but the explanation is not.  \n",
    "The vector ${\\bf x}$ is not the projection.  \n",
    "It is the solution of $A{\\bf x} = {\\bf p}$, where ${\\bf p}$ is the projection."
   ]
  },
  {
   "cell_type": "markdown",
   "metadata": {},
   "source": [
    "## Exercises"
   ]
  },
  {
   "cell_type": "markdown",
   "metadata": {},
   "source": [
    "###### Exercise 2\n",
    "Let  \n",
    "```python\n",
    "x = np.array([1,2,3])\n",
    "y = np.array([1.1,1.9,3.1])\n",
    "A = np.vstack([np.ones_like(x), x]).T\n",
    "```"
   ]
  },
  {
   "cell_type": "markdown",
   "metadata": {},
   "source": [
    "###### 2(a)\n",
    "Find ${\\bf c}$ such that $\\|A{\\bf c} - {\\bf y}\\|$ is minimized."
   ]
  },
  {
   "cell_type": "code",
   "execution_count": null,
   "metadata": {},
   "outputs": [],
   "source": [
    "x = np.array([1,2,3])\n",
    "y = np.array([1.1,1.9,3.1])\n",
    "A = np.vstack([np.ones_like(x), x]).T\n",
    "\n",
    "### Similarly, c is the projection of a vector y onto the column space of 𝐴  \n",
    "c=np.linalg.inv(A.T.dot(A)).dot(A.T).dot(y)\n",
    "\n",
    "print('A =',A)\n",
    "print('c =',c)"
   ]
  },
  {
   "cell_type": "markdown",
   "metadata": {},
   "source": [
    "###### 2(b)\n",
    "Let $f(x) = 1.5 + 0.5 x$.  \n",
    "Find a vector ${\\bf v}\\in\\mathbb{R}^2$ such that \n",
    "$$A{\\bf c} = \\begin{bmatrix} f(1) \\\\ f(2) \\\\ f(3) \\end{bmatrix}.$$"
   ]
  },
  {
   "cell_type": "code",
   "execution_count": null,
   "metadata": {},
   "outputs": [],
   "source": [
    "### revision Ac to Av\n",
    "A = np.vstack([np.ones_like(x), x]).T\n",
    "print('A =',A)\n",
    "v = np.array([[1.5],[0.5]])\n",
    "\n",
    "print('v =',v)\n",
    "print('Av =',A.dot(v))\n"
   ]
  },
  {
   "cell_type": "markdown",
   "metadata": {},
   "source": [
    "###### 2(c)\n",
    "Let $f(x) = c_0 + c_1x$.  \n",
    "Find the coefficients $c_0$ and $c_1$ such that  \n",
    "$$\\sum_{i=0}^2 (f(x_i) - y_i)^2$$\n",
    "is minimized."
   ]
  },
  {
   "cell_type": "code",
   "execution_count": null,
   "metadata": {},
   "outputs": [],
   "source": [
    "x = np.array([1,2,3])\n",
    "y = np.array([1.1,1.9,3.1])\n",
    "A = np.vstack([np.ones_like(x), x]).T\n",
    "\n",
    "### c is minimum function \n",
    "c = np.linalg.inv(A.T.dot(A)).dot(A.T).dot(y)\n",
    "c0 = c[0]\n",
    "c1 = c[1]\n",
    "print('c =',c)\n",
    "print('c0 =',c0)\n",
    "print('c1 =',c1)"
   ]
  },
  {
   "cell_type": "markdown",
   "metadata": {},
   "source": [
    "###### 2(d)\n",
    "Plot the points $(x_i,y_i)$ in blue.  \n",
    "Plot the points $(x_i,f(x_i))$ in red, where $f(x)$ is the one you found in 2(c).  "
   ]
  },
  {
   "cell_type": "code",
   "execution_count": null,
   "metadata": {},
   "outputs": [],
   "source": [
    "%matplotlib inline\n",
    "x = np.array([1,2,3])\n",
    "y = np.array([1.1,1.9,3.1])\n",
    "A = np.vstack([np.ones_like(x), x]).T\n",
    "\n",
    "c = np.linalg.inv(A.T.dot(A)).dot(A.T).dot(y)\n",
    "\n",
    "# corresponding f function\n",
    "f = A.dot(c)\n",
    "\n",
    "## plot the point (xi, yi) in blue.\n",
    "plt.scatter(x, y, label= \"points (x,y)\", color= \"blue\")\n",
    "\n",
    "## plot the point (xi, f(xi)) in red.\n",
    "plt.scatter(x, f, label= \"points (x,f(x))\", color= \"red\")\n",
    "\n",
    "# setting x and y axis range\n",
    "plt.ylim(0,4)\n",
    "plt.xlim(0,4)\n",
    "\n",
    "# naming the x axis\n",
    "plt.xlabel('x - axis')\n",
    "# naming the y axis\n",
    "plt.ylabel('y - axis')\n",
    "\n",
    "# show a legend on the plot\n",
    "plt.legend()\n"
   ]
  },
  {
   "cell_type": "markdown",
   "metadata": {},
   "source": [
    "##### Jephian\n",
    "\n",
    "Nice picture with legends!"
   ]
  },
  {
   "cell_type": "markdown",
   "metadata": {},
   "source": [
    "###### Exercise 3\n",
    "Let  \n",
    "```python\n",
    "x = np.array([1,2,3,4,5])\n",
    "y = np.array([2.7,4.8,7.5,10,13.1])\n",
    "A = np.vstack([np.ones_like(x), x, x**2]).T\n",
    "```"
   ]
  },
  {
   "cell_type": "markdown",
   "metadata": {},
   "source": [
    "###### 3(a)\n",
    "Find ${\\bf c}$ such that $\\|A{\\bf c} - {\\bf y}\\|$ is minimized."
   ]
  },
  {
   "cell_type": "code",
   "execution_count": null,
   "metadata": {},
   "outputs": [],
   "source": [
    "x = np.array([1,2,3,4,5])\n",
    "y = np.array([2.7,4.8,7.5,10,13.1])\n",
    "A = np.vstack([np.ones_like(x), x, x**2]).T\n",
    "\n",
    "\n",
    "c = np.linalg.inv(A.T.dot(A)).dot(A.T).dot(y)\n",
    "\n",
    "print(c)"
   ]
  },
  {
   "cell_type": "markdown",
   "metadata": {},
   "source": [
    "###### 3(b)\n",
    "Let $f(x) = 0.5 + 2 x + 0.1x^2$.  \n",
    "Find a vector ${\\bf v}\\in\\mathbb{R}^3$ such that \n",
    "$$A{\\bf c} = \\begin{bmatrix} f(1) \\\\ f(2) \\\\ f(3) \\\\ f(4) \\\\ f(5) \\end{bmatrix}.$$"
   ]
  },
  {
   "cell_type": "code",
   "execution_count": null,
   "metadata": {},
   "outputs": [],
   "source": [
    "### revision Ac to Av\n",
    "x = np.array([1,2,3,4,5])\n",
    "y = np.array([2.7,4.8,7.5,10,13.1])\n",
    "A = np.vstack([np.ones_like(x), x, x**2]).T\n",
    "\n",
    "v = np.array([0.5, 2, 0.1])\n",
    "\n",
    "print('v =',v)\n",
    "\n",
    "print('Av =',A.dot(v))\n"
   ]
  },
  {
   "cell_type": "markdown",
   "metadata": {},
   "source": [
    "###### 3(c)\n",
    "Let $f(x) = c_0 + c_1x + c_2x^2$.  \n",
    "Find the coefficients $c_0,c_1,c_2$ such that  \n",
    "$$\\sum_{i=0}^2 (f(x_i) - y_i)^2$$\n",
    "is minimized."
   ]
  },
  {
   "cell_type": "code",
   "execution_count": null,
   "metadata": {},
   "outputs": [],
   "source": [
    "x = np.array([1,2,3,4,5])\n",
    "y = np.array([2.7,4.8,7.5,10,13.1])\n",
    "A = np.vstack([np.ones_like(x), x, x**2]).T\n",
    "\n",
    "c = np.linalg.inv(A.T.dot(A)).dot(A.T).dot(y)\n",
    "\n",
    "c0,c1,c2 = c[0],c[1],c[2]\n",
    "print('c0 =',c[0])\n",
    "print('c1 =',c[1])\n",
    "print('c2 =',c[2])\n"
   ]
  },
  {
   "cell_type": "markdown",
   "metadata": {},
   "source": [
    "###### 3(d)\n",
    "Plot the points $(x_i,y_i)$ in blue.  \n",
    "Plot the points $(x_i,f(x_i))$ in red, where $f(x)$ is the one you found in 3(c).  "
   ]
  },
  {
   "cell_type": "code",
   "execution_count": null,
   "metadata": {
    "scrolled": false
   },
   "outputs": [],
   "source": [
    "x = np.array([1,2,3,4,5])\n",
    "y = np.array([2.7,4.8,7.5,10,13.1])\n",
    "A = np.vstack([np.ones_like(x), x, x**2]).T\n",
    "\n",
    "c = np.linalg.inv(A.T.dot(A)).dot(A.T).dot(y)\n",
    "f = A.dot(c)\n",
    "\n",
    "%matplotlib notebook\n",
    "\n",
    "## plot the points (xi, yi) in blue.\n",
    "plt.scatter(x, y, label= \"points (x,y)\", color= \"blue\", s=50)\n",
    "\n",
    "## plot the points (xi, f(xi)) in red.\n",
    "plt.scatter(x, f, label= \"points (x,f(x))\", color= \"red\", s=50)\n",
    "\n",
    "# setting x and y axis range\n",
    "plt.ylim(0,15)\n",
    "plt.xlim(0,6)\n",
    " \n",
    "# naming the x axis\n",
    "plt.xlabel('x - axis')\n",
    "# naming the y axis\n",
    "plt.ylabel('y - axis')\n",
    "\n",
    "# show a legend on the plot\n",
    "plt.legend()\n",
    "\n",
    "# two figure\n",
    "fig, (ax1, ax2) = plt.subplots(1, 2)\n",
    "fig.set_figwidth(15)\n",
    "fig.suptitle('Horizontally stacked subplots')\n",
    "ax1.scatter(x, y, label= \"points (x,y)\", color= \"blue\", s=30)\n",
    "ax1.set_ylabel('y - axis')\n",
    "ax1.set_xlabel('x - axis')\n",
    "ax2.scatter(x, A.dot(c), label= \"points (x,f(x))\", color= \"red\", s=30)\n",
    "ax2.set_ylabel('y - axis')\n",
    "ax2.set_xlabel('x - axis')\n"
   ]
  },
  {
   "cell_type": "markdown",
   "metadata": {},
   "source": [
    "##### Exercise 4\n",
    "Let  \n",
    "```python\n",
    "u = np.array([1,1])\n",
    "```"
   ]
  },
  {
   "cell_type": "markdown",
   "metadata": {},
   "source": [
    "###### 4(a)\n",
    "Find the projection matrix $P$ such that $P{\\bf x}$ is the projection of ${\\bf x}$ onto the line spanned by ${\\bf u}$.  \n",
    "Can you find a formula of $P$ by ${\\bf u}$?"
   ]
  },
  {
   "cell_type": "code",
   "execution_count": null,
   "metadata": {},
   "outputs": [],
   "source": [
    "## u.shape  #mx1\n",
    "u = np.array([1,1]).reshape(2,1)\n",
    "\n",
    "uT = u.T\n",
    "u1 = u.dot(uT)\n",
    "u2 = uT.dot(u)\n",
    "\n",
    "## a formula of P by u\n",
    "P = u1*(1/u2)\n",
    "\n",
    "print('P =',P)"
   ]
  },
  {
   "cell_type": "markdown",
   "metadata": {},
   "source": [
    "###### 4(b)\n",
    "Let  \n",
    "```python\n",
    "u_hat = u / np.linalg.norm(u)\n",
    "```\n",
    "be a vector of length 1.  \n",
    "Check if the $P$ for $\\hat{\\bf u}$ is the same as the $P$ for ${\\bf u}$.  \n",
    "Can you find a formula of $P$ by $\\hat{\\bf u}$?"
   ]
  },
  {
   "cell_type": "code",
   "execution_count": null,
   "metadata": {},
   "outputs": [],
   "source": [
    "## u.shape  #mx1\n",
    "u = np.array([1,1]).reshape(2,1)\n",
    "\n",
    "u1 = u.dot(u.T)\n",
    "u2 = u.T.dot(u)\n",
    "P = u1*(1/u2)\n",
    "\n",
    "\n",
    "u_hat = u / np.linalg.norm(u)\n",
    "u_hat1 = u_hat.dot(u_hat.T)\n",
    "u_hat2 = u_hat.T.dot(u_hat)\n",
    "P_hat = u_hat1*(1/u_hat2)\n",
    "\n",
    "\n",
    "print(P)\n",
    "print(P_hat)\n",
    "\n",
    "P==P_hat\n"
   ]
  },
  {
   "cell_type": "markdown",
   "metadata": {},
   "source": [
    "##### Jephian\n",
    "\n",
    "Indeed, if ${\\bf u}$ is a vector, then the projection matrix is $\\frac{1}{\\|{\\bf u}\\|^2}{\\bf u}{\\bf u}^\\top$, while the scalar can be ignored if ${\\bf u}$ is a unit vector."
   ]
  },
  {
   "cell_type": "markdown",
   "metadata": {},
   "source": [
    "#### Remark\n",
    "Think about the reasons behind the main idea.  \n",
    "1. One may write ${\\bf b} = {\\bf p} + {\\bf h}$ such that ${\\bf p}\\in\\operatorname{Col}(A)$ and ${\\bf h}\\perp\\operatorname{Col}(A)$.  This means the following:  \n",
    "    - ${\\bf p} = A{\\bf x}$ for some ${\\bf x}$\n",
    "    - $A^\\top {\\bf h} = {\\bf 0}$\n",
    "2. Then $A^\\top {\\bf b} = A^\\top{\\bf p} = A^\\top A{\\bf x}$ for some ${\\bf x}$.\n",
    "3. $(A^\\top A)^{-1}A^\\top{\\bf b} = {\\bf x}$\n",
    "4. $A(A^\\top A)^{-1}A^\\top{\\bf b} = A{\\bf x} = {\\bf p}$ is the projection."
   ]
  },
  {
   "cell_type": "code",
   "execution_count": null,
   "metadata": {},
   "outputs": [],
   "source": [
    "FC = 'Thank you'\n",
    "FC"
   ]
  },
  {
   "cell_type": "code",
   "execution_count": null,
   "metadata": {},
   "outputs": [],
   "source": []
  }
 ],
 "metadata": {
  "kernelspec": {
   "display_name": "Python 3 (ipykernel)",
   "language": "python",
   "name": "python3"
  },
  "language_info": {
   "codemirror_mode": {
    "name": "ipython",
    "version": 3
   },
   "file_extension": ".py",
   "mimetype": "text/x-python",
   "name": "python",
   "nbconvert_exporter": "python",
   "pygments_lexer": "ipython3",
   "version": "3.10.2"
  }
 },
 "nbformat": 4,
 "nbformat_minor": 4
}
