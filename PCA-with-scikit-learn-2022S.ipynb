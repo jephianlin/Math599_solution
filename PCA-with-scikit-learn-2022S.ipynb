{
 "cells": [
  {
   "cell_type": "markdown",
   "metadata": {},
   "source": [
    "# PCA with scikit learn"
   ]
  },
  {
   "cell_type": "markdown",
   "metadata": {},
   "source": [
    "![Creative Commons License](https://i.creativecommons.org/l/by/4.0/88x31.png)  \n",
    "This work by Jephian Lin is licensed under a [Creative Commons Attribution 4.0 International License](http://creativecommons.org/licenses/by/4.0/)."
   ]
  },
  {
   "cell_type": "code",
   "execution_count": null,
   "metadata": {},
   "outputs": [],
   "source": [
    "import numpy as np\n",
    "import matplotlib.pyplot as plt"
   ]
  },
  {
   "cell_type": "markdown",
   "metadata": {},
   "source": [
    "## Code\n",
    "```python\n",
    "from sklearn.decomposition import PCA ## import model\n",
    "model = PCA(<parameters>) ## parameters : some settings\n",
    "X_new = model.fit_transform(X) ## transform data to new data\n",
    "```\n",
    "\n",
    "[Official Reference](https://scikit-learn.org/stable/modules/generated/sklearn.decomposition.PCA.html)"
   ]
  },
  {
   "cell_type": "markdown",
   "metadata": {},
   "source": [
    "## Parameters\n",
    "- `n_components`: target dimension"
   ]
  },
  {
   "cell_type": "markdown",
   "metadata": {},
   "source": [
    "## Attributes\n",
    "```python\n",
    "n_samples: height of `X` ## numbers of rows\n",
    "n_features: width of `X` ## numbers of columns\n",
    "n_components_: target dimension ## r\n",
    "components_: `n_components` rows of principal components ##  r *　d\n",
    "mean_: `X.mean(axis=0)`\n",
    "explained_variance_: importance of each component\n",
    "explained_variance_ratio_: importance of each component in ratio\n",
    "singular_values_: singular values of shifted `X` ##\n",
    "(`singular_values_**2 / n_samples_ == explained_variance_`)  \n",
    "```"
   ]
  },
  {
   "cell_type": "markdown",
   "metadata": {},
   "source": [
    "## Sample data"
   ]
  },
  {
   "cell_type": "markdown",
   "metadata": {},
   "source": [
    "##### Exercise 1\n",
    "Let  \n",
    "```python\n",
    "mu = np.array([3,4])\n",
    "cov = np.array([[1.1,1],\n",
    "                [1,1.1]])\n",
    "X = np.random.multivariate_normal(mu, cov, 100)\n",
    "```\n",
    "Let `X_new` be the result of PCA on `X` ."
   ]
  },
  {
   "cell_type": "code",
   "execution_count": null,
   "metadata": {},
   "outputs": [],
   "source": [
    "mu = np.array([3,4])\n",
    "cov = np.array([[1.1,1],\n",
    "                [1,1.1]])\n",
    "X = np.random.multivariate_normal(mu, cov, 100)"
   ]
  },
  {
   "cell_type": "code",
   "execution_count": null,
   "metadata": {},
   "outputs": [],
   "source": [
    "X.shape"
   ]
  },
  {
   "cell_type": "code",
   "execution_count": null,
   "metadata": {},
   "outputs": [],
   "source": [
    "from sklearn.decomposition import PCA\n",
    "model = PCA()\n",
    "X_new = model.fit_transform(X)"
   ]
  },
  {
   "cell_type": "code",
   "execution_count": null,
   "metadata": {},
   "outputs": [],
   "source": [
    "X_new.shape"
   ]
  },
  {
   "cell_type": "markdown",
   "metadata": {},
   "source": [
    "###### 1(a)\n",
    "Plot points (rows) in `X` .  \n",
    "Plot points (rows) in `X_new` ."
   ]
  },
  {
   "cell_type": "code",
   "execution_count": null,
   "metadata": {},
   "outputs": [],
   "source": [
    "%matplotlib inline\n",
    "plt.axis('equal')\n",
    "plt.scatter(*X.T,color='black') ## X\n",
    "plt.scatter(*X_new.T,color='blue') ## X_new\n",
    "## X_new for here is move to around origin and rotate"
   ]
  },
  {
   "cell_type": "markdown",
   "metadata": {},
   "source": [
    "##### 1(b)\n",
    "Adding on top of the previous figure, draw vectors for the rows in `model.components_` with the tails at `model.mean_` ."
   ]
  },
  {
   "cell_type": "code",
   "execution_count": null,
   "metadata": {},
   "outputs": [],
   "source": [
    "model.components_"
   ]
  },
  {
   "cell_type": "code",
   "execution_count": null,
   "metadata": {},
   "outputs": [],
   "source": [
    "%matplotlib inline\n",
    "plt.axis('equal')\n",
    "plt.scatter(*X.T,color='black') ## X\n",
    "plt.scatter(*X_new.T,color='blue') ## X_new\n",
    "plt.arrow(*model.mean_,*model.components_[0],color='red',head_width=0.2)\n",
    "plt.arrow(*model.mean_,*model.components_[1],color='red',head_width=0.2)\n",
    "## two principal components are perpendicular(mutually orthogonal)."
   ]
  },
  {
   "cell_type": "markdown",
   "metadata": {},
   "source": [
    "###### 1(c)\n",
    "Print `model.explained_variance_ratio_` .  \n",
    "How important is the first component in percentage?"
   ]
  },
  {
   "cell_type": "code",
   "execution_count": null,
   "metadata": {},
   "outputs": [],
   "source": [
    "model.explained_variance_ratio_"
   ]
  },
  {
   "cell_type": "code",
   "execution_count": null,
   "metadata": {},
   "outputs": [],
   "source": [
    "print('The first component in percentage is ',model.explained_variance_ratio_[0]*100,'%')"
   ]
  },
  {
   "cell_type": "markdown",
   "metadata": {},
   "source": [
    "##### Exercise 2\n",
    "Let  \n",
    "```python\n",
    "X = np.genfromtxt('hidden_text.csv', delimiter=',')\n",
    "```\n",
    "This data has all its points lie in a two-dimensional plane embedded in a much higher dimension.  "
   ]
  },
  {
   "cell_type": "code",
   "execution_count": null,
   "metadata": {},
   "outputs": [],
   "source": [
    "X = np.genfromtxt('hidden_text.csv', delimiter=',')\n",
    "X.shape ## in a high dim ( 100-dim ) ## 1261*100"
   ]
  },
  {
   "cell_type": "code",
   "execution_count": null,
   "metadata": {},
   "outputs": [],
   "source": [
    "from sklearn.decomposition import PCA\n",
    "model = PCA(2)\n",
    "X_new = model.fit_transform(X)\n",
    "X_new.shape ## in a 2-dim ## 1261*2"
   ]
  },
  {
   "cell_type": "markdown",
   "metadata": {},
   "source": [
    "###### 2(a)\n",
    "Can you find out what does this data say?"
   ]
  },
  {
   "cell_type": "code",
   "execution_count": null,
   "metadata": {},
   "outputs": [],
   "source": [
    "%matplotlib inline\n",
    "plt.axis('equal')\n",
    "plt.scatter(*X_new.T,color='blue')\n",
    "print('The data is said NSYSU.')"
   ]
  },
  {
   "cell_type": "markdown",
   "metadata": {},
   "source": [
    "###### 2(b)\n",
    "How much does the first two components have explained in ratio?"
   ]
  },
  {
   "cell_type": "code",
   "execution_count": null,
   "metadata": {},
   "outputs": [],
   "source": [
    "model.explained_variance_ratio_"
   ]
  },
  {
   "cell_type": "code",
   "execution_count": null,
   "metadata": {},
   "outputs": [],
   "source": [
    "print('The first component in percentage is ',model.explained_variance_ratio_[0]*100,'%')\n",
    "print('The second component in percentage is ',model.explained_variance_ratio_[1]*100,'%')"
   ]
  },
  {
   "cell_type": "markdown",
   "metadata": {},
   "source": [
    "##### Exercise 3\n",
    "Let  \n",
    "```python\n",
    "from sklearn.datasets import load_digits\n",
    "digits = load_digits()\n",
    "X = digits.data\n",
    "y = digits.target\n",
    "```"
   ]
  },
  {
   "cell_type": "code",
   "execution_count": null,
   "metadata": {},
   "outputs": [],
   "source": [
    "from sklearn.datasets import load_digits\n",
    "digits = load_digits()\n",
    "X = digits.data\n",
    "y = digits.target"
   ]
  },
  {
   "cell_type": "code",
   "execution_count": null,
   "metadata": {},
   "outputs": [],
   "source": [
    "X.shape ## 1797*64"
   ]
  },
  {
   "cell_type": "markdown",
   "metadata": {},
   "source": [
    "###### 3(a)\n",
    "Let `X_new` be the result of applying PCA to `X` with 30 components.  \n",
    "Use the first two columns as the $x$,$y$-coordinates and plot the points with `c=y` ."
   ]
  },
  {
   "cell_type": "code",
   "execution_count": null,
   "metadata": {},
   "outputs": [],
   "source": [
    "from sklearn.decomposition import PCA\n",
    "model = PCA(30)\n",
    "X_new = model.fit_transform(X)\n",
    "X_new.shape"
   ]
  },
  {
   "cell_type": "code",
   "execution_count": null,
   "metadata": {},
   "outputs": [],
   "source": [
    "## use the first two columns\n",
    "%matplotlib inline\n",
    "plt.axis('equal')\n",
    "plt.scatter(X_new[:,0],X_new[:,1],c=y)\n",
    "## plt.scatter(X_new.T[0],X_new.T[1],c=y)"
   ]
  },
  {
   "cell_type": "markdown",
   "metadata": {},
   "source": [
    "###### 3(b)\n",
    "\n",
    "Use the first three columns as the $x$,$y$,$z$-coordinates and plot the points with `c=y` ."
   ]
  },
  {
   "cell_type": "code",
   "execution_count": null,
   "metadata": {},
   "outputs": [],
   "source": [
    "%matplotlib notebook\n",
    "ax = plt.axes(projection='3d')\n",
    "ax.scatter(X_new[:,0],X_new[:,1],X_new[:,2],c=y)\n",
    "## ax.scatter(X_new.T[0],X_new.T[1],X_new.T[2],c=y)"
   ]
  },
  {
   "cell_type": "markdown",
   "metadata": {},
   "source": [
    "###### 3(c)\n",
    "Use `plt.plot` to plot `model.explained_variance_` .  \n",
    "What is an appropriate choice of the target dimension?"
   ]
  },
  {
   "cell_type": "code",
   "execution_count": null,
   "metadata": {},
   "outputs": [],
   "source": [
    "%matplotlib inline\n",
    "plt.plot(model.explained_variance_)"
   ]
  },
  {
   "cell_type": "code",
   "execution_count": null,
   "metadata": {},
   "outputs": [],
   "source": [
    "%matplotlib inline\n",
    "c = model.explained_variance_\n",
    "c = np.cumsum(c)/np.sum(c)\n",
    "## numpy.cumsum(arr, axis=None, dtype=None, out=None) : cumulation\n",
    "plt.plot(c)\n",
    "## depend on the accuracy we want"
   ]
  },
  {
   "cell_type": "markdown",
   "metadata": {},
   "source": [
    "## Experiments"
   ]
  },
  {
   "cell_type": "markdown",
   "metadata": {},
   "source": [
    "##### Exercise 4\n",
    "Let  \n",
    "```python\n",
    "mu = np.array([3,4])\n",
    "cov = np.array([[1.1,1],\n",
    "                [1,1.1]])\n",
    "X = np.random.multivariate_normal(mu, cov, 100)\n",
    "\n",
    "model = PCA(2)\n",
    "X_new = model.fit_transform(X)\n",
    "```"
   ]
  },
  {
   "cell_type": "code",
   "execution_count": null,
   "metadata": {},
   "outputs": [],
   "source": [
    "mu = np.array([3,4])\n",
    "cov = np.array([[1.1,1],\n",
    "                [1,1.1]])\n",
    "X = np.random.multivariate_normal(mu, cov, 100)\n",
    "\n",
    "model = PCA(2)\n",
    "X_new = model.fit_transform(X)"
   ]
  },
  {
   "cell_type": "code",
   "execution_count": null,
   "metadata": {},
   "outputs": [],
   "source": [
    "X.shape"
   ]
  },
  {
   "cell_type": "code",
   "execution_count": null,
   "metadata": {},
   "outputs": [],
   "source": [
    "X_new.shape"
   ]
  },
  {
   "cell_type": "markdown",
   "metadata": {},
   "source": [
    "###### 4(a)\n",
    "Let  \n",
    "```python\n",
    "X_shifted = X - model.mean_\n",
    "```\n",
    "Plot the points (rows) of `X` .  \n",
    "Plot the points (rows) of `X_shifted` ."
   ]
  },
  {
   "cell_type": "code",
   "execution_count": null,
   "metadata": {},
   "outputs": [],
   "source": [
    "X_shifted = X - model.mean_\n",
    "%matplotlib inline\n",
    "plt.axis('equal')\n",
    "plt.scatter(*X.T,color='black') ## X\n",
    "plt.scatter(*X_shifted.T,color='blue') ## X_shifted ## Shift the data to let the data average is zero"
   ]
  },
  {
   "cell_type": "markdown",
   "metadata": {},
   "source": [
    "###### 4(b)\n",
    "Check the rows of `model.components_` are mutually orthogonal and of length 1."
   ]
  },
  {
   "cell_type": "code",
   "execution_count": null,
   "metadata": {},
   "outputs": [],
   "source": [
    "model.components_"
   ]
  },
  {
   "cell_type": "code",
   "execution_count": null,
   "metadata": {},
   "outputs": [],
   "source": [
    "model.components_.dot(model.components_.T)"
   ]
  },
  {
   "cell_type": "code",
   "execution_count": null,
   "metadata": {},
   "outputs": [],
   "source": [
    "np.isclose(model.components_.dot(model.components_.T),np.eye(2)).all()\n",
    "## The rows of model.components_ are mutually orthogonal and of length 1."
   ]
  },
  {
   "cell_type": "markdown",
   "metadata": {},
   "source": [
    "###### 4(c)\n",
    "Let  \n",
    "```python\n",
    "X_proj = X_shifted.dot(model.components_.T)\n",
    "```\n",
    "Plot the points (rows) of `X_shifted` .\n",
    "Plot the points (rows) of `X_proj` ."
   ]
  },
  {
   "cell_type": "code",
   "execution_count": null,
   "metadata": {},
   "outputs": [],
   "source": [
    "X_proj = X_shifted.dot(model.components_.T)"
   ]
  },
  {
   "cell_type": "code",
   "execution_count": null,
   "metadata": {},
   "outputs": [],
   "source": [
    "%matplotlib inline\n",
    "plt.axis('equal')\n",
    "plt.scatter(*X_shifted.T,color='black') # X_shifted\n",
    "plt.scatter(*X_proj.T,color='green') # X_proj"
   ]
  },
  {
   "cell_type": "code",
   "execution_count": null,
   "metadata": {},
   "outputs": [],
   "source": [
    "%matplotlib inline\n",
    "plt.axis('equal')\n",
    "plt.scatter(*X_shifted.T,color='black') # X_shifted\n",
    "plt.scatter(*X_new.T,color='blue') # X_new\n",
    "## X_new(blue) is the same as X_proj(green)"
   ]
  },
  {
   "cell_type": "markdown",
   "metadata": {},
   "source": [
    "###### 4(d)\n",
    "Suppose `model.mean_` and `model.components_` are given.  \n",
    "Can you find a way to obtained `X` from `X_new` ?"
   ]
  },
  {
   "cell_type": "code",
   "execution_count": null,
   "metadata": {},
   "outputs": [],
   "source": [
    "model.mean_"
   ]
  },
  {
   "cell_type": "code",
   "execution_count": null,
   "metadata": {},
   "outputs": [],
   "source": [
    "model.components_"
   ]
  },
  {
   "cell_type": "code",
   "execution_count": null,
   "metadata": {},
   "outputs": [],
   "source": [
    "inv = np.linalg.inv(model.components_.T)\n",
    "X_recover = X_new.dot(inv) + model.mean_\n",
    "np.isclose(X_recover,X).all()"
   ]
  },
  {
   "cell_type": "code",
   "execution_count": null,
   "metadata": {},
   "outputs": [],
   "source": [
    "%matplotlib inline\n",
    "plt.scatter(*X_recover.T,color='blue',s=50)\n",
    "plt.scatter(*X.T,color='black',s=10)"
   ]
  },
  {
   "cell_type": "markdown",
   "metadata": {},
   "source": [
    "##### Alex:\n",
    "In fact, `np.linalg.inv(model.components_.T)` is the same as `model.components_`."
   ]
  },
  {
   "cell_type": "code",
   "execution_count": null,
   "metadata": {},
   "outputs": [],
   "source": []
  }
 ],
 "metadata": {
  "kernelspec": {
   "display_name": "Python 3 (ipykernel)",
   "language": "python",
   "name": "python3"
  },
  "language_info": {
   "codemirror_mode": {
    "name": "ipython",
    "version": 3
   },
   "file_extension": ".py",
   "mimetype": "text/x-python",
   "name": "python",
   "nbconvert_exporter": "python",
   "pygments_lexer": "ipython3",
   "version": "3.10.2"
  }
 },
 "nbformat": 4,
 "nbformat_minor": 4
}
