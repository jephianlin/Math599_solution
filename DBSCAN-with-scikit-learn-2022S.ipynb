{
 "cells": [
  {
   "cell_type": "markdown",
   "metadata": {},
   "source": [
    "# DBSCAN with scikit learn"
   ]
  },
  {
   "cell_type": "markdown",
   "metadata": {},
   "source": [
    "![Creative Commons License](https://i.creativecommons.org/l/by/4.0/88x31.png)  \n",
    "This work by Jephian Lin is licensed under a [Creative Commons Attribution 4.0 International License](http://creativecommons.org/licenses/by/4.0/)."
   ]
  },
  {
   "cell_type": "code",
   "execution_count": null,
   "metadata": {},
   "outputs": [],
   "source": [
    "import numpy as np\n",
    "import matplotlib.pyplot as plt"
   ]
  },
  {
   "cell_type": "code",
   "execution_count": null,
   "metadata": {},
   "outputs": [],
   "source": [
    "def dist_mtx(X, Y=None):\n",
    "    \"\"\"Return the distance matrix between rows of X and rows of Y\n",
    "    \n",
    "    Input:  \n",
    "        X: an array of shape (N,d)\n",
    "        Y: an array of shape (M,d)\n",
    "            if None, Y = X\n",
    "           \n",
    "    Output:\n",
    "        the matrix [d_ij] where d_ij is the distance between  \n",
    "        the i-th row of X and the j-th row of Y\n",
    "    \"\"\"\n",
    "    if isinstance(Y, np.ndarray):\n",
    "        pass\n",
    "    elif Y == None:\n",
    "        Y = X.copy()\n",
    "    else:\n",
    "        raise TypeError(\"Y should be a NumPy array or None\") \n",
    "    X_col = X[:, np.newaxis, :]\n",
    "    Y_row = Y[np.newaxis, :, :]\n",
    "    diff = X_col - Y_row\n",
    "    dist = np.sqrt(np.sum(diff**2, axis=-1))\n",
    "    return dist"
   ]
  },
  {
   "cell_type": "markdown",
   "metadata": {},
   "source": [
    "## Code\n",
    "```python\n",
    "from sklearn.cluster import DBSCAN\n",
    "model = DBSCAN(<parameters>)\n",
    "y_new = model.fit_predict(X)\n",
    "```\n",
    "\n",
    "[Official Reference](https://scikit-learn.org/stable/modules/generated/sklearn.cluster.DBSCAN.html)"
   ]
  },
  {
   "cell_type": "markdown",
   "metadata": {},
   "source": [
    "## Parameters\n",
    "- `eps`: the $\\epsilon$ used for finding neighborhood\n",
    "- `min_samples`: a sample is considered as a core sample if its $\\epsilon$-ball contains at least `min_sample` samples (including itself)"
   ]
  },
  {
   "cell_type": "markdown",
   "metadata": {},
   "source": [
    "## Attributes\n",
    "- `core_sample_indices_`: an array of shape `(n_core_samples,)` that stores the indices of the core samples\n",
    "- `components_`: an array of shape `(n_core_samples, n_features)` that stores the core samples as rows\n",
    "- `labels_`: an array of shape `(n_samples,)` that stores the label of each sample, where `-1` stands for noise"
   ]
  },
  {
   "cell_type": "markdown",
   "metadata": {},
   "source": [
    "## Sample data"
   ]
  },
  {
   "cell_type": "markdown",
   "metadata": {},
   "source": [
    "##### Exercise 1\n",
    "Let  \n",
    "```python\n",
    "mu1 = np.array([2.5,0])\n",
    "cov1 = np.array([[1.1,-1],\n",
    "                [-1,1.1]])\n",
    "mu2 = np.array([-2.5,0])\n",
    "cov2 = np.array([[1.1,1],\n",
    "                [1,1.1]])\n",
    "X = np.vstack([np.random.multivariate_normal(mu1, cov1, 100), \n",
    "               np.random.multivariate_normal(mu2, cov2, 100)])\n",
    "```"
   ]
  },
  {
   "cell_type": "markdown",
   "metadata": {},
   "source": [
    "###### 1(a)\n",
    "Apply the DBSCAN algorithm to `X` with the default setting and get the prediction `y_new` .  \n",
    "Plot the points (rows) in `X` with `c=y_new` .  \n",
    "Print `model.core_sample_indices_.shape` ."
   ]
  },
  {
   "cell_type": "code",
   "execution_count": null,
   "metadata": {},
   "outputs": [],
   "source": [
    "mu1 = np.array([2.5,0])\n",
    "cov1 = np.array([[1.1,-1],\n",
    "                [-1,1.1]])\n",
    "mu2 = np.array([-2.5,0])\n",
    "cov2 = np.array([[1.1,1],\n",
    "                [1,1.1]])\n",
    "X = np.vstack([np.random.multivariate_normal(mu1, cov1, 100), \n",
    "               np.random.multivariate_normal(mu2, cov2, 100)])\n",
    "\n",
    "from sklearn.cluster import DBSCAN\n",
    "model = DBSCAN()\n",
    "y_new = model.fit_predict(X)\n",
    "\n",
    "plt.axis(\"equal\")\n",
    "plt.scatter(*X.T,c=y_new)\n",
    "print(model.core_sample_indices_.shape) #core 的數量"
   ]
  },
  {
   "cell_type": "markdown",
   "metadata": {},
   "source": [
    "###### 1(b)\n",
    "Apply the DBSCAN algorithm to `X` with `eps=1` and get the prediction `y_new` .  \n",
    "Plot the points (rows) in `X` with `c=y_new` .  \n",
    "Print `model.core_sample_indices_.shape` ."
   ]
  },
  {
   "cell_type": "code",
   "execution_count": null,
   "metadata": {},
   "outputs": [],
   "source": [
    "model = DBSCAN(eps=1)     #eps取太大所以大部分點都分到同一類\n",
    "y_new = model.fit_predict(X)\n",
    "\n",
    "plt.axis(\"equal\")\n",
    "plt.scatter(*X.T,c=y_new)\n",
    "print(model.core_sample_indices_.shape)"
   ]
  },
  {
   "cell_type": "markdown",
   "metadata": {},
   "source": [
    "##### 1(c)\n",
    "Apply the DBSCAN algorithm to `X` with `min_samples=10` and get the prediction `y_new` .  \n",
    "Plot the points (rows) in `X` with `c=y_new` .  \n",
    "Print `model.core_sample_indices_.shape` ."
   ]
  },
  {
   "cell_type": "code",
   "execution_count": null,
   "metadata": {},
   "outputs": [],
   "source": [
    "model = DBSCAN(min_samples=10)\n",
    "y_new = model.fit_predict(X)\n",
    "\n",
    "plt.axis(\"equal\")\n",
    "plt.scatter(*X.T,c=y_new)\n",
    "print(model.core_sample_indices_.shape)"
   ]
  },
  {
   "cell_type": "markdown",
   "metadata": {},
   "source": [
    "###### 1(d)\n",
    "Finding an appropriate `eps` is the main task for the DBSCAN algorithm.  \n",
    "Let `dist` be the distance matrix between rows in `X` .  \n",
    "The code below find the average of the distances between one sample to its $k$-th nearest sample.\n",
    "```python\n",
    "k = 10\n",
    "sort_dist = dist.copy()\n",
    "sort_dist.partition(k)\n",
    "sort_dist[:,:k+1].max(axis=1).mean()\n",
    "```\n",
    "This can be a reference for the choice of `eps` ."
   ]
  },
  {
   "cell_type": "code",
   "execution_count": null,
   "metadata": {
    "scrolled": true
   },
   "outputs": [],
   "source": [
    "dist = dist_mtx(X, X)  #距離矩陣i,j項為i到j的距離\n",
    "print(dist)\n",
    "\n",
    "k = 10\n",
    "sort_dist = dist.copy()\n",
    "sort_dist.partition(k)  #把前10小的數字排在前10個位置，順序不重要\n",
    "sort_dist[:,:k+1].max(axis=1).mean() #取每一行中第十小的數字(距離)取平均"
   ]
  },
  {
   "cell_type": "markdown",
   "metadata": {},
   "source": [
    "###### 1(e)\n",
    "Finding an appropriate `min_samples` is another task for the DBSCAN algorithm.  \n",
    "Let `dist` be the distance matrix between rows in `X` .\n",
    "The code below generate the histogram of the number of neighbors inside the $\\epsilon$-balls centered at each sample.\n",
    "```python\n",
    "eps = 0.5\n",
    "n_nbrs = np.sum(dist < eps, axis=1)\n",
    "plt.hist(n_nbrs)\n",
    "```\n",
    "This can be a reference for the choice of `min_samples` ."
   ]
  },
  {
   "cell_type": "code",
   "execution_count": null,
   "metadata": {},
   "outputs": [],
   "source": [
    "n_nbrs"
   ]
  },
  {
   "cell_type": "code",
   "execution_count": null,
   "metadata": {},
   "outputs": [],
   "source": [
    "eps = 0.5\n",
    "n_nbrs = np.sum(dist < eps, axis=1)  #計算與每個點距離小於eps的數量個數\n",
    "plt.hist(n_nbrs)                "
   ]
  },
  {
   "cell_type": "markdown",
   "metadata": {},
   "source": [
    "##### Exercise 2\n",
    "Let  \n",
    "```python\n",
    "from sklearn.datasets import load_iris\n",
    "iris = load_iris()\n",
    "X = iris.data\n",
    "y_iris = iris.target\n",
    "```"
   ]
  },
  {
   "cell_type": "markdown",
   "metadata": {},
   "source": [
    "###### 2(a)\n",
    "Plot the points (rows) in `X` with `c=y_iris` .  \n",
    "(Each row is in $\\mathbb{R}^4$.  \n",
    "Just pick arbitrary two coordinates to plot the points.)  "
   ]
  },
  {
   "cell_type": "code",
   "execution_count": null,
   "metadata": {},
   "outputs": [],
   "source": [
    "from sklearn.datasets import load_iris\n",
    "iris = load_iris()\n",
    "X = iris.data\n",
    "y_iris = iris.target\n",
    "\n",
    "plt.axis(\"equal\")\n",
    "plt.scatter(X[:,1], X[:,3], c=y_iris)"
   ]
  },
  {
   "cell_type": "markdown",
   "metadata": {},
   "source": [
    "###### 2(b)\n",
    "Apply the DBSCAN algorithm to `X` with the default setting and get the prediction `y_new` .  \n",
    "Plot the points (rows) in `X` with `c=y_new` .  \n",
    "(Each row is in $\\mathbb{R}^4$.  \n",
    "Just pick arbitrary two coordinates to plot the points.)  \n",
    "Try your best to find appropriate `eps` and `min_samples` so that the results is similar to `y_iris` ."
   ]
  },
  {
   "cell_type": "code",
   "execution_count": null,
   "metadata": {},
   "outputs": [],
   "source": [
    "dist = dist_mtx(X, X)\n",
    "k = 11\n",
    "sort_dist = dist.copy()\n",
    "sort_dist.partition(k)\n",
    "print(sort_dist[:,:k+1].max(axis=1).mean())\n",
    "\n",
    "eps = 0.5\n",
    "n_nbrs = np.sum(dist < eps, axis=1)\n",
    "plt.figure(1)\n",
    "plt.hist(n_nbrs)\n",
    "print(n_nbrs.mean())"
   ]
  },
  {
   "cell_type": "code",
   "execution_count": null,
   "metadata": {},
   "outputs": [],
   "source": [
    "model = DBSCAN(eps=0.5, min_samples=11)\n",
    "y_new = model.fit_predict(X)\n",
    "\n",
    "plt.axis(\"equal\")\n",
    "plt.scatter(X[:,1], X[:,3], c=y_new)"
   ]
  },
  {
   "cell_type": "markdown",
   "metadata": {},
   "source": [
    "##### Exercise 3\n",
    "Let  \n",
    "```python\n",
    "from PIL import Image\n",
    "img = Image.open('incrediville-side.jpg')\n",
    "arr = np.array(img.resize((int(img.size[0]/30), int(img.size[1]/30))))\n",
    "m,n,c = arr.shape\n",
    "X = arr.reshape(-1,3)\n",
    "```\n",
    "Decide appropriate `eps` and `min_samples` so that  \n",
    "```python\n",
    "img = (y_new == 0).reshape(m, n)\n",
    "plt.imshow(img, cmap='Greys')\n",
    "```\n",
    "gives good image segmentation."
   ]
  },
  {
   "cell_type": "code",
   "execution_count": null,
   "metadata": {},
   "outputs": [],
   "source": [
    "from PIL import Image\n",
    "img = Image.open('incrediville-side.jpg')\n",
    "arr = np.array(img.resize((int(img.size[0]/30), int(img.size[1]/30)))) #先壓縮尺寸再轉成矩陣\n",
    "\n",
    "m,n,c = arr.shape       #位置和顏色\n",
    "X = arr.reshape(-1,3)   #3 RGB\n",
    "\n",
    "model = DBSCAN(eps=5)\n",
    "y_new = model.fit_predict(X) \n",
    "\n",
    "img = (y_new ==0 ).reshape(m, n) #還原為原大小\n",
    "plt.imshow(img, cmap='Greys')"
   ]
  },
  {
   "cell_type": "markdown",
   "metadata": {},
   "source": [
    "## Experiments"
   ]
  },
  {
   "cell_type": "markdown",
   "metadata": {},
   "source": [
    "##### Exercise 4\n",
    "Let  \n",
    "```python\n",
    "mu1 = np.array([2.5,0])\n",
    "cov1 = np.array([[1.1,-1],\n",
    "                [-1,1.1]])\n",
    "mu2 = np.array([-2.5,0])\n",
    "cov2 = np.array([[1.1,1],\n",
    "                [1,1.1]])\n",
    "X = np.vstack([np.random.multivariate_normal(mu1, cov1, 100), \n",
    "               np.random.multivariate_normal(mu2, cov2, 100)])\n",
    "\n",
    "model = DBSCAN()\n",
    "y_new = model.fit_predict(X)\n",
    "```"
   ]
  },
  {
   "cell_type": "markdown",
   "metadata": {},
   "source": [
    "###### 4(a)\n",
    "Print `model.core_sample_indices_.shape` and `model.components_.shape` .  \n",
    "Confirm that `X[model.core_sample_indices_]` and `model.components` are the same.  \n",
    "Can you tell how many points that are not noise nor core?"
   ]
  },
  {
   "cell_type": "code",
   "execution_count": null,
   "metadata": {},
   "outputs": [],
   "source": [
    "mu1 = np.array([2.5,0])\n",
    "cov1 = np.array([[1.1,-1],\n",
    "                [-1,1.1]])\n",
    "mu2 = np.array([-2.5,0])\n",
    "cov2 = np.array([[1.1,1],\n",
    "                [1,1.1]])\n",
    "X = np.vstack([np.random.multivariate_normal(mu1, cov1, 100), \n",
    "               np.random.multivariate_normal(mu2, cov2, 100)])\n",
    "\n",
    "model = DBSCAN()\n",
    "y_new = model.fit_predict(X)\n",
    "\n",
    "plt.axis(\"equal\")\n",
    "plt.scatter(*X.T, c=y_new)\n",
    "print(model.core_sample_indices_.shape)   \n",
    "print(model.components_.shape)\n",
    "\n",
    "print(sum(model.labels_==-1))  #noise 的個數 noise 的label是-1\n",
    "\n",
    "print((X[model.core_sample_indices_] == model.components_).all()) #確認X中的core 和 components中一樣\n",
    "\n",
    "print(\"not noise nor core = 200 -core - noise \", 200 -sum(model.labels_==-1) - (*model.core_sample_indices_.shape,))"
   ]
  },
  {
   "cell_type": "markdown",
   "metadata": {},
   "source": [
    "###### 4(b)\n",
    "Plot the points (rows) in `X` with `c=y_new` .  \n",
    "Plot the core samples with `c='r'` and `s=10` ."
   ]
  },
  {
   "cell_type": "code",
   "execution_count": null,
   "metadata": {},
   "outputs": [],
   "source": [
    "plt.axis(\"equal\")\n",
    "plt.scatter(*X.T, c=y_new)\n",
    "plt.scatter(X[model.core_sample_indices_,0], X[model.core_sample_indices_,1], c='r', s=10) #把core塗紅大小10 "
   ]
  },
  {
   "cell_type": "markdown",
   "metadata": {},
   "source": [
    "###### 4(c)\n",
    "Use `model.labels_` to find out the noise samples.  \n",
    "Adding upon your previous figure, plot the core samples with `c='k'`, `s=100`, and `marker='x'`.  "
   ]
  },
  {
   "cell_type": "code",
   "execution_count": null,
   "metadata": {},
   "outputs": [],
   "source": [
    "noise = X[model.labels_ == -1]   #noise samples\n",
    "plt.axis(\"equal\")\n",
    "plt.scatter(*X.T, c=y_new)\n",
    "plt.scatter(X[model.core_sample_indices_,0], X[model.core_sample_indices_,1], c='k', s=100, marker='x')\n",
    "plt.scatter(*noise.T)"
   ]
  },
  {
   "cell_type": "markdown",
   "metadata": {},
   "source": [
    "##### Exercise 5\n",
    "Let  \n",
    "```python\n",
    "X = 5 * np.random.randn(1000,2)\n",
    "lengths = np.linalg.norm(X, axis=1)\n",
    "band1 = (lengths > 1) & (lengths <2)  \n",
    "band2 = (lengths > 3) & (lengths <4)  \n",
    "X = X[band1 | band2, :]\n",
    "```\n",
    "Apply the DBSCAN algorithm to `X` with `eps=1`  \n",
    "(or other settings that you like)  \n",
    "and get the prediction `y_new` .  \n",
    "Plot the points (rows) in `X` with `c=y_new` .  \n",
    "Is it a good clustering?  \n",
    "For this data, would you choose DBSCAN or KMeans?"
   ]
  },
  {
   "cell_type": "code",
   "execution_count": null,
   "metadata": {},
   "outputs": [],
   "source": [
    "X = 5 * np.random.randn(1000,2)\n",
    "lengths = np.linalg.norm(X, axis=1)\n",
    "band1 = (lengths > 1) & (lengths <2)  \n",
    "band2 = (lengths > 3) & (lengths <4)  \n",
    "X = X[band1 | band2, :]\n",
    "\n",
    "from sklearn.cluster import KMeans,DBSCAN\n",
    "model1 = DBSCAN(eps=1)\n",
    "y_new1 = model1.fit_predict(X)\n",
    "\n",
    "model2 = KMeans(2)\n",
    "y_new2 = model2.fit_predict(X)"
   ]
  },
  {
   "cell_type": "code",
   "execution_count": null,
   "metadata": {},
   "outputs": [],
   "source": [
    "fig = plt.figure(figsize=(8,4))\n",
    "axs = fig.subplots(1,2)\n",
    "axs[0].scatter(*X.T, c=y_new1)\n",
    "axs[0].set_title(\"DBSCAN\")\n",
    "axs[1].scatter(*X.T, c=y_new2)\n",
    "axs[1].set_title(\"KMeans\")"
   ]
  },
  {
   "cell_type": "code",
   "execution_count": null,
   "metadata": {},
   "outputs": [],
   "source": [
    "print(\"選DBSCAN分的比較好\")"
   ]
  },
  {
   "cell_type": "code",
   "execution_count": null,
   "metadata": {},
   "outputs": [],
   "source": []
  }
 ],
 "metadata": {
  "kernelspec": {
   "display_name": "Python 3 (ipykernel)",
   "language": "python",
   "name": "python3"
  },
  "language_info": {
   "codemirror_mode": {
    "name": "ipython",
    "version": 3
   },
   "file_extension": ".py",
   "mimetype": "text/x-python",
   "name": "python",
   "nbconvert_exporter": "python",
   "pygments_lexer": "ipython3",
   "version": "3.10.2"
  }
 },
 "nbformat": 4,
 "nbformat_minor": 4
}
