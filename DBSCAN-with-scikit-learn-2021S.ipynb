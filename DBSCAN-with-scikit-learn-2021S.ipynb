{
 "cells": [
  {
   "cell_type": "markdown",
   "metadata": {},
   "source": [
    "# DBSCAN with scikit learn"
   ]
  },
  {
   "cell_type": "markdown",
   "metadata": {},
   "source": [
    "![Creative Commons License](https://i.creativecommons.org/l/by/4.0/88x31.png)  \n",
    "This work by Jephian Lin is licensed under a [Creative Commons Attribution 4.0 International License](http://creativecommons.org/licenses/by/4.0/)."
   ]
  },
  {
   "cell_type": "code",
   "execution_count": null,
   "metadata": {},
   "outputs": [],
   "source": [
    "import numpy as np\n",
    "import matplotlib.pyplot as plt"
   ]
  },
  {
   "cell_type": "markdown",
   "metadata": {},
   "source": [
    "## Code\n",
    "```python\n",
    "from sklearn.cluster import DBSCAN\n",
    "model = DBSCAN(<parameters>)\n",
    "y_new = model.fit_predict(X)\n",
    "```\n",
    "\n",
    "[Official Reference](https://scikit-learn.org/stable/modules/generated/sklearn.cluster.DBSCAN.html)"
   ]
  },
  {
   "cell_type": "markdown",
   "metadata": {},
   "source": [
    "## Parameters\n",
    "- `eps`: the $\\epsilon$ used for finding neighborhood\n",
    "- `min_samples`: a sample is considered as a core sample if its $\\epsilon$-ball contains at least `min_sample` samples (including itself)"
   ]
  },
  {
   "cell_type": "markdown",
   "metadata": {},
   "source": [
    "## Attributes\n",
    "- `core_sample_indices_`: an array of shape `(n_core_samples,)` that stores the indices of the core samples\n",
    "- `components_`: an array of shape `(n_core_samples, n_features)` that stores the core samples as rows\n",
    "- `labels_`: an array of shape `(n_samples,)` that stores the label of each sample, where `-1` stands for noise"
   ]
  },
  {
   "cell_type": "markdown",
   "metadata": {},
   "source": [
    "## Sample data"
   ]
  },
  {
   "cell_type": "markdown",
   "metadata": {},
   "source": [
    "##### Exercise 1\n",
    "Let  \n",
    "```python\n",
    "mu1 = np.array([2.5,0])\n",
    "cov1 = np.array([[1.1,-1],\n",
    "                [-1,1.1]])\n",
    "mu2 = np.array([-2.5,0])\n",
    "cov2 = np.array([[1.1,1],\n",
    "                [1,1.1]])\n",
    "X = np.vstack([np.random.multivariate_normal(mu1, cov1, 100), \n",
    "               np.random.multivariate_normal(mu2, cov2, 100)])\n",
    "```"
   ]
  },
  {
   "cell_type": "markdown",
   "metadata": {},
   "source": [
    "###### 1(a)\n",
    "Apply the DBSCAN algorithm to `X` with the default setting and get the prediction `y_new` .  \n",
    "Plot the points (rows) in `X` with `c=y_new` .  \n",
    "Print `model.core_sample_indices_.shape` ."
   ]
  },
  {
   "cell_type": "code",
   "execution_count": null,
   "metadata": {},
   "outputs": [],
   "source": [
    "### your answer here\n",
    "from sklearn.cluster import DBSCAN\n",
    "mu1 = np.array([2.5,0])\n",
    "cov1 = np.array([[1.1,-1],\n",
    "                [-1,1.1]])\n",
    "mu2 = np.array([-2.5,0])\n",
    "cov2 = np.array([[1.1,1],\n",
    "                [1,1.1]])\n",
    "X = np.vstack([np.random.multivariate_normal(mu1, cov1, 100), \n",
    "               np.random.multivariate_normal(mu2, cov2, 100)])\n",
    "\n",
    "model = DBSCAN(0.5)\n",
    "y_new = model.fit_predict(X)\n",
    "\n",
    "plt.axis(\"equal\")\n",
    "plt.scatter(X[:,0], X[:,1], c=y_new)\n",
    "print(model.core_sample_indices_.shape)"
   ]
  },
  {
   "cell_type": "markdown",
   "metadata": {},
   "source": [
    "###### 1(b)\n",
    "Apply the DBSCAN algorithm to `X` with `eps=1` and get the prediction `y_new` .  \n",
    "Plot the points (rows) in `X` with `c=y_new` .  \n",
    "Print `model.core_sample_indices_.shape` ."
   ]
  },
  {
   "cell_type": "code",
   "execution_count": null,
   "metadata": {},
   "outputs": [],
   "source": [
    "### your answer here\n",
    "model = DBSCAN(1)\n",
    "y_new = model.fit_predict(X)\n",
    "\n",
    "plt.axis(\"equal\")\n",
    "plt.scatter(X[:,0], X[:,1], c=y_new)\n",
    "print(model.core_sample_indices_.shape)"
   ]
  },
  {
   "cell_type": "markdown",
   "metadata": {},
   "source": [
    "##### 1(c)\n",
    "Apply the DBSCAN algorithm to `X` with `min_samples=10` and get the prediction `y_new` .  \n",
    "Plot the points (rows) in `X` with `c=y_new` .  \n",
    "Print `model.core_sample_indices_.shape` ."
   ]
  },
  {
   "cell_type": "code",
   "execution_count": null,
   "metadata": {},
   "outputs": [],
   "source": [
    "### your answer here\n",
    "model = DBSCAN(0.5, min_samples=10)\n",
    "y_new = model.fit_predict(X)\n",
    "\n",
    "plt.axis(\"equal\")\n",
    "plt.scatter(X[:,0], X[:,1], c=y_new)\n",
    "print(model.core_sample_indices_.shape)"
   ]
  },
  {
   "cell_type": "markdown",
   "metadata": {},
   "source": [
    "###### 1(d)\n",
    "Finding an appropriate `eps` is the main task for the DBSCAN algorithm.  \n",
    "Let `dist` be the distance matrix between rows in `X` .  \n",
    "The code below find the average of the distances between one sample to its $k$-th nearest sample.\n",
    "```python\n",
    "k = 10\n",
    "sort_dist = dist.copy()\n",
    "sort_dist.partition(k)\n",
    "sort_dist[:,:k+1].max(axis=1).mean()\n",
    "```\n",
    "This can be a reference for the choice of `eps` ."
   ]
  },
  {
   "cell_type": "code",
   "execution_count": null,
   "metadata": {},
   "outputs": [],
   "source": [
    "### your answer here\n",
    "from scipy.spatial import distance_matrix\n",
    "dist = distance_matrix(X, X)\n",
    "print(dist)\n",
    "\n",
    "k = 10\n",
    "sort_dist = dist.copy()\n",
    "sort_dist.partition(k)\n",
    "sort_dist[:,:k+1].max(axis=1).mean()"
   ]
  },
  {
   "cell_type": "markdown",
   "metadata": {},
   "source": [
    "###### 1(e)\n",
    "Finding an appropriate `min_samples` is another task for the DBSCAN algorithm.  \n",
    "Let `dist` be the distance matrix between rows in `X` .\n",
    "The code below generate the histogram of the number of neighbors inside the $\\epsilon$-balls centered at each sample.\n",
    "```python\n",
    "eps = 0.5\n",
    "n_nbrs = np.sum(dist < eps, axis=1)\n",
    "plt.hist(n_nbrs)\n",
    "```\n",
    "This can be a reference for the choice of `min_samples` ."
   ]
  },
  {
   "cell_type": "code",
   "execution_count": null,
   "metadata": {},
   "outputs": [],
   "source": [
    "### your answer here\n",
    "eps = 0.5\n",
    "n_nbrs = np.sum(dist < eps, axis=1)\n",
    "plt.hist(n_nbrs)"
   ]
  },
  {
   "cell_type": "markdown",
   "metadata": {},
   "source": [
    "##### Exercise 2\n",
    "Let  \n",
    "```python\n",
    "from sklearn.datasets import load_iris\n",
    "iris = load_iris()\n",
    "X = iris.data\n",
    "y_iris = iris.target\n",
    "```"
   ]
  },
  {
   "cell_type": "markdown",
   "metadata": {},
   "source": [
    "###### 2(a)\n",
    "Plot the points (rows) in `X` with `c=y_iris` .  \n",
    "(Each row is in $\\mathbb{R}^4$.  \n",
    "Just pick arbitrary two coordinates to plot the points.)  "
   ]
  },
  {
   "cell_type": "code",
   "execution_count": null,
   "metadata": {},
   "outputs": [],
   "source": [
    "### your answer here\n",
    "from sklearn.datasets import load_iris\n",
    "iris = load_iris()\n",
    "X = iris.data\n",
    "y_iris = iris.target\n",
    "\n",
    "plt.axis(\"equal\")\n",
    "plt.scatter(X[:,1], X[:,2], c=y_iris)"
   ]
  },
  {
   "cell_type": "markdown",
   "metadata": {},
   "source": [
    "###### 2(b)\n",
    "Apply the DBSCAN algorithm to `X` with the default setting and get the prediction `y_new` .  \n",
    "Plot the points (rows) in `X` with `c=y_new` .  \n",
    "(Each row is in $\\mathbb{R}^4$.  \n",
    "Just pick arbitrary two coordinates to plot the points.)  \n",
    "Try your best to find appropriate `eps` and `min_samples` so that the results is similar to `y_iris` ."
   ]
  },
  {
   "cell_type": "code",
   "execution_count": null,
   "metadata": {},
   "outputs": [],
   "source": [
    "### your answer here\n",
    "#eps\n",
    "dist = distance_matrix(X, X)\n",
    "k = 7\n",
    "sort_dist = dist.copy()\n",
    "sort_dist.partition(k)\n",
    "print(sort_dist[:,:k+1].max(axis=1).mean())\n",
    "\n",
    "#min_samples\n",
    "eps = 0.43\n",
    "n_nbrs = np.sum(dist < eps, axis=1)\n",
    "plt.figure(1)\n",
    "plt.hist(n_nbrs)\n",
    "print(n_nbrs.mean())\n",
    "\n",
    "#model\n",
    "model = DBSCAN(0.43, min_samples=7)\n",
    "y_iris_pre = model.fit_predict(X)\n",
    "plt.figure(2)\n",
    "plt.axis(\"equal\")\n",
    "plt.scatter(X[:,1], X[:,2], c=y_iris_pre)\n",
    "print(model.core_sample_indices_.shape)"
   ]
  },
  {
   "cell_type": "markdown",
   "metadata": {},
   "source": [
    "##### Exercise 3\n",
    "Let  \n",
    "```python\n",
    "from PIL import Image\n",
    "img = Image.open('incrediville-side.jpg')\n",
    "arr = np.array(img.resize((int(img.size[0]/30), int(img.size[1]/30))))\n",
    "m,n,c = arr.shape\n",
    "X = arr.reshape(-1,3)\n",
    "```\n",
    "Decide appropriate `eps` and `min_samples` so that  \n",
    "```python\n",
    "img = (y_new == 0).reshape(m, n)\n",
    "plt.imshow(img, cmap='Greys')\n",
    "```\n",
    "gives good image segmentation."
   ]
  },
  {
   "cell_type": "code",
   "execution_count": null,
   "metadata": {},
   "outputs": [],
   "source": [
    "### your answer here\n",
    "from PIL import Image\n",
    "img = Image.open('incrediville-side.jpg')\n",
    "arr = np.array(img.resize((int(img.size[0]/30), int(img.size[1]/30))))\n",
    "m,n,c = arr.shape\n",
    "X = arr.reshape(-1,3)\n",
    "\n",
    "#eps\n",
    "dist = distance_matrix(X, X)\n",
    "k = 200\n",
    "sort_dist = dist.copy()\n",
    "sort_dist.partition(k)\n",
    "print(sort_dist[:,:k+1].max(axis=1).mean())\n",
    "\n",
    "#min_samples\n",
    "eps = 30\n",
    "n_nbrs = np.sum(dist < eps, axis=1)\n",
    "plt.figure(1)\n",
    "plt.hist(n_nbrs)\n",
    "print(n_nbrs.mean())\n",
    "\n",
    "#model\n",
    "model = DBSCAN(30, min_samples=200)\n",
    "y_new = model.fit_predict(X)\n",
    "plt.figure(2)\n",
    "plt.axis(\"equal\")\n",
    "plt.scatter(X[:,0], X[:,1], c=y_new)\n",
    "print(model.core_sample_indices_.shape)\n",
    "\n",
    "plt.figure(3)\n",
    "img = (y_new == 0).reshape(m, n)\n",
    "plt.imshow(img, cmap='Greys')"
   ]
  },
  {
   "cell_type": "markdown",
   "metadata": {},
   "source": [
    "## Experiments"
   ]
  },
  {
   "cell_type": "markdown",
   "metadata": {},
   "source": [
    "##### Exercise 4\n",
    "Let  \n",
    "```python\n",
    "mu1 = np.array([2.5,0])\n",
    "cov1 = np.array([[1.1,-1],\n",
    "                [-1,1.1]])\n",
    "mu2 = np.array([-2.5,0])\n",
    "cov2 = np.array([[1.1,1],\n",
    "                [1,1.1]])\n",
    "X = np.vstack([np.random.multivariate_normal(mu1, cov1, 100), \n",
    "               np.random.multivariate_normal(mu2, cov2, 100)])\n",
    "\n",
    "model = DBSCAN()\n",
    "y_new = model.fit_predict(X)\n",
    "```"
   ]
  },
  {
   "cell_type": "markdown",
   "metadata": {},
   "source": [
    "###### 4(a)\n",
    "Print `model.core_sample_indices_.shape` and `model.components_.shape` .  \n",
    "Confirm that `X[model.core_sample_indices_]` and `model.components` are the same.  \n",
    "Can you tell how many points that are not noise nor core?"
   ]
  },
  {
   "cell_type": "code",
   "execution_count": null,
   "metadata": {},
   "outputs": [],
   "source": [
    "### your answer here\n",
    "mu1 = np.array([2.5,0])\n",
    "cov1 = np.array([[1.1,-1],\n",
    "                [-1,1.1]])\n",
    "mu2 = np.array([-2.5,0])\n",
    "cov2 = np.array([[1.1,1],\n",
    "                [1,1.1]])\n",
    "X = np.vstack([np.random.multivariate_normal(mu1, cov1, 100), \n",
    "               np.random.multivariate_normal(mu2, cov2, 100)])\n",
    "\n",
    "model = DBSCAN()\n",
    "y_new = model.fit_predict(X)\n",
    "plt.axis(\"equal\")\n",
    "plt.scatter(X[:,0], X[:,1], c=y_new)\n",
    "print(model.core_sample_indices_.shape)\n",
    "print(model.components_.shape)\n",
    "print(sum(model.labels_==-1))\n",
    "print(X[model.core_sample_indices_] == model.components_)"
   ]
  },
  {
   "cell_type": "markdown",
   "metadata": {},
   "source": [
    "###### 4(b)\n",
    "Plot the points (rows) in `X` with `c=y_new` .  \n",
    "Plot the core samples with `c='r'` and `s=10` ."
   ]
  },
  {
   "cell_type": "code",
   "execution_count": null,
   "metadata": {},
   "outputs": [],
   "source": [
    "### your answer here\n",
    "plt.axis(\"equal\")\n",
    "plt.scatter(X[:,0], X[:,1], c=y_new)\n",
    "plt.scatter(X[model.core_sample_indices_,0], X[model.core_sample_indices_,1], c='r', s=10)"
   ]
  },
  {
   "cell_type": "markdown",
   "metadata": {},
   "source": [
    "###### 4(c)\n",
    "Use `model.labels_` to find out the noise samples.  \n",
    "Adding upon your previous figure, plot the core samples with `c='k'`, `s=100`, and `marker='x'`.  "
   ]
  },
  {
   "cell_type": "code",
   "execution_count": null,
   "metadata": {},
   "outputs": [],
   "source": [
    "### your answer here\n",
    "plt.scatter(X[:,0], X[:,1], c=y_new)\n",
    "plt.scatter(X[model.core_sample_indices_,0], X[model.core_sample_indices_,1], c='k', s=100, marker='x')\n",
    "plt.scatter(X[model.labels_,0], X[model.labels_,1], c='b')"
   ]
  },
  {
   "cell_type": "markdown",
   "metadata": {},
   "source": [
    "##### Exercise 5\n",
    "Let  \n",
    "```python\n",
    "X = 5 * np.random.randn(1000,2)\n",
    "lengths = np.linalg.norm(X, axis=1)\n",
    "band1 = (lengths > 1) & (lengths <2)  \n",
    "band2 = (lengths > 3) & (lengths <4)  \n",
    "X = X[band1 | band2, :]\n",
    "```\n",
    "Apply the DBSCAN algorithm to `X` with `eps=1`  \n",
    "(or other settings that you like)  \n",
    "and get the prediction `y_new` .  \n",
    "Plot the points (rows) in `X` with `c=y_new` .  \n",
    "Is it a good clustering?  \n",
    "For this data, would you choose DBSCAN or KMeans?"
   ]
  },
  {
   "cell_type": "code",
   "execution_count": null,
   "metadata": {},
   "outputs": [],
   "source": [
    "### your answer here\n",
    "X = 5 * np.random.randn(1000,2)\n",
    "lengths = np.linalg.norm(X, axis=1)\n",
    "band1 = (lengths > 1) & (lengths <2)  \n",
    "band2 = (lengths > 3) & (lengths <4)  \n",
    "X = X[band1 | band2, :]\n",
    "\n",
    "plt.figure(1)\n",
    "model = DBSCAN(1)\n",
    "y_new = model.fit_predict(X)\n",
    "plt.axis(\"equal\")\n",
    "plt.scatter(X[:,0], X[:,1], c=y_new)\n",
    "\n",
    "from sklearn.cluster import KMeans\n",
    "plt.figure(2)\n",
    "model = KMeans(2)\n",
    "y_new = model.fit_predict(X)\n",
    "plt.axis(\"equal\")\n",
    "plt.scatter(X[:,0], X[:,1], c=y_new)"
   ]
  }
 ],
 "metadata": {
  "kernelspec": {
   "display_name": "Python 3",
   "language": "python",
   "name": "python3"
  },
  "language_info": {
   "codemirror_mode": {
    "name": "ipython",
    "version": 3
   },
   "file_extension": ".py",
   "mimetype": "text/x-python",
   "name": "python",
   "nbconvert_exporter": "python",
   "pygments_lexer": "ipython3",
   "version": "3.9.4"
  }
 },
 "nbformat": 4,
 "nbformat_minor": 4
}
