{
 "cells": [
  {
   "cell_type": "markdown",
   "metadata": {
    "id": "UCr_U-2ujK5A"
   },
   "source": [
    "# Solving Ax = 0"
   ]
  },
  {
   "cell_type": "markdown",
   "metadata": {
    "id": "bebTDgyRjK5D"
   },
   "source": [
    "![Creative Commons License](https://i.creativecommons.org/l/by/4.0/88x31.png)  \n",
    "This work by Jephian Lin is licensed under a [Creative Commons Attribution 4.0 International License](http://creativecommons.org/licenses/by/4.0/)."
   ]
  },
  {
   "cell_type": "code",
   "execution_count": null,
   "metadata": {
    "id": "uSu0COzgjK5F"
   },
   "outputs": [],
   "source": [
    "import numpy as np\n",
    "import matplotlib.pyplot as plt\n",
    "from mpl_toolkits import mplot3d\n",
    "import sympy"
   ]
  },
  {
   "cell_type": "markdown",
   "metadata": {
    "id": "yQObjp9SjK5G"
   },
   "source": [
    "## Main idea"
   ]
  },
  {
   "cell_type": "markdown",
   "metadata": {
    "id": "Ky2_rvaojK5G"
   },
   "source": [
    "Let $A$ be an $m\\times n$ matrix.  The solution set of $A{\\bf x} = {\\bf 0}$ is the intersection of the hyperplanes $\\langle {\\bf r}_i, {\\bf x}\\rangle = 0$ for all $i=1,\\ldots,m$, where ${\\bf r}_i$ is the $i$-th row of $A$.  \n",
    "Therefore, the solution set of $A$ is a space and we call it the **kernel** $\\operatorname{ker}(A)$ of $A$.\n",
    "\n",
    "Every matrix lead to its **reduced echelon form** after some **row operations**.  If $R$ is the reduced echelon form of $A$, then $A{\\bf x} = {\\bf 0} \\iff R{\\bf x} = {\\bf 0}$."
   ]
  },
  {
   "cell_type": "markdown",
   "metadata": {
    "id": "FBidSowZjK5H"
   },
   "source": [
    "## Side stories"
   ]
  },
  {
   "cell_type": "markdown",
   "metadata": {
    "id": "C1LNDhwsjK5I"
   },
   "source": [
    "- row operations, reduced echelon form\n",
    "- SymPy\n",
    "- trivial or infinite solutions\n",
    "- kernel (null space)\n",
    "- row space\n",
    "- rank + nullity = number of columns"
   ]
  },
  {
   "cell_type": "markdown",
   "metadata": {
    "id": "aJWDxfGJjK5I"
   },
   "source": [
    "## Experiments"
   ]
  },
  {
   "cell_type": "markdown",
   "metadata": {
    "id": "y-qM7kLpjK5J"
   },
   "source": [
    "###### Exercise 1\n",
    "This exercise shows you that the kernel and the row space of a matrix are orthogonal to each other.  \n",
    "Let  \n",
    "```python\n",
    "A = np.array([[1,1,1], \n",
    "              [1,1,1]])\n",
    "```\n",
    "The **nullity** of $A$ is the dimension of its kernel.  \n",
    "The **rank** of $A$ is the dimension of its row space.  "
   ]
  },
  {
   "cell_type": "markdown",
   "metadata": {
    "id": "OoEuIkVQjK5K"
   },
   "source": [
    "###### 1(a)\n",
    "Use the techniques you learned in Lesson 2 to draw some random points in the kernel of $A$.  \n",
    "What is the nullity of $A$?"
   ]
  },
  {
   "cell_type": "code",
   "execution_count": null,
   "metadata": {
    "colab": {
     "base_uri": "https://localhost:8080/",
     "height": 277
    },
    "id": "2Tg1KDsejK5K",
    "outputId": "61b1701c-40dc-4de3-cd42-932bd14368c8"
   },
   "outputs": [],
   "source": [
    "A = np.array([[1,1,1], \n",
    "              [1,1,1]])\n",
    "\n",
    "\n",
    "ax = plt.axes(projection='3d')\n",
    "ax.set_xlim(-3,3)\n",
    "ax.set_ylim(-3,3)\n",
    "ax.set_zlim(-3,3)\n",
    "\n",
    "# plot kernel\n",
    "xs = np.random.randn(3,100000)\n",
    "mask = np.linalg.norm(A.dot(xs), axis=0) <= 0.1 # replace the question mark by the less than sign\n",
    "kernel = xs[:,mask]\n",
    "ax.scatter(*kernel)\n"
   ]
  },
  {
   "cell_type": "markdown",
   "metadata": {},
   "source": [
    "The nullity of A is two."
   ]
  },
  {
   "cell_type": "markdown",
   "metadata": {
    "id": "RPPqZXS1jK5L"
   },
   "source": [
    "###### 1(b)\n",
    "Use the techniques you learned in Lesson 3 to draw a grid using the rows of $A$.  \n",
    "What is the rank of $A$?"
   ]
  },
  {
   "cell_type": "code",
   "execution_count": null,
   "metadata": {
    "colab": {
     "base_uri": "https://localhost:8080/"
    },
    "id": "9Ir-P8KzjK5L",
    "outputId": "422042ab-1f35-4453-d2a5-103de1e4ab3c"
   },
   "outputs": [],
   "source": [
    "# plot row space\n",
    "grid = np.meshgrid(np.arange(5), np.arange(5))\n",
    "vs = np.vstack([grid[0].ravel(), grid[1].ravel()])\n",
    "rspace = A.T.dot(vs)\n",
    "ax.scatter(*rspace)"
   ]
  },
  {
   "cell_type": "markdown",
   "metadata": {},
   "source": [
    "The rank of A is one."
   ]
  },
  {
   "cell_type": "markdown",
   "metadata": {
    "id": "3ICdjZPyjK5L"
   },
   "source": [
    "###### 1(c)\n",
    "Do the same for  \n",
    "```python\n",
    "B = np.array([[1,-1,0], \n",
    "              [1,0,-1]])\n",
    "```\n",
    "What is the nullity and the rank of $B$?"
   ]
  },
  {
   "cell_type": "code",
   "execution_count": null,
   "metadata": {
    "colab": {
     "base_uri": "https://localhost:8080/",
     "height": 277
    },
    "id": "tsRHq2szjK5M",
    "outputId": "ab5dcab7-845d-48c2-e175-d75c7b67968a"
   },
   "outputs": [],
   "source": [
    "B = np.array([[1,-1,0], \n",
    "              [1,0,-1]])\n",
    "\n",
    "\n",
    "ax = plt.axes(projection='3d')\n",
    "ax.set_xlim(-3,3)\n",
    "ax.set_ylim(-3,3)\n",
    "ax.set_zlim(-3,3)\n",
    "\n",
    "# plot kernel\n",
    "xs = np.random.randn(3,100000)\n",
    "mask = np.linalg.norm(B.dot(xs), axis=0) <= 0.1 # replace the question mark by the less than sign\n",
    "kernel = xs[:,mask]\n",
    "ax.scatter(*kernel)\n",
    "\n",
    "\n",
    "# plot row space\n",
    "grid = np.meshgrid(np.arange(5), np.arange(5))\n",
    "vs = np.vstack([grid[0].ravel(), grid[1].ravel()])\n",
    "rspace = B.T.dot(vs)\n",
    "ax.scatter(*rspace)\n",
    "\n",
    "\n"
   ]
  },
  {
   "cell_type": "markdown",
   "metadata": {
    "id": "Soniw95t3GDe"
   },
   "source": [
    "So the nulity of B is 1, and the rank of B is 2. So 2+1=3=dimension of the space."
   ]
  },
  {
   "cell_type": "markdown",
   "metadata": {
    "id": "nue9mCkpjK5M"
   },
   "source": [
    "## Exercises"
   ]
  },
  {
   "cell_type": "markdown",
   "metadata": {
    "id": "fLgeR7lljK5M"
   },
   "source": [
    "##### Exercise 2\n",
    "We need to rely on SymPy to do the row operations.  \n",
    "You may use `sympy.Matrix(arr)` and `np.array(mtx, dtype=float)` to switch between two data types.  \n",
    "Let\n",
    "```python\n",
    "A = sympy.Matrix([[1,1,1,1], \n",
    "                  [1,2,2,2], \n",
    "                  [1,2,2,3]])\n",
    "R,pvts = A.rref()\n",
    "```\n",
    "Convince your self that $A$ and $R$ have the same kernel."
   ]
  },
  {
   "cell_type": "code",
   "execution_count": null,
   "metadata": {
    "colab": {
     "base_uri": "https://localhost:8080/"
    },
    "id": "nPbXwZKLjK5N",
    "outputId": "9b66ae3f-20b9-4426-bef8-7383c5c0dcd4"
   },
   "outputs": [],
   "source": [
    "A = sympy.Matrix([[1,1,1,1], \n",
    "                  [1,2,2,2], \n",
    "                  [1,2,2,3]])\n",
    "\n",
    "print(A.nullspace())\n",
    "\n",
    "R,pvts = A.rref()\n",
    "\n",
    "print(R.nullspace())\n",
    "\n",
    "\n",
    "\n",
    "A=np.array([[1,1,1,1], \n",
    "            [1,2,2,2], \n",
    "            [1,2,2,3]])\n",
    "\n",
    "print (R)\n"
   ]
  },
  {
   "cell_type": "markdown",
   "metadata": {
    "id": "O5oGK9Foa49D"
   },
   "source": [
    "With the function nullspace, we can see that the kernel is the same for A and R. \n",
    "\n",
    "We can also see that the row space of R is include in the raw space of A (easy to show), and the row space of A is include in the raw space of R : \n",
    "\n",
    "(1,0,0,0)=2x(1,1,1,1)-(1,2,2,2)\n",
    "\n",
    "(0,1,1,0)=-(1,1,1,1)+2x(1,2,2,2)-(1,2,2,3)\n",
    "\n",
    "(0,0,0,1)=(1,2,2,3)-(1,2,2,2)\n",
    "\n",
    "So the raw space of A is the same as the raw space of R. And as the kernel and the raw space are orthogonal to each other, they have the same kernel.\n",
    "\n"
   ]
  },
  {
   "cell_type": "markdown",
   "metadata": {
    "id": "LLfgdFvvjK5N"
   },
   "source": [
    "##### Exercise 3\n",
    "The function `A.rref()` returns the reduced echelon form of $A$ and the indices of the **pivots** --- they are the indices of the first one in each row.  \n",
    "Find a $3\\times 5$ matrix whose pivots are `(1,2,4)` ."
   ]
  },
  {
   "cell_type": "code",
   "execution_count": null,
   "metadata": {
    "colab": {
     "base_uri": "https://localhost:8080/"
    },
    "id": "HuV9q2GpjK5O",
    "outputId": "feaae88a-3fda-4a1a-efc4-e87fe52deaa6"
   },
   "outputs": [],
   "source": [
    "A = sympy.Matrix([[0,1,1,1,1], \n",
    "                  [0,1,2,2,2], \n",
    "                  [0,1,2,2,3]])\n",
    "\n",
    "R,pvts = A.rref()\n",
    "\n",
    "pvts\n",
    "\n"
   ]
  },
  {
   "cell_type": "markdown",
   "metadata": {
    "id": "NqA3q5Y-fJm8"
   },
   "source": [
    "The pvts of R were (0,1,3), so in order to have (1,2,4), we just have to add a column of zeroes, so it will increase the index of each pivot by one"
   ]
  },
  {
   "cell_type": "markdown",
   "metadata": {
    "id": "grrFS3S6jK5O"
   },
   "source": [
    "##### Exercise 4\n",
    "Let  \n",
    "```python\n",
    "A = sympy.Matrix([[1,0,2,0,4], \n",
    "                  [0,1,3,0,5], \n",
    "                  [0,0,0,1,6]])\n",
    "```\n",
    "Then $A{\\bf x} = {\\bf 0}$ is equivalent to \n",
    "$$\\begin{array}{rrrrrl}\n",
    "x_0 & ~ & +2x_2 & ~ & +4x_4 & = 0 \\\\\n",
    "~ & x_1 & +3x_2 & ~ & +5x_4 & = 0 \\\\\n",
    "~ & ~ & ~ & x_3 & +6x_4 & = 0.\n",
    "\\end{array}$$"
   ]
  },
  {
   "cell_type": "markdown",
   "metadata": {
    "id": "TZbYQY9KjK5P"
   },
   "source": [
    "###### 4(a)\n",
    "Suppose $x_2 = 1$ and $x_4 = 0$.  Solve the equation by hand.    \n",
    "Use  \n",
    "```python\n",
    "x = sympy.Matrix([x0, x1, x2, x3, x4])\n",
    "A * x\n",
    "```\n",
    "to check your answer."
   ]
  },
  {
   "cell_type": "code",
   "execution_count": null,
   "metadata": {
    "colab": {
     "base_uri": "https://localhost:8080/",
     "height": 78
    },
    "id": "-S52Kt3_jK5P",
    "outputId": "fb28eaf3-8f3e-48d4-ab57-77ed845d878d"
   },
   "outputs": [],
   "source": [
    "A = sympy.Matrix([[1,0,2,0,4], \n",
    "                  [0,1,3,0,5], \n",
    "                  [0,0,0,1,6]])\n",
    "\n",
    "x = sympy.Matrix([-2, -3, 1, 0, 0])\n",
    "A * x"
   ]
  },
  {
   "cell_type": "markdown",
   "metadata": {
    "id": "TAVRgsT1f3vL"
   },
   "source": [
    "\n",
    "$x_0+2=0 -> x_0=-2$\\\n",
    "$x_1=-3$ \\\n",
    "$x_3=0$\n",
    "\n"
   ]
  },
  {
   "cell_type": "markdown",
   "metadata": {
    "id": "7DkUe7v8jK5P"
   },
   "source": [
    "###### 4(b)\n",
    "Find more solutions by setting $x_2 = s$ and $x_4 = t$.  \n",
    "Let  \n",
    "```python\n",
    "h1,h2 = A.nullspace()\n",
    "```\n",
    "Is your answer the same as $s{\\bf h}_1 + t{\\bf h}_2$?  "
   ]
  },
  {
   "cell_type": "markdown",
   "metadata": {
    "id": "ZpgV1xZVhOXz"
   },
   "source": [
    "$x_0=-2x_2 -4x_4 =   -2s   -4t$\\\n",
    "$x_1=-3 x_2 -5 x_4 = -3s   -5t$\\\n",
    "$x_2=s$\\\n",
    "$x_3= -6 x_4 =            -6t$\\\n",
    "$x_4 =                     t$\n",
    "\n",
    "It is the same as sh1+th2"
   ]
  },
  {
   "cell_type": "code",
   "execution_count": null,
   "metadata": {
    "colab": {
     "base_uri": "https://localhost:8080/"
    },
    "id": "ZaXfDolUjK5Q",
    "outputId": "80a494dc-18d7-4015-d754-a9ecd6b5bc73"
   },
   "outputs": [],
   "source": [
    "h1,h2 = A.nullspace()\n",
    "\n",
    "print(h1)\n",
    "\n",
    "print(h2)"
   ]
  },
  {
   "cell_type": "markdown",
   "metadata": {
    "id": "pjwk_7eGjK5Q"
   },
   "source": [
    "###### 4(c)\n",
    "Here is the code for generating ${\\bf h}$'s.  \n",
    "Play with the code and understand the fancy indexing feature in NumPy.\n",
    "```python\n",
    "R,pvts = A.rref()\n",
    "\n",
    "num_cols = A.shape[1]\n",
    "rank = len(pvts)\n",
    "\n",
    "R = np.array(R)\n",
    "pvts = np.array(pvts)\n",
    "frees = np.array([j for j in range(num_cols) if j not in pvts])\n",
    "\n",
    "for j in frees:\n",
    "    h = np.zeros((num_cols,))\n",
    "    h[j] = 1\n",
    "    h[pvts] = -R[:rank, j]\n",
    "    print(h)\n",
    "```"
   ]
  },
  {
   "cell_type": "code",
   "execution_count": null,
   "metadata": {
    "colab": {
     "base_uri": "https://localhost:8080/"
    },
    "id": "sQjqQ7k_jK5R",
    "outputId": "7caa0291-b042-46c1-b9a1-192ced48184e"
   },
   "outputs": [],
   "source": [
    "R,pvts = A.rref()\n",
    "\n",
    "num_cols = A.shape[1]\n",
    "rank = len(pvts)\n",
    "\n",
    "R = np.array(R)\n",
    "pvts = np.array(pvts)\n",
    "frees = np.array([j for j in range(num_cols) if j not in pvts])\n",
    "\n",
    "for j in frees:\n",
    "    h = np.zeros((num_cols,))\n",
    "    h[j] = 1\n",
    "    h[pvts] = -R[:rank, j]\n",
    "    print(h)"
   ]
  },
  {
   "cell_type": "markdown",
   "metadata": {
    "id": "BtQxvb6CjK5S"
   },
   "source": [
    "##### 4(d)\n",
    "Alternatively, you may generate a \"null matrix\" at once.  \n",
    "Play with the code and understand the slicing feature in NumPy.\n",
    "```python\n",
    "R,pvts = A.rref()\n",
    "\n",
    "num_cols = A.shape[1]\n",
    "rank = len(pvts)\n",
    "\n",
    "R = np.array(R)\n",
    "pvts = np.array(pvts)\n",
    "frees = np.array([j for j in range(num_cols) if j not in pvts])\n",
    "\n",
    "num_frees = frees.shape[0]\n",
    "hs = np.zeros((num_frees, num_cols))\n",
    "hs[:, frees] = np.eye(num_frees)\n",
    "hs[:, pvts] = -R[:rank, frees].T\n",
    "```"
   ]
  },
  {
   "cell_type": "code",
   "execution_count": null,
   "metadata": {
    "id": "UbyOgweejK5T"
   },
   "outputs": [],
   "source": [
    "R,pvts = A.rref()\n",
    "\n",
    "num_cols = A.shape[1]\n",
    "rank = len(pvts)\n",
    "\n",
    "R = np.array(R)\n",
    "pvts = np.array(pvts)\n",
    "frees = np.array([j for j in range(num_cols) if j not in pvts])\n",
    "\n",
    "num_frees = frees.shape[0]\n",
    "hs = np.zeros((num_frees, num_cols))\n",
    "hs[:, frees] = np.eye(num_frees)\n",
    "hs[:, pvts] = -R[:rank, frees].T"
   ]
  },
  {
   "cell_type": "markdown",
   "metadata": {
    "id": "tfdPPvjdjK5T"
   },
   "source": [
    "#### Remark\n",
    "Let $R$ is a reduced echelon form.  \n",
    "(Think of Exercise 4.)\n",
    "The first one in each row = first variable in each equation = a leading variable. (e.g., `(0,1,3)` )  \n",
    "Other variables = free variables.  (e.g., `(2,4)` )  \n",
    "By assigning arbitrary numbers to free variables, one may solve the leading variables.  \n",
    "\n",
    "rank = number of leading variables = number of nonzero rows in $R$  \n",
    "nullity = number of free variables  \n",
    "\n",
    "nullity = 0 $\\iff$ $\\operatorname{ker}(A)$ contains only one trivial ${\\bf 0}$  \n",
    "nullity > 0 $iff$ $\\operatorname{ker}(A)$ has infinit solution\n",
    "\n",
    "#### Dimension theorem\n",
    "For any $m\\times n$ matrix $A$,  \n",
    "$$\\operatorname{rank}(A) + \\operatorname{nullity}(A) = n.$$"
   ]
  },
  {
   "cell_type": "markdown",
   "metadata": {
    "id": "AmYofx0fjK5U"
   },
   "source": [
    "##### Exercise 5\n",
    "Let  \n",
    "```python\n",
    "A = sympy.Matrix([[1,3,3,18], \n",
    "                  [5,15,16,95], \n",
    "                  [-5,-15,-15,-90]])\n",
    "R,pvts = A.rref()\n",
    "```\n",
    "Use the same technique as Exercise 4 to solve the kernel of $A$.  \n",
    "Then verify your answer by `A.nullspace()`."
   ]
  },
  {
   "cell_type": "markdown",
   "metadata": {
    "id": "XFDZzNdGjeOQ"
   },
   "source": [
    "$x_0+3x_1+3x_2+18x_3=0$\n",
    "\n",
    "$5x_0+15x_1+16x_2+95x_3=0$\n",
    "\n",
    "$-5x_0-15x_1-15x_2-90x_3=0$\n",
    "\n",
    "\n",
    "\n",
    "With raw 2 + raw 3 we have that $x_2=-5x_3$\n",
    "\n",
    "With raw 2 - 4 raw 1 we have that $x_0= -3 x_1 -4 x_2 -23 x_3 = -3 x_1 -3 x_3$\n",
    "\n",
    "So we can say that $x_1 = s$ and $x_3 = t $\n",
    "\n",
    "So \n",
    "\n",
    "$x_0 = -3 s -3t$\n",
    "\n",
    "$x_1 =    s$\n",
    "\n",
    "$x_2 =      -5t$\n",
    "\n",
    "$x_3 =        t$\n",
    "\n"
   ]
  },
  {
   "cell_type": "code",
   "execution_count": null,
   "metadata": {
    "colab": {
     "base_uri": "https://localhost:8080/"
    },
    "id": "pUcKNrKajK5U",
    "outputId": "61cc8ea7-e182-4426-b786-c5270546a61f"
   },
   "outputs": [],
   "source": [
    "A = sympy.Matrix([[1,3,3,18], \n",
    "                  [5,15,16,95], \n",
    "                  [-5,-15,-15,-90]])\n",
    "\n",
    "\n",
    "\n",
    "h1,h2=A.nullspace()\n",
    "\n",
    "print(h1,h2)\n"
   ]
  },
  {
   "cell_type": "markdown",
   "metadata": {
    "id": "tCdxrWBlpMeE"
   },
   "source": [
    "So we have the same thing than in the exercice 4, kernel = sh1+th2"
   ]
  },
  {
   "cell_type": "markdown",
   "metadata": {
    "id": "rF6N95SZjK5V"
   },
   "source": [
    "##### Exercise 6\n",
    "Let  \n",
    "```python\n",
    "A = np.array([[1,1,1], \n",
    "              [1,1,1]])\n",
    "A_sym = sympy.Matrix(A)\n",
    "```\n",
    "Use the vectors in `A_sym.nullspace()` to draw the grid.  \n",
    "Check if the space is the same as what you did in Exercise 1."
   ]
  },
  {
   "cell_type": "code",
   "execution_count": null,
   "metadata": {
    "colab": {
     "base_uri": "https://localhost:8080/",
     "height": 260
    },
    "id": "_l-xdGzNjK5V",
    "outputId": "c99f5c02-fff2-4a10-c2c1-b2d4485b9ff3"
   },
   "outputs": [],
   "source": [
    "A = np.array([[1,1,1], \n",
    "              [1,1,1]])\n",
    "A_sym = sympy.Matrix(A)\n",
    "\n",
    "h1,h2=A_sym.nullspace()\n",
    "\n",
    "ax = plt.axes(projection='3d')\n",
    "ax.set_xlim(-3,3)\n",
    "ax.set_ylim(-3,3)\n",
    "ax.set_zlim(-3,3)\n",
    "\n",
    "from random import *\n",
    "\n",
    "# plot kernel\n",
    "\n",
    "for _ in range (100):\n",
    "\n",
    "  xs = random()*h1+random()*h2\n",
    "  ax.scatter(*xs)\n",
    "\n"
   ]
  },
  {
   "cell_type": "markdown",
   "metadata": {
    "id": "HyWdw7umjK5W"
   },
   "source": [
    "##### Exercise 7\n",
    "Let  \n",
    "```python\n",
    "A = sympy.Matrix([[1,-1,0], \n",
    "                 [1,0,-1]])\n",
    "R,pvts = A.rref()\n",
    "```\n",
    "Draw the grid in red using the rows of $A$ and draw the grid in blue using the rows of $R$.  \n",
    "Are they the same space?\n"
   ]
  },
  {
   "cell_type": "code",
   "execution_count": null,
   "metadata": {
    "id": "8RZkRwe2jK5W"
   },
   "outputs": [],
   "source": [
    "A = sympy.Matrix([[1,-1,0], \n",
    "                 [1,0,-1]])\n",
    "R,pvts = A.rref()\n",
    "\n",
    "grid = np.meshgrid(np.arange(5), np.arange(5))\n",
    "xs = grid[0].ravel()\n",
    "ys = grid[1].ravel()\n",
    "vs = sympy.Matrix([xs,ys]) \n",
    "\n",
    "ax = plt.axes(projection='3d')\n",
    "\n",
    "#A\n",
    "A = A.T\n",
    "Avs = np.dot(A,vs)\n",
    "ax.set_xlim(-7,7)\n",
    "ax.set_ylim(-7,7)\n",
    "ax.set_zlim(-7,7)\n",
    "ax.scatter(Avs[0], Avs[1], Avs[2], c='red')\n",
    "\n",
    "#R\n",
    "Rvs = np.dot(R.T,vs) \n",
    "ax.scatter(Rvs[0], Rvs[1], Rvs[2], c='blue')"
   ]
  },
  {
   "cell_type": "markdown",
   "metadata": {},
   "source": [
    "They span the same space."
   ]
  },
  {
   "cell_type": "code",
   "execution_count": null,
   "metadata": {},
   "outputs": [],
   "source": [
    "A = sympy.Matrix([[1,-1,0], \n",
    "                 [1,0,-1]])\n",
    "R,pvts = A.rref()\n",
    "\n",
    "grid = np.meshgrid(np.arange(5), np.arange(5))\n",
    "xs = grid[0].ravel()\n",
    "ys = grid[1].ravel()\n",
    "vs = np.vstack([xs,ys])\n",
    "ATvs = np.array(A.T, dtype=float).dot(vs)\n",
    "\n",
    "ax = plt.axes(projection='3d')\n",
    "ax.set_xlim(-5,5)\n",
    "ax.set_ylim(-5,5)\n",
    "ax.set_zlim(-5,5)\n",
    "ax.scatter(Avs[0], Avs[1], Avs[2], c='red')\n",
    "\n",
    "Rvs = np.array(R.T, dtype=float).dot(vs)\n",
    "\n",
    "ax.scatter(Rvs[0], Rvs[1], Rvs[2], c='blue', s=5)"
   ]
  },
  {
   "cell_type": "code",
   "execution_count": null,
   "metadata": {},
   "outputs": [],
   "source": []
  }
 ],
 "metadata": {
  "colab": {
   "collapsed_sections": [
    "FBidSowZjK5H"
   ],
   "provenance": []
  },
  "kernelspec": {
   "display_name": "Python 3 (ipykernel)",
   "language": "python",
   "name": "python3"
  },
  "language_info": {
   "codemirror_mode": {
    "name": "ipython",
    "version": 3
   },
   "file_extension": ".py",
   "mimetype": "text/x-python",
   "name": "python",
   "nbconvert_exporter": "python",
   "pygments_lexer": "ipython3",
   "version": "3.9.13"
  }
 },
 "nbformat": 4,
 "nbformat_minor": 1
}
