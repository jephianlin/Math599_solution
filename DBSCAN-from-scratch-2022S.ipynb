{
 "cells": [
  {
   "cell_type": "markdown",
   "metadata": {},
   "source": [
    "# DBSCAN from scratch"
   ]
  },
  {
   "cell_type": "markdown",
   "metadata": {},
   "source": [
    "![Creative Commons License](https://i.creativecommons.org/l/by/4.0/88x31.png)  \n",
    "This work by Jephian Lin is licensed under a [Creative Commons Attribution 4.0 International License](http://creativecommons.org/licenses/by/4.0/)."
   ]
  },
  {
   "cell_type": "code",
   "execution_count": null,
   "metadata": {},
   "outputs": [],
   "source": [
    "import numpy as np\n",
    "import matplotlib.pyplot as plt"
   ]
  },
  {
   "cell_type": "markdown",
   "metadata": {},
   "source": [
    "## Algorithm\n",
    "**Input:**  \n",
    "- `X`: an array of shape `(N,d)` whose rows are samples and columns are features\n",
    "- `eps`: the $\\epsilon$ used for finding neighborhood\n",
    "- `min_samples`: a sample is considered as a core sample if its $\\epsilon$-ball contains at least `min_sample` samples (including itself)\n",
    "- `draw`: boolean, return a illustrative figure or not\n",
    "\n",
    "**Output:**  \n",
    "A tuple `(y_new, core_indices, fig)`  or `(y_new, core_indices)` depending on `draw` or not.    \n",
    "- `y_new`: an array of shape `(N,)` that records the labels in of each sample, where `-1` stands for a noise \n",
    "- `core_indices`: an array of shape `(n_core_samples,)` that stores the indices of the core samples\n",
    "- `fig`: an illustrative figure showing the data points, DFS tree, core samples, and noises\n",
    "\n",
    "**Steps:**\n",
    "1. Build a list `nbrhoods` whose `i`-th element is the array of the indices of its neighbors.  \n",
    "Here two points are neighbors if the distance between them is less than or equal to `eps` .  \n",
    "A point is considered as its neighbor.\n",
    "2. If sample `i` has at least `min_samples` neighbors, then it is called a core sample.  \n",
    "Store the indices of core samples in the array `core_indices` .\n",
    "3. Set `label_num = 0`.  Label every sample as with `-1`.  For each sample `i`, do the following [DFS](https://en.wikipedia.org/wiki/Depth-first_search):\n",
    "    1. if sample `i` is a core labeled by `-1`, label it with `label_num`; otherwise, skip the following steps and move on the the next sample.\n",
    "    2. let `stack = [i]`\n",
    "    3. take (and remove) the last element `j` in `stack`\n",
    "    4. if `j` is labeled by `-1`, label it with `label_num`; moreover, if `j` is a core, insert the neighbors of `j` at the end of `stack`  \n",
    "    5. repeat Steps C, D, E until `stack` is empty\n",
    "    6. `label_num += 1`"
   ]
  },
  {
   "cell_type": "markdown",
   "metadata": {},
   "source": [
    "## Pseudocode\n",
    "Translate the algorithm into the pseudocode.  \n",
    "This helps you to identify the parts that you don't know how to do it.  "
   ]
  },
  {
   "cell_type": "markdown",
   "metadata": {},
   "source": [
    "    1. 找每個點的鄰居\n",
    "    2. 鄰居數量足夠就為core\n",
    "    3. 將core標號 直到全部core都標號，剩的點為-1(外部點)"
   ]
  },
  {
   "cell_type": "markdown",
   "metadata": {},
   "source": [
    "## Code"
   ]
  },
  {
   "cell_type": "code",
   "execution_count": null,
   "metadata": {},
   "outputs": [],
   "source": [
    "def dist_mtx(X, Y=None):\n",
    "    \"\"\"Return the distance matrix between rows of X and rows of Y\n",
    "    \n",
    "    Input:  \n",
    "        X: an array of shape (N,d)\n",
    "        Y: an array of shape (M,d)\n",
    "            if None, Y = X\n",
    "           \n",
    "    Output:\n",
    "        the matrix [d_ij] where d_ij is the distance between  \n",
    "        the i-th row of X and the j-th row of Y\n",
    "    \"\"\"\n",
    "    if isinstance(Y, np.ndarray):\n",
    "        pass\n",
    "    elif Y == None:\n",
    "        Y = X.copy()\n",
    "    else:\n",
    "        raise TypeError(\"Y should be a NumPy array or None\") \n",
    "    X_col = X[:, np.newaxis, :]\n",
    "    Y_row = Y[np.newaxis, :, :]\n",
    "    diff = X_col - Y_row\n",
    "    dist = np.sqrt(np.sum(diff**2, axis=-1))\n",
    "    return dist"
   ]
  },
  {
   "cell_type": "code",
   "execution_count": null,
   "metadata": {},
   "outputs": [],
   "source": [
    "def DBSCAN_(X,eps=0.5,min_samples=5) :\n",
    "    #step1,2\n",
    "    N,d = X.shape\n",
    "    dist = dist_mtx(X)                       #(N,N)的距離矩陣\n",
    "    adj = (dist < eps)                       #(N,N)的0,1矩陣 距離小於eps為1\n",
    "    core_mask = (adj.sum(axis=1) >= min_samples)        #判斷是否為core 距離小於eps的數量大於等於min_samples即為core\n",
    "    core_indices = np.where(core_mask)[0]               #找出core的底標 np.where的結果會用小括號包起來，所以要加一個[0]\n",
    "    #np.where的結果是一個tuple結構，需要使用[]存取其中的元素，而core_mask是一維的，所以tuple中只有一個元素。\n",
    "    nbrhoods = [np.where(adj[i])[0] for i in range(N)]  #找出所有點的鄰居的下標\n",
    "    #step3\n",
    "    y_new = -np.ones((N,), dtype=int)         #先全部設為-1\n",
    "    label_num = 0                             #從第0個編號開始\n",
    "    for i in range(N):                        #跑過所有的點\n",
    "        if y_new[i] ==-1 and core_mask[i]:    #還沒被標號的core\n",
    "            #DFS\n",
    "            stack = [i]                       #放進stack中  #stack是將被找的點\n",
    "            while stack != []:                #stack非空就一直找下去\n",
    "                j = stack.pop()               #將stack中最後一項取出並移除\n",
    "                if y_new[j] == -1:            #代表此點尚未被編號\n",
    "                    y_new[j] = label_num      #將此點編號\n",
    "                    if core_mask[j]:          #如果此點為core，代表可以將鄰居變色(標號)\n",
    "                        stack += list(nbrhoods[j])    #將其鄰居都加進stack中等待被找到\n",
    "            label_num +=1                     #DFS做完後，代表找到此標號的所有點，將標下一個號碼     \n",
    "    return y_new,core_indices                 #回傳值\n",
    "            "
   ]
  },
  {
   "cell_type": "markdown",
   "metadata": {},
   "source": [
    "## Test\n",
    "Take some sample data from [DBSCAN-with-scikit-learn](DBSCAN-with-scikit-learn.ipynb) and check if your code generates similar outputs with the existing packages."
   ]
  },
  {
   "cell_type": "code",
   "execution_count": null,
   "metadata": {},
   "outputs": [],
   "source": [
    "mu1 = np.array([2.5,0])                    #隨機的資料點\n",
    "cov1 = np.array([[1.1,-1],\n",
    "                [-1,1.1]])\n",
    "mu2 = np.array([-2.5,0])\n",
    "cov2 = np.array([[1.1,1],\n",
    "                [1,1.1]])\n",
    "X = np.vstack([np.random.multivariate_normal(mu1, cov1, 100), \n",
    "               np.random.multivariate_normal(mu2, cov2, 100)])"
   ]
  },
  {
   "cell_type": "code",
   "execution_count": null,
   "metadata": {},
   "outputs": [],
   "source": [
    "#from sklearn.datasets import load_iris     #花的資料集\n",
    "#iris = load_iris()\n",
    "#X = iris.data"
   ]
  },
  {
   "cell_type": "markdown",
   "metadata": {},
   "source": [
    "##### Name of the data\n",
    "Description of the data."
   ]
  },
  {
   "cell_type": "code",
   "execution_count": null,
   "metadata": {},
   "outputs": [],
   "source": [
    "y_my,core_indices= DBSCAN_(X,eps=0.5,min_samples=5)    #手寫"
   ]
  },
  {
   "cell_type": "code",
   "execution_count": null,
   "metadata": {},
   "outputs": [],
   "source": [
    "from sklearn.cluster import DBSCAN                     #套件\n",
    "model = DBSCAN(eps=0.5,min_samples=5)\n",
    "y_new = model.fit_predict(X)"
   ]
  },
  {
   "cell_type": "markdown",
   "metadata": {},
   "source": [
    "## Comparison"
   ]
  },
  {
   "cell_type": "markdown",
   "metadata": {},
   "source": [
    "##### Exercise 1\n",
    "With the same `eps` and `min_samples`, the array `core_indices` generated by your function is supposed to be the same as `model.core_sample_indices_` .  \n",
    "Check if this is true."
   ]
  },
  {
   "cell_type": "code",
   "execution_count": null,
   "metadata": {},
   "outputs": [],
   "source": [
    "(model.core_sample_indices_==core_indices).all()       #core的下標一樣"
   ]
  },
  {
   "cell_type": "markdown",
   "metadata": {},
   "source": [
    "##### Exercise 2\n",
    "Let `core_indices` be the array generated by your function.  \n",
    "Then `X[core_indices]` is supposed to be the same as `model.components_` .  \n",
    "Check if this is true."
   ]
  },
  {
   "cell_type": "code",
   "execution_count": null,
   "metadata": {},
   "outputs": [],
   "source": [
    "(model.components_ == X[core_indices]).all()           #core的值皆一樣"
   ]
  },
  {
   "cell_type": "markdown",
   "metadata": {},
   "source": [
    "##### Exercise 3\n",
    "Let `y_my` be the output label of your function.  \n",
    "Let `y_new` be the label given by `sklearn.cluster.DBSCAN` ."
   ]
  },
  {
   "cell_type": "markdown",
   "metadata": {},
   "source": [
    "###### 3(a)\n",
    "The noices `y_my == -1` and `y_new == -1` are supposed to be the same.  \n",
    "Check if this is true."
   ]
  },
  {
   "cell_type": "code",
   "execution_count": null,
   "metadata": {},
   "outputs": [],
   "source": [
    "((y_my == -1)==(y_new == -1)).all()"
   ]
  },
  {
   "cell_type": "markdown",
   "metadata": {},
   "source": [
    "###### 3(b)\n",
    "Although `y_my` and `y_new` might be different, they indicate the same clustering.  \n",
    "That is, the partitions are the same, but a group my have different labels in `y_my` and `y_new` .  \n",
    "Check if this is true."
   ]
  },
  {
   "cell_type": "code",
   "execution_count": null,
   "metadata": {},
   "outputs": [],
   "source": [
    "(y_my == y_new).all()                 #剛好相同"
   ]
  },
  {
   "cell_type": "code",
   "execution_count": null,
   "metadata": {},
   "outputs": [],
   "source": [
    "fig = plt.figure(figsize=(8,4))       \n",
    "axs = fig.subplots(1,2)\n",
    "axs[0].scatter(X[:,0], X[:,1], c=y_my)\n",
    "axs[0].set_title(\"myDBSCAN\")\n",
    "axs[1].scatter(X[:,0], X[:,1], c=y_new)\n",
    "axs[1].set_title(\"DBSCAN\")"
   ]
  },
  {
   "cell_type": "code",
   "execution_count": null,
   "metadata": {},
   "outputs": [],
   "source": []
  }
 ],
 "metadata": {
  "kernelspec": {
   "display_name": "Python 3 (ipykernel)",
   "language": "python",
   "name": "python3"
  },
  "language_info": {
   "codemirror_mode": {
    "name": "ipython",
    "version": 3
   },
   "file_extension": ".py",
   "mimetype": "text/x-python",
   "name": "python",
   "nbconvert_exporter": "python",
   "pygments_lexer": "ipython3",
   "version": "3.10.2"
  }
 },
 "nbformat": 4,
 "nbformat_minor": 4
}
