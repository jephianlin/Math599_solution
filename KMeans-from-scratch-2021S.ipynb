{
 "cells": [
  {
   "cell_type": "markdown",
   "metadata": {
    "id": "cuAL80S3LVk8"
   },
   "source": [
    "# KMeans from scratch"
   ]
  },
  {
   "cell_type": "markdown",
   "metadata": {
    "id": "4zSUAlWULVlC"
   },
   "source": [
    "![Creative Commons License](https://i.creativecommons.org/l/by/4.0/88x31.png)  \n",
    "This work by Jephian Lin is licensed under a [Creative Commons Attribution 4.0 International License](http://creativecommons.org/licenses/by/4.0/)."
   ]
  },
  {
   "cell_type": "code",
   "execution_count": null,
   "metadata": {
    "executionInfo": {
     "elapsed": 907,
     "status": "ok",
     "timestamp": 1618803013793,
     "user": {
      "displayName": "makoto lee",
      "photoUrl": "https://lh3.googleusercontent.com/a-/AOh14GhGfW7Dii32vvO06hL1BY7cNN3y7BAZBJf7fLo=s64",
      "userId": "03389833928179632930"
     },
     "user_tz": -480
    },
    "id": "GVGqU-SaLVlD"
   },
   "outputs": [],
   "source": [
    "import numpy as np\n",
    "import matplotlib.pyplot as plt\n",
    "from sklearn.cluster import KMeans\n",
    "import time\n",
    "import pylab as pl\n",
    "from IPython import display\n",
    "from warnings import simplefilter \n",
    "simplefilter(action='ignore', category=DeprecationWarning)"
   ]
  },
  {
   "cell_type": "markdown",
   "metadata": {
    "id": "zsqZtGQxLVlD"
   },
   "source": [
    "## Algorithm\n",
    "**Input:**  \n",
    "- `X`: an array of shape `(N,d)` whose rows are samples and columns are features\n",
    "- `k`: number of clusters\n",
    "- `init`: \"random\" or an array of shape (k,d)  \n",
    "if \"random\", `k` points are chosen randomly from X as the initial cluster centers  \n",
    "if an array, the array is used as the initial cluster centers\n",
    "\n",
    "**Output:**  \n",
    "A tuple `(y_new, centers)`.  \n",
    "- `y_new`: an array of shape `(N,)` that records the labels in `(0, ..., k-1)` of each sample \n",
    "- `centers`: an array of shape `(k,d)` that records the cluster centers\n",
    "\n",
    "**Steps:**\n",
    "1. Initialize a collection of centers $\\mu_0,\\ldots,\\mu_{k-1}$:  \n",
    "    - if `init` is an array, the centers are the rows of `init` . \n",
    "    - if `init==\"random\"`, the centers are chosen as `k` random rows of `X` .  \n",
    "2. Label each sample ${\\bf x}_i$ by $j$ if $\\mu_j$ is the closed center to ${\\bf x}_i$.\n",
    "3. Call the points with label $j$ as group $j$.  Update $\\mu_j$ as the center of points in group $j$.  \n",
    "4. Repeat Steps 2 and 3 until `y_new` do not change anymore."
   ]
  },
  {
   "cell_type": "markdown",
   "metadata": {
    "id": "Fc9vqyBvLVlE"
   },
   "source": [
    "## Pseudocode\n",
    "Translate the algorithm into the pseudocode.  \n",
    "This helps you to identify the parts that you don't know how to do it.  "
   ]
  },
  {
   "cell_type": "markdown",
   "metadata": {
    "id": "Ij3QLTbeLVlE"
   },
   "source": [
    "    1. \n",
    "    2. \n",
    "    3. ..."
   ]
  },
  {
   "cell_type": "markdown",
   "metadata": {
    "id": "8di2Lm2TLVlF"
   },
   "source": [
    "## Code"
   ]
  },
  {
   "cell_type": "code",
   "execution_count": null,
   "metadata": {},
   "outputs": [],
   "source": [
    "#return distance of two input 2D np.array, in Euclidean distance\n",
    "def distance_mtx(X, Y):\n",
    "    X_col = X[:, np.newaxis, :]\n",
    "    Y_row = Y[np.newaxis, :, :]\n",
    "    diff = X_col - Y_row\n",
    "    return np.linalg.norm(diff, axis=2)"
   ]
  },
  {
   "cell_type": "code",
   "execution_count": null,
   "metadata": {
    "id": "cJf67jEULVlF"
   },
   "outputs": [],
   "source": [
    "### your answer here\n",
    "# X: an array of shape (N,d)\n",
    "# k: number of clusters\n",
    "# init: \"random\" or an array of shape (k,d), which means the initial points \n",
    "def MyKmeans(X, k, init = \"random\"):\n",
    "    n = X.shape[0] #n is the number of points\n",
    "    center = 0 #store the center of each group\n",
    "    if(init == \"random\"):\n",
    "        center = X[np.random.choice(range(n), k, replace=False)]\n",
    "    else:\n",
    "        center = init\n",
    "    label = np.array([0. for i in range(n)])\n",
    "    \n",
    "    #label every point first\n",
    "    dist_mtx = distance_mtx(X, center)\n",
    "    label = np.argmin(dist_mtx, axis=1) #lable the point with the index of minimun in array dist_to_centers\n",
    "\n",
    "    #repeat to label all the points until the label result is same as before\n",
    "    pre_label = np.array([-1. for i in range(n)])\n",
    "    \n",
    "    while(not np.array_equal(label, pre_label)):\n",
    "        pre_label = np.copy(label)\n",
    "        \n",
    "        #count the mean to find the new center\n",
    "        for i in range(k):\n",
    "            group = X[np.where(label == i)]\n",
    "            center[i] = np.mean(group, axis = 0)\n",
    "        #label every point\n",
    "        dist_mtx = distance_mtx(X, center)\n",
    "        label = np.argmin(dist_mtx, axis=1)\n",
    "\n",
    "    return label, center"
   ]
  },
  {
   "cell_type": "markdown",
   "metadata": {
    "id": "P4uSulAULVlF"
   },
   "source": [
    "## Test\n",
    "Take some sample data from [KMeans-with-scikit-learn](KMeans-with-scikit-learn.ipynb) and check if your code generates similar outputs with the existing packages."
   ]
  },
  {
   "cell_type": "markdown",
   "metadata": {
    "id": "zO-ObUK4LVlF"
   },
   "source": [
    "##### Name of the data\n",
    "Description of the data."
   ]
  },
  {
   "cell_type": "code",
   "execution_count": null,
   "metadata": {
    "scrolled": true
   },
   "outputs": [],
   "source": [
    "mu1 = np.array([2.5,0])\n",
    "cov1 = np.array([[1.1,-1],\n",
    "                [-1,1.1]])\n",
    "mu2 = np.array([-2.5,0])\n",
    "cov2 = np.array([[1.1,1],\n",
    "                [1,1.1]])\n",
    "X = np.vstack([np.random.multivariate_normal(mu1, cov1, 100), \n",
    "               np.random.multivariate_normal(mu2, cov2, 100)])\n",
    "plt.scatter(X[:,0], X[:,1])"
   ]
  },
  {
   "cell_type": "code",
   "execution_count": null,
   "metadata": {
    "id": "3P2OmqHiLVlG",
    "scrolled": false
   },
   "outputs": [],
   "source": [
    "### results with your code\n",
    "my_lable, my_center = MyKmeans(X, 2)\n",
    "plt.scatter(X[:,0], X[:,1], c = my_lable )"
   ]
  },
  {
   "cell_type": "code",
   "execution_count": null,
   "metadata": {
    "id": "oIy1usXLLVlG"
   },
   "outputs": [],
   "source": [
    "### results with existing packages\n",
    "model = KMeans(n_clusters = 2)\n",
    "model.fit(X)\n",
    "plt.scatter(X[:,0], X[:,1], c = model.labels_ )"
   ]
  },
  {
   "cell_type": "markdown",
   "metadata": {
    "id": "sKPBn0bULVlG"
   },
   "source": [
    "## Comparison"
   ]
  },
  {
   "cell_type": "markdown",
   "metadata": {
    "id": "SrN-7VpuLVlG"
   },
   "source": [
    "##### Exercise 1\n",
    "Modify your code so that it prints the inertia at each iteration.  \n",
    "Is it decreasing?"
   ]
  },
  {
   "cell_type": "code",
   "execution_count": null,
   "metadata": {},
   "outputs": [],
   "source": [
    "### your answer here\n",
    "\n",
    "# X: an array of shape (N,d)\n",
    "# k: number of clusters\n",
    "# init: \"random\" or an array of shape (k,d), which means the initial points \n",
    "def _MyKmeans(X, k, init = \"random\"):\n",
    "    n = X.shape[0] #n is the number of points\n",
    "    center = 0 #store the center of each group\n",
    "    inertia = 0 #store the inertia\n",
    "    if(init == \"random\"):\n",
    "        center = X[np.random.choice(range(n), k, replace=False)]\n",
    "    else:\n",
    "        center = init\n",
    "    label = np.array([0. for i in range(n)])\n",
    "    \n",
    "    #label every point first\n",
    "    dist_mtx = distance_mtx(X, center)\n",
    "    label = np.argmin(dist_mtx, axis=1) #lable the point with the index of minimun in array dist_to_centers\n",
    "    #compute the inertia of first result\n",
    "    inertia = np.sum( np.min(dist_mtx, axis=1)**2 )\n",
    "    \n",
    "    times = 0 #record the times that label updates\n",
    "    #repeat to label all the points until the label result is same as before\n",
    "    pre_label = np.array([-1. for i in range(n)])\n",
    "    \n",
    "    while(not np.array_equal(label, pre_label)):\n",
    "        #\n",
    "        times += 1\n",
    "        #print the inertia\n",
    "        print(\"inertia =\", inertia)\n",
    "        inertia = 0\n",
    "        \n",
    "        pre_label = np.copy(label)        \n",
    "        #count the mean to find the new center\n",
    "        for i in range(k):\n",
    "            group = X[np.where(label == i)]\n",
    "            center[i] = np.mean(group, axis = 0)\n",
    "        #label every point\n",
    "        dist_mtx = distance_mtx(X, center)\n",
    "        label = np.argmin(dist_mtx, axis=1) #lable the point with the index of minimun in array dist_to_centers\n",
    "        #compute the inertia of first result\n",
    "        inertia = np.sum( np.min(dist_mtx, axis=1)**2 )\n",
    "        \n",
    "    print(\"update times :\", times)\n",
    "    return label, center"
   ]
  },
  {
   "cell_type": "code",
   "execution_count": null,
   "metadata": {},
   "outputs": [],
   "source": [
    "my_lable, my_center = _MyKmeans(X, 9)"
   ]
  },
  {
   "cell_type": "code",
   "execution_count": null,
   "metadata": {
    "id": "bRN2OCEbLVlG"
   },
   "outputs": [],
   "source": [
    "### it is a function that plot the result of labeling at each iteration\n",
    "# X: an array of shape (N,d)\n",
    "# k: number of clusters\n",
    "# init: \"random\" or an array of shape (k,d), which means the initial points \n",
    "def AnimatedMyKmeans(X, k, init = \"random\", frame_time = 1.1):\n",
    "    n = X.shape[0] #n is the number of points\n",
    "    center = 0 #store the center of each group\n",
    "    if(init == \"random\"):\n",
    "        center = X[np.random.choice(range(n), k, replace=False)]\n",
    "    else:\n",
    "        center = init\n",
    "    label = np.array([0. for i in range(n)])\n",
    "    \n",
    "    #label every point first\n",
    "    dist_mtx = distance_mtx(X, center)\n",
    "    label = np.argmin(dist_mtx, axis=1) #lable the point with the index of minimun in array dist_to_centers\n",
    "    \n",
    "    times = 0 #record the label update times\n",
    "    #repeat to label all the points until the label result is same as before\n",
    "    pre_label = np.array([-1. for i in range(n)])\n",
    "    while(not np.array_equal(label, pre_label)):\n",
    "        #\n",
    "        times += 1\n",
    "        #update a frame of the animation\n",
    "        plt.scatter(X[:,0], X[:,1], c = label)\n",
    "        display.clear_output(wait=True)\n",
    "        display.display(plt.show())\n",
    "        time.sleep(frame_time)\n",
    "        \n",
    "        pre_label = np.copy(label)\n",
    "        #count the mean to find the new center\n",
    "        for i in range(k):\n",
    "            group = X[np.where(label == i)]\n",
    "            center[i] = np.mean(group, axis = 0)\n",
    "        #label every point\n",
    "        dist_mtx = distance_mtx(X, center)\n",
    "        label = np.argmin(dist_mtx, axis=1) #lable the point with the index of minimun in array dist_to_centers\n",
    "    \n",
    "    print(\"update times :\", times)\n",
    "    return label, center"
   ]
  },
  {
   "cell_type": "code",
   "execution_count": null,
   "metadata": {
    "scrolled": false
   },
   "outputs": [],
   "source": [
    "#re run this cell, and you will see the process of kmeans\n",
    "my_lable, my_center = AnimatedMyKmeans(X, 4)"
   ]
  },
  {
   "cell_type": "markdown",
   "metadata": {
    "id": "JKClYc9MLVlH"
   },
   "source": [
    "##### Exercise 2\n",
    "Let  \n",
    "```python\n",
    "from sklearn.datasets import load_iris\n",
    "iris = load_iris()\n",
    "X = iris.data\n",
    "y_iris = iris.target\n",
    "```"
   ]
  },
  {
   "cell_type": "code",
   "execution_count": null,
   "metadata": {},
   "outputs": [],
   "source": [
    "from sklearn.datasets import load_iris\n",
    "iris = load_iris()\n",
    "X = iris.data\n",
    "y_iris = iris.target"
   ]
  },
  {
   "cell_type": "markdown",
   "metadata": {
    "id": "Rzcv_3pRLVlH"
   },
   "source": [
    "###### 2(a)\n",
    "Use your function to apply the $k$-means algorithm with $k=3$.  \n",
    "What is the inertia?  \n",
    "Run it several times to see if the results are always the same.  "
   ]
  },
  {
   "cell_type": "code",
   "execution_count": null,
   "metadata": {
    "id": "Z2ThL1zILVlH"
   },
   "outputs": [],
   "source": [
    "### your answer here\n",
    "#we try 5 times, and the inertia may not be same every time\n",
    "for i in range(5):\n",
    "    inertia = 0\n",
    "    my_lable, my_center = MyKmeans(X, 3)\n",
    "    \n",
    "    for k in range(3):\n",
    "        X_pick = X[np.where(my_lable == k)]\n",
    "        inertia += np.sum((X_pick - my_center[k])**2)\n",
    "\n",
    "    print(\"inertia =\", inertia)"
   ]
  },
  {
   "cell_type": "markdown",
   "metadata": {
    "id": "9X6j2SxbLVlH"
   },
   "source": [
    "###### 2(b)\n",
    "Use `sklearn.cluster.KMeans` to apply the $k$-means algorithm with $k=3$.  \n",
    "What is the inertia?  \n",
    "Run it several times to see if the results are always the same.  "
   ]
  },
  {
   "cell_type": "code",
   "execution_count": null,
   "metadata": {
    "id": "Bu7SgturLVlH"
   },
   "outputs": [],
   "source": [
    "### your answer here\n",
    "#we try 5 times, and the inertia are all same\n",
    "for i in range(5):\n",
    "    model = KMeans(n_clusters = 3)\n",
    "    model.fit(X)\n",
    "    print(\"inertia =\", model.inertia_)"
   ]
  },
  {
   "cell_type": "markdown",
   "metadata": {
    "id": "C3_aGHKaLVlI"
   },
   "source": [
    "###### 2(c)\n",
    "Pick a label `labels` that you like.  \n",
    "Compute the cluster centers of `X` corresponding to `labels` .  \n",
    "Is this inertia bigger or smaller than the previous two answers?"
   ]
  },
  {
   "cell_type": "code",
   "execution_count": null,
   "metadata": {
    "id": "zqNROoQhLVlI"
   },
   "outputs": [],
   "source": [
    "### your answer here\n",
    "#we choose the labels y_rand which were randomly choosed\n",
    "y_rand = np.random.randint(3, size=X.shape[0])\n",
    "rand_inertia = 0\n",
    "\n",
    "for i in range(3):\n",
    "    X_pick = X[np.where(y_rand == i)]\n",
    "    clus_center = np.mean(X_pick, axis = 0)\n",
    "    rand_inertia += np.sum((X_pick - clus_center)**2)\n",
    "\n",
    "print(\"inertia in random =\", rand_inertia)\n",
    "#this is much greater than the previous ans, \n",
    "#since it doesn`t consider the clusters of each points, \n",
    "#which makes the points in the same group may be so \"far\""
   ]
  },
  {
   "cell_type": "markdown",
   "metadata": {
    "id": "mXxbMgYWLVlI"
   },
   "source": [
    "###### 2(d)\n",
    "The label `y_iris` is the \"correct\" real-world answer.  \n",
    "Compute the cluster centers and the inertia.  \n",
    "Is this inertia bigger or smaller than the answers in 2(a) and 2(b)?"
   ]
  },
  {
   "cell_type": "code",
   "execution_count": null,
   "metadata": {
    "id": "2A9nsHUULVlI"
   },
   "outputs": [],
   "source": [
    "### your answer here\n",
    "real_inertia = 0\n",
    "\n",
    "for i in range(3):\n",
    "    X_pick = X[np.where(y_iris == i)]\n",
    "    center = np.mean(X_pick, axis = 0)    \n",
    "    real_inertia += np.sum((X_pick - center)**2)\n",
    "    \n",
    "\n",
    "print(\"real inertia =\", real_inertia)\n",
    "#and it is bigger than the result in 2(b), and sometimes bigger than the result in 2(a)"
   ]
  },
  {
   "cell_type": "markdown",
   "metadata": {
    "id": "8o8_lD_ULVlI"
   },
   "source": [
    "##### Exercise 3\n",
    "The $k$-means algorithm is a deterministic algorithm once the initial cluster centers have been determined.  \n",
    "Therefore, your function and `sklearn.cluster.KMeans` should obtain the same result when `init` is given.  \n",
    "Check if this is true.  \n",
    "\n",
    "Note:  There are still many subtle differences, for example, `sklearn` uses the location of centers to test the convergence but our algorithm uses the label to test the convergence."
   ]
  },
  {
   "cell_type": "code",
   "execution_count": null,
   "metadata": {
    "id": "5fjCZaIKLVlJ",
    "scrolled": false
   },
   "outputs": [],
   "source": [
    "### your answer here\n",
    "#we print the result of sklearn.cluster.KMeans 5 times\n",
    "#with initial center point is fixed (X[2], X[4], X[6])\n",
    "init = np.array([X[2], X[4], X[6]])\n",
    "\n",
    "for i in range(5):\n",
    "    model = KMeans(n_clusters = 3, init = init)\n",
    "    model.fit(X)\n",
    "    print(\"result label by model :\\n\", model.labels_)\n",
    "    \n",
    "#and the results are all same"
   ]
  },
  {
   "cell_type": "code",
   "execution_count": null,
   "metadata": {},
   "outputs": [],
   "source": [
    "#we print the result of MyKmeans 5 times\n",
    "#with initial center point is fixed (X[2], X[4], X[6])\n",
    "init = np.array([X[2], X[4], X[6]])\n",
    "\n",
    "for i in range(5):\n",
    "    my_lable, my_center = MyKmeans(X, 3, init = init)\n",
    "    print(\"result label by MyKmeans:\\n\", my_lable)\n",
    "    \n",
    "#and the results are all same"
   ]
  },
  {
   "cell_type": "code",
   "execution_count": null,
   "metadata": {},
   "outputs": [],
   "source": []
  }
 ],
 "metadata": {
  "colab": {
   "collapsed_sections": [],
   "name": "KMeans-from-scratch.ipynb",
   "provenance": []
  },
  "kernelspec": {
   "display_name": "Python 3",
   "language": "python",
   "name": "python3"
  },
  "language_info": {
   "codemirror_mode": {
    "name": "ipython",
    "version": 3
   },
   "file_extension": ".py",
   "mimetype": "text/x-python",
   "name": "python",
   "nbconvert_exporter": "python",
   "pygments_lexer": "ipython3",
   "version": "3.9.4"
  }
 },
 "nbformat": 4,
 "nbformat_minor": 1
}
