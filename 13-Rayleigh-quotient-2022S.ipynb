{
 "cells": [
  {
   "cell_type": "markdown",
   "metadata": {
    "id": "l9w29k08rtSh"
   },
   "source": [
    "# Rayleigh quotient"
   ]
  },
  {
   "cell_type": "markdown",
   "metadata": {
    "id": "IutmjYv_rtSj"
   },
   "source": [
    "![Creative Commons License](https://i.creativecommons.org/l/by/4.0/88x31.png)  \n",
    "This work by Jephian Lin is licensed under a [Creative Commons Attribution 4.0 International License](http://creativecommons.org/licenses/by/4.0/)."
   ]
  },
  {
   "cell_type": "code",
   "execution_count": null,
   "metadata": {
    "id": "ITe01Pg6rtSk"
   },
   "outputs": [],
   "source": [
    "import numpy as np\n",
    "import matplotlib.pyplot as plt\n",
    "from scipy import linalg as LA"
   ]
  },
  {
   "cell_type": "markdown",
   "metadata": {
    "id": "Ie2-vwV5rtSl"
   },
   "source": [
    "## Main idea"
   ]
  },
  {
   "cell_type": "markdown",
   "metadata": {
    "id": "VR8isHdzrtSl"
   },
   "source": [
    "Suppose a symmetric matrix $A$ has eigenvalues  \n",
    "$$\\lambda_0\\leq \\cdots \\leq\\lambda_{n-1}.$$\n",
    "Then  \n",
    "$$\\max_{{\\bf x}\\neq {\\bf 0}}\\frac{{\\bf x}^\\top A{\\bf x}}{{\\bf x}^\\top {\\bf x}} = \\max_{\\|{\\bf x}\\| = 1} {\\bf x}^\\top A{\\bf x} = \\lambda_{n-1}$$\n",
    "and \n",
    "$$\\min_{{\\bf x}\\neq {\\bf 0}}\\frac{{\\bf x}^\\top A{\\bf x}}{{\\bf x}^\\top {\\bf x}} = \\min_{\\|{\\bf x}\\| = 1} {\\bf x}^\\top A{\\bf x} = \\lambda_{0}.$$\n",
    "The vector ${\\bf x}$ that achieve the maximum or the minimum is an eigenvector."
   ]
  },
  {
   "cell_type": "markdown",
   "metadata": {
    "id": "TsN1wj6IrtSm"
   },
   "source": [
    "Moreover, if ${\\bf u}_0,\\ldots,{\\bf u}_{n-1}$ form an eigenbasis with respect to the eigenvalues $\\lambda_0,\\ldots,\\lambda_{n-1}$, then  \n",
    "$$\\max_{\\substack{{\\bf x}\\neq {\\bf 0}\\\\{\\bf x}\\perp U_k}}\\frac{{\\bf x}^\\top A{\\bf x}}{{\\bf x}^\\top {\\bf x}} = \\max_{\\substack{\\|{\\bf x}\\| = 1\\\\{\\bf x}\\perp U_k}} {\\bf x}^\\top A{\\bf x} = \\lambda_{k+1}$$\n",
    "and \n",
    "$$\\min_{\\substack{{\\bf x}\\neq {\\bf 0}\\\\{\\bf x}\\perp L_k}}\\frac{{\\bf x}^\\top A{\\bf x}}{{\\bf x}^\\top {\\bf x}} = \\min_{\\substack{\\|{\\bf x}\\| = 1\\\\{\\bf x}\\perp L_k}} {\\bf x}^\\top A{\\bf x} = \\lambda_{k-1},$$\n",
    "where $L_k = \\operatorname{span}(\\{{\\bf u}_0,\\ldots,{\\bf u}_k\\})$ and $U_k = \\operatorname{span}(\\{{\\bf u}_k,\\ldots,{\\bf u}_{n-1}\\})$."
   ]
  },
  {
   "cell_type": "markdown",
   "metadata": {
    "id": "olmZzOTTrtSn"
   },
   "source": [
    "## Side stories"
   ]
  },
  {
   "cell_type": "markdown",
   "metadata": {
    "id": "jJyvbCuGrtSn"
   },
   "source": [
    "- Covariance matrix\n",
    "- Laplacian matrix and its Rayleigh quotient"
   ]
  },
  {
   "cell_type": "markdown",
   "metadata": {
    "id": "Ed78PEFqrtSo"
   },
   "source": [
    "## Experiments"
   ]
  },
  {
   "cell_type": "markdown",
   "metadata": {
    "id": "4nVYOVA_rtSo"
   },
   "source": [
    "###### Exercise 1\n",
    "Let  \n",
    "```python\n",
    "A = np.ones((3,3))\n",
    "vs = np.random.randn(3,100)\n",
    "vs = vs / np.linalg.norm(vs, axis=0)\n",
    "```"
   ]
  },
  {
   "cell_type": "markdown",
   "metadata": {
    "id": "dkrGBokirtSp"
   },
   "source": [
    "###### 1(a)\n",
    "Generate an array of ${\\bf x}^\\top A{\\bf x}$, where ${\\bf x}$ runs through the columns of `vs` .  \n",
    "Find the minimum and the maximum.  \n",
    "Compare them to the smallest and the largest eigenvalues of $A$."
   ]
  },
  {
   "cell_type": "code",
   "execution_count": null,
   "metadata": {
    "colab": {
     "base_uri": "https://localhost:8080/"
    },
    "id": "PPGTL2rfrtSp",
    "outputId": "16f347c3-3f3a-4d24-853e-66b94dcf70f6",
    "scrolled": true
   },
   "outputs": [],
   "source": [
    "A = np.ones((3,3))\n",
    "\n",
    "#initialize our x's\n",
    "vs = np.random.randn(3,10000) #the more random numbers we have, the closer the result will be to the real eigenvalues\n",
    "\n",
    "vs = vs / np.linalg.norm(vs, axis=0) #normalize, x's as we only care about unit vectors\n",
    "\n",
    "vals = (vs * A.dot(vs)).sum(axis = 0) #x.T Ax\n",
    "\n",
    "#np.linalg.eig(A) returns 2 elements: eigenvalues and eivenvectors\n",
    "eigenv_A, _ = np.linalg.eig(A)\n",
    "\n",
    "#print min and max of x.T Ax\n",
    "print('minimum and maximum of x.T Ax: {}; {}'.format(vals.min().round(2), vals.max().round(2)))\n",
    "\n",
    "#print min and max of eigenvalues of A\n",
    "print('minimum and maximum eigenvalues: {}; {}'.format(eigenv_A.min().round(2), eigenv_A.max().round(2)))\n",
    "\n",
    "#check how close they are\n",
    "print('The difference between them: {}; {}'.format( (abs(vals.min()-eigenv_A.min()).round(5) ) , (abs( vals.max()-eigenv_A.max()).round(5) ) ) )"
   ]
  },
  {
   "cell_type": "markdown",
   "metadata": {},
   "source": [
    "##### Jephian\n",
    "\n",
    "Nice and clean answer."
   ]
  },
  {
   "cell_type": "code",
   "execution_count": null,
   "metadata": {
    "colab": {
     "base_uri": "https://localhost:8080/"
    },
    "id": "2ecEwQA-f-R2",
    "outputId": "e4c0187f-55dd-4d41-d2a3-cfca834012f8"
   },
   "outputs": [],
   "source": [
    "first = vs[:,1]\n",
    "\n",
    "print(first.sum()) \n",
    "\n",
    "print((first.T.dot(A).dot(first)))\n",
    "\n",
    "print(first.T.dot(A))\n",
    "\n",
    "print((first * A.dot(first)).sum(axis = 0))"
   ]
  },
  {
   "cell_type": "markdown",
   "metadata": {
    "id": "LvUj_qqVrtSq"
   },
   "source": [
    "###### 1(b)\n",
    "It is known that \n",
    "```python\n",
    "u2 = np.array([1,1,1])\n",
    "```\n",
    "is the eigenvector for the largest eigenvalue $\\lambda_2 = 3$.  \n",
    "Generate 10000 random points of length 1 in $\\mathbb{R}^3$.  \n",
    "Select those that are (almost) perpendicular to `u2` .  \n",
    "Calculate the maximum of ${\\bf x}^\\top A{\\bf x}$ over these points ${\\bf x}$."
   ]
  },
  {
   "cell_type": "code",
   "execution_count": null,
   "metadata": {
    "colab": {
     "base_uri": "https://localhost:8080/"
    },
    "id": "LeYHFPLnrtSq",
    "outputId": "c5b16432-9367-4853-df4e-d3c1ca31d648"
   },
   "outputs": [],
   "source": [
    "A = np.ones((3,3))\n",
    "\n",
    "u2 = np.array([1,1,1])\n",
    "\n",
    "#generating 10k random points \n",
    "vs = np.random.randn(3,10000) \n",
    "\n",
    "#normalizing\n",
    "vs = vs / np.linalg.norm(vs, axis=0) \n",
    "eigenv_A, _ = np.linalg.eig(A)\n",
    "print(_)\n",
    "xTAx = np.sum(vs*A.dot(vs), axis=0)\n",
    "print(max(xTAx))\n",
    "#select x's almost perpendicular to u2 \n",
    "#multiply each column of vs (each x) by u2\n",
    "multipl = vs * u2[:, np.newaxis]\n",
    "#calculate the module of inner product of each x and u2\n",
    "module = np.abs(multipl.sum(axis = 0))\n",
    "\n",
    "#choose x's that are almost perpendicular\n",
    "mask = module < 0.001\n",
    "selected = vs[:,mask]\n",
    "#print(selected.shape)\n",
    "#print(selected)\n",
    "\n",
    "vals = (selected * A.dot(selected)).sum(axis = 0) #x.T Ax\n",
    "#print(vals)\n",
    "\n",
    "print('maximum of x.T Ax: {}'.format(vals.max().round(5)))\n",
    "\n"
   ]
  },
  {
   "cell_type": "markdown",
   "metadata": {},
   "source": [
    "##### Jephian\n",
    "\n",
    "The answer is correct.  \n",
    "\n",
    "Here are some comments.\n",
    "It is hard to randomly generate vectors that is perpendicular to `u2` .  \n",
    "You may increase the number of samples or increase the threshold `0.001` .  \n",
    "\n",
    "Alternatively, you may replace each `v` by `v - proj(v)` and normalize the vector again, where `proj(v)` is the porjection of `v` onto `u2` ."
   ]
  },
  {
   "cell_type": "markdown",
   "metadata": {
    "id": "NCoZ-wiGrtSq"
   },
   "source": [
    "## Exercises"
   ]
  },
  {
   "cell_type": "markdown",
   "metadata": {
    "id": "4R1AjvJ8rtSr"
   },
   "source": [
    "###### Exercise 2\n",
    "Let  \n",
    "```python\n",
    "mu = np.array([0,0])\n",
    "cov = np.array([[1.1,1],\n",
    "                [1,1.1]])\n",
    "vs = np.random.multivariate_normal(mu, cov, 100)\n",
    "```"
   ]
  },
  {
   "cell_type": "markdown",
   "metadata": {
    "id": "qLA9ourwrtSr"
   },
   "source": [
    "###### 2(a)\n",
    "Plot the points (rows) in `vs` ."
   ]
  },
  {
   "cell_type": "code",
   "execution_count": null,
   "metadata": {
    "colab": {
     "base_uri": "https://localhost:8080/",
     "height": 283
    },
    "id": "DicsdhPhrtSr",
    "outputId": "b3101df4-0295-40ee-93ec-780903c44b75"
   },
   "outputs": [],
   "source": [
    "mu = np.array([0,0])\n",
    "cov = np.array([[1.1,1],\n",
    "                [1,1.1]])\n",
    "vs = np.random.multivariate_normal(mu, cov, 100)\n",
    "\n",
    "#%matplotlib notebook\n",
    "ax = plt.axes()#(projection='3d')\n",
    "ax.scatter(vs[:,0],vs[:,1])"
   ]
  },
  {
   "cell_type": "markdown",
   "metadata": {
    "id": "mMxZD5YSrtSs"
   },
   "source": [
    "###### 2(b)\n",
    "Find the center of mass over the points in `vs` .  \n",
    "Shift the points in `vs` so that the center is at the origin.  "
   ]
  },
  {
   "cell_type": "code",
   "execution_count": null,
   "metadata": {
    "colab": {
     "base_uri": "https://localhost:8080/",
     "height": 283
    },
    "id": "qWH_V0IGrtSs",
    "outputId": "d5f54950-fe21-40e8-8f6c-f3d6bad386f9"
   },
   "outputs": [],
   "source": [
    "center = np.array([sum(vs[:,0])/len(vs),sum(vs[:,1])/len(vs)])\n",
    "\n",
    "shifted_vs = vs - center.T\n",
    "\n",
    "ax = plt.axes()#(projection='3d')\n",
    "\n",
    "ax.set_xlim(-0.5,0.5)\n",
    "ax.set_ylim(-0.5,0.5)\n",
    "\n",
    "ax.scatter(vs[:,0],vs[:,1], alpha = 0.3)\n",
    "\n",
    "ax.scatter(*center, color = 'r')\n",
    "ax.scatter(shifted_vs[:,0],shifted_vs[:,1], alpha = 0.3)\n",
    "\n",
    "center_shifted = np.array([sum(shifted_vs[:,0])/len(shifted_vs),sum(shifted_vs[:,1])/len(shifted_vs)])\n",
    "print(center.round(4),center_shifted.round(4))"
   ]
  },
  {
   "cell_type": "markdown",
   "metadata": {},
   "source": [
    "##### Jephian\n",
    "\n",
    "The first line can be replaced by `center = vs.mean(axis=0)` .  \n",
    "Also, it seems not necessary to set `xlim` and `ylim` ."
   ]
  },
  {
   "cell_type": "markdown",
   "metadata": {
    "id": "3J0Azc_lrtSs"
   },
   "source": [
    "###### 2(c)\n",
    "Suppose $X$ is a $N\\times d$ data matrix whose rows are samples and columns are features.  \n",
    "If the rows are centered at the origin, then $\\frac{1}{N}X^\\top X$ is called the **covariance matrix** between the features.\n",
    "\n",
    "Thinking of `vs` as a data matrix whose rows are centered at the origin, find the covariance matrix `C` ."
   ]
  },
  {
   "cell_type": "code",
   "execution_count": null,
   "metadata": {
    "colab": {
     "base_uri": "https://localhost:8080/"
    },
    "id": "w92vWWozrtSs",
    "outputId": "b77653c9-cf82-4be6-ddcc-a9362216bc83"
   },
   "outputs": [],
   "source": [
    "#3 ways to do it:\n",
    "#https://datascienceplus.com/understanding-the-covariance-matrix/#:~:text=where%20our%20data%20set%20is,XT%20X%20X%20T%20.\n",
    "\n",
    "#1\n",
    "'''# Covariance\n",
    "def cov(x, y):\n",
    "    xbar, ybar = x.mean(), y.mean()\n",
    "    return np.sum((x - xbar)*(y - ybar))/(len(x) - 1)\n",
    "\n",
    "# Covariance matrix\n",
    "def cov_mat(X):\n",
    "    return np.array([[cov(X[0], X[0]), cov(X[0], X[1])], \\\n",
    "            [cov(X[1], X[0]), cov(X[1], X[1])]])\n",
    "\n",
    "\n",
    "# Calculate covariance matrix \n",
    "cov_mat(vs.T)''' \n",
    "\n",
    "#2\n",
    "#np.cov(vs.T)\n",
    "\n",
    "#3. as per instructions\n",
    "covarience_mat = 1/len(vs) * shifted_vs.T.dot(shifted_vs)\n",
    "print(covarience_mat)"
   ]
  },
  {
   "cell_type": "markdown",
   "metadata": {},
   "source": [
    "##### Jephian\n",
    "\n",
    "Nice that you have several answers.  \n",
    "I believe they all lead to the same result.  "
   ]
  },
  {
   "cell_type": "markdown",
   "metadata": {
    "id": "2YFx_1QrrtSt"
   },
   "source": [
    "###### 2(d)\n",
    "Let $C$ be the covariance matrix found in 2(c).  \n",
    "Generate 100 vectors of length 1 in $\\mathbb{R}^2$.  \n",
    "Find the smallest Rayleigh quotient of $C$ and the vector ${\\bf u}_0$ that achieve it.  \n",
    "Find the largest Rayleigh quotient of $C$ and the vector ${\\bf u}_1$ that achieve it.   "
   ]
  },
  {
   "cell_type": "code",
   "execution_count": null,
   "metadata": {
    "colab": {
     "base_uri": "https://localhost:8080/"
    },
    "id": "PJi4BIwxrtSt",
    "outputId": "2fafc654-8f5c-4f39-bb21-c3568dbca850"
   },
   "outputs": [],
   "source": [
    "### your answer here\n",
    "vs = np.random.randn(2, 100) #Generate 100 vectors of length 1 in  ℝ2 \n",
    "vs = vs / np.linalg.norm(vs, axis=0) #(2, 100)\n",
    "u0, u1 = LA.eigh(covarience_mat)[1] #eigenvectors of c : u0, u1\n",
    "print('all eigenvalues: ',LA.eigh(covarience_mat)[0]) #eigenvalues\n",
    "print('smallest Rayleigh quotient of  𝐶: ', np.sum(u0.T*(covarience_mat.dot(u0)))) #smallest Rayleigh quotient of  𝐶 = first eigenvalue\n",
    "print('corresponding vector u0: ', u0)\n",
    "print('largest Rayleigh quotient of  𝐶: ', np.sum(u1.T*(covarience_mat.dot(u1)))) #largest Rayleigh quotient of  𝐶  = second eigenvalue\n",
    "print('corresponding vector u1: ', u1)"
   ]
  },
  {
   "cell_type": "markdown",
   "metadata": {
    "id": "kWI_jv0FrtSt"
   },
   "source": [
    "###### 2(e)\n",
    "Plot the points in the shifted `vs` .  \n",
    "Draw the vectors ${\\bf u}_0$ and ${\\bf u}_1$."
   ]
  },
  {
   "cell_type": "code",
   "execution_count": null,
   "metadata": {
    "colab": {
     "base_uri": "https://localhost:8080/",
     "height": 283
    },
    "id": "EUcjIDRWrtSt",
    "outputId": "9826a0ae-011a-4203-909c-9ca63f116eba"
   },
   "outputs": [],
   "source": [
    "### your answer here\n",
    "mu = np.array([0,0])\n",
    "cov = np.array([[1.1,1],\n",
    "                [1,1.1]])\n",
    "vs = np.random.multivariate_normal(mu, cov, 100) #(100, 2)\n",
    "center = vs[:,0].mean(),vs[:,1].mean() \n",
    "\n",
    "plt.axis('equal')\n",
    "plt.scatter(vs[:,0] - center[0], vs[:,1] - center[1] , c = 'blue')  # new points which center is swifted to (0,0)\n",
    "plt.arrow(0, 0, u0[0], u0[1], head_width = 0.1, color = 'red') #vector u0\n",
    "plt.arrow(0, 0, u1[0], u1[1], head_width = 0.1, color = 'black') #vector u1"
   ]
  },
  {
   "cell_type": "markdown",
   "metadata": {
    "id": "97vLZqKmrtSt"
   },
   "source": [
    "###### Exercise 3\n",
    "Let  \n",
    "```python\n",
    "A = np.array([[0,1,0,0,0],\n",
    "              [1,0,1,0,0],\n",
    "              [0,1,0,1,0],\n",
    "              [0,0,1,0,1],\n",
    "              [0,0,0,1,0]])\n",
    "vals,vecs = LA.eigh(A)\n",
    "```\n",
    "Let $\\lambda_0,\\ldots,\\lambda_4$ be the values in `vals` .  \n",
    "Let $\\beta = \\{{\\bf u}_0,\\ldots, {\\bf u}_4\\}$ be the column vectors in `vecs` ."
   ]
  },
  {
   "cell_type": "markdown",
   "metadata": {
    "id": "zikG9dOfrtSu"
   },
   "source": [
    "###### 3(a)\n",
    "Pick a random vector ${\\bf x}$ of length 1 in $\\mathbb{R}^5$.  \n",
    "Compute ${\\bf c} = [{\\bf x}]_\\beta = (c_0,\\ldots, c_4)^\\top$.  "
   ]
  },
  {
   "cell_type": "code",
   "execution_count": null,
   "metadata": {
    "colab": {
     "base_uri": "https://localhost:8080/"
    },
    "id": "uxVcxx9ErtSu",
    "outputId": "facdc76f-dbb6-4589-b685-96af79e56293",
    "scrolled": true
   },
   "outputs": [],
   "source": [
    "### your answer here\n",
    "A = np.array([[0,1,0,0,0],\n",
    "              [1,0,1,0,0],\n",
    "              [0,1,0,1,0],\n",
    "              [0,0,1,0,1],\n",
    "              [0,0,0,1,0]])\n",
    "vals,vecs = LA.eigh(A)\n",
    "x = np.random.randn(5,1) \n",
    "x = x / np.linalg.norm(x, axis=0) #(5, 1)\n",
    "c = vecs.T.dot(x) #LA10\n",
    "print(c)"
   ]
  },
  {
   "cell_type": "markdown",
   "metadata": {},
   "source": [
    "##### Jephian\n",
    "\n",
    "I would do `x = np.random.randn(5)` instead.  "
   ]
  },
  {
   "cell_type": "markdown",
   "metadata": {
    "id": "87Rt6JDartSu"
   },
   "source": [
    "###### 3(b)\n",
    "Check that $\\|{\\bf x}\\|^2 = c_0^2 + \\cdots + c_4^2$.  \n",
    "Therefore, the condition $\\|{\\bf x}\\| = 1$ is equivalent to $c_0^2 + \\cdots + c_4^2 = 1$."
   ]
  },
  {
   "cell_type": "code",
   "execution_count": null,
   "metadata": {
    "colab": {
     "base_uri": "https://localhost:8080/"
    },
    "id": "JMOiuY74rtSu",
    "outputId": "668a4e43-09db-4d02-aab7-607d27802d85"
   },
   "outputs": [],
   "source": [
    "### your answer here\n",
    "print('‖𝐱‖^2=𝑐0^2+⋯+𝑐4^2: ', x.T.dot(x).round(8) == (c[0]**2 + c[1]**2 + c[2]**2 + c[3]**2 + c[4]**2).round(8)) #check : ‖𝐱‖^2=𝑐0^2+⋯+𝑐4^2\n",
    "print('‖𝐱‖= ',x.T.dot(x)) #‖𝐱‖=1\n",
    "print('𝑐0^2+⋯+𝑐4^2 = ', c[0]**2 + c[1]**2 + c[2]**2 + c[3]**2 + c[4]**2) #𝑐0^2+⋯+𝑐4^2 = 1"
   ]
  },
  {
   "cell_type": "markdown",
   "metadata": {},
   "source": [
    "##### Jephian\n",
    "\n",
    "The second line should be $\\|{\\bf x}\\|^2$; you missed the square.  \n",
    "The third line can be simplified as `np.sum(c ** 2)` ."
   ]
  },
  {
   "cell_type": "markdown",
   "metadata": {
    "id": "v-CTNazErtSu"
   },
   "source": [
    "###### 3(c)\n",
    "Check that  \n",
    "$A{\\bf x} = c_0\\lambda_0{\\bf u}_0 + \\cdots + c_4\\lambda_4{\\bf u}_4$ and  \n",
    "${\\bf x}^\\top A{\\bf x} = c_0^2\\lambda_0 + \\cdots c_4^2\\lambda_4$.  \n",
    "Therefore, under the condition that $c_0^2 + \\cdots + c_4^2 = 1$, the extrema of ${\\bf x}^\\top A{\\bf x}$ are $\\lambda_0$ and $\\lambda_4$."
   ]
  },
  {
   "cell_type": "code",
   "execution_count": null,
   "metadata": {
    "colab": {
     "base_uri": "https://localhost:8080/"
    },
    "id": "8h09oPO-rtSw",
    "outputId": "196c29d2-a1dd-41a9-bcaa-52417755c81d"
   },
   "outputs": [],
   "source": [
    "### your answer here\n",
    "\n",
    "print ('Ax=c0λ0u0+⋯+c4λ4u4: ', np.allclose(A.dot(x).T,c[0]*vals[0]*vecs[:,0] + c[1]*vals[1]*vecs[:,1] + c[2]*vals[2]*vecs[:,2] + c[3]*vals[3]*vecs[:,3] + c[4]*vals[4]*vecs[:,4]))\n",
    "print ('x.⊤Ax=c20λ0+⋯c24λ4: ', np.isclose(x.T.dot(A).dot(x),c[0]**2*vals[0] + c[1]**2*vals[1] + c[2]**2*vals[2] + c[3]**2*vals[3] + c[4]**2*vals[4]))\n"
   ]
  },
  {
   "cell_type": "markdown",
   "metadata": {},
   "source": [
    "##### Jephian\n",
    "\n",
    "Again, the computation can be easier.  \n",
    "For $c_0\\lambda_0{\\bf u}_0 + \\cdots + c_4\\lambda_4{\\bf u}_4$, you may do `np.sum(c * vals * vecs, axis=1)` .  \n",
    "For $c_0^2\\lambda_0 + \\cdots c_4^2\\lambda_4$, you may do `np.sum(c ** 2 * vals)` ."
   ]
  },
  {
   "cell_type": "markdown",
   "metadata": {
    "id": "IK08_nT7rtSw"
   },
   "source": [
    "###### Exercise 4\n",
    "Let  \n",
    "```python\n",
    "A = np.array([[1,-1,0,0,0],\n",
    "              [-1,2,-1,0,0],\n",
    "              [0,-1,2,-1,0],\n",
    "              [0,0,-1,2,-1],\n",
    "              [0,0,0,-1,1]])\n",
    "```"
   ]
  },
  {
   "cell_type": "markdown",
   "metadata": {
    "id": "rxu6bpyRrtSw"
   },
   "source": [
    "###### 4(a)\n",
    "Pick a random vector ${\\bf x} = (x_0,x_1,x_2,x_3,x_4)^\\top$.  \n",
    "Check that \n",
    "$${\\bf x}^\\top A{\\bf x} = \\sum_{\\substack{i<j \\\\ (A)_{ij} = -1}}(x_i - x_j)^2.$$  \n",
    "For convenience, we call this value as $R({\\bf x})$."
   ]
  },
  {
   "cell_type": "code",
   "execution_count": null,
   "metadata": {
    "colab": {
     "base_uri": "https://localhost:8080/"
    },
    "id": "vZh_qDZLrtSw",
    "outputId": "d607f38f-a7dc-486d-d73e-48bf170633ef"
   },
   "outputs": [],
   "source": [
    "### your answer here\n",
    "A = np.array([[1,-1,0,0,0],\n",
    "              [-1,2,-1,0,0],\n",
    "              [0,-1,2,-1,0],\n",
    "              [0,0,-1,2,-1],\n",
    "              [0,0,0,-1,1]]) #(5,5)\n",
    "x = np.random.randn(5) #(5,)\n",
    "sum = 0\n",
    "print(x.dot(A).dot(x))  # Check xTAx first\n",
    "for i in range(5): # Check sum of square of the diff \n",
    "  for j in range(i,5):\n",
    "    if A[i,j] == -1: #like a mask\n",
    "      sum = sum + (x[i] - x[j])**2\n",
    "    else:\n",
    "      sum = sum\n",
    "print(sum) #print them out, and we will know they are the same."
   ]
  },
  {
   "cell_type": "markdown",
   "metadata": {},
   "source": [
    "##### Jephian\n",
    "\n",
    "Usually, the indent is four spaces."
   ]
  },
  {
   "cell_type": "markdown",
   "metadata": {
    "id": "FOLAUH8PrtSw"
   },
   "source": [
    "###### 4(b)\n",
    "Pick 1000000 random vector ${\\bf x}$ of length 1 in $\\mathbb{R}^5$.  \n",
    "Find the one ${\\bf u}_0$ that achieve the minimum $R({\\bf x})$.  \n",
    "Can you guess the correct ${\\bf u}_0$ by the identity in 4(a)?"
   ]
  },
  {
   "cell_type": "code",
   "execution_count": null,
   "metadata": {
    "colab": {
     "base_uri": "https://localhost:8080/"
    },
    "id": "jphnP7R9rtSw",
    "outputId": "94510163-3945-484e-bdae-73297890f7e3"
   },
   "outputs": [],
   "source": [
    "### your answer here\n",
    "A = np.array([[1,-1,0,0,0],\n",
    "              [-1,2,-1,0,0],\n",
    "              [0,-1,2,-1,0],\n",
    "              [0,0,-1,2,-1],\n",
    "              [0,0,0,-1,1]])\n",
    "x = np.random.randn(5,1000000)\n",
    "x = x / np.linalg.norm(x, axis=0)\n",
    "Rs = np.sum(x*(A.dot(x)),axis=0) #(1000000,)\n",
    "u0 = min(Rs) \n",
    "print(u0) #print the min value of Rs"
   ]
  },
  {
   "cell_type": "code",
   "execution_count": null,
   "metadata": {
    "colab": {
     "base_uri": "https://localhost:8080/"
    },
    "id": "0h-wXNJzlatU",
    "outputId": "fb34b313-4f88-4668-85da-69f2151ad6ad"
   },
   "outputs": [],
   "source": [
    "#從4(a)的計算1個random vector  𝐱，到計算1000000 random vector  𝐱，利用4(a)的等式，就用另一種方式計算出u0\n",
    "minsum = 100\n",
    "for i in range(1000000): # have 1000000 random vector  𝐱 \n",
    "  sum = 0 # need to reset the sum after calculate each sum of colume\n",
    "  for j in range(5): # Check sum of square of the diff \n",
    "    for k in range(j,5): # j<k...by identity in 4(a), so it is from j to 5 \n",
    "      if A[j,k] == -1: # like a mask\n",
    "        sum = sum + (x[j,i] - x[k,i])**2\n",
    "      else:\n",
    "        sum = sum \n",
    "  if minsum > sum: #all sums of columes need to find the min, which is same as u0 above\n",
    "    minsum = sum\n",
    "u1 = minsum\n",
    "print(minsum)\n",
    "print(np.isclose(u0,u1))"
   ]
  },
  {
   "cell_type": "markdown",
   "metadata": {
    "id": "Rq4T_GumotJG"
   },
   "source": [
    "##### Jephian\n",
    "\n",
    "What I wanted to say is, the minimum value of  \n",
    "$$\n",
    "    {\\bf x}^\\top A{\\bf x} = \\sum_{\\substack{i<j \\\\ (A)_{ij} = -1}}(x_i - x_j)^2\n",
    "$$  \n",
    "happens when $x_i = x_j$ for all \"related\" $i$ and $j$.  "
   ]
  },
  {
   "cell_type": "code",
   "execution_count": null,
   "metadata": {},
   "outputs": [],
   "source": []
  }
 ],
 "metadata": {
  "colab": {
   "name": "「13-Rayleigh-quotient.ipynb」的副本",
   "provenance": []
  },
  "kernelspec": {
   "display_name": "Python 3 (ipykernel)",
   "language": "python",
   "name": "python3"
  },
  "language_info": {
   "codemirror_mode": {
    "name": "ipython",
    "version": 3
   },
   "file_extension": ".py",
   "mimetype": "text/x-python",
   "name": "python",
   "nbconvert_exporter": "python",
   "pygments_lexer": "ipython3",
   "version": "3.10.2"
  }
 },
 "nbformat": 4,
 "nbformat_minor": 1
}
