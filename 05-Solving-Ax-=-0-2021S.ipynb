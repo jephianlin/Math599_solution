{
 "cells": [
  {
   "cell_type": "markdown",
   "metadata": {},
   "source": [
    "# Solving Ax = 0"
   ]
  },
  {
   "cell_type": "markdown",
   "metadata": {},
   "source": [
    "![Creative Commons License](https://i.creativecommons.org/l/by/4.0/88x31.png)  \n",
    "This work by Jephian Lin is licensed under a [Creative Commons Attribution 4.0 International License](http://creativecommons.org/licenses/by/4.0/)."
   ]
  },
  {
   "cell_type": "code",
   "execution_count": null,
   "metadata": {},
   "outputs": [],
   "source": [
    "import numpy as np\n",
    "import matplotlib.pyplot as plt\n",
    "from mpl_toolkits import mplot3d\n",
    "import sympy"
   ]
  },
  {
   "cell_type": "markdown",
   "metadata": {},
   "source": [
    "## Main idea"
   ]
  },
  {
   "cell_type": "markdown",
   "metadata": {},
   "source": [
    "Let $A$ be an $m\\times n$ matrix.  The solution set of $A{\\bf x} = {\\bf 0}$ is the intersection of the hyperplanes $\\langle {\\bf r}_i, {\\bf x}\\rangle = 0$ for all $i=1,\\ldots,m$, where ${\\bf r}_i$ is the $i$-th row of $A$.  \n",
    "Therefore, the solution set of $A$ is a space and we call it the **kernel** $\\operatorname{ker}(A)$ of $A$.\n",
    "\n",
    "Every matrix lead to its **reduced echelon form** after some **row operations**.  If $R$ is the reduced echelon form of $A$, then $A{\\bf x} = {\\bf 0} = R{\\bf x} = {\\bf 0}$."
   ]
  },
  {
   "cell_type": "markdown",
   "metadata": {},
   "source": [
    "## Side stories"
   ]
  },
  {
   "cell_type": "markdown",
   "metadata": {},
   "source": [
    "- row operations, reduced echelon form\n",
    "- SymPy\n",
    "- trivial or infinite solutions\n",
    "- kernel (null space)\n",
    "- row space\n",
    "- rank + nullity = number of columns"
   ]
  },
  {
   "cell_type": "markdown",
   "metadata": {},
   "source": [
    "## Experiments"
   ]
  },
  {
   "cell_type": "markdown",
   "metadata": {},
   "source": [
    "###### Exercise 1\n",
    "This exercise shows you that the kernel and the row space of a matrix are orthogonal to each other.  \n",
    "Let  \n",
    "```python\n",
    "A = np.array([[1,1,1], \n",
    "              [1,1,1]])\n",
    "```\n",
    "The **nullity** of $A$ is the dimension of its kernel.  \n",
    "The **rank** of $A$ is the dimension of its row space.  "
   ]
  },
  {
   "cell_type": "markdown",
   "metadata": {},
   "source": [
    "###### 1(a)\n",
    "Use the techniques you learned in Lesson 2 to draw some random points in the kernel of $A$.  \n",
    "What is the nullity of $A$?"
   ]
  },
  {
   "cell_type": "code",
   "execution_count": null,
   "metadata": {},
   "outputs": [],
   "source": [
    "### your answer here\n",
    "A = np.array([[1,1,1], \n",
    "              [1,1,1]])\n",
    "\n",
    "vs = 5*np.random.randn(3,10000) ### 10000 points in R^3\n",
    "\n",
    "Avs = A.dot(vs) ### 2 x 3 times 3 x 10000\n",
    "#mask = (np.abs(Avs).sum(axis = 0) < 0.1)\n",
    "mask = (np.linalg.norm(Avs, axis = 0) < 0.1)\n",
    "\n",
    "new_vs = vs[:, mask]\n",
    "\n",
    "%matplotlib notebook\n",
    "ax = plt.axes(projection='3d')\n",
    "ax.set_xlim(-5,5)\n",
    "ax.set_ylim(-5,5)\n",
    "ax.set_zlim(-5,5)\n",
    "ax.scatter(new_vs[0], new_vs[1], new_vs[2])"
   ]
  },
  {
   "cell_type": "markdown",
   "metadata": {},
   "source": [
    "##### Jephian:\n",
    "So the nullity is 2 since it is a two-dimensional plane."
   ]
  },
  {
   "cell_type": "markdown",
   "metadata": {},
   "source": [
    "###### 1(b)\n",
    "Use the techniques you learned in Lesson 3 to draw a grid using the rows of $A$.  \n",
    "What is the rank of $A$?"
   ]
  },
  {
   "cell_type": "code",
   "execution_count": null,
   "metadata": {},
   "outputs": [],
   "source": [
    "### your answer here\n",
    "A = np.array([[1,1,1], \n",
    "              [1,1,1]])\n",
    "\n",
    "A = A.T\n",
    "\n",
    "grid = np.meshgrid(np.arange(5), np.arange(5))\n",
    "xs = grid[0].ravel()\n",
    "ys = grid[1].ravel()\n",
    "\n",
    "vs = np.vstack([xs,ys]) ### 2 x 25\n",
    "Avs = A.dot(vs) ### 3 x 2 times 2 x 25\n",
    "\n",
    "# plt.axis('equal')\n",
    "# plt.scatter(Avs[0], Avs[1])\n",
    "\n",
    "ax = plt.axes(projection='3d')\n",
    "ax.set_xlim(-5,5)\n",
    "ax.set_ylim(-5,5)\n",
    "ax.set_zlim(-5,5)\n",
    "ax.scatter(Avs[0], Avs[1], Avs[2])"
   ]
  },
  {
   "cell_type": "markdown",
   "metadata": {},
   "source": [
    "##### Jephian:  \n",
    "So the rank is 1 since it is a one-dimensional line."
   ]
  },
  {
   "cell_type": "markdown",
   "metadata": {},
   "source": [
    "###### 1(c)\n",
    "Do the same for  \n",
    "```python\n",
    "B = np.array([[1,-1,0], \n",
    "              [1,0,-1]])\n",
    "```\n",
    "What is the nullity and the rank of $B$?"
   ]
  },
  {
   "cell_type": "code",
   "execution_count": null,
   "metadata": {},
   "outputs": [],
   "source": [
    "### your answer here\n",
    "B = np.array([[1,-1,0], \n",
    "              [1,0,-1]])\n",
    "\n",
    "vs = 5*np.random.randn(3,500000) ### 500000 points in R^3\n",
    "Bvs = B.dot(vs)\n",
    "\n",
    "mask = (np.abs(Bvs).sum(axis = 0) < 0.1)\n",
    "new_vs = vs[:, mask]\n",
    "\n",
    "grid = np.meshgrid(np.arange(5), np.arange(5))\n",
    "xs = grid[0].ravel()\n",
    "ys = grid[1].ravel()\n",
    "\n",
    "vs = np.vstack([xs,ys]) ### 2 x 25\n",
    "Bvs = B.T.dot(vs) ### 3 x 2 times 2 x 25\n",
    "\n",
    "get_ipython().run_line_magic('matplotlib', 'notebook')\n",
    "ax = plt.axes(projection='3d')\n",
    "ax.set_xlim(-5,5)\n",
    "ax.set_ylim(-5,5)\n",
    "ax.set_zlim(-5,5)\n",
    "ax.scatter(Bvs[0], Bvs[1], Bvs[2])\n",
    "ax.scatter(new_vs[0], new_vs[1], new_vs[2])"
   ]
  },
  {
   "cell_type": "markdown",
   "metadata": {},
   "source": [
    "##### Jephian:  \n",
    "So the nullity is 1 and the rank is 2."
   ]
  },
  {
   "cell_type": "markdown",
   "metadata": {},
   "source": [
    "## Exercises"
   ]
  },
  {
   "cell_type": "markdown",
   "metadata": {},
   "source": [
    "##### Exercise 2\n",
    "We need to rely on SymPy to do the row operations.  \n",
    "You may use `sympy.Matrix(arr)` and `np.array(mtx, dtype=float)` to switch between two data types.  \n",
    "Let\n",
    "```python\n",
    "A = sympy.Matrix([[1,1,1,1], \n",
    "                  [1,2,2,2], \n",
    "                  [1,2,2,3]])\n",
    "R,pvts = A.rref()\n",
    "```\n",
    "Convince your self that $A$ and $R$ have the same kernel."
   ]
  },
  {
   "cell_type": "code",
   "execution_count": null,
   "metadata": {},
   "outputs": [],
   "source": [
    "### your answer here\n",
    "A = sympy.Matrix([[1,1,1,1],[1,2,2,2],[1,2,2,3]])\n",
    "R, pvts = A.rref()\n",
    "print(R,pvts)\n",
    "print(A.nullspace())\n",
    "print(R.nullspace())"
   ]
  },
  {
   "cell_type": "markdown",
   "metadata": {},
   "source": [
    "##### Exercise 3\n",
    "The function `A.rref()` returns the reduced echelon form of $A$ and the indices of the **pivots** --- they are the indices of the first one in each row.  \n",
    "Find a $3\\times 5$ matrix whose pivots are `(1,2,4)` ."
   ]
  },
  {
   "cell_type": "code",
   "execution_count": null,
   "metadata": {},
   "outputs": [],
   "source": [
    "### your answer here\n",
    "A = sympy.Matrix([[0,1,1,1,1], \n",
    "                  [0,1,2,2,2], \n",
    "                  [0,1,2,2,3]])\n",
    "R,pvts = A.rref()\n",
    "R,pvts"
   ]
  },
  {
   "cell_type": "markdown",
   "metadata": {},
   "source": [
    "##### Exercise 4\n",
    "Let  \n",
    "```python\n",
    "A = sympy.Matrix([[1,0,2,0,4], \n",
    "                  [0,1,3,0,5], \n",
    "                  [0,0,0,1,6]])\n",
    "```\n",
    "Then $A{\\bf x} = {\\bf 0}$ is equivalent to \n",
    "$$\\begin{array}{rrrrrl}\n",
    "x_0 & ~ & +2x_2 & ~ & +4x_4 & = 0 \\\\\n",
    "~ & x_1 & +3x_2 & ~ & +5x_4 & = 0 \\\\\n",
    "~ & ~ & ~ & x_3 & +6x_4 & = 0.\n",
    "\\end{array}$$"
   ]
  },
  {
   "cell_type": "markdown",
   "metadata": {},
   "source": [
    "###### 4(a)\n",
    "Suppose $x_2 = 1$ and $x_4 = 0$.  Solve the equation by hand.    \n",
    "Use  \n",
    "```python\n",
    "x = sympy.Matrix([x0, x1, x2, x3, x4])\n",
    "A * x\n",
    "```\n",
    "to check your answer."
   ]
  },
  {
   "cell_type": "code",
   "execution_count": null,
   "metadata": {},
   "outputs": [],
   "source": [
    "### your answer here\n",
    "## By hand: X0=-2, X1=-3, X3=0  \n",
    "A = sympy.Matrix([[1,0,2,0,4], \n",
    "                  [0,1,3,0,5], \n",
    "                  [0,0,0,1,6]])\n",
    "\n",
    "x = sympy.Matrix([-2, -3, 1, 0, 0])\n",
    "A.dot(x)"
   ]
  },
  {
   "cell_type": "markdown",
   "metadata": {},
   "source": [
    "##### Jephian:  \n",
    "Since both `A` and `x` are SymPy matrices,  \n",
    "it is more appropriate to use `A * x` instead."
   ]
  },
  {
   "cell_type": "markdown",
   "metadata": {},
   "source": [
    "###### 4(b)\n",
    "Find more solutions by setting $x_2 = s$ and $x_4 = t$.  \n",
    "Let  \n",
    "```python\n",
    "h1,h2 = A.nullspace()\n",
    "```\n",
    "Is your answer the same as $s{\\bf h}_1 + t{\\bf h}_2$?  "
   ]
  },
  {
   "cell_type": "code",
   "execution_count": null,
   "metadata": {},
   "outputs": [],
   "source": [
    "### your answer here\n",
    "h1,h2 = A.nullspace()\n",
    "print(h1)\n",
    "print(h2)\n",
    "A = sympy.Matrix([[1,0,2,0,4], [0,1,3,0,5], [0,0,0,1,6]])\n",
    "x = sympy.symarray('x', (5,1))\n",
    "x[2] = \"s\"\n",
    "x[4] = \"t\"\n",
    "sympy.solve(A * x)\n",
    "##s= -1/3 * x1 + 5/18 * x3\n",
    "##t= -1/6 * x3 \n",
    "##x0= 2/3 * x1 + 1/9 * x3"
   ]
  },
  {
   "cell_type": "markdown",
   "metadata": {},
   "source": [
    "##### Jephian:  \n",
    "Your definition of `A` comes after `A.nullspace()` .  \n",
    "The goal of this question is to ask you to set $x_2 = s$ and $x_4 = t$  \n",
    "and then solve the equations by hand.  \n",
    "Thus,  \n",
    "$$\\begin{array}{rrrrrl}\n",
    "x_0 & ~ & +2s & ~ & +4t & = 0 \\\\\n",
    "~ & x_1 & +3s & ~ & +5t & = 0 \\\\\n",
    "~ & ~ & ~ & x_3 & +6t & = 0.\n",
    "\\end{array}$$  \n",
    "and  \n",
    "$$\\begin{bmatrix} x_0 \\\\ x_1 \\\\ x_2 \\\\ x_3 \\\\ x_4 \\end{bmatrix} = \n",
    "\\begin{bmatrix} -2s -4t \\\\ -3s -5t \\\\ s \\\\ -6t \\\\ t \\end{bmatrix} = \n",
    "s \\begin{bmatrix} -2 \\\\ -3 \\\\ 1 \\\\ 0 \\\\ 0 \\end{bmatrix} +\n",
    "t \\begin{bmatrix} -4 \\\\ -5 \\\\ 0 \\\\ -6 \\\\ 1 \\end{bmatrix} = \n",
    "s{\\bf h}_1 + t{\\bf h}_2.$$  \n",
    "\n",
    "It is not asking you to solve $s$ and $t$."
   ]
  },
  {
   "cell_type": "markdown",
   "metadata": {},
   "source": [
    "###### 4(c)\n",
    "Here is the code for generating ${\\bf h}$'s.  \n",
    "Play with the code and understand the fancy indexing feature in NumPy.\n",
    "```python\n",
    "R,pvts = A.rref()\n",
    "\n",
    "num_cols = A.shape[1]\n",
    "rank = len(pvts)\n",
    "\n",
    "R = np.array(R)\n",
    "pvts = np.array(pvts)\n",
    "frees = np.array([j for j in range(num_cols) if j not in pvts])\n",
    "\n",
    "for j in frees:\n",
    "    h = np.zeros((num_cols,))\n",
    "    h[j] = 1\n",
    "    h[pvts] = -R[:rank, j]\n",
    "    print(h)\n",
    "```"
   ]
  },
  {
   "cell_type": "code",
   "execution_count": null,
   "metadata": {},
   "outputs": [],
   "source": [
    "### your answer here\n",
    "R,pvts = A.rref()\n",
    "\n",
    "num_cols = A.shape[1]\n",
    "rank = len(pvts)\n",
    "\n",
    "R = np.array(R)\n",
    "pvts = np.array(pvts)\n",
    "frees = np.array([j for j in range(num_cols) if j not in pvts])\n",
    "\n",
    "for j in frees:\n",
    "    h = np.zeros((num_cols,))\n",
    "    h[j] = 1\n",
    "    h[pvts] = -R[:rank, j]\n",
    "    print(h)"
   ]
  },
  {
   "cell_type": "markdown",
   "metadata": {},
   "source": [
    "##### 4(d)\n",
    "Alternatively, you may generate a \"null matrix\" at once.  \n",
    "Play with the code and understand the slicing feature in NumPy.\n",
    "```python\n",
    "R,pvts = A.rref()\n",
    "\n",
    "num_cols = A.shape[1]\n",
    "rank = len(pvts)\n",
    "\n",
    "R = np.array(R)\n",
    "pvts = np.array(pvts)\n",
    "frees = np.array([j for j in range(num_cols) if j not in pvts])\n",
    "\n",
    "num_frees = frees.shape[0]\n",
    "hs = np.zeros((num_frees, num_cols))\n",
    "hs[:, frees] = np.eye(num_frees)\n",
    "hs[:, pvts] = -R[:rank, frees].T\n",
    "```"
   ]
  },
  {
   "cell_type": "code",
   "execution_count": null,
   "metadata": {},
   "outputs": [],
   "source": [
    "### your answer here\n",
    "R,pvts = A.rref()\n",
    "\n",
    "num_cols = A.shape[1]\n",
    "rank = len(pvts)\n",
    "\n",
    "R = np.array(R)\n",
    "pvts = np.array(pvts)\n",
    "frees = np.array([j for j in range(num_cols) if j not in pvts])\n",
    "\n",
    "num_frees = frees.shape[0]\n",
    "hs = np.zeros((num_frees, num_cols))\n",
    "hs[:, frees] = np.eye(num_frees)\n",
    "hs[:, pvts] = -R[:rank, frees].T"
   ]
  },
  {
   "cell_type": "markdown",
   "metadata": {},
   "source": [
    "#### Remark\n",
    "Let $R$ is a reduced echelon form.  \n",
    "(Think of Exercise 4.)\n",
    "The first one in each row = first variable in each equation = a leading variable. (e.g., `(0,1,3)` )  \n",
    "Other variables = free variables.  (e.g., `(2,4)` )  \n",
    "By assigning arbitrary numbers to free variables, one may solve the leading variables.  \n",
    "\n",
    "rank = number of leading variables = number of nonzero rows in $R$  \n",
    "nullity = number of free variables  \n",
    "\n",
    "nullity = 0 $\\iff$ $\\operatorname{ker}(A)$ contains only one trivial ${\\bf 0}$  \n",
    "nullity > 0 $iff$ $\\operatorname{ker}(A)$ has infinit solution\n",
    "\n",
    "#### Dimension theorem\n",
    "For any $m\\times n$ matrix $A$,  \n",
    "$$\\operatorname{rank}(A) + \\operatorname{nullity}(A) = n.$$"
   ]
  },
  {
   "cell_type": "markdown",
   "metadata": {},
   "source": [
    "##### Exercise 5\n",
    "Let  \n",
    "```python\n",
    "A = sympy.Matrix([[1,3,3,18], \n",
    "                  [5,15,16,95], \n",
    "                  [-5,-15,-15,-90]])\n",
    "R,pvts = A.rref()\n",
    "```\n",
    "Use the same technique as Exercise 4 to solve the kernel of $A$.  \n",
    "Then verify your answer by `A.nullspace()`."
   ]
  },
  {
   "cell_type": "code",
   "execution_count": null,
   "metadata": {
    "scrolled": true
   },
   "outputs": [],
   "source": [
    "### your answer here\n",
    "A = sympy.Matrix([[1,3,3,18],[5,15,16,95],[-5,-15,-15,-90]])\n",
    "R,pvts = A.rref()\n",
    "print(R, pvts)\n",
    "x = sympy.symarray('x', (4,1)) #x0: -3*x1 - 3*x3,  x2: -5*x3\n",
    "print(sympy.solve(R * x))\n",
    "print(A.nullspace())"
   ]
  },
  {
   "cell_type": "markdown",
   "metadata": {},
   "source": [
    "##### Jephian:  \n",
    "The question is asking you to solve the kernel by hand  \n",
    "and then compare your answer with the result from `A.nullspace()` ."
   ]
  },
  {
   "cell_type": "markdown",
   "metadata": {},
   "source": [
    "##### Exercise 6\n",
    "Let  \n",
    "```python\n",
    "A = np.array([[1,1,1], \n",
    "              [1,1,1]])\n",
    "A_sym = sympy.Matrix(A)\n",
    "```\n",
    "Use the vectors in `A_sym.nullspace()` to draw the grid.  \n",
    "Check if the space is the same as what you did in Exercise 1."
   ]
  },
  {
   "cell_type": "code",
   "execution_count": null,
   "metadata": {},
   "outputs": [],
   "source": [
    "### your answer here\n",
    "A = np.array([[1,1,1], \n",
    "              [1,1,1]])\n",
    "A_sym = sympy.Matrix(A)\n",
    "A_sym.nullspace()\n",
    "\n",
    "A = sympy.Matrix([[-1,1,0], \n",
    "                 [-1,0,1]])\n",
    "A = A.T\n",
    "\n",
    "grid = np.meshgrid(np.arange(5), np.arange(5))\n",
    "xs = grid[0].ravel()\n",
    "ys = grid[1].ravel()\n",
    "\n",
    "vs = sympy.Matrix([xs,ys]) ### 2 x 25 np.vstack\n",
    "Avs = np.dot(A,vs) ### 3 x 2 times 2 x 25\n",
    "\n",
    "ax = plt.axes(projection='3d')\n",
    "ax.set_xlim(-5,5)\n",
    "ax.set_ylim(-5,5)\n",
    "ax.set_zlim(-5,5)\n",
    "ax.scatter(Avs[0], Avs[1], Avs[2], c='red')"
   ]
  },
  {
   "cell_type": "markdown",
   "metadata": {},
   "source": [
    "##### Jephian:  \n",
    "Instead of setting  \n",
    "```python\n",
    "A = sympy.Matrix([[-1,1,0], \n",
    "                 [-1,0,1]])\n",
    "```\n",
    "manually, you could do  \n",
    "```python\n",
    "ker = A_sym.nullspace()\n",
    "ker_mtx = sympy.Matrix.hstack(*ker)\n",
    "```\n",
    "instead.  Also, avoid calling the new matrix `A` again."
   ]
  },
  {
   "cell_type": "markdown",
   "metadata": {},
   "source": [
    "##### Exercise 7\n",
    "Let  \n",
    "```python\n",
    "A = sympy.Matrix([[1,-1,0], \n",
    "                 [1,0,-1]])\n",
    "R,pvts = A.rref()\n",
    "```\n",
    "Draw the grid in red using the rows of $A$ and draw the grid in blue using the rows of $R$.  \n",
    "Are they the same space?\n"
   ]
  },
  {
   "cell_type": "code",
   "execution_count": null,
   "metadata": {},
   "outputs": [],
   "source": [
    "### your answer here\n",
    "A = sympy.Matrix([[1,-1,0], \n",
    "                 [1,0,-1]])\n",
    "A = A.T\n",
    "\n",
    "R,pvts = A.rref()\n",
    "\n",
    "grid = np.meshgrid(np.arange(5), np.arange(5))\n",
    "xs = grid[0].ravel()\n",
    "ys = grid[1].ravel()\n",
    "\n",
    "vs = sympy.Matrix([xs,ys]) ### 2 x 25 np.vstack\n",
    "Avs = np.dot(A,vs) ### 3 x 2 times 2 x 25\n",
    "\n",
    "ax = plt.axes(projection='3d')\n",
    "ax.set_xlim(-5,5)\n",
    "ax.set_ylim(-5,5)\n",
    "ax.set_zlim(-5,5)\n",
    "ax.scatter(Avs[0], Avs[1], Avs[2], c='red')"
   ]
  },
  {
   "cell_type": "code",
   "execution_count": null,
   "metadata": {},
   "outputs": [],
   "source": [
    "Rvs = np.dot(R,vs) ### 3 x 2 times 2 x 25\n",
    "\n",
    "ax = plt.axes(projection='3d')\n",
    "ax.set_xlim(-5,5)\n",
    "ax.set_ylim(-5,5)\n",
    "ax.set_zlim(-5,5)\n",
    "ax.scatter(Rvs[0], Rvs[1], Rvs[2], c='blue')"
   ]
  },
  {
   "cell_type": "markdown",
   "metadata": {},
   "source": [
    "##### Jephian:  \n",
    "You can draw the two grids on the same picture so that you may compare them.  \n",
    "Ideally, the two grids should span the same space, but it is not the case in your answer.  \n",
    "This is because `A = A.T` should comes after `R,pvts = A.rref()` ,  \n",
    "and you have to revise `Rvs = np.dot(R,vs)` to `Rvs = np.dot(R.T,vs)` .\n",
    "\n",
    "Here is a sample answer.\n",
    "```python\n",
    "A = sympy.Matrix([[1,-1,0], \n",
    "                 [1,0,-1]])\n",
    "R,pvts = A.rref()\n",
    "\n",
    "grid = np.meshgrid(np.arange(5), np.arange(5))\n",
    "xs = grid[0].ravel()\n",
    "ys = grid[1].ravel()\n",
    "vs = np.vstack([xs,ys])\n",
    "ATvs = np.array(A.T, dtype=float).dot(vs)\n",
    "\n",
    "ax = plt.axes(projection='3d')\n",
    "ax.set_xlim(-5,5)\n",
    "ax.set_ylim(-5,5)\n",
    "ax.set_zlim(-5,5)\n",
    "ax.scatter(Avs[0], Avs[1], Avs[2], c='red')\n",
    "\n",
    "Rvs = np.array(R.T, dtype=float).dot(vs)\n",
    "\n",
    "ax.scatter(Rvs[0], Rvs[1], Rvs[2], c='blue', s=5)\n",
    "```"
   ]
  }
 ],
 "metadata": {
  "kernelspec": {
   "display_name": "Python 3",
   "language": "python",
   "name": "python3"
  },
  "language_info": {
   "codemirror_mode": {
    "name": "ipython",
    "version": 3
   },
   "file_extension": ".py",
   "mimetype": "text/x-python",
   "name": "python",
   "nbconvert_exporter": "python",
   "pygments_lexer": "ipython3",
   "version": "3.9.2"
  }
 },
 "nbformat": 4,
 "nbformat_minor": 4
}
