{
 "cells": [
  {
   "cell_type": "markdown",
   "metadata": {},
   "source": [
    "# LinearRegression with scikit learn"
   ]
  },
  {
   "cell_type": "markdown",
   "metadata": {},
   "source": [
    "![Creative Commons License](https://i.creativecommons.org/l/by/4.0/88x31.png)  \n",
    "This work by Jephian Lin is licensed under a [Creative Commons Attribution 4.0 International License](http://creativecommons.org/licenses/by/4.0/)."
   ]
  },
  {
   "cell_type": "code",
   "execution_count": null,
   "metadata": {},
   "outputs": [],
   "source": [
    "import numpy as np\n",
    "import matplotlib.pyplot as plt"
   ]
  },
  {
   "cell_type": "markdown",
   "metadata": {},
   "source": [
    "## Code\n",
    "```python\n",
    "from sklearn.linear_model import LinearRegression\n",
    "model = LinearRegression(<parameters>)\n",
    "model.fit(X, y)\n",
    "y_new = model.predict(X_test)\n",
    "```\n",
    "\n",
    "[Official Reference](https://scikit-learn.org/stable/modules/generated/sklearn.linear_model.LinearRegression.html)"
   ]
  },
  {
   "cell_type": "markdown",
   "metadata": {},
   "source": [
    "## Parameters\n",
    "- `fit_intercept`: whether to calculate the intercept or not  \n",
    "(solving `X@v + b*ones = y` or `X@v = y`) "
   ]
  },
  {
   "cell_type": "markdown",
   "metadata": {},
   "source": [
    "## Attributes\n",
    "- `coef_`: an array of shape `(n_features,)` for the best-fitting solution of `v` in `X@v + b*ones = y` or `X@v = y`\n",
    "- `intercept_`: the best-fitting solution of `b` in `X@v + b*ones = y`  \n",
    "If `fit_intercept=False`, then `intercept_` is 0.\n",
    "- `rank_`: the rank of `X`  \n",
    "- `singular_`: singular values of `X`"
   ]
  },
  {
   "cell_type": "markdown",
   "metadata": {},
   "source": [
    "## Sample data"
   ]
  },
  {
   "cell_type": "markdown",
   "metadata": {},
   "source": [
    "##### Exercise 1\n",
    "Let  \n",
    "```python\n",
    "x = np.arange(10)\n",
    "y = 0.5*x + 3 + 0.3*np.random.randn(10)\n",
    "X = x[:,np.newaxis]\n",
    "x_test = np.linspace(0,10,20)\n",
    "X_test = x_test[:,np.newaxis]\n",
    "\n",
    "from sklearn.linear_model import LinearRegression\n",
    "model = LinearRegression()\n",
    "model.fit(X, y)\n",
    "y_new = model.predict(X_test)\n",
    "```"
   ]
  },
  {
   "cell_type": "markdown",
   "metadata": {},
   "source": [
    "###### 1(a)\n",
    "Use `plt.scatter` to plot the points with `x` and `y` .  \n",
    "Use `plt.plot( ..., c='r')` to plot the line with `x_test` and `y_new` .  \n",
    "Print `model.coef_` and  `model.intercept_` .  \n",
    "Can you guess these two numbers by the definition of `y` ?"
   ]
  },
  {
   "cell_type": "code",
   "execution_count": null,
   "metadata": {},
   "outputs": [],
   "source": [
    "### your answer here\n",
    "x = np.arange(10)\n",
    "y = 0.5*x + 3 + 0.3*np.random.randn(10)\n",
    "X = x[:,np.newaxis]\n",
    "x_test = np.linspace(0,10,20)\n",
    "X_test = x_test[:,np.newaxis]\n",
    "\n",
    "from sklearn.linear_model import LinearRegression\n",
    "model = LinearRegression()\n",
    "model.fit(X, y)\n",
    "y_new = model.predict(X_test)\n",
    "%matplotlib inline\n",
    "plt.scatter(x, y)\n",
    "plt.plot(x_test, y_new, c='r')\n",
    "print('model.coef_=', model.coef_)\n",
    "print('model.intercept_=', model.intercept_)"
   ]
  },
  {
   "cell_type": "markdown",
   "metadata": {},
   "source": [
    "###### 1(b)\n",
    "Redo 1(a) with the setting `fit_intercept=False` ."
   ]
  },
  {
   "cell_type": "code",
   "execution_count": null,
   "metadata": {},
   "outputs": [],
   "source": [
    "### your answer here\n",
    "model = LinearRegression(fit_intercept=False)\n",
    "model.fit(X, y)\n",
    "y_new = model.predict(X_test)\n",
    "%matplotlib inline\n",
    "plt.scatter(x, y)\n",
    "plt.plot(x_test, y_new, c='r')\n",
    "print('model.coef_=', model.coef_)\n",
    "print('model.intercept_=', model.intercept_)"
   ]
  },
  {
   "cell_type": "markdown",
   "metadata": {},
   "source": [
    "##### Exercise 2\n",
    "Let  \n",
    "```python\n",
    "c = 100 * np.random.rand(100)\n",
    "f = 1.8*x + 32 + 5*np.random.randn(100)\n",
    "```\n",
    "be a collection of temperature data of 100 days,  \n",
    "where `c` stores them in Celsius and  \n",
    "`f` stores them in Fahrenheit.  \n",
    "Suppose you knows nothing about their conversion.  \n",
    "How would you guess their relation?"
   ]
  },
  {
   "cell_type": "code",
   "execution_count": null,
   "metadata": {},
   "outputs": [],
   "source": [
    "### your answer here\n",
    "c = 100 * np.random.rand(100)\n",
    "f = 1.8*c + 32 + 5*np.random.randn(100)\n",
    "\n",
    "C = c[:,np.newaxis]\n",
    "c_test = np.linspace(0,100,200)\n",
    "C_test = c_test[:,np.newaxis]\n",
    "\n",
    "model = LinearRegression()\n",
    "model.fit(C, f)\n",
    "f_new = model.predict(C_test)\n",
    "%matplotlib inline\n",
    "plt.scatter(c, f)\n",
    "plt.plot(C_test,f_new, c='r')\n",
    "print('model.coef_=', model.coef_)\n",
    "print('model.intercept_=', model.intercept_)\n",
    "print('f and c may function as: f = %0.2f*c + %0.2f'%(model.coef_[0], model.intercept_))"
   ]
  },
  {
   "cell_type": "markdown",
   "metadata": {},
   "source": [
    "##### Exercise 3\n",
    "Let  \n",
    "```python\n",
    "from PIL import Image\n",
    "img = Image.open('incrediville-side.jpg')\n",
    "img_grey = img.convert('L')\n",
    "arr = np.array(img)\n",
    "m,n,c = arr.shape\n",
    "X = arr.reshape(-1,3)\n",
    "y = np.array(img_grey).ravel()\n",
    "```\n",
    "For each pixel in the picture, `X` stores its colors in `(R,G,B)` and `y` is its greyscale brightness.  \n",
    "Suppose the conversion formula is `Greyscale = ?*R + ?*G + ?*B` .  \n",
    "Can you guess the coefficients?"
   ]
  },
  {
   "cell_type": "code",
   "execution_count": null,
   "metadata": {},
   "outputs": [],
   "source": [
    "### your answer here\n",
    "from PIL import Image\n",
    "img = Image.open('incrediville-side.jpg')\n",
    "img_grey = img.convert('L')\n",
    "arr = np.array(img)\n",
    "m,n,c = arr.shape\n",
    "X = arr.reshape(-1,3)\n",
    "y = np.array(img_grey).ravel()\n",
    "model = LinearRegression(fit_intercept=False)\n",
    "model.fit(X, y)\n",
    "r, g, b = model.coef_\n",
    "print('Greyscale = %0.2f*R + %0.2f*G + %0.2f*B'%(r, g, b))"
   ]
  },
  {
   "cell_type": "markdown",
   "metadata": {},
   "source": [
    "## Experiments"
   ]
  },
  {
   "cell_type": "markdown",
   "metadata": {},
   "source": [
    "##### Exercise 4\n",
    "Let  \n",
    "```python\n",
    "x = np.arange(10)\n",
    "y = 0.5*x + 3 + 0.3*np.random.randn(10)\n",
    "X = x[:,np.newaxis]\n",
    "\n",
    "from sklearn.linear_model import LinearRegression\n",
    "model = LinearRegression()\n",
    "model.fit(X, y)\n",
    "y_new = model.predict(X)\n",
    "```"
   ]
  },
  {
   "cell_type": "markdown",
   "metadata": {},
   "source": [
    "###### 4(a)\n",
    "Compute the mean of the square differences between `y` and `y_new` .  \n",
    "Compare your answer with  \n",
    "```python\n",
    "from sklearn.metrics import mean_squared_error\n",
    "mean_squared_error(y, y_new)\n",
    "```"
   ]
  },
  {
   "cell_type": "code",
   "execution_count": null,
   "metadata": {},
   "outputs": [],
   "source": [
    "### your answer here\n",
    "x = np.arange(10)\n",
    "y = 0.5*x + 3 + 0.3*np.random.randn(10)\n",
    "X = x[:,np.newaxis]\n",
    "\n",
    "from sklearn.linear_model import LinearRegression\n",
    "model = LinearRegression()\n",
    "model.fit(X, y)\n",
    "y_new = model.predict(X)\n",
    "np.sum(np.square(y-y_new))/len(y)"
   ]
  },
  {
   "cell_type": "code",
   "execution_count": null,
   "metadata": {},
   "outputs": [],
   "source": [
    "from sklearn.metrics import mean_squared_error\n",
    "mean_squared_error(y, y_new)"
   ]
  },
  {
   "cell_type": "markdown",
   "metadata": {},
   "source": [
    "###### 4(b)\n",
    "Compute the variance of `y` ."
   ]
  },
  {
   "cell_type": "code",
   "execution_count": null,
   "metadata": {},
   "outputs": [],
   "source": [
    "### your answer here\n",
    "print(np.mean(np.square(y-np.mean(y))))\n",
    "print(np.var(y))"
   ]
  },
  {
   "cell_type": "markdown",
   "metadata": {},
   "source": [
    "###### 4(c)\n",
    "Suppose `y`$=(y_0,\\ldots, y_{n-1})$ are the true values and  \n",
    "`y_new`$=(f_0,\\ldots,f_{n-1})$ are the predicted values.  \n",
    "The coefficient of determination $R^2$ has the formula  \n",
    "$$R^2 = 1 - \\frac{\\sum_{i=0}^{n-1}(y_i - f_i)^2}{\\sum_{i=0}^{n-1}(y_i - \\overline{y})^2},$$\n",
    "where $\\overline{y}$ is the mean of `y` .  \n",
    "Calculate the $R^2$ score by `y` and `y_new` .  \n",
    "Compare your answer to `model.score(X, y)` ."
   ]
  },
  {
   "cell_type": "code",
   "execution_count": null,
   "metadata": {},
   "outputs": [],
   "source": [
    "### your answer here\n",
    "1-np.sum(np.square(y-y_new))/np.sum(np.square(y-np.mean(y)))"
   ]
  },
  {
   "cell_type": "code",
   "execution_count": null,
   "metadata": {},
   "outputs": [],
   "source": [
    "model.score(X, y)"
   ]
  },
  {
   "cell_type": "markdown",
   "metadata": {},
   "source": [
    "##### Exercise 5\n",
    "Let  \n",
    "```python\n",
    "from PIL import Image\n",
    "img = Image.open('incrediville-side.jpg')\n",
    "img_grey = img.convert('L')\n",
    "arr = np.array(img)\n",
    "m,n,c = arr.shape\n",
    "X = arr.reshape(-1,3)\n",
    "y = np.array(img_grey).ravel()\n",
    "\n",
    "model = LinearRegression(fit_intercept=False)\n",
    "model.fit(X, y)\n",
    "y_new = model.predict(X)\n",
    "```\n",
    "The prediction `y_new` is supposed to be the same as `X.dot(model.coef_)` .  \n",
    "Check if it is true."
   ]
  },
  {
   "cell_type": "code",
   "execution_count": null,
   "metadata": {},
   "outputs": [],
   "source": [
    "### your answer here\n",
    "from PIL import Image\n",
    "img = Image.open('incrediville-side.jpg')\n",
    "img_grey = img.convert('L')\n",
    "arr = np.array(img)\n",
    "m,n,c = arr.shape\n",
    "X = arr.reshape(-1,3)\n",
    "y = np.array(img_grey).ravel()\n",
    "\n",
    "model = LinearRegression(fit_intercept=False)\n",
    "model.fit(X, y)\n",
    "y_new = model.predict(X)\n",
    "print((y_new == X.dot(model.coef_)).all())"
   ]
  }
 ],
 "metadata": {
  "kernelspec": {
   "display_name": "Python 3",
   "language": "python",
   "name": "python3"
  },
  "language_info": {
   "codemirror_mode": {
    "name": "ipython",
    "version": 3
   },
   "file_extension": ".py",
   "mimetype": "text/x-python",
   "name": "python",
   "nbconvert_exporter": "python",
   "pygments_lexer": "ipython3",
   "version": "3.9.4"
  }
 },
 "nbformat": 4,
 "nbformat_minor": 4
}
