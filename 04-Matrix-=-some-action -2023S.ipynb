{
 "cells": [
  {
   "cell_type": "markdown",
   "metadata": {
    "id": "gbikR1pIExj_"
   },
   "source": [
    "# Matrix = some action"
   ]
  },
  {
   "cell_type": "markdown",
   "metadata": {
    "id": "uDfPgGSjExkB"
   },
   "source": [
    "![Creative Commons License](https://i.creativecommons.org/l/by/4.0/88x31.png)  \n",
    "This work by Jephian Lin is licensed under a [Creative Commons Attribution 4.0 International License](http://creativecommons.org/licenses/by/4.0/)."
   ]
  },
  {
   "cell_type": "code",
   "execution_count": null,
   "metadata": {
    "id": "ICFtdL12ExkC"
   },
   "outputs": [],
   "source": [
    "import numpy as np\n",
    "import matplotlib.pyplot as plt"
   ]
  },
  {
   "cell_type": "markdown",
   "metadata": {
    "id": "-wPPHzWwExkD"
   },
   "source": [
    "## Main idea"
   ]
  },
  {
   "cell_type": "markdown",
   "metadata": {
    "id": "8jo0mbr8ExkD"
   },
   "source": [
    "Let $A$ be a matrix, ${\\bf x}$, ${\\bf y}$ some vectors, and $k$ a number.  Then\n",
    "$$A({\\bf x} + {\\bf y}) = A{\\bf x} + A{\\bf y}$$  \n",
    "and  \n",
    "$$A(k{\\bf x}) = k(A{\\bf x}).$$ \n",
    "A function that satisfies the two equalities above is said to be **linear**.\n",
    "\n",
    "Every linear function $f:\\mathbb{R}^n\\rightarrow\\mathbb{R}^m$ has a $m\\times n$ matrix $A$ such that  \n",
    "$$f({\\bf x}) = A{\\bf x}$$\n",
    "for all ${\\bf x}\\in\\mathbb{R}^n$.  "
   ]
  },
  {
   "cell_type": "markdown",
   "metadata": {
    "id": "sb6hHnEMExkD"
   },
   "source": [
    "## Side stories"
   ]
  },
  {
   "cell_type": "markdown",
   "metadata": {
    "id": "IJuY8L4wExkE"
   },
   "source": [
    "- matrix representation"
   ]
  },
  {
   "cell_type": "markdown",
   "metadata": {
    "id": "AcSw0eSjExkE"
   },
   "source": [
    "## Experiments"
   ]
  },
  {
   "cell_type": "markdown",
   "metadata": {
    "id": "sqjhUBkPExkE"
   },
   "source": [
    "##### Exercise 1\n",
    "Pick a random matrix $A$, two random vectors ${\\bf x}$, ${\\bf y}$, and a random number $k$.  \n",
    "Verify the equalities \n",
    "$A({\\bf x} + {\\bf y}) = A{\\bf x} + A{\\bf y}$ and $A(k{\\bf x}) = k(A{\\bf x})$.  \n",
    "You might need to focus on integer matrices and or use the function `np.isclose` . "
   ]
  },
  {
   "cell_type": "code",
   "execution_count": null,
   "metadata": {
    "colab": {
     "base_uri": "https://localhost:8080/"
    },
    "executionInfo": {
     "elapsed": 17,
     "status": "ok",
     "timestamp": 1677658066690,
     "user": {
      "displayName": "Hsieh",
      "userId": "02272532023202759748"
     },
     "user_tz": -480
    },
    "id": "VTdoDvxvExkE",
    "outputId": "4f8239fa-705e-4d9e-f8ac-4ef54dc59f4a"
   },
   "outputs": [],
   "source": [
    "import numpy as np\n",
    "import warnings\n",
    "warnings.filterwarnings(\"ignore\")\n",
    "\n",
    "A = np.random.random_integers(5, size=(2,2))\n",
    "x = np.random.random_integers(5, size=(2,1))\n",
    "y = np.random.random_integers(5, size=(2,1))\n",
    "k = np.random.random_integers(5, size=(1,1))\n",
    "\n",
    "print(\"𝐴(𝐱+𝐲)=𝐴𝐱+𝐴𝐲\",np.isclose(A*(x+y),A*x+A*y))\n",
    "print(\"𝐴(𝑘𝐱)=𝑘(𝐴𝐱)\",np.isclose(A*(k*x),k*(A*x)))"
   ]
  },
  {
   "cell_type": "markdown",
   "metadata": {
    "id": "0dUV8hAJExkE"
   },
   "source": [
    "##### Exercise 2\n",
    "It is known that the rotation matrix \n",
    "$$R_\\theta = \\begin{bmatrix} \n",
    " \\cos\\theta & -\\sin\\theta \\\\\n",
    " \\sin\\theta & \\cos\\theta\n",
    "\\end{bmatrix}$$\n",
    "satisfies that $R_\\theta{\\bf x}$ is the vector obtained from ${\\bf x}$ by rotating counterclockwiely with angle $\\theta$.  \n",
    "Let $\\theta_1 = \\frac{1}{6}\\pi$ and $\\theta_2 = \\frac{2}{6}\\pi$.  \n",
    "Guess what is $R_{\\theta_2}R_{\\theta_1}$ and verify your answer.  \n",
    "```python\n",
    "def rotate(theta):\n",
    "    return np.array([[np.cos(theta), -np.sin(theta)], \n",
    "                    [np.sin(theta), np.cos(theta)]])\n",
    "```"
   ]
  },
  {
   "cell_type": "code",
   "execution_count": null,
   "metadata": {
    "id": "oXqLR3jjvM2x"
   },
   "outputs": [],
   "source": [
    "def rotate(theta):\n",
    "    return np.array([[np.cos(theta), -np.sin(theta)], \n",
    "                    [np.sin(theta), np.cos(theta)]])"
   ]
  },
  {
   "cell_type": "code",
   "execution_count": null,
   "metadata": {
    "colab": {
     "base_uri": "https://localhost:8080/"
    },
    "executionInfo": {
     "elapsed": 13,
     "status": "ok",
     "timestamp": 1677658066691,
     "user": {
      "displayName": "Hsieh",
      "userId": "02272532023202759748"
     },
     "user_tz": -480
    },
    "id": "XqyEX35jExkF",
    "outputId": "eab4e753-1061-4bb9-dc90-3b5a311de37b"
   },
   "outputs": [],
   "source": [
    "# 可使用 np.divide() 去表達分數或直接表示\n",
    "theta1 = np.divide(1.0, 6.0)*np.pi\n",
    "theta2 = np.divide(2.0, 6.0)*np.pi\n",
    "\n",
    "R_theta1 = rotate(theta1) \n",
    "R_theta2 = rotate(theta2)\n",
    "print(\"R2R1 = \", R_theta2.dot(R_theta1))\n",
    "\n",
    "# I guess the matrix like [[0,-1],[1,0]]\n",
    "np.isclose(R_theta2.dot(R_theta1), np.array([[0,-1],[1,0]]))"
   ]
  },
  {
   "cell_type": "code",
   "execution_count": null,
   "metadata": {
    "colab": {
     "base_uri": "https://localhost:8080/"
    },
    "executionInfo": {
     "elapsed": 10,
     "status": "ok",
     "timestamp": 1677658066691,
     "user": {
      "displayName": "Hsieh",
      "userId": "02272532023202759748"
     },
     "user_tz": -480
    },
    "id": "DvYuhQ8TjOmb",
    "outputId": "205da81d-e04d-4267-89df-f34253fc8395"
   },
   "outputs": [],
   "source": [
    "# In the other hand, we know that it will be same as :\n",
    "theta3 = np.divide(1.0, 2.0)*np.pi \n",
    "# or theta3 = np.pi/2\n",
    "# theta1 +theta2 = pi/6 + 2pi/6 = 3pi/6 = pi/2\n",
    "print('rotate(R1+R2)=',rotate(theta3))\n",
    "\n",
    "np.isclose(rotate(theta3), np.array([[0,-1],[1,0]]))"
   ]
  },
  {
   "cell_type": "markdown",
   "metadata": {
    "id": "1blYANEmExkF"
   },
   "source": [
    "##### Exercise 3\n",
    "It is known that \n",
    "```python\n",
    "A = (1/3)*np.ones((3,3))\n",
    "```\n",
    "is a projection matrix such that $A{\\bf x}$ is the projection of ${\\bf x}$ onto the line $\\operatorname{span}(\\{(1,1,1)^\\top\\})$.  \n",
    "Guess what is  `A.dot(A)` and verify your answer."
   ]
  },
  {
   "cell_type": "markdown",
   "metadata": {
    "id": "MDlTySjAHxa4"
   },
   "source": [
    "##### Ans : A(投影矩陣) 他的元素皆為相等且生成向量為(1,1,1)，並且直行與橫列加總皆為1，因此猜測他的A.dot(A)為自己。"
   ]
  },
  {
   "cell_type": "code",
   "execution_count": null,
   "metadata": {
    "colab": {
     "base_uri": "https://localhost:8080/"
    },
    "executionInfo": {
     "elapsed": 8,
     "status": "ok",
     "timestamp": 1677658066691,
     "user": {
      "displayName": "Hsieh",
      "userId": "02272532023202759748"
     },
     "user_tz": -480
    },
    "id": "oORMZe1iExkF",
    "outputId": "d653bd44-fba2-4646-d650-3546ec5a5d35"
   },
   "outputs": [],
   "source": [
    "A = (1/3)*np.ones((3,3)) # generate a matrix of all ones\n",
    "print(A.dot(A))\n",
    "\n",
    "np.isclose(A.dot(A), A) "
   ]
  },
  {
   "cell_type": "markdown",
   "metadata": {
    "id": "dMw9c6m3ExkF"
   },
   "source": [
    "## Exercises"
   ]
  },
  {
   "cell_type": "code",
   "execution_count": null,
   "metadata": {
    "colab": {
     "base_uri": "https://localhost:8080/"
    },
    "executionInfo": {
     "elapsed": 35359,
     "status": "ok",
     "timestamp": 1677658102044,
     "user": {
      "displayName": "Hsieh",
      "userId": "02272532023202759748"
     },
     "user_tz": -480
    },
    "id": "wM_-iuL58esI",
    "outputId": "b2b72e5b-0490-4d85-e2e8-54607b236db1"
   },
   "outputs": [],
   "source": [
    "# 開啟Google雲端並給定資料夾，使資料匯入colab中\n",
    "from google.colab import drive\n",
    "drive.mount('/content/LAwithNumPy-main')"
   ]
  },
  {
   "cell_type": "markdown",
   "metadata": {
    "id": "CtJEx0-ZExkF"
   },
   "source": [
    "##### Exercise 4\n",
    "Let  \n",
    "```python\n",
    "x = np.linspace(0,np.pi,20)\n",
    "y = np.sin(x)\n",
    "```\n",
    "Generate the generate the following picture.\n",
    "![sin spiral](sinspiral.png \"sin spiral\")"
   ]
  },
  {
   "cell_type": "code",
   "execution_count": null,
   "metadata": {
    "colab": {
     "base_uri": "https://localhost:8080/",
     "height": 265
    },
    "executionInfo": {
     "elapsed": 722,
     "status": "ok",
     "timestamp": 1677658102764,
     "user": {
      "displayName": "Hsieh",
      "userId": "02272532023202759748"
     },
     "user_tz": -480
    },
    "id": "e7GDVb9uExkF",
    "outputId": "93a10f05-4ad2-4914-980b-aee47f2d08b3"
   },
   "outputs": [],
   "source": [
    "import matplotlib.pyplot as plt\n",
    "%matplotlib inline\n",
    "\n",
    "# for i in range():\n",
    "x = np.linspace(0,np.pi,20)\n",
    "y = np.sin(x)\n",
    "z = np.array([x, y])\n",
    "\n",
    "r = rotate(np.pi /3)\n",
    "for i in range(6): \n",
    "    plt.scatter(z[0,:], z[1,:], c = 'black')\n",
    "    z = r.dot(z)"
   ]
  },
  {
   "cell_type": "markdown",
   "metadata": {
    "id": "nLNraOlFExkF"
   },
   "source": [
    "##### Exercise 5\n",
    "Let  \n",
    "```python\n",
    "def f(arr):\n",
    "    x,y,z = arr\n",
    "    return np.array([y,z,x])\n",
    "```"
   ]
  },
  {
   "cell_type": "markdown",
   "metadata": {
    "id": "uTyZmVn7ExkG"
   },
   "source": [
    "###### 5(a)\n",
    "Check if $f({\\bf x} + {\\bf y}) = f({\\bf x}) + f({\\bf y})$ and $f(k{\\bf x}) = kf({\\bf x})$ for some random vectors ${\\bf x}, {\\bf y}$ and some random value $k$."
   ]
  },
  {
   "cell_type": "code",
   "execution_count": null,
   "metadata": {
    "colab": {
     "base_uri": "https://localhost:8080/"
    },
    "executionInfo": {
     "elapsed": 16,
     "status": "ok",
     "timestamp": 1677658102765,
     "user": {
      "displayName": "Hsieh",
      "userId": "02272532023202759748"
     },
     "user_tz": -480
    },
    "id": "0LBBDGqVExkG",
    "outputId": "a65cf664-a9ea-4bd3-ea6f-eba98dfa1cf6"
   },
   "outputs": [],
   "source": [
    "def f(arr):\n",
    "    x,y,z = arr\n",
    "    return np.array([y,z,x])\n",
    "\n",
    "x = np.random.random_integers(5, size=(3,1))\n",
    "y = np.random.random_integers(5, size=(3,1))\n",
    "k = np.random.random_integers(5, size=(1,1))\n",
    "\n",
    "print(\"𝑓(𝐱+𝐲)=𝑓(𝐱)+𝑓(𝐲)\",np.isclose(f(x+y),f(x)+f(y)))\n",
    "print(\"𝑓(𝑘𝐱)=𝑘𝑓(𝐱)\",np.isclose(f(k*x),k*f(x)))"
   ]
  },
  {
   "cell_type": "markdown",
   "metadata": {
    "id": "3ZYVVGr9ExkG"
   },
   "source": [
    "###### 5(b)\n",
    "As promised, there is a $3\\times 3$ matrix $A$ such that $f({\\bf x}) = A{\\bf x}$.  \n",
    "Can you guess what is $A$?  \n",
    "Hint: What does `f(np.array([1,0,0]))` mean?"
   ]
  },
  {
   "cell_type": "code",
   "execution_count": null,
   "metadata": {
    "colab": {
     "base_uri": "https://localhost:8080/"
    },
    "executionInfo": {
     "elapsed": 14,
     "status": "ok",
     "timestamp": 1677658102766,
     "user": {
      "displayName": "Hsieh",
      "userId": "02272532023202759748"
     },
     "user_tz": -480
    },
    "id": "AtF41aTpExkG",
    "outputId": "3236fc8a-7406-4244-e832-98f15b2280d0"
   },
   "outputs": [],
   "source": [
    "A = np.array([(0,1,0),\n",
    "             (0,0,1),\n",
    "             (1,0,0)])\n",
    "\n",
    "print(\"𝑓(𝐱)=𝐴𝐱\", np.isclose(f(x),A.dot(x)))\n"
   ]
  },
  {
   "cell_type": "markdown",
   "metadata": {},
   "source": [
    "#####  Jephian:\n",
    "\n",
    "The answer does not mention how the matrix was found.\n",
    "In fact, the matrix is always\n",
    "\n",
    "```python\n",
    "e0,e1,e2 = np.eye(3)\n",
    "A = np.vstack([f(e0), f(e1), f(e2)]).T\n",
    "```\n",
    "\n",
    "That is, the columns of `A` are determined by `f(ei)` ,where `ei` is the `i`-th column of the identity matrix."
   ]
  },
  {
   "cell_type": "markdown",
   "metadata": {
    "id": "HwsDkC5TExkG"
   },
   "source": [
    "##### Exercise 6\n",
    "Let  \n",
    "$${\\bf u}_\\theta = \\begin{bmatrix} \\cos\\theta \\\\ \\sin\\theta \\end{bmatrix}$$  \n",
    "and $L = \\operatorname{span}(\\{{\\bf u}_\\theta\\})$.  \n",
    "It is not hard to see that the projection of ${\\bf x}$ onto $L$ is $\\langle {\\bf x}, {\\bf u}_\\theta\\rangle{\\bf u}_\\theta$."
   ]
  },
  {
   "cell_type": "markdown",
   "metadata": {
    "id": "ftQWSauvExkG"
   },
   "source": [
    "###### 6(a)\n",
    "Let $\\theta = \\frac{1}{4}\\pi$ and\n",
    "```python\n",
    "def proj(x, theta=np.pi/4):\n",
    "    u = np.array([np.cos(theta), np.sin(theta)])\n",
    "    return x.dot(u) * u\n",
    "```\n",
    "Find a matrix $A$ such that `proj(x)` $= A{\\bf x}$."
   ]
  },
  {
   "cell_type": "code",
   "execution_count": null,
   "metadata": {
    "colab": {
     "base_uri": "https://localhost:8080/"
    },
    "executionInfo": {
     "elapsed": 12,
     "status": "ok",
     "timestamp": 1677658102766,
     "user": {
      "displayName": "Hsieh",
      "userId": "02272532023202759748"
     },
     "user_tz": -480
    },
    "id": "U-dXjdFyExkG",
    "outputId": "c6032a24-ff39-45eb-dd33-1958f2fbfef2"
   },
   "outputs": [],
   "source": [
    "def proj(x, theta=np.pi/4):\n",
    "    u = np.array([np.cos(theta), np.sin(theta)])\n",
    "    return x.dot(u) * u\n",
    "\n",
    "x = np.random.randn(2) # generate random 2 values which is between -1 and 1.\n",
    "# or np.random.random_integers(5, size=(2,))\n",
    "# 5 means that generate the number under 5\n",
    "# size=(2,) implies to generate 2 values\n",
    "\n",
    "print('proj(x)=', proj(x))"
   ]
  },
  {
   "cell_type": "code",
   "execution_count": null,
   "metadata": {
    "colab": {
     "base_uri": "https://localhost:8080/"
    },
    "executionInfo": {
     "elapsed": 10,
     "status": "ok",
     "timestamp": 1677658102766,
     "user": {
      "displayName": "Hsieh",
      "userId": "02272532023202759748"
     },
     "user_tz": -480
    },
    "id": "NVuYhTv7py6m",
    "outputId": "4bab11b1-e754-4c18-d59d-9b5ae575d976"
   },
   "outputs": [],
   "source": [
    "# Method 1 \n",
    "# if x = [x1, x2]\n",
    "# u = [a, b]\n",
    "# proj(x) = x.dot(u)*u = Ax\n",
    "# A = u.T *u\n",
    "# But we know that u = [np.cos(theta), np.sin(theta)]\n",
    "# u.T * u = [[np.cos(thata)**2, np.cos(thata)*np.sin(theta)],\n",
    "#            [np.cos(thata)*np.sin(theta), np.sin(thata)**2]]\n",
    "# theta = np.pi/4\n",
    "\n",
    "theta = np.pi/4\n",
    "A = np.array([[np.cos(theta)**2, np.cos(theta)*np.sin(theta)],\n",
    "            [np.cos(theta)*np.sin(theta), np.sin(theta)**2]])\n",
    "print('Ax =',A.dot(x))"
   ]
  },
  {
   "cell_type": "code",
   "execution_count": null,
   "metadata": {
    "colab": {
     "base_uri": "https://localhost:8080/"
    },
    "executionInfo": {
     "elapsed": 10,
     "status": "ok",
     "timestamp": 1677658102767,
     "user": {
      "displayName": "Hsieh",
      "userId": "02272532023202759748"
     },
     "user_tz": -480
    },
    "id": "Ov_5YqmMn9Xv",
    "outputId": "01b1ddf6-44c3-43cf-c1d7-874cf734ebc6"
   },
   "outputs": [],
   "source": [
    "# Method 2\n",
    "col1 = proj(np.array([1,0]))\n",
    "col2 = proj(np.array([0,1]))\n",
    "A = np.vstack([col1, col2]).T\n",
    "print('Ax =',A.dot(x))"
   ]
  },
  {
   "cell_type": "markdown",
   "metadata": {
    "id": "-1y_PFlDExkG"
   },
   "source": [
    "###### 6(b)\n",
    "Write a function `proj_mtx(theta)` that returns the projection matrix of the projection onto ${\\bf u}_\\theta$."
   ]
  },
  {
   "cell_type": "code",
   "execution_count": null,
   "metadata": {
    "colab": {
     "base_uri": "https://localhost:8080/"
    },
    "executionInfo": {
     "elapsed": 3,
     "status": "ok",
     "timestamp": 1677658217311,
     "user": {
      "displayName": "Hsieh",
      "userId": "02272532023202759748"
     },
     "user_tz": -480
    },
    "id": "PRe_y39HExkH",
    "outputId": "10482df0-6ec7-4fd3-fe4d-571d31bb4998"
   },
   "outputs": [],
   "source": [
    "# Follow the thought \n",
    "# We guess u.T * u is that u and u do the cross product\n",
    "\n",
    "def proj_mtx(theta):\n",
    "    u = np.array([np.cos(theta), np.sin(theta)])*1 # ||u||=1 ,unit vector \n",
    "    return np.outer(u, u)\n",
    "\n",
    "proj_mtx(theta = np.pi/4)"
   ]
  },
  {
   "cell_type": "code",
   "execution_count": null,
   "metadata": {
    "colab": {
     "base_uri": "https://localhost:8080/"
    },
    "executionInfo": {
     "elapsed": 352,
     "status": "ok",
     "timestamp": 1677658199648,
     "user": {
      "displayName": "Hsieh",
      "userId": "02272532023202759748"
     },
     "user_tz": -480
    },
    "id": "trIMIcEQM3G_",
    "outputId": "01115092-aa23-4774-9cab-394a3c3c6e8a"
   },
   "outputs": [],
   "source": [
    "def proj_mtx(theta):\n",
    "    u = np.array([[np.cos(theta)],\n",
    "                 [np.sin(theta)]])*1 # ||u||=1 ,unit vector \n",
    "    return u.T*u\n",
    "\n",
    "proj_mtx(theta = np.pi/4)"
   ]
  },
  {
   "cell_type": "markdown",
   "metadata": {
    "id": "udrZfQoyExkH"
   },
   "source": [
    "###### 6(c)\n",
    "Some one-dimensional data will stay in a higher dimensional space with some noise.  \n",
    "For example, let  \n",
    "```python\n",
    "mu = np.array([0,1])\n",
    "cov = np.array([[1,1.9],\n",
    "                [1.9,4]])\n",
    "data = np.random.multivariate_normal(mu, cov, 100)\n",
    "```\n",
    "Plot the points (rows) in `data` .  \n",
    "Find a good `theta` so that `proj_mtx(theta).dot(data.T)` preserves most of the information in `data`."
   ]
  },
  {
   "cell_type": "code",
   "execution_count": null,
   "metadata": {
    "colab": {
     "base_uri": "https://localhost:8080/"
    },
    "executionInfo": {
     "elapsed": 9,
     "status": "ok",
     "timestamp": 1677519204857,
     "user": {
      "displayName": "Hsieh",
      "userId": "02272532023202759748"
     },
     "user_tz": -480
    },
    "id": "FrKuSxYXtgbb",
    "outputId": "d52de2e0-b8f0-45c2-f138-6f18310d99e6"
   },
   "outputs": [],
   "source": [
    "mu = np.array([0,1])\n",
    "cov = np.array([[1,1.9],\n",
    "                [1.9,4]])\n",
    "\n",
    "data = np.random.multivariate_normal(mu, cov, 100)\n",
    "# To randomly generate 100 vectors , which is [mu,cov].\n",
    "data"
   ]
  },
  {
   "cell_type": "code",
   "execution_count": null,
   "metadata": {
    "colab": {
     "base_uri": "https://localhost:8080/",
     "height": 283
    },
    "executionInfo": {
     "elapsed": 636,
     "status": "ok",
     "timestamp": 1677519205485,
     "user": {
      "displayName": "Hsieh",
      "userId": "02272532023202759748"
     },
     "user_tz": -480
    },
    "id": "wdBaWN8X5j5m",
    "outputId": "4a9365f4-cf61-4608-86d4-65b0ca6023e0"
   },
   "outputs": [],
   "source": [
    "plt.scatter(data.T[0],data.T[1])"
   ]
  },
  {
   "cell_type": "code",
   "execution_count": null,
   "metadata": {
    "colab": {
     "base_uri": "https://localhost:8080/",
     "height": 319
    },
    "executionInfo": {
     "elapsed": 6,
     "status": "ok",
     "timestamp": 1677519402257,
     "user": {
      "displayName": "Hsieh",
      "userId": "02272532023202759748"
     },
     "user_tz": -480
    },
    "id": "O2uPjzXEuF9w",
    "outputId": "a8eff404-77c3-4c8b-8065-762b59431a52"
   },
   "outputs": [],
   "source": [
    "theta = np.pi\n",
    "# sin(pi) = 0, cos(pi) = -1\n",
    "print(proj_mtx(theta)) \n",
    "# [[1,0],[0,0]]\n",
    "data_proj = proj_mtx(theta).dot(data.T)\n",
    "plt.scatter(data.T[0],data.T[1])\n",
    "plt.scatter(data_proj[0],data_proj[1])"
   ]
  },
  {
   "cell_type": "code",
   "execution_count": null,
   "metadata": {
    "colab": {
     "base_uri": "https://localhost:8080/",
     "height": 319
    },
    "executionInfo": {
     "elapsed": 509,
     "status": "ok",
     "timestamp": 1677519435247,
     "user": {
      "displayName": "Hsieh",
      "userId": "02272532023202759748"
     },
     "user_tz": -480
    },
    "id": "Jjhs0kMo7cxV",
    "outputId": "c9c21d14-4179-4ff1-9685-93c3dea40725"
   },
   "outputs": [],
   "source": [
    "theta = np.pi/2\n",
    "# sin(pi/2) = 1, cos(pi/2) = 0\n",
    "print(proj_mtx(theta)) \n",
    "# [[0,0],[0,1]]\n",
    "data_proj = proj_mtx(theta).dot(data.T)\n",
    "plt.scatter(data.T[0],data.T[1])\n",
    "plt.scatter(data_proj[0],data_proj[1])"
   ]
  },
  {
   "cell_type": "code",
   "execution_count": null,
   "metadata": {
    "colab": {
     "base_uri": "https://localhost:8080/",
     "height": 319
    },
    "executionInfo": {
     "elapsed": 1086,
     "status": "ok",
     "timestamp": 1677519453566,
     "user": {
      "displayName": "Hsieh",
      "userId": "02272532023202759748"
     },
     "user_tz": -480
    },
    "id": "GOiS0NCV8KqS",
    "outputId": "5bc3e259-d12e-48a8-f959-966d9ced43f6"
   },
   "outputs": [],
   "source": [
    "theta = np.pi/3\n",
    "# sin(pi/3) = √3/2, cos(pi/3) = 1/2\n",
    "print(proj_mtx(theta)) \n",
    "# [[0.25,0.4330127],[0.4330127,0.75]]\n",
    "data_proj = proj_mtx(theta).dot(data.T)\n",
    "plt.scatter(data.T[0],data.T[1])\n",
    "plt.scatter(data_proj[0],data_proj[1])"
   ]
  },
  {
   "cell_type": "code",
   "execution_count": null,
   "metadata": {
    "colab": {
     "base_uri": "https://localhost:8080/",
     "height": 319
    },
    "executionInfo": {
     "elapsed": 681,
     "status": "ok",
     "timestamp": 1677519485209,
     "user": {
      "displayName": "Hsieh",
      "userId": "02272532023202759748"
     },
     "user_tz": -480
    },
    "id": "KRkRE5Ic8QPc",
    "outputId": "e29aab7e-0ec4-493f-c733-f6c7c84d6ea5"
   },
   "outputs": [],
   "source": [
    "theta = np.pi/4\n",
    "# sin(pi/4) = √2/2, cos(pi/4) = √2/2\n",
    "print(proj_mtx(theta)) \n",
    "# [[0.5 0.5],[0.5 0.5]]\n",
    "data_proj = proj_mtx(theta).dot(data.T)\n",
    "plt.scatter(data.T[0],data.T[1])\n",
    "plt.scatter(data_proj[0],data_proj[1])"
   ]
  },
  {
   "cell_type": "code",
   "execution_count": null,
   "metadata": {
    "colab": {
     "base_uri": "https://localhost:8080/",
     "height": 319
    },
    "executionInfo": {
     "elapsed": 10,
     "status": "ok",
     "timestamp": 1677519844391,
     "user": {
      "displayName": "Hsieh",
      "userId": "02272532023202759748"
     },
     "user_tz": -480
    },
    "id": "6B85nLHQ8XoV",
    "outputId": "61f76da8-75ef-4e23-c7b5-6772c8c127d2"
   },
   "outputs": [],
   "source": [
    "# final, we think 2.7 is the best theta in this problem.\n",
    "\n",
    "theta = np.pi/2.7\n",
    "print(proj_mtx(theta)) \n",
    "# [[0.25,0.4330127],[0.4330127,0.75]]\n",
    "\n",
    "data_proj = proj_mtx(theta).dot(data.T)\n",
    "plt.scatter(data.T[0],data.T[1])\n",
    "plt.scatter(data_proj[0],data_proj[1])"
   ]
  }
 ],
 "metadata": {
  "colab": {
   "provenance": []
  },
  "kernelspec": {
   "display_name": "Python 3 (ipykernel)",
   "language": "python",
   "name": "python3"
  },
  "language_info": {
   "codemirror_mode": {
    "name": "ipython",
    "version": 3
   },
   "file_extension": ".py",
   "mimetype": "text/x-python",
   "name": "python",
   "nbconvert_exporter": "python",
   "pygments_lexer": "ipython3",
   "version": "3.9.13"
  }
 },
 "nbformat": 4,
 "nbformat_minor": 1
}
