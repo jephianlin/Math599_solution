{
 "cells": [
  {
   "cell_type": "markdown",
   "metadata": {},
   "source": [
    "# MDS from scratch"
   ]
  },
  {
   "cell_type": "markdown",
   "metadata": {},
   "source": [
    "![Creative Commons License](https://i.creativecommons.org/l/by/4.0/88x31.png)  \n",
    "This work by Jephian Lin is licensed under a [Creative Commons Attribution 4.0 International License](http://creativecommons.org/licenses/by/4.0/)."
   ]
  },
  {
   "cell_type": "code",
   "execution_count": null,
   "metadata": {},
   "outputs": [],
   "source": [
    "import numpy as np\n",
    "import matplotlib.pyplot as plt"
   ]
  },
  {
   "cell_type": "markdown",
   "metadata": {},
   "source": [
    "## Algorithm\n",
    "**Input:**  \n",
    "- `X`: an array of shape `(N,d)` whose rows are samples and columns are features\n",
    "- `r`: target dimension\n",
    "- `n_iter=100`: number of iterations\n",
    "- `verbose=0`: verbose level(詳細級別);        \n",
    "if 0, say nothing;                            \n",
    "if 2, print the stress of each iteration.     \n",
    "\n",
    "**Output:**\n",
    "- an array of shape `(N, r)`  \n",
    "\n",
    "**Steps:**\n",
    "1. Compute the distance matrix `goal` $=\\begin{bmatrix}\\delta_{ij}\\end{bmatrix}$, where $\\delta_{ij}$ is the distance between the $i$-th row and the $j$-th row of $X$.\n",
    "2. Let $X_0$ be a random array of shape `(N, r)` .  \n",
    "3. Let $d_{ij}(X_k)$ is the distance between the $i$-th row and the $j$-th row of $X_k$.  \n",
    "Let $s_{ij}(X_k)$ be $-1/d_{ij}(X_k)$ if $d_{ij}(X_k)\\neq 0$ and $0$ if $d_{ij}(X_k)= 0$.\n",
    "3. Let $B(X_k)=\\begin{bmatrix}\\delta_{ij}s_{ij}(X_k)\\end{bmatrix}$ and set the diagonal entries of $B$ so that $B$ has zero row sums.\n",
    "3. Let $X_{k+1} = \\frac{1}{N}B(X_k)X_k$.\n",
    "4. Return $X_k$ with $k =$ `n_iter` ."
   ]
  },
  {
   "cell_type": "code",
   "execution_count": null,
   "metadata": {},
   "outputs": [],
   "source": [
    "def dist_mtx(X,Y):\n",
    "    # X:(N1,d) array with rows xi\n",
    "    # Y:(N2,d) array with rows yi\n",
    "    X_col = X[:,np.newaxis,:]     #(N1,1,d)\n",
    "    Y_row = Y[np.newaxis,:,:]     #(1,N2,d) axis=-1,最後一個軸\n",
    "    diff = X_col - Y_row          #(N1,N2,d)\n",
    "    dist = np.linalg.norm(diff,axis = -1) #把距離壓在d維上，原距離 (N,d)\n",
    "    return dist"
   ]
  },
  {
   "cell_type": "markdown",
   "metadata": {},
   "source": [
    "```\n",
    "Input:\n",
    "    X, Y: two datasets with the same number of features\n",
    "Output:\n",
    "    an array of shape (N1, N2)  \n",
    "    whose i,j-entry is the distance between X[i] and Y[j]  \n",
    "    where N1, N2 are the number of samples of X, Y, respectively.  \n",
    "```"
   ]
  },
  {
   "cell_type": "markdown",
   "metadata": {},
   "source": [
    "```\n",
    "#implementation 執行\n",
    "\n",
    "# Step 1 : goal = dist_mtx(x,x)      # 𝛿𝑖𝑗 : 原距離\n",
    "\n",
    "def dist_mtx(X,Y):\n",
    "    # X:(N1,d) array with rows xi\n",
    "    # Y:(N2,d) array with rows yi\n",
    "    X_col = X[:,np.newaxis,:]     #(N1,1,d)\n",
    "    Y_row = Y[np.newaxis,:,:]     #(1,N2,d) axis=-1,最後一個軸\n",
    "    diff = X_col - Y_row          #(N1,N2,d)\n",
    "    dist = np.linalg.norm(diff,axis = -1) #把距離壓在d維上，原距離 (N,d)\n",
    "    return dist\n",
    "\n",
    "goal = dist_mtx(X,X)              # 𝛿𝑖𝑗 : 原距離\n",
    "\n",
    "# Step 2 : 𝑋0  be a random array of shape (N, r)\n",
    "\n",
    "X0 = np.random.randn(N,r)         # Xk\n",
    "\n",
    "# Step 3 : Let  𝑑𝑖𝑗(𝑋𝑘) is the distance between the 𝑖-th row and the 𝑗-th row of 𝑋𝑘 .\n",
    "#          Let  𝑠𝑖𝑗(𝑋𝑘) be −1/𝑑𝑖𝑗(𝑋𝑘) if 𝑑𝑖𝑗(𝑋𝑘)≠0 and 0 if 𝑑𝑖𝑗(𝑋𝑘)=0 .\n",
    "\n",
    "dis = dist_mtx(Xk,Xk)  # 𝑑𝑖𝑗(𝑋𝑘) : 新距離\n",
    "\n",
    "mask = (dis != 0)\n",
    "S = np.zeros_like(dis)\n",
    "S[mask] = -1/dis[mask] # 𝑠𝑖𝑗(𝑋𝑘) be −1/𝑑𝑖𝑗(𝑋𝑘)\n",
    "\n",
    "# Step 4 : Let 𝐵(𝑋𝑘)=[𝛿𝑖𝑗 * 𝑠𝑖𝑗(𝑋𝑘)] and set the diagonal entries of 𝐵 so that 𝐵 has zero row sums.\n",
    "\n",
    "B = goal*S                      # 𝐵[b𝑖𝑗(𝑋𝑘)] = [𝛿𝑖𝑗 * 𝑠𝑖𝑗(𝑋𝑘)]\n",
    "# set diagonal\n",
    "B[np.arange(N),np.arange(N)] = -B.sum(axis=1) #把 row sum起來\n",
    "\n",
    "# Step 5 : Let  𝑋𝑘+1=1/𝑁 *𝐵(𝑋𝑘)*𝑋𝑘\n",
    "\n",
    "Xk = np.dot(B,Xk) / N\n",
    "\n",
    "# Step 6 : Iterate Steps 3~5 , 𝑘 = n_iter Return  𝑋𝑘  \n",
    "\n",
    "for k in range(k):\n",
    "    dis = dist_mtx(Xk,Xk)  # 𝑑𝑖𝑗(𝑋𝑘) : 新距離\n",
    "    mask = (dis != 0)\n",
    "    S = np.zeros_like(dis)\n",
    "    S[mask] = -1/dis[mask] # 𝑠𝑖𝑗(𝑋𝑘) be −1/𝑑𝑖𝑗(𝑋𝑘)\n",
    "    \n",
    "    B = goal*S                      # 𝐵[b𝑖𝑗(𝑋𝑘)] = [𝛿𝑖𝑗 * 𝑠𝑖𝑗(𝑋𝑘)]\n",
    "    B[np.arange(N),np.arange(N)] = -B.sum(axis=1) #把 row sum起來\n",
    "    \n",
    "    Xk = np.dot(B,Xk) / N\n",
    "    \n",
    "print(Xk)\n",
    "```"
   ]
  },
  {
   "cell_type": "code",
   "execution_count": null,
   "metadata": {},
   "outputs": [],
   "source": [
    "di = np.random.randn(5,5)\n",
    "di"
   ]
  },
  {
   "cell_type": "code",
   "execution_count": null,
   "metadata": {},
   "outputs": [],
   "source": [
    "di[np.arange(2),np.arange(2)]  # 取對角項,(0,0),(1,1),(2,2)"
   ]
  },
  {
   "cell_type": "code",
   "execution_count": null,
   "metadata": {},
   "outputs": [],
   "source": [
    "np.arange(5)"
   ]
  },
  {
   "cell_type": "code",
   "execution_count": null,
   "metadata": {},
   "outputs": [],
   "source": [
    "# np.linalg.norm(diff,axis = -1)\n",
    "# np.sqrt(np.sum(diff**2, axis=-1))"
   ]
  },
  {
   "cell_type": "markdown",
   "metadata": {},
   "source": [
    "## Pseudocode\n",
    "Translate the algorithm into the pseudocode.  \n",
    "This helps you to identify the parts that you don't know how to do it.  "
   ]
  },
  {
   "cell_type": "markdown",
   "metadata": {},
   "source": [
    "    1. def dist_mtx(X,Y):\n",
    "          # X:(N1,d) array with rows xi\n",
    "          # Y:(N2,d) array with rows yi\n",
    "          X_col = X[:,np.newaxis,:]        #(N1,1,d)\n",
    "          Y_row = Y[np.newaxis,:,:]        #(1,N2,d) axis=-1,最後一個軸\n",
    "          diff = X_col - Y_row             #(N1,N2,d)\n",
    "          dist = np.linalg.norm(diff,axis = -1)    #把距離壓在d維上，原距離 (N,d)\n",
    "          return dist\n",
    "\n",
    "       goal = dist_mtx(X,X)                # 𝛿𝑖𝑗 : 原距離\n",
    "    \n",
    "    2. X0 = np.random.randn(N,r)\n",
    "    \n",
    "    3. dis = dist_mtx(Xk,Xk)               # 𝑑𝑖𝑗(𝑋𝑘) : 新距離\n",
    "\n",
    "       mask = (dis != 0)\n",
    "       S = np.zeros_like(dis)\n",
    "       S[mask] = -1/dis[mask]              # 𝑠𝑖𝑗(𝑋𝑘) be −1/𝑑𝑖𝑗(𝑋𝑘)\n",
    " \n",
    "    4. B = goal*S                          # 𝐵[b𝑖𝑗(𝑋𝑘)] = [𝛿𝑖𝑗 * 𝑠𝑖𝑗(𝑋𝑘)]\n",
    "       # set diagonal\n",
    "       B[np.arange(N),np.arange(N)] = -B.sum(axis=1)     #把 row sum起來\n",
    "       \n",
    "    5. Xk = np.dot(B,Xk) / N\n",
    "    \n",
    "    6. for k in range(k):\n",
    "          dis = dist_mtx(Xk,Xk)            # 𝑑𝑖𝑗(𝑋𝑘) : 新距離\n",
    "          mask = (dis != 0)\n",
    "          S = np.zeros_like(dis)\n",
    "          S[mask] = -1/dis[mask]           # 𝑠𝑖𝑗(𝑋𝑘) be −1/𝑑𝑖𝑗(𝑋𝑘)\n",
    "    \n",
    "          B = goal*S                       # 𝐵[b𝑖𝑗(𝑋𝑘)] = [𝛿𝑖𝑗 * 𝑠𝑖𝑗(𝑋𝑘)]\n",
    "          B[np.arange(N),np.arange(N)] = -B.sum(axis=1)  #把 row sum起來\n",
    "    \n",
    "          Xk = np.dot(B,Xk) / N\n",
    "        \n",
    "       print(Xk)\n"
   ]
  },
  {
   "cell_type": "markdown",
   "metadata": {},
   "source": [
    "## Code"
   ]
  },
  {
   "cell_type": "code",
   "execution_count": null,
   "metadata": {},
   "outputs": [],
   "source": [
    "N = int(10*abs(np.random.randn(1)+10))\n",
    "d = int(10*abs(np.random.randn(1)+10))\n",
    "X = np.random.randn(N,d)\n",
    "r = int(10*abs(np.random.randn(1)+1))\n",
    "n_iter = 100\n",
    "verbose = 0\n",
    "#隨機創造參數值\n",
    "\n",
    "N = int()\n",
    "d = int()\n",
    "X = np.zeros(shape=(N,d))\n",
    "r = int()\n",
    "n_iter = 100\n",
    "verbose = 0\n",
    "#定義參數"
   ]
  },
  {
   "cell_type": "code",
   "execution_count": null,
   "metadata": {},
   "outputs": [],
   "source": [
    "### your answer here\n",
    "\n",
    "def MDS_algo_new(X,r,n_iter,verbose=0):\n",
    "    N,d = X.shape\n",
    "    goal = dist_mtx(X,X)                    # 𝛿𝑖𝑗 : 原距離\n",
    "\n",
    "    Xk = np.random.randn(N,r)               # 隨機新空間\n",
    "\n",
    "    for k in range (n_iter):\n",
    "        dis = dist_mtx(Xk,Xk)               # 𝑑𝑖𝑗(𝑋𝑘) : 新距離\n",
    "\n",
    "        mask = (dis != 0)\n",
    "        S = np.zeros_like(dis)\n",
    "        S[mask] = -1/dis[mask]              # 𝑠𝑖𝑗(𝑋𝑘) be −1/𝑑𝑖𝑗(𝑋𝑘)\n",
    "\n",
    "        B = goal*S                          # 𝐵[b𝑖𝑗(𝑋𝑘)] = [𝛿𝑖𝑗 * 𝑠𝑖𝑗(𝑋𝑘)]\n",
    "        # set diagonal                      # N*N matrix\n",
    "        B[np.arange(N),np.arange(N)] = -B.sum(axis=1)     #把 row sum起來\n",
    "\n",
    "        Xk = np.dot(B,Xk) / N\n",
    "\n",
    "        if(verbose==2):\n",
    "            print(\"iter\",k+1,\" stress:\",np.sum((dis - goal)**2)/2) # stress\n",
    "\n",
    "    return Xk\n"
   ]
  },
  {
   "cell_type": "markdown",
   "metadata": {},
   "source": [
    "## Test\n",
    "Take some sample data from [MDS-with-scikit-learn](MDS-with-scikit-learn.ipynb) and check if your code generates similar outputs with the existing packages."
   ]
  },
  {
   "cell_type": "markdown",
   "metadata": {},
   "source": [
    "##### Name of the data\n",
    "Description of the data."
   ]
  },
  {
   "cell_type": "code",
   "execution_count": null,
   "metadata": {},
   "outputs": [],
   "source": [
    "#from MDS-with-scikit-learn \n",
    "#Exercise 1\n",
    "mu = np.array([3,4])\n",
    "cov = np.array([[1.1,1],\n",
    "                [1,1.1]])\n",
    "X = np.random.multivariate_normal(mu, cov, 100)"
   ]
  },
  {
   "cell_type": "code",
   "execution_count": null,
   "metadata": {},
   "outputs": [],
   "source": [
    "### results with your code\n",
    "\n",
    "MDS_algo_new(X,r=2,n_iter=1000,verbose=0)\n",
    "\n",
    "plt.axis('equal')\n",
    "plt.scatter(*X.T)\n",
    "plt.scatter(*MDS_algo_new(X,r=2,n_iter=100,verbose=0).T)\n"
   ]
  },
  {
   "cell_type": "code",
   "execution_count": null,
   "metadata": {
    "scrolled": true
   },
   "outputs": [],
   "source": [
    "### results with existing packages\n",
    "\n",
    "from sklearn.manifold import MDS\n",
    "model = MDS()\n",
    "X_new = model.fit_transform(X)\n",
    "\n",
    "plt.axis('equal')\n",
    "plt.scatter(*X.T)\n",
    "plt.scatter(*X_new.T)\n",
    "\n",
    "print(model.stress_)"
   ]
  },
  {
   "cell_type": "markdown",
   "metadata": {},
   "source": [
    "## Comparison"
   ]
  },
  {
   "cell_type": "markdown",
   "metadata": {},
   "source": [
    "##### Exercise 1\n",
    "Try to turn `verbose=2` .  \n",
    "Check if the stress is decreasing."
   ]
  },
  {
   "cell_type": "code",
   "execution_count": null,
   "metadata": {},
   "outputs": [],
   "source": [
    "### your answer here\n",
    "\n",
    "MDS_algo_new(X,r=2,n_iter=1000,verbose=2)\n",
    "\n",
    "# Yes, the stress is decreasing"
   ]
  },
  {
   "cell_type": "markdown",
   "metadata": {},
   "source": [
    "##### Exercise 2\n",
    "Let  \n",
    "```python\n",
    "import scipy.linalg as LA\n",
    "arr = np.random.randn(2,2)\n",
    "Q,R = LA.qr(arr)\n",
    "```\n",
    "Let $X_k$ be the output of applying your MDS function to the `hidden_text.csv` data with `r=2` .  \n",
    "Plot the points (rows) in $X_k$.  \n",
    "Plot the points (rows) in $X_kQ$.  \n",
    "Compute the stress of $X_k$ and the stress of $X_kQ$.   \n",
    "(Some rotation do not change the stress.)"
   ]
  },
  {
   "cell_type": "code",
   "execution_count": null,
   "metadata": {},
   "outputs": [],
   "source": [
    "import scipy.linalg as LA\n",
    "arr = np.random.randn(2,2)\n",
    "Q,R = LA.qr(arr)                                                                ###################################\n",
    "Q,R                                                                             ###################################\n",
    "#np.linalg.norm(Q,axis=0)                                                           # Q :正交矩陣 : 旋轉 、映射"
   ]
  },
  {
   "cell_type": "code",
   "execution_count": null,
   "metadata": {},
   "outputs": [],
   "source": [
    "### your answer here\n",
    "\n",
    "import scipy.linalg as LA\n",
    "arr = np.random.randn(2,2)\n",
    "Q,R = LA.qr(arr)            # QR分解:分解成一個正交矩陣與一個上三角矩陣\n",
    "X = np.genfromtxt('hidden_text.csv', delimiter=',')\n",
    "\n",
    "Xk = MDS_algo_new(X,r=2,n_iter=1000,verbose=0)\n",
    "\n",
    "plt.axis('equal')\n",
    "plt.scatter(*Xk.T)\n",
    "\n",
    "# stress of Xk\n",
    "goal = dist_mtx(X,X)\n",
    "\n",
    "dis = dist_mtx(Xk,Xk)\n",
    "print(\"Stress of Xk is =\",np.sum((dis - goal)**2)/2) \n"
   ]
  },
  {
   "cell_type": "code",
   "execution_count": null,
   "metadata": {},
   "outputs": [],
   "source": [
    "### your answer here\n",
    "\n",
    "plt.axis('equal')\n",
    "plt.scatter(*Xk.dot(Q).T)\n",
    "\n",
    "# stress of XkQ\n",
    "dis_new = dist_mtx(Xk.dot(Q),Xk.dot(Q))\n",
    "print(\"Stress of XkQ is =\",np.sum((dis_new- goal)**2)/2) \n",
    "\n",
    "# the two stresses are supposed to be the same up to some numerical error"
   ]
  },
  {
   "cell_type": "markdown",
   "metadata": {},
   "source": [
    "##### Exercise 3\n",
    "Apply your MDS function to the `hidden_text.csv` data with `r=2` .  \n",
    "How low can the stress be?"
   ]
  },
  {
   "cell_type": "code",
   "execution_count": null,
   "metadata": {},
   "outputs": [],
   "source": [
    "### your answer here\n",
    "\n",
    "X = np.genfromtxt('hidden_text.csv', delimiter=',') # 1261*100\n",
    "MDS_algo_new(X, 2, n_iter=1000, verbose=2)\n",
    "\n",
    "# the stress can be almost zero in the end"
   ]
  }
 ],
 "metadata": {
  "kernelspec": {
   "display_name": "Python 3 (ipykernel)",
   "language": "python",
   "name": "python3"
  },
  "language_info": {
   "codemirror_mode": {
    "name": "ipython",
    "version": 3
   },
   "file_extension": ".py",
   "mimetype": "text/x-python",
   "name": "python",
   "nbconvert_exporter": "python",
   "pygments_lexer": "ipython3",
   "version": "3.10.2"
  }
 },
 "nbformat": 4,
 "nbformat_minor": 4
}
