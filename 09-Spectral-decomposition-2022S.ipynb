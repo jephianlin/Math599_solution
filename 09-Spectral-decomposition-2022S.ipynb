{
 "cells": [
  {
   "cell_type": "markdown",
   "metadata": {},
   "source": [
    "# Spectral decomposition"
   ]
  },
  {
   "cell_type": "markdown",
   "metadata": {},
   "source": [
    "![Creative Commons License](https://i.creativecommons.org/l/by/4.0/88x31.png)  \n",
    "This work by Jephian Lin is licensed under a [Creative Commons Attribution 4.0 International License](http://creativecommons.org/licenses/by/4.0/)."
   ]
  },
  {
   "cell_type": "code",
   "execution_count": null,
   "metadata": {},
   "outputs": [],
   "source": [
    "import numpy as np\n",
    "import matplotlib.pyplot as plt\n",
    "from mpl_toolkits import mplot3d\n",
    "from scipy import linalg as LA\n",
    "import sympy"
   ]
  },
  {
   "cell_type": "code",
   "execution_count": null,
   "metadata": {},
   "outputs": [],
   "source": [
    "def spec_decom(A, tol=0.0001):\n",
    "    n = A.shape[0]\n",
    "    vals,vecs = LA.eigh(A)\n",
    "    \n",
    "    inds = np.where((vals[1:] - vals[:-1]) > tol)[0]\n",
    "    starts = np.hstack([np.array([0]), inds+1])\n",
    "    ends = np.hstack([inds+1, np.array([n])])\n",
    "    \n",
    "    dist_vals = vals[starts]\n",
    "    projs = np.zeros((len(dist_vals), n, n))\n",
    "    i = 0\n",
    "    for s,e in zip(starts,ends):\n",
    "        space = vecs[:,s:e]\n",
    "        projs[i] = space.dot(space.T)\n",
    "        i += 1\n",
    "    \n",
    "    return dist_vals, projs"
   ]
  },
  {
   "cell_type": "markdown",
   "metadata": {},
   "source": [
    "## Main idea"
   ]
  },
  {
   "cell_type": "markdown",
   "metadata": {},
   "source": [
    "A matrix $A$ is **symmetric** if $A^\\top = A$.  \n",
    "\n",
    "Every symmetric matrix $A$ can be written as  \n",
    "$$ A = \\sum_{i=1}^q \\lambda P_i$$\n",
    "such that $\\sum_{i=1}^q P_i = I$, $P_iP_j = O$ if $i\\neq j$, and $P_i^2 = P_i$.  \n",
    "This is called the **spectral decomposition** of $A$.  \n",
    "\n",
    "Each $P_i$ is in fact a projection matrix onto a space $E_i$.  \n",
    "For any vector ${\\bf v}$ in $E_i$, $A{\\bf v} = \\lambda_i{\\bf v}$.  \n",
    "We call $\\lambda_i$ an **eigenvalue** ,  \n",
    "call ${\\bf v}$ an **eigenvector** ,  \n",
    "and $E_i$ an **eigenspace** of $A$."
   ]
  },
  {
   "cell_type": "markdown",
   "metadata": {},
   "source": [
    "## Side stories"
   ]
  },
  {
   "cell_type": "markdown",
   "metadata": {},
   "source": [
    "- eigenvalue, eigenvector, eigenspace\n",
    "- spectral decomposition = projection then scale"
   ]
  },
  {
   "cell_type": "markdown",
   "metadata": {},
   "source": [
    "## Experiments"
   ]
  },
  {
   "cell_type": "markdown",
   "metadata": {},
   "source": [
    "###### Exercise 1\n",
    "Let  \n",
    "```python\n",
    "A = np.ones((5,5), dtype=float) - np.eye(5, dtype=float)\n",
    "v1 = np.ones((5,), dtype=float)\n",
    "v2 = np.array([1,-1,0,0,0], dtype=float)\n",
    "```"
   ]
  },
  {
   "cell_type": "markdown",
   "metadata": {},
   "source": [
    "###### 1(a)\n",
    "Check if ${\\bf v}_1$ is an eigenvector of $A$.  \n",
    "If yes, what is the eigenvalue?"
   ]
  },
  {
   "cell_type": "code",
   "execution_count": null,
   "metadata": {},
   "outputs": [],
   "source": [
    "A = np.ones((5,5), dtype=float) - np.eye(5, dtype=float)\n",
    "v1 = np.ones((5,), dtype=float)\n",
    "Av1 = A.dot(v1)\n",
    "\n",
    "print('v1 =',v1)\n",
    "print('Av1 =',Av1)\n",
    "print(\"Yes,the eigenvalue is 4\")"
   ]
  },
  {
   "cell_type": "markdown",
   "metadata": {},
   "source": [
    "###### 1(b)\n",
    "Check if the $i$-th entry of ${\\bf v}_2$ is zero then the $i$-th entry of $A{\\bf v}_2$ is also zero.  "
   ]
  },
  {
   "cell_type": "code",
   "execution_count": null,
   "metadata": {},
   "outputs": [],
   "source": [
    "v2 = np.array([1,-1,0,0,0], dtype=float)\n",
    "Av2 = A.dot(v2)\n",
    "print([v2])\n",
    "print([Av2])\n",
    "print(\"yes\")"
   ]
  },
  {
   "cell_type": "markdown",
   "metadata": {},
   "source": [
    "###### 1(c)\n",
    "Check if ${\\bf v}_2$ is an eigenvector of $A$.  \n",
    "If yes, what is the eigenvalue?"
   ]
  },
  {
   "cell_type": "code",
   "execution_count": null,
   "metadata": {},
   "outputs": [],
   "source": [
    "print(Av2)\n",
    "print(v2)\n",
    "print(\"Yes,the eigenvalue is -1\")"
   ]
  },
  {
   "cell_type": "markdown",
   "metadata": {},
   "source": [
    "###### Exercise 2\n",
    "Let  \n",
    "```python\n",
    "A = np.array([[2,-1,-1],\n",
    "              [-1,2,-1],\n",
    "              [-1,-1,2]]) / 3\n",
    "v1 = np.array([1,1,1])\n",
    "v2 = np.array([1,-1,0])\n",
    "```\n",
    "Since checking the zero is tiring, we will use a different approach to test whether a vector is an eigenvector.  \n",
    "The following are equivalent:  \n",
    "- $A{\\bf v} = \\lambda{\\bf v}$ for some $\\lambda$\n",
    "- $A{\\bf v}$ is a multiple of ${\\bf v}$\n",
    "- $A{\\bf v}$ and ${\\bf v}$ are parallel (zero vectors are considered to be parallel to any vector)\n",
    "- $|\\langle A{\\bf v}, {\\bf v}\\rangle| = \\|A{\\bf v}\\|\\|{\\bf v}\\|$"
   ]
  },
  {
   "cell_type": "markdown",
   "metadata": {},
   "source": [
    "###### 2(a)\n",
    "Compute $|\\langle A{\\bf v}_1, {\\bf v}_1\\rangle|$ and $\\|A{\\bf v}_1\\|\\|{\\bf v}_1\\|$.  \n",
    "Then see if they are close."
   ]
  },
  {
   "cell_type": "code",
   "execution_count": null,
   "metadata": {},
   "outputs": [],
   "source": [
    "A = np.array([[2,-1,-1],\n",
    "              [-1,2,-1],\n",
    "              [-1,-1,2]]) / 3\n",
    "v1 = np.array([1,1,1])\n",
    "m = A.dot(v1) ### Av1\n",
    "n = m.dot(v1) ### Av1。v1\n",
    "\n",
    "X = np.linalg.norm(m) ###  |⟨𝐴𝐯1,𝐯1⟩| \n",
    "Y = np.linalg.norm(m)* np.linalg.norm(v1) ### ‖𝐴𝐯1‖‖𝐯1‖ \n",
    "\n",
    "np.isclose(X,Y)"
   ]
  },
  {
   "cell_type": "markdown",
   "metadata": {},
   "source": [
    "###### 2(b)\n",
    "Do the same for ${\\bf v}_2$."
   ]
  },
  {
   "cell_type": "code",
   "execution_count": null,
   "metadata": {},
   "outputs": [],
   "source": [
    "A = np.array([[2,-1,-1],\n",
    "              [-1,2,-1],\n",
    "              [-1,-1,2]]) / 3\n",
    "v2 = np.array([1,-1,0])\n",
    "m = A.dot(v2) ### Av2\n",
    "n = m.dot(v2) ### Av2。v2\n",
    "np.linalg.norm(n)###|⟨𝐴𝐯2,𝐯2⟩| "
   ]
  },
  {
   "cell_type": "code",
   "execution_count": null,
   "metadata": {},
   "outputs": [],
   "source": [
    "A = np.array([[2,-1,-1],\n",
    "              [-1,2,-1],\n",
    "              [-1,-1,2]]) / 3\n",
    "v2 = np.array([1,-1,0])\n",
    "m = A.dot(v2) ### Av2\n",
    "np.linalg.norm(m)* np.linalg.norm(v2) ### ‖𝐴𝐯2‖‖𝐯2‖ "
   ]
  },
  {
   "cell_type": "markdown",
   "metadata": {},
   "source": [
    "###### 2(c)\n",
    "Run and understand the code below.  \n",
    "\n",
    "```python\n",
    "%matplotlib notebook\n",
    "\n",
    "tol = 0.1\n",
    "vs = 5*np.random.randn(3,10000)\n",
    "Avs = A.dot(vs)\n",
    "dots = np.abs(np.sum(vs * Avs, axis = 0)) ### |<Avi, vi>|'s\n",
    "Avs_length = np.linalg.norm(Avs, axis=0) ### ||Avi||'s\n",
    "vs_length = np.linalg.norm(vs, axis=0) ### ||vi||'s\n",
    "diff = np.abs( dots - Avs_length*vs_length)\n",
    "mask = (diff < tol) ### mask for potential eigenvectors\n",
    "eigvecs = vs[:,mask]\n",
    "\n",
    "ax = plt.axes(projection='3d')\n",
    "ax.set_xlim(-5,5)\n",
    "ax.set_ylim(-5,5)\n",
    "ax.set_zlim(-5,5)\n",
    "ax.scatter(eigvecs[0], eigvecs[1], eigvecs[2])\n",
    "```\n",
    "What is the plane in the output?  \n",
    "Change `tol` to 1 or 2.  Then you will see a vague straight line appears.  Why?"
   ]
  },
  {
   "cell_type": "code",
   "execution_count": null,
   "metadata": {},
   "outputs": [],
   "source": [
    "import numpy as np\n",
    "import matplotlib.pyplot as plt\n",
    "%matplotlib notebook\n",
    "A = np.array([[2,-1,-1],\n",
    "              [-1,2,-1],\n",
    "              [-1,-1,2]]) / 3\n",
    "tol = 1\n",
    "vs = 5*np.random.randn(3,10000)  ##Create matrix 3x10000\n",
    "Avs = A.dot(vs)                  ##Avs:3X100000 (A:3x3)\n",
    "\n",
    "## axis = 0 means working along the column and axis = 1 means working along the row.\n",
    "dots = np.abs(np.sum(vs * Avs, axis = 0)) ### |<Avi, vi>|'s\n",
    "Avs_length = np.linalg.norm(Avs, axis=0) ### ||Avi||'s\n",
    "vs_length = np.linalg.norm(vs, axis=0) ### ||vi||'s\n",
    "diff = np.abs( dots - Avs_length*vs_length) ###|<Avi, vi>| - ||Avi||||vi||\n",
    "mask = (diff < tol) ### mask for potential eigenvectors\n",
    "eigvecs = vs[:,mask]\n",
    "\n",
    "ax = plt.axes(projection='3d')\n",
    "ax.set_xlim(-5,5)  ##x-axis boundary\n",
    "ax.set_ylim(-5,5)  ##y-axis boundary\n",
    "ax.set_zlim(-5,5)  ##z-axis boundary\n",
    "ax.scatter(eigvecs[0], eigvecs[1], eigvecs[2])"
   ]
  },
  {
   "cell_type": "markdown",
   "metadata": {},
   "source": [
    "##### Jephian\n",
    "\n",
    "This is an illustration of the eigenvectors and the phenomenon called the curse of dimensionality.  \n",
    "The eigenvectors falls on a plane and straight line.  \n",
    "However, in order to find the straight line, you need much more points, or higher tolerance."
   ]
  },
  {
   "cell_type": "markdown",
   "metadata": {},
   "source": [
    "## Exercises"
   ]
  },
  {
   "cell_type": "markdown",
   "metadata": {},
   "source": [
    "###### Exercise 3\n",
    "Let  \n",
    "```python\n",
    "A = np.array([[0,1,0,0,0,1], \n",
    "              [1,0,1,0,0,0], \n",
    "              [0,1,0,1,0,0], \n",
    "              [0,0,1,0,1,0], \n",
    "              [0,0,0,1,0,1], \n",
    "              [1,0,0,0,1,0]])\n",
    "vals,projs = spec_decom(A)\n",
    "```\n",
    "Here `vals` are all the $\\lambda_i$'s and `projs` are all the $P_i$'s.  "
   ]
  },
  {
   "cell_type": "markdown",
   "metadata": {},
   "source": [
    "###### 3(a)\n",
    "Check if $A = \\sum_{i=0}^3\\lambda_iP_i$.  \n",
    "Can you do it without any for loop?  \n",
    "Note:  You might need `np.set_printoptions(precision=1, suppress=True)`."
   ]
  },
  {
   "cell_type": "code",
   "execution_count": null,
   "metadata": {},
   "outputs": [],
   "source": [
    "##method1\n",
    "A = np.array([[0,1,0,0,0,1], \n",
    "              [1,0,1,0,0,0], \n",
    "              [0,1,0,1,0,0], \n",
    "              [0,0,1,0,1,0], \n",
    "              [0,0,0,1,0,1], \n",
    "              [1,0,0,0,1,0]])\n",
    "vals,projs = spec_decom(A)###find vals and projs\n",
    "projstrans = projs.transpose([2,1,0])### change the shape (4,6,6)into(6,6,4)，otherwise that projs cant dot vals\n",
    "ANS = projstrans.dot(vals)\n",
    "print(ANS)\n",
    "\n",
    "np.set_printoptions(precision=1, suppress=True)\n",
    "np.isclose(A,ANS).all()"
   ]
  },
  {
   "cell_type": "code",
   "execution_count": null,
   "metadata": {},
   "outputs": [],
   "source": [
    "##method2\n",
    "A = np.array([[0,1,0,0,0,1], \n",
    "              [1,0,1,0,0,0], \n",
    "              [0,1,0,1,0,0], \n",
    "              [0,0,1,0,1,0], \n",
    "              [0,0,0,1,0,1], \n",
    "              [1,0,0,0,1,0]])\n",
    "vals,projs = spec_decom(A)\n",
    "\n",
    "np.set_printoptions(precision=1, suppress=True)\n",
    "\n",
    "#https://stackoverflow.com/questions/14513222/multiplying-numpy-3d-arrays-by-1d-arrays\n",
    "#multiply as given in the most upvoted comment\n",
    "broad_a = np.broadcast_to(vals, projs.T.shape).T * projs\n",
    "\n",
    "#sum all the resulting matrices along the x\n",
    "result = np.sum(broad_a,axis = 0)\n",
    "\n",
    "#check if the result as expected\n",
    "np.isclose (result , A).all()"
   ]
  },
  {
   "cell_type": "markdown",
   "metadata": {},
   "source": [
    "##### Jephian\n",
    "\n",
    "Interesting answers.  \n",
    "I was thinking `np.sum(vals.reshape(4,1,1) * projs, axis=0)` , but all three work."
   ]
  },
  {
   "cell_type": "markdown",
   "metadata": {},
   "source": [
    "###### 3(b)\n",
    "Let  \n",
    "```python\n",
    "v = np.ones((6,))\n",
    "```\n",
    "Check if $A{\\bf v} = \\sum_{i=0}^3 \\lambda_i P_i{\\bf v}$."
   ]
  },
  {
   "cell_type": "code",
   "execution_count": null,
   "metadata": {},
   "outputs": [],
   "source": [
    "##method1\n",
    "v = np.ones((6,))\n",
    "C = A.dot(v)\n",
    "D = ANS.dot(v)\n",
    "print(C,D,'\\nThey are the same') "
   ]
  },
  {
   "cell_type": "code",
   "execution_count": null,
   "metadata": {},
   "outputs": [],
   "source": [
    "##method2\n",
    "v = np.ones((6,))\n",
    "\n",
    "#same as previous,\n",
    "broad_a = np.broadcast_to(vals, projs.T.shape).T * projs\n",
    "\n",
    "#but multiply by v first\n",
    "lPv = broad_a.dot(v)\n",
    "result = np.sum(lPv,axis = 0)\n",
    "\n",
    "np.isclose (result , np.dot(A,v)).all()"
   ]
  },
  {
   "cell_type": "markdown",
   "metadata": {},
   "source": [
    "###### 3(c)\n",
    "Pick any $0\\leq i,j\\leq 3$.  \n",
    "Check if $P_iP_j = O$."
   ]
  },
  {
   "cell_type": "code",
   "execution_count": null,
   "metadata": {},
   "outputs": [],
   "source": [
    "for i in range(4):\n",
    "    for j in range(4):\n",
    "        print(projs[i].dot(projs[j]))\n",
    "print('Pi*Pj=0 if i!=j')"
   ]
  },
  {
   "cell_type": "markdown",
   "metadata": {},
   "source": [
    "###### 3(d)\n",
    "Pick any $0\\leq i\\leq 3$.  \n",
    "Check if $P_i^2 = P_i$."
   ]
  },
  {
   "cell_type": "code",
   "execution_count": null,
   "metadata": {},
   "outputs": [],
   "source": [
    "###method1\n",
    "for i in range(4):\n",
    "    Z = projs[i].dot(projs[i])\n",
    "    X= Z-projs[i]\n",
    "print(X)    \n",
    "print('𝑃2𝑖=𝑃𝑖=>𝑃2𝑖-𝑃𝑖=O[6,6],\\nso 𝑃2𝑖=𝑃𝑖')"
   ]
  },
  {
   "cell_type": "markdown",
   "metadata": {},
   "source": [
    "##### Jephian\n",
    "\n",
    "Usually, we do `P_i^2` in pure text to illustrate the superscript and the subscript."
   ]
  },
  {
   "cell_type": "code",
   "execution_count": null,
   "metadata": {},
   "outputs": [],
   "source": [
    "###method2\n",
    "### initializing random number\n",
    "i = np.random.randint(3)\n",
    "\n",
    "#multiply ith and ith elements /square it/\n",
    "multiplication = np.dot(projs[i],projs[i])\n",
    "\n",
    "#check if the result is equal to ith element\n",
    "np.isclose(multiplication ,projs[i]).all()"
   ]
  },
  {
   "cell_type": "markdown",
   "metadata": {},
   "source": [
    "##### Exercise 4\n",
    "Let  \n",
    "```python\n",
    "%matplotlib inline\n",
    "plt.axis('equal')\n",
    "A = np.array([[2,1],\n",
    "              [1,2]])\n",
    "t = np.linspace(0, 2*np.pi, 36)\n",
    "xs = np.cos(t)\n",
    "ys = np.sin(t)\n",
    "vs = np.vstack([xs, ys])\n",
    "Avs = A.dot(vs)\n",
    "```"
   ]
  },
  {
   "cell_type": "markdown",
   "metadata": {},
   "source": [
    "###### 4(a)\n",
    "Plot a red point at the origin.  \n",
    "Plot the points (columns) in `vs` using `c=t` .  \n",
    "Then plot the points (columns) in `Avs` using `c=t` .  \n",
    "Interpret the output using the spectral decomposition."
   ]
  },
  {
   "cell_type": "code",
   "execution_count": null,
   "metadata": {
    "scrolled": false
   },
   "outputs": [],
   "source": [
    "%matplotlib inline\n",
    "plt.axis('equal')\n",
    "A = np.array([[2,1],\n",
    "              [1,2]])\n",
    "t = np.linspace(0, 2*np.pi, 36)###start from 0 to 2*np.pi,divided into 36 pieces\n",
    "xs = np.cos(t)  ##(36,)\n",
    "ys = np.sin(t)  ##(36,)\n",
    "vs = np.vstack([xs, ys]) ##(2,36)\n",
    "Avs = A.dot(vs)  ##(2,36):Avs[0] is 2 times xs + ys, Avs[1] is xs + 2 times ys\n",
    "print (Avs)\n",
    "plt.plot([0],'r-o')\n",
    "plt.scatter(vs[0],vs[1], c=t) ##Circle By(xs,ys)\n",
    "plt.scatter(Avs[0],Avs[1],c=t) ##Oval\n",
    "Avs.shape"
   ]
  },
  {
   "cell_type": "markdown",
   "metadata": {},
   "source": [
    "##### Jephian\n",
    "\n",
    "The long and short axes of the ellipse are the eigenvectors of $A$, and their lengths are the eigenvalues."
   ]
  },
  {
   "cell_type": "markdown",
   "metadata": {},
   "source": [
    "###### 4(b)\n",
    "Do the same with  \n",
    "```python\n",
    "A = np.array([[1,1],\n",
    "              [1,1]])\n",
    "```"
   ]
  },
  {
   "cell_type": "code",
   "execution_count": null,
   "metadata": {},
   "outputs": [],
   "source": [
    "%matplotlib inline\n",
    "plt.axis('equal')\n",
    "A = np.array([[1,1],\n",
    "              [1,1]])\n",
    "t = np.linspace(0, 2*np.pi, 36)###start from 0 to 2*np.pi,divided into 36 pieces\n",
    "xs = np.cos(t)\n",
    "ys = np.sin(t)\n",
    "vs = np.vstack([xs, ys])\n",
    "Avs = A.dot(vs)\n",
    "print (Avs)\n",
    "plt.plot([0],'r-o')\n",
    "plt.scatter(vs[0],vs[1], c=t)\n",
    "plt.scatter(Avs[0],Avs[1],c=t)"
   ]
  },
  {
   "cell_type": "markdown",
   "metadata": {},
   "source": [
    "##### Jephian\n",
    "\n",
    "As you can see, this time one of the eigenvalues is zero, so the ellipse collapses."
   ]
  },
  {
   "cell_type": "markdown",
   "metadata": {},
   "source": [
    "##### Exercise 5\n",
    "Let  \n",
    "```python\n",
    "A = np.array([[0,1,0,0,0,1], \n",
    "              [1,0,1,0,0,0], \n",
    "              [0,1,0,1,0,0], \n",
    "              [0,0,1,0,1,0], \n",
    "              [0,0,0,1,0,1], \n",
    "              [1,0,0,0,1,0]])\n",
    "vals,projs = spec_decom(A)\n",
    "\n",
    "k = 3\n",
    "```"
   ]
  },
  {
   "cell_type": "markdown",
   "metadata": {},
   "source": [
    "###### 5(a)\n",
    "Let  \n",
    "```python\n",
    "B = k*A\n",
    "vals_B,projs_B = spec_decom(B)\n",
    "```\n",
    "Find a relation between `vals` and `vals_B` using `k` .  \n",
    "Find a relation between `projs` and `projs_B` ."
   ]
  },
  {
   "cell_type": "code",
   "execution_count": null,
   "metadata": {},
   "outputs": [],
   "source": [
    "A = np.array([[0,1,0,0,0,1], \n",
    "              [1,0,1,0,0,0], \n",
    "              [0,1,0,1,0,0], \n",
    "              [0,0,1,0,1,0], \n",
    "              [0,0,0,1,0,1], \n",
    "              [1,0,0,0,1,0]])\n",
    "vals,projs = spec_decom(A)\n",
    "\n",
    "k = 3\n",
    "B = k*A\n",
    "vals_B,projs_B = spec_decom(B)\n",
    "print(vals,vals_B,'\\n3*vals=vals_B')\n"
   ]
  },
  {
   "cell_type": "code",
   "execution_count": null,
   "metadata": {},
   "outputs": [],
   "source": [
    "print (projs)\n",
    "print(projs_B)\n",
    "print('projs=projs_B')"
   ]
  },
  {
   "cell_type": "markdown",
   "metadata": {},
   "source": [
    "##### Jephian\n",
    "\n",
    "Yes, so in general, the eigenvalues of $B = kA$ is the eigenvalues of $A$ multiplicated by $k$,  \n",
    "while the eigenvectors remains unchanged."
   ]
  },
  {
   "cell_type": "markdown",
   "metadata": {},
   "source": [
    "###### 5(b)\n",
    "Let  \n",
    "```python\n",
    "B = A + k*np.eye(6)\n",
    "vals_B,projs_B = spec_decom(B)\n",
    "```\n",
    "Find a relation between `vals` and `vals_B` using `k` .  \n",
    "Find a relation between `projs` and `projs_B` ."
   ]
  },
  {
   "cell_type": "code",
   "execution_count": null,
   "metadata": {},
   "outputs": [],
   "source": [
    "B = A + k*np.eye(6)\n",
    "vals_B,projs_B = spec_decom(B)\n",
    "print(vals)\n",
    "print(vals_B)\n",
    "print('vals_B = vals+3')"
   ]
  },
  {
   "cell_type": "code",
   "execution_count": null,
   "metadata": {},
   "outputs": [],
   "source": [
    "print (projs,projs_B,'\\nprojs=projs_B')"
   ]
  },
  {
   "cell_type": "markdown",
   "metadata": {},
   "source": [
    "##### Jephian\n",
    "\n",
    "The eigenvalues of $B = A + kI$ is the eigenvalues of $A$ plus $k$,  \n",
    "while the eigenvectors remain unchanged."
   ]
  },
  {
   "cell_type": "markdown",
   "metadata": {},
   "source": [
    "###### 5(c)\n",
    "It looks like $\\lambda=1$ is an eigenvalue of $A$.  \n",
    "Use `sympy.Matrix` to find the null space of $A - \\lambda I$.  \n",
    "Find a projection matrix of it, and compare it with the corresponding projection matrix in `projs` ."
   ]
  },
  {
   "cell_type": "code",
   "execution_count": null,
   "metadata": {},
   "outputs": [],
   "source": [
    "A = np.array([[0,1,0,0,0,1], \n",
    "              [1,0,1,0,0,0], \n",
    "              [0,1,0,1,0,0], \n",
    "              [0,0,1,0,1,0], \n",
    "              [0,0,0,1,0,1], \n",
    "              [1,0,0,0,1,0]])\n",
    "vals,projs = spec_decom(A)\n",
    "\n",
    "k = 3\n",
    "A = sympy.Matrix(A)\n",
    "A1 = A-sympy.Matrix.eye(6)  \n",
    "\n",
    "print('Null space of 𝐴−𝜆𝐼 is\\n',A1.nullspace())"
   ]
  },
  {
   "cell_type": "code",
   "execution_count": null,
   "metadata": {},
   "outputs": [],
   "source": [
    "A = np.array([[0,1,0,0,0,1], \n",
    "              [1,0,1,0,0,0], \n",
    "              [0,1,0,1,0,0], \n",
    "              [0,0,1,0,1,0], \n",
    "              [0,0,0,1,0,1], \n",
    "              [1,0,0,0,1,0]])\n",
    "A1 = A-np.eye(6)\n",
    "vals_A,projs_A = spec_decom(A1)\n",
    "print('projection of 𝐴−𝜆𝐼 is\\n',projs_A)\n",
    "print('projs = ',projs)"
   ]
  },
  {
   "cell_type": "code",
   "execution_count": null,
   "metadata": {},
   "outputs": [],
   "source": [
    "np.isclose(projs_A,projs).all()"
   ]
  },
  {
   "cell_type": "markdown",
   "metadata": {},
   "source": [
    "##### Jephian\n",
    "\n",
    "I am thinking of this.\n",
    "\n",
    "```python\n",
    "A = np.array([[0,1,0,0,0,1], \n",
    "              [1,0,1,0,0,0], \n",
    "              [0,1,0,1,0,0], \n",
    "              [0,0,1,0,1,0], \n",
    "              [0,0,0,1,0,1], \n",
    "              [1,0,0,0,1,0]])\n",
    "\n",
    "### build from ker(A - lambda I) by SymPy\n",
    "lamb = 1\n",
    "A_sym = sympy.Matrix(A - lamb * np.eye(6))\n",
    "ker = np.array(A_sym.nullspace(), dtype=float)\n",
    "ker = ker[:,:,0].T\n",
    "kerTkerinv = np.linalg.inv(ker.T.dot(ker))\n",
    "proj_sym = ker.dot(kerTkerinv).dot(ker.T)\n",
    "print(\"proj by ker(A - lambda I):\")\n",
    "print(proj_sym)\n",
    "\n",
    "vals, projs = spec_decom(A)\n",
    "i = np.where(vals == 1)[0][0]\n",
    "print(\"proj by spec_decom:\")\n",
    "print(projs[i])\n",
    "```"
   ]
  }
 ],
 "metadata": {
  "kernelspec": {
   "display_name": "Python 3 (ipykernel)",
   "language": "python",
   "name": "python3"
  },
  "language_info": {
   "codemirror_mode": {
    "name": "ipython",
    "version": 3
   },
   "file_extension": ".py",
   "mimetype": "text/x-python",
   "name": "python",
   "nbconvert_exporter": "python",
   "pygments_lexer": "ipython3",
   "version": "3.10.2"
  }
 },
 "nbformat": 4,
 "nbformat_minor": 4
}
