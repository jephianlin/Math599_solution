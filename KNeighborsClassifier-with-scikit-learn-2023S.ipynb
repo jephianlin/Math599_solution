{
 "cells": [
  {
   "cell_type": "markdown",
   "metadata": {
    "id": "X2j9ei085ctP"
   },
   "source": [
    "# KNeighborsClassifier with scikit learn"
   ]
  },
  {
   "cell_type": "markdown",
   "metadata": {
    "id": "lKEJcSWU5ctS"
   },
   "source": [
    "![Creative Commons License](https://i.creativecommons.org/l/by/4.0/88x31.png)  \n",
    "This work by Jephian Lin is licensed under a [Creative Commons Attribution 4.0 International License](http://creativecommons.org/licenses/by/4.0/)."
   ]
  },
  {
   "cell_type": "code",
   "execution_count": null,
   "metadata": {
    "id": "96LKBmJp5ctT"
   },
   "outputs": [],
   "source": [
    "import numpy as np\n",
    "import matplotlib.pyplot as plt"
   ]
  },
  {
   "cell_type": "markdown",
   "metadata": {
    "id": "CEUCN-Iy5ctU"
   },
   "source": [
    "## Code\n",
    "```python\n",
    "from sklearn.neighbors import KNeighborsClassifier\n",
    "model = KNeighborsClassifier(<parameters>)\n",
    "model.fit(X, y)\n",
    "y_new = model.predict(X_test)\n",
    "```\n",
    "\n",
    "[Official Reference](https://scikit-learn.org/stable/modules/generated/sklearn.neighbors.KNeighborsClassifier.html)"
   ]
  },
  {
   "cell_type": "markdown",
   "metadata": {
    "id": "I3ju5zNA5ctU"
   },
   "source": [
    "## Parameters\n",
    "- `n_neighbors`: Numbers of neighbors (including self) to vote\n",
    "- `algorithm`: `'auto'`, `'ball_tree'`, `'kd_tree'`, or `'brute'`  \n",
    "it only affect the speed but not the outcome. "
   ]
  },
  {
   "cell_type": "markdown",
   "metadata": {
    "id": "GNZ5VfQy5ctV"
   },
   "source": [
    "## Attributes\n",
    "- `classes_`: an array of shape `(n_classes,)`  \n",
    "(Usually `0, ..., n_classes-1`)"
   ]
  },
  {
   "cell_type": "markdown",
   "metadata": {
    "id": "7Sw607Ga5ctV"
   },
   "source": [
    "## Sample data"
   ]
  },
  {
   "cell_type": "markdown",
   "metadata": {
    "id": "S6CbmElB5ctV"
   },
   "source": [
    "##### Exercise 1\n",
    "Let  \n",
    "```python\n",
    "mu1 = np.array([2.5,0])\n",
    "cov1 = np.array([[1.1,-1],\n",
    "                [-1,1.1]])\n",
    "mu2 = np.array([-2.5,0])\n",
    "cov2 = np.array([[1.1,1],\n",
    "                [1,1.1]])\n",
    "X = np.vstack([np.random.multivariate_normal(mu1, cov1, 100), \n",
    "               np.random.multivariate_normal(mu2, cov2, 100)])\n",
    "y = np.array([0]*100 + [1]*100)\n",
    "```"
   ]
  },
  {
   "cell_type": "markdown",
   "metadata": {
    "id": "w6dA6ab65ctW"
   },
   "source": [
    "###### 1(a)\n",
    "Plot the points (rows) in `X` with `c=y` .  "
   ]
  },
  {
   "cell_type": "code",
   "execution_count": null,
   "metadata": {
    "colab": {
     "base_uri": "https://localhost:8080/",
     "height": 447
    },
    "id": "S-cyqy6L5ctW",
    "outputId": "d5de820e-bb96-450d-c5c2-fce6b1a802c9"
   },
   "outputs": [],
   "source": [
    "### your answer here\n",
    "mu1 = np.array([2.5,0])\n",
    "cov1 = np.array([[1.1,-1],\n",
    "                [-1,1.1]])\n",
    "mu2 = np.array([-2.5,0])\n",
    "cov2 = np.array([[1.1,1],\n",
    "                [1,1.1]])\n",
    "X = np.vstack([np.random.multivariate_normal(mu1, cov1, 100), \n",
    "               np.random.multivariate_normal(mu2, cov2, 100)])\n",
    "y = np.array([0]*100 + [1]*100)\n",
    "plt.axis('equal')\n",
    "plt.scatter(*X.T, c=y)"
   ]
  },
  {
   "cell_type": "markdown",
   "metadata": {
    "id": "s3RlFzPj5ctW"
   },
   "source": [
    "###### 1(b)\n",
    "Use `np.random.rand` to make 1000 random points in the region $-5\\leq x\\leq 5$, $-5\\leq y\\leq 5$.  \n",
    "Make a prediction of them and plot them upon your previous figure."
   ]
  },
  {
   "cell_type": "code",
   "execution_count": null,
   "metadata": {
    "colab": {
     "base_uri": "https://localhost:8080/",
     "height": 447
    },
    "id": "K5GUYymc5ctW",
    "outputId": "2d3e5948-5a3f-49e9-e7a3-5c9bed699d45"
   },
   "outputs": [],
   "source": [
    "### your answer here\n",
    "X_test = np.random.rand(1000, 2) * 10 - np.array([5,5])\n",
    "from sklearn.neighbors import KNeighborsClassifier\n",
    "model = KNeighborsClassifier()\n",
    "model.fit(X, y)\n",
    "y_new = model.predict(X_test)\n",
    "plt.axis('equal')\n",
    "plt.scatter(*X_test.T, c=y_new, s=10, alpha=0.1)\n",
    "plt.scatter(*X.T, c=y)"
   ]
  },
  {
   "cell_type": "markdown",
   "metadata": {
    "id": "s08SgEHE5ctW"
   },
   "source": [
    "##### Exercise 2\n",
    "Let  \n",
    "```python\n",
    "from sklearn.datasets import load_iris\n",
    "iris = load_iris()\n",
    "X = iris.data\n",
    "y = iris.target\n",
    "```"
   ]
  },
  {
   "cell_type": "markdown",
   "metadata": {
    "id": "qbVv9W_g5ctX"
   },
   "source": [
    "###### 2(a)\n",
    "Use `X` and `y` to train a $k$-nearest neighbors classification model with `n_neighbors=5` .  \n",
    "Let `y_new` be the prediction.  \n",
    "Calculate the accuracy score between `y` and `y_new` ,  \n",
    "that is, the number of correct answers divided by the number of samples."
   ]
  },
  {
   "cell_type": "code",
   "execution_count": null,
   "metadata": {
    "colab": {
     "base_uri": "https://localhost:8080/"
    },
    "id": "qpsJmL7B5ctX",
    "outputId": "880eadbc-46a3-49d7-d3c5-252675d59521"
   },
   "outputs": [],
   "source": [
    "from sklearn.datasets import load_iris\n",
    "iris = load_iris()\n",
    "X = iris.data\n",
    "y = iris.target\n",
    "\n",
    "model = KNeighborsClassifier(n_neighbors=5)\n",
    "model.fit(X, y)\n",
    "y_new = model.predict(X)\n",
    "\n",
    "score = np.sum(y==y_new)/y.shape[0]\n",
    "print('score =',score)\n"
   ]
  },
  {
   "cell_type": "markdown",
   "metadata": {
    "id": "jC15m92d5ctX"
   },
   "source": [
    "###### 2(b)\n",
    "Let  \n",
    "```python\n",
    "from sklearn.metrics import accuracy_score\n",
    "accuracy_score(y_new, y)\n",
    "```\n",
    "Check if the output is the same as your previous answer."
   ]
  },
  {
   "cell_type": "code",
   "execution_count": null,
   "metadata": {
    "colab": {
     "base_uri": "https://localhost:8080/"
    },
    "id": "bTFU5Nr-5ctX",
    "outputId": "3d8b32f7-1592-41a8-e603-06e6e64e660e"
   },
   "outputs": [],
   "source": [
    "from sklearn.metrics import accuracy_score\n",
    "acc = accuracy_score(y_new,y)\n",
    "if acc == score:\n",
    "  print('the answer is the same.')\n",
    "else:\n",
    "  print('the answer is not the same but it should.')  \n"
   ]
  },
  {
   "cell_type": "markdown",
   "metadata": {
    "id": "tldtsjfh5ctX"
   },
   "source": [
    "###### 2(c)\n",
    "Change the model to the setting `n_neighbors=1` .  \n",
    "Does the accuracy increase or decrease?  Why?"
   ]
  },
  {
   "cell_type": "code",
   "execution_count": null,
   "metadata": {
    "colab": {
     "base_uri": "https://localhost:8080/"
    },
    "id": "_OrdKJeB5ctX",
    "outputId": "1f49c873-a051-4e6f-a5b9-1b2f7191e2bc"
   },
   "outputs": [],
   "source": [
    "model = KNeighborsClassifier(n_neighbors=1)\n",
    "model.fit(X, y)\n",
    "y_new = model.predict(X)\n",
    "\n",
    "score = np.sum(y==y_new)/y.shape[0]\n",
    "print('score =',score)\n",
    "print('the accuracy increases since the accuracy is 100% when there is only one neighbor to observe (the point itself).')"
   ]
  },
  {
   "cell_type": "markdown",
   "metadata": {
    "id": "b6YGTe3C5ctY"
   },
   "source": [
    "##### Exercise 3\n",
    "Let  \n",
    "```python\n",
    "from sklearn.datasets import load_digits\n",
    "digits = load_digits()\n",
    "mask = (digits.target == 0) | (digits.target == 1)\n",
    "X = digits.data[mask]\n",
    "y = digits.target[mask]\n",
    "```"
   ]
  },
  {
   "cell_type": "markdown",
   "metadata": {
    "id": "eomcvwJF5ctY"
   },
   "source": [
    "###### 3(a)\n",
    "Train a $k$-nearest neighbors classification model.  \n",
    "How is its accuracy score?"
   ]
  },
  {
   "cell_type": "code",
   "execution_count": null,
   "metadata": {
    "id": "1JqPpKcS5ctY"
   },
   "outputs": [],
   "source": [
    "### your answer here\n",
    "from sklearn.datasets import load_digits\n",
    "digits = load_digits()\n",
    "mask = (digits.target == 0) | (digits.target == 1)\n",
    "X = digits.data[mask]\n",
    "y = digits.target[mask]"
   ]
  },
  {
   "cell_type": "code",
   "execution_count": null,
   "metadata": {
    "colab": {
     "base_uri": "https://localhost:8080/"
    },
    "id": "tV3YrzPnOxAu",
    "outputId": "0d2e7178-355d-45dc-82d8-6296527e7859"
   },
   "outputs": [],
   "source": [
    "from sklearn.neighbors import KNeighborsClassifier\n",
    "model = KNeighborsClassifier(n_neighbors=5)\n",
    "model.fit(X, y)\n",
    "y_new = model.predict(X)\n",
    "accuracy_score(y_new, y)"
   ]
  },
  {
   "cell_type": "markdown",
   "metadata": {
    "id": "-HKCLuWJ5ctY"
   },
   "source": [
    "###### 3(b)\n",
    "Use any software or online app to draw a picture of 0 or 1.  \n",
    "Save it as a file, e.g., `my_digit.png` .  \n",
    "Use the following code to load it.  \n",
    "```python\n",
    "from PIL import Image\n",
    "img = Image.open(\"my_digit.png\").resize(8,8).convert('L')\n",
    "arr = 255 - np.array(img) / 16\n",
    "```\n",
    "Does the model give you the right answer?  \n",
    "Each of you can do 5 pictures.  \n",
    "Let's see what is the accuracy score."
   ]
  },
  {
   "cell_type": "code",
   "execution_count": null,
   "metadata": {
    "id": "SFwXttMU5ctY"
   },
   "outputs": [],
   "source": [
    "import os \n",
    "path = \".\" #update here\n",
    "\n",
    "from PIL import Image\n",
    "img = []\n",
    "for i in range(1,21):\n",
    "    filename = os.path.join(path, \"img_\"+str(i)+\".png\") \n",
    "    img.append(Image.open(filename).resize((8,8)).convert('L')) \n",
    "\n",
    "X_test = (255-np.vstack([np.array(image).ravel() for image in img]))/16 \n",
    "ans = np.array([1,0,0,1,1,1,0,0,0,1,1,0,1,0,1,0,0,0,1,1]) "
   ]
  },
  {
   "cell_type": "code",
   "execution_count": null,
   "metadata": {
    "colab": {
     "base_uri": "https://localhost:8080/",
     "height": 452
    },
    "id": "L3V4znyIPkj8",
    "outputId": "10248288-3cef-4818-d9a7-7e6f419ca44d"
   },
   "outputs": [],
   "source": [
    "for i in range(20): \n",
    "    plt.subplot(4,5,i+1) \n",
    "    plt.title('image'+str(i+1))\n",
    "    plt.imshow(X_test[i].reshape(8,8),cmap='gray')\n",
    "plt.show()"
   ]
  },
  {
   "cell_type": "code",
   "execution_count": null,
   "metadata": {
    "colab": {
     "base_uri": "https://localhost:8080/"
    },
    "id": "yj8rEzKGPoXH",
    "outputId": "6824959b-842a-46e1-f1b9-ca7cf231051e"
   },
   "outputs": [],
   "source": [
    "y_new = model.predict(X_test)\n",
    "score = np.sum(ans==y_new)/ans.shape[0]\n",
    "print('score =',score) \n",
    "print(y_new) "
   ]
  },
  {
   "cell_type": "markdown",
   "metadata": {
    "id": "zpGkrg8r5ctY"
   },
   "source": [
    "## Experiments"
   ]
  },
  {
   "cell_type": "markdown",
   "metadata": {
    "id": "A9RIHOnL5ctY"
   },
   "source": [
    "##### Exercise 4\n",
    "For a supervised learning model, you have to partition your data into a training set and a testing set.  \n",
    "You may do it easily by  \n",
    "```python\n",
    "from sklearn.model_selection import train_test_split\n",
    "X_train, X_test, y_train, y_test = train_test_split(X, y)\n",
    "```"
   ]
  },
  {
   "cell_type": "markdown",
   "metadata": {
    "id": "X2XDcqbJ5ctY"
   },
   "source": [
    "###### 4(a)\n",
    "Split the data in Exercise 2.  \n",
    "Use the training set to train the model.  \n",
    "Apply the trained model to the testing set.  \n",
    "How is the accuracy?  \n",
    "Run it several time and get an average."
   ]
  },
  {
   "cell_type": "code",
   "execution_count": null,
   "metadata": {
    "colab": {
     "base_uri": "https://localhost:8080/"
    },
    "id": "4vtEbtCq5ctZ",
    "outputId": "2a7d4840-8163-4d82-81cf-2b12fb43da4d"
   },
   "outputs": [],
   "source": [
    "### your answer here\n",
    "from sklearn.model_selection import train_test_split\n",
    "\n",
    "def multiple_accuracy_test(X,y,n=10,ret_model=False):\n",
    "  r = []\n",
    "  for i in range(n):\n",
    "    model = KNeighborsClassifier()\n",
    "    X_train, X_test, y_train, y_test = train_test_split(X, y,random_state=i)\n",
    "    model.fit(X_train,y_train)\n",
    "    y_pred = model.predict(X_test)\n",
    "    r.append(accuracy_score(y_test,y_pred))\n",
    "  res = sum(r)/len(r)\n",
    "  if  ret_model:\n",
    "    res = (res,model)\n",
    "  return res\n",
    "\n",
    "\n",
    "print(\"Accuracy score:\",multiple_accuracy_test(iris.data,iris.target))"
   ]
  },
  {
   "cell_type": "markdown",
   "metadata": {
    "id": "Kdj0zcbf5ctZ"
   },
   "source": [
    "###### 4(b)\n",
    "Split the data in Exercise 3.  \n",
    "Use the training set to train the model.  \n",
    "Apply the trained model to the testing set.  \n",
    "How is the accuracy?  \n",
    "Run it several time and get an average."
   ]
  },
  {
   "cell_type": "code",
   "execution_count": null,
   "metadata": {
    "colab": {
     "base_uri": "https://localhost:8080/"
    },
    "id": "lUf7GU_C5ctZ",
    "outputId": "a63f45da-a31f-4902-f726-468085d0ea11"
   },
   "outputs": [],
   "source": [
    "### your answer here\n",
    "print(\"Accuracy score:\",multiple_accuracy_test(digits.data,digits.target))"
   ]
  },
  {
   "cell_type": "markdown",
   "metadata": {
    "id": "wcYv8dAX5ctZ"
   },
   "source": [
    "##### Exercise 5\n",
    "Let  \n",
    "```python \n",
    "X = 5 * np.random.randn(1000,2)\n",
    "lengths = np.linalg.norm(X, axis=1)\n",
    "band1 = (lengths > 1) & (lengths <2)  \n",
    "band2 = (lengths > 3) & (lengths <4)\n",
    "X = np.vstack([X[band1], X[band2]])\n",
    "y = np.array([0]*band1.sum() + [1]*band2.sum())\n",
    "```"
   ]
  },
  {
   "cell_type": "markdown",
   "metadata": {
    "id": "DWj9p_Nc5ctZ"
   },
   "source": [
    "###### 5(a)\n",
    "Go through the split-train-test process.  \n",
    "What is the accuracy score?"
   ]
  },
  {
   "cell_type": "code",
   "execution_count": null,
   "metadata": {
    "colab": {
     "base_uri": "https://localhost:8080/"
    },
    "id": "xMKiawPs5ctZ",
    "outputId": "231445f1-d47c-457c-c6b3-5f05ac2b5a63"
   },
   "outputs": [],
   "source": [
    "### your answer here\n",
    "X = 5 * np.random.randn(1000,2)\n",
    "lengths = np.linalg.norm(X, axis=1)\n",
    "band1 = (lengths > 1) & (lengths <2)  \n",
    "band2 = (lengths > 3) & (lengths <4)\n",
    "X = np.vstack([X[band1], X[band2]])\n",
    "y = np.array([0]*band1.sum() + [1]*band2.sum())\n",
    "score, model = multiple_accuracy_test(X,y,1,True)\n",
    "print(\"Accuracy score:\",score)"
   ]
  },
  {
   "cell_type": "markdown",
   "metadata": {
    "id": "Iyb6q6Uw5ctZ"
   },
   "source": [
    "###### 5(b)\n",
    "Use some random points to plot the regions for each class.  \n",
    "(Just as what we did in Exercise 1.)"
   ]
  },
  {
   "cell_type": "code",
   "execution_count": null,
   "metadata": {
    "colab": {
     "base_uri": "https://localhost:8080/",
     "height": 447
    },
    "id": "Ju2ipk3X5ctZ",
    "outputId": "9eeb53f5-c333-4691-dcaf-7dd65cdd4fb6"
   },
   "outputs": [],
   "source": [
    "### your answer here\n",
    "data = np.random.rand(10000,2)*8 - 4\n",
    "y_data = model.predict(data)\n",
    "plt.scatter(*X.T,c=y)\n",
    "plt.scatter(*data.T,c=y_data)"
   ]
  },
  {
   "cell_type": "code",
   "execution_count": null,
   "metadata": {
    "id": "S9MXlnKPtcrB"
   },
   "outputs": [],
   "source": []
  }
 ],
 "metadata": {
  "colab": {
   "provenance": []
  },
  "kernelspec": {
   "display_name": "Python 3 (ipykernel)",
   "language": "python",
   "name": "python3"
  },
  "language_info": {
   "codemirror_mode": {
    "name": "ipython",
    "version": 3
   },
   "file_extension": ".py",
   "mimetype": "text/x-python",
   "name": "python",
   "nbconvert_exporter": "python",
   "pygments_lexer": "ipython3",
   "version": "3.9.13"
  }
 },
 "nbformat": 4,
 "nbformat_minor": 1
}
