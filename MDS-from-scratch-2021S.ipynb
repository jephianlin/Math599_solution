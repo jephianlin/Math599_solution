{
 "cells": [
  {
   "cell_type": "markdown",
   "metadata": {},
   "source": [
    "# MDS from scratch"
   ]
  },
  {
   "cell_type": "markdown",
   "metadata": {},
   "source": [
    "![Creative Commons License](https://i.creativecommons.org/l/by/4.0/88x31.png)  \n",
    "This work by Jephian Lin is licensed under a [Creative Commons Attribution 4.0 International License](http://creativecommons.org/licenses/by/4.0/)."
   ]
  },
  {
   "cell_type": "code",
   "execution_count": null,
   "metadata": {},
   "outputs": [],
   "source": [
    "import numpy as np\n",
    "import matplotlib.pyplot as plt\n",
    "from sklearn.manifold import MDS"
   ]
  },
  {
   "cell_type": "code",
   "execution_count": null,
   "metadata": {},
   "outputs": [],
   "source": [
    "def dist_mtx(X1, X2):\n",
    "    \"\"\"\n",
    "    Input:\n",
    "        X1, X2: two datasets with the same number of features\n",
    "    Output:\n",
    "        an array of shape (N1, N2)  \n",
    "        whose i,j-entry is the distance between X1[i] and X2[j]  \n",
    "        where N1, N2 are the number of samples of X1, X2, respectively.\n",
    "    \"\"\"\n",
    "    X1_col = X1[:, np.newaxis, :]\n",
    "    X2_row = X2[np.newaxis, :, :]\n",
    "    diff = X1_col - X2_row\n",
    "    dist = np.sqrt( np.sum(diff**2, axis=-1) )\n",
    "    return dist"
   ]
  },
  {
   "cell_type": "markdown",
   "metadata": {},
   "source": [
    "## Algorithm\n",
    "**Input:**  \n",
    "- `X`: an array of shape `(N,d)` whose rows are samples and columns are features\n",
    "- `r`: target dimension\n",
    "- `n_iter=100`: number of iterations\n",
    "- `verbose=0`: verbose level;  \n",
    "if 0, say nothing;  \n",
    "if 2, print the stress of each iteration.\n",
    "\n",
    "**Output:**\n",
    "- an array of shape `(N, r)`  \n",
    "\n",
    "**Steps:**\n",
    "1. Compute the distance matrix `goal` $=\\begin{bmatrix}\\delta_{ij}\\end{bmatrix}$, where $\\delta_{ij}$ is the distance between the $i$-th row and the $j$-th row of $X$.\n",
    "2. Let $X_0$ be a random array of shape `(N, r)` .  \n",
    "3. Let $d_{ij}(X_k)$ is the distance between the $i$-th row and the $j$-th row of $X_k$.  \n",
    "Let $s_{ij}(X_k)$ be $-1/d_{ij}(X_k)$ if $d_{ij}(X_k)\\neq 0$ and $0$ if $d_{ij}(X_k)= 0$.\n",
    "3. Let $B(X_k)=\\begin{bmatrix}\\delta_{ij}s_{ij}(X_k)\\end{bmatrix}$ and set the diagonal entries of $B$ so that $B$ has zero row sums.\n",
    "3. Let $X_{k+1} = \\frac{1}{N}B(X_k)X_k$.\n",
    "4. Return $X_k$ with $k =$ `n_iter` ."
   ]
  },
  {
   "cell_type": "markdown",
   "metadata": {},
   "source": [
    "## Pseudocode\n",
    "Translate the algorithm into the pseudocode.  \n",
    "This helps you to identify the parts that you don't know how to do it.  "
   ]
  },
  {
   "cell_type": "markdown",
   "metadata": {},
   "source": [
    "    1. \n",
    "    2. \n",
    "    3. ..."
   ]
  },
  {
   "cell_type": "markdown",
   "metadata": {},
   "source": [
    "##### Jephian:\n",
    "This part helps you to have a big picture of how to implement the algorithm."
   ]
  },
  {
   "cell_type": "markdown",
   "metadata": {},
   "source": [
    "## Code"
   ]
  },
  {
   "cell_type": "code",
   "execution_count": null,
   "metadata": {},
   "outputs": [],
   "source": [
    "### your answer here\n",
    "np.random.seed(17)\n",
    "N, d, r = abs(np.round(100*np.random.randn(3)))\n",
    "N = int(N)\n",
    "d = int(d)\n",
    "r = int(r)\n",
    "n_iter = 100\n",
    "verbose = 0\n",
    "\n",
    "X = np.random.randn(N,d)\n",
    "D = dist_mtx(X,X)\n",
    "\n",
    "X_new = np.random.randn(N,r)\n",
    "\n",
    "for k in range (n_iter):\n",
    "    D_new = dist_mtx(X_new,X_new)\n",
    "    mask = (D_new!=0)\n",
    "    S = np.zeros_like(D_new)\n",
    "    S[mask] = -1/D_new[mask]\n",
    "    \n",
    "    B = D*S # N*N matrix\n",
    "    B[np.arange(N), np.arange(N)] = -B.sum(axis= 1) # 要讓 B each row sums = 0\n",
    "    X_new = B.dot(X_new)/N\n",
    "\n",
    "X_new"
   ]
  },
  {
   "cell_type": "markdown",
   "metadata": {},
   "source": [
    "##### Jephian:\n",
    "Put the function definition here.  \n",
    "For example, the function below is modified from your code.   \n",
    "You should let `X` be the input as suggested in the [Algorithm](#Algorithm) section.\n",
    "\n",
    "```python\n",
    "def MDS_algo_new(X,r,n_iter,verbose):\n",
    "    N,d = X.shape\n",
    "    D = dist_mtx(X,X)\n",
    "\n",
    "    X_new = np.random.randn(N,r)\n",
    "\n",
    "    for k in range (n_iter):\n",
    "        D_new = dist_mtx(X_new,X_new)\n",
    "        mask = (D_new!=0)\n",
    "        S = np.zeros_like(D_new)\n",
    "        S[mask] = -1/D_new[mask]\n",
    "\n",
    "        B = D*S # N*N matrix\n",
    "        B[np.arange(N), np.arange(N)] = -B.sum(axis = 1) # 要讓 B each row sums = 0\n",
    "        X_new = B.dot(X_new)/N\n",
    "        if(verbose==2):\n",
    "            print(\"iter\",k+1,\" stress:\",np.sum((D_new - D)**2)/2) # stress\n",
    "\n",
    "    return X_new\n",
    "```"
   ]
  },
  {
   "cell_type": "markdown",
   "metadata": {},
   "source": [
    "## Test\n",
    "Take some sample data from [MDS-with-scikit-learn](MDS-with-scikit-learn.ipynb) and check if your code generates similar outputs with the existing packages."
   ]
  },
  {
   "cell_type": "markdown",
   "metadata": {},
   "source": [
    "This data is from MDS-with-scikit-learn.ipynb Exercise 1<br>\n",
    "data shape : (100, 2)\n",
    "```python\n",
    "mu = np.array([3,4])\n",
    "cov = np.array([[1.1,1],\n",
    "                [1,1.1]])\n",
    "X = np.random.multivariate_normal(mu, cov, 100)\n",
    "```"
   ]
  },
  {
   "cell_type": "code",
   "execution_count": null,
   "metadata": {},
   "outputs": [],
   "source": [
    "mu = np.array([3,4])\n",
    "cov = np.array([[1.1,1],\n",
    "                [1,1.1]])\n",
    "X = np.random.multivariate_normal(mu, cov, 100)\n",
    "X.shape"
   ]
  },
  {
   "cell_type": "code",
   "execution_count": null,
   "metadata": {},
   "outputs": [],
   "source": [
    "### results with your code\n",
    "D = dist_mtx(X,X)\n",
    "N = X.shape[0]\n",
    "r = 2\n",
    "n_iter = 100\n",
    "\n",
    "X_new = np.random.randn(N,r)\n",
    "\n",
    "for k in range (n_iter):\n",
    "    D_new = dist_mtx(X_new,X_new)\n",
    "    mask = (D_new!=0)\n",
    "    S = np.zeros_like(D_new)\n",
    "    S[mask] = -1/D_new[mask]\n",
    "    \n",
    "    B = D*S # N*N matrix\n",
    "    B[np.arange(N), np.arange(N)] = -B.sum(axis= 1) # 要讓 B each row sums = 0\n",
    "    X_new = B.dot(X_new)/N\n",
    "\n",
    "%matplotlib inline\n",
    "plt.scatter(*X.T) # 原數據 (藍色)\n",
    "plt.scatter(*X_new.T) # 新數據(橘色)"
   ]
  },
  {
   "cell_type": "code",
   "execution_count": null,
   "metadata": {},
   "outputs": [],
   "source": [
    "### results with existing packages\n",
    "model = MDS(n_components=2,n_init=100)\n",
    "X_new = model.fit_transform(X)\n",
    "\n",
    "%matplotlib inline\n",
    "plt.scatter(*X.T) # 原數據 (藍色)\n",
    "plt.scatter(*X_new.T) # 新數據(橘色)"
   ]
  },
  {
   "cell_type": "markdown",
   "metadata": {},
   "source": [
    "## Comparison"
   ]
  },
  {
   "cell_type": "markdown",
   "metadata": {},
   "source": [
    "##### Exercise 1\n",
    "Try to turn `verbose=2` .  \n",
    "Check if the stress is decreasing."
   ]
  },
  {
   "cell_type": "code",
   "execution_count": null,
   "metadata": {},
   "outputs": [],
   "source": [
    "def MDS_algo(N,d,r,n_iter,verbose):\n",
    "    X = np.random.randn(N,d)\n",
    "    D = dist_mtx(X,X)\n",
    "\n",
    "    X_new = np.random.randn(N,r)\n",
    "\n",
    "    for k in range (n_iter):\n",
    "        D_new = dist_mtx(X_new,X_new)\n",
    "        mask = (D_new!=0)\n",
    "        S = np.zeros_like(D_new)\n",
    "        S[mask] = -1/D_new[mask]\n",
    "\n",
    "        B = D*S # N*N matrix\n",
    "        B[np.arange(N), np.arange(N)] = -B.sum(axis = 1) # 要讓 B each row sums = 0\n",
    "        X_new = B.dot(X_new)/N\n",
    "        if(verbose==2):\n",
    "            print(\"iter\",k+1,\" stress:\",np.sum((D_new - D)**2)/2) # stress"
   ]
  },
  {
   "cell_type": "code",
   "execution_count": null,
   "metadata": {},
   "outputs": [],
   "source": [
    "np.random.seed(17)\n",
    "N, d, r = abs(np.round(100*np.random.randn(3)))\n",
    "N = int(N)\n",
    "d = int(d)\n",
    "r = int(r)\n",
    "MDS_algo(N,d,r,n_iter=100,verbose=2)"
   ]
  },
  {
   "cell_type": "markdown",
   "metadata": {},
   "source": [
    "Yes, the stress is decreasing"
   ]
  },
  {
   "cell_type": "markdown",
   "metadata": {},
   "source": [
    "##### Jephian:\n",
    "You may try on the previous test data."
   ]
  },
  {
   "cell_type": "markdown",
   "metadata": {},
   "source": [
    "##### Exercise 2\n",
    "Let  \n",
    "```python\n",
    "import scipy.linalg as LA\n",
    "arr = np.random.randn(10,10) ### typo here: should be (2,2)\n",
    "Q,R = LA.qr(arr)\n",
    "```\n",
    "Let $X_k$ be the output of applying your MDS function to the `hidden_text.csv` data with `r=2` .  \n",
    "Plot the points (rows) in $X_k$.  \n",
    "Plot the points (rows) in $X_kQ$.  \n",
    "Compute the stress of $X_k$ and the stress of $X_kQ$.   \n",
    "(Some rotation do not change the stress.)"
   ]
  },
  {
   "cell_type": "code",
   "execution_count": null,
   "metadata": {
    "scrolled": true
   },
   "outputs": [],
   "source": [
    "### your answer here\n",
    "np.random.seed(17)\n",
    "\n",
    "import scipy.linalg as LA\n",
    "arr = np.random.randn(2,2)\n",
    "Q,R = LA.qr(arr) # QR分解\n",
    "\n",
    "X = np.genfromtxt('hidden_text.csv', delimiter=',') # 1261*100\n",
    "N = np.shape(X)[0]\n",
    "r = 2\n",
    "n_iter = 100\n",
    "\n",
    "D = dist_mtx(X,X)\n",
    "\n",
    "X_new = np.random.randn(N,r)\n",
    "\n",
    "for k in range (n_iter):\n",
    "    D_new = dist_mtx(X_new,X_new)\n",
    "    mask = (D_new!=0)\n",
    "    S = np.zeros_like(D_new) # 1261*1261 matrix\n",
    "    S[mask] = -1/D_new[mask]\n",
    "    \n",
    "    B = D*S # N*N matrix\n",
    "    B[np.arange(N), np.arange(N)] = -B.sum(axis= 1) # 要讓 B each row sums = 0\n",
    "    X_new = B.dot(X_new)/N\n",
    "\n",
    "plt.scatter(*X_new.T) # Xk\n",
    "print(\"Stress of Xk is =\",np.sum((D_new - D)**2)/2) # stress of Xk"
   ]
  },
  {
   "cell_type": "code",
   "execution_count": null,
   "metadata": {},
   "outputs": [],
   "source": [
    "plt.scatter(*X_new.dot(Q).T) #XkQ\n",
    "dis = dist_mtx(X_new.dot(Q),X_new.dot(Q))\n",
    "print(\"Stress of XkQ is =\",np.sum((dis- D)**2)/2) # stress of XkQ"
   ]
  },
  {
   "cell_type": "markdown",
   "metadata": {},
   "source": [
    "##### Jephian:\n",
    "The `D_new` in the first cell is not the distance matrix of `X_new` .  \n",
    "(It is the distance matrix of the previous `X_new` .)  \n",
    "That is why your two stresses are different.  \n",
    "You may try the following to see that the two stresses are supposed to be the same up to some numerical error.  \n",
    "```python\n",
    "D1 = dist_mtx(X_new,X_new)\n",
    "print(\"Stress of Xk is =\",np.sum((D1 - D)**2)/2) # stress of Xk\n",
    "print(\"Stress of XkQ is =\",np.sum((dis- D)**2)/2) # stress of XkQ\n",
    "```\n",
    "\n",
    "Also, adding `plt.axis('equal')` will make the pictures look better."
   ]
  },
  {
   "cell_type": "markdown",
   "metadata": {},
   "source": [
    "##### Exercise 3\n",
    "Apply your MDS function to the `hidden_text.csv` data with `r=2` .  \n",
    "How low can the stress be?"
   ]
  },
  {
   "cell_type": "code",
   "execution_count": null,
   "metadata": {},
   "outputs": [],
   "source": [
    "np.random.seed(17)\n",
    "arr = np.random.randn(10,10)\n",
    "Q,R = LA.qr(arr) # QR分解\n",
    "\n",
    "X = np.genfromtxt('hidden_text.csv', delimiter=',') # 1261*100\n",
    "N = np.shape(X)[0]\n",
    "r = 2\n",
    "n_iter = 100\n",
    "D = dist_mtx(X,X)\n",
    "\n",
    "X_new = np.random.randn(N,r)\n",
    "\n",
    "former_stress = np.inf\n",
    "stress = 0\n",
    "count = 0\n",
    "\n",
    "while(1):\n",
    "    D_new = dist_mtx(X_new,X_new)\n",
    "    mask = (D_new!=0)\n",
    "    S = np.zeros_like(D_new) # 1261*1261 matrix\n",
    "    S[mask] = -1/D_new[mask]\n",
    "    \n",
    "    B = D*S # N*N matrix\n",
    "    B[np.arange(N), np.arange(N)] = -B.sum(axis = 1) # 要讓 B each row sums = 0\n",
    "    X_new = B.dot(X_new)/N\n",
    "    \n",
    "    stress = np.sum((D_new - D)**2)/2\n",
    "    count += 1\n",
    "    \n",
    "    if(former_stress < stress):\n",
    "        print(\"it = \", count, \"stress = \", former_stress)\n",
    "        break\n",
    "        \n",
    "    former_stress = stress"
   ]
  },
  {
   "cell_type": "markdown",
   "metadata": {},
   "source": [
    "##### Jephian:\n",
    "The first few lines about the QR decomposition are not necessary.  \n",
    "Also, the `while` loop seems never stops, which is because `former_stress < stress` never happens.  \n",
    "\n",
    "Using the function `MDS_algo_new` defined earlier, consider the following.  \n",
    "```python\n",
    "X = np.genfromtxt('hidden_text.csv', delimiter=',') # 1261*100\n",
    "MDS_algo_new(X, 2, n_iter=1000, verbose=2)\n",
    "```\n",
    "You will see the stress can be almost zero in the end."
   ]
  },
  {
   "cell_type": "code",
   "execution_count": null,
   "metadata": {},
   "outputs": [],
   "source": []
  }
 ],
 "metadata": {
  "kernelspec": {
   "display_name": "Python 3",
   "language": "python",
   "name": "python3"
  },
  "language_info": {
   "codemirror_mode": {
    "name": "ipython",
    "version": 3
   },
   "file_extension": ".py",
   "mimetype": "text/x-python",
   "name": "python",
   "nbconvert_exporter": "python",
   "pygments_lexer": "ipython3",
   "version": "3.9.4"
  }
 },
 "nbformat": 4,
 "nbformat_minor": 4
}
