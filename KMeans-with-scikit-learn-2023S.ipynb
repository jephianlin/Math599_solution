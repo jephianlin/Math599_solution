{
 "cells": [
  {
   "cell_type": "markdown",
   "metadata": {
    "id": "_2h30A5o0Ejg"
   },
   "source": [
    "# KMeans with scikit learn"
   ]
  },
  {
   "cell_type": "markdown",
   "metadata": {
    "id": "ThKCc9uu0Eji"
   },
   "source": [
    "![Creative Commons License](https://i.creativecommons.org/l/by/4.0/88x31.png)  \n",
    "This work by Jephian Lin is licensed under a [Creative Commons Attribution 4.0 International License](http://creativecommons.org/licenses/by/4.0/)."
   ]
  },
  {
   "cell_type": "code",
   "execution_count": null,
   "metadata": {
    "id": "cPm6S8kx0Ejj"
   },
   "outputs": [],
   "source": [
    "import numpy as np\n",
    "import matplotlib.pyplot as plt"
   ]
  },
  {
   "cell_type": "markdown",
   "metadata": {
    "id": "W0N6eLjp0Ejj"
   },
   "source": [
    "## Code\n",
    "```python\n",
    "from sklearn.cluster import KMeans\n",
    "model = KMeans(<parameters>)\n",
    "y_new = model.fit_predict(X)\n",
    "```\n",
    "\n",
    "[Official Reference](https://scikit-learn.org/stable/modules/generated/sklearn.cluster.KMeans.html)"
   ]
  },
  {
   "cell_type": "markdown",
   "metadata": {
    "id": "cwCxVnJu0Ejj"
   },
   "source": [
    "## Parameters\n",
    "- `n_clusters`: number of clusters\n",
    "- `init`: `\"k-means++\"`, `\"random\"`, or an array of shape `(n_clusters, n_features)`\n",
    "- `n_init`: the function will run the $k$-means algorithm `n_init` times to get a best performance"
   ]
  },
  {
   "cell_type": "markdown",
   "metadata": {
    "id": "yZKeO9fR0Ejk"
   },
   "source": [
    "## Attributes\n",
    "- `cluster_centers_`: an array of shape `(n_clusters, n_features)` whose rows are the cluster centers\n",
    "- `labels_`: labels of each point, the predict of the original data\n",
    "- `inertia_`: $\\sum_{i,j} \\|{\\bf x}_i - \\mu_j\\|^2$ where the summation runs through all pairs $(i,j)$ such that ${\\bf x}_i$ is in the $j$-th cluster with center $\\mu_j$."
   ]
  },
  {
   "cell_type": "markdown",
   "metadata": {
    "id": "r-KuoaBK0Ejk"
   },
   "source": [
    "## Sample data"
   ]
  },
  {
   "cell_type": "markdown",
   "metadata": {
    "id": "lHQHCMTw0Ejk"
   },
   "source": [
    "##### Exercise 1\n",
    "Let  \n",
    "```python\n",
    "mu1 = np.array([2.5,0])\n",
    "cov1 = np.array([[1.1,-1],\n",
    "                [-1,1.1]])\n",
    "mu2 = np.array([-2.5,0])\n",
    "cov2 = np.array([[1.1,1],\n",
    "                [1,1.1]])\n",
    "X = np.vstack([np.random.multivariate_normal(mu1, cov1, 100), \n",
    "               np.random.multivariate_normal(mu2, cov2, 100)])\n",
    "```"
   ]
  },
  {
   "cell_type": "markdown",
   "metadata": {
    "id": "wnD6nwkI0Ejk"
   },
   "source": [
    "###### 1(a)\n",
    "Apply the $k$-means algorithm to `X` with $k=2$ and get the prediction `y_new` .  \n",
    "Plot the points (rows) in `X` with `c=y_new` .  \n",
    "Print `model.inertia_` ."
   ]
  },
  {
   "cell_type": "code",
   "execution_count": null,
   "metadata": {
    "colab": {
     "base_uri": "https://localhost:8080/",
     "height": 447
    },
    "id": "hLy3vqxt0Ejk",
    "outputId": "61a37dcd-1011-45e7-b951-38c66dd80b10"
   },
   "outputs": [],
   "source": [
    "mu1 = np.array([2.5,0])   #random.multivariate_normal(mean,cov)\n",
    "cov1 = np.array([[1.1,-1],  #mean 1D array, cov 2D array\n",
    "         [-1,1.1]])\n",
    "mu2 = np.array([-2.5,0])\n",
    "cov2 = np.array([[1.1,1],\n",
    "         [1,1.1]])\n",
    "X = np.vstack([np.random.multivariate_normal(mu1, cov1, 100), \n",
    "               np.random.multivariate_normal(mu2, cov2, 100)])\n",
    "from sklearn.cluster import KMeans\n",
    "model = KMeans(2,n_init=10)\n",
    "y_new = model.fit_predict(X)\n",
    "plt.axis('equal')\n",
    "plt.scatter(*X.T, c=y_new)\n",
    "model.inertia_"
   ]
  },
  {
   "cell_type": "markdown",
   "metadata": {
    "id": "YaXRh3Xt0Ejk"
   },
   "source": [
    "###### 1(b)\n",
    "Apply the $k$-means algorithm to `X` with $k=3$ and get the prediction `y_new` .  \n",
    "Plot the points (rows) in `X` with `c=y_new` .  \n",
    "Print `model.inertia_` ."
   ]
  },
  {
   "cell_type": "code",
   "execution_count": null,
   "metadata": {
    "colab": {
     "base_uri": "https://localhost:8080/",
     "height": 447
    },
    "id": "iQADO0-F0Ejl",
    "outputId": "6425e744-22bd-482c-aad4-f34f7e3061f1"
   },
   "outputs": [],
   "source": [
    "mu1 = np.array([2.5,0])   #random.multivariate_normal(mean,cov)\n",
    "cov1 = np.array([[1.1,-1],  #mean 1D array, cov 2D array\n",
    "         [-1,1.1]])\n",
    "mu2 = np.array([-2.5,0])\n",
    "cov2 = np.array([[1.1,1],\n",
    "         [1,1.1]])\n",
    "X = np.vstack([np.random.multivariate_normal(mu1, cov1, 100), \n",
    "               np.random.multivariate_normal(mu2, cov2, 100)])\n",
    "from sklearn.cluster import KMeans\n",
    "model = KMeans(3,n_init=10)\n",
    "y_new = model.fit_predict(X)\n",
    "plt.axis('equal')\n",
    "plt.scatter(*X.T, c=y_new)\n",
    "model.inertia_"
   ]
  },
  {
   "cell_type": "markdown",
   "metadata": {
    "id": "w2ouSJSV0Ejl"
   },
   "source": [
    "###### 1(c)\n",
    "Run  \n",
    "```python\n",
    "ins = [KMeans(k).fit(X).inertia_ for k in range(1,6)]\n",
    "plt.plot(np.arange(1,6), ins)\n",
    "```\n",
    "What does it means?  \n",
    "What is a good guess of the number of clusters?"
   ]
  },
  {
   "cell_type": "code",
   "execution_count": null,
   "metadata": {
    "colab": {
     "base_uri": "https://localhost:8080/",
     "height": 447
    },
    "id": "O_rBceQm0Ejl",
    "outputId": "5b370df5-7c18-4d4c-e431-67f63b83d8a7"
   },
   "outputs": [],
   "source": [
    "ins = [KMeans(k,n_init=10).fit(X).inertia_ for k in range(1,6)]\n",
    "plt.plot(np.arange(1,6), ins)\n",
    "#This is using the elbow method to choose the appropriate K for clustering\n",
    "#We want to pick the value(K) which is the elbow of the curve\n",
    "#it seems k = 2 is a good guess"
   ]
  },
  {
   "cell_type": "markdown",
   "metadata": {
    "id": "Bo5_S_AA0Ejl"
   },
   "source": [
    "##### Exercise 2\n",
    "Let  \n",
    "```python\n",
    "from sklearn.datasets import load_iris\n",
    "iris = load_iris()\n",
    "X = iris.data\n",
    "y = iris.target\n",
    "```"
   ]
  },
  {
   "cell_type": "markdown",
   "metadata": {
    "id": "9xLfQYhZ0Ejl"
   },
   "source": [
    "###### 2(a)\n",
    "Apply the $k$-means algorithm to `X` with $k=2$ and get the prediction `y_new` .  \n",
    "Plot the points (rows) in `X` with `c=y_new` .  \n",
    "(Each row is in $\\mathbb{R}^4$.  \n",
    "Just pick arbitrary two coordinates to plot the points.)  \n",
    "Print `model.inertia_` ."
   ]
  },
  {
   "cell_type": "code",
   "execution_count": null,
   "metadata": {
    "colab": {
     "base_uri": "https://localhost:8080/",
     "height": 447
    },
    "id": "vVzdpG0s0Ejl",
    "outputId": "dacb2c01-855b-49be-d282-7653e2275468"
   },
   "outputs": [],
   "source": [
    "from sklearn.datasets import load_iris\n",
    "iris = load_iris()\n",
    "X = iris.data\n",
    "y = iris.target\n",
    "\n",
    "from sklearn.cluster import KMeans\n",
    "model = KMeans(2,n_init=10)\n",
    "y_new = model.fit_predict(X)\n",
    "plt.axis('equal')\n",
    "plt.scatter(X[:,0].T,X[:,3].T,c=y_new)\n",
    "model.inertia_"
   ]
  },
  {
   "cell_type": "markdown",
   "metadata": {
    "id": "Ja_CWN9p0Ejl"
   },
   "source": [
    "###### 2(b)\n",
    "Apply the $k$-means algorithm to `X` with $k=3$ and get the prediction `y_new` .  \n",
    "Plot the points (rows) in `X` with `c=y_new` .  \n",
    "(Each row is in $\\mathbb{R}^4$.  \n",
    "Just pick arbitrary two coordinates to plot the points.)  \n",
    "Print `model.inertia_` ."
   ]
  },
  {
   "cell_type": "code",
   "execution_count": null,
   "metadata": {
    "colab": {
     "base_uri": "https://localhost:8080/",
     "height": 447
    },
    "id": "hMR61dOy0Ejl",
    "outputId": "42cf7f03-b892-46b1-b158-96e3e91f084f"
   },
   "outputs": [],
   "source": [
    "from sklearn.cluster import KMeans\n",
    "model = KMeans(3,n_init=10)\n",
    "y_new = model.fit_predict(X)\n",
    "plt.axis('equal')\n",
    "plt.scatter(X[:,0].T,X[:,3].T,c=y_new)\n",
    "model.inertia_"
   ]
  },
  {
   "cell_type": "markdown",
   "metadata": {
    "id": "018WasU60Ejl"
   },
   "source": [
    "###### 2(c)\n",
    "Run  \n",
    "```python\n",
    "ins = [KMeans(k).fit(X).inertia_ for k in range(1,6)]\n",
    "plt.plot(np.arange(1,6), ins)\n",
    "```\n",
    "What does it means?  \n",
    "What is a good guess of the number of clusters?"
   ]
  },
  {
   "cell_type": "code",
   "execution_count": null,
   "metadata": {
    "colab": {
     "base_uri": "https://localhost:8080/",
     "height": 447
    },
    "id": "5SYFXXtl0Ejm",
    "outputId": "3a419237-3ee5-4513-c982-600237e86452"
   },
   "outputs": [],
   "source": [
    "ins = [KMeans(k,n_init=10).fit(X).inertia_ for k in range(1,6)]\n",
    "plt.plot(np.arange(1,6), ins)\n",
    "#This is using the elbow method to choose the appropriate K for clustering\n",
    "#We want to pick the value(K) which is the elbow of the curve\n",
    "#it seems k = 2 is a good guess"
   ]
  },
  {
   "cell_type": "markdown",
   "metadata": {},
   "source": [
    "##### Jephian:\n",
    "  \n",
    "Indeed, `k=2` looks good.\n",
    "\n",
    "However, this is a data with three categories, so the elbow method is only to provide a clue of your choice of k ."
   ]
  },
  {
   "cell_type": "markdown",
   "metadata": {
    "id": "RG1ovi5w0Ejm"
   },
   "source": [
    "##### Exercise 3\n",
    "Let  \n",
    "```python\n",
    "arr = plt.imread('incrediville-side.jpg')\n",
    "m,n,c = arr.shape\n",
    "X = arr.reshape(-1,3)\n",
    "```"
   ]
  },
  {
   "cell_type": "markdown",
   "metadata": {
    "id": "krkVq2lT0Ejm"
   },
   "source": [
    "###### 3(a)\n",
    "Print `X.shape` .  \n",
    "What are the rows in `X` ."
   ]
  },
  {
   "cell_type": "code",
   "execution_count": null,
   "metadata": {
    "colab": {
     "base_uri": "https://localhost:8080/"
    },
    "id": "oUpzA9nJ0Ejm",
    "outputId": "727d3244-a69f-4d8e-b47f-655d9a791d4d"
   },
   "outputs": [],
   "source": [
    "arr = plt.imread('incrediville-side.jpg')\n",
    "m,n,c = arr.shape\n",
    "X = arr.reshape(-1,3)\n",
    "print(X[:,:])\n",
    "X.shape\n",
    "#rows in X is the RGB values of a pixel"
   ]
  },
  {
   "cell_type": "markdown",
   "metadata": {
    "id": "7hanEpYO0Ejm"
   },
   "source": [
    "###### 3(b)\n",
    "Apply the $k$-means algorighm to `X` and obtain `y_new` .  \n",
    "Let  \n",
    "```python\n",
    "img = (y_new == 0).reshape(m, n)\n",
    "plt.imshow(img, cmap='Greys')\n",
    "```\n",
    "Change `0` to `1` or `2` .  \n",
    "What do these pictures mean?  \n",
    "Is the black region always connected?"
   ]
  },
  {
   "cell_type": "code",
   "execution_count": null,
   "metadata": {
    "colab": {
     "base_uri": "https://localhost:8080/",
     "height": 452
    },
    "id": "vvvsXiHF0Ejm",
    "outputId": "997ed112-82a2-47a2-eb43-3c76621596b0"
   },
   "outputs": [],
   "source": [
    "arr = plt.imread('incrediville-side.jpg')\n",
    "m,n,c = arr.shape\n",
    "X = arr.reshape(-1,3)\n",
    "model = KMeans(3,n_init=10)\n",
    "y_new = model.fit_predict(X)\n",
    "img = (y_new == 0).reshape(m, n)\n",
    "plt.imshow(img, cmap='Greys')"
   ]
  },
  {
   "cell_type": "code",
   "execution_count": null,
   "metadata": {
    "colab": {
     "base_uri": "https://localhost:8080/",
     "height": 452
    },
    "id": "x-z-CKW8F3fB",
    "outputId": "3ee0c3ca-316a-4287-8a1f-b9e6ffdcebbf"
   },
   "outputs": [],
   "source": [
    "model = KMeans(3,n_init=10)\n",
    "y_new = model.fit_predict(X)\n",
    "img = (y_new == 1).reshape(m, n)\n",
    "plt.imshow(img, cmap='Greys')"
   ]
  },
  {
   "cell_type": "code",
   "execution_count": null,
   "metadata": {
    "colab": {
     "base_uri": "https://localhost:8080/",
     "height": 452
    },
    "id": "2-eK-lVkF5Hu",
    "outputId": "68ad46b8-79fc-4a15-9fe3-4614fe8995b9"
   },
   "outputs": [],
   "source": [
    "model = KMeans(3,n_init=10)\n",
    "y_new = model.fit_predict(X)\n",
    "img = (y_new == 2).reshape(m, n)\n",
    "plt.imshow(img, cmap='Greys')"
   ]
  },
  {
   "cell_type": "markdown",
   "metadata": {
    "id": "Z6GkKFPlF-lo"
   },
   "source": [
    "We can observe that the black region is not always connected.\n",
    "\n",
    "And we separate pixels into 3 parts and using 'Greys' color to show it.\n",
    "\n",
    "\n",
    "\n"
   ]
  },
  {
   "cell_type": "markdown",
   "metadata": {
    "id": "XBu_VBpF0Ejm"
   },
   "source": [
    "## Experiments"
   ]
  },
  {
   "cell_type": "markdown",
   "metadata": {
    "id": "AWJ--bkV0Ejm"
   },
   "source": [
    "##### Exercise 4\n",
    "Let  \n",
    "```python\n",
    "mu1 = np.array([2.5,0])\n",
    "cov1 = np.array([[1.1,-1],\n",
    "                [-1,1.1]])\n",
    "mu2 = np.array([-2.5,0])\n",
    "cov2 = np.array([[1.1,1],\n",
    "                [1,1.1]])\n",
    "X = np.vstack([np.random.multivariate_normal(mu1, cov1, 100), \n",
    "               np.random.multivariate_normal(mu2, cov2, 100)])\n",
    "```"
   ]
  },
  {
   "cell_type": "markdown",
   "metadata": {
    "id": "d6_R0iaM0Ejm"
   },
   "source": [
    "###### 4(a)\n",
    "Apply the $k$-means algorithm to `X` and obtain the prediction `y_new` .  \n",
    "Plot the points (rows) in `X` with `c=y_new` .  \n",
    "Plot the points (rows) in `model.cluster_centers_` with `c='r'` ."
   ]
  },
  {
   "cell_type": "code",
   "execution_count": null,
   "metadata": {
    "colab": {
     "base_uri": "https://localhost:8080/",
     "height": 452
    },
    "id": "MyG2sSp70Ejm",
    "outputId": "8ee4c86f-b9f3-4460-818a-c5f2447de6eb"
   },
   "outputs": [],
   "source": [
    "mu1 = np.array([2.5,0])\n",
    "cov1 = np.array([[1.1,-1],\n",
    "         [-1,1.1]])\n",
    "mu2 = np.array([-2.5,0])\n",
    "cov2 = np.array([[1.1,1],\n",
    "          [1,1.1]])\n",
    "X = np.vstack([np.random.multivariate_normal(mu1, cov1, 100), \n",
    "        np.random.multivariate_normal(mu2, cov2, 100)])\n",
    "model = KMeans(2,n_init=10)\n",
    "y_new = model.fit_predict(X)\n",
    "plt.scatter(*X.T,c=y_new)\n",
    "plt.scatter(model.cluster_centers_[:,0].T,model.cluster_centers_[:,1].T,c='r')"
   ]
  },
  {
   "cell_type": "markdown",
   "metadata": {
    "id": "_4zaQ2gt0Ejn"
   },
   "source": [
    "###### 4(b)\n",
    "Check if `y_new` and `model.labels_` are the same."
   ]
  },
  {
   "cell_type": "code",
   "execution_count": null,
   "metadata": {
    "colab": {
     "base_uri": "https://localhost:8080/"
    },
    "id": "aBOmo2Mw0Ejn",
    "outputId": "8b1c7f37-e7c3-4e81-c7dd-523b4aa8ddd8"
   },
   "outputs": [],
   "source": [
    "from sklearn.cluster import KMeans\n",
    "mu1 = np.array([2.5,0])\n",
    "cov1 = np.array([[1.1,-1],\n",
    "         [-1,1.1]])\n",
    "mu2 = np.array([-2.5,0])\n",
    "cov2 = np.array([[1.1,1],\n",
    "          [1,1.1]])\n",
    "X = np.vstack([np.random.multivariate_normal(mu1, cov1, 100), \n",
    "        np.random.multivariate_normal(mu2, cov2, 100)])\n",
    "model = KMeans(2,n_init=10)\n",
    "y_new = model.fit_predict(X)\n",
    "np.all(y_new == model.labels_)"
   ]
  },
  {
   "cell_type": "markdown",
   "metadata": {
    "id": "Uz_46Rke0Ejn"
   },
   "source": [
    "###### 4(c)\n",
    "Compute the inertia and compare your answer with `model.inertia_` .  \n",
    "Recall that the inertia of a clustered data is  \n",
    "$$\\sum_{i,j} \\|{\\bf x}_i - \\mu_j\\|^2,$$ \n",
    "where the summation runs through all pairs $(i,j)$ such that ${\\bf x}_i$ is in the $j$-th cluster with center $\\mu_j$."
   ]
  },
  {
   "cell_type": "code",
   "execution_count": null,
   "metadata": {
    "colab": {
     "base_uri": "https://localhost:8080/"
    },
    "id": "9VxIadCG0Ejn",
    "outputId": "65e31ce9-29a5-4010-bef6-cc1a9332506c"
   },
   "outputs": [],
   "source": [
    "for z in range(1,6): \n",
    "  model = KMeans(z, n_init=10)\n",
    "  y_new = model.fit_predict(X)\n",
    "  inertia = np.sum((X - model.cluster_centers_[y_new])**2)\n",
    "  #print(inertia)\n",
    "  x = KMeans(z,n_init=10).fit(X).inertia_\n",
    "  print(np.around(x) == np.around(inertia))"
   ]
  },
  {
   "cell_type": "markdown",
   "metadata": {},
   "source": [
    "##### Veronica:\n",
    "\n",
    "```python\n",
    "    kmean_inertia = np.sum((X - model.cluster_centers_[y_new])**2)\n",
    "    kmean_inertia == model.inertia_\n",
    "```  "
   ]
  },
  {
   "cell_type": "markdown",
   "metadata": {
    "id": "2ku4vRgL0Ejn"
   },
   "source": [
    "##### Exercise 5\n",
    "Let  \n",
    "```python\n",
    "X = 5 * np.random.randn(1000,2)\n",
    "lengths = np.linalg.norm(X, axis=1)\n",
    "band1 = (lengths > 1) & (lengths <2)  \n",
    "band2 = (lengths > 3) & (lengths <4)  \n",
    "X = X[band1 | band2, :]\n",
    "```\n",
    "Apply the $k$-means algorithm to `X` with $k=2$  \n",
    "(or other $k$ if you wish)  \n",
    "and get the prediction `y_new` .  \n",
    "Plot the points (rows) in `X` with `c=y_new` .  \n",
    "Plot the cluster centers in red.  \n",
    "Is it a good clustering?  \n",
    "Why it is good?  Or why it does not work well?"
   ]
  },
  {
   "cell_type": "code",
   "execution_count": null,
   "metadata": {
    "colab": {
     "base_uri": "https://localhost:8080/",
     "height": 447
    },
    "id": "mKSxCv2_0Ejn",
    "outputId": "6aaa7967-1ed2-4968-ecfd-8bac26e2efe0"
   },
   "outputs": [],
   "source": [
    "X = 5 * np.random.randn(1000,2)\n",
    "lengths = np.linalg.norm(X, axis=1)\n",
    "band1 = (lengths > 1) & (lengths <2)  \n",
    "band2 = (lengths > 3) & (lengths <4)  \n",
    "X = X[band1 | band2, :]\n",
    "plt.scatter(*X.T)\n",
    "model = KMeans(2,n_init=10)\n",
    "y_new = model.fit_predict(X)\n",
    "plt.axis('equal')\n",
    "plt.scatter(*X.T,c=y_new)\n",
    "plt.scatter(model.cluster_centers_[:,0].T,model.cluster_centers_[:,1].T,c = 'red')\n",
    "#since the graph is consist of two circles, if we want to separate data into two circles,\n",
    "#KMeans algorithm seems not a good choice because it's boundary always a line"
   ]
  }
 ],
 "metadata": {
  "colab": {
   "provenance": []
  },
  "kernelspec": {
   "display_name": "Python 3 (ipykernel)",
   "language": "python",
   "name": "python3"
  },
  "language_info": {
   "codemirror_mode": {
    "name": "ipython",
    "version": 3
   },
   "file_extension": ".py",
   "mimetype": "text/x-python",
   "name": "python",
   "nbconvert_exporter": "python",
   "pygments_lexer": "ipython3",
   "version": "3.9.13"
  }
 },
 "nbformat": 4,
 "nbformat_minor": 1
}
