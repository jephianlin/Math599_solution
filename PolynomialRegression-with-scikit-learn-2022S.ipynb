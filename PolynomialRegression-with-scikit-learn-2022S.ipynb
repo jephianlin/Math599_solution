{
 "cells": [
  {
   "cell_type": "markdown",
   "metadata": {},
   "source": [
    "# PolynomialRegression with scikit learn"
   ]
  },
  {
   "cell_type": "markdown",
   "metadata": {},
   "source": [
    "![Creative Commons License](https://i.creativecommons.org/l/by/4.0/88x31.png)  \n",
    "This work by Jephian Lin is licensed under a [Creative Commons Attribution 4.0 International License](http://creativecommons.org/licenses/by/4.0/)."
   ]
  },
  {
   "cell_type": "code",
   "execution_count": null,
   "metadata": {},
   "outputs": [],
   "source": [
    "import numpy as np\n",
    "import matplotlib.pyplot as plt"
   ]
  },
  {
   "cell_type": "markdown",
   "metadata": {},
   "source": [
    "## Code\n",
    "```python\n",
    "from sklearn.pipeline import make_pipeline\n",
    "from sklearn.preprocessing import PolynomialFeatures\n",
    "from sklearn.linear_model import LinearRegression\n",
    "\n",
    "def PolynomialRegression(degree=2, fit_intercept=True):\n",
    "    return make_pipeline(PolynomialFeatures(degree=degree, include_bias=False), \n",
    "                         LinearRegression(fit_intercept=fit_intercept))\n",
    "```\n",
    "\n",
    "Official Reference: [PolynomialFeatures](https://scikit-learn.org/stable/modules/generated/sklearn.preprocessing.PolynomialFeatures.html) and [make_pipeline](https://scikit-learn.org/stable/modules/generated/sklearn.pipeline.make_pipeline.html)"
   ]
  },
  {
   "cell_type": "code",
   "execution_count": null,
   "metadata": {},
   "outputs": [],
   "source": [
    "from sklearn.pipeline import make_pipeline\n",
    "from sklearn.preprocessing import PolynomialFeatures\n",
    "from sklearn.linear_model import LinearRegression\n",
    "\n",
    "def PolynomialRegression(degree=2, fit_intercept=True):\n",
    "    return make_pipeline(PolynomialFeatures(degree=degree, include_bias=False), \n",
    "                         LinearRegression(fit_intercept=fit_intercept))"
   ]
  },
  {
   "cell_type": "markdown",
   "metadata": {},
   "source": [
    "## Parameters\n",
    "- `degree`: the degree of the polynomial  \n",
    "for example, if `degree=2` and two features a and b are given  \n",
    "then a, b, a^2, a*b, b^2 are generated as the expanded features\n",
    "- `fit_intercept`: whether to calculate the intercept or not  "
   ]
  },
  {
   "cell_type": "markdown",
   "metadata": {},
   "source": [
    "## Attributes\n",
    "For `model[0]`:\n",
    "- `n_input_features`: the width of `X`  \n",
    "- `n_output_features`: the number of expanded features\n",
    "- `powers_` : an array of shape (n_output_features, n_input_features) that stores how each expanded feature is obtained\n",
    "\n",
    "For `model[1]`:\n",
    "- `coef_`: an array of shape `(n_output_features,)` that stores the coefficients for each expanded feature\n",
    "- `intercept_`: the coefficient of the constant"
   ]
  },
  {
   "cell_type": "markdown",
   "metadata": {},
   "source": [
    "## Sample data"
   ]
  },
  {
   "cell_type": "markdown",
   "metadata": {},
   "source": [
    "##### Exercise 1\n",
    "Let  \n",
    "```python\n",
    "x = np.arange(10)\n",
    "y = 0.1*x**2 + 0.2*x + 0.3 + 0.5*np.random.randn(10)\n",
    "X = x[:,np.newaxis]\n",
    "x_test = np.linspace(0,10,20)\n",
    "X_test = x_test[:,np.newaxis]\n",
    "\n",
    "model = PolynomialRegression(2)\n",
    "model.fit(X, y)\n",
    "y_new = model.predict(X_test)\n",
    "```"
   ]
  },
  {
   "cell_type": "markdown",
   "metadata": {},
   "source": [
    "###### 1(a)\n",
    "Use `plt.scatter` to plot the points with `x` and `y` .  \n",
    "Use `plt.plot( ..., c='r')` to plot the line with `x_test` and `y_new` .  \n",
    "Print `model[1].coef_` and  `model[1].intercept_` .  \n",
    "Can you guess these values by the definition of `y` ?"
   ]
  },
  {
   "cell_type": "code",
   "execution_count": null,
   "metadata": {},
   "outputs": [],
   "source": [
    "### your answer here\n",
    "x = np.arange(10)\n",
    "y = 0.1*x**2 + 0.2*x + 0.3 + 0.5*np.random.randn(10)\n",
    "X = x[:,np.newaxis]\n",
    "x_test = np.linspace(0,10,20)\n",
    "X_test = x_test[:,np.newaxis]\n",
    "\n",
    "model = PolynomialRegression(2)\n",
    "model.fit(X, y)\n",
    "y_new = model.predict(X_test)\n",
    "\n",
    "plt.scatter(x,y)\n",
    "plt.plot(X_test, y_new ,c = 'r')\n",
    "print(model[1].coef_)\n",
    "print(model[1].intercept_)"
   ]
  },
  {
   "cell_type": "markdown",
   "metadata": {},
   "source": [
    "#### Alex:\n",
    "You do not answer the question: Can you guess these values by the definition of `y`?"
   ]
  },
  {
   "cell_type": "code",
   "execution_count": null,
   "metadata": {},
   "outputs": [],
   "source": [
    "print(model[0].n_features_in_)\n",
    "print(model[0].n_output_features_)\n",
    "print(model[0].powers_)"
   ]
  },
  {
   "cell_type": "markdown",
   "metadata": {},
   "source": [
    "###### 1(b)\n",
    "Redo 1(a) with the setting `fit_intercept=False` ."
   ]
  },
  {
   "cell_type": "code",
   "execution_count": null,
   "metadata": {},
   "outputs": [],
   "source": [
    "from sklearn.pipeline import make_pipeline\n",
    "from sklearn.preprocessing import PolynomialFeatures\n",
    "from sklearn.linear_model import LinearRegression\n",
    "\n",
    "def PolynomialRegression(degree=2, fit_intercept=False):\n",
    "    return make_pipeline(PolynomialFeatures(degree=degree, include_bias=False), \n",
    "                         LinearRegression(fit_intercept=fit_intercept))"
   ]
  },
  {
   "cell_type": "code",
   "execution_count": null,
   "metadata": {},
   "outputs": [],
   "source": [
    "### your answer here\n",
    "x = np.arange(10)\n",
    "y = 0.1*x**2 + 0.2*x + 0.3 + 0.5*np.random.randn(10)\n",
    "X = x[:,np.newaxis]\n",
    "x_test = np.linspace(0,10,20)\n",
    "X_test = x_test[:,np.newaxis]\n",
    "\n",
    "model = PolynomialRegression(2)\n",
    "model.fit(X, y)\n",
    "y_new = model.predict(X_test)\n",
    "plt.scatter(x,y)\n",
    "plt.plot(X_test, y_new ,c = 'r')\n",
    "print(model[1].coef_)\n",
    "print(model[1].intercept_)\n"
   ]
  },
  {
   "cell_type": "markdown",
   "metadata": {},
   "source": [
    "#### Alex:\n",
    "You do not need to redefine the function again with default parameter `fit_intercept=False`. Instead, you can just call the function with argument `fit_intercept=False`.\n",
    "\n",
    "Notice that in each question below, you do not pass `fit_intercept` to the function, so the default value will be `False`."
   ]
  },
  {
   "cell_type": "markdown",
   "metadata": {},
   "source": [
    "##### Exercise 2\n",
    "Let  \n",
    "```python\n",
    "x1 = np.arange(5)\n",
    "X = np.vstack([x1]).T\n",
    "\n",
    "model = PolynomialFeatures(degree=3, include_bias=False)\n",
    "X_ex = model.fit_transform(X)\n",
    "```"
   ]
  },
  {
   "cell_type": "markdown",
   "metadata": {},
   "source": [
    "###### 2(a)\n",
    "Understand the relation between `X` and `X_ex` .  \n",
    "Can you generate `X_ex` by boradcasting instead of the `PolynomialFeatures` function?"
   ]
  },
  {
   "cell_type": "code",
   "execution_count": null,
   "metadata": {},
   "outputs": [],
   "source": [
    "### your answer here\n",
    "x1 = np.arange(5)\n",
    "X = np.vstack([x1]).T\n",
    "\n",
    "model = PolynomialFeatures(degree=3, include_bias=False)\n",
    "X_ex = model.fit_transform(X)\n",
    "print(X)\n",
    "print(X_ex)"
   ]
  },
  {
   "cell_type": "markdown",
   "metadata": {},
   "source": [
    "#### Alex:\n",
    "You can use `X**np.arange(1,4)` to generate the same result as `X_ex`."
   ]
  },
  {
   "cell_type": "markdown",
   "metadata": {},
   "source": [
    "###### 2(b)\n",
    "Switch the setting to `include_bias=True` .  \n",
    "Understand the relation between `X` and `X_ex` .  "
   ]
  },
  {
   "cell_type": "code",
   "execution_count": null,
   "metadata": {},
   "outputs": [],
   "source": [
    "### your answer here\n",
    "x1 = np.arange(5)\n",
    "X = np.vstack([x1]).T\n",
    "\n",
    "model = PolynomialFeatures(degree=3, include_bias=True)\n",
    "X_ex = model.fit_transform(X)\n",
    "print(X)\n",
    "print(X_ex)"
   ]
  },
  {
   "cell_type": "markdown",
   "metadata": {},
   "source": [
    "###### 2(c)\n",
    "Let  \n",
    "```python\n",
    "x1 = np.arange(5)\n",
    "x2 = np.arange(5,10)\n",
    "X = np.vstack([x1,x2]).T\n",
    "\n",
    "model = PolynomialFeatures(degree=2, include_bias=False)\n",
    "X_ex = model.fit_transform(X)\n",
    "```\n",
    "Print `model.powers_` and understand the relation between `X` and `X_ex` .  "
   ]
  },
  {
   "cell_type": "code",
   "execution_count": null,
   "metadata": {},
   "outputs": [],
   "source": [
    "### your answer here\n",
    "x1 = np.arange(5)\n",
    "x2 = np.arange(5,10)\n",
    "X = np.vstack([x1,x2]).T\n",
    "\n",
    "model = PolynomialFeatures(degree=2, include_bias=False)\n",
    "X_ex = model.fit_transform(X)\n",
    "print(model.powers_)\n",
    "print(X)\n",
    "print(X_ex)\n",
    "#X = |x1|x2|\n",
    "#X_ex = |x1|x2|x1**2|x1*x2|x2**2|\n",
    "#model.powers_ means X_ex consists of x1 and x2 舉例來說:[1 0]是一個x1跟0個x2組成"
   ]
  },
  {
   "cell_type": "markdown",
   "metadata": {},
   "source": [
    "##### Exercise 3\n",
    "Let  \n",
    "```python\n",
    "r = 100 * np.random.rand(100)\n",
    "area = 4*np.pi*r**2 + 0.5*np.random.randn(100)\n",
    "```\n",
    "be a collection of data of 100 balls,  \n",
    "where `r` stores the radii and  \n",
    "`area` stores the surface areas.  \n",
    "Suppose you knows nothing about the formula of the surface area of a sphere.  \n",
    "How would you guess their relation?"
   ]
  },
  {
   "cell_type": "code",
   "execution_count": null,
   "metadata": {
    "scrolled": true
   },
   "outputs": [],
   "source": [
    "### your answer here\n",
    "r = 100 * np.random.rand(100)\n",
    "area = 4*np.pi*r**2 + 0.5*np.random.randn(100)\n",
    "R = r[:,np.newaxis]\n",
    "r_test = np.linspace(0,100,30)\n",
    "R_test = r_test[:,np.newaxis]\n",
    "\n",
    "model = PolynomialRegression(2) \n",
    "model.fit(R, area)\n",
    "area_test = model.predict(R_test)\n",
    "plt.scatter(r,area)\n",
    "plt.plot(R_test,area_test,c='r')\n",
    "\n",
    "print(model[1].coef_)\n",
    "print(model[1].intercept_)\n",
    "#The print out 12.5 which again is quite close 4*pi"
   ]
  },
  {
   "cell_type": "markdown",
   "metadata": {},
   "source": [
    "#### Alex:\n",
    "In general, if you do not know the formula, you should include the intercept term.\n",
    "In fact, you do not even know which degree you should pick, so maybe you can try various degree and choose the reasonable one."
   ]
  },
  {
   "cell_type": "markdown",
   "metadata": {},
   "source": [
    "##### Exercise 4\n",
    "Let  \n",
    "```python\n",
    "r = 100 * np.random.rand(100)\n",
    "volume = 4/3*np.pi*r**3 + 0.5*np.random.randn(100)\n",
    "```\n",
    "be a collection of data of 100 balls,  \n",
    "where `r` stores the radii and  \n",
    "`volume` stores the volumes.  \n",
    "Suppose you knows nothing about the formula of the surface area of a sphere.  \n",
    "How would you guess their relation?"
   ]
  },
  {
   "cell_type": "code",
   "execution_count": null,
   "metadata": {},
   "outputs": [],
   "source": [
    "### your answer here\n",
    "r = 100 * np.random.rand(100)\n",
    "R = r[:,np.newaxis]\n",
    "volume = 4/3*np.pi*r**3 + 0.5*np.random.randn(100)\n",
    "\n",
    "model = PolynomialRegression(3)\n",
    "model.fit(R, volume)\n",
    "coefs = model[1].coef_,\n",
    "intercept = model[1].intercept_\n",
    "print(intercept)\n",
    "print(coefs)\n",
    "# 4.18  which again is quite close 4/3*pi"
   ]
  },
  {
   "cell_type": "markdown",
   "metadata": {},
   "source": [
    "#### Alex:\n",
    "Similar to previous question, you should pass the argument `fit_intercept=True`."
   ]
  },
  {
   "cell_type": "markdown",
   "metadata": {},
   "source": [
    "## Experiments"
   ]
  },
  {
   "cell_type": "markdown",
   "metadata": {},
   "source": [
    "##### Exercise 5\n",
    "Let  \n",
    "```python\n",
    "x = np.arange(10)\n",
    "y = 0.1*x**2 + 0.2*x + 0.3 + 0.5*np.random.randn(10)\n",
    "X = x[:,np.newaxis]\n",
    "x_test = np.linspace(0,10,20)\n",
    "X_test = x_test[:,np.newaxis]\n",
    "```\n",
    "For `k = 0, ..., 4`, run the polynomial regression model with `degree=k`.  \n",
    "Let `scores` be a list storing their scores.  \n",
    "Plot the scores.  \n",
    "Which degree is an appropriate guess?"
   ]
  },
  {
   "cell_type": "code",
   "execution_count": null,
   "metadata": {},
   "outputs": [],
   "source": [
    "### your answer here\n",
    "from sklearn.metrics import mean_absolute_error\n",
    "\n",
    "x = np.arange(10)\n",
    "y = 0.1*x**2 + 0.2*x + 0.3 + 0.5*np.random.randn(10)\n",
    "X = x[:,np.newaxis]\n",
    "x_test = np.linspace(0,10,20)\n",
    "X_test = x_test[:,np.newaxis]\n",
    "y_test = 0.1*x_test**2 + 0.2*x_test + 0.3 + 0.5*np.random.randn(20)\n",
    "\n",
    "scores = []\n",
    "coeffs = []\n",
    "\n",
    "for k in range(1, 5):\n",
    "    model = PolynomialRegression(k)\n",
    "    model.fit(X, y)\n",
    "    coeffs.append(model[1].coef_)\n",
    "    y_pred = model.predict(X_test)\n",
    "    scores.append(mean_absolute_error(y_test, y_pred))\n",
    "\n",
    "\n",
    "for i in range(4):\n",
    "    print(i+1, scores[i], coeffs[i])\n",
    "    \n",
    "#the best score was correctly achieved with degree of 2"
   ]
  },
  {
   "cell_type": "markdown",
   "metadata": {},
   "source": [
    "#### Alex:\n",
    "Usually, you will not have `y_test` and you cannot generate it by yourself since you do not know the actual formula, so you should use your training data to calculate the scores. "
   ]
  },
  {
   "cell_type": "markdown",
   "metadata": {},
   "source": [
    "##### Exercise 6\n",
    "Let  \n",
    "```python\n",
    "x = np.arange(10)\n",
    "y = 0.1*x**2 + 0.2*x + 0.3 + 0.5*np.random.randn(10)\n",
    "X = x[:,np.newaxis]\n",
    "\n",
    "model = PolynomialRegression(2)\n",
    "model.fit(X, y)\n",
    "y_new = model.predict(X)\n",
    "\n",
    "a0 = model[1].intercept_\n",
    "a1,a2 = model[1].coef_\n",
    "```\n",
    "The prediction `y_new` is supposed to be the same as `a0 + a1*x + a2*x**2` .  \n",
    "Check if it is true."
   ]
  },
  {
   "cell_type": "code",
   "execution_count": null,
   "metadata": {},
   "outputs": [],
   "source": [
    "### your answer here\n",
    "x = np.arange(10)\n",
    "y = 0.1*x**2 + 0.2*x + 0.3 + 0.5*np.random.randn(10)\n",
    "X = x[:,np.newaxis]\n",
    "\n",
    "model = PolynomialRegression(2)\n",
    "model.fit(X, y)\n",
    "y_new = model.predict(X)\n",
    "\n",
    "a0 = model[1].intercept_\n",
    "a1,a2 = model[1].coef_\n",
    "print(y_new-(a0 + a1*x+a2*x**2))\n",
    "#It is true about y_new = a0 + a1*x + a2*x**2"
   ]
  }
 ],
 "metadata": {
  "kernelspec": {
   "display_name": "Python 3 (ipykernel)",
   "language": "python",
   "name": "python3"
  },
  "language_info": {
   "codemirror_mode": {
    "name": "ipython",
    "version": 3
   },
   "file_extension": ".py",
   "mimetype": "text/x-python",
   "name": "python",
   "nbconvert_exporter": "python",
   "pygments_lexer": "ipython3",
   "version": "3.10.4"
  }
 },
 "nbformat": 4,
 "nbformat_minor": 4
}
