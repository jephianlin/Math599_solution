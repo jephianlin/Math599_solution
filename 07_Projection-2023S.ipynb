{
 "cells": [
  {
   "cell_type": "markdown",
   "metadata": {
    "id": "JETHOjMyXFdK"
   },
   "source": [
    "# Projection"
   ]
  },
  {
   "cell_type": "markdown",
   "metadata": {
    "id": "LE36jkfuXFda"
   },
   "source": [
    "![Creative Commons License](https://i.creativecommons.org/l/by/4.0/88x31.png)  \n",
    "This work by Jephian Lin is licensed under a [Creative Commons Attribution 4.0 International License](http://creativecommons.org/licenses/by/4.0/)."
   ]
  },
  {
   "cell_type": "code",
   "execution_count": null,
   "metadata": {
    "id": "I2A9xzzlXFdd"
   },
   "outputs": [],
   "source": [
    "import numpy as np\n",
    "import matplotlib.pyplot as plt\n",
    "from mpl_toolkits import mplot3d"
   ]
  },
  {
   "cell_type": "markdown",
   "metadata": {
    "id": "k3eiDLjPXFdh"
   },
   "source": [
    "## Main idea"
   ]
  },
  {
   "cell_type": "markdown",
   "metadata": {
    "id": "YppJ6J3MXFdi"
   },
   "source": [
    "The **projection** of a vector ${\\bf b}$ onto the column space of $A$ is  \n",
    "$$A(A^\\top A)^{-1}A^\\top {\\bf b}.$$"
   ]
  },
  {
   "cell_type": "markdown",
   "metadata": {
    "id": "on61YENfXFdk"
   },
   "source": [
    "## Side stories"
   ]
  },
  {
   "cell_type": "markdown",
   "metadata": {
    "id": "B9Un9_L3XFdl"
   },
   "source": [
    "- nearest solution\n",
    "- shortest solution\n",
    "- regression"
   ]
  },
  {
   "cell_type": "markdown",
   "metadata": {
    "id": "3DIC3HJHXFdn"
   },
   "source": [
    "## Experiments"
   ]
  },
  {
   "cell_type": "markdown",
   "metadata": {
    "id": "ARmnf9HvXFdp"
   },
   "source": [
    "###### Exercise 1\n",
    "Let  \n",
    "```python\n",
    "A = np.array([[1,1], \n",
    "              [-1,0], \n",
    "              [0,-1]])\n",
    "b = np.array([1,0,0])\n",
    "```"
   ]
  },
  {
   "cell_type": "markdown",
   "metadata": {
    "id": "eZKcnKTkXFdr"
   },
   "source": [
    "###### 1(a)\n",
    "Find the projection of ${\\bf b}$ onto the column space of $A$.  \n",
    "Compare your answer to L3Q5."
   ]
  },
  {
   "cell_type": "code",
   "execution_count": null,
   "metadata": {
    "colab": {
     "base_uri": "https://localhost:8080/"
    },
    "id": "M9h7ievsXFdt",
    "outputId": "abcfdd4e-1df2-427c-83d4-61e5bed98215"
   },
   "outputs": [],
   "source": [
    "### your answer here\n",
    "import numpy as np\n",
    "A = np.array([[1,1], \n",
    "              [-1,0], \n",
    "              [0,-1]])\n",
    "b = np.array([1,0,0])\n",
    "prob = A.dot(np.linalg.inv(A.T.dot(A))).dot(A.T).dot(b)\n",
    "print (prob)\n"
   ]
  },
  {
   "cell_type": "markdown",
   "metadata": {
    "id": "9FUIparyXFdu"
   },
   "source": [
    "###### 1(b)\n",
    "Draw the grid using the columns of $A$.  \n",
    "Draw a vector in blue for ${\\bf b}$.  \n",
    "Draw a vector in red for its projection.  \n",
    "Does the red vector lies on the grid?  \n",
    "Draw a vector in green from the head of the red vector to the head of the blue vector.  \n",
    "Is the green vector orthogonal to the grid?  "
   ]
  },
  {
   "cell_type": "code",
   "execution_count": null,
   "metadata": {
    "colab": {
     "base_uri": "https://localhost:8080/",
     "height": 277
    },
    "id": "zdqqWkK9XFdv",
    "outputId": "b72b8bed-1793-43f0-b888-2c4777ab51c1"
   },
   "outputs": [],
   "source": [
    "### your answer here\n",
    "import numpy as np\n",
    "import matplotlib.pyplot as plt\n",
    "from mpl_toolkits import mplot3d\n",
    "A = np.array([[1,1], \n",
    "        [-1,0], \n",
    "        [0,-1]])\n",
    "b = np.array([1,0,0])\n",
    "\n",
    "ax = plt.axes(projection='3d')\n",
    "ax.set_xlim(-3,3)\n",
    "ax.set_ylim(-3,3)\n",
    "ax.set_zlim(-3,3)\n",
    "\n",
    "grid = np.meshgrid(np.arange(5), np.arange(5))\n",
    "vs = np.vstack([grid[0].ravel(), grid[1].ravel()])\n",
    "cspace = A.dot(vs)\n",
    "ax.scatter(*cspace)\n",
    "\n",
    "ATAinv = np.linalg.inv(A.T.dot(A))\n",
    "projb = A.dot(ATAinv).dot(A.T).dot(b)\n",
    "ax.quiver(0, 0, 0, *b, color='b')\n",
    "ax.quiver(0, 0, 0, *projb, color='r')\n",
    "ax.quiver(*projb, *(b - projb), color='g')\n"
   ]
  },
  {
   "cell_type": "markdown",
   "metadata": {
    "id": "PLXbCIwa0kCp"
   },
   "source": [
    "Does the red vector lies on the grid ? \n",
    "*  Yes but id doesnt match any vertex of the grid.\n",
    "\n",
    "Is the green vector orthogonal to the grid ?\n",
    "* yes (By definition of projection)"
   ]
  },
  {
   "cell_type": "markdown",
   "metadata": {
    "id": "jVe0KLQBXFdv"
   },
   "source": [
    "###### 1(c)\n",
    "It looks like the equation $A{\\bf x} = {\\bf b}$ is inconsistent (and has no solution).  \n",
    "Find ${\\bf x}$ such that $\\|A{\\bf x} - {\\bf b}\\|$ is minimized."
   ]
  },
  {
   "cell_type": "code",
   "execution_count": null,
   "metadata": {
    "colab": {
     "base_uri": "https://localhost:8080/"
    },
    "id": "DCoy46ChXFdw",
    "outputId": "6e138d78-27cb-4aaf-9565-2ac86c3c68c1"
   },
   "outputs": [],
   "source": [
    "import numpy as np\n",
    "import matplotlib.pyplot as plt\n",
    "from mpl_toolkits import mplot3d\n",
    "A = np.array([[1,1], \n",
    "        [-1,0], \n",
    "        [0,-1]])\n",
    "b = np.array([1,0,0])\n",
    "ans = np.linalg.inv((A.T.dot(A))).dot(A.T).dot(b)\n",
    "print(ans)"
   ]
  },
  {
   "cell_type": "markdown",
   "metadata": {
    "id": "CZ5stKBwXFdx"
   },
   "source": [
    "## Exercises"
   ]
  },
  {
   "cell_type": "markdown",
   "metadata": {
    "id": "Szzoufn_XFdx"
   },
   "source": [
    "###### Exercise 2\n",
    "Let  \n",
    "```python\n",
    "x = np.array([1,2,3])\n",
    "y = np.array([1.1,1.9,3.1])\n",
    "A = np.vstack([np.ones_like(x), x]).T\n",
    "```"
   ]
  },
  {
   "cell_type": "markdown",
   "metadata": {
    "id": "JnMicZDjXFdy"
   },
   "source": [
    "###### 2(a)\n",
    "Find ${\\bf c}$ such that $\\|A{\\bf c} - {\\bf y}\\|$ is minimized."
   ]
  },
  {
   "cell_type": "code",
   "execution_count": null,
   "metadata": {
    "colab": {
     "base_uri": "https://localhost:8080/"
    },
    "id": "ofGicE6GXFdy",
    "outputId": "41ca71a6-c93a-4c04-94b2-a28b72ebfd31"
   },
   "outputs": [],
   "source": [
    "x = np.array([1,2,3])\n",
    "y = np.array([1.1,1.9,3.1])\n",
    "A = np.vstack([np.ones_like(x), x]).T\n",
    "c = np.linalg.inv(A.T.dot(A)).dot(A.T).dot(y)\n",
    "c"
   ]
  },
  {
   "cell_type": "markdown",
   "metadata": {
    "id": "U1f8b6r8XFdz"
   },
   "source": [
    "###### 2(b)\n",
    "Let $f(x) = 1.5 + 0.5 x$.  \n",
    "Find a vector ${\\bf c}\\in\\mathbb{R}^2$ such that \n",
    "$$A{\\bf c} = \\begin{bmatrix} f(1) \\\\ f(2) \\\\ f(3) \\end{bmatrix}.$$"
   ]
  },
  {
   "cell_type": "code",
   "execution_count": null,
   "metadata": {
    "colab": {
     "base_uri": "https://localhost:8080/"
    },
    "id": "yuKJHPobXFdz",
    "outputId": "55e0e193-df48-4ed5-9819-7f68c9daa4af"
   },
   "outputs": [],
   "source": [
    "x = np.array([1,2,3])\n",
    "A = np.vstack([np.ones_like(x), x]).T\n",
    "c = np.array([1.5,0.5]).reshape(2,1)\n",
    "np.dot(A,c)"
   ]
  },
  {
   "cell_type": "markdown",
   "metadata": {
    "id": "qfdKXq8OXFd0"
   },
   "source": [
    "###### 2(c)\n",
    "Let $f(x) = c_0 + c_1x$.  \n",
    "Find the coefficients $c_0$ and $c_1$ such that  \n",
    "$$\\sum_{i=0}^2 (f(x_i) - y_i)^2$$\n",
    "is minimized."
   ]
  },
  {
   "cell_type": "code",
   "execution_count": null,
   "metadata": {
    "colab": {
     "base_uri": "https://localhost:8080/"
    },
    "id": "amFtgzW1XFd0",
    "outputId": "8b0ab134-805f-436d-d1bd-08d859148e90"
   },
   "outputs": [],
   "source": [
    "x = np.array([1,2,3])\n",
    "y = np.array([1.1,1.9,3.1])\n",
    "A = np.vstack([np.ones_like(x), x]).T\n",
    "c = np.linalg.inv(A.T.dot(A)).dot(A.T).dot(y)\n",
    "print(\"c0=\",c[0])\n",
    "print(\"c1=\",c[1])"
   ]
  },
  {
   "cell_type": "markdown",
   "metadata": {
    "id": "xHeyiMIxXFd1"
   },
   "source": [
    "###### 2(d)\n",
    "Plot the points $(x_i,y_i)$ in blue.  \n",
    "Plot the points $(x_i,f(x_i))$ in red, where $f(x)$ is the one you found in 2(c).  "
   ]
  },
  {
   "cell_type": "code",
   "execution_count": null,
   "metadata": {
    "colab": {
     "base_uri": "https://localhost:8080/",
     "height": 282
    },
    "id": "2ymi-dmUXFd1",
    "outputId": "4bbd86fc-6f69-4728-85f2-00820a2e9803"
   },
   "outputs": [],
   "source": [
    "x = np.array([1,2,3])\n",
    "y = np.array([1.1,1.9,3.1])\n",
    "A = np.vstack([np.ones_like(x), x]).T\n",
    "\n",
    "x = A[:,1]\n",
    "plt.axis('equal')\n",
    "plt.scatter(x, y, c='b')\n",
    "\n",
    "new_x = np.linspace(0, 5, 10)\n",
    "new_y = c[0] + c[1]*new_x\n",
    "#plt.plot(new_x, new_y, c='red')\n",
    "plt.scatter(new_x, new_y, c='red')"
   ]
  },
  {
   "cell_type": "markdown",
   "metadata": {},
   "source": [
    "#####  Veronica:\n",
    "\n",
    "This main idea is that we want to know whether the value of $f(x_i)$ is close to the value of $y_i$ or not.\n",
    "\n",
    "```python\n",
    "%matplotlib inline\n",
    "fxi = c[0]*np.ones_like(x)+c[1]*x\n",
    "\n",
    "plt.axis('equal')\n",
    "plt.scatter(*np.vstack([x, y]), color='blue')\n",
    "plt.scatter(*np.vstack([x, fxi]), color='red')\n",
    "```"
   ]
  },
  {
   "cell_type": "markdown",
   "metadata": {
    "id": "cutB4yklXFd2"
   },
   "source": [
    "###### Exercise 3\n",
    "Let  \n",
    "```python\n",
    "x = np.array([1,2,3,4,5])\n",
    "y = np.array([2.7,4.8,7.5,10,13.1])\n",
    "A = np.vstack([np.ones_like(x), x, x**2]).T\n",
    "```"
   ]
  },
  {
   "cell_type": "markdown",
   "metadata": {
    "id": "wl21YLotXFd2"
   },
   "source": [
    "###### 3(a)\n",
    "Find ${\\bf c}$ such that $\\|A{\\bf c} - {\\bf y}\\|$ is minimized."
   ]
  },
  {
   "cell_type": "code",
   "execution_count": null,
   "metadata": {
    "colab": {
     "base_uri": "https://localhost:8080/"
    },
    "id": "Uv9D0uLFXFd3",
    "outputId": "dc6b04ae-417c-475e-e07e-eaf1a194dc43"
   },
   "outputs": [],
   "source": [
    "x = np.array([1,2,3,4,5])\n",
    "y = np.array([2.7,4.8,7.5,10,13.1])\n",
    "A = np.vstack([np.ones_like(x), x, x**2]).T\n",
    "\n",
    "sol4 = np.linalg.inv(A.T.dot(A))\n",
    "sol_final4 = sol4.dot(A.T).dot(y)\n",
    "c = sol_final4\n",
    "print(c)"
   ]
  },
  {
   "cell_type": "markdown",
   "metadata": {
    "id": "_JNuEGwzXFd3"
   },
   "source": [
    "###### 3(b)\n",
    "Let $f(x) = 0.5 + 2 x + 0.1x^2$.  \n",
    "Find a vector ${\\bf v}\\in\\mathbb{R}^3$ such that \n",
    "$$A{\\bf c} = \\begin{bmatrix} f(1) \\\\ f(2) \\\\ f(3) \\\\ f(4) \\\\ f(5) \\end{bmatrix}.$$"
   ]
  },
  {
   "cell_type": "code",
   "execution_count": null,
   "metadata": {
    "colab": {
     "base_uri": "https://localhost:8080/"
    },
    "id": "Eg1oh7jjXFd3",
    "outputId": "4fc651fa-1c7e-4d17-f3b2-a6f9eb389f3f"
   },
   "outputs": [],
   "source": [
    "x = np.array([1,2,3,4,5])\n",
    "A = np.vstack([np.ones_like(x), x, x**2]).T\n",
    "\n",
    "v = np.array([0.5, 2, 0.1]).reshape(3,1)\n",
    "print(v)"
   ]
  },
  {
   "cell_type": "code",
   "execution_count": null,
   "metadata": {
    "colab": {
     "base_uri": "https://localhost:8080/"
    },
    "id": "4GoJpXOlwfCC",
    "outputId": "7c2e8968-c4d3-42b0-bf9a-890605ab1201"
   },
   "outputs": [],
   "source": [
    "A.dot(v)\n",
    "print(A.dot(v))"
   ]
  },
  {
   "cell_type": "markdown",
   "metadata": {},
   "source": [
    "##### Veronica:\n",
    "\n",
    "The following code is simpler.\n",
    "```python\n",
    "v = np.array([0.5, 2, 0.1])\n",
    "A.dot(v)\n",
    "```"
   ]
  },
  {
   "cell_type": "markdown",
   "metadata": {
    "id": "pb4jxvGpXFd4"
   },
   "source": [
    "###### 3(c)\n",
    "Let $f(x) = c_0 + c_1x + c_2x^2$.  \n",
    "Find the coefficients $c_0,c_1,c_2$ such that  \n",
    "$$\\sum_{i=0}^2 (f(x_i) - y_i)^2$$\n",
    "is minimized."
   ]
  },
  {
   "cell_type": "code",
   "execution_count": null,
   "metadata": {
    "colab": {
     "base_uri": "https://localhost:8080/"
    },
    "id": "UBFsQtt5XFd4",
    "outputId": "a53861e4-a3a2-4046-dec2-32afb33789bd"
   },
   "outputs": [],
   "source": [
    "sol5 = np.linalg.inv(A.T.dot(A))\n",
    "sol_final5 = sol5.dot(A.T).dot(y)\n",
    "#print(sol_final3)\n",
    "c0 = sol_final5[0]\n",
    "c1 = sol_final5[1]\n",
    "c2 = sol_final5[2]\n",
    "print(c0)\n",
    "print(c1)\n",
    "print(c2)"
   ]
  },
  {
   "cell_type": "markdown",
   "metadata": {},
   "source": [
    "##### Jephian:\n",
    "\n",
    "One interesting syntax in Python is you may do `c0,c1,c2 = minfcn`."
   ]
  },
  {
   "cell_type": "markdown",
   "metadata": {
    "id": "pG46I8NqXFd5"
   },
   "source": [
    "###### 3(d)\n",
    "Plot the points $(x_i,y_i)$ in blue.  \n",
    "Plot the points $(x_i,f(x_i))$ in red, where $f(x)$ is the one you found in 3(c).  "
   ]
  },
  {
   "cell_type": "code",
   "execution_count": null,
   "metadata": {
    "colab": {
     "base_uri": "https://localhost:8080/",
     "height": 282
    },
    "id": "oxO2wRLlXFd5",
    "outputId": "19bb0738-32c9-400d-d986-fa8d51dce4cd"
   },
   "outputs": [],
   "source": [
    "x = np.array([1,2,3,4,5])\n",
    "y = np.array([2.7,4.8,7.5,10,13.1])\n",
    "A = np.vstack([np.ones_like(x), x, x**2]).T\n",
    "\n",
    "x = A[:,1]\n",
    "plt.axis('equal')\n",
    "plt.scatter(x, y, c='b')\n",
    "\n",
    "new_x = np.linspace(0, 5, 10)\n",
    "new_y = sol_final5[0] + sol_final5[1]*new_x\n",
    "#plt.plot(new_x, new_y, c='red')\n",
    "plt.scatter(new_x, new_y, c='red')"
   ]
  },
  {
   "cell_type": "markdown",
   "metadata": {},
   "source": [
    "##### Veronica:\n",
    "\n",
    "This main idea is that we want to know whether the value of $f(x_i)$ is close to the value of $y_i$ or not.\n",
    "```python\n",
    "fxi = c0 + c1*x + c2*x**2\n",
    "%matplotlib inline\n",
    "plt.axis('equal')\n",
    "plt.scatter(*np.vstack([x, y]), c='b')\n",
    "plt.scatter(*np.vstack([x, fxi]), c='r')\n",
    "```"
   ]
  },
  {
   "cell_type": "markdown",
   "metadata": {
    "id": "T9_2K76DXFd5"
   },
   "source": [
    "##### Exercise 4\n",
    "Let  \n",
    "```python\n",
    "u = np.array([1,1])\n",
    "```"
   ]
  },
  {
   "cell_type": "markdown",
   "metadata": {
    "id": "j4DcSJjJXFd6"
   },
   "source": [
    "###### 4(a)\n",
    "Find the projection matrix $P$ such that $P{\\bf x}$ is the projection of ${\\bf x}$ onto the line spanned by ${\\bf u}$.  \n",
    "Can you find a formula of $P$ by ${\\bf u}$?"
   ]
  },
  {
   "cell_type": "code",
   "execution_count": null,
   "metadata": {
    "colab": {
     "base_uri": "https://localhost:8080/",
     "height": 282
    },
    "id": "nKsmkK-y8CTy",
    "outputId": "008a0357-3fd4-4d59-ad5a-dc31e3d6c0c9"
   },
   "outputs": [],
   "source": [
    "u = np.array([1,1]) \n",
    "P = np.array([[1,1],[1,1]]) /2\n",
    "x = np.array([1,0])\n",
    "projv = P.dot(x)\n",
    "plt.arrow(0, 0, *u, color='k', head_width=0.05, length_includes_head=True)\n",
    "plt.arrow(0, 0, *x, color='b', head_width=0.05, length_includes_head=True)\n",
    "plt.arrow(0, 0, *projv, color='r', \n",
    "          linestyle=':', head_width=0.05, length_includes_head=True)\n",
    "plt.arrow(0.5,0.5,0.5,-0.5,linestyle='--')\n",
    "plt.axis('equal')"
   ]
  },
  {
   "cell_type": "code",
   "execution_count": null,
   "metadata": {
    "colab": {
     "base_uri": "https://localhost:8080/"
    },
    "id": "T0jRcJCWaWth",
    "outputId": "928e8b78-d076-47a1-83a7-2bd6c6a880a8"
   },
   "outputs": [],
   "source": [
    "P"
   ]
  },
  {
   "cell_type": "markdown",
   "metadata": {
    "id": "WbfHB5ZHuh5E"
   },
   "source": [
    "We create a linear transformation matrix by using vector (1,0) and (0,1). For them we know that the result is suposed to be (0.5, 0.5) so we put them in columns and check it works correctly. (In the provided graph change x to test for different values)"
   ]
  },
  {
   "cell_type": "markdown",
   "metadata": {},
   "source": [
    "##### Veronica:\n",
    "\n",
    "The following code is from the math concept.\n",
    "```python\n",
    "u = np.array([1,1]).reshape(2,1)\n",
    "ut = u.T\n",
    "utinv = 1/u.T.dot(u)\n",
    "P = u.dot(utinv).dot(ut)\n",
    "P\n",
    "```\n",
    "\n",
    "\n",
    "##### Jephian:\n",
    "When projecting to a line spanned by ${\\\\bf u}$,\n",
    "the projection matrix is $\\frac{1}{\\|{\\bf u}\\|^2}{\\bf u}{\\bf u}^\\top$ since ${\\bf u}^\\top {\\bf v} = \\langle{\\bf v},{\\bf u}\\rangle$."
   ]
  },
  {
   "cell_type": "markdown",
   "metadata": {
    "id": "ogPYO--dXFd7"
   },
   "source": [
    "###### 4(b)\n",
    "Let  \n",
    "```python\n",
    "u_hat = u / np.linalg.norm(u)\n",
    "```\n",
    "be a vector of length 1.  \n",
    "Check if the $P$ for $\\hat{\\bf u}$ is the same as the $P$ for ${\\bf u}$.  \n",
    "Can you find a formula of $P$ by $\\hat{\\bf u}$?"
   ]
  },
  {
   "cell_type": "code",
   "execution_count": null,
   "metadata": {
    "colab": {
     "base_uri": "https://localhost:8080/",
     "height": 265
    },
    "id": "cBfjlPkpXFd7",
    "outputId": "352803e3-94b5-4fe1-f259-cdb7219b6936"
   },
   "outputs": [],
   "source": [
    "### your answer here\n",
    "u_hat = u / np.linalg.norm(u)\n",
    "x = np.array([1,0])\n",
    "projvc = (x.dot(u_hat))*u_hat\n",
    "projv = P.dot(x)\n",
    "plt.arrow(0, 0, *u_hat, color='k', head_width=0.05, length_includes_head=True)\n",
    "plt.arrow(0, 0, *x, color='b', head_width=0.05, length_includes_head=True)\n",
    "plt.arrow(0, 0, *projv, color='r', \n",
    "          linestyle=':', head_width=0.05, length_includes_head=True)\n",
    "plt.arrow(0, 0, *projvc, color='y', \n",
    "          linestyle=':')\n",
    "plt.arrow(0.5,0.5,0.5,-0.5,linestyle='--')\n",
    "plt.axis('equal');"
   ]
  },
  {
   "cell_type": "markdown",
   "metadata": {
    "id": "j6HMajRUwLIR"
   },
   "source": [
    "The P matrix is the same as in the last case, because the line is the same but the vector is scaled. We find the P matrix the same way. In this graph we can check that that the P matrix does corectly the same as previous way (Red: P result, Yelow: reference)"
   ]
  },
  {
   "cell_type": "markdown",
   "metadata": {},
   "source": [
    "##### Jephian:\n",
    "The formula is simply $\\hat{\\bf u}\\hat{\\bf u}^\\top$.\n",
    "Since $\\hat{\\bf u} = \\frac{1}{\\|{\\bf u}\\|}{\\bf u}$, the two projection matrices\n",
    "$$\\hat{\\bf u}\\hat{\\bf u}^\\top = \\frac{1}{\\|{\\bf u}\\|^2}{\\bf u}{\\bf u}^\\top$$\n",
    "are the same."
   ]
  },
  {
   "cell_type": "markdown",
   "metadata": {
    "id": "hi9h40hSXFd8"
   },
   "source": [
    "#### Remark\n",
    "Think about the reasons behind the main idea.  \n",
    "1. One may write ${\\bf b} = {\\bf p} + {\\bf h}$ such that ${\\bf p}\\in\\operatorname{Col}(A)$ and ${\\bf h}\\perp\\operatorname{Col}(A)$.  This means the following:  \n",
    "    - ${\\bf p} = A{\\bf x}$ for some ${\\bf x}$\n",
    "    - $A^\\top {\\bf h} = {\\bf 0}$\n",
    "2. Then $A^\\top {\\bf b} = A^\\top{\\bf p} = A^\\top A{\\bf x}$ for some ${\\bf x}$.\n",
    "3. $(A^\\top A)^{-1}A^\\top{\\bf b} = {\\bf x}$\n",
    "4. $A(A^\\top A)^{-1}A^\\top{\\bf b} = A{\\bf x} = {\\bf p}$ is the projection."
   ]
  }
 ],
 "metadata": {
  "colab": {
   "provenance": []
  },
  "kernelspec": {
   "display_name": "Python 3 (ipykernel)",
   "language": "python",
   "name": "python3"
  },
  "language_info": {
   "codemirror_mode": {
    "name": "ipython",
    "version": 3
   },
   "file_extension": ".py",
   "mimetype": "text/x-python",
   "name": "python",
   "nbconvert_exporter": "python",
   "pygments_lexer": "ipython3",
   "version": "3.9.13"
  }
 },
 "nbformat": 4,
 "nbformat_minor": 1
}
